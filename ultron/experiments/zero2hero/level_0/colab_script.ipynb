{
  "nbformat": 4,
  "nbformat_minor": 0,
  "metadata": {
    "colab": {
      "name": "colab_script.ipynb",
      "provenance": [],
      "toc_visible": true,
      "authorship_tag": "ABX9TyN8++qV9IxvmGxwgIfsuq0v",
      "include_colab_link": true
    },
    "kernelspec": {
      "name": "python3",
      "display_name": "Python 3"
    }
  },
  "cells": [
    {
      "cell_type": "markdown",
      "metadata": {
        "id": "view-in-github",
        "colab_type": "text"
      },
      "source": [
        "<a href=\"https://colab.research.google.com/github/tianhaoz95/ultron/blob/dev%2Frl-level-1/ultron/experiments/zero2hero/level_0/colab_script.ipynb\" target=\"_parent\"><img src=\"https://colab.research.google.com/assets/colab-badge.svg\" alt=\"Open In Colab\"/></a>"
      ]
    },
    {
      "cell_type": "markdown",
      "metadata": {
        "id": "ixYtbSyo3E5r",
        "colab_type": "text"
      },
      "source": [
        "# Training script for zero2hero: level 0"
      ]
    },
    {
      "cell_type": "markdown",
      "metadata": {
        "id": "4jtJkfc_3eIg",
        "colab_type": "text"
      },
      "source": [
        "## Install packages"
      ]
    },
    {
      "cell_type": "code",
      "metadata": {
        "id": "xHKFfk013gub",
        "colab_type": "code",
        "colab": {}
      },
      "source": [
        "!pip install gitpython > /dev/null 2>&1"
      ],
      "execution_count": 2,
      "outputs": []
    },
    {
      "cell_type": "markdown",
      "metadata": {
        "id": "ZhWwGUAt4JZf",
        "colab_type": "text"
      },
      "source": [
        "## Import packages"
      ]
    },
    {
      "cell_type": "code",
      "metadata": {
        "id": "g-FpuZeY4Ipq",
        "colab_type": "code",
        "colab": {}
      },
      "source": [
        "import git\n",
        "import sys\n",
        "import os\n",
        "import shutil"
      ],
      "execution_count": 16,
      "outputs": []
    },
    {
      "cell_type": "markdown",
      "metadata": {
        "id": "m-44xiB94sJx",
        "colab_type": "text"
      },
      "source": [
        "## Declare config"
      ]
    },
    {
      "cell_type": "code",
      "metadata": {
        "id": "dNyp-zdV4r0n",
        "colab_type": "code",
        "colab": {}
      },
      "source": [
        "use_branch = 'dev/rl-level-1'\n",
        "github_url = 'https://github.com/tianhaoz95/ultron.git'\n",
        "repo_dir = os.path.join('./src', 'ultron')\n",
        "sub_project_dir = os.path.join(repo_dir, 'experiments', 'zero2hero', 'level_0')"
      ],
      "execution_count": 17,
      "outputs": []
    },
    {
      "cell_type": "markdown",
      "metadata": {
        "id": "LMTy2smb3Pd0",
        "colab_type": "text"
      },
      "source": [
        "## Clone repository"
      ]
    },
    {
      "cell_type": "code",
      "metadata": {
        "id": "MiLx9uer3CUg",
        "colab_type": "code",
        "colab": {}
      },
      "source": [
        "if os.path.exists(repo_dir):\n",
        "  shutil.rmtree(repo_dir)\n",
        "repo = git.Repo.clone_from(github_url, repo_dir, branch=use_branch)"
      ],
      "execution_count": 19,
      "outputs": []
    },
    {
      "cell_type": "code",
      "metadata": {
        "id": "ML_pESEV45ro",
        "colab_type": "code",
        "colab": {}
      },
      "source": [
        "if sub_project_dir not in sys.path:\n",
        "  sys.path.insert(0, sub_project_dir)"
      ],
      "execution_count": 21,
      "outputs": []
    },
    {
      "cell_type": "code",
      "metadata": {
        "id": "ZD5FA8-46cK2",
        "colab_type": "code",
        "colab": {}
      },
      "source": [
        ""
      ],
      "execution_count": null,
      "outputs": []
    }
  ]
}