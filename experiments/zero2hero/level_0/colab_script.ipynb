{
  "nbformat": 4,
  "nbformat_minor": 0,
  "metadata": {
    "colab": {
      "name": "colab_script.ipynb",
      "provenance": [],
      "machine_shape": "hm",
      "authorship_tag": "ABX9TyPZxbsZx4h88W4lffQmFZ3z",
      "include_colab_link": true
    },
    "kernelspec": {
      "name": "python3",
      "display_name": "Python 3"
    },
    "accelerator": "TPU"
  },
  "cells": [
    {
      "cell_type": "markdown",
      "metadata": {
        "id": "view-in-github",
        "colab_type": "text"
      },
      "source": [
        "<a href=\"https://colab.research.google.com/github/tianhaoz95/ultron/blob/dev%2Frl-level-1/experiments/zero2hero/level_0/colab_script.ipynb\" target=\"_parent\"><img src=\"https://colab.research.google.com/assets/colab-badge.svg\" alt=\"Open In Colab\"/></a>"
      ]
    },
    {
      "cell_type": "markdown",
      "metadata": {
        "id": "ixYtbSyo3E5r",
        "colab_type": "text"
      },
      "source": [
        "# Training script for zero2hero: level 0"
      ]
    },
    {
      "cell_type": "markdown",
      "metadata": {
        "id": "4jtJkfc_3eIg",
        "colab_type": "text"
      },
      "source": [
        "## Install packages"
      ]
    },
    {
      "cell_type": "code",
      "metadata": {
        "id": "e0dAjZCLceWM",
        "colab_type": "code",
        "colab": {
          "base_uri": "https://localhost:8080/",
          "height": 510
        },
        "outputId": "7169f2ca-65ba-4ac4-b078-ad07a237ff64"
      },
      "source": [
        "!pip show protobuf\n",
        "!pip uninstall protobuf python3-protobuf\n",
        "!pip install --upgrade protobuf"
      ],
      "execution_count": 14,
      "outputs": [
        {
          "output_type": "stream",
          "text": [
            "Name: protobuf\n",
            "Version: 3.12.2\n",
            "Summary: Protocol Buffers\n",
            "Home-page: https://developers.google.com/protocol-buffers/\n",
            "Author: None\n",
            "Author-email: None\n",
            "License: 3-Clause BSD License\n",
            "Location: /usr/local/lib/python3.6/dist-packages\n",
            "Requires: setuptools, six\n",
            "Required-by: tf-agents, tensorflow, tensorflow-metadata, tensorflow-hub, tensorflow-datasets, tensorboard, googleapis-common-protos, google-cloud-bigquery, google-api-core, chainer\n",
            "Uninstalling protobuf-3.12.2:\n",
            "  Would remove:\n",
            "    /usr/local/lib/python3.6/dist-packages/google/protobuf/*\n",
            "    /usr/local/lib/python3.6/dist-packages/protobuf-3.12.2-py3.6-nspkg.pth\n",
            "    /usr/local/lib/python3.6/dist-packages/protobuf-3.12.2.dist-info/*\n",
            "Proceed (y/n)? y\n",
            "  Successfully uninstalled protobuf-3.12.2\n",
            "\u001b[33mWARNING: Skipping python3-protobuf as it is not installed.\u001b[0m\n",
            "Collecting protobuf\n",
            "  Using cached https://files.pythonhosted.org/packages/28/05/9867ef8eafd12265267bee138fa2c46ebf34a276ea4cbe184cba4c606e8b/protobuf-3.12.2-cp36-cp36m-manylinux1_x86_64.whl\n",
            "Requirement already satisfied, skipping upgrade: setuptools in /usr/local/lib/python3.6/dist-packages (from protobuf) (47.3.1)\n",
            "Requirement already satisfied, skipping upgrade: six>=1.9 in /usr/local/lib/python3.6/dist-packages (from protobuf) (1.12.0)\n",
            "Installing collected packages: protobuf\n",
            "Successfully installed protobuf-3.12.2\n"
          ],
          "name": "stdout"
        },
        {
          "output_type": "display_data",
          "data": {
            "application/vnd.colab-display-data+json": {
              "pip_warning": {
                "packages": [
                  "google"
                ]
              }
            }
          },
          "metadata": {
            "tags": []
          }
        }
      ]
    },
    {
      "cell_type": "code",
      "metadata": {
        "id": "xHKFfk013gub",
        "colab_type": "code",
        "colab": {}
      },
      "source": [
        "!pip install gitpython > /dev/null 2>&1\n",
        "!pip install tf-agents > /dev/null 2>&1"
      ],
      "execution_count": 1,
      "outputs": []
    },
    {
      "cell_type": "markdown",
      "metadata": {
        "id": "ZhWwGUAt4JZf",
        "colab_type": "text"
      },
      "source": [
        "## Import packages"
      ]
    },
    {
      "cell_type": "code",
      "metadata": {
        "id": "g-FpuZeY4Ipq",
        "colab_type": "code",
        "colab": {}
      },
      "source": [
        "%matplotlib inline\n",
        "import git\n",
        "import sys\n",
        "import os\n",
        "import shutil\n",
        "import tensorflow as tf"
      ],
      "execution_count": 10,
      "outputs": []
    },
    {
      "cell_type": "code",
      "metadata": {
        "id": "qgu5WVZxAobK",
        "colab_type": "code",
        "colab": {
          "base_uri": "https://localhost:8080/",
          "height": 34
        },
        "outputId": "87bb5c4a-f3a4-4026-96cb-5ab92c37ac72"
      },
      "source": [
        "tf.__version__"
      ],
      "execution_count": 11,
      "outputs": [
        {
          "output_type": "execute_result",
          "data": {
            "text/plain": [
              "'2.2.0'"
            ]
          },
          "metadata": {
            "tags": []
          },
          "execution_count": 11
        }
      ]
    },
    {
      "cell_type": "markdown",
      "metadata": {
        "id": "m-44xiB94sJx",
        "colab_type": "text"
      },
      "source": [
        "## Declare config"
      ]
    },
    {
      "cell_type": "code",
      "metadata": {
        "id": "dNyp-zdV4r0n",
        "colab_type": "code",
        "colab": {}
      },
      "source": [
        "use_branch = 'dev/rl-level-1'\n",
        "github_url = 'https://github.com/tianhaoz95/ultron.git'\n",
        "repo_dir = os.path.join('./src', 'ultron')\n",
        "sub_project_dir = os.path.join(repo_dir, 'experiments', 'zero2hero', 'level_0')"
      ],
      "execution_count": 12,
      "outputs": []
    },
    {
      "cell_type": "markdown",
      "metadata": {
        "id": "LMTy2smb3Pd0",
        "colab_type": "text"
      },
      "source": [
        "## Clone repository"
      ]
    },
    {
      "cell_type": "code",
      "metadata": {
        "id": "MiLx9uer3CUg",
        "colab_type": "code",
        "colab": {}
      },
      "source": [
        "if os.path.exists(repo_dir):\n",
        "  shutil.rmtree(repo_dir)\n",
        "repo = git.Repo.clone_from(github_url, repo_dir, branch=use_branch)"
      ],
      "execution_count": 13,
      "outputs": []
    },
    {
      "cell_type": "code",
      "metadata": {
        "id": "ML_pESEV45ro",
        "colab_type": "code",
        "colab": {}
      },
      "source": [
        "if sub_project_dir not in sys.path:\n",
        "  sys.path.insert(0, sub_project_dir)"
      ],
      "execution_count": 14,
      "outputs": []
    },
    {
      "cell_type": "code",
      "metadata": {
        "id": "ZD5FA8-46cK2",
        "colab_type": "code",
        "colab": {}
      },
      "source": [
        "from train import train_model"
      ],
      "execution_count": 15,
      "outputs": []
    },
    {
      "cell_type": "code",
      "metadata": {
        "id": "gmuLw2M47vPd",
        "colab_type": "code",
        "colab": {
          "base_uri": "https://localhost:8080/",
          "height": 1000
        },
        "outputId": "c15d25b1-765f-4831-d858-126fc3a5c8ba"
      },
      "source": [
        "train_model(static_plot=True)"
      ],
      "execution_count": null,
      "outputs": [
        {
          "output_type": "stream",
          "text": [
            "Sample average return with random policy: \n",
            "22.5\n",
            "Dataset sample: \n",
            "<PrefetchDataset shapes: (Trajectory(step_type=(512, 2), observation=(512, 2, 4), action=(512, 2), policy_info=(), next_step_type=(512, 2), reward=(512, 2), discount=(512, 2)), BufferInfo(ids=(512, 2), probabilities=(512,))), types: (Trajectory(step_type=tf.int32, observation=tf.float32, action=tf.int64, policy_info=(), next_step_type=tf.int32, reward=tf.float32, discount=tf.float32), BufferInfo(ids=tf.int64, probabilities=tf.float32))>\n",
            "step=1/20000: avg_return=9.0, loss=4.4097700119018555\n",
            "INFO:tensorflow:Assets written to: ./models/assets\n"
          ],
          "name": "stdout"
        },
        {
          "output_type": "stream",
          "text": [
            "INFO:tensorflow:Assets written to: ./models/assets\n"
          ],
          "name": "stderr"
        },
        {
          "output_type": "stream",
          "text": [
            "step=2/20000: avg_return=9.300000190734863, loss=5.524616241455078\n",
            "INFO:tensorflow:Assets written to: ./models/assets\n"
          ],
          "name": "stdout"
        },
        {
          "output_type": "stream",
          "text": [
            "INFO:tensorflow:Assets written to: ./models/assets\n"
          ],
          "name": "stderr"
        },
        {
          "output_type": "stream",
          "text": [
            "step=3/20000: avg_return=9.600000381469727, loss=4.06303596496582\n",
            "INFO:tensorflow:Assets written to: ./models/assets\n"
          ],
          "name": "stdout"
        },
        {
          "output_type": "stream",
          "text": [
            "INFO:tensorflow:Assets written to: ./models/assets\n"
          ],
          "name": "stderr"
        },
        {
          "output_type": "stream",
          "text": [
            "step=4/20000: avg_return=9.600000381469727, loss=4.222832679748535\n",
            "INFO:tensorflow:Assets written to: ./models/assets\n"
          ],
          "name": "stdout"
        },
        {
          "output_type": "stream",
          "text": [
            "INFO:tensorflow:Assets written to: ./models/assets\n"
          ],
          "name": "stderr"
        },
        {
          "output_type": "stream",
          "text": [
            "step=5/20000: avg_return=9.300000190734863, loss=4.487907409667969\n",
            "INFO:tensorflow:Assets written to: ./models/assets\n"
          ],
          "name": "stdout"
        },
        {
          "output_type": "stream",
          "text": [
            "INFO:tensorflow:Assets written to: ./models/assets\n"
          ],
          "name": "stderr"
        },
        {
          "output_type": "stream",
          "text": [
            "step=6/20000: avg_return=9.5, loss=4.871617317199707\n",
            "INFO:tensorflow:Assets written to: ./models/assets\n"
          ],
          "name": "stdout"
        },
        {
          "output_type": "stream",
          "text": [
            "INFO:tensorflow:Assets written to: ./models/assets\n"
          ],
          "name": "stderr"
        },
        {
          "output_type": "stream",
          "text": [
            "step=7/20000: avg_return=9.300000190734863, loss=5.393520832061768\n",
            "INFO:tensorflow:Assets written to: ./models/assets\n"
          ],
          "name": "stdout"
        },
        {
          "output_type": "stream",
          "text": [
            "INFO:tensorflow:Assets written to: ./models/assets\n"
          ],
          "name": "stderr"
        },
        {
          "output_type": "stream",
          "text": [
            "step=8/20000: avg_return=9.800000190734863, loss=4.49821662902832\n",
            "INFO:tensorflow:Assets written to: ./models/assets\n"
          ],
          "name": "stdout"
        },
        {
          "output_type": "stream",
          "text": [
            "INFO:tensorflow:Assets written to: ./models/assets\n"
          ],
          "name": "stderr"
        },
        {
          "output_type": "stream",
          "text": [
            "step=9/20000: avg_return=9.100000381469727, loss=4.227679252624512\n",
            "INFO:tensorflow:Assets written to: ./models/assets\n"
          ],
          "name": "stdout"
        },
        {
          "output_type": "stream",
          "text": [
            "INFO:tensorflow:Assets written to: ./models/assets\n"
          ],
          "name": "stderr"
        },
        {
          "output_type": "stream",
          "text": [
            "step=10/20000: avg_return=9.100000381469727, loss=5.440964698791504\n",
            "INFO:tensorflow:Assets written to: ./models/assets\n"
          ],
          "name": "stdout"
        },
        {
          "output_type": "stream",
          "text": [
            "INFO:tensorflow:Assets written to: ./models/assets\n"
          ],
          "name": "stderr"
        },
        {
          "output_type": "stream",
          "text": [
            "step=11/20000: avg_return=9.300000190734863, loss=4.6820831298828125\n",
            "INFO:tensorflow:Assets written to: ./models/assets\n"
          ],
          "name": "stdout"
        },
        {
          "output_type": "stream",
          "text": [
            "INFO:tensorflow:Assets written to: ./models/assets\n"
          ],
          "name": "stderr"
        },
        {
          "output_type": "stream",
          "text": [
            "step=12/20000: avg_return=9.699999809265137, loss=3.8827381134033203\n",
            "INFO:tensorflow:Assets written to: ./models/assets\n"
          ],
          "name": "stdout"
        },
        {
          "output_type": "stream",
          "text": [
            "INFO:tensorflow:Assets written to: ./models/assets\n"
          ],
          "name": "stderr"
        },
        {
          "output_type": "stream",
          "text": [
            "step=13/20000: avg_return=8.899999618530273, loss=4.112044334411621\n",
            "INFO:tensorflow:Assets written to: ./models/assets\n"
          ],
          "name": "stdout"
        },
        {
          "output_type": "stream",
          "text": [
            "INFO:tensorflow:Assets written to: ./models/assets\n"
          ],
          "name": "stderr"
        },
        {
          "output_type": "stream",
          "text": [
            "step=14/20000: avg_return=9.5, loss=5.214661598205566\n",
            "INFO:tensorflow:Assets written to: ./models/assets\n"
          ],
          "name": "stdout"
        },
        {
          "output_type": "stream",
          "text": [
            "INFO:tensorflow:Assets written to: ./models/assets\n"
          ],
          "name": "stderr"
        },
        {
          "output_type": "stream",
          "text": [
            "step=15/20000: avg_return=9.600000381469727, loss=3.217287063598633\n",
            "INFO:tensorflow:Assets written to: ./models/assets\n"
          ],
          "name": "stdout"
        },
        {
          "output_type": "stream",
          "text": [
            "INFO:tensorflow:Assets written to: ./models/assets\n"
          ],
          "name": "stderr"
        },
        {
          "output_type": "stream",
          "text": [
            "step=16/20000: avg_return=9.199999809265137, loss=4.438953876495361\n",
            "INFO:tensorflow:Assets written to: ./models/assets\n"
          ],
          "name": "stdout"
        },
        {
          "output_type": "stream",
          "text": [
            "INFO:tensorflow:Assets written to: ./models/assets\n"
          ],
          "name": "stderr"
        },
        {
          "output_type": "stream",
          "text": [
            "step=17/20000: avg_return=9.399999618530273, loss=4.990772247314453\n",
            "INFO:tensorflow:Assets written to: ./models/assets\n"
          ],
          "name": "stdout"
        },
        {
          "output_type": "stream",
          "text": [
            "INFO:tensorflow:Assets written to: ./models/assets\n"
          ],
          "name": "stderr"
        },
        {
          "output_type": "stream",
          "text": [
            "step=18/20000: avg_return=9.5, loss=3.686479330062866\n",
            "INFO:tensorflow:Assets written to: ./models/assets\n"
          ],
          "name": "stdout"
        },
        {
          "output_type": "stream",
          "text": [
            "INFO:tensorflow:Assets written to: ./models/assets\n"
          ],
          "name": "stderr"
        },
        {
          "output_type": "stream",
          "text": [
            "step=19/20000: avg_return=9.0, loss=4.624403476715088\n",
            "INFO:tensorflow:Assets written to: ./models/assets\n"
          ],
          "name": "stdout"
        },
        {
          "output_type": "stream",
          "text": [
            "INFO:tensorflow:Assets written to: ./models/assets\n"
          ],
          "name": "stderr"
        },
        {
          "output_type": "stream",
          "text": [
            "step=20/20000: avg_return=9.5, loss=4.046951770782471\n",
            "INFO:tensorflow:Assets written to: ./models/assets\n"
          ],
          "name": "stdout"
        },
        {
          "output_type": "stream",
          "text": [
            "INFO:tensorflow:Assets written to: ./models/assets\n"
          ],
          "name": "stderr"
        },
        {
          "output_type": "stream",
          "text": [
            "step=21/20000: avg_return=9.199999809265137, loss=4.32758092880249\n",
            "INFO:tensorflow:Assets written to: ./models/assets\n"
          ],
          "name": "stdout"
        },
        {
          "output_type": "stream",
          "text": [
            "INFO:tensorflow:Assets written to: ./models/assets\n",
            "./src/ultron/experiments/zero2hero/level_0/train.py:156: RuntimeWarning: More than 20 figures have been opened. Figures created through the pyplot interface (`matplotlib.pyplot.figure`) are retained until explicitly closed and may consume too much memory. (To control this warning, see the rcParam `figure.max_open_warning`).\n",
            "  fig, (ax1, ax2) = plt.subplots(2)\n"
          ],
          "name": "stderr"
        },
        {
          "output_type": "stream",
          "text": [
            "step=22/20000: avg_return=9.0, loss=3.993852376937866\n",
            "INFO:tensorflow:Assets written to: ./models/assets\n"
          ],
          "name": "stdout"
        },
        {
          "output_type": "stream",
          "text": [
            "INFO:tensorflow:Assets written to: ./models/assets\n"
          ],
          "name": "stderr"
        },
        {
          "output_type": "stream",
          "text": [
            "step=23/20000: avg_return=9.800000190734863, loss=4.046858310699463\n",
            "INFO:tensorflow:Assets written to: ./models/assets\n"
          ],
          "name": "stdout"
        },
        {
          "output_type": "stream",
          "text": [
            "INFO:tensorflow:Assets written to: ./models/assets\n"
          ],
          "name": "stderr"
        },
        {
          "output_type": "stream",
          "text": [
            "step=24/20000: avg_return=9.600000381469727, loss=3.7794084548950195\n",
            "INFO:tensorflow:Assets written to: ./models/assets\n"
          ],
          "name": "stdout"
        },
        {
          "output_type": "stream",
          "text": [
            "INFO:tensorflow:Assets written to: ./models/assets\n"
          ],
          "name": "stderr"
        },
        {
          "output_type": "stream",
          "text": [
            "step=25/20000: avg_return=9.600000381469727, loss=4.123581409454346\n",
            "INFO:tensorflow:Assets written to: ./models/assets\n"
          ],
          "name": "stdout"
        },
        {
          "output_type": "stream",
          "text": [
            "INFO:tensorflow:Assets written to: ./models/assets\n"
          ],
          "name": "stderr"
        },
        {
          "output_type": "stream",
          "text": [
            "step=26/20000: avg_return=9.399999618530273, loss=3.6158246994018555\n",
            "INFO:tensorflow:Assets written to: ./models/assets\n"
          ],
          "name": "stdout"
        },
        {
          "output_type": "stream",
          "text": [
            "INFO:tensorflow:Assets written to: ./models/assets\n"
          ],
          "name": "stderr"
        },
        {
          "output_type": "stream",
          "text": [
            "step=27/20000: avg_return=9.300000190734863, loss=4.028534889221191\n",
            "INFO:tensorflow:Assets written to: ./models/assets\n"
          ],
          "name": "stdout"
        },
        {
          "output_type": "stream",
          "text": [
            "INFO:tensorflow:Assets written to: ./models/assets\n"
          ],
          "name": "stderr"
        },
        {
          "output_type": "stream",
          "text": [
            "step=28/20000: avg_return=9.100000381469727, loss=3.8768224716186523\n",
            "INFO:tensorflow:Assets written to: ./models/assets\n"
          ],
          "name": "stdout"
        },
        {
          "output_type": "stream",
          "text": [
            "INFO:tensorflow:Assets written to: ./models/assets\n"
          ],
          "name": "stderr"
        },
        {
          "output_type": "stream",
          "text": [
            "step=29/20000: avg_return=9.100000381469727, loss=4.202968597412109\n",
            "INFO:tensorflow:Assets written to: ./models/assets\n"
          ],
          "name": "stdout"
        },
        {
          "output_type": "stream",
          "text": [
            "INFO:tensorflow:Assets written to: ./models/assets\n"
          ],
          "name": "stderr"
        },
        {
          "output_type": "stream",
          "text": [
            "step=30/20000: avg_return=9.699999809265137, loss=3.6612682342529297\n",
            "INFO:tensorflow:Assets written to: ./models/assets\n"
          ],
          "name": "stdout"
        },
        {
          "output_type": "stream",
          "text": [
            "INFO:tensorflow:Assets written to: ./models/assets\n"
          ],
          "name": "stderr"
        },
        {
          "output_type": "stream",
          "text": [
            "step=31/20000: avg_return=9.600000381469727, loss=4.027207851409912\n",
            "INFO:tensorflow:Assets written to: ./models/assets\n"
          ],
          "name": "stdout"
        },
        {
          "output_type": "stream",
          "text": [
            "INFO:tensorflow:Assets written to: ./models/assets\n"
          ],
          "name": "stderr"
        },
        {
          "output_type": "stream",
          "text": [
            "step=32/20000: avg_return=9.5, loss=3.1235978603363037\n",
            "INFO:tensorflow:Assets written to: ./models/assets\n"
          ],
          "name": "stdout"
        },
        {
          "output_type": "stream",
          "text": [
            "INFO:tensorflow:Assets written to: ./models/assets\n"
          ],
          "name": "stderr"
        },
        {
          "output_type": "stream",
          "text": [
            "step=33/20000: avg_return=9.399999618530273, loss=2.9012043476104736\n",
            "INFO:tensorflow:Assets written to: ./models/assets\n"
          ],
          "name": "stdout"
        },
        {
          "output_type": "stream",
          "text": [
            "INFO:tensorflow:Assets written to: ./models/assets\n"
          ],
          "name": "stderr"
        },
        {
          "output_type": "stream",
          "text": [
            "step=34/20000: avg_return=9.300000190734863, loss=3.2083773612976074\n",
            "INFO:tensorflow:Assets written to: ./models/assets\n"
          ],
          "name": "stdout"
        },
        {
          "output_type": "stream",
          "text": [
            "INFO:tensorflow:Assets written to: ./models/assets\n"
          ],
          "name": "stderr"
        },
        {
          "output_type": "stream",
          "text": [
            "step=35/20000: avg_return=9.300000190734863, loss=2.4690475463867188\n",
            "INFO:tensorflow:Assets written to: ./models/assets\n"
          ],
          "name": "stdout"
        },
        {
          "output_type": "stream",
          "text": [
            "INFO:tensorflow:Assets written to: ./models/assets\n"
          ],
          "name": "stderr"
        },
        {
          "output_type": "stream",
          "text": [
            "step=36/20000: avg_return=9.600000381469727, loss=2.6785264015197754\n",
            "INFO:tensorflow:Assets written to: ./models/assets\n"
          ],
          "name": "stdout"
        },
        {
          "output_type": "stream",
          "text": [
            "INFO:tensorflow:Assets written to: ./models/assets\n"
          ],
          "name": "stderr"
        },
        {
          "output_type": "stream",
          "text": [
            "step=37/20000: avg_return=9.5, loss=4.253628730773926\n",
            "INFO:tensorflow:Assets written to: ./models/assets\n"
          ],
          "name": "stdout"
        },
        {
          "output_type": "stream",
          "text": [
            "INFO:tensorflow:Assets written to: ./models/assets\n"
          ],
          "name": "stderr"
        },
        {
          "output_type": "stream",
          "text": [
            "step=38/20000: avg_return=9.300000190734863, loss=3.7326626777648926\n",
            "INFO:tensorflow:Assets written to: ./models/assets\n"
          ],
          "name": "stdout"
        },
        {
          "output_type": "stream",
          "text": [
            "INFO:tensorflow:Assets written to: ./models/assets\n"
          ],
          "name": "stderr"
        },
        {
          "output_type": "stream",
          "text": [
            "step=39/20000: avg_return=9.399999618530273, loss=3.0526254177093506\n",
            "INFO:tensorflow:Assets written to: ./models/assets\n"
          ],
          "name": "stdout"
        },
        {
          "output_type": "stream",
          "text": [
            "INFO:tensorflow:Assets written to: ./models/assets\n"
          ],
          "name": "stderr"
        },
        {
          "output_type": "stream",
          "text": [
            "step=40/20000: avg_return=9.5, loss=3.1477341651916504\n",
            "INFO:tensorflow:Assets written to: ./models/assets\n"
          ],
          "name": "stdout"
        },
        {
          "output_type": "stream",
          "text": [
            "INFO:tensorflow:Assets written to: ./models/assets\n"
          ],
          "name": "stderr"
        },
        {
          "output_type": "stream",
          "text": [
            "step=41/20000: avg_return=9.199999809265137, loss=2.970442056655884\n",
            "INFO:tensorflow:Assets written to: ./models/assets\n"
          ],
          "name": "stdout"
        },
        {
          "output_type": "stream",
          "text": [
            "INFO:tensorflow:Assets written to: ./models/assets\n"
          ],
          "name": "stderr"
        },
        {
          "output_type": "stream",
          "text": [
            "step=42/20000: avg_return=9.0, loss=2.586482524871826\n",
            "INFO:tensorflow:Assets written to: ./models/assets\n"
          ],
          "name": "stdout"
        },
        {
          "output_type": "stream",
          "text": [
            "INFO:tensorflow:Assets written to: ./models/assets\n"
          ],
          "name": "stderr"
        },
        {
          "output_type": "stream",
          "text": [
            "step=43/20000: avg_return=9.5, loss=2.5355896949768066\n",
            "INFO:tensorflow:Assets written to: ./models/assets\n"
          ],
          "name": "stdout"
        },
        {
          "output_type": "stream",
          "text": [
            "INFO:tensorflow:Assets written to: ./models/assets\n"
          ],
          "name": "stderr"
        },
        {
          "output_type": "stream",
          "text": [
            "step=44/20000: avg_return=9.399999618530273, loss=2.398838520050049\n",
            "INFO:tensorflow:Assets written to: ./models/assets\n"
          ],
          "name": "stdout"
        },
        {
          "output_type": "stream",
          "text": [
            "INFO:tensorflow:Assets written to: ./models/assets\n"
          ],
          "name": "stderr"
        },
        {
          "output_type": "stream",
          "text": [
            "step=45/20000: avg_return=9.300000190734863, loss=2.6203784942626953\n",
            "INFO:tensorflow:Assets written to: ./models/assets\n"
          ],
          "name": "stdout"
        },
        {
          "output_type": "stream",
          "text": [
            "INFO:tensorflow:Assets written to: ./models/assets\n"
          ],
          "name": "stderr"
        },
        {
          "output_type": "stream",
          "text": [
            "step=46/20000: avg_return=9.399999618530273, loss=2.0467753410339355\n",
            "INFO:tensorflow:Assets written to: ./models/assets\n"
          ],
          "name": "stdout"
        },
        {
          "output_type": "stream",
          "text": [
            "INFO:tensorflow:Assets written to: ./models/assets\n"
          ],
          "name": "stderr"
        },
        {
          "output_type": "stream",
          "text": [
            "step=47/20000: avg_return=9.399999618530273, loss=2.821948766708374\n",
            "INFO:tensorflow:Assets written to: ./models/assets\n"
          ],
          "name": "stdout"
        },
        {
          "output_type": "stream",
          "text": [
            "INFO:tensorflow:Assets written to: ./models/assets\n"
          ],
          "name": "stderr"
        },
        {
          "output_type": "stream",
          "text": [
            "step=48/20000: avg_return=9.0, loss=3.5942816734313965\n",
            "INFO:tensorflow:Assets written to: ./models/assets\n"
          ],
          "name": "stdout"
        },
        {
          "output_type": "stream",
          "text": [
            "INFO:tensorflow:Assets written to: ./models/assets\n"
          ],
          "name": "stderr"
        },
        {
          "output_type": "stream",
          "text": [
            "step=49/20000: avg_return=9.699999809265137, loss=2.385127544403076\n",
            "INFO:tensorflow:Assets written to: ./models/assets\n"
          ],
          "name": "stdout"
        },
        {
          "output_type": "stream",
          "text": [
            "INFO:tensorflow:Assets written to: ./models/assets\n"
          ],
          "name": "stderr"
        },
        {
          "output_type": "stream",
          "text": [
            "step=50/20000: avg_return=9.5, loss=2.158985137939453\n",
            "INFO:tensorflow:Assets written to: ./models/assets\n"
          ],
          "name": "stdout"
        },
        {
          "output_type": "stream",
          "text": [
            "INFO:tensorflow:Assets written to: ./models/assets\n"
          ],
          "name": "stderr"
        },
        {
          "output_type": "stream",
          "text": [
            "step=51/20000: avg_return=9.199999809265137, loss=2.43261981010437\n",
            "INFO:tensorflow:Assets written to: ./models/assets\n"
          ],
          "name": "stdout"
        },
        {
          "output_type": "stream",
          "text": [
            "INFO:tensorflow:Assets written to: ./models/assets\n"
          ],
          "name": "stderr"
        },
        {
          "output_type": "stream",
          "text": [
            "step=52/20000: avg_return=9.199999809265137, loss=3.02827525138855\n",
            "INFO:tensorflow:Assets written to: ./models/assets\n"
          ],
          "name": "stdout"
        },
        {
          "output_type": "stream",
          "text": [
            "INFO:tensorflow:Assets written to: ./models/assets\n"
          ],
          "name": "stderr"
        },
        {
          "output_type": "stream",
          "text": [
            "step=53/20000: avg_return=9.300000190734863, loss=2.6351847648620605\n",
            "INFO:tensorflow:Assets written to: ./models/assets\n"
          ],
          "name": "stdout"
        },
        {
          "output_type": "stream",
          "text": [
            "INFO:tensorflow:Assets written to: ./models/assets\n"
          ],
          "name": "stderr"
        },
        {
          "output_type": "stream",
          "text": [
            "step=54/20000: avg_return=9.0, loss=3.060767412185669\n",
            "INFO:tensorflow:Assets written to: ./models/assets\n"
          ],
          "name": "stdout"
        },
        {
          "output_type": "stream",
          "text": [
            "INFO:tensorflow:Assets written to: ./models/assets\n"
          ],
          "name": "stderr"
        },
        {
          "output_type": "stream",
          "text": [
            "step=55/20000: avg_return=9.100000381469727, loss=3.931246280670166\n",
            "INFO:tensorflow:Assets written to: ./models/assets\n"
          ],
          "name": "stdout"
        },
        {
          "output_type": "stream",
          "text": [
            "INFO:tensorflow:Assets written to: ./models/assets\n"
          ],
          "name": "stderr"
        },
        {
          "output_type": "stream",
          "text": [
            "step=56/20000: avg_return=9.600000381469727, loss=2.774188280105591\n",
            "INFO:tensorflow:Assets written to: ./models/assets\n"
          ],
          "name": "stdout"
        },
        {
          "output_type": "stream",
          "text": [
            "INFO:tensorflow:Assets written to: ./models/assets\n"
          ],
          "name": "stderr"
        },
        {
          "output_type": "stream",
          "text": [
            "step=57/20000: avg_return=9.5, loss=2.401771068572998\n",
            "INFO:tensorflow:Assets written to: ./models/assets\n"
          ],
          "name": "stdout"
        },
        {
          "output_type": "stream",
          "text": [
            "INFO:tensorflow:Assets written to: ./models/assets\n"
          ],
          "name": "stderr"
        },
        {
          "output_type": "stream",
          "text": [
            "step=58/20000: avg_return=9.5, loss=4.164280891418457\n",
            "INFO:tensorflow:Assets written to: ./models/assets\n"
          ],
          "name": "stdout"
        },
        {
          "output_type": "stream",
          "text": [
            "INFO:tensorflow:Assets written to: ./models/assets\n"
          ],
          "name": "stderr"
        },
        {
          "output_type": "stream",
          "text": [
            "step=59/20000: avg_return=9.5, loss=2.5025882720947266\n",
            "INFO:tensorflow:Assets written to: ./models/assets\n"
          ],
          "name": "stdout"
        },
        {
          "output_type": "stream",
          "text": [
            "INFO:tensorflow:Assets written to: ./models/assets\n"
          ],
          "name": "stderr"
        },
        {
          "output_type": "stream",
          "text": [
            "step=60/20000: avg_return=9.100000381469727, loss=1.9619802236557007\n",
            "INFO:tensorflow:Assets written to: ./models/assets\n"
          ],
          "name": "stdout"
        },
        {
          "output_type": "stream",
          "text": [
            "INFO:tensorflow:Assets written to: ./models/assets\n"
          ],
          "name": "stderr"
        },
        {
          "output_type": "stream",
          "text": [
            "step=61/20000: avg_return=9.100000381469727, loss=1.9371343851089478\n",
            "INFO:tensorflow:Assets written to: ./models/assets\n"
          ],
          "name": "stdout"
        },
        {
          "output_type": "stream",
          "text": [
            "INFO:tensorflow:Assets written to: ./models/assets\n"
          ],
          "name": "stderr"
        },
        {
          "output_type": "stream",
          "text": [
            "step=62/20000: avg_return=9.5, loss=1.7078310251235962\n",
            "INFO:tensorflow:Assets written to: ./models/assets\n"
          ],
          "name": "stdout"
        },
        {
          "output_type": "stream",
          "text": [
            "INFO:tensorflow:Assets written to: ./models/assets\n"
          ],
          "name": "stderr"
        },
        {
          "output_type": "stream",
          "text": [
            "step=63/20000: avg_return=9.199999809265137, loss=1.9373137950897217\n",
            "INFO:tensorflow:Assets written to: ./models/assets\n"
          ],
          "name": "stdout"
        },
        {
          "output_type": "stream",
          "text": [
            "INFO:tensorflow:Assets written to: ./models/assets\n"
          ],
          "name": "stderr"
        },
        {
          "output_type": "stream",
          "text": [
            "step=64/20000: avg_return=9.800000190734863, loss=1.967706322669983\n",
            "INFO:tensorflow:Assets written to: ./models/assets\n"
          ],
          "name": "stdout"
        },
        {
          "output_type": "stream",
          "text": [
            "INFO:tensorflow:Assets written to: ./models/assets\n"
          ],
          "name": "stderr"
        },
        {
          "output_type": "stream",
          "text": [
            "step=65/20000: avg_return=9.5, loss=1.6316179037094116\n",
            "INFO:tensorflow:Assets written to: ./models/assets\n"
          ],
          "name": "stdout"
        },
        {
          "output_type": "stream",
          "text": [
            "INFO:tensorflow:Assets written to: ./models/assets\n"
          ],
          "name": "stderr"
        },
        {
          "output_type": "stream",
          "text": [
            "step=66/20000: avg_return=9.5, loss=1.4995017051696777\n",
            "INFO:tensorflow:Assets written to: ./models/assets\n"
          ],
          "name": "stdout"
        },
        {
          "output_type": "stream",
          "text": [
            "INFO:tensorflow:Assets written to: ./models/assets\n"
          ],
          "name": "stderr"
        },
        {
          "output_type": "stream",
          "text": [
            "step=67/20000: avg_return=9.600000381469727, loss=1.3521270751953125\n",
            "INFO:tensorflow:Assets written to: ./models/assets\n"
          ],
          "name": "stdout"
        },
        {
          "output_type": "stream",
          "text": [
            "INFO:tensorflow:Assets written to: ./models/assets\n"
          ],
          "name": "stderr"
        },
        {
          "output_type": "stream",
          "text": [
            "step=68/20000: avg_return=9.100000381469727, loss=2.232455253601074\n",
            "INFO:tensorflow:Assets written to: ./models/assets\n"
          ],
          "name": "stdout"
        },
        {
          "output_type": "stream",
          "text": [
            "INFO:tensorflow:Assets written to: ./models/assets\n"
          ],
          "name": "stderr"
        },
        {
          "output_type": "stream",
          "text": [
            "step=69/20000: avg_return=9.100000381469727, loss=3.078453540802002\n",
            "INFO:tensorflow:Assets written to: ./models/assets\n"
          ],
          "name": "stdout"
        },
        {
          "output_type": "stream",
          "text": [
            "INFO:tensorflow:Assets written to: ./models/assets\n"
          ],
          "name": "stderr"
        },
        {
          "output_type": "stream",
          "text": [
            "step=70/20000: avg_return=9.600000381469727, loss=1.5709482431411743\n",
            "INFO:tensorflow:Assets written to: ./models/assets\n"
          ],
          "name": "stdout"
        },
        {
          "output_type": "stream",
          "text": [
            "INFO:tensorflow:Assets written to: ./models/assets\n"
          ],
          "name": "stderr"
        },
        {
          "output_type": "stream",
          "text": [
            "step=71/20000: avg_return=9.199999809265137, loss=1.454791784286499\n",
            "INFO:tensorflow:Assets written to: ./models/assets\n"
          ],
          "name": "stdout"
        },
        {
          "output_type": "stream",
          "text": [
            "INFO:tensorflow:Assets written to: ./models/assets\n"
          ],
          "name": "stderr"
        },
        {
          "output_type": "stream",
          "text": [
            "step=72/20000: avg_return=9.5, loss=1.8829939365386963\n",
            "INFO:tensorflow:Assets written to: ./models/assets\n"
          ],
          "name": "stdout"
        },
        {
          "output_type": "stream",
          "text": [
            "INFO:tensorflow:Assets written to: ./models/assets\n"
          ],
          "name": "stderr"
        },
        {
          "output_type": "stream",
          "text": [
            "step=73/20000: avg_return=9.300000190734863, loss=1.4424645900726318\n",
            "INFO:tensorflow:Assets written to: ./models/assets\n"
          ],
          "name": "stdout"
        },
        {
          "output_type": "stream",
          "text": [
            "INFO:tensorflow:Assets written to: ./models/assets\n"
          ],
          "name": "stderr"
        },
        {
          "output_type": "stream",
          "text": [
            "step=74/20000: avg_return=9.699999809265137, loss=1.3651758432388306\n",
            "INFO:tensorflow:Assets written to: ./models/assets\n"
          ],
          "name": "stdout"
        },
        {
          "output_type": "stream",
          "text": [
            "INFO:tensorflow:Assets written to: ./models/assets\n"
          ],
          "name": "stderr"
        },
        {
          "output_type": "stream",
          "text": [
            "step=75/20000: avg_return=9.300000190734863, loss=1.269212007522583\n",
            "INFO:tensorflow:Assets written to: ./models/assets\n"
          ],
          "name": "stdout"
        },
        {
          "output_type": "stream",
          "text": [
            "INFO:tensorflow:Assets written to: ./models/assets\n"
          ],
          "name": "stderr"
        },
        {
          "output_type": "stream",
          "text": [
            "step=76/20000: avg_return=9.5, loss=1.4993782043457031\n",
            "INFO:tensorflow:Assets written to: ./models/assets\n"
          ],
          "name": "stdout"
        },
        {
          "output_type": "stream",
          "text": [
            "INFO:tensorflow:Assets written to: ./models/assets\n"
          ],
          "name": "stderr"
        },
        {
          "output_type": "stream",
          "text": [
            "step=77/20000: avg_return=9.300000190734863, loss=2.5242886543273926\n",
            "INFO:tensorflow:Assets written to: ./models/assets\n"
          ],
          "name": "stdout"
        },
        {
          "output_type": "stream",
          "text": [
            "INFO:tensorflow:Assets written to: ./models/assets\n"
          ],
          "name": "stderr"
        },
        {
          "output_type": "stream",
          "text": [
            "step=78/20000: avg_return=9.199999809265137, loss=1.33036470413208\n",
            "INFO:tensorflow:Assets written to: ./models/assets\n"
          ],
          "name": "stdout"
        },
        {
          "output_type": "stream",
          "text": [
            "INFO:tensorflow:Assets written to: ./models/assets\n"
          ],
          "name": "stderr"
        },
        {
          "output_type": "stream",
          "text": [
            "step=79/20000: avg_return=9.300000190734863, loss=1.7911028861999512\n",
            "INFO:tensorflow:Assets written to: ./models/assets\n"
          ],
          "name": "stdout"
        },
        {
          "output_type": "stream",
          "text": [
            "INFO:tensorflow:Assets written to: ./models/assets\n"
          ],
          "name": "stderr"
        },
        {
          "output_type": "stream",
          "text": [
            "step=80/20000: avg_return=9.300000190734863, loss=1.4651952981948853\n",
            "INFO:tensorflow:Assets written to: ./models/assets\n"
          ],
          "name": "stdout"
        },
        {
          "output_type": "stream",
          "text": [
            "INFO:tensorflow:Assets written to: ./models/assets\n"
          ],
          "name": "stderr"
        },
        {
          "output_type": "stream",
          "text": [
            "step=81/20000: avg_return=9.800000190734863, loss=1.3681544065475464\n",
            "INFO:tensorflow:Assets written to: ./models/assets\n"
          ],
          "name": "stdout"
        },
        {
          "output_type": "stream",
          "text": [
            "INFO:tensorflow:Assets written to: ./models/assets\n"
          ],
          "name": "stderr"
        },
        {
          "output_type": "stream",
          "text": [
            "step=82/20000: avg_return=9.199999809265137, loss=1.3895642757415771\n",
            "INFO:tensorflow:Assets written to: ./models/assets\n"
          ],
          "name": "stdout"
        },
        {
          "output_type": "stream",
          "text": [
            "INFO:tensorflow:Assets written to: ./models/assets\n"
          ],
          "name": "stderr"
        },
        {
          "output_type": "stream",
          "text": [
            "step=83/20000: avg_return=9.899999618530273, loss=3.663020133972168\n",
            "INFO:tensorflow:Assets written to: ./models/assets\n"
          ],
          "name": "stdout"
        },
        {
          "output_type": "stream",
          "text": [
            "INFO:tensorflow:Assets written to: ./models/assets\n"
          ],
          "name": "stderr"
        },
        {
          "output_type": "stream",
          "text": [
            "step=84/20000: avg_return=9.800000190734863, loss=2.4657952785491943\n",
            "INFO:tensorflow:Assets written to: ./models/assets\n"
          ],
          "name": "stdout"
        },
        {
          "output_type": "stream",
          "text": [
            "INFO:tensorflow:Assets written to: ./models/assets\n"
          ],
          "name": "stderr"
        },
        {
          "output_type": "stream",
          "text": [
            "step=85/20000: avg_return=9.399999618530273, loss=1.3176443576812744\n",
            "INFO:tensorflow:Assets written to: ./models/assets\n"
          ],
          "name": "stdout"
        },
        {
          "output_type": "stream",
          "text": [
            "INFO:tensorflow:Assets written to: ./models/assets\n"
          ],
          "name": "stderr"
        },
        {
          "output_type": "stream",
          "text": [
            "step=86/20000: avg_return=9.399999618530273, loss=2.5060434341430664\n",
            "INFO:tensorflow:Assets written to: ./models/assets\n"
          ],
          "name": "stdout"
        },
        {
          "output_type": "stream",
          "text": [
            "INFO:tensorflow:Assets written to: ./models/assets\n"
          ],
          "name": "stderr"
        },
        {
          "output_type": "stream",
          "text": [
            "step=87/20000: avg_return=9.699999809265137, loss=1.1324279308319092\n",
            "INFO:tensorflow:Assets written to: ./models/assets\n"
          ],
          "name": "stdout"
        },
        {
          "output_type": "stream",
          "text": [
            "INFO:tensorflow:Assets written to: ./models/assets\n"
          ],
          "name": "stderr"
        },
        {
          "output_type": "stream",
          "text": [
            "step=88/20000: avg_return=9.0, loss=1.172891616821289\n",
            "INFO:tensorflow:Assets written to: ./models/assets\n"
          ],
          "name": "stdout"
        },
        {
          "output_type": "stream",
          "text": [
            "INFO:tensorflow:Assets written to: ./models/assets\n"
          ],
          "name": "stderr"
        },
        {
          "output_type": "stream",
          "text": [
            "step=89/20000: avg_return=8.899999618530273, loss=1.0919561386108398\n",
            "INFO:tensorflow:Assets written to: ./models/assets\n"
          ],
          "name": "stdout"
        },
        {
          "output_type": "stream",
          "text": [
            "INFO:tensorflow:Assets written to: ./models/assets\n"
          ],
          "name": "stderr"
        },
        {
          "output_type": "stream",
          "text": [
            "step=90/20000: avg_return=9.300000190734863, loss=1.1331968307495117\n",
            "INFO:tensorflow:Assets written to: ./models/assets\n"
          ],
          "name": "stdout"
        },
        {
          "output_type": "stream",
          "text": [
            "INFO:tensorflow:Assets written to: ./models/assets\n"
          ],
          "name": "stderr"
        },
        {
          "output_type": "stream",
          "text": [
            "step=91/20000: avg_return=9.399999618530273, loss=1.1930639743804932\n",
            "INFO:tensorflow:Assets written to: ./models/assets\n"
          ],
          "name": "stdout"
        },
        {
          "output_type": "stream",
          "text": [
            "INFO:tensorflow:Assets written to: ./models/assets\n"
          ],
          "name": "stderr"
        },
        {
          "output_type": "stream",
          "text": [
            "step=92/20000: avg_return=9.5, loss=0.9943020939826965\n",
            "INFO:tensorflow:Assets written to: ./models/assets\n"
          ],
          "name": "stdout"
        },
        {
          "output_type": "stream",
          "text": [
            "INFO:tensorflow:Assets written to: ./models/assets\n"
          ],
          "name": "stderr"
        },
        {
          "output_type": "stream",
          "text": [
            "step=93/20000: avg_return=9.5, loss=1.2736759185791016\n",
            "INFO:tensorflow:Assets written to: ./models/assets\n"
          ],
          "name": "stdout"
        },
        {
          "output_type": "stream",
          "text": [
            "INFO:tensorflow:Assets written to: ./models/assets\n"
          ],
          "name": "stderr"
        },
        {
          "output_type": "stream",
          "text": [
            "step=94/20000: avg_return=9.300000190734863, loss=1.0054283142089844\n",
            "INFO:tensorflow:Assets written to: ./models/assets\n"
          ],
          "name": "stdout"
        },
        {
          "output_type": "stream",
          "text": [
            "INFO:tensorflow:Assets written to: ./models/assets\n"
          ],
          "name": "stderr"
        },
        {
          "output_type": "stream",
          "text": [
            "step=95/20000: avg_return=9.100000381469727, loss=1.1643955707550049\n",
            "INFO:tensorflow:Assets written to: ./models/assets\n"
          ],
          "name": "stdout"
        },
        {
          "output_type": "stream",
          "text": [
            "INFO:tensorflow:Assets written to: ./models/assets\n"
          ],
          "name": "stderr"
        },
        {
          "output_type": "stream",
          "text": [
            "step=96/20000: avg_return=9.100000381469727, loss=1.153457522392273\n",
            "INFO:tensorflow:Assets written to: ./models/assets\n"
          ],
          "name": "stdout"
        },
        {
          "output_type": "stream",
          "text": [
            "INFO:tensorflow:Assets written to: ./models/assets\n"
          ],
          "name": "stderr"
        },
        {
          "output_type": "stream",
          "text": [
            "step=97/20000: avg_return=9.5, loss=2.2166991233825684\n",
            "INFO:tensorflow:Assets written to: ./models/assets\n"
          ],
          "name": "stdout"
        },
        {
          "output_type": "stream",
          "text": [
            "INFO:tensorflow:Assets written to: ./models/assets\n"
          ],
          "name": "stderr"
        },
        {
          "output_type": "stream",
          "text": [
            "step=98/20000: avg_return=9.399999618530273, loss=1.0147483348846436\n",
            "INFO:tensorflow:Assets written to: ./models/assets\n"
          ],
          "name": "stdout"
        },
        {
          "output_type": "stream",
          "text": [
            "INFO:tensorflow:Assets written to: ./models/assets\n"
          ],
          "name": "stderr"
        },
        {
          "output_type": "stream",
          "text": [
            "step=99/20000: avg_return=8.800000190734863, loss=1.048577070236206\n",
            "INFO:tensorflow:Assets written to: ./models/assets\n"
          ],
          "name": "stdout"
        },
        {
          "output_type": "stream",
          "text": [
            "INFO:tensorflow:Assets written to: ./models/assets\n"
          ],
          "name": "stderr"
        },
        {
          "output_type": "stream",
          "text": [
            "step=100/20000: avg_return=8.699999809265137, loss=1.0203948020935059\n",
            "INFO:tensorflow:Assets written to: ./models/assets\n"
          ],
          "name": "stdout"
        },
        {
          "output_type": "stream",
          "text": [
            "INFO:tensorflow:Assets written to: ./models/assets\n"
          ],
          "name": "stderr"
        },
        {
          "output_type": "stream",
          "text": [
            "step=101/20000: avg_return=9.199999809265137, loss=2.1893351078033447\n",
            "INFO:tensorflow:Assets written to: ./models/assets\n"
          ],
          "name": "stdout"
        },
        {
          "output_type": "stream",
          "text": [
            "INFO:tensorflow:Assets written to: ./models/assets\n"
          ],
          "name": "stderr"
        },
        {
          "output_type": "stream",
          "text": [
            "step=102/20000: avg_return=9.199999809265137, loss=2.2182199954986572\n",
            "INFO:tensorflow:Assets written to: ./models/assets\n"
          ],
          "name": "stdout"
        },
        {
          "output_type": "stream",
          "text": [
            "INFO:tensorflow:Assets written to: ./models/assets\n"
          ],
          "name": "stderr"
        }
      ]
    },
    {
      "cell_type": "code",
      "metadata": {
        "id": "Nq-aSi_n9CFj",
        "colab_type": "code",
        "colab": {}
      },
      "source": [
        ""
      ],
      "execution_count": null,
      "outputs": []
    }
  ]
}