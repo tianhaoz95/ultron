{
  "nbformat": 4,
  "nbformat_minor": 0,
  "metadata": {
    "colab": {
      "name": "train_cartpole.ipynb",
      "provenance": [],
      "authorship_tag": "ABX9TyP+DG4DJ+Gy9bomjvg6Douv",
      "include_colab_link": true
    },
    "kernelspec": {
      "name": "python3",
      "display_name": "Python 3"
    }
  },
  "cells": [
    {
      "cell_type": "markdown",
      "metadata": {
        "id": "view-in-github",
        "colab_type": "text"
      },
      "source": [
        "<a href=\"https://colab.research.google.com/github/tianhaoz95/ultron/blob/master/experiments/gym/train_cartpole.ipynb\" target=\"_parent\"><img src=\"https://colab.research.google.com/assets/colab-badge.svg\" alt=\"Open In Colab\"/></a>"
      ]
    },
    {
      "cell_type": "markdown",
      "metadata": {
        "id": "UvSLUO12KqZp",
        "colab_type": "text"
      },
      "source": [
        "# Train cartpole"
      ]
    },
    {
      "cell_type": "code",
      "metadata": {
        "id": "eThFtyA5Kmro",
        "colab_type": "code",
        "colab": {}
      },
      "source": [
        ""
      ],
      "execution_count": 0,
      "outputs": []
    }
  ]
}