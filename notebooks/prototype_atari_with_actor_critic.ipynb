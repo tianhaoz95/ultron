{
  "nbformat": 4,
  "nbformat_minor": 0,
  "metadata": {
    "colab": {
      "name": "Copy of prototype_atari_with_actor_critic.ipynb",
      "provenance": [],
      "collapsed_sections": [],
      "include_colab_link": true
    },
    "kernelspec": {
      "name": "python3",
      "display_name": "Python 3"
    },
    "accelerator": "GPU"
  },
  "cells": [
    {
      "cell_type": "markdown",
      "metadata": {
        "id": "view-in-github",
        "colab_type": "text"
      },
      "source": [
        "<a href=\"https://colab.research.google.com/github/tianhaoz95/ultron/blob/dev%2Ftry-atari-game/notebooks/prototype_atari_with_actor_critic.ipynb\" target=\"_parent\"><img src=\"https://colab.research.google.com/assets/colab-badge.svg\" alt=\"Open In Colab\"/></a>"
      ]
    },
    {
      "cell_type": "code",
      "metadata": {
        "id": "DX_OfbY42iKs",
        "colab_type": "code",
        "colab": {}
      },
      "source": [
        "!pip install gym pyvirtualdisplay > /dev/null 2>&1\n",
        "!apt-get install -y xvfb python-opengl ffmpeg x11-utils > /dev/null 2>&1"
      ],
      "execution_count": 0,
      "outputs": []
    },
    {
      "cell_type": "code",
      "metadata": {
        "id": "JM66lPmrmUx1",
        "colab_type": "code",
        "outputId": "93b54fad-c07e-429d-f601-30de759c16a5",
        "colab": {
          "base_uri": "https://localhost:8080/",
          "height": 54
        }
      },
      "source": [
        "!apt-get update > /dev/null 2>&1\n",
        "!apt-get install cmake > /dev/null 2>&1\n",
        "!pip install --upgrade setuptools 2>&1\n",
        "!pip install ez_setup > /dev/null 2>&1\n",
        "!pip install gym[atari] > /dev/null 2>&1"
      ],
      "execution_count": 0,
      "outputs": [
        {
          "output_type": "stream",
          "text": [
            "Requirement already up-to-date: setuptools in /usr/local/lib/python3.6/dist-packages (46.1.3)\n"
          ],
          "name": "stdout"
        }
      ]
    },
    {
      "cell_type": "code",
      "metadata": {
        "id": "StODOp9qm7As",
        "colab_type": "code",
        "outputId": "d854eb7d-51ae-486d-9b49-26874a42505e",
        "colab": {
          "base_uri": "https://localhost:8080/",
          "height": 54
        }
      },
      "source": [
        "import gym\n",
        "import threading\n",
        "import math\n",
        "import glob\n",
        "import io\n",
        "import base64\n",
        "import matplotlib\n",
        "import numpy as np\n",
        "import tensorflow as tf\n",
        "import matplotlib.pyplot as plt\n",
        "%matplotlib inline\n",
        "from gym.wrappers import Monitor\n",
        "from IPython.display import HTML\n",
        "from IPython import display as ipythondisplay\n",
        "from pyvirtualdisplay import Display\n",
        "display = Display(visible=0, size=(1400, 900))\n",
        "display.start()"
      ],
      "execution_count": 0,
      "outputs": [
        {
          "output_type": "execute_result",
          "data": {
            "text/plain": [
              "<Display cmd_param=['Xvfb', '-br', '-nolisten', 'tcp', '-screen', '0', '1400x900x24', ':1001'] cmd=['Xvfb', '-br', '-nolisten', 'tcp', '-screen', '0', '1400x900x24', ':1001'] oserror=None return_code=None stdout=\"None\" stderr=\"None\" timeout_happened=False>"
            ]
          },
          "metadata": {
            "tags": []
          },
          "execution_count": 3
        }
      ]
    },
    {
      "cell_type": "code",
      "metadata": {
        "id": "bR4rdPq23olN",
        "colab_type": "code",
        "colab": {}
      },
      "source": [
        "def show_video():\n",
        "  mp4list = glob.glob('video/*.mp4')\n",
        "  if len(mp4list) > 0:\n",
        "    mp4 = mp4list[0]\n",
        "    video = io.open(mp4, 'r+b').read()\n",
        "    encoded = base64.b64encode(video)\n",
        "    ipythondisplay.display(HTML(data='''<video alt=\"test\" autoplay \n",
        "                loop controls style=\"height: 400px;\">\n",
        "                <source src=\"data:video/mp4;base64,{0}\" type=\"video/mp4\" />\n",
        "             </video>'''.format(encoded.decode('ascii'))))\n",
        "  else: \n",
        "    print(\"Could not find video\")\n",
        "\n",
        "def wrap_env(env):\n",
        "  env = Monitor(env, './video', force=True)\n",
        "  return env"
      ],
      "execution_count": 0,
      "outputs": []
    },
    {
      "cell_type": "code",
      "metadata": {
        "id": "yPNOZzhineIp",
        "colab_type": "code",
        "colab": {}
      },
      "source": [
        "class Worker(threading.Thread):\n",
        "  # The cumulative episode played\n",
        "  global_eps = 0\n",
        "\n",
        "  def __init__(self):\n",
        "    super(Worker, self).__init__()\n",
        "    print('not implemented')\n",
        "\n",
        "  def compute_loss(self):\n",
        "    print('not implemented')\n",
        "\n",
        "  def compute_gradient(self):\n",
        "    print('not implemented')\n",
        "  \n",
        "  def run(self, args):\n",
        "    # Prepare variables\n",
        "    self.args = args\n",
        "\n",
        "    # Check the maximum episode of learning is reached\n",
        "    while Worker.global_eps < self.args.max_eps:\n",
        "      done = False\n",
        "      # Check if the game is over\n",
        "      while not done:\n",
        "        # Get the policy and play the game\n",
        "\n",
        "        # If done (game is over), calculate loss\n",
        "        if (done):\n",
        "          # Compute gradient and update models\n",
        "          with tf.GradientTape() as tape:\n",
        "            # Compute gradient\n",
        "            loss = self.compute_loss()\n",
        "            grads = self.compute_gradient()\n",
        "            # Update models"
      ],
      "execution_count": 0,
      "outputs": []
    },
    {
      "cell_type": "code",
      "metadata": {
        "id": "bnSC4zC4nt9C",
        "colab_type": "code",
        "colab": {}
      },
      "source": [
        "class ActorCriticModel():\n",
        "  def __init__(self):\n",
        "    print('not implemented')"
      ],
      "execution_count": 0,
      "outputs": []
    },
    {
      "cell_type": "code",
      "metadata": {
        "id": "wtTON1xmoJCc",
        "colab_type": "code",
        "colab": {}
      },
      "source": [
        "class BaselineModel():\n",
        "  def __init__(self):\n",
        "    print('not implemented')"
      ],
      "execution_count": 0,
      "outputs": []
    },
    {
      "cell_type": "code",
      "metadata": {
        "id": "KVDqVpOqn_e0",
        "colab_type": "code",
        "colab": {}
      },
      "source": [
        "class MasterAgent():\n",
        "  def __init__(self):\n",
        "    print('not implemented')"
      ],
      "execution_count": 0,
      "outputs": []
    },
    {
      "cell_type": "code",
      "metadata": {
        "id": "Yy5tn0pA2-tB",
        "colab_type": "code",
        "colab": {}
      },
      "source": [
        "def gym_sanity_check():\n",
        "  print('starting gym environment sanity check')\n",
        "  env = wrap_env(gym.make('Breakout-ram-v0'))\n",
        "  for _ in range(20):\n",
        "      observation = env.reset()\n",
        "      done = False\n",
        "      while not done:\n",
        "          env.render()\n",
        "          action = env.action_space.sample()\n",
        "          observation, _, done, _ = env.step(action)\n",
        "  env.close()\n",
        "  show_video()"
      ],
      "execution_count": 0,
      "outputs": []
    },
    {
      "cell_type": "code",
      "metadata": {
        "id": "D_4XwuN1oFkz",
        "colab_type": "code",
        "colab": {}
      },
      "source": [
        "def entry_point(mode='train'):\n",
        "  if mode == 'sanity':\n",
        "    gym_sanity_check()\n",
        "  print('Hello World')"
      ],
      "execution_count": 0,
      "outputs": []
    },
    {
      "cell_type": "code",
      "metadata": {
        "id": "I_oklLOXofGu",
        "colab_type": "code",
        "outputId": "0cb1cfdf-6872-469a-aaef-b1eb74a84293",
        "colab": {
          "base_uri": "https://localhost:8080/",
          "height": 455
        }
      },
      "source": [
        "entry_point(mode='sanity')"
      ],
      "execution_count": 0,
      "outputs": [
        {
          "output_type": "stream",
          "text": [
            "starting gym environment sanity check\n"
          ],
          "name": "stdout"
        },
        {
          "output_type": "display_data",
          "data": {
            "text/html": [
              "<video alt=\"test\" autoplay \n",
              "                loop controls style=\"height: 400px;\">\n",
              "                <source src=\"data:video/mp4;base64,AAAAIGZ0eXBpc29tAAACAGlzb21pc28yYXZjMW1wNDEAAAAIZnJlZQAALFBtZGF0AAACrgYF//+q3EXpvebZSLeWLNgg2SPu73gyNjQgLSBjb3JlIDE1MiByMjg1NCBlOWE1OTAzIC0gSC4yNjQvTVBFRy00IEFWQyBjb2RlYyAtIENvcHlsZWZ0IDIwMDMtMjAxNyAtIGh0dHA6Ly93d3cudmlkZW9sYW4ub3JnL3gyNjQuaHRtbCAtIG9wdGlvbnM6IGNhYmFjPTEgcmVmPTMgZGVibG9jaz0xOjA6MCBhbmFseXNlPTB4MzoweDExMyBtZT1oZXggc3VibWU9NyBwc3k9MSBwc3lfcmQ9MS4wMDowLjAwIG1peGVkX3JlZj0xIG1lX3JhbmdlPTE2IGNocm9tYV9tZT0xIHRyZWxsaXM9MSA4eDhkY3Q9MSBjcW09MCBkZWFkem9uZT0yMSwxMSBmYXN0X3Bza2lwPTEgY2hyb21hX3FwX29mZnNldD0tMiB0aHJlYWRzPTMgbG9va2FoZWFkX3RocmVhZHM9MSBzbGljZWRfdGhyZWFkcz0wIG5yPTAgZGVjaW1hdGU9MSBpbnRlcmxhY2VkPTAgYmx1cmF5X2NvbXBhdD0wIGNvbnN0cmFpbmVkX2ludHJhPTAgYmZyYW1lcz0zIGJfcHlyYW1pZD0yIGJfYWRhcHQ9MSBiX2JpYXM9MCBkaXJlY3Q9MSB3ZWlnaHRiPTEgb3Blbl9nb3A9MCB3ZWlnaHRwPTIga2V5aW50PTI1MCBrZXlpbnRfbWluPTI1IHNjZW5lY3V0PTQwIGludHJhX3JlZnJlc2g9MCByY19sb29rYWhlYWQ9NDAgcmM9Y3JmIG1idHJlZT0xIGNyZj0yMy4wIHFjb21wPTAuNjAgcXBtaW49MCBxcG1heD02OSBxcHN0ZXA9NCBpcF9yYXRpbz0xLjQwIGFxPTE6MS4wMACAAAACGmWIhAAz//727L4FNhTIUGV5w7TCGgEJgSdzsyckV3S77Dm8Ag1mH56pG01iUfoqGJvSBlpGDUJHrm1XsxLEEWCpUTZmUUmjvvCYBgGoikrw2+ssYLKBxLBxL0+ZE3oioFJuahdgPCzVdK7oifhUyHum1y+H/n1IxfZqe5Q6a/qB80iOWzBXOZk5hpNEJ6YI8Htq5Ycx+fStwR4MJbjva8zgSaMI8mOGK9x2ju2/AmMZ7H97tcNbhibmMFJadawS6wlA5rIz4ilFD/pAUV04DI4X/CO1P74+tQZuhuPZMbAlNJ9rBw8w8WdmAJDxJ1s8/FOj+p++WztrPZ7Desqkmf0ec3NyvIaZGFJi/AKQDAACOFll1rchD1HPBeO8c2Sv3ZNtcqHvW+sbioBBf4H5oEv08F1SeHen020eCCatmNKQA+E9oIH46DfHSfX2NPopiMCDGRWftL7PqLC1ZCdXoUgAKGFDTkFZPP9IN15oYN2RKa3H7xnKkwsGtvrCw+F2MyVFbvNr7uS/H20se4JuOvDbvB/+gRuPFMgJWQxvarw25Y8J8q8CcTcclK+pfcV1CEUi5eLrDRMgeQj8agzhGJ9+ES4m8AWdhkV+nPbLDrty+wGCOL47WCNgsre2EiXIgWIG2xYZHiBkG+/ZzKwRYJsNxoN7HBdpzVj1je42uZiVfAzhQCJNcgYPBkGJjU/QCGdop7XcBCQfW8EAAABMQZoibEL//oywC50/nAPgdFTfJsTwqsZoQg1R/gcOugn2dV6oYLxOMzOQZnae3QbZMfwJqYr1TLjPX59kIkzGutjTwABQf+BAa/yB0QAAABIBnkF5Cf8AaaX4Ch9Aox66py0AAAAwQZpDPCGTKYQz//6eEAr/ZEh0v/gcVMAE6Vcw77r/EDi8OoXNw/u2HV+tYVOGZONMAAAANkGaZEnhDyZTAhn//p4QCv9kSFbsezACdgAIWzNIE7rGBsTDEmABZC3AfwhHUreGsuPywrCeFQAAADNBmoVJ4Q8mUwIZ//6eEAr/ZEnoZ/gcVMAE6VcxO1dDh4OdjkeD99JdxETDQ7PaRce9gb0AAAAxQZqmSeEPJlMCGf/+nhAK/2Q2opgD/hquOx4FL8NYpsxIqQUBWgqEbUIACblz0h+xowAAAD9BmspJ4Q8mUwIX//6MsAk/h1Qc36HoAWlpfOKOCXDzZfvUtdmfonTlG81DgI9XAf0imd3hOR0R2A3iHLZOg/kAAAAbQZ7oRRE8K/8BiSHyTyuJFVya8ZMNt08BcJmZAAAAFQGfB3RCfwHu2hQVzYQHqWQ2W7AwkgAAADQBnwlqQn8B3yz86RbzAFNeij2ilWd1PeRxguTY8a6p68hYBE1xKXOW6ONUAZGY0DQD2KrbAAAAQUGbC0moQWiZTAhf//6MsAi/muZ0O7BggDkvJTsDszss7cztVQVKloR57cqDA0qxnX7VGdVJl/JcdS7kWt2oUv7kAAAAIkGbLEnhClJlMCFf/jhAC9yASOQ+HRNoXRCv1c+11TuV0L0AAAAeQZtNSeEOiZTAhP/98QAc267FURrtfHVLguecQ8uNAAAAOkGbb0nhDyZTBRE8J//9+zUSuJzf9DGENtqEAIyEJ+udPRfTriGYK1XGZ+F3+bi3UpcuJp9P59fmL3cAAAAaAZ+OakJ/IAXtwr+hGt58y7p9uqRuev5uZcsAAABLQZuQSeEPJlMCGf/+nhADH0rQamQACZP/7wo4JcPOuiLS6VkoFWpPzcbnTXsg99XxeLPHifBUKj32yLNDcpeUkRE7wDBH4ozt317AAAAAOEGbsUnhDyZTAhv//qeEAMj825v0oDxADjbxP5uFva8pODr5R5IitqkOF1zou8+PquCgVpk8wUFAAAAAQEGb1UnhDyZTAhn//p4QAm3yBX8rHkfp3jMAJx5wWfvKorIyvlR5cKv1pgwINTBDoyXZNxylOBRzNDzFBFctVYEAAAArQZ/zRRE8K/8Ag0B6AFojDmZWSStPo4z9sp4CVrEyhSzwPZp+lgIehjYKlAAAAA8BnhJ0Qn8ArOktKJBG1/QAAAA2AZ4UakJ/AK08fAAn6aSwuoh7XqbbMwZOUD31mhaoH7/WxBxuE1nKaj5KUkUw3CCKuMDkR6bhAAAAXkGaFkmoQWiZTAhn//6eEAHlWN/3ACatyv3hRuxCNtQFNXv6fIs8egsWUoF1OJEaY6GQdTdiFJOhpAMXqeFXbLZeoxIpeJXlacG6Op0vcTHRrEDioJUjqJ15DLL4UmAAAAI6QYiNwP/+92ifApteYap8I7SENICgEJpavZa/LP5E3D1W5Cfom+zoSsc5TGtnJDdY0omnQnSjzjM1KLUtq48l9tKtswQ/FUx1t0fqfIe2jkFKwYV5ri9x9OhWK1zoVwc2A1dATgU+F3jITSgMe5+FXI5e/VpDH5c81h/w7qAiPb1S0CA+TeRx5kszLpugiRRfijgLfi18S7VT3p8+jVEgK3cuy88khPFS3zEXeyWxoUnub4Smyk6TUZQEjKHdCofver7z9rZByChzcCTXCva8r8qAEBbljCVMQleHccvBDBILpS1AVTPjuGMq1IAY1zwlaojDcFB6I1dnlFEAhWVzSvlXqMCwXqfeSndgarpw7qNZDZAAA0G+WfawJstjr5xJaxji+S3mbgQrJTLqIj/ctZYuBtvcfUOBVsyJhjnd5Kh1Cv10LWDFADMR5myj/bECdIOW6qYc+yGVs1/qDo8Ivne3eYbEVxQeCDaus7YFkeAwTNSKB7+Ie9nswHqMel+yp8NU2M7N+I5rUfxP96fhaA33AlLw58C2PkZyGNpqQ/Au/FS6P4R/lCdxuVjyv2gwIbYNhKHYJoIm45i06PaMapGG6yiG49H6XBrgWVU9sSnMDFliFMaHVIouHGVBehCxhQ3Bt4gTRGSilsnQcN/bRd0YqljhSGJU7AU1ipPlUirFgMFG0VmSoHQ6awRdYe2f1Zs/Z8YvVgDD2r6gCI2sfNDdYQibePTyFm538H8bBiIHMqVb2kKkAz5PAAAAdUGaWEnhDomUwIZ//p4QC4zbAKnSaeukALeE/+8FG7EiU2T5lm5CrIoiRfkvAaWUq5yd9/0yaooVC7eKLDxDeNrLd2zyPSFwIxt1syUWZYgDIhGFns+JCiEWwCzsPgSVUVgPKxOyHXJuKB1nZ1lYnIAX9Y7uoQAAAFtBmnpJ4Q8mUwURPDP//p4QAfBA741vjRN8PdfJhvIOAEY/eX7Rj349le0xLKD7tdG4seB+sJ6aB3u12Bbm9xxJq/eW68/OM2t/PqWcaWf6qHVsxaUNmQA9JpaAAAAAXwGemWpCfwCGs28633hIvfgAtdNrqdl9uYwvEEA078aWkli+UXVFMVyx4c8xKh+7fzfTr+pkpMwyzcxXujOgCdERiJL/GH/58weYN+G5NZqHjSQZTyC1ZvcJb5Bzo1GBAAAAJkGam0nhDyZTAhn//p4QAYdcSQMn6dpjF0AH1LYoD/xbt6+lVPaYAAAAIEGavEnhDyZTAhv//qeEAGRsCNUFKZDphukVMFmmQSXRAAAAQEGawEnhDyZTAhv//qeEAGT9lTe7/0nkjZeQbCgAtngAAj3+zzkwq6oaV/5Hr5rCxZdC8C+Kz+ZFWCFrDa3sa8EAAAAkQZ7+RRE8K/8AUdrXYk3rLWqQBCNFTvt8tIiejQew28SlreXzAAAALAGfHXRCfwBsWm8ARMIT9c6ei+nXEMwVdpuHNf/Jh0HNQrwA5UJtrbHDbgLgAAAACwGfH2pCfwBUGdBRAAAAEkGbBEmoQWiZTAhn//6eEADPgAAAAAtBnyJFESwr/wArYQAAAAkBn0F0Qn8AN6AAAAAJAZ9DakJ/ADehAAAAGEGbRkmoQWyZTBRMM//+nhABarNvg6dfsQAAAA0Bn2VqQn8AYQWkcFORAAAAPkGbZ0nhClJlMCGf/p4QAWtR91XAXADMctp3bE/q11/LZ1yG+pgoNpyLryjbYY7lFhJjAl65+uWp3ujmGd+BAAAAS0GbiEnhDomUwIZ//oAQRACfq3/+HTkAkzQLACeU+6h8DCG7kX+HsxMAAkOH5YvRDgA/Wxb0PMK6ZQ6staC40RddGDfSbENhcx+3gAAAAC1Bm6lJ4Q8mUwIb//6nhAEcLqiAC6pyPyIqkAeo/N7PRDosrSdYEpbGPF6FKjQAAAAvQZvLSeEPJlMFETwz//6eEARRIHEqZAAJk//vCjglw866ItLpVtwsVaDhJbgiS7EAAAAUAZ/qakJ/AS1uUMgqgyLsSBuEOaAAAAItZYiCAAQ//veBvzLLZD+qxl/aQhpDAAOnC++oUp5Pvb1jT4GOECC9SpnxEaL74nc4kyCAsTDB9VWkhZItS2rxwW3FTQkPKEtgewvT9T5EvNZ9G4B0wIHsVRjk3M5BthLFgt197N3trIuk0CaUGRwALYQn58nVKUwLnQwf9W8t2NYUCA/o3rEWn1iiD2hmJBHKZuVja+fQOaoVbMh4S3bnkHflH1u/b1kBqDk5pDeFs25MZRUMoJS7bBn51pqRdMwVQaSG0FFqTq3cEWOREuhpGiPFjvOtj7KHXPdTMhuRK8a2rTZWXAAmKX7bPwK/t75KpTv1KKIRB8mTXKO/0q9mGb1ruibfAoEXzUNKSpYmAABjRFLBum2Sd2tZFEsjiaBK3MVRFxKlqKbekc4QQF05QQ5E61+cJGntbD/8QZ6U7jmIaC1iSAE1f7QaTJm4dAvljhrQ2wdT2zW+1d7zjmd7d0ZUVrsg7km1f5mPGqVrnQUnu2O7ci0bvrKNDBVod/q/HE/7sJe5Xwn+wZkm6B29gGbe3pHYaAbBIww7WQEhzz45qJwCtYONRd+t/dJDbYJccT6qZSlqZvClJVMDSfYMX+1MYesGNyuPCBQz4ZkblM96qzCkTAVfZHAzQEaF05iyMRyW+fbeyQVOMUNiAKNqpLt52iLp/RejHHdxTU7LdgtzSNPw9XI1Nfn2y2vbroGrg6aYvLYCSlbNu9UrD0yZ8D9+NTDdhpDM9HMoMqgAAABrQZojbEN//qeEAxzdk0lQ27h4ANqnI/IqN1/qZuvOkS5QgCks1sBAWPt12r+2ilW7GG1A8DMIJX2CWm2M+x5uV3MYogw/I68xek2O16X1WVaVr53n+GSOMKLotg4gswd9RVbrADG/6b5qw4EAAAAaQZ5BeIV/AbE6yMkp+iFB9VIV40XoSz/Ca+EAAAAZAZ5iakJ/AO1qQvRuOiJFiWdO8Z0jMduZQQAAADRBmmZJqEFomUwIZ//+nhADc+x3OmpYhAwA48o39pC3tese2oEvsOA59pvqnS12Djy8FjKYAAAAKUGehEURLCv/ALo0T2lGkgBq73650+PD+CYYzbxLdvEj2+DlBlv8oFCAAAAAFgGepWpCfwDthL7qGfh5s7pi1Y8S5B8AAAA6QZqpSahBbJlMCGf//p4QAsGNxwAtwlW4b2Ml0awdFj9UHgCYSVH4B0o2Uz8DB87ltHLNG++AgPcxMAAAABhBnsdFFSwr/wCS67apRUXFL/qTC0f9leAAAAAoAZ7oakJ/AL8+9cAHBWaC1GMmHTFy/I8HqVqTYO8O7EctcRwXr3kSIQAAAD1BmupJqEFsmUwIZ//+nhACxe7+G2pAwAtE1qvv53Bi1IB8RIZ/+vrFmS5x+K7YVF7n6YeYXtY/N2Ji4zjgAAAALkGbDUnhClJlMCF//oywAjPG/wUdoAASmMmRFII1TjYc5gTLjccEifHOLv0RmWcAAAATQZ8rRTRMK/8AkslUrH8905jcgQAAABUBn0xqQn8Alu1lkF/l4AGcTKRIc4wAAAA0QZtRSahBaJlMCG///qeEAI6oPGUax7UQAQg5fkVHBLh5inXNolh6idR+9JdMFzgZDUKHCQAAADhBn29FESwr/wB0AHYv3awGIOGYAWiuSs6Kqisi46TGaz43MjBgF6aBvge7x1lm7V+0Hma6/qI+gAAAAC0Bn450Qn8AltjW4AR2aaC1GMl0V1Sxz+Am5H/oc3shspn0+LSK8SXqrEg8TA8AAAAlAZ+QakJ/AJbFcifmQAjIQn6509F3MqQzBXe8fPpfWPuCdf5nqQAAAC1Bm5VJqEFsmUwIZ//+nhABsfY8y//iG3aLVExF7EIAOfatl9gNCHzMS6rxLIgAAAAhQZ+zRRUsK/8AXXxroAL6138nK511BtZZD73DiqgvGHSmAAAAGwGf0nRCfwB2lelFUxEKfh9M066ovEXr0+g1gQAAAB4Bn9RqQn8AdsuwAAEPxjsBMnWdEt/dcw7NT5zaCDwAAAAiQZvWSahBbJlMCG///qeEAGT4TybQFEf/H+8hgVxaufxYuQAAABpBm/pJ4QpSZTAhn/6eEAGHn7ktgY2aKb/COAAAABVBnhhFNEwr/wBR69s8WHRQFbYXzbEAAAAQAZ43dEJ/AGb5cFpK1ZX8gQAAABIBnjlqQn8AaZ4Mh3lUF8MQXOEAAAAgQZo8SahBaJlMFPDP/p4QAZG1j86+bFJ2Kiy3wrxKnUEAAAARAZ5bakJ/AGweACSBDaEEnngAAAAaQZpdSeEKUmUwIZ/+nhABkV8RF8LBhelwnqAAAABdQZp+SeEOiZTAhv/+lCsOsqgEIwD/+ENhgSqu8WewJ1FjGLC8gpM5tBZtzQBYuFvBZzdpanys02DBwk0/uaL+2WIRn/mrZcLYucvVm0BoglT/lKkiXwh7m74CH/h5AAAAGUGagUnhDyZTAhn//p4QAaVgYv/NFJD5J4AAAAATQZ6/RRE8K/8AWKkhyPnBop2QFAAAAA4BnsBqQn8AcV4CpLVNFwAAAChBmsJJqEFomUwIb//+p4QAbH2Tf8dJ0AEB7YM93RwIZdbSfuLaz51ZAAAAL0Ga5knhClJlMCGf/p4QA1r8e4AJk//vCjglw866ItLpXh3wni7CWh/RPqGotQzBAAAAGEGfBEU0TCv/AOeyreaKfR2mQC5Y7G3I1AAAABIBnyN0Qn8AbnybnGp1mvm5YsAAAAAnAZ8lakJ/AS6NBACMhCfrnT0X064hmCuVqcFhakrSKB9XGZgfJAiBAAAAM0GbJ0moQWiZTAhn//6eEANbWSgYAcAfdqIOz+PFK+XqUeoC1P1nLmF7MTXjTKTtPsogFAAAAB1Bm0hJ4QpSZTAhv/6nhADbudKKkbvKJgSBcdU3PAAAADhBm2tJ4Q6JlMCGf/6eEANu69AAOKV9uTjeH02k92A8En8k3BcY7LqTnXThslNxYxHM/vTBD38qXQAAABpBn4lFETwn/wEti2bL0RnDLE9AQay4hjZC0AAAAB0Bn6pqQn8A7RsRJvFgA/pcb5RWy0C1UIW7UcaXgQAAAlxliIQAP//+92ifApteYap8I7SENICgEJpavZa/LP5E3D1W5Cfom+zoSsc5TGtnJDdY0omnQnSjzjM1KLUtq48l9tKtswQ/FUx1t0fqfIe2jkFKwYV5ri9x9OhWK1zoVwc2A1dATgU+F3jITSgMe5+FXI5e/VpDH5c81h/wTBll0SWquPU2mEwwh59iMTZnk8aVZ3llfhVV4ETpWMDBJgWG9reQC50ctBYcvWQuM4WzTwp4gSMod0KiA4avl/aTYOQUObgSa8mzHAwaIAHYT55QtnHtBVshGJS4LYDRtbKmfHcMZVqQAxrnhK1RGG4KD0Rq7PKKIBB8lLPo790kgoUQMJahiNYGq3zcaKzoFtAABOMHE1LxtHjpQ1WgQgfqRIPu67mV4RlFNBum8ci7bLiJjIRoD9Ske6ZGNI3UkwQM/tJC1gxQAzD9RxmXM3DpMDluqmHPshlbNf655TVPTst3my8lIGSQ2rrO2BZHgME0QY0NJn8Gr3vi4cjo8AhXHZA3a35N8NurhKjNJXJn1jyT4h2w+VmQSBGiC6x4sLt9kP+AC9X78ZfGs9hcaPplF8Alxhw/7bJxnyfIEYoZZidWjTQfBu1jLpCO1o2Qr7TdPNDvSIEwlClU+0dAlrdZw3c0fX5N1i6yQ6dD435ai7KcSH8lCI0PsR8yRO44tq6CRXBXd5tFWDwgsZoElVnzYyVH8EvqBgVB/eRGk4LqlwHdWJRC6WzZ2hBhCruAKkE5Iz+u0Nzvh5gNWAnV2UFcQd2FyoNdSvJlginWebuB7bo6lWR2Yc1xMTHRYXvhAAAAM0GaImxDP/6eEAuYJIOg98XdQ0yAFt0zDiqxE/Llpx/CNN15GFOazBKGPmK8AA//+ho0/gAAABYBnkF5Cf8A7cys3sWjZwio7fnur6grAAAAJUGaQzwhkymEM//+nhACxHUvC4HAD4yS7+4pTeJLNpHq1PAj/ZwAAAAWQZpkSeEPJlMCG//+p4QAtOMYkiahgQAAADBBmodJ4Q8mUwIb//6nhAC1+8KJWbfgBuwuP83C3teUnB18o8kRWqs7ifO2MkIKomkAAAAYQZ6lRRE8K/8AkubSiXDJDgERc/4ImYuEAAAAFAGexmpCfwC/Crw5Eh/42t/Mc2/QAAAANkGay0moQWiZTAhn//6eEAIqRLkANyl7jzrvD6bSe7AeCT+SbguMdl1Jzrpw4MgG3YiliWEZgQAAAC5BnulFESwr/wB0GoYwBVqWASlNneefRyIEhldPlaxM3rZojOd6/WexqnhBHlbgAAAADgGfCHRCfwCW+y0okNWxAAAAFgGfCmpCfwCW57RFike9BqdRTdBb524AAAA8QZsMSahBbJlMCGf//p4QAiqoq94HVABOOFbhvYyYdhAJlGynifrFmG+a7G+DcVwGwLcRKtiOasM8F/k5AAAAP0GbLknhClJlMFFSwz/+nhABuYVMgAFoUBCu2T8n8Jn940xnC9i41zjoiHcwwIvf1afTqc8QBCqOpfkaiVn86wAAADMBn01qQn8AduFTf2dgAESCfaHoEkrbDm9kNlQqWFNJbfuUpYFeS1keWUOs0p3AiK1PmmEAAABGQZtPSeEOiZTAhv/+p4QAcRUPPUAEMvKQ7YMCxXH1cHKAp3a3DxdNvDKqFD632+H8PxG+aNiXZim+IP9Qsf5X+6iyTCjJ2wAAACVBm3JJ4Q8mUwIb//6nhABxGGsdlHsx9dR+Z62PvwZU2c2aiGYsAAAAJ0GfkEURPCv/AF0gHsAAvkexVh/XC9SYSJptBz7eD2Y9IZI2ETqRDAAAABwBn7FqQn8Adst1u21SX9/psALEEoY/Y2NXUOWrAAAAXEGbtEmoQWiZTBTw3/6nhABxC14EADtIl3nTUUgVYYJgz4yUBiF9wTz093gm5ywkW05aAjOQUvPT8uM85IJzMrPTtkXBywHzcXi4S5pZKKMpqKlRjc+LrK6+x/NjAAAAEwGf02pCfwB24VhnaXNjXHg8rM4AAAAaQZvYSeEKUmUwIb/+p4QAcTR2TJ/Rl0pF4IkAAAAUQZ/2RTRMK/8AXAA0QH8POGHY2lEAAAAOAZ4VdEJ/AHa7sXfjBmEAAAAOAZ4XakJ/AHbhWG0BVZgAAAAwQZocSahBaJlMCGf//oAZGgBoV5f+4wi3H3HcuCfoHRC7wtvbjSOg38lKxx0Q4AI+AAAAF0GeOkURLCv/OVW91K7Atxzs8zlghDbBAAAAEAGeWXRCfz7uKZLg9XYjfUAAAAAjAZ5bakJ/AHbhesIAIfHKaokXfFqIfn0EmM7nVwy4/yrYDWAAAAAgQZpfSahBbJlMCF///oywAb0emAyxa9+bkgol7sS1BdEAAAARQZ59RRUsK/8AXS61I27X00oAAAAPAZ6eakJ/AHbhWGe7VIUdAAAAPkGagkmoQWyZTAhP//3xACLBVjABUgtzSpGNkbRd9wlcJH9//hCidT2TH9/p4lsF2QTbQA1ovcy3bIWPiWxBAAAAGkGeoEUVLCv/APfyflYfpOq5scfglDSiiA/gAAAAKwGewWpCfwFGdH6AHR+lLQM3Xz0RzKjUZALjHZQ9GgUX3xXXE+DPLXzrN0EAAAAjQZrDSahBbJlMCF///oywA6PDEiEeD8ypRXvhOKlDS7V9tkAAAAAuQZrnSeEKUmUwIZ/+nhADmqxZaOjjQAE4jr7H8cDNfWaI9vdCBDNBWUrCd8VEgQAAADFBnwVFNEwr/wD1pohXU+GgBtvDjg1GNxsc95H4OnVkcuL+mlEwbAkngYs2oNB9ybKBAAAAGwGfJHRCfwFGRne5sg1j0BTNGHNggE8GRjvXoAAAABoBnyZqQn8BRrgjJlL7nb1TM1T/wOnP4ZZNLAAAAC9BmyhJqEFomUwIZ//+nhACwhGR2AHFzr+lw8betOddEjq09WvyqaroaRf5Z21JwQAAAEJBm0pJ4QpSZTBREsM//p4QAsW+/gq49gAlSrVlkzeK6qL6BJD7glLAJdeuRGZyfLQKQD4gt9+kMXC0QAM4KzOX8wEAAAAWAZ9pakJ/APMDSuQ6JJZ46lPrqQwgwQAAAHdBm21J4Q6JlMCF//6MsALN7mb/i5XL62rAutKAEMrsnYJ3xAG8bL1zXzzDzZs9O0uhfEqCAAZv8VMG1doA37YMiqcOUHznnbZufbC8JfnniWLnrbttWaW4HjPzbIgCUbVFX0RQE2OQcnE7s6IotAGYkWopDUZAQAAAADFBn4tFFTwr/wCSxvh+YFZnoAaqfse0giC0DU9zAplksI3abrvJM3r6EFJZpeJDQNkRAAAAOgGfrGpCfwC6Oj9ADo/SloGbr56I5lRqMgFxjsoejQKMI3l2qD5TVVoG9nUdDSmQqo+nHMa14w/7emEAAAAWQZuuSahBaJlMCF///oywAhAKdHSnsQAAABhBm89J4QpSZTAhf/6MsAIT03nuY3ZZwvkAAABHQZvxSeEOiZTBTRMJ//3xABNTYI5AyaAK0Fc2hCU5bE/BOgQSvjdRhEWJl/lr3zPuWgYzhodsfltZb1howpLsSmyqzSOoVoAAAAAUAZ4QakJ/AIrn1EcLCQZJC/lDn4AAAABOQZoSSeEPJlMCGf/+nhABujqlZiG2h3n/MABGRwCuiM2K4Udu+JB6/WBBtQmKJN9qpwC9w8+2pxtqKtkzL4CxJRjOcukIyRMSBL6ZfqenAAAAKEGaNUnhDyZTAhP//fEAFP5TyFomtgFIAFgST6ZxM2wA2ohtOho5RqAAAAAUQZ5TRRE8K/8AdAELE/SRipyX/kAAAAAPAZ50akJ/AGv2W/OZ7l2hAAAAWEGad0moQWiZTBTw3/6nhABxC14EADRa1gndFwLO1nZDt4AzrOl+FBiQHxt2A3QGxISSGTs7gYQwVuEzm8c8xO1ZfociPjB5fLTD1KqEn73TKMh52NJRhkEAAAAnAZ6WakJ/AHc78wAG0GfhSAqJJpoqjixPi06Yy2Sd5LnwZR3fQs/9AAAAIUGam0nhClJlMCGf/p4QAboRpJoDkNWh8kp12AsZ58BE1AAAABNBnrlFNEwr/wBdH+iTjW5Oq/vAAAAAFAGe2HRCfwB2lgG/EZxLRh4Lq/AlAAAACwGe2mpCfwBpnkwYAAAAMUGa30moQWiZTAhf//6MsAG8vuPOABotFtpfF/EKN0PAzfLFndycr/ys93cqqhayUsAAAAASQZ79RREsK/8AXS61Jiy6qNklAAAACwGfHHRCfwBpfPwYAAAAEAGfHmpCfwB24VhujsKu8yEAAAIMZYiCAA3//vbw/gU2VgRQZrtC0sj1QC2Nae59MCxe3/QifqKljnWU4DeSbleGRUDh1hJHCzSGhFMqB2JWqVdY6VDUVpKoNoGGi3bau0aPrq9xEg1gjGymiuxKQUDSY7cANkmrE8OedWNzrkRAbY+8t2F+o21k1KZogX+R9DJVPuVqY3M9kRlDImYPqe1674x4epd2rgsTdEr0Sn7Gf5IxjNhyQktB1fC6RgGg8y3ON+2V7w4R4Rw/Le2vXMb499ic9pu6gyh/mLklwpbibp0Tn+zjhZK/qcYIQUmkbm2a5bqSHNPhMrBw/lIQEYLSKD2rLgAocFxEp7PtIQ+AnVVrzhMxfjQuHGd/9ajqLAyORFmiq+HkpOmCT6wAAGSoEb7FKn5THMWwr6MEQz5NVnnAhYRh4d3j3oLiIy5HmfeSsjZ/kdoS9fQ7+aFd1yNXoASlXh+lCd/rB7g038ML3irnyrYsa8DSu5xNqJvC6OtIfdAQGTvbhkCAB06+GpSlt51bLoGTPbAnuCoTiLDULuOu/jJWqK+EBQQY1bwqybxtUJkbzBPVFXQUedyznLm1oXSfEwTNiG1tQYSKm0igEwPKleIeuY0WG9Sla56azKE4n8e30hTi3tQa3oVfecb59+WcteG0nQVwykliM/ektWunkFzmpcVYEj49xf1e97Qtco+Jxd9zFEB17wCvH8EAAABPQZokbEJ//e+m0yJTfQDG4zf/Vgi3H3HeSjr+ghYNNw4gGqBpfA9SnSvScn84tNDygf+bs8yfmBMqVnKuX2oFqa7RjzRj+TPNKxf8u4WuSgAAABtBnkJ4hX85Ve/Zg+rfGEp9OGfRM+mEG7HUE4MAAAAUAZ5hdEJ/Pu4pklR1QMKOvMqhCXQAAAAVAZ5jakJ/ASVowgx4wgKYJ5hqqjqBAAAAPEGaZkmoQWiZTBTwn/3xACk8n26vneP7BgEi0OJ7KyNCcNB6yRlRtWI3N7GwKrQBbcur8rmr9OCEYDkCwQAAABUBnoVqQn8BJYrAhDPpsGs35vTv4eAAAAAyQZqHSeEKUmUwIb/+p4QA1rlYwqwADOPKBa8LjXeZdvL/FQTj6BNKzqJ9C6BvINOUXzgAAAAkQZqrSeEOiZTAhn/+nhADS+x47pOTImuCL/y4GgSNhDnYVBmBAAAAQEGeyUURPCv/ALEy+H4mPmegCtT5KzpAG9trM1FNEqCXHiCOFnWO7tT2QNO8QH9cquJDWAV6oPBPefrQPJSgWRYAAAAuAZ7odEJ/AOJsR5zgA2k+ypUjG42HOox8HTqyNk/ff9BphY/L+satCtLktXB6QwAAABUBnupqQn8A3Il9E8fN1mJh+KyJWbQAAAA6QZrvSahBaJlMCF///oywAoXuXJ7ugBxvCmbMqMa/51ULYSxC61TmxGnwcyf8a1qOh4LmSbW2/Pn5gQAAACVBnw1FESwr/wCCzR9AC0Ar6KGzFKtbB8itzw5xXS96RxkqwZ2xAAAAEgGfLHRCfwCs3vnEeNKUbdrTgQAAABYBny5qQn8ArLKTFEhdX374By3YOMeDAAAAL0GbMEmoQWyZTAhf//6MsAJwjgguvCAIRVM4jDuuXXcWJn4KEwyniFmgpzgfLDOAAAAAKUGbUknhClJlMFFSwr/+OEAHPVHDQA48HIT2kEQC84dLGnABXBqvVvKAAAAADwGfcWpCfwB+2W6Ss9OIbQAAAD9Bm3VJ4Q6JlMCE//3xABHuiVTc3x46G8Q1Ydi4CYOkACKvjxCuGF1kXIOw2nOWDVIQAkrsMZ1rdNVRmGs6I2wAAAAfQZ+TRRU8K/8AZIe88PgeeAFQbi/mu50Aoj3SDUdy0gAAACMBn7RqQn8Afv/4eZehAAgP+R7nDL4aDQFhJUXopY9tBJnM4QAAAEtBm7ZJqEFomUwIb//+qN5m2QzwsgOX7Kmb1FgAFTjtQlcpCj+RDS1MaHj6mxfpcP0ZOA33P2atjV5P35L27Qxp2cdc+ZQXbzXZFeEAAAAgQZvaSeEKUmUwIZ/+nhABuhGTqW+9Ew7DgS3B7Lw8mYEAAAAwQZ/4RTRMK/8AXR/okPmrgcVOYAcGYibPwSAwQ7IPx5S/aRX7ICKAwBI8yJRB3y7gAAAAGgGeF3RCfwB2ldotF+zLLaxTjLoJLMSWzoLgAAAAGgGeGWpCfwBiBM6IEAEPpJ0+eYIHxi9h2dXBAAAAOkGaHUmoQWiZTAhf//6MsAG9PkxAOE1YBNc2L/b+OQBVXEkiDfxTrO4Dp74JGKsaLnaCo3r/Kde/Vn4AAAAbQZ47RREsK/8AXS61I27X1WfiEAJln2opN+UsAAAAIwGeXGpCfwB24XcwAG0FcB5fCG6Za69pOG3dkELMVm1ENaOBAAAAHkGaQUmoQWyZTAhf//6MsAG04SzytqnfMEmoGxmX2gAAABFBnn9FFSwr/wBa2icl6E3CzQAAABEBnp50Qn8Ac/XwYaCoEpIFzQAAAAkBnoBqQn8AN6AAAAAaQZqDSahBbJlMFEwn//3xAA99sUxFXZdF288AAAAOAZ6iakJ/AHFBpWh112AAAAsHbW9vdgAAAGxtdmhkAAAAAAAAAAAAAAAAAAAD6AAAGHsAAQAAAQAAAAAAAAAAAAAAAAEAAAAAAAAAAAAAAAAAAAABAAAAAAAAAAAAAAAAAABAAAAAAAAAAAAAAAAAAAAAAAAAAAAAAAAAAAAAAAAAAgAACjF0cmFrAAAAXHRraGQAAAADAAAAAAAAAAAAAAABAAAAAAAAGHsAAAAAAAAAAAAAAAAAAAAAAAEAAAAAAAAAAAAAAAAAAAABAAAAAAAAAAAAAAAAAABAAAAAAKAAAADSAAAAAAAkZWR0cwAAABxlbHN0AAAAAAAAAAEAABh7AAAEAAABAAAAAAmpbWRpYQAAACBtZGhkAAAAAAAAAAAAAAAAAAA8AAABeABVxAAAAAAALWhkbHIAAAAAAAAAAHZpZGUAAAAAAAAAAAAAAABWaWRlb0hhbmRsZXIAAAAJVG1pbmYAAAAUdm1oZAAAAAEAAAAAAAAAAAAAACRkaW5mAAAAHGRyZWYAAAAAAAAAAQAAAAx1cmwgAAAAAQAACRRzdGJsAAAAmHN0c2QAAAAAAAAAAQAAAIhhdmMxAAAAAAAAAAEAAAAAAAAAAAAAAAAAAAAAAKAA0gBIAAAASAAAAAAAAAABAAAAAAAAAAAAAAAAAAAAAAAAAAAAAAAAAAAAAAAAAAAAGP//AAAAMmF2Y0MBZAAM/+EAGWdkAAys2UKHfiIQAAADABAAAAMDwPFCmWABAAZo6+PLIsAAAAAYc3R0cwAAAAAAAAABAAAAvAAAAgAAAAAgc3RzcwAAAAAAAAAEAAAAAQAAAC0AAABZAAAAmQAABQhjdHRzAAAAAAAAAJ8AAAABAAAEAAAAAAEAAAYAAAAAAQAAAgAAAAAEAAAEAAAAAAEAAAoAAAAAAQAABAAAAAABAAAAAAAAAAEAAAIAAAAAAwAABAAAAAABAAAGAAAAAAEAAAIAAAAAAgAABAAAAAABAAAKAAAAAAEAAAQAAAAAAQAAAAAAAAABAAACAAAAAAMAAAQAAAAAAQAABgAAAAABAAACAAAAAAIAAAQAAAAAAQAACgAAAAABAAAEAAAAAAEAAAAAAAAAAQAAAgAAAAABAAAKAAAAAAEAAAQAAAAAAQAAAAAAAAABAAACAAAAAAEAAAYAAAAAAQAAAgAAAAADAAAEAAAAAAEAAAYAAAAAAQAAAgAAAAABAAAEAAAAAAEAAAgAAAAAAgAAAgAAAAABAAAIAAAAAAIAAAIAAAAAAQAACAAAAAACAAACAAAAAAEAAAQAAAAAAQAACAAAAAACAAACAAAAAAEAAAoAAAAAAQAABAAAAAABAAAAAAAAAAEAAAIAAAAAAQAACgAAAAABAAAEAAAAAAEAAAAAAAAAAQAAAgAAAAABAAAEAAAAAAEAAAoAAAAAAQAABAAAAAABAAAAAAAAAAEAAAIAAAAAAQAABgAAAAABAAACAAAAAAIAAAQAAAAAAQAACAAAAAACAAACAAAAAAEAAAQAAAAAAQAACgAAAAABAAAEAAAAAAEAAAAAAAAAAQAAAgAAAAACAAAEAAAAAAEAAAgAAAAAAgAAAgAAAAABAAAEAAAAAAEAAAYAAAAAAQAAAgAAAAACAAAEAAAAAAEAAAgAAAAAAgAAAgAAAAABAAAKAAAAAAEAAAQAAAAAAQAAAAAAAAABAAACAAAAAAEAAAQAAAAAAQAABgAAAAABAAACAAAAAAEAAAQAAAAAAQAACAAAAAACAAACAAAAAAEAAAYAAAAAAQAAAgAAAAABAAAKAAAAAAEAAAQAAAAAAQAAAAAAAAABAAACAAAAAAEAAAoAAAAAAQAABAAAAAABAAAAAAAAAAEAAAIAAAAAAQAACAAAAAACAAACAAAAAAEAAAgAAAAAAgAAAgAAAAABAAAEAAAAAAEAAAoAAAAAAQAABAAAAAABAAAAAAAAAAEAAAIAAAAAAQAABAAAAAABAAAGAAAAAAEAAAIAAAAAAQAACAAAAAACAAACAAAAAAIAAAQAAAAAAQAABgAAAAABAAACAAAAAAEAAAQAAAAAAQAACAAAAAACAAACAAAAAAEAAAYAAAAAAQAAAgAAAAABAAAKAAAAAAEAAAQAAAAAAQAAAAAAAAABAAACAAAAAAEAAAoAAAAAAQAABAAAAAABAAAAAAAAAAEAAAIAAAAAAQAABAAAAAABAAAKAAAAAAEAAAQAAAAAAQAAAAAAAAABAAACAAAAAAEAAAYAAAAAAQAAAgAAAAABAAAEAAAAAAEAAAoAAAAAAQAABAAAAAABAAAAAAAAAAEAAAIAAAAAAQAACgAAAAABAAAEAAAAAAEAAAAAAAAAAQAAAgAAAAABAAAEAAAAAAEAAAYAAAAAAQAAAgAAAAABAAAIAAAAAAIAAAIAAAAAAQAABAAAAAABAAAKAAAAAAEAAAQAAAAAAQAAAAAAAAABAAACAAAAAAEAAAgAAAAAAgAAAgAAAAABAAAKAAAAAAEAAAQAAAAAAQAAAAAAAAABAAACAAAAAAEAAAYAAAAAAQAAAgAAAAAcc3RzYwAAAAAAAAABAAAAAQAAALwAAAABAAADBHN0c3oAAAAAAAAAAAAAALwAAATQAAAAUAAAABYAAAA0AAAAOgAAADcAAAA1AAAAQwAAAB8AAAAZAAAAOAAAAEUAAAAmAAAAIgAAAD4AAAAeAAAATwAAADwAAABEAAAALwAAABMAAAA6AAAAYgAAAj4AAAB5AAAAXwAAAGMAAAAqAAAAJAAAAEQAAAAoAAAAMAAAAA8AAAAWAAAADwAAAA0AAAANAAAAHAAAABEAAABCAAAATwAAADEAAAAzAAAAGAAAAjEAAABvAAAAHgAAAB0AAAA4AAAALQAAABoAAAA+AAAAHAAAACwAAABBAAAAMgAAABcAAAAZAAAAOAAAADwAAAAxAAAAKQAAADEAAAAlAAAAHwAAACIAAAAmAAAAHgAAABkAAAAUAAAAFgAAACQAAAAVAAAAHgAAAGEAAAAdAAAAFwAAABIAAAAsAAAAMwAAABwAAAAWAAAAKwAAADcAAAAhAAAAPAAAAB4AAAAhAAACYAAAADcAAAAaAAAAKQAAABoAAAA0AAAAHAAAABgAAAA6AAAAMgAAABIAAAAaAAAAQAAAAEMAAAA3AAAASgAAACkAAAArAAAAIAAAAGAAAAAXAAAAHgAAABgAAAASAAAAEgAAADQAAAAbAAAAFAAAACcAAAAkAAAAFQAAABMAAABCAAAAHgAAAC8AAAAnAAAAMgAAADUAAAAfAAAAHgAAADMAAABGAAAAGgAAAHsAAAA1AAAAPgAAABoAAAAcAAAASwAAABgAAABSAAAALAAAABgAAAATAAAAXAAAACsAAAAlAAAAFwAAABgAAAAPAAAANQAAABYAAAAPAAAAFAAAAhAAAABTAAAAHwAAABgAAAAZAAAAQAAAABkAAAA2AAAAKAAAAEQAAAAyAAAAGQAAAD4AAAApAAAAFgAAABoAAAAzAAAALQAAABMAAABDAAAAIwAAACcAAABPAAAAJAAAADQAAAAeAAAAHgAAAD4AAAAfAAAAJwAAACIAAAAVAAAAFQAAAA0AAAAeAAAAEgAAABRzdGNvAAAAAAAAAAEAAAAwAAAAYnVkdGEAAABabWV0YQAAAAAAAAAhaGRscgAAAAAAAAAAbWRpcmFwcGwAAAAAAAAAAAAAAAAtaWxzdAAAACWpdG9vAAAAHWRhdGEAAAABAAAAAExhdmY1Ny44My4xMDA=\" type=\"video/mp4\" />\n",
              "             </video>"
            ],
            "text/plain": [
              "<IPython.core.display.HTML object>"
            ]
          },
          "metadata": {
            "tags": []
          }
        },
        {
          "output_type": "stream",
          "text": [
            "Hello World\n"
          ],
          "name": "stdout"
        }
      ]
    },
    {
      "cell_type": "code",
      "metadata": {
        "id": "5Agwqbfloms8",
        "colab_type": "code",
        "colab": {}
      },
      "source": [
        ""
      ],
      "execution_count": 0,
      "outputs": []
    }
  ]
}