{
  "nbformat": 4,
  "nbformat_minor": 0,
  "metadata": {
    "colab": {
      "name": "Copy of prototype_atari_with_actor_critic.ipynb",
      "provenance": [],
      "collapsed_sections": [],
      "machine_shape": "hm",
      "include_colab_link": true
    },
    "kernelspec": {
      "name": "python3",
      "display_name": "Python 3"
    },
    "accelerator": "GPU",
    "widgets": {
      "application/vnd.jupyter.widget-state+json": {
        "3e202ae8fe6840fa80c63df2042fd4a0": {
          "model_module": "@jupyter-widgets/controls",
          "model_name": "HBoxModel",
          "state": {
            "_view_name": "HBoxView",
            "_dom_classes": [],
            "_model_name": "HBoxModel",
            "_view_module": "@jupyter-widgets/controls",
            "_model_module_version": "1.5.0",
            "_view_count": null,
            "_view_module_version": "1.5.0",
            "box_style": "",
            "layout": "IPY_MODEL_db7daebd5a83420f8ab652a6f58bffa9",
            "_model_module": "@jupyter-widgets/controls",
            "children": [
              "IPY_MODEL_1efb92915ae1407bb625c1b6d5634f73",
              "IPY_MODEL_fd495d235910469bb27d90188b5b4895"
            ]
          }
        },
        "db7daebd5a83420f8ab652a6f58bffa9": {
          "model_module": "@jupyter-widgets/base",
          "model_name": "LayoutModel",
          "state": {
            "_view_name": "LayoutView",
            "grid_template_rows": null,
            "right": null,
            "justify_content": null,
            "_view_module": "@jupyter-widgets/base",
            "overflow": null,
            "_model_module_version": "1.2.0",
            "_view_count": null,
            "flex_flow": null,
            "width": null,
            "min_width": null,
            "border": null,
            "align_items": null,
            "bottom": null,
            "_model_module": "@jupyter-widgets/base",
            "top": null,
            "grid_column": null,
            "overflow_y": null,
            "overflow_x": null,
            "grid_auto_flow": null,
            "grid_area": null,
            "grid_template_columns": null,
            "flex": null,
            "_model_name": "LayoutModel",
            "justify_items": null,
            "grid_row": null,
            "max_height": null,
            "align_content": null,
            "visibility": null,
            "align_self": null,
            "height": null,
            "min_height": null,
            "padding": null,
            "grid_auto_rows": null,
            "grid_gap": null,
            "max_width": null,
            "order": null,
            "_view_module_version": "1.2.0",
            "grid_template_areas": null,
            "object_position": null,
            "object_fit": null,
            "grid_auto_columns": null,
            "margin": null,
            "display": null,
            "left": null
          }
        },
        "1efb92915ae1407bb625c1b6d5634f73": {
          "model_module": "@jupyter-widgets/controls",
          "model_name": "FloatProgressModel",
          "state": {
            "_view_name": "ProgressView",
            "style": "IPY_MODEL_1c728e0a80ea494188153611f7f9251e",
            "_dom_classes": [],
            "description": "  0%",
            "_model_name": "FloatProgressModel",
            "bar_style": "danger",
            "max": 2000,
            "_view_module": "@jupyter-widgets/controls",
            "_model_module_version": "1.5.0",
            "value": 0,
            "_view_count": null,
            "_view_module_version": "1.5.0",
            "orientation": "horizontal",
            "min": 0,
            "description_tooltip": null,
            "_model_module": "@jupyter-widgets/controls",
            "layout": "IPY_MODEL_ad2d792ad52c47e98d4ec5e0d4478f59"
          }
        },
        "fd495d235910469bb27d90188b5b4895": {
          "model_module": "@jupyter-widgets/controls",
          "model_name": "HTMLModel",
          "state": {
            "_view_name": "HTMLView",
            "style": "IPY_MODEL_9fa453f6b9ad49df89df34ed3d63a51c",
            "_dom_classes": [],
            "description": "",
            "_model_name": "HTMLModel",
            "placeholder": "​",
            "_view_module": "@jupyter-widgets/controls",
            "_model_module_version": "1.5.0",
            "value": " 0/2000 [00:24&lt;?, ?it/s]",
            "_view_count": null,
            "_view_module_version": "1.5.0",
            "description_tooltip": null,
            "_model_module": "@jupyter-widgets/controls",
            "layout": "IPY_MODEL_4dd3fe51f0734aec98a87fcd0db5eea3"
          }
        },
        "1c728e0a80ea494188153611f7f9251e": {
          "model_module": "@jupyter-widgets/controls",
          "model_name": "ProgressStyleModel",
          "state": {
            "_view_name": "StyleView",
            "_model_name": "ProgressStyleModel",
            "description_width": "initial",
            "_view_module": "@jupyter-widgets/base",
            "_model_module_version": "1.5.0",
            "_view_count": null,
            "_view_module_version": "1.2.0",
            "bar_color": null,
            "_model_module": "@jupyter-widgets/controls"
          }
        },
        "ad2d792ad52c47e98d4ec5e0d4478f59": {
          "model_module": "@jupyter-widgets/base",
          "model_name": "LayoutModel",
          "state": {
            "_view_name": "LayoutView",
            "grid_template_rows": null,
            "right": null,
            "justify_content": null,
            "_view_module": "@jupyter-widgets/base",
            "overflow": null,
            "_model_module_version": "1.2.0",
            "_view_count": null,
            "flex_flow": null,
            "width": null,
            "min_width": null,
            "border": null,
            "align_items": null,
            "bottom": null,
            "_model_module": "@jupyter-widgets/base",
            "top": null,
            "grid_column": null,
            "overflow_y": null,
            "overflow_x": null,
            "grid_auto_flow": null,
            "grid_area": null,
            "grid_template_columns": null,
            "flex": null,
            "_model_name": "LayoutModel",
            "justify_items": null,
            "grid_row": null,
            "max_height": null,
            "align_content": null,
            "visibility": null,
            "align_self": null,
            "height": null,
            "min_height": null,
            "padding": null,
            "grid_auto_rows": null,
            "grid_gap": null,
            "max_width": null,
            "order": null,
            "_view_module_version": "1.2.0",
            "grid_template_areas": null,
            "object_position": null,
            "object_fit": null,
            "grid_auto_columns": null,
            "margin": null,
            "display": null,
            "left": null
          }
        },
        "9fa453f6b9ad49df89df34ed3d63a51c": {
          "model_module": "@jupyter-widgets/controls",
          "model_name": "DescriptionStyleModel",
          "state": {
            "_view_name": "StyleView",
            "_model_name": "DescriptionStyleModel",
            "description_width": "",
            "_view_module": "@jupyter-widgets/base",
            "_model_module_version": "1.5.0",
            "_view_count": null,
            "_view_module_version": "1.2.0",
            "_model_module": "@jupyter-widgets/controls"
          }
        },
        "4dd3fe51f0734aec98a87fcd0db5eea3": {
          "model_module": "@jupyter-widgets/base",
          "model_name": "LayoutModel",
          "state": {
            "_view_name": "LayoutView",
            "grid_template_rows": null,
            "right": null,
            "justify_content": null,
            "_view_module": "@jupyter-widgets/base",
            "overflow": null,
            "_model_module_version": "1.2.0",
            "_view_count": null,
            "flex_flow": null,
            "width": null,
            "min_width": null,
            "border": null,
            "align_items": null,
            "bottom": null,
            "_model_module": "@jupyter-widgets/base",
            "top": null,
            "grid_column": null,
            "overflow_y": null,
            "overflow_x": null,
            "grid_auto_flow": null,
            "grid_area": null,
            "grid_template_columns": null,
            "flex": null,
            "_model_name": "LayoutModel",
            "justify_items": null,
            "grid_row": null,
            "max_height": null,
            "align_content": null,
            "visibility": null,
            "align_self": null,
            "height": null,
            "min_height": null,
            "padding": null,
            "grid_auto_rows": null,
            "grid_gap": null,
            "max_width": null,
            "order": null,
            "_view_module_version": "1.2.0",
            "grid_template_areas": null,
            "object_position": null,
            "object_fit": null,
            "grid_auto_columns": null,
            "margin": null,
            "display": null,
            "left": null
          }
        }
      }
    }
  },
  "cells": [
    {
      "cell_type": "markdown",
      "metadata": {
        "id": "view-in-github",
        "colab_type": "text"
      },
      "source": [
        "<a href=\"https://colab.research.google.com/github/tianhaoz95/ultron/blob/dev%2Ftry-atari-game/notebooks/prototype_atari_with_actor_critic.ipynb\" target=\"_parent\"><img src=\"https://colab.research.google.com/assets/colab-badge.svg\" alt=\"Open In Colab\"/></a>"
      ]
    },
    {
      "cell_type": "code",
      "metadata": {
        "id": "DX_OfbY42iKs",
        "colab_type": "code",
        "colab": {}
      },
      "source": [
        "!pip install gym pyvirtualdisplay tqdm > /dev/null 2>&1\n",
        "!apt-get install -y xvfb python-opengl ffmpeg x11-utils > /dev/null 2>&1"
      ],
      "execution_count": 0,
      "outputs": []
    },
    {
      "cell_type": "code",
      "metadata": {
        "id": "JM66lPmrmUx1",
        "colab_type": "code",
        "outputId": "5f77504f-738d-4178-cfc4-caded72efd84",
        "colab": {
          "base_uri": "https://localhost:8080/",
          "height": 34
        }
      },
      "source": [
        "!apt-get update > /dev/null 2>&1\n",
        "!apt-get install cmake > /dev/null 2>&1\n",
        "!pip install --upgrade setuptools 2>&1\n",
        "!pip install ez_setup > /dev/null 2>&1\n",
        "!pip install gym[atari] > /dev/null 2>&1\n",
        "!pip install gputil > /dev/null 2>&1\n",
        "!pip install pyglet==1.2.4 > /dev/null 2>&1"
      ],
      "execution_count": 2,
      "outputs": [
        {
          "output_type": "stream",
          "text": [
            "Requirement already up-to-date: setuptools in /usr/local/lib/python3.6/dist-packages (46.1.3)\n"
          ],
          "name": "stdout"
        }
      ]
    },
    {
      "cell_type": "code",
      "metadata": {
        "id": "KxSzy33ETUiX",
        "colab_type": "code",
        "outputId": "de4b4e44-77b9-4f99-9670-00cc2d0798cf",
        "colab": {
          "base_uri": "https://localhost:8080/",
          "height": 340
        }
      },
      "source": [
        "import tensorflow as tf\n",
        "import GPUtil\n",
        "print(\"Tensorflow version \" + tf.__version__)\n",
        "try:\n",
        "  tpu = tf.distribute.cluster_resolver.TPUClusterResolver()  # TPU detection\n",
        "  print('Running on TPU ', tpu.cluster_spec().as_dict()['worker'])\n",
        "  tf.config.experimental_connect_to_cluster(tpu)\n",
        "  tf.tpu.experimental.initialize_tpu_system(tpu)\n",
        "  tpu_strategy = tf.distribute.experimental.TPUStrategy(tpu)\n",
        "except ValueError:\n",
        "  try:\n",
        "    print('ERROR: Not connected to a TPU runtime!')\n",
        "    GPUs = GPUtil.getGPUs()\n",
        "    print('GPU count: ' + str(len(GPUs)))\n",
        "    gpu_info = !nvidia-smi\n",
        "    gpu_info = '\\n'.join(gpu_info)\n",
        "    if gpu_info.find('failed') >= 0:\n",
        "      print('Select the Runtime > \"Change runtime type\" menu to enable a GPU accelerator, ')\n",
        "      print('and then re-execute this cell.')\n",
        "    else:\n",
        "      print(gpu_info)\n",
        "  except:\n",
        "    print('Using CPU')"
      ],
      "execution_count": 40,
      "outputs": [
        {
          "output_type": "stream",
          "text": [
            "Tensorflow version 2.2.0-rc4\n",
            "ERROR: Not connected to a TPU runtime!\n",
            "GPU count: 1\n",
            "Fri May  8 19:50:43 2020       \n",
            "+-----------------------------------------------------------------------------+\n",
            "| NVIDIA-SMI 440.82       Driver Version: 418.67       CUDA Version: 10.1     |\n",
            "|-------------------------------+----------------------+----------------------+\n",
            "| GPU  Name        Persistence-M| Bus-Id        Disp.A | Volatile Uncorr. ECC |\n",
            "| Fan  Temp  Perf  Pwr:Usage/Cap|         Memory-Usage | GPU-Util  Compute M. |\n",
            "|===============================+======================+======================|\n",
            "|   0  Tesla P100-PCIE...  Off  | 00000000:00:04.0 Off |                    0 |\n",
            "| N/A   45C    P0    32W / 250W |   8819MiB / 16280MiB |      0%      Default |\n",
            "+-------------------------------+----------------------+----------------------+\n",
            "                                                                               \n",
            "+-----------------------------------------------------------------------------+\n",
            "| Processes:                                                       GPU Memory |\n",
            "|  GPU       PID   Type   Process name                             Usage      |\n",
            "|=============================================================================|\n",
            "+-----------------------------------------------------------------------------+\n"
          ],
          "name": "stdout"
        }
      ]
    },
    {
      "cell_type": "code",
      "metadata": {
        "id": "StODOp9qm7As",
        "colab_type": "code",
        "outputId": "49547bb3-b2dd-496a-c510-d873263828c7",
        "colab": {
          "base_uri": "https://localhost:8080/",
          "height": 54
        }
      },
      "source": [
        "import gym\n",
        "import threading\n",
        "import math\n",
        "import glob\n",
        "import io\n",
        "import base64\n",
        "import multiprocessing\n",
        "import matplotlib\n",
        "import numpy as np\n",
        "import pandas as pd\n",
        "import tensorflow as tf\n",
        "import matplotlib.pyplot as plt\n",
        "%matplotlib inline\n",
        "from gym.wrappers import Monitor\n",
        "from tensorflow import keras\n",
        "from os import path\n",
        "from time import sleep\n",
        "from tqdm.notebook import tqdm\n",
        "from IPython.display import HTML\n",
        "from IPython import display as ipythondisplay\n",
        "from pyvirtualdisplay import Display\n",
        "display = Display(visible=0, size=(1400, 900))\n",
        "display.start()"
      ],
      "execution_count": 67,
      "outputs": [
        {
          "output_type": "execute_result",
          "data": {
            "text/plain": [
              "<Display cmd_param=['Xvfb', '-br', '-nolisten', 'tcp', '-screen', '0', '1400x900x24', ':1005'] cmd=['Xvfb', '-br', '-nolisten', 'tcp', '-screen', '0', '1400x900x24', ':1005'] oserror=None return_code=None stdout=\"None\" stderr=\"None\" timeout_happened=False>"
            ]
          },
          "metadata": {
            "tags": []
          },
          "execution_count": 67
        }
      ]
    },
    {
      "cell_type": "code",
      "metadata": {
        "id": "tvT2J4Oa6AsX",
        "colab_type": "code",
        "outputId": "3dd66c5c-4f76-4c4d-b6dc-7bda8e272bf5",
        "colab": {
          "base_uri": "https://localhost:8080/",
          "height": 34
        }
      },
      "source": [
        "print('using tensorflow', tf.__version__)"
      ],
      "execution_count": 68,
      "outputs": [
        {
          "output_type": "stream",
          "text": [
            "using tensorflow 2.2.0-rc4\n"
          ],
          "name": "stdout"
        }
      ]
    },
    {
      "cell_type": "code",
      "metadata": {
        "id": "bR4rdPq23olN",
        "colab_type": "code",
        "colab": {}
      },
      "source": [
        "def show_video():\n",
        "  mp4list = glob.glob('video/*.mp4')\n",
        "  if len(mp4list) > 0:\n",
        "    mp4 = mp4list[0]\n",
        "    video = io.open(mp4, 'r+b').read()\n",
        "    encoded = base64.b64encode(video)\n",
        "    ipythondisplay.display(HTML(data='''<video alt=\"test\" autoplay \n",
        "                loop controls style=\"height: 400px;\">\n",
        "                <source src=\"data:video/mp4;base64,{0}\" type=\"video/mp4\" />\n",
        "             </video>'''.format(encoded.decode('ascii'))))\n",
        "  else: \n",
        "    print(\"Could not find video\")\n",
        "\n",
        "def wrap_env(env):\n",
        "  wrapped_env = Monitor(env, './video', force=True)\n",
        "  return wrapped_env"
      ],
      "execution_count": 0,
      "outputs": []
    },
    {
      "cell_type": "code",
      "metadata": {
        "id": "xG-mqsx41fhc",
        "colab_type": "code",
        "colab": {}
      },
      "source": [
        "class PipelineArgs():\n",
        "  def __init__(self,\n",
        "               game_name='Acrobot-v1',\n",
        "               mode='train',\n",
        "               max_eps=100,\n",
        "               update_freq=20,\n",
        "               gamma=0.99,\n",
        "               model_path='.',\n",
        "               load_model=False,\n",
        "               lr=0.001):\n",
        "    self.game_name = game_name\n",
        "    self.mode = mode\n",
        "    self.gamma = gamma\n",
        "    self.update_freq = update_freq\n",
        "    self.lr = lr\n",
        "    self.max_eps = max_eps\n",
        "    self.load_model = load_model\n",
        "    self.model_path = model_path"
      ],
      "execution_count": 0,
      "outputs": []
    },
    {
      "cell_type": "code",
      "metadata": {
        "id": "bz8PHZKXb-db",
        "colab_type": "code",
        "colab": {}
      },
      "source": [
        "class History():\n",
        "  def __init__(self, args):\n",
        "    self.history = pd.DataFrame()\n",
        "    self.args = args\n",
        "  \n",
        "  def record(self, eps_reward):\n",
        "    self.eps_rewards.append(eps_reward)\n",
        "\n",
        "  def save(self):\n",
        "    self.history['eps_rewards'] = self.eps_rewards\n",
        "    self.history.to_csv(path.join(self.args.model_path, 'history.csv'))\n",
        "  \n",
        "  def load(self):\n",
        "    if path.exists(\n",
        "        path.join(\n",
        "            self.args.model_path, 'history.csv')) and self.args.load_model:\n",
        "      self.history = pd.DataFrame()\n",
        "      self.history.read_csv(path.join(self.args.model_path, 'history.csv'))"
      ],
      "execution_count": 0,
      "outputs": []
    },
    {
      "cell_type": "code",
      "metadata": {
        "id": "to5WdjMOBij4",
        "colab_type": "code",
        "colab": {}
      },
      "source": [
        "class Memory():\n",
        "  def __init__(self):\n",
        "    self.states = []\n",
        "    self.actions = []\n",
        "    self.rewards = []\n",
        "  \n",
        "  def store(self, state, action, reward):\n",
        "    self.states.append(state)\n",
        "    self.actions.append(action)\n",
        "    self.rewards.append(reward)\n",
        "\n",
        "  def clear(self):\n",
        "    self.states = []\n",
        "    self.actions = []\n",
        "    self.rewards = []"
      ],
      "execution_count": 0,
      "outputs": []
    },
    {
      "cell_type": "code",
      "metadata": {
        "id": "yPNOZzhineIp",
        "colab_type": "code",
        "colab": {}
      },
      "source": [
        "class Worker(threading.Thread):\n",
        "  # The cumulative episode played\n",
        "  global_eps = 0\n",
        "  best_score = 0\n",
        "  lock = threading.Lock()\n",
        "\n",
        "  def __init__(self,\n",
        "               args,\n",
        "               action_size,\n",
        "               state_size,\n",
        "               global_model,\n",
        "               opt,\n",
        "               pbar):\n",
        "    super(Worker, self).__init__()\n",
        "    self.args = args\n",
        "    self.game_name = self.args.game_name\n",
        "    self.env = gym.make(self.game_name)\n",
        "    self.action_size = action_size\n",
        "    self.state_size = state_size\n",
        "    self.local_model = ActorCriticModel(self.state_size, self.action_size)\n",
        "    self.eps_loss = 0\n",
        "    self.opt = opt\n",
        "    self.global_model = global_model\n",
        "    self.pbar = pbar\n",
        "\n",
        "  def compute_loss(self, done, new_state, memory):\n",
        "    if done:\n",
        "      reward_sum = 0\n",
        "    else:\n",
        "      reward_sum = self.local_model(\n",
        "          tf.convert_to_tensor(\n",
        "              new_state[None, :],\n",
        "              dtype=tf.float32))[-1].numpy()[0]\n",
        "    discounted_rewards = []\n",
        "    for reward in memory.rewards[::-1]:\n",
        "      reward_sum = reward + self.args.gamma * reward_sum\n",
        "      discounted_rewards.append(reward_sum)\n",
        "    discounted_rewards.reverse()\n",
        "    past_states = np.array(memory.states)\n",
        "    logits, values = self.local_model(\n",
        "        tf.convert_to_tensor(past_states, dtype=tf.float32))\n",
        "    advantage = tf.convert_to_tensor(\n",
        "        np.array(discounted_rewards)[:, None], dtype=tf.float32) - values\n",
        "    # Calculate the loss for value function which mean how off is our\n",
        "    # predicted value from the true value estimated from the discounted\n",
        "    # reward.\n",
        "    value_loss = advantage ** 2\n",
        "    # Calculate the policy loss\n",
        "    policy = tf.nn.softmax(logits)\n",
        "    entropy = tf.nn.softmax_cross_entropy_with_logits(\n",
        "        labels=policy, logits=logits)\n",
        "    policy_loss = tf.nn.sparse_softmax_cross_entropy_with_logits(\n",
        "        labels=memory.actions, logits=logits)\n",
        "    policy_loss *= tf.stop_gradient(advantage)\n",
        "    policy_loss -= 0.01 * entropy\n",
        "    # Combine the value and policy loss to be a single trainable\n",
        "    total_loss = tf.reduce_mean((0.5 * value_loss + policy_loss))\n",
        "    return total_loss\n",
        "\n",
        "  def compute_and_apply_gradient(self, done, new_state, mem):\n",
        "    with tf.GradientTape() as tape:\n",
        "      total_loss = self.compute_loss(done, new_state, mem)\n",
        "    self.eps_loss += total_loss\n",
        "    grads = tape.gradient(\n",
        "        total_loss, self.local_model.trainable_weights)\n",
        "    self.opt.apply_gradients(zip(\n",
        "        grads, self.global_model.trainable_weights))\n",
        "    self.local_model.set_weights(self.global_model.get_weights())\n",
        "\n",
        "  def run(self):\n",
        "    # Prepare variables\n",
        "    mem = Memory()\n",
        "    total_steps = 1\n",
        "    # Check the maximum episode of learning is reached\n",
        "    while Worker.global_eps < self.args.max_eps:\n",
        "      current_state = self.env.reset()\n",
        "      mem.clear()\n",
        "      done = False\n",
        "      ep_reward = 0\n",
        "      self.eps_loss = 0\n",
        "      time_count = 0\n",
        "      ep_steps = 0\n",
        "      # Check if the game is over\n",
        "      while not done:\n",
        "        # Get the policy and play the game\n",
        "        logits, _ = self.local_model(\n",
        "            tf.convert_to_tensor(np.array([current_state]), dtype=tf.float32))\n",
        "        probs = tf.nn.softmax(logits)\n",
        "        action = np.random.choice(self.action_size, p=probs.numpy()[0])\n",
        "        new_state, reward, done, info = self.env.step(action)\n",
        "        ep_reward += reward\n",
        "        mem.store(current_state, action, reward)\n",
        "        # If the explore time limit has been reached or\n",
        "        # the game is over, then update the models\n",
        "        if time_count >= self.args.update_freq or done:\n",
        "          self.compute_and_apply_gradient(done, new_state, mem)\n",
        "          mem.clear()\n",
        "          time_count = 0\n",
        "          if done:\n",
        "            with Worker.lock:\n",
        "              if Worker.global_eps == 0:\n",
        "                Worker.best_score = ep_reward\n",
        "              if ep_reward > Worker.best_score:\n",
        "                self.global_model.save_weights(\n",
        "                    path.join(self.args.model_path, 'best.h5'))\n",
        "                Worker.best_score = ep_reward\n",
        "              else:\n",
        "                self.global_model.save_weights(\n",
        "                    path.join(self.args.model_path, 'backup.h5'))\n",
        "              Worker.global_eps += 1\n",
        "              self.pbar.set_description(\n",
        "                  f'step: {ep_steps}, reward {ep_reward}/{Worker.best_score}')\n",
        "              self.pbar.update(1)\n",
        "        ep_steps += 1\n",
        "        time_count += 1\n",
        "        current_state = new_state\n",
        "        total_steps += 1"
      ],
      "execution_count": 0,
      "outputs": []
    },
    {
      "cell_type": "code",
      "metadata": {
        "id": "bnSC4zC4nt9C",
        "colab_type": "code",
        "colab": {}
      },
      "source": [
        "class ActorCriticModel(keras.Model):\n",
        "  def __init__(self, state_size, action_size):\n",
        "    super(ActorCriticModel, self).__init__()\n",
        "    self.state_size = state_size\n",
        "    self.action_size = action_size\n",
        "    self.conv_0 = keras.layers.Conv2D(\n",
        "        filters=4,\n",
        "        activation='relu',\n",
        "        kernel_size=8,\n",
        "        kernel_initializer='random_uniform',\n",
        "        input_shape=(None, 210, 160, 3))\n",
        "    self.conv_1 = keras.layers.Conv2D(\n",
        "        filters=4,\n",
        "        activation='relu',\n",
        "        kernel_initializer='random_uniform',\n",
        "        kernel_size=8)\n",
        "    self.flatten  =keras.layers.Flatten()\n",
        "    self.policy_dense_0 = keras.layers.Dense(\n",
        "        64, kernel_initializer='random_uniform', activation='relu')\n",
        "    self.policy_dense_1 = keras.layers.Dense(\n",
        "        32, kernel_initializer='random_uniform', activation='relu')\n",
        "    self.policy_logits = keras.layers.Dense(self.action_size, activation='relu')\n",
        "    self.value_dense = keras.layers.Dense(\n",
        "        128, kernel_initializer='random_uniform', activation='relu')\n",
        "    self.value = keras.layers.Dense(1)\n",
        "  \n",
        "  def call(self, inputs):\n",
        "    x = self.conv_0(inputs)\n",
        "    x = self.conv_1(x)\n",
        "    x = self.flatten(x)\n",
        "    p = self.policy_dense_0(x)\n",
        "    p = self.policy_dense_1(p)\n",
        "    logits = self.policy_logits(p)\n",
        "    v = self.value_dense(x)\n",
        "    values = self.value(v)\n",
        "    return logits, values"
      ],
      "execution_count": 0,
      "outputs": []
    },
    {
      "cell_type": "code",
      "metadata": {
        "id": "wtTON1xmoJCc",
        "colab_type": "code",
        "colab": {}
      },
      "source": [
        "class BaselineModel():\n",
        "  def __init__(self):\n",
        "    print('not implemented')"
      ],
      "execution_count": 0,
      "outputs": []
    },
    {
      "cell_type": "code",
      "metadata": {
        "id": "KVDqVpOqn_e0",
        "colab_type": "code",
        "colab": {}
      },
      "source": [
        "class MasterAgent():\n",
        "  def __init__(self, args):\n",
        "    self.args = args\n",
        "    self.game_name = self.args.game_name\n",
        "    env = gym.make(self.game_name)\n",
        "    self.action_size = env.action_space.n\n",
        "    self.state_size = env.observation_space.shape[0]\n",
        "    self.opt = tf.optimizers.Adam(self.args.lr)\n",
        "    print('state_size: ', self.state_size)\n",
        "    print('action_size: ', self.action_size)\n",
        "    self.global_model = ActorCriticModel(self.state_size, self.action_size)\n",
        "    self.global_model(\n",
        "      tf.convert_to_tensor(\n",
        "      np.random.random((5, 210, 160, 3)),\n",
        "      dtype=tf.float32))\n",
        "    if path.exists(\n",
        "        path.join(self.args.model_path, 'best.h5')) and self.args.load_model:\n",
        "      self.global_model.load_weights(\n",
        "          path.join(self.args.model_path, 'best.h5'))\n",
        "    self.pbar = tqdm(total=self.args.max_eps)\n",
        "  \n",
        "  def train_sync(self):\n",
        "    worker = Worker(self.args, self.action_size, self.state_size,\n",
        "                    self.global_model, self.opt, self.pbar)\n",
        "    worker.run()\n",
        "    self.pbar.close()\n",
        "  \n",
        "  def train_async(self):\n",
        "    Worker.global_eps = 0;\n",
        "    workers = [\n",
        "      Worker(self.args, self.action_size, self.state_size,\n",
        "             self.global_model, self.opt, self.pbar)\n",
        "      for i in range(multiprocessing.cpu_count())\n",
        "    ]\n",
        "    print(f'using {len(workers)} worker in parallel')\n",
        "    for i, worker in enumerate(workers):\n",
        "      worker.start()\n",
        "    [w.join() for w in workers]\n",
        "    self.pbar.close()\n",
        "    self.play()\n",
        "  \n",
        "  def play(self):\n",
        "    self.pbar.close()\n",
        "    env = wrap_env(gym.make(self.args.game_name))\n",
        "    state = env.reset()\n",
        "    model = self.global_model\n",
        "    if path.exists(\n",
        "        path.join(self.args.model_path, 'best.h5')) and self.args.load_model:\n",
        "      model.load_weights(\n",
        "          path.join(self.args.model_path, 'best.h5'))\n",
        "    done = False\n",
        "    while not done:\n",
        "      state_input = tf.convert_to_tensor(state[None, :], dtype=tf.float32)\n",
        "      logit, _ = model(state_input)\n",
        "      policy = tf.nn.softmax(logit)\n",
        "      action = np.argmax(policy)\n",
        "      state, reward, done, _ = env.step(action)\n",
        "    env.close()\n",
        "    show_video()"
      ],
      "execution_count": 0,
      "outputs": []
    },
    {
      "cell_type": "code",
      "metadata": {
        "id": "Yy5tn0pA2-tB",
        "colab_type": "code",
        "colab": {}
      },
      "source": [
        "def gym_sanity_check(args):\n",
        "  print('starting gym environment sanity check')\n",
        "  env = wrap_env(gym.make(args.game_name))\n",
        "  inital_observation = env.reset()\n",
        "  sample_action = env.action_space.sample()\n",
        "  print('observation shape: ', np.array(inital_observation).shape)\n",
        "  print('sample action: ', sample_action)\n",
        "  for _ in range(20):\n",
        "    observation = env.reset()\n",
        "    done = False\n",
        "    while not done:\n",
        "        action = env.action_space.sample()\n",
        "        observation, _, done, _ = env.step(action)\n",
        "  env.close()\n",
        "  show_video()"
      ],
      "execution_count": 0,
      "outputs": []
    },
    {
      "cell_type": "code",
      "metadata": {
        "id": "D_4XwuN1oFkz",
        "colab_type": "code",
        "colab": {}
      },
      "source": [
        "def entry_point(args):\n",
        "  if args.mode == 'sanity':\n",
        "    gym_sanity_check(args)\n",
        "  if args.mode == 'play':\n",
        "    master = MasterAgent(args)\n",
        "    master.play()\n",
        "  if args.mode == 'train_sync':\n",
        "    master = MasterAgent(args)\n",
        "    master.train_sync()\n",
        "  if args.mode == 'train_async':\n",
        "    master = MasterAgent(args)\n",
        "    master.train_async()\n",
        "  print('Hello World')"
      ],
      "execution_count": 0,
      "outputs": []
    },
    {
      "cell_type": "code",
      "metadata": {
        "id": "I_oklLOXofGu",
        "colab_type": "code",
        "outputId": "4ac90c61-8525-4ac8-9fd3-081fbffefc49",
        "colab": {
          "base_uri": "https://localhost:8080/",
          "height": 521,
          "referenced_widgets": [
            "3e202ae8fe6840fa80c63df2042fd4a0",
            "db7daebd5a83420f8ab652a6f58bffa9",
            "1efb92915ae1407bb625c1b6d5634f73",
            "fd495d235910469bb27d90188b5b4895",
            "1c728e0a80ea494188153611f7f9251e",
            "ad2d792ad52c47e98d4ec5e0d4478f59",
            "9fa453f6b9ad49df89df34ed3d63a51c",
            "4dd3fe51f0734aec98a87fcd0db5eea3"
          ]
        }
      },
      "source": [
        "entry_point(\n",
        "    PipelineArgs(\n",
        "        game_name='Berzerk-v0',\n",
        "        update_freq=64,\n",
        "        max_eps=2000,\n",
        "        load_model=True,\n",
        "        mode='play'))"
      ],
      "execution_count": 80,
      "outputs": [
        {
          "output_type": "stream",
          "text": [
            "state_size:  210\n",
            "action_size:  18\n"
          ],
          "name": "stdout"
        },
        {
          "output_type": "display_data",
          "data": {
            "application/vnd.jupyter.widget-view+json": {
              "model_id": "3e202ae8fe6840fa80c63df2042fd4a0",
              "version_minor": 0,
              "version_major": 2
            },
            "text/plain": [
              "HBox(children=(FloatProgress(value=0.0, max=2000.0), HTML(value='')))"
            ]
          },
          "metadata": {
            "tags": []
          }
        },
        {
          "output_type": "stream",
          "text": [
            "\n"
          ],
          "name": "stdout"
        },
        {
          "output_type": "display_data",
          "data": {
            "text/html": [
              "<video alt=\"test\" autoplay \n",
              "                loop controls style=\"height: 400px;\">\n",
              "                <source src=\"data:video/mp4;base64,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\" type=\"video/mp4\" />\n",
              "             </video>"
            ],
            "text/plain": [
              "<IPython.core.display.HTML object>"
            ]
          },
          "metadata": {
            "tags": []
          }
        },
        {
          "output_type": "stream",
          "text": [
            "Hello World\n"
          ],
          "name": "stdout"
        }
      ]
    },
    {
      "cell_type": "code",
      "metadata": {
        "id": "0j16Rl2eF-9d",
        "colab_type": "code",
        "colab": {}
      },
      "source": [
        ""
      ],
      "execution_count": 0,
      "outputs": []
    }
  ]
}