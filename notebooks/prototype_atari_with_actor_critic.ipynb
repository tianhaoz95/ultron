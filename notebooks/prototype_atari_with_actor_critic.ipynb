{
  "nbformat": 4,
  "nbformat_minor": 0,
  "metadata": {
    "colab": {
      "name": "Copy of prototype_atari_with_actor_critic.ipynb",
      "provenance": [],
      "collapsed_sections": [],
      "machine_shape": "hm",
      "include_colab_link": true
    },
    "kernelspec": {
      "name": "python3",
      "display_name": "Python 3"
    },
    "accelerator": "TPU",
    "widgets": {
      "application/vnd.jupyter.widget-state+json": {
        "9340419de6da48c18c31b2ebc90f8d72": {
          "model_module": "@jupyter-widgets/controls",
          "model_name": "HBoxModel",
          "state": {
            "_view_name": "HBoxView",
            "_dom_classes": [],
            "_model_name": "HBoxModel",
            "_view_module": "@jupyter-widgets/controls",
            "_model_module_version": "1.5.0",
            "_view_count": null,
            "_view_module_version": "1.5.0",
            "box_style": "",
            "layout": "IPY_MODEL_88098d9a38934f4c870fd55abc1f94dc",
            "_model_module": "@jupyter-widgets/controls",
            "children": [
              "IPY_MODEL_32b1c9e457b0486591bcbf61ad106233",
              "IPY_MODEL_02d22c8fa3e14d81b63dc90c83ba7744"
            ]
          }
        },
        "88098d9a38934f4c870fd55abc1f94dc": {
          "model_module": "@jupyter-widgets/base",
          "model_name": "LayoutModel",
          "state": {
            "_view_name": "LayoutView",
            "grid_template_rows": null,
            "right": null,
            "justify_content": null,
            "_view_module": "@jupyter-widgets/base",
            "overflow": null,
            "_model_module_version": "1.2.0",
            "_view_count": null,
            "flex_flow": null,
            "width": null,
            "min_width": null,
            "border": null,
            "align_items": null,
            "bottom": null,
            "_model_module": "@jupyter-widgets/base",
            "top": null,
            "grid_column": null,
            "overflow_y": null,
            "overflow_x": null,
            "grid_auto_flow": null,
            "grid_area": null,
            "grid_template_columns": null,
            "flex": null,
            "_model_name": "LayoutModel",
            "justify_items": null,
            "grid_row": null,
            "max_height": null,
            "align_content": null,
            "visibility": null,
            "align_self": null,
            "height": null,
            "min_height": null,
            "padding": null,
            "grid_auto_rows": null,
            "grid_gap": null,
            "max_width": null,
            "order": null,
            "_view_module_version": "1.2.0",
            "grid_template_areas": null,
            "object_position": null,
            "object_fit": null,
            "grid_auto_columns": null,
            "margin": null,
            "display": null,
            "left": null
          }
        },
        "32b1c9e457b0486591bcbf61ad106233": {
          "model_module": "@jupyter-widgets/controls",
          "model_name": "FloatProgressModel",
          "state": {
            "_view_name": "ProgressView",
            "style": "IPY_MODEL_f2ed931cab114d0cb15aa5c541559b0d",
            "_dom_classes": [],
            "description": "step: 167, reward -34.4/-34.0:  12%",
            "_model_name": "FloatProgressModel",
            "bar_style": "",
            "max": 1000,
            "_view_module": "@jupyter-widgets/controls",
            "_model_module_version": "1.5.0",
            "value": 120,
            "_view_count": null,
            "_view_module_version": "1.5.0",
            "orientation": "horizontal",
            "min": 0,
            "description_tooltip": null,
            "_model_module": "@jupyter-widgets/controls",
            "layout": "IPY_MODEL_a7c5f8183fb34f63b2933362937dad17"
          }
        },
        "02d22c8fa3e14d81b63dc90c83ba7744": {
          "model_module": "@jupyter-widgets/controls",
          "model_name": "HTMLModel",
          "state": {
            "_view_name": "HTMLView",
            "style": "IPY_MODEL_6ae937e41a05410387327bb8e6bf72c9",
            "_dom_classes": [],
            "description": "",
            "_model_name": "HTMLModel",
            "placeholder": "​",
            "_view_module": "@jupyter-widgets/controls",
            "_model_module_version": "1.5.0",
            "value": " 120/1000 [08:53&lt;1:05:54,  4.49s/it]",
            "_view_count": null,
            "_view_module_version": "1.5.0",
            "description_tooltip": null,
            "_model_module": "@jupyter-widgets/controls",
            "layout": "IPY_MODEL_4bd986ddb4784025a5e68ce38201cd6d"
          }
        },
        "f2ed931cab114d0cb15aa5c541559b0d": {
          "model_module": "@jupyter-widgets/controls",
          "model_name": "ProgressStyleModel",
          "state": {
            "_view_name": "StyleView",
            "_model_name": "ProgressStyleModel",
            "description_width": "initial",
            "_view_module": "@jupyter-widgets/base",
            "_model_module_version": "1.5.0",
            "_view_count": null,
            "_view_module_version": "1.2.0",
            "bar_color": null,
            "_model_module": "@jupyter-widgets/controls"
          }
        },
        "a7c5f8183fb34f63b2933362937dad17": {
          "model_module": "@jupyter-widgets/base",
          "model_name": "LayoutModel",
          "state": {
            "_view_name": "LayoutView",
            "grid_template_rows": null,
            "right": null,
            "justify_content": null,
            "_view_module": "@jupyter-widgets/base",
            "overflow": null,
            "_model_module_version": "1.2.0",
            "_view_count": null,
            "flex_flow": null,
            "width": null,
            "min_width": null,
            "border": null,
            "align_items": null,
            "bottom": null,
            "_model_module": "@jupyter-widgets/base",
            "top": null,
            "grid_column": null,
            "overflow_y": null,
            "overflow_x": null,
            "grid_auto_flow": null,
            "grid_area": null,
            "grid_template_columns": null,
            "flex": null,
            "_model_name": "LayoutModel",
            "justify_items": null,
            "grid_row": null,
            "max_height": null,
            "align_content": null,
            "visibility": null,
            "align_self": null,
            "height": null,
            "min_height": null,
            "padding": null,
            "grid_auto_rows": null,
            "grid_gap": null,
            "max_width": null,
            "order": null,
            "_view_module_version": "1.2.0",
            "grid_template_areas": null,
            "object_position": null,
            "object_fit": null,
            "grid_auto_columns": null,
            "margin": null,
            "display": null,
            "left": null
          }
        },
        "6ae937e41a05410387327bb8e6bf72c9": {
          "model_module": "@jupyter-widgets/controls",
          "model_name": "DescriptionStyleModel",
          "state": {
            "_view_name": "StyleView",
            "_model_name": "DescriptionStyleModel",
            "description_width": "",
            "_view_module": "@jupyter-widgets/base",
            "_model_module_version": "1.5.0",
            "_view_count": null,
            "_view_module_version": "1.2.0",
            "_model_module": "@jupyter-widgets/controls"
          }
        },
        "4bd986ddb4784025a5e68ce38201cd6d": {
          "model_module": "@jupyter-widgets/base",
          "model_name": "LayoutModel",
          "state": {
            "_view_name": "LayoutView",
            "grid_template_rows": null,
            "right": null,
            "justify_content": null,
            "_view_module": "@jupyter-widgets/base",
            "overflow": null,
            "_model_module_version": "1.2.0",
            "_view_count": null,
            "flex_flow": null,
            "width": null,
            "min_width": null,
            "border": null,
            "align_items": null,
            "bottom": null,
            "_model_module": "@jupyter-widgets/base",
            "top": null,
            "grid_column": null,
            "overflow_y": null,
            "overflow_x": null,
            "grid_auto_flow": null,
            "grid_area": null,
            "grid_template_columns": null,
            "flex": null,
            "_model_name": "LayoutModel",
            "justify_items": null,
            "grid_row": null,
            "max_height": null,
            "align_content": null,
            "visibility": null,
            "align_self": null,
            "height": null,
            "min_height": null,
            "padding": null,
            "grid_auto_rows": null,
            "grid_gap": null,
            "max_width": null,
            "order": null,
            "_view_module_version": "1.2.0",
            "grid_template_areas": null,
            "object_position": null,
            "object_fit": null,
            "grid_auto_columns": null,
            "margin": null,
            "display": null,
            "left": null
          }
        },
        "146ea9b2aaab4752b8ec3bd7783e1aa3": {
          "model_module": "@jupyter-widgets/controls",
          "model_name": "HBoxModel",
          "state": {
            "_view_name": "HBoxView",
            "_dom_classes": [],
            "_model_name": "HBoxModel",
            "_view_module": "@jupyter-widgets/controls",
            "_model_module_version": "1.5.0",
            "_view_count": null,
            "_view_module_version": "1.5.0",
            "box_style": "",
            "layout": "IPY_MODEL_76124ed00a7d4c8893399cf78b66f43e",
            "_model_module": "@jupyter-widgets/controls",
            "children": [
              "IPY_MODEL_7a1e31159d644087b18b56631bb31904",
              "IPY_MODEL_5468b7aff69c45a4b340a3d4863b092e"
            ]
          }
        },
        "76124ed00a7d4c8893399cf78b66f43e": {
          "model_module": "@jupyter-widgets/base",
          "model_name": "LayoutModel",
          "state": {
            "_view_name": "LayoutView",
            "grid_template_rows": null,
            "right": null,
            "justify_content": null,
            "_view_module": "@jupyter-widgets/base",
            "overflow": null,
            "_model_module_version": "1.2.0",
            "_view_count": null,
            "flex_flow": null,
            "width": null,
            "min_width": null,
            "border": null,
            "align_items": null,
            "bottom": null,
            "_model_module": "@jupyter-widgets/base",
            "top": null,
            "grid_column": null,
            "overflow_y": null,
            "overflow_x": null,
            "grid_auto_flow": null,
            "grid_area": null,
            "grid_template_columns": null,
            "flex": null,
            "_model_name": "LayoutModel",
            "justify_items": null,
            "grid_row": null,
            "max_height": null,
            "align_content": null,
            "visibility": null,
            "align_self": null,
            "height": null,
            "min_height": null,
            "padding": null,
            "grid_auto_rows": null,
            "grid_gap": null,
            "max_width": null,
            "order": null,
            "_view_module_version": "1.2.0",
            "grid_template_areas": null,
            "object_position": null,
            "object_fit": null,
            "grid_auto_columns": null,
            "margin": null,
            "display": null,
            "left": null
          }
        },
        "7a1e31159d644087b18b56631bb31904": {
          "model_module": "@jupyter-widgets/controls",
          "model_name": "FloatProgressModel",
          "state": {
            "_view_name": "ProgressView",
            "style": "IPY_MODEL_fc8eac3692ae439cb7acbcabf3fc1382",
            "_dom_classes": [],
            "description": "starting 40 workers: 100%",
            "_model_name": "FloatProgressModel",
            "bar_style": "success",
            "max": 40,
            "_view_module": "@jupyter-widgets/controls",
            "_model_module_version": "1.5.0",
            "value": 40,
            "_view_count": null,
            "_view_module_version": "1.5.0",
            "orientation": "horizontal",
            "min": 0,
            "description_tooltip": null,
            "_model_module": "@jupyter-widgets/controls",
            "layout": "IPY_MODEL_03fef726eef54251a8a0931c1270d562"
          }
        },
        "5468b7aff69c45a4b340a3d4863b092e": {
          "model_module": "@jupyter-widgets/controls",
          "model_name": "HTMLModel",
          "state": {
            "_view_name": "HTMLView",
            "style": "IPY_MODEL_990600485a444d83b9fc6a8a02ea791c",
            "_dom_classes": [],
            "description": "",
            "_model_name": "HTMLModel",
            "placeholder": "​",
            "_view_module": "@jupyter-widgets/controls",
            "_model_module_version": "1.5.0",
            "value": " 40/40 [00:00&lt;00:00, 530.50it/s]",
            "_view_count": null,
            "_view_module_version": "1.5.0",
            "description_tooltip": null,
            "_model_module": "@jupyter-widgets/controls",
            "layout": "IPY_MODEL_824deb60c8d3439a9a0d59ac2764bdbe"
          }
        },
        "fc8eac3692ae439cb7acbcabf3fc1382": {
          "model_module": "@jupyter-widgets/controls",
          "model_name": "ProgressStyleModel",
          "state": {
            "_view_name": "StyleView",
            "_model_name": "ProgressStyleModel",
            "description_width": "initial",
            "_view_module": "@jupyter-widgets/base",
            "_model_module_version": "1.5.0",
            "_view_count": null,
            "_view_module_version": "1.2.0",
            "bar_color": null,
            "_model_module": "@jupyter-widgets/controls"
          }
        },
        "03fef726eef54251a8a0931c1270d562": {
          "model_module": "@jupyter-widgets/base",
          "model_name": "LayoutModel",
          "state": {
            "_view_name": "LayoutView",
            "grid_template_rows": null,
            "right": null,
            "justify_content": null,
            "_view_module": "@jupyter-widgets/base",
            "overflow": null,
            "_model_module_version": "1.2.0",
            "_view_count": null,
            "flex_flow": null,
            "width": null,
            "min_width": null,
            "border": null,
            "align_items": null,
            "bottom": null,
            "_model_module": "@jupyter-widgets/base",
            "top": null,
            "grid_column": null,
            "overflow_y": null,
            "overflow_x": null,
            "grid_auto_flow": null,
            "grid_area": null,
            "grid_template_columns": null,
            "flex": null,
            "_model_name": "LayoutModel",
            "justify_items": null,
            "grid_row": null,
            "max_height": null,
            "align_content": null,
            "visibility": null,
            "align_self": null,
            "height": null,
            "min_height": null,
            "padding": null,
            "grid_auto_rows": null,
            "grid_gap": null,
            "max_width": null,
            "order": null,
            "_view_module_version": "1.2.0",
            "grid_template_areas": null,
            "object_position": null,
            "object_fit": null,
            "grid_auto_columns": null,
            "margin": null,
            "display": null,
            "left": null
          }
        },
        "990600485a444d83b9fc6a8a02ea791c": {
          "model_module": "@jupyter-widgets/controls",
          "model_name": "DescriptionStyleModel",
          "state": {
            "_view_name": "StyleView",
            "_model_name": "DescriptionStyleModel",
            "description_width": "",
            "_view_module": "@jupyter-widgets/base",
            "_model_module_version": "1.5.0",
            "_view_count": null,
            "_view_module_version": "1.2.0",
            "_model_module": "@jupyter-widgets/controls"
          }
        },
        "824deb60c8d3439a9a0d59ac2764bdbe": {
          "model_module": "@jupyter-widgets/base",
          "model_name": "LayoutModel",
          "state": {
            "_view_name": "LayoutView",
            "grid_template_rows": null,
            "right": null,
            "justify_content": null,
            "_view_module": "@jupyter-widgets/base",
            "overflow": null,
            "_model_module_version": "1.2.0",
            "_view_count": null,
            "flex_flow": null,
            "width": null,
            "min_width": null,
            "border": null,
            "align_items": null,
            "bottom": null,
            "_model_module": "@jupyter-widgets/base",
            "top": null,
            "grid_column": null,
            "overflow_y": null,
            "overflow_x": null,
            "grid_auto_flow": null,
            "grid_area": null,
            "grid_template_columns": null,
            "flex": null,
            "_model_name": "LayoutModel",
            "justify_items": null,
            "grid_row": null,
            "max_height": null,
            "align_content": null,
            "visibility": null,
            "align_self": null,
            "height": null,
            "min_height": null,
            "padding": null,
            "grid_auto_rows": null,
            "grid_gap": null,
            "max_width": null,
            "order": null,
            "_view_module_version": "1.2.0",
            "grid_template_areas": null,
            "object_position": null,
            "object_fit": null,
            "grid_auto_columns": null,
            "margin": null,
            "display": null,
            "left": null
          }
        },
        "56b8bae7943e4653aad533ec34070a15": {
          "model_module": "@jupyter-widgets/controls",
          "model_name": "HBoxModel",
          "state": {
            "_view_name": "HBoxView",
            "_dom_classes": [],
            "_model_name": "HBoxModel",
            "_view_module": "@jupyter-widgets/controls",
            "_model_module_version": "1.5.0",
            "_view_count": null,
            "_view_module_version": "1.5.0",
            "box_style": "",
            "layout": "IPY_MODEL_44bc44253aaf42aba0974c0f91f3d146",
            "_model_module": "@jupyter-widgets/controls",
            "children": [
              "IPY_MODEL_6e9b9e06413f4e93a1dbd1f45c7fcdc2",
              "IPY_MODEL_5703badbec3f4419b6b684c67544e78b"
            ]
          }
        },
        "44bc44253aaf42aba0974c0f91f3d146": {
          "model_module": "@jupyter-widgets/base",
          "model_name": "LayoutModel",
          "state": {
            "_view_name": "LayoutView",
            "grid_template_rows": null,
            "right": null,
            "justify_content": null,
            "_view_module": "@jupyter-widgets/base",
            "overflow": null,
            "_model_module_version": "1.2.0",
            "_view_count": null,
            "flex_flow": null,
            "width": null,
            "min_width": null,
            "border": null,
            "align_items": null,
            "bottom": null,
            "_model_module": "@jupyter-widgets/base",
            "top": null,
            "grid_column": null,
            "overflow_y": null,
            "overflow_x": null,
            "grid_auto_flow": null,
            "grid_area": null,
            "grid_template_columns": null,
            "flex": null,
            "_model_name": "LayoutModel",
            "justify_items": null,
            "grid_row": null,
            "max_height": null,
            "align_content": null,
            "visibility": null,
            "align_self": null,
            "height": null,
            "min_height": null,
            "padding": null,
            "grid_auto_rows": null,
            "grid_gap": null,
            "max_width": null,
            "order": null,
            "_view_module_version": "1.2.0",
            "grid_template_areas": null,
            "object_position": null,
            "object_fit": null,
            "grid_auto_columns": null,
            "margin": null,
            "display": null,
            "left": null
          }
        },
        "6e9b9e06413f4e93a1dbd1f45c7fcdc2": {
          "model_module": "@jupyter-widgets/controls",
          "model_name": "FloatProgressModel",
          "state": {
            "_view_name": "ProgressView",
            "style": "IPY_MODEL_9c282cb910fd4dcf9ce7fd9068938a0d",
            "_dom_classes": [],
            "description": "100%",
            "_model_name": "FloatProgressModel",
            "bar_style": "success",
            "max": 1000,
            "_view_module": "@jupyter-widgets/controls",
            "_model_module_version": "1.5.0",
            "value": 1000,
            "_view_count": null,
            "_view_module_version": "1.5.0",
            "orientation": "horizontal",
            "min": 0,
            "description_tooltip": null,
            "_model_module": "@jupyter-widgets/controls",
            "layout": "IPY_MODEL_67c9f88c61364656b71a417d77e4a597"
          }
        },
        "5703badbec3f4419b6b684c67544e78b": {
          "model_module": "@jupyter-widgets/controls",
          "model_name": "HTMLModel",
          "state": {
            "_view_name": "HTMLView",
            "style": "IPY_MODEL_5f93c69c4f41452aa9ddefc155cb6a1c",
            "_dom_classes": [],
            "description": "",
            "_model_name": "HTMLModel",
            "placeholder": "​",
            "_view_module": "@jupyter-widgets/controls",
            "_model_module_version": "1.5.0",
            "value": " 1000/1000 [06:20&lt;00:00,  2.63it/s]",
            "_view_count": null,
            "_view_module_version": "1.5.0",
            "description_tooltip": null,
            "_model_module": "@jupyter-widgets/controls",
            "layout": "IPY_MODEL_ecf49c8fd2bb41e8a39890e450bd4357"
          }
        },
        "9c282cb910fd4dcf9ce7fd9068938a0d": {
          "model_module": "@jupyter-widgets/controls",
          "model_name": "ProgressStyleModel",
          "state": {
            "_view_name": "StyleView",
            "_model_name": "ProgressStyleModel",
            "description_width": "initial",
            "_view_module": "@jupyter-widgets/base",
            "_model_module_version": "1.5.0",
            "_view_count": null,
            "_view_module_version": "1.2.0",
            "bar_color": null,
            "_model_module": "@jupyter-widgets/controls"
          }
        },
        "67c9f88c61364656b71a417d77e4a597": {
          "model_module": "@jupyter-widgets/base",
          "model_name": "LayoutModel",
          "state": {
            "_view_name": "LayoutView",
            "grid_template_rows": null,
            "right": null,
            "justify_content": null,
            "_view_module": "@jupyter-widgets/base",
            "overflow": null,
            "_model_module_version": "1.2.0",
            "_view_count": null,
            "flex_flow": null,
            "width": null,
            "min_width": null,
            "border": null,
            "align_items": null,
            "bottom": null,
            "_model_module": "@jupyter-widgets/base",
            "top": null,
            "grid_column": null,
            "overflow_y": null,
            "overflow_x": null,
            "grid_auto_flow": null,
            "grid_area": null,
            "grid_template_columns": null,
            "flex": null,
            "_model_name": "LayoutModel",
            "justify_items": null,
            "grid_row": null,
            "max_height": null,
            "align_content": null,
            "visibility": null,
            "align_self": null,
            "height": null,
            "min_height": null,
            "padding": null,
            "grid_auto_rows": null,
            "grid_gap": null,
            "max_width": null,
            "order": null,
            "_view_module_version": "1.2.0",
            "grid_template_areas": null,
            "object_position": null,
            "object_fit": null,
            "grid_auto_columns": null,
            "margin": null,
            "display": null,
            "left": null
          }
        },
        "5f93c69c4f41452aa9ddefc155cb6a1c": {
          "model_module": "@jupyter-widgets/controls",
          "model_name": "DescriptionStyleModel",
          "state": {
            "_view_name": "StyleView",
            "_model_name": "DescriptionStyleModel",
            "description_width": "",
            "_view_module": "@jupyter-widgets/base",
            "_model_module_version": "1.5.0",
            "_view_count": null,
            "_view_module_version": "1.2.0",
            "_model_module": "@jupyter-widgets/controls"
          }
        },
        "ecf49c8fd2bb41e8a39890e450bd4357": {
          "model_module": "@jupyter-widgets/base",
          "model_name": "LayoutModel",
          "state": {
            "_view_name": "LayoutView",
            "grid_template_rows": null,
            "right": null,
            "justify_content": null,
            "_view_module": "@jupyter-widgets/base",
            "overflow": null,
            "_model_module_version": "1.2.0",
            "_view_count": null,
            "flex_flow": null,
            "width": null,
            "min_width": null,
            "border": null,
            "align_items": null,
            "bottom": null,
            "_model_module": "@jupyter-widgets/base",
            "top": null,
            "grid_column": null,
            "overflow_y": null,
            "overflow_x": null,
            "grid_auto_flow": null,
            "grid_area": null,
            "grid_template_columns": null,
            "flex": null,
            "_model_name": "LayoutModel",
            "justify_items": null,
            "grid_row": null,
            "max_height": null,
            "align_content": null,
            "visibility": null,
            "align_self": null,
            "height": null,
            "min_height": null,
            "padding": null,
            "grid_auto_rows": null,
            "grid_gap": null,
            "max_width": null,
            "order": null,
            "_view_module_version": "1.2.0",
            "grid_template_areas": null,
            "object_position": null,
            "object_fit": null,
            "grid_auto_columns": null,
            "margin": null,
            "display": null,
            "left": null
          }
        },
        "40703ef230d446aeb443df880781b662": {
          "model_module": "@jupyter-widgets/controls",
          "model_name": "HBoxModel",
          "state": {
            "_view_name": "HBoxView",
            "_dom_classes": [],
            "_model_name": "HBoxModel",
            "_view_module": "@jupyter-widgets/controls",
            "_model_module_version": "1.5.0",
            "_view_count": null,
            "_view_module_version": "1.5.0",
            "box_style": "",
            "layout": "IPY_MODEL_500b7230c9b44b598f78a795ebe3f756",
            "_model_module": "@jupyter-widgets/controls",
            "children": [
              "IPY_MODEL_5ef2d7b3fa50487d9fd306a7406a901b",
              "IPY_MODEL_4c1dd3557b714be4adffed7ae18ed98c"
            ]
          }
        },
        "500b7230c9b44b598f78a795ebe3f756": {
          "model_module": "@jupyter-widgets/base",
          "model_name": "LayoutModel",
          "state": {
            "_view_name": "LayoutView",
            "grid_template_rows": null,
            "right": null,
            "justify_content": null,
            "_view_module": "@jupyter-widgets/base",
            "overflow": null,
            "_model_module_version": "1.2.0",
            "_view_count": null,
            "flex_flow": null,
            "width": null,
            "min_width": null,
            "border": null,
            "align_items": null,
            "bottom": null,
            "_model_module": "@jupyter-widgets/base",
            "top": null,
            "grid_column": null,
            "overflow_y": null,
            "overflow_x": null,
            "grid_auto_flow": null,
            "grid_area": null,
            "grid_template_columns": null,
            "flex": null,
            "_model_name": "LayoutModel",
            "justify_items": null,
            "grid_row": null,
            "max_height": null,
            "align_content": null,
            "visibility": null,
            "align_self": null,
            "height": null,
            "min_height": null,
            "padding": null,
            "grid_auto_rows": null,
            "grid_gap": null,
            "max_width": null,
            "order": null,
            "_view_module_version": "1.2.0",
            "grid_template_areas": null,
            "object_position": null,
            "object_fit": null,
            "grid_auto_columns": null,
            "margin": null,
            "display": null,
            "left": null
          }
        },
        "5ef2d7b3fa50487d9fd306a7406a901b": {
          "model_module": "@jupyter-widgets/controls",
          "model_name": "FloatProgressModel",
          "state": {
            "_view_name": "ProgressView",
            "style": "IPY_MODEL_0e208ca1538f42969f23d01f02bd4cd5",
            "_dom_classes": [],
            "description": "100%",
            "_model_name": "FloatProgressModel",
            "bar_style": "success",
            "max": 1000,
            "_view_module": "@jupyter-widgets/controls",
            "_model_module_version": "1.5.0",
            "value": 1000,
            "_view_count": null,
            "_view_module_version": "1.5.0",
            "orientation": "horizontal",
            "min": 0,
            "description_tooltip": null,
            "_model_module": "@jupyter-widgets/controls",
            "layout": "IPY_MODEL_70bbe3c2a5514d3685338433e9223f0b"
          }
        },
        "4c1dd3557b714be4adffed7ae18ed98c": {
          "model_module": "@jupyter-widgets/controls",
          "model_name": "HTMLModel",
          "state": {
            "_view_name": "HTMLView",
            "style": "IPY_MODEL_db3e70b6515d4d0499ccc6f232080757",
            "_dom_classes": [],
            "description": "",
            "_model_name": "HTMLModel",
            "placeholder": "​",
            "_view_module": "@jupyter-widgets/controls",
            "_model_module_version": "1.5.0",
            "value": " 1000/1000 [03:54&lt;00:00,  4.26it/s]",
            "_view_count": null,
            "_view_module_version": "1.5.0",
            "description_tooltip": null,
            "_model_module": "@jupyter-widgets/controls",
            "layout": "IPY_MODEL_e4530ef0b8bf474a90ac7ca4a25cf48f"
          }
        },
        "0e208ca1538f42969f23d01f02bd4cd5": {
          "model_module": "@jupyter-widgets/controls",
          "model_name": "ProgressStyleModel",
          "state": {
            "_view_name": "StyleView",
            "_model_name": "ProgressStyleModel",
            "description_width": "initial",
            "_view_module": "@jupyter-widgets/base",
            "_model_module_version": "1.5.0",
            "_view_count": null,
            "_view_module_version": "1.2.0",
            "bar_color": null,
            "_model_module": "@jupyter-widgets/controls"
          }
        },
        "70bbe3c2a5514d3685338433e9223f0b": {
          "model_module": "@jupyter-widgets/base",
          "model_name": "LayoutModel",
          "state": {
            "_view_name": "LayoutView",
            "grid_template_rows": null,
            "right": null,
            "justify_content": null,
            "_view_module": "@jupyter-widgets/base",
            "overflow": null,
            "_model_module_version": "1.2.0",
            "_view_count": null,
            "flex_flow": null,
            "width": null,
            "min_width": null,
            "border": null,
            "align_items": null,
            "bottom": null,
            "_model_module": "@jupyter-widgets/base",
            "top": null,
            "grid_column": null,
            "overflow_y": null,
            "overflow_x": null,
            "grid_auto_flow": null,
            "grid_area": null,
            "grid_template_columns": null,
            "flex": null,
            "_model_name": "LayoutModel",
            "justify_items": null,
            "grid_row": null,
            "max_height": null,
            "align_content": null,
            "visibility": null,
            "align_self": null,
            "height": null,
            "min_height": null,
            "padding": null,
            "grid_auto_rows": null,
            "grid_gap": null,
            "max_width": null,
            "order": null,
            "_view_module_version": "1.2.0",
            "grid_template_areas": null,
            "object_position": null,
            "object_fit": null,
            "grid_auto_columns": null,
            "margin": null,
            "display": null,
            "left": null
          }
        },
        "db3e70b6515d4d0499ccc6f232080757": {
          "model_module": "@jupyter-widgets/controls",
          "model_name": "DescriptionStyleModel",
          "state": {
            "_view_name": "StyleView",
            "_model_name": "DescriptionStyleModel",
            "description_width": "",
            "_view_module": "@jupyter-widgets/base",
            "_model_module_version": "1.5.0",
            "_view_count": null,
            "_view_module_version": "1.2.0",
            "_model_module": "@jupyter-widgets/controls"
          }
        },
        "e4530ef0b8bf474a90ac7ca4a25cf48f": {
          "model_module": "@jupyter-widgets/base",
          "model_name": "LayoutModel",
          "state": {
            "_view_name": "LayoutView",
            "grid_template_rows": null,
            "right": null,
            "justify_content": null,
            "_view_module": "@jupyter-widgets/base",
            "overflow": null,
            "_model_module_version": "1.2.0",
            "_view_count": null,
            "flex_flow": null,
            "width": null,
            "min_width": null,
            "border": null,
            "align_items": null,
            "bottom": null,
            "_model_module": "@jupyter-widgets/base",
            "top": null,
            "grid_column": null,
            "overflow_y": null,
            "overflow_x": null,
            "grid_auto_flow": null,
            "grid_area": null,
            "grid_template_columns": null,
            "flex": null,
            "_model_name": "LayoutModel",
            "justify_items": null,
            "grid_row": null,
            "max_height": null,
            "align_content": null,
            "visibility": null,
            "align_self": null,
            "height": null,
            "min_height": null,
            "padding": null,
            "grid_auto_rows": null,
            "grid_gap": null,
            "max_width": null,
            "order": null,
            "_view_module_version": "1.2.0",
            "grid_template_areas": null,
            "object_position": null,
            "object_fit": null,
            "grid_auto_columns": null,
            "margin": null,
            "display": null,
            "left": null
          }
        },
        "4bd8dd11845b4c05948773303e9642e5": {
          "model_module": "@jupyter-widgets/controls",
          "model_name": "HBoxModel",
          "state": {
            "_view_name": "HBoxView",
            "_dom_classes": [],
            "_model_name": "HBoxModel",
            "_view_module": "@jupyter-widgets/controls",
            "_model_module_version": "1.5.0",
            "_view_count": null,
            "_view_module_version": "1.5.0",
            "box_style": "",
            "layout": "IPY_MODEL_73c5a2368a7e492180cef949adff02cc",
            "_model_module": "@jupyter-widgets/controls",
            "children": [
              "IPY_MODEL_e58788dc35b945e4a93eb19171f00bd0",
              "IPY_MODEL_29119b31dff14a2a98f8a455df7688fa"
            ]
          }
        },
        "73c5a2368a7e492180cef949adff02cc": {
          "model_module": "@jupyter-widgets/base",
          "model_name": "LayoutModel",
          "state": {
            "_view_name": "LayoutView",
            "grid_template_rows": null,
            "right": null,
            "justify_content": null,
            "_view_module": "@jupyter-widgets/base",
            "overflow": null,
            "_model_module_version": "1.2.0",
            "_view_count": null,
            "flex_flow": null,
            "width": null,
            "min_width": null,
            "border": null,
            "align_items": null,
            "bottom": null,
            "_model_module": "@jupyter-widgets/base",
            "top": null,
            "grid_column": null,
            "overflow_y": null,
            "overflow_x": null,
            "grid_auto_flow": null,
            "grid_area": null,
            "grid_template_columns": null,
            "flex": null,
            "_model_name": "LayoutModel",
            "justify_items": null,
            "grid_row": null,
            "max_height": null,
            "align_content": null,
            "visibility": null,
            "align_self": null,
            "height": null,
            "min_height": null,
            "padding": null,
            "grid_auto_rows": null,
            "grid_gap": null,
            "max_width": null,
            "order": null,
            "_view_module_version": "1.2.0",
            "grid_template_areas": null,
            "object_position": null,
            "object_fit": null,
            "grid_auto_columns": null,
            "margin": null,
            "display": null,
            "left": null
          }
        },
        "e58788dc35b945e4a93eb19171f00bd0": {
          "model_module": "@jupyter-widgets/controls",
          "model_name": "FloatProgressModel",
          "state": {
            "_view_name": "ProgressView",
            "style": "IPY_MODEL_e913c18376064224b3e3013557666a06",
            "_dom_classes": [],
            "description": "100%",
            "_model_name": "FloatProgressModel",
            "bar_style": "success",
            "max": 1000,
            "_view_module": "@jupyter-widgets/controls",
            "_model_module_version": "1.5.0",
            "value": 1000,
            "_view_count": null,
            "_view_module_version": "1.5.0",
            "orientation": "horizontal",
            "min": 0,
            "description_tooltip": null,
            "_model_module": "@jupyter-widgets/controls",
            "layout": "IPY_MODEL_f125dc2e15e04ef0bd75f07f4b784d7a"
          }
        },
        "29119b31dff14a2a98f8a455df7688fa": {
          "model_module": "@jupyter-widgets/controls",
          "model_name": "HTMLModel",
          "state": {
            "_view_name": "HTMLView",
            "style": "IPY_MODEL_174c849fd2cb4ea496af8e4ff230f946",
            "_dom_classes": [],
            "description": "",
            "_model_name": "HTMLModel",
            "placeholder": "​",
            "_view_module": "@jupyter-widgets/controls",
            "_model_module_version": "1.5.0",
            "value": " 1000/1000 [00:42&lt;00:00, 23.70it/s]",
            "_view_count": null,
            "_view_module_version": "1.5.0",
            "description_tooltip": null,
            "_model_module": "@jupyter-widgets/controls",
            "layout": "IPY_MODEL_0f6adad878fc4f599a5e69c4cb0c943b"
          }
        },
        "e913c18376064224b3e3013557666a06": {
          "model_module": "@jupyter-widgets/controls",
          "model_name": "ProgressStyleModel",
          "state": {
            "_view_name": "StyleView",
            "_model_name": "ProgressStyleModel",
            "description_width": "initial",
            "_view_module": "@jupyter-widgets/base",
            "_model_module_version": "1.5.0",
            "_view_count": null,
            "_view_module_version": "1.2.0",
            "bar_color": null,
            "_model_module": "@jupyter-widgets/controls"
          }
        },
        "f125dc2e15e04ef0bd75f07f4b784d7a": {
          "model_module": "@jupyter-widgets/base",
          "model_name": "LayoutModel",
          "state": {
            "_view_name": "LayoutView",
            "grid_template_rows": null,
            "right": null,
            "justify_content": null,
            "_view_module": "@jupyter-widgets/base",
            "overflow": null,
            "_model_module_version": "1.2.0",
            "_view_count": null,
            "flex_flow": null,
            "width": null,
            "min_width": null,
            "border": null,
            "align_items": null,
            "bottom": null,
            "_model_module": "@jupyter-widgets/base",
            "top": null,
            "grid_column": null,
            "overflow_y": null,
            "overflow_x": null,
            "grid_auto_flow": null,
            "grid_area": null,
            "grid_template_columns": null,
            "flex": null,
            "_model_name": "LayoutModel",
            "justify_items": null,
            "grid_row": null,
            "max_height": null,
            "align_content": null,
            "visibility": null,
            "align_self": null,
            "height": null,
            "min_height": null,
            "padding": null,
            "grid_auto_rows": null,
            "grid_gap": null,
            "max_width": null,
            "order": null,
            "_view_module_version": "1.2.0",
            "grid_template_areas": null,
            "object_position": null,
            "object_fit": null,
            "grid_auto_columns": null,
            "margin": null,
            "display": null,
            "left": null
          }
        },
        "174c849fd2cb4ea496af8e4ff230f946": {
          "model_module": "@jupyter-widgets/controls",
          "model_name": "DescriptionStyleModel",
          "state": {
            "_view_name": "StyleView",
            "_model_name": "DescriptionStyleModel",
            "description_width": "",
            "_view_module": "@jupyter-widgets/base",
            "_model_module_version": "1.5.0",
            "_view_count": null,
            "_view_module_version": "1.2.0",
            "_model_module": "@jupyter-widgets/controls"
          }
        },
        "0f6adad878fc4f599a5e69c4cb0c943b": {
          "model_module": "@jupyter-widgets/base",
          "model_name": "LayoutModel",
          "state": {
            "_view_name": "LayoutView",
            "grid_template_rows": null,
            "right": null,
            "justify_content": null,
            "_view_module": "@jupyter-widgets/base",
            "overflow": null,
            "_model_module_version": "1.2.0",
            "_view_count": null,
            "flex_flow": null,
            "width": null,
            "min_width": null,
            "border": null,
            "align_items": null,
            "bottom": null,
            "_model_module": "@jupyter-widgets/base",
            "top": null,
            "grid_column": null,
            "overflow_y": null,
            "overflow_x": null,
            "grid_auto_flow": null,
            "grid_area": null,
            "grid_template_columns": null,
            "flex": null,
            "_model_name": "LayoutModel",
            "justify_items": null,
            "grid_row": null,
            "max_height": null,
            "align_content": null,
            "visibility": null,
            "align_self": null,
            "height": null,
            "min_height": null,
            "padding": null,
            "grid_auto_rows": null,
            "grid_gap": null,
            "max_width": null,
            "order": null,
            "_view_module_version": "1.2.0",
            "grid_template_areas": null,
            "object_position": null,
            "object_fit": null,
            "grid_auto_columns": null,
            "margin": null,
            "display": null,
            "left": null
          }
        },
        "a87615decd8142d08c3f2da45d209e8b": {
          "model_module": "@jupyter-widgets/controls",
          "model_name": "HBoxModel",
          "state": {
            "_view_name": "HBoxView",
            "_dom_classes": [],
            "_model_name": "HBoxModel",
            "_view_module": "@jupyter-widgets/controls",
            "_model_module_version": "1.5.0",
            "_view_count": null,
            "_view_module_version": "1.5.0",
            "box_style": "",
            "layout": "IPY_MODEL_9533b33abbf744c79758c8e35623045c",
            "_model_module": "@jupyter-widgets/controls",
            "children": [
              "IPY_MODEL_4610522a5fed4e60919d8643dc508a6c",
              "IPY_MODEL_c270955b5e734b1997a558744ed3f4be"
            ]
          }
        },
        "9533b33abbf744c79758c8e35623045c": {
          "model_module": "@jupyter-widgets/base",
          "model_name": "LayoutModel",
          "state": {
            "_view_name": "LayoutView",
            "grid_template_rows": null,
            "right": null,
            "justify_content": null,
            "_view_module": "@jupyter-widgets/base",
            "overflow": null,
            "_model_module_version": "1.2.0",
            "_view_count": null,
            "flex_flow": null,
            "width": null,
            "min_width": null,
            "border": null,
            "align_items": null,
            "bottom": null,
            "_model_module": "@jupyter-widgets/base",
            "top": null,
            "grid_column": null,
            "overflow_y": null,
            "overflow_x": null,
            "grid_auto_flow": null,
            "grid_area": null,
            "grid_template_columns": null,
            "flex": null,
            "_model_name": "LayoutModel",
            "justify_items": null,
            "grid_row": null,
            "max_height": null,
            "align_content": null,
            "visibility": null,
            "align_self": null,
            "height": null,
            "min_height": null,
            "padding": null,
            "grid_auto_rows": null,
            "grid_gap": null,
            "max_width": null,
            "order": null,
            "_view_module_version": "1.2.0",
            "grid_template_areas": null,
            "object_position": null,
            "object_fit": null,
            "grid_auto_columns": null,
            "margin": null,
            "display": null,
            "left": null
          }
        },
        "4610522a5fed4e60919d8643dc508a6c": {
          "model_module": "@jupyter-widgets/controls",
          "model_name": "FloatProgressModel",
          "state": {
            "_view_name": "ProgressView",
            "style": "IPY_MODEL_952e690078c840a884f938c3a0f968ee",
            "_dom_classes": [],
            "description": "  5%",
            "_model_name": "FloatProgressModel",
            "bar_style": "",
            "max": 1000,
            "_view_module": "@jupyter-widgets/controls",
            "_model_module_version": "1.5.0",
            "value": 53,
            "_view_count": null,
            "_view_module_version": "1.5.0",
            "orientation": "horizontal",
            "min": 0,
            "description_tooltip": null,
            "_model_module": "@jupyter-widgets/controls",
            "layout": "IPY_MODEL_f17a53dc1bcb4b089da474a7d08e004e"
          }
        },
        "c270955b5e734b1997a558744ed3f4be": {
          "model_module": "@jupyter-widgets/controls",
          "model_name": "HTMLModel",
          "state": {
            "_view_name": "HTMLView",
            "style": "IPY_MODEL_74104869204540f49d4a2cd25813bcc3",
            "_dom_classes": [],
            "description": "",
            "_model_name": "HTMLModel",
            "placeholder": "​",
            "_view_module": "@jupyter-widgets/controls",
            "_model_module_version": "1.5.0",
            "value": " 53/1000 [00:23&lt;06:10,  2.56it/s]",
            "_view_count": null,
            "_view_module_version": "1.5.0",
            "description_tooltip": null,
            "_model_module": "@jupyter-widgets/controls",
            "layout": "IPY_MODEL_e7e7477f92e94e808950fee78d4c3cbb"
          }
        },
        "952e690078c840a884f938c3a0f968ee": {
          "model_module": "@jupyter-widgets/controls",
          "model_name": "ProgressStyleModel",
          "state": {
            "_view_name": "StyleView",
            "_model_name": "ProgressStyleModel",
            "description_width": "initial",
            "_view_module": "@jupyter-widgets/base",
            "_model_module_version": "1.5.0",
            "_view_count": null,
            "_view_module_version": "1.2.0",
            "bar_color": null,
            "_model_module": "@jupyter-widgets/controls"
          }
        },
        "f17a53dc1bcb4b089da474a7d08e004e": {
          "model_module": "@jupyter-widgets/base",
          "model_name": "LayoutModel",
          "state": {
            "_view_name": "LayoutView",
            "grid_template_rows": null,
            "right": null,
            "justify_content": null,
            "_view_module": "@jupyter-widgets/base",
            "overflow": null,
            "_model_module_version": "1.2.0",
            "_view_count": null,
            "flex_flow": null,
            "width": null,
            "min_width": null,
            "border": null,
            "align_items": null,
            "bottom": null,
            "_model_module": "@jupyter-widgets/base",
            "top": null,
            "grid_column": null,
            "overflow_y": null,
            "overflow_x": null,
            "grid_auto_flow": null,
            "grid_area": null,
            "grid_template_columns": null,
            "flex": null,
            "_model_name": "LayoutModel",
            "justify_items": null,
            "grid_row": null,
            "max_height": null,
            "align_content": null,
            "visibility": null,
            "align_self": null,
            "height": null,
            "min_height": null,
            "padding": null,
            "grid_auto_rows": null,
            "grid_gap": null,
            "max_width": null,
            "order": null,
            "_view_module_version": "1.2.0",
            "grid_template_areas": null,
            "object_position": null,
            "object_fit": null,
            "grid_auto_columns": null,
            "margin": null,
            "display": null,
            "left": null
          }
        },
        "74104869204540f49d4a2cd25813bcc3": {
          "model_module": "@jupyter-widgets/controls",
          "model_name": "DescriptionStyleModel",
          "state": {
            "_view_name": "StyleView",
            "_model_name": "DescriptionStyleModel",
            "description_width": "",
            "_view_module": "@jupyter-widgets/base",
            "_model_module_version": "1.5.0",
            "_view_count": null,
            "_view_module_version": "1.2.0",
            "_model_module": "@jupyter-widgets/controls"
          }
        },
        "e7e7477f92e94e808950fee78d4c3cbb": {
          "model_module": "@jupyter-widgets/base",
          "model_name": "LayoutModel",
          "state": {
            "_view_name": "LayoutView",
            "grid_template_rows": null,
            "right": null,
            "justify_content": null,
            "_view_module": "@jupyter-widgets/base",
            "overflow": null,
            "_model_module_version": "1.2.0",
            "_view_count": null,
            "flex_flow": null,
            "width": null,
            "min_width": null,
            "border": null,
            "align_items": null,
            "bottom": null,
            "_model_module": "@jupyter-widgets/base",
            "top": null,
            "grid_column": null,
            "overflow_y": null,
            "overflow_x": null,
            "grid_auto_flow": null,
            "grid_area": null,
            "grid_template_columns": null,
            "flex": null,
            "_model_name": "LayoutModel",
            "justify_items": null,
            "grid_row": null,
            "max_height": null,
            "align_content": null,
            "visibility": null,
            "align_self": null,
            "height": null,
            "min_height": null,
            "padding": null,
            "grid_auto_rows": null,
            "grid_gap": null,
            "max_width": null,
            "order": null,
            "_view_module_version": "1.2.0",
            "grid_template_areas": null,
            "object_position": null,
            "object_fit": null,
            "grid_auto_columns": null,
            "margin": null,
            "display": null,
            "left": null
          }
        }
      }
    }
  },
  "cells": [
    {
      "cell_type": "markdown",
      "metadata": {
        "id": "view-in-github",
        "colab_type": "text"
      },
      "source": [
        "<a href=\"https://colab.research.google.com/github/tianhaoz95/ultron/blob/dev%2Ftry-atari-game/notebooks/prototype_atari_with_actor_critic.ipynb\" target=\"_parent\"><img src=\"https://colab.research.google.com/assets/colab-badge.svg\" alt=\"Open In Colab\"/></a>"
      ]
    },
    {
      "cell_type": "code",
      "metadata": {
        "id": "NExKMaqaukJL",
        "colab_type": "code",
        "colab": {
          "base_uri": "https://localhost:8080/",
          "height": 34
        },
        "outputId": "aebb3a27-4cf6-45ef-a7de-1cad3cc748e1"
      },
      "source": [
        "from google.colab import drive\n",
        "drive.mount('/content/drive')"
      ],
      "execution_count": 1,
      "outputs": [
        {
          "output_type": "stream",
          "text": [
            "Drive already mounted at /content/drive; to attempt to forcibly remount, call drive.mount(\"/content/drive\", force_remount=True).\n"
          ],
          "name": "stdout"
        }
      ]
    },
    {
      "cell_type": "code",
      "metadata": {
        "id": "DX_OfbY42iKs",
        "colab_type": "code",
        "colab": {}
      },
      "source": [
        "!pip install gym pyvirtualdisplay tqdm > /dev/null 2>&1\n",
        "!apt-get install -y xvfb python-opengl ffmpeg x11-utils > /dev/null 2>&1"
      ],
      "execution_count": 0,
      "outputs": []
    },
    {
      "cell_type": "code",
      "metadata": {
        "id": "JM66lPmrmUx1",
        "colab_type": "code",
        "colab": {}
      },
      "source": [
        "!apt-get update > /dev/null 2>&1\n",
        "!apt-get install cmake > /dev/null 2>&1\n",
        "!pip install gym[atari] > /dev/null 2>&1\n",
        "!pip install gputil > /dev/null 2>&1\n",
        "!pip install pyglet==1.2.4 > /dev/null 2>&1"
      ],
      "execution_count": 0,
      "outputs": []
    },
    {
      "cell_type": "code",
      "metadata": {
        "id": "KxSzy33ETUiX",
        "colab_type": "code",
        "outputId": "d8e18e9d-a709-4447-d2db-73dd2c099f44",
        "colab": {
          "base_uri": "https://localhost:8080/",
          "height": 731
        }
      },
      "source": [
        "import tensorflow as tf\n",
        "import GPUtil\n",
        "print(\"Tensorflow version \" + tf.__version__)\n",
        "try:\n",
        "  tpu = tf.distribute.cluster_resolver.TPUClusterResolver()  # TPU detection\n",
        "  print('Running on TPU ', tpu.cluster_spec().as_dict()['worker'])\n",
        "  tf.config.experimental_connect_to_cluster(tpu)\n",
        "  tf.tpu.experimental.initialize_tpu_system(tpu)\n",
        "  tpu_strategy = tf.distribute.experimental.TPUStrategy(tpu)\n",
        "except ValueError:\n",
        "  try:\n",
        "    print('ERROR: Not connected to a TPU runtime!')\n",
        "    GPUs = GPUtil.getGPUs()\n",
        "    print('GPU count: ' + str(len(GPUs)))\n",
        "    gpu_info = !nvidia-smi\n",
        "    gpu_info = '\\n'.join(gpu_info)\n",
        "    if gpu_info.find('failed') >= 0:\n",
        "      print('Select the Runtime > \"Change runtime type\" menu to enable a GPU accelerator, ')\n",
        "      print('and then re-execute this cell.')\n",
        "    else:\n",
        "      print(gpu_info)\n",
        "  except:\n",
        "    print('Using CPU')"
      ],
      "execution_count": 4,
      "outputs": [
        {
          "output_type": "stream",
          "text": [
            "Tensorflow version 2.2.0\n",
            "Running on TPU  ['10.64.143.138:8470']\n",
            "INFO:tensorflow:Initializing the TPU system: grpc://10.64.143.138:8470\n"
          ],
          "name": "stdout"
        },
        {
          "output_type": "stream",
          "text": [
            "INFO:tensorflow:Initializing the TPU system: grpc://10.64.143.138:8470\n"
          ],
          "name": "stderr"
        },
        {
          "output_type": "stream",
          "text": [
            "INFO:tensorflow:Clearing out eager caches\n"
          ],
          "name": "stdout"
        },
        {
          "output_type": "stream",
          "text": [
            "INFO:tensorflow:Clearing out eager caches\n"
          ],
          "name": "stderr"
        },
        {
          "output_type": "stream",
          "text": [
            "INFO:tensorflow:Finished initializing TPU system.\n"
          ],
          "name": "stdout"
        },
        {
          "output_type": "stream",
          "text": [
            "INFO:tensorflow:Finished initializing TPU system.\n"
          ],
          "name": "stderr"
        },
        {
          "output_type": "stream",
          "text": [
            "INFO:tensorflow:Found TPU system:\n"
          ],
          "name": "stdout"
        },
        {
          "output_type": "stream",
          "text": [
            "INFO:tensorflow:Found TPU system:\n"
          ],
          "name": "stderr"
        },
        {
          "output_type": "stream",
          "text": [
            "INFO:tensorflow:*** Num TPU Cores: 8\n"
          ],
          "name": "stdout"
        },
        {
          "output_type": "stream",
          "text": [
            "INFO:tensorflow:*** Num TPU Cores: 8\n"
          ],
          "name": "stderr"
        },
        {
          "output_type": "stream",
          "text": [
            "INFO:tensorflow:*** Num TPU Workers: 1\n"
          ],
          "name": "stdout"
        },
        {
          "output_type": "stream",
          "text": [
            "INFO:tensorflow:*** Num TPU Workers: 1\n"
          ],
          "name": "stderr"
        },
        {
          "output_type": "stream",
          "text": [
            "INFO:tensorflow:*** Num TPU Cores Per Worker: 8\n"
          ],
          "name": "stdout"
        },
        {
          "output_type": "stream",
          "text": [
            "INFO:tensorflow:*** Num TPU Cores Per Worker: 8\n"
          ],
          "name": "stderr"
        },
        {
          "output_type": "stream",
          "text": [
            "INFO:tensorflow:*** Available Device: _DeviceAttributes(/job:localhost/replica:0/task:0/device:CPU:0, CPU, 0, 0)\n"
          ],
          "name": "stdout"
        },
        {
          "output_type": "stream",
          "text": [
            "INFO:tensorflow:*** Available Device: _DeviceAttributes(/job:localhost/replica:0/task:0/device:CPU:0, CPU, 0, 0)\n"
          ],
          "name": "stderr"
        },
        {
          "output_type": "stream",
          "text": [
            "INFO:tensorflow:*** Available Device: _DeviceAttributes(/job:localhost/replica:0/task:0/device:XLA_CPU:0, XLA_CPU, 0, 0)\n"
          ],
          "name": "stdout"
        },
        {
          "output_type": "stream",
          "text": [
            "INFO:tensorflow:*** Available Device: _DeviceAttributes(/job:localhost/replica:0/task:0/device:XLA_CPU:0, XLA_CPU, 0, 0)\n"
          ],
          "name": "stderr"
        },
        {
          "output_type": "stream",
          "text": [
            "INFO:tensorflow:*** Available Device: _DeviceAttributes(/job:worker/replica:0/task:0/device:CPU:0, CPU, 0, 0)\n"
          ],
          "name": "stdout"
        },
        {
          "output_type": "stream",
          "text": [
            "INFO:tensorflow:*** Available Device: _DeviceAttributes(/job:worker/replica:0/task:0/device:CPU:0, CPU, 0, 0)\n"
          ],
          "name": "stderr"
        },
        {
          "output_type": "stream",
          "text": [
            "INFO:tensorflow:*** Available Device: _DeviceAttributes(/job:worker/replica:0/task:0/device:TPU:0, TPU, 0, 0)\n"
          ],
          "name": "stdout"
        },
        {
          "output_type": "stream",
          "text": [
            "INFO:tensorflow:*** Available Device: _DeviceAttributes(/job:worker/replica:0/task:0/device:TPU:0, TPU, 0, 0)\n"
          ],
          "name": "stderr"
        },
        {
          "output_type": "stream",
          "text": [
            "INFO:tensorflow:*** Available Device: _DeviceAttributes(/job:worker/replica:0/task:0/device:TPU:1, TPU, 0, 0)\n"
          ],
          "name": "stdout"
        },
        {
          "output_type": "stream",
          "text": [
            "INFO:tensorflow:*** Available Device: _DeviceAttributes(/job:worker/replica:0/task:0/device:TPU:1, TPU, 0, 0)\n"
          ],
          "name": "stderr"
        },
        {
          "output_type": "stream",
          "text": [
            "INFO:tensorflow:*** Available Device: _DeviceAttributes(/job:worker/replica:0/task:0/device:TPU:2, TPU, 0, 0)\n"
          ],
          "name": "stdout"
        },
        {
          "output_type": "stream",
          "text": [
            "INFO:tensorflow:*** Available Device: _DeviceAttributes(/job:worker/replica:0/task:0/device:TPU:2, TPU, 0, 0)\n"
          ],
          "name": "stderr"
        },
        {
          "output_type": "stream",
          "text": [
            "INFO:tensorflow:*** Available Device: _DeviceAttributes(/job:worker/replica:0/task:0/device:TPU:3, TPU, 0, 0)\n"
          ],
          "name": "stdout"
        },
        {
          "output_type": "stream",
          "text": [
            "INFO:tensorflow:*** Available Device: _DeviceAttributes(/job:worker/replica:0/task:0/device:TPU:3, TPU, 0, 0)\n"
          ],
          "name": "stderr"
        },
        {
          "output_type": "stream",
          "text": [
            "INFO:tensorflow:*** Available Device: _DeviceAttributes(/job:worker/replica:0/task:0/device:TPU:4, TPU, 0, 0)\n"
          ],
          "name": "stdout"
        },
        {
          "output_type": "stream",
          "text": [
            "INFO:tensorflow:*** Available Device: _DeviceAttributes(/job:worker/replica:0/task:0/device:TPU:4, TPU, 0, 0)\n"
          ],
          "name": "stderr"
        },
        {
          "output_type": "stream",
          "text": [
            "INFO:tensorflow:*** Available Device: _DeviceAttributes(/job:worker/replica:0/task:0/device:TPU:5, TPU, 0, 0)\n"
          ],
          "name": "stdout"
        },
        {
          "output_type": "stream",
          "text": [
            "INFO:tensorflow:*** Available Device: _DeviceAttributes(/job:worker/replica:0/task:0/device:TPU:5, TPU, 0, 0)\n"
          ],
          "name": "stderr"
        },
        {
          "output_type": "stream",
          "text": [
            "INFO:tensorflow:*** Available Device: _DeviceAttributes(/job:worker/replica:0/task:0/device:TPU:6, TPU, 0, 0)\n"
          ],
          "name": "stdout"
        },
        {
          "output_type": "stream",
          "text": [
            "INFO:tensorflow:*** Available Device: _DeviceAttributes(/job:worker/replica:0/task:0/device:TPU:6, TPU, 0, 0)\n"
          ],
          "name": "stderr"
        },
        {
          "output_type": "stream",
          "text": [
            "INFO:tensorflow:*** Available Device: _DeviceAttributes(/job:worker/replica:0/task:0/device:TPU:7, TPU, 0, 0)\n"
          ],
          "name": "stdout"
        },
        {
          "output_type": "stream",
          "text": [
            "INFO:tensorflow:*** Available Device: _DeviceAttributes(/job:worker/replica:0/task:0/device:TPU:7, TPU, 0, 0)\n"
          ],
          "name": "stderr"
        },
        {
          "output_type": "stream",
          "text": [
            "INFO:tensorflow:*** Available Device: _DeviceAttributes(/job:worker/replica:0/task:0/device:TPU_SYSTEM:0, TPU_SYSTEM, 0, 0)\n"
          ],
          "name": "stdout"
        },
        {
          "output_type": "stream",
          "text": [
            "INFO:tensorflow:*** Available Device: _DeviceAttributes(/job:worker/replica:0/task:0/device:TPU_SYSTEM:0, TPU_SYSTEM, 0, 0)\n"
          ],
          "name": "stderr"
        },
        {
          "output_type": "stream",
          "text": [
            "INFO:tensorflow:*** Available Device: _DeviceAttributes(/job:worker/replica:0/task:0/device:XLA_CPU:0, XLA_CPU, 0, 0)\n"
          ],
          "name": "stdout"
        },
        {
          "output_type": "stream",
          "text": [
            "INFO:tensorflow:*** Available Device: _DeviceAttributes(/job:worker/replica:0/task:0/device:XLA_CPU:0, XLA_CPU, 0, 0)\n"
          ],
          "name": "stderr"
        }
      ]
    },
    {
      "cell_type": "code",
      "metadata": {
        "id": "StODOp9qm7As",
        "colab_type": "code",
        "outputId": "2741d7b0-a677-4c52-eda9-ec0d125612de",
        "colab": {
          "base_uri": "https://localhost:8080/",
          "height": 54
        }
      },
      "source": [
        "import gym\n",
        "import threading\n",
        "import math\n",
        "import glob\n",
        "import io\n",
        "import base64\n",
        "import multiprocessing\n",
        "import matplotlib\n",
        "import numpy as np\n",
        "import pandas as pd\n",
        "import tensorflow as tf\n",
        "import matplotlib.pyplot as plt\n",
        "%matplotlib inline\n",
        "from gym.wrappers import Monitor\n",
        "from tensorflow import keras\n",
        "from os import path\n",
        "from time import sleep\n",
        "from tqdm.notebook import tqdm\n",
        "from IPython.display import HTML\n",
        "from IPython import display as ipythondisplay\n",
        "from pyvirtualdisplay import Display\n",
        "display = Display(visible=0, size=(1400, 900))\n",
        "display.start()"
      ],
      "execution_count": 5,
      "outputs": [
        {
          "output_type": "execute_result",
          "data": {
            "text/plain": [
              "<Display cmd_param=['Xvfb', '-br', '-nolisten', 'tcp', '-screen', '0', '1400x900x24', ':1023'] cmd=['Xvfb', '-br', '-nolisten', 'tcp', '-screen', '0', '1400x900x24', ':1023'] oserror=None return_code=None stdout=\"None\" stderr=\"None\" timeout_happened=False>"
            ]
          },
          "metadata": {
            "tags": []
          },
          "execution_count": 5
        }
      ]
    },
    {
      "cell_type": "code",
      "metadata": {
        "id": "tvT2J4Oa6AsX",
        "colab_type": "code",
        "outputId": "c50fb875-0782-496a-b7ee-50bb3e51378c",
        "colab": {
          "base_uri": "https://localhost:8080/",
          "height": 34
        }
      },
      "source": [
        "print('using tensorflow', tf.__version__)"
      ],
      "execution_count": 6,
      "outputs": [
        {
          "output_type": "stream",
          "text": [
            "using tensorflow 2.2.0\n"
          ],
          "name": "stdout"
        }
      ]
    },
    {
      "cell_type": "code",
      "metadata": {
        "id": "bR4rdPq23olN",
        "colab_type": "code",
        "colab": {}
      },
      "source": [
        "def show_video(id='video', base='.'):\n",
        "  mp4list = glob.glob(f'{path.join(base, id)}/*.mp4')\n",
        "  if len(mp4list) > 0:\n",
        "    mp4 = mp4list[0]\n",
        "    video = io.open(mp4, 'r+b').read()\n",
        "    encoded = base64.b64encode(video)\n",
        "    ipythondisplay.display(HTML(data='''<video alt=\"test\" autoplay \n",
        "                loop controls style=\"height: 200px;\">\n",
        "                <source src=\"data:video/mp4;base64,{0}\" type=\"video/mp4\" />\n",
        "             </video>'''.format(encoded.decode('ascii'))))\n",
        "  else: \n",
        "    print(\"Could not find video\")\n",
        "\n",
        "def wrap_env(env, id='video', base='.'):\n",
        "  wrapped_env = Monitor(env, path.join(base, id), force=True)\n",
        "  return wrapped_env"
      ],
      "execution_count": 0,
      "outputs": []
    },
    {
      "cell_type": "code",
      "metadata": {
        "id": "xG-mqsx41fhc",
        "colab_type": "code",
        "colab": {}
      },
      "source": [
        "class PipelineArgs():\n",
        "  def __init__(self,\n",
        "               game_name='Acrobot-v1',\n",
        "               mode='train',\n",
        "               max_eps=100,\n",
        "               update_freq=20,\n",
        "               gamma=0.99,\n",
        "               model_path='.',\n",
        "               load_model=False,\n",
        "               max_testing_steps=1000,\n",
        "               lr=0.001):\n",
        "    self.game_name = game_name\n",
        "    self.mode = mode\n",
        "    self.gamma = gamma\n",
        "    self.update_freq = update_freq\n",
        "    self.lr = lr\n",
        "    self.max_eps = max_eps\n",
        "    self.load_model = load_model\n",
        "    self.model_path = model_path\n",
        "    self.max_testing_steps = max_testing_steps"
      ],
      "execution_count": 0,
      "outputs": []
    },
    {
      "cell_type": "code",
      "metadata": {
        "id": "bz8PHZKXb-db",
        "colab_type": "code",
        "colab": {}
      },
      "source": [
        "class History():\n",
        "  def __init__(self, args):\n",
        "    self.history = pd.DataFrame()\n",
        "    self.args = args\n",
        "  \n",
        "  def record(self, eps_reward):\n",
        "    self.eps_rewards.append(eps_reward)\n",
        "\n",
        "  def save(self):\n",
        "    self.history['eps_rewards'] = self.eps_rewards\n",
        "    self.history.to_csv(path.join(self.args.model_path, 'history.csv'))\n",
        "  \n",
        "  def load(self):\n",
        "    if path.exists(\n",
        "        path.join(\n",
        "            self.args.model_path, 'history.csv')) and self.args.load_model:\n",
        "      self.history = pd.DataFrame()\n",
        "      self.history.read_csv(path.join(self.args.model_path, 'history.csv'))"
      ],
      "execution_count": 0,
      "outputs": []
    },
    {
      "cell_type": "code",
      "metadata": {
        "id": "to5WdjMOBij4",
        "colab_type": "code",
        "colab": {}
      },
      "source": [
        "class Memory():\n",
        "  def __init__(self):\n",
        "    self.states = []\n",
        "    self.actions = []\n",
        "    self.rewards = []\n",
        "  \n",
        "  def store(self, state, action, reward):\n",
        "    self.states.append(state)\n",
        "    self.actions.append(action)\n",
        "    self.rewards.append(reward)\n",
        "\n",
        "  def clear(self):\n",
        "    self.states = []\n",
        "    self.actions = []\n",
        "    self.rewards = []"
      ],
      "execution_count": 0,
      "outputs": []
    },
    {
      "cell_type": "code",
      "metadata": {
        "id": "yPNOZzhineIp",
        "colab_type": "code",
        "colab": {}
      },
      "source": [
        "class Worker(threading.Thread):\n",
        "  # The cumulative episode played\n",
        "  global_eps = 0\n",
        "  best_score = 0\n",
        "  lock = threading.Lock()\n",
        "\n",
        "  def __init__(self,\n",
        "               args,\n",
        "               action_size,\n",
        "               state_size,\n",
        "               global_model,\n",
        "               opt,\n",
        "               pbar,\n",
        "               callback):\n",
        "    super(Worker, self).__init__()\n",
        "    self.args = args\n",
        "    self.game_name = self.args.game_name\n",
        "    self.env = gym.make(self.game_name)\n",
        "    self.action_size = action_size\n",
        "    self.state_size = state_size\n",
        "    self.local_model = ActorCriticModel(self.state_size, self.action_size)\n",
        "    self.eps_loss = 0\n",
        "    self.opt = opt\n",
        "    self.global_model = global_model\n",
        "    self.pbar = pbar\n",
        "    self.callback = callback\n",
        "\n",
        "  def compute_loss(self, done, new_state, memory):\n",
        "    if done:\n",
        "      reward_sum = 0\n",
        "    else:\n",
        "      reward_sum = self.local_model(\n",
        "          tf.convert_to_tensor(\n",
        "              new_state[None, :],\n",
        "              dtype=tf.float32))[-1].numpy()[0]\n",
        "    discounted_rewards = []\n",
        "    for reward in memory.rewards[::-1]:\n",
        "      reward_sum = reward + self.args.gamma * reward_sum\n",
        "      discounted_rewards.append(reward_sum)\n",
        "    discounted_rewards.reverse()\n",
        "    past_states = np.array(memory.states)\n",
        "    logits, values = self.local_model(\n",
        "        tf.convert_to_tensor(past_states, dtype=tf.float32))\n",
        "    advantage = tf.convert_to_tensor(\n",
        "        np.array(discounted_rewards)[:, None], dtype=tf.float32) - values\n",
        "    # Calculate the loss for value function which mean how off is our\n",
        "    # predicted value from the true value estimated from the discounted\n",
        "    # reward.\n",
        "    value_loss = advantage ** 2\n",
        "    # Calculate the policy loss\n",
        "    policy = tf.nn.softmax(logits)\n",
        "    entropy = tf.nn.softmax_cross_entropy_with_logits(\n",
        "        labels=policy, logits=logits)\n",
        "    policy_loss = tf.nn.sparse_softmax_cross_entropy_with_logits(\n",
        "        labels=memory.actions, logits=logits)\n",
        "    policy_loss *= tf.stop_gradient(advantage)\n",
        "    policy_loss -= 0.01 * entropy\n",
        "    # Combine the value and policy loss to be a single trainable\n",
        "    total_loss = tf.reduce_mean((0.5 * value_loss + policy_loss))\n",
        "    return total_loss\n",
        "\n",
        "  def compute_and_apply_gradient(self, done, new_state, mem):\n",
        "    with tf.GradientTape() as tape:\n",
        "      total_loss = self.compute_loss(done, new_state, mem)\n",
        "    self.eps_loss += total_loss\n",
        "    grads = tape.gradient(\n",
        "        total_loss, self.local_model.trainable_weights)\n",
        "    self.opt.apply_gradients(zip(\n",
        "        grads, self.global_model.trainable_weights))\n",
        "    self.local_model.set_weights(self.global_model.get_weights())\n",
        "\n",
        "  def run(self):\n",
        "    # Prepare variables\n",
        "    mem = Memory()\n",
        "    total_steps = 1\n",
        "    # Check the maximum episode of learning is reached\n",
        "    while Worker.global_eps < self.args.max_eps:\n",
        "      current_state = self.env.reset()\n",
        "      mem.clear()\n",
        "      done = False\n",
        "      ep_reward = 0\n",
        "      self.eps_loss = 0\n",
        "      time_count = 0\n",
        "      ep_steps = 0\n",
        "      # Check if the game is over\n",
        "      while not done:\n",
        "        # Get the policy and play the game\n",
        "        logits, _ = self.local_model(\n",
        "            tf.convert_to_tensor(np.array([current_state]), dtype=tf.float32))\n",
        "        probs = tf.nn.softmax(logits)\n",
        "        action = np.random.choice(self.action_size, p=probs.numpy()[0])\n",
        "        new_state, reward, done, info = self.env.step(action)\n",
        "        if reward == 0:\n",
        "          reward = -0.2\n",
        "        if done:\n",
        "          reward = -1.0\n",
        "        ep_reward += reward\n",
        "        mem.store(current_state, action, reward)\n",
        "        # If the explore time limit has been reached or\n",
        "        # the game is over, then update the models\n",
        "        if time_count >= self.args.update_freq or done:\n",
        "          self.compute_and_apply_gradient(done, new_state, mem)\n",
        "          mem.clear()\n",
        "          time_count = 0\n",
        "          if done:\n",
        "            with Worker.lock:\n",
        "              if Worker.global_eps == 0 or ep_reward > Worker.best_score:\n",
        "                self.global_model.save_weights(\n",
        "                    path.join(self.args.model_path, 'best.h5'))\n",
        "                Worker.best_score = ep_reward\n",
        "                self.callback(id=f'eps_{str(Worker.global_eps)}')\n",
        "              self.global_model.save_weights(\n",
        "                  path.join(self.args.model_path, 'backup.h5'))\n",
        "              Worker.global_eps += 1\n",
        "              self.pbar.set_description(\n",
        "                  f'step: {ep_steps}, reward {round(ep_reward, 2)}/{round(Worker.best_score, 2)}')\n",
        "              self.pbar.update(1)\n",
        "        ep_steps += 1\n",
        "        time_count += 1\n",
        "        current_state = new_state\n",
        "        total_steps += 1"
      ],
      "execution_count": 0,
      "outputs": []
    },
    {
      "cell_type": "code",
      "metadata": {
        "id": "bnSC4zC4nt9C",
        "colab_type": "code",
        "colab": {}
      },
      "source": [
        "class ActorCriticModel(keras.Model):\n",
        "  def __init__(self, state_size, action_size):\n",
        "    super(ActorCriticModel, self).__init__()\n",
        "    self.state_size = state_size\n",
        "    self.action_size = action_size\n",
        "    self.conv_0 = keras.layers.Conv2D(\n",
        "        filters=32,\n",
        "        strides=(2, 2),\n",
        "        kernel_size=4,\n",
        "        activation='relu',\n",
        "        padding='same',\n",
        "        kernel_initializer='glorot_uniform',\n",
        "        input_shape=(160, 160, 3))\n",
        "    self.conv_1 = keras.layers.Conv2D(\n",
        "        filters=32,\n",
        "        activation='relu',\n",
        "        strides=(2, 2),\n",
        "        padding='same',\n",
        "        kernel_initializer='glorot_uniform',\n",
        "        kernel_size=4)\n",
        "    self.conv_2 = keras.layers.Conv2D(\n",
        "        filters=32,\n",
        "        activation='relu',\n",
        "        strides=(2, 2),\n",
        "        padding='same',\n",
        "        kernel_initializer='glorot_uniform',\n",
        "        kernel_size=4)\n",
        "    self.conv_3 = keras.layers.Conv2D(\n",
        "        filters=32,\n",
        "        activation='relu',\n",
        "        strides=(2, 2),\n",
        "        padding='same',\n",
        "        kernel_initializer='glorot_uniform',\n",
        "        kernel_size=4)\n",
        "    self.avg_pooling = tf.keras.layers.AveragePooling2D(pool_size=(2, 2))\n",
        "    self.flatten = keras.layers.Flatten()\n",
        "    # self.lstm = keras.layers.LSTM(64)\n",
        "    self.policy_dense_0 = keras.layers.Dense(\n",
        "        64, kernel_initializer='glorot_uniform', activation='relu')\n",
        "    self.policy_logits = keras.layers.Dense(self.action_size, activation='relu')\n",
        "    self.value_dense = keras.layers.Dense(\n",
        "        64, kernel_initializer='glorot_uniform', activation='relu')\n",
        "    self.value = keras.layers.Dense(1)\n",
        "  \n",
        "  def call(self, inputs):\n",
        "    x = tf.image.resize(inputs, (160, 160))\n",
        "    x = self.conv_0(x)\n",
        "    x = self.conv_1(x)\n",
        "    x = self.conv_2(x)\n",
        "    x = self.conv_3(x)\n",
        "    x = self.avg_pooling(x)\n",
        "    x = self.flatten(x)\n",
        "    # x = self.lstm(x)\n",
        "    p = self.policy_dense_0(x)\n",
        "    logits = self.policy_logits(p)\n",
        "    v = self.value_dense(x)\n",
        "    values = self.value(v)\n",
        "    return logits, values"
      ],
      "execution_count": 0,
      "outputs": []
    },
    {
      "cell_type": "code",
      "metadata": {
        "id": "wtTON1xmoJCc",
        "colab_type": "code",
        "colab": {}
      },
      "source": [
        "class BaselineModel():\n",
        "  def __init__(self):\n",
        "    print('not implemented')"
      ],
      "execution_count": 0,
      "outputs": []
    },
    {
      "cell_type": "code",
      "metadata": {
        "id": "KVDqVpOqn_e0",
        "colab_type": "code",
        "colab": {}
      },
      "source": [
        "class MasterAgent():\n",
        "  def __init__(self, args):\n",
        "    self.args = args\n",
        "    self.game_name = self.args.game_name\n",
        "    env = gym.make(self.game_name)\n",
        "    self.action_size = env.action_space.n\n",
        "    self.state_size = env.observation_space.shape[0]\n",
        "    self.opt = tf.optimizers.Adam(self.args.lr)\n",
        "    print('state_size: ', env.observation_space.shape)\n",
        "    print('action_size: ', self.action_size)\n",
        "    self.global_model = ActorCriticModel(self.state_size, self.action_size)\n",
        "    self.global_model(\n",
        "      tf.convert_to_tensor(\n",
        "      np.random.random((5, 210, 160, 3)),\n",
        "      dtype=tf.float32))\n",
        "    if path.exists(\n",
        "        path.join(self.args.model_path, 'backup.h5')) and self.args.load_model:\n",
        "      self.global_model.load_weights(\n",
        "          path.join(self.args.model_path, 'backup.h5'))\n",
        "  \n",
        "  def train_sync(self):\n",
        "    pbar = tqdm(total=self.args.max_eps + multiprocessing.cpu_count())\n",
        "    worker = Worker(self.args, self.action_size, self.state_size,\n",
        "                    self.global_model, self.opt, pbar, self.eval)\n",
        "    worker.run()\n",
        "    pbar.close()\n",
        "  \n",
        "  def train_async(self):\n",
        "    pbar = tqdm(total=self.args.max_eps)\n",
        "    Worker.global_eps = 0;\n",
        "    workers = [\n",
        "      Worker(self.args, self.action_size, self.state_size,\n",
        "             self.global_model, self.opt, pbar, self.eval)\n",
        "      for i in range(multiprocessing.cpu_count())\n",
        "    ]\n",
        "    worker_pbar = tqdm(total=len(workers))\n",
        "    worker_pbar.set_description(f'starting {len(workers)} workers')\n",
        "    for i, worker in enumerate(workers):\n",
        "      worker.start()\n",
        "      worker_pbar.update(1)\n",
        "    worker_pbar.close()\n",
        "    [w.join() for w in workers]\n",
        "    pbar.close()\n",
        "\n",
        "  def eval(self, id):\n",
        "    self.play(load=False, id=id, base=self.args.model_path)\n",
        "  \n",
        "  def play(self, load=True, id='video', base='./'):\n",
        "    env = wrap_env(gym.make(self.args.game_name), id=id, base=base)\n",
        "    state = env.reset()\n",
        "    model_snapshot = self.global_model\n",
        "    if load and path.exists(\n",
        "        path.join(self.args.model_path, 'best.h5')):\n",
        "      print('load pre-trained model')\n",
        "      model_snapshot.load_weights(\n",
        "          path.join(self.args.model_path, 'best.h5'))\n",
        "    done = False\n",
        "    trial_steps = 0\n",
        "    pbar = tqdm(total=self.args.max_testing_steps)\n",
        "    cumulative_reward = 0\n",
        "    while (not done) and (trial_steps < self.args.max_testing_steps):\n",
        "      state_input = tf.convert_to_tensor(state[None, :], dtype=tf.float32)\n",
        "      logit, _ = model_snapshot(state_input)\n",
        "      policy = tf.nn.softmax(logit)\n",
        "      action = np.argmax(policy)\n",
        "      state, reward, done, _ = env.step(action)\n",
        "      cumulative_reward += reward\n",
        "      trial_steps += 1\n",
        "      pbar.update(1)\n",
        "    print(f'The final reward for this trial is {cumulative_reward}')\n",
        "    pbar.close()\n",
        "    env.close()\n",
        "    show_video(id=id, base=base)"
      ],
      "execution_count": 0,
      "outputs": []
    },
    {
      "cell_type": "code",
      "metadata": {
        "id": "Yy5tn0pA2-tB",
        "colab_type": "code",
        "colab": {}
      },
      "source": [
        "def gym_sanity_check(args):\n",
        "  print('starting gym environment sanity check')\n",
        "  env = wrap_env(gym.make(args.game_name))\n",
        "  inital_observation = env.reset()\n",
        "  sample_action = env.action_space.sample()\n",
        "  print('observation shape: ', np.array(inital_observation).shape)\n",
        "  print('sample action: ', sample_action)\n",
        "  for _ in range(20):\n",
        "    observation = env.reset()\n",
        "    done = False\n",
        "    while not done:\n",
        "        action = env.action_space.sample()\n",
        "        observation, _, done, _ = env.step(action)\n",
        "  env.close()\n",
        "  show_video()"
      ],
      "execution_count": 0,
      "outputs": []
    },
    {
      "cell_type": "code",
      "metadata": {
        "id": "D_4XwuN1oFkz",
        "colab_type": "code",
        "colab": {}
      },
      "source": [
        "def entry_point(args):\n",
        "  if args.mode == 'sanity':\n",
        "    gym_sanity_check(args)\n",
        "  if args.mode == 'play':\n",
        "    master = MasterAgent(args)\n",
        "    master.play()\n",
        "  if args.mode == 'train_sync':\n",
        "    master = MasterAgent(args)\n",
        "    master.train_sync()\n",
        "  if args.mode == 'train_async':\n",
        "    master = MasterAgent(args)\n",
        "    master.train_async()\n",
        "  print('Hello World')"
      ],
      "execution_count": 0,
      "outputs": []
    },
    {
      "cell_type": "code",
      "metadata": {
        "id": "I_oklLOXofGu",
        "colab_type": "code",
        "outputId": "0f312e8f-444d-4c92-fc49-2189283c282f",
        "colab": {
          "base_uri": "https://localhost:8080/",
          "height": 974,
          "referenced_widgets": [
            "9340419de6da48c18c31b2ebc90f8d72",
            "88098d9a38934f4c870fd55abc1f94dc",
            "32b1c9e457b0486591bcbf61ad106233",
            "02d22c8fa3e14d81b63dc90c83ba7744",
            "f2ed931cab114d0cb15aa5c541559b0d",
            "a7c5f8183fb34f63b2933362937dad17",
            "6ae937e41a05410387327bb8e6bf72c9",
            "4bd986ddb4784025a5e68ce38201cd6d",
            "146ea9b2aaab4752b8ec3bd7783e1aa3",
            "76124ed00a7d4c8893399cf78b66f43e",
            "7a1e31159d644087b18b56631bb31904",
            "5468b7aff69c45a4b340a3d4863b092e",
            "fc8eac3692ae439cb7acbcabf3fc1382",
            "03fef726eef54251a8a0931c1270d562",
            "990600485a444d83b9fc6a8a02ea791c",
            "824deb60c8d3439a9a0d59ac2764bdbe",
            "56b8bae7943e4653aad533ec34070a15",
            "44bc44253aaf42aba0974c0f91f3d146",
            "6e9b9e06413f4e93a1dbd1f45c7fcdc2",
            "5703badbec3f4419b6b684c67544e78b",
            "9c282cb910fd4dcf9ce7fd9068938a0d",
            "67c9f88c61364656b71a417d77e4a597",
            "5f93c69c4f41452aa9ddefc155cb6a1c",
            "ecf49c8fd2bb41e8a39890e450bd4357",
            "40703ef230d446aeb443df880781b662",
            "500b7230c9b44b598f78a795ebe3f756",
            "5ef2d7b3fa50487d9fd306a7406a901b",
            "4c1dd3557b714be4adffed7ae18ed98c",
            "0e208ca1538f42969f23d01f02bd4cd5",
            "70bbe3c2a5514d3685338433e9223f0b",
            "db3e70b6515d4d0499ccc6f232080757",
            "e4530ef0b8bf474a90ac7ca4a25cf48f",
            "4bd8dd11845b4c05948773303e9642e5",
            "73c5a2368a7e492180cef949adff02cc",
            "e58788dc35b945e4a93eb19171f00bd0",
            "29119b31dff14a2a98f8a455df7688fa",
            "e913c18376064224b3e3013557666a06",
            "f125dc2e15e04ef0bd75f07f4b784d7a",
            "174c849fd2cb4ea496af8e4ff230f946",
            "0f6adad878fc4f599a5e69c4cb0c943b",
            "a87615decd8142d08c3f2da45d209e8b",
            "9533b33abbf744c79758c8e35623045c",
            "4610522a5fed4e60919d8643dc508a6c",
            "c270955b5e734b1997a558744ed3f4be",
            "952e690078c840a884f938c3a0f968ee",
            "f17a53dc1bcb4b089da474a7d08e004e",
            "74104869204540f49d4a2cd25813bcc3",
            "e7e7477f92e94e808950fee78d4c3cbb"
          ]
        }
      },
      "source": [
        "entry_point(\n",
        "    PipelineArgs(\n",
        "        game_name='Breakout-v0',\n",
        "        update_freq=20,\n",
        "        max_eps=1000,\n",
        "        model_path='/content/drive/My Drive/colab_storage',\n",
        "        max_testing_steps=1000,\n",
        "        load_model=False,\n",
        "        mode='train_async'))"
      ],
      "execution_count": 0,
      "outputs": [
        {
          "output_type": "stream",
          "text": [
            "state_size:  (210, 160, 3)\n",
            "action_size:  4\n"
          ],
          "name": "stdout"
        },
        {
          "output_type": "display_data",
          "data": {
            "application/vnd.jupyter.widget-view+json": {
              "model_id": "9340419de6da48c18c31b2ebc90f8d72",
              "version_minor": 0,
              "version_major": 2
            },
            "text/plain": [
              "HBox(children=(FloatProgress(value=0.0, max=1000.0), HTML(value='')))"
            ]
          },
          "metadata": {
            "tags": []
          }
        },
        {
          "output_type": "display_data",
          "data": {
            "application/vnd.jupyter.widget-view+json": {
              "model_id": "146ea9b2aaab4752b8ec3bd7783e1aa3",
              "version_minor": 0,
              "version_major": 2
            },
            "text/plain": [
              "HBox(children=(FloatProgress(value=0.0, max=40.0), HTML(value='')))"
            ]
          },
          "metadata": {
            "tags": []
          }
        },
        {
          "output_type": "stream",
          "text": [
            "\n"
          ],
          "name": "stdout"
        },
        {
          "output_type": "display_data",
          "data": {
            "application/vnd.jupyter.widget-view+json": {
              "model_id": "56b8bae7943e4653aad533ec34070a15",
              "version_minor": 0,
              "version_major": 2
            },
            "text/plain": [
              "HBox(children=(FloatProgress(value=0.0, max=1000.0), HTML(value='')))"
            ]
          },
          "metadata": {
            "tags": []
          }
        },
        {
          "output_type": "stream",
          "text": [
            "The final reward for this trial is 0.0\n",
            "\n"
          ],
          "name": "stdout"
        },
        {
          "output_type": "display_data",
          "data": {
            "text/html": [
              "<video alt=\"test\" autoplay \n",
              "                loop controls style=\"height: 200px;\">\n",
              "                <source src=\"data:video/mp4;base64,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\" type=\"video/mp4\" />\n",
              "             </video>"
            ],
            "text/plain": [
              "<IPython.core.display.HTML object>"
            ]
          },
          "metadata": {
            "tags": []
          }
        },
        {
          "output_type": "display_data",
          "data": {
            "application/vnd.jupyter.widget-view+json": {
              "model_id": "40703ef230d446aeb443df880781b662",
              "version_minor": 0,
              "version_major": 2
            },
            "text/plain": [
              "HBox(children=(FloatProgress(value=0.0, max=1000.0), HTML(value='')))"
            ]
          },
          "metadata": {
            "tags": []
          }
        },
        {
          "output_type": "stream",
          "text": [
            "The final reward for this trial is 0.0\n",
            "\n"
          ],
          "name": "stdout"
        },
        {
          "output_type": "display_data",
          "data": {
            "text/html": [
              "<video alt=\"test\" autoplay \n",
              "                loop controls style=\"height: 200px;\">\n",
              "                <source src=\"data:video/mp4;base64,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\" type=\"video/mp4\" />\n",
              "             </video>"
            ],
            "text/plain": [
              "<IPython.core.display.HTML object>"
            ]
          },
          "metadata": {
            "tags": []
          }
        },
        {
          "output_type": "display_data",
          "data": {
            "application/vnd.jupyter.widget-view+json": {
              "model_id": "4bd8dd11845b4c05948773303e9642e5",
              "version_minor": 0,
              "version_major": 2
            },
            "text/plain": [
              "HBox(children=(FloatProgress(value=0.0, max=1000.0), HTML(value='')))"
            ]
          },
          "metadata": {
            "tags": []
          }
        },
        {
          "output_type": "stream",
          "text": [
            "The final reward for this trial is 0.0\n",
            "\n"
          ],
          "name": "stdout"
        },
        {
          "output_type": "display_data",
          "data": {
            "text/html": [
              "<video alt=\"test\" autoplay \n",
              "                loop controls style=\"height: 200px;\">\n",
              "                <source src=\"data:video/mp4;base64,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\" type=\"video/mp4\" />\n",
              "             </video>"
            ],
            "text/plain": [
              "<IPython.core.display.HTML object>"
            ]
          },
          "metadata": {
            "tags": []
          }
        },
        {
          "output_type": "display_data",
          "data": {
            "application/vnd.jupyter.widget-view+json": {
              "model_id": "a87615decd8142d08c3f2da45d209e8b",
              "version_minor": 0,
              "version_major": 2
            },
            "text/plain": [
              "HBox(children=(FloatProgress(value=0.0, max=1000.0), HTML(value='')))"
            ]
          },
          "metadata": {
            "tags": []
          }
        }
      ]
    },
    {
      "cell_type": "code",
      "metadata": {
        "id": "KNDSeZ4Nune5",
        "colab_type": "code",
        "colab": {}
      },
      "source": [
        ""
      ],
      "execution_count": 0,
      "outputs": []
    }
  ]
}