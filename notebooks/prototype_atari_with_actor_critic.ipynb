{
  "nbformat": 4,
  "nbformat_minor": 0,
  "metadata": {
    "colab": {
      "name": "Copy of prototype_atari_with_actor_critic.ipynb",
      "provenance": [],
      "collapsed_sections": [],
      "include_colab_link": true
    },
    "kernelspec": {
      "name": "python3",
      "display_name": "Python 3"
    },
    "accelerator": "GPU",
    "widgets": {
      "application/vnd.jupyter.widget-state+json": {
        "9bd374ea94634b5c9545a34e91eab969": {
          "model_module": "@jupyter-widgets/controls",
          "model_name": "HBoxModel",
          "state": {
            "_view_name": "HBoxView",
            "_dom_classes": [],
            "_model_name": "HBoxModel",
            "_view_module": "@jupyter-widgets/controls",
            "_model_module_version": "1.5.0",
            "_view_count": null,
            "_view_module_version": "1.5.0",
            "box_style": "",
            "layout": "IPY_MODEL_37278e9c4adc4bb185265a4a15d61825",
            "_model_module": "@jupyter-widgets/controls",
            "children": [
              "IPY_MODEL_19551f0deddc4abe84dd7a3e17674303",
              "IPY_MODEL_e0a217ec3117496e8d7877a96f4b504b"
            ]
          }
        },
        "37278e9c4adc4bb185265a4a15d61825": {
          "model_module": "@jupyter-widgets/base",
          "model_name": "LayoutModel",
          "state": {
            "_view_name": "LayoutView",
            "grid_template_rows": null,
            "right": null,
            "justify_content": null,
            "_view_module": "@jupyter-widgets/base",
            "overflow": null,
            "_model_module_version": "1.2.0",
            "_view_count": null,
            "flex_flow": null,
            "width": null,
            "min_width": null,
            "border": null,
            "align_items": null,
            "bottom": null,
            "_model_module": "@jupyter-widgets/base",
            "top": null,
            "grid_column": null,
            "overflow_y": null,
            "overflow_x": null,
            "grid_auto_flow": null,
            "grid_area": null,
            "grid_template_columns": null,
            "flex": null,
            "_model_name": "LayoutModel",
            "justify_items": null,
            "grid_row": null,
            "max_height": null,
            "align_content": null,
            "visibility": null,
            "align_self": null,
            "height": null,
            "min_height": null,
            "padding": null,
            "grid_auto_rows": null,
            "grid_gap": null,
            "max_width": null,
            "order": null,
            "_view_module_version": "1.2.0",
            "grid_template_areas": null,
            "object_position": null,
            "object_fit": null,
            "grid_auto_columns": null,
            "margin": null,
            "display": null,
            "left": null
          }
        },
        "19551f0deddc4abe84dd7a3e17674303": {
          "model_module": "@jupyter-widgets/controls",
          "model_name": "IntProgressModel",
          "state": {
            "_view_name": "ProgressView",
            "style": "IPY_MODEL_d786fff9aa5b48fa954ef4cc47cea16c",
            "_dom_classes": [],
            "description": "  0%",
            "_model_name": "IntProgressModel",
            "bar_style": "",
            "max": 1200,
            "_view_module": "@jupyter-widgets/controls",
            "_model_module_version": "1.5.0",
            "value": 0,
            "_view_count": null,
            "_view_module_version": "1.5.0",
            "orientation": "horizontal",
            "min": 0,
            "description_tooltip": null,
            "_model_module": "@jupyter-widgets/controls",
            "layout": "IPY_MODEL_fbe98383a6544d1baed00554510b4d63"
          }
        },
        "e0a217ec3117496e8d7877a96f4b504b": {
          "model_module": "@jupyter-widgets/controls",
          "model_name": "HTMLModel",
          "state": {
            "_view_name": "HTMLView",
            "style": "IPY_MODEL_2ca4a471374b4c92b61744c09ffa470f",
            "_dom_classes": [],
            "description": "",
            "_model_name": "HTMLModel",
            "placeholder": "​",
            "_view_module": "@jupyter-widgets/controls",
            "_model_module_version": "1.5.0",
            "value": " 0/1200 [00:00&lt;?, ?it/s]",
            "_view_count": null,
            "_view_module_version": "1.5.0",
            "description_tooltip": null,
            "_model_module": "@jupyter-widgets/controls",
            "layout": "IPY_MODEL_5061b561a9294ec3a4a0cdb172cf0845"
          }
        },
        "d786fff9aa5b48fa954ef4cc47cea16c": {
          "model_module": "@jupyter-widgets/controls",
          "model_name": "ProgressStyleModel",
          "state": {
            "_view_name": "StyleView",
            "_model_name": "ProgressStyleModel",
            "description_width": "initial",
            "_view_module": "@jupyter-widgets/base",
            "_model_module_version": "1.5.0",
            "_view_count": null,
            "_view_module_version": "1.2.0",
            "bar_color": null,
            "_model_module": "@jupyter-widgets/controls"
          }
        },
        "fbe98383a6544d1baed00554510b4d63": {
          "model_module": "@jupyter-widgets/base",
          "model_name": "LayoutModel",
          "state": {
            "_view_name": "LayoutView",
            "grid_template_rows": null,
            "right": null,
            "justify_content": null,
            "_view_module": "@jupyter-widgets/base",
            "overflow": null,
            "_model_module_version": "1.2.0",
            "_view_count": null,
            "flex_flow": null,
            "width": null,
            "min_width": null,
            "border": null,
            "align_items": null,
            "bottom": null,
            "_model_module": "@jupyter-widgets/base",
            "top": null,
            "grid_column": null,
            "overflow_y": null,
            "overflow_x": null,
            "grid_auto_flow": null,
            "grid_area": null,
            "grid_template_columns": null,
            "flex": null,
            "_model_name": "LayoutModel",
            "justify_items": null,
            "grid_row": null,
            "max_height": null,
            "align_content": null,
            "visibility": null,
            "align_self": null,
            "height": null,
            "min_height": null,
            "padding": null,
            "grid_auto_rows": null,
            "grid_gap": null,
            "max_width": null,
            "order": null,
            "_view_module_version": "1.2.0",
            "grid_template_areas": null,
            "object_position": null,
            "object_fit": null,
            "grid_auto_columns": null,
            "margin": null,
            "display": null,
            "left": null
          }
        },
        "2ca4a471374b4c92b61744c09ffa470f": {
          "model_module": "@jupyter-widgets/controls",
          "model_name": "DescriptionStyleModel",
          "state": {
            "_view_name": "StyleView",
            "_model_name": "DescriptionStyleModel",
            "description_width": "",
            "_view_module": "@jupyter-widgets/base",
            "_model_module_version": "1.5.0",
            "_view_count": null,
            "_view_module_version": "1.2.0",
            "_model_module": "@jupyter-widgets/controls"
          }
        },
        "5061b561a9294ec3a4a0cdb172cf0845": {
          "model_module": "@jupyter-widgets/base",
          "model_name": "LayoutModel",
          "state": {
            "_view_name": "LayoutView",
            "grid_template_rows": null,
            "right": null,
            "justify_content": null,
            "_view_module": "@jupyter-widgets/base",
            "overflow": null,
            "_model_module_version": "1.2.0",
            "_view_count": null,
            "flex_flow": null,
            "width": null,
            "min_width": null,
            "border": null,
            "align_items": null,
            "bottom": null,
            "_model_module": "@jupyter-widgets/base",
            "top": null,
            "grid_column": null,
            "overflow_y": null,
            "overflow_x": null,
            "grid_auto_flow": null,
            "grid_area": null,
            "grid_template_columns": null,
            "flex": null,
            "_model_name": "LayoutModel",
            "justify_items": null,
            "grid_row": null,
            "max_height": null,
            "align_content": null,
            "visibility": null,
            "align_self": null,
            "height": null,
            "min_height": null,
            "padding": null,
            "grid_auto_rows": null,
            "grid_gap": null,
            "max_width": null,
            "order": null,
            "_view_module_version": "1.2.0",
            "grid_template_areas": null,
            "object_position": null,
            "object_fit": null,
            "grid_auto_columns": null,
            "margin": null,
            "display": null,
            "left": null
          }
        }
      }
    }
  },
  "cells": [
    {
      "cell_type": "markdown",
      "metadata": {
        "id": "view-in-github",
        "colab_type": "text"
      },
      "source": [
        "<a href=\"https://colab.research.google.com/github/tianhaoz95/ultron/blob/dev%2Ftry-atari-game/notebooks/prototype_atari_with_actor_critic.ipynb\" target=\"_parent\"><img src=\"https://colab.research.google.com/assets/colab-badge.svg\" alt=\"Open In Colab\"/></a>"
      ]
    },
    {
      "cell_type": "code",
      "metadata": {
        "id": "DX_OfbY42iKs",
        "colab_type": "code",
        "colab": {}
      },
      "source": [
        "!pip install gym pyvirtualdisplay tqdm > /dev/null 2>&1\n",
        "!apt-get install -y xvfb python-opengl ffmpeg x11-utils > /dev/null 2>&1"
      ],
      "execution_count": 0,
      "outputs": []
    },
    {
      "cell_type": "code",
      "metadata": {
        "id": "JM66lPmrmUx1",
        "colab_type": "code",
        "outputId": "865b3ea8-9c76-4e22-beaf-8366200179f0",
        "colab": {
          "base_uri": "https://localhost:8080/",
          "height": 34
        }
      },
      "source": [
        "!apt-get update > /dev/null 2>&1\n",
        "!apt-get install cmake > /dev/null 2>&1\n",
        "!pip install --upgrade setuptools 2>&1\n",
        "!pip install ez_setup > /dev/null 2>&1\n",
        "!pip install gym[atari] > /dev/null 2>&1\n",
        "!pip install gputil > /dev/null 2>&1\n",
        "!pip install pyglet==1.2.4 > /dev/null 2>&1"
      ],
      "execution_count": 57,
      "outputs": [
        {
          "output_type": "stream",
          "text": [
            "Requirement already up-to-date: setuptools in /usr/local/lib/python3.6/dist-packages (46.1.3)\n"
          ],
          "name": "stdout"
        }
      ]
    },
    {
      "cell_type": "code",
      "metadata": {
        "id": "KxSzy33ETUiX",
        "colab_type": "code",
        "outputId": "bb3aedd3-2e12-42ee-dfe8-69de3795acda",
        "colab": {
          "base_uri": "https://localhost:8080/",
          "height": 68
        }
      },
      "source": [
        "import tensorflow as tf\n",
        "import GPUtil\n",
        "print(\"Tensorflow version \" + tf.__version__)\n",
        "try:\n",
        "  tpu = tf.distribute.cluster_resolver.TPUClusterResolver()  # TPU detection\n",
        "  print('Running on TPU ', tpu.cluster_spec().as_dict()['worker'])\n",
        "  tf.config.experimental_connect_to_cluster(tpu)\n",
        "  tf.tpu.experimental.initialize_tpu_system(tpu)\n",
        "  tpu_strategy = tf.distribute.experimental.TPUStrategy(tpu)\n",
        "except ValueError:\n",
        "  try:\n",
        "    print('ERROR: Not connected to a TPU runtime!')\n",
        "    GPUs = GPUtil.getGPUs()\n",
        "    print('GPU count: ' + str(len(GPUs)))\n",
        "  except:\n",
        "    print('Using CPU')"
      ],
      "execution_count": 58,
      "outputs": [
        {
          "output_type": "stream",
          "text": [
            "Tensorflow version 2.2.0-rc4\n",
            "ERROR: Not connected to a TPU runtime!\n",
            "GPU count: 1\n"
          ],
          "name": "stdout"
        }
      ]
    },
    {
      "cell_type": "code",
      "metadata": {
        "id": "StODOp9qm7As",
        "colab_type": "code",
        "outputId": "ac1d38d0-18af-4096-9446-b2a66333b528",
        "colab": {
          "base_uri": "https://localhost:8080/",
          "height": 54
        }
      },
      "source": [
        "import gym\n",
        "import threading\n",
        "import math\n",
        "import glob\n",
        "import io\n",
        "import base64\n",
        "import multiprocessing\n",
        "import matplotlib\n",
        "import numpy as np\n",
        "import tensorflow as tf\n",
        "import matplotlib.pyplot as plt\n",
        "%matplotlib inline\n",
        "from gym.wrappers import Monitor\n",
        "from tensorflow import keras\n",
        "from os import path\n",
        "from time import sleep\n",
        "from tqdm.notebook import tqdm\n",
        "from IPython.display import HTML\n",
        "from IPython import display as ipythondisplay\n",
        "from pyvirtualdisplay import Display\n",
        "display = Display(visible=0, size=(1400, 900))\n",
        "display.start()"
      ],
      "execution_count": 82,
      "outputs": [
        {
          "output_type": "execute_result",
          "data": {
            "text/plain": [
              "<Display cmd_param=['Xvfb', '-br', '-nolisten', 'tcp', '-screen', '0', '1400x900x24', ':1011'] cmd=['Xvfb', '-br', '-nolisten', 'tcp', '-screen', '0', '1400x900x24', ':1011'] oserror=None return_code=None stdout=\"None\" stderr=\"None\" timeout_happened=False>"
            ]
          },
          "metadata": {
            "tags": []
          },
          "execution_count": 82
        }
      ]
    },
    {
      "cell_type": "code",
      "metadata": {
        "id": "tvT2J4Oa6AsX",
        "colab_type": "code",
        "outputId": "912b8b4c-6ad3-42e4-c230-431a7bf41ce9",
        "colab": {
          "base_uri": "https://localhost:8080/",
          "height": 34
        }
      },
      "source": [
        "print('using tensorflow', tf.__version__)"
      ],
      "execution_count": 83,
      "outputs": [
        {
          "output_type": "stream",
          "text": [
            "using tensorflow 2.2.0-rc4\n"
          ],
          "name": "stdout"
        }
      ]
    },
    {
      "cell_type": "code",
      "metadata": {
        "id": "bR4rdPq23olN",
        "colab_type": "code",
        "colab": {}
      },
      "source": [
        "def show_video():\n",
        "  mp4list = glob.glob('video/*.mp4')\n",
        "  if len(mp4list) > 0:\n",
        "    mp4 = mp4list[0]\n",
        "    video = io.open(mp4, 'r+b').read()\n",
        "    encoded = base64.b64encode(video)\n",
        "    ipythondisplay.display(HTML(data='''<video alt=\"test\" autoplay \n",
        "                loop controls style=\"height: 400px;\">\n",
        "                <source src=\"data:video/mp4;base64,{0}\" type=\"video/mp4\" />\n",
        "             </video>'''.format(encoded.decode('ascii'))))\n",
        "  else: \n",
        "    print(\"Could not find video\")\n",
        "\n",
        "def wrap_env(env):\n",
        "  wrapped_env = Monitor(env, './video', force=True)\n",
        "  return wrapped_env"
      ],
      "execution_count": 0,
      "outputs": []
    },
    {
      "cell_type": "code",
      "metadata": {
        "id": "xG-mqsx41fhc",
        "colab_type": "code",
        "colab": {}
      },
      "source": [
        "class PipelineArgs():\n",
        "  def __init__(self,\n",
        "               game_name='Acrobot-v1',\n",
        "               mode='train',\n",
        "               max_eps=100,\n",
        "               update_freq=20,\n",
        "               gamma=0.99,\n",
        "               model_path='.',\n",
        "               lr=0.001):\n",
        "    self.game_name = game_name\n",
        "    self.mode = mode\n",
        "    self.gamma = gamma\n",
        "    self.update_freq = update_freq\n",
        "    self.lr = lr\n",
        "    self.max_eps = max_eps\n",
        "    self.model_path = model_path"
      ],
      "execution_count": 0,
      "outputs": []
    },
    {
      "cell_type": "code",
      "metadata": {
        "id": "bz8PHZKXb-db",
        "colab_type": "code",
        "colab": {}
      },
      "source": [
        "class Recorder():\n",
        "  def __init__(self):\n",
        "    self.eps_rewards = []\n",
        "    self.eps_steps = []\n",
        "  \n",
        "  def record(self, eps_reward, eps_step):\n",
        "    self.eps_rewards.append(eps_reward)\n",
        "    self.eps_steps.append(eps_step)"
      ],
      "execution_count": 0,
      "outputs": []
    },
    {
      "cell_type": "code",
      "metadata": {
        "id": "to5WdjMOBij4",
        "colab_type": "code",
        "colab": {}
      },
      "source": [
        "class Memory():\n",
        "  def __init__(self):\n",
        "    self.states = []\n",
        "    self.actions = []\n",
        "    self.rewards = []\n",
        "  \n",
        "  def store(self, state, action, reward):\n",
        "    self.states.append(state)\n",
        "    self.actions.append(action)\n",
        "    self.rewards.append(reward)\n",
        "\n",
        "  def clear(self):\n",
        "    self.states = []\n",
        "    self.actions = []\n",
        "    self.rewards = []"
      ],
      "execution_count": 0,
      "outputs": []
    },
    {
      "cell_type": "code",
      "metadata": {
        "id": "yPNOZzhineIp",
        "colab_type": "code",
        "colab": {}
      },
      "source": [
        "class Worker(threading.Thread):\n",
        "  # The cumulative episode played\n",
        "  global_eps = 0\n",
        "  best_score = 0\n",
        "  lock = threading.Lock()\n",
        "\n",
        "  def __init__(self,\n",
        "               args,\n",
        "               action_size,\n",
        "               state_size,\n",
        "               global_model,\n",
        "               opt,\n",
        "               pbar):\n",
        "    super(Worker, self).__init__()\n",
        "    self.args = args\n",
        "    self.game_name = self.args.game_name\n",
        "    self.env = gym.make(self.game_name)\n",
        "    self.action_size = action_size\n",
        "    self.state_size = state_size\n",
        "    self.local_model = ActorCriticModel(self.state_size, self.action_size)\n",
        "    self.eps_loss = 0\n",
        "    self.opt = opt\n",
        "    self.global_model = global_model\n",
        "    self.pbar = pbar\n",
        "\n",
        "  def compute_loss(self, done, new_state, memory):\n",
        "    if done:\n",
        "      reward_sum = 0\n",
        "    else:\n",
        "      reward_sum = self.local_model(\n",
        "          tf.convert_to_tensor(\n",
        "              new_state[None, :],\n",
        "              dtype=tf.float32))[-1].numpy()[0]\n",
        "    discounted_rewards = []\n",
        "    for reward in memory.rewards[::-1]:\n",
        "      reward_sum = reward + self.args.gamma * reward_sum\n",
        "      discounted_rewards.append(reward_sum)\n",
        "    discounted_rewards.reverse()\n",
        "    past_states = np.vstack(memory.states)\n",
        "    logits, values = self.local_model(\n",
        "        tf.convert_to_tensor(past_states, dtype=tf.float32))\n",
        "    advantage = tf.convert_to_tensor(\n",
        "        np.array(discounted_rewards)[:, None], dtype=tf.float32) - values\n",
        "    # Calculate the loss for value function which mean how off is our\n",
        "    # predicted value from the true value estimated from the discounted\n",
        "    # reward.\n",
        "    value_loss = advantage ** 2\n",
        "    # Calculate the policy loss\n",
        "    policy = tf.nn.softmax(logits)\n",
        "    entropy = tf.nn.softmax_cross_entropy_with_logits(\n",
        "        labels=policy, logits=logits)\n",
        "    policy_loss = tf.nn.sparse_softmax_cross_entropy_with_logits(\n",
        "        labels=memory.actions, logits=logits)\n",
        "    policy_loss *= tf.stop_gradient(advantage)\n",
        "    policy_loss -= 0.01 * entropy\n",
        "    # Combine the value and policy loss to be a single trainable\n",
        "    total_loss = tf.reduce_mean((0.5 * value_loss + policy_loss))\n",
        "    return total_loss\n",
        "\n",
        "  def compute_and_apply_gradient(self, done, new_state, mem):\n",
        "    with tf.GradientTape() as tape:\n",
        "      total_loss = self.compute_loss(done, new_state, mem)\n",
        "    self.eps_loss += total_loss\n",
        "    grads = tape.gradient(\n",
        "        total_loss, self.local_model.trainable_weights)\n",
        "    self.opt.apply_gradients(zip(\n",
        "        grads, self.global_model.trainable_weights))\n",
        "    self.local_model.set_weights(self.global_model.get_weights())\n",
        "\n",
        "  def run(self):\n",
        "    # Prepare variables\n",
        "    mem = Memory()\n",
        "    total_steps = 1\n",
        "    # Check the maximum episode of learning is reached\n",
        "    while Worker.global_eps < self.args.max_eps:\n",
        "      current_state = self.env.reset()\n",
        "      mem.clear()\n",
        "      done = False\n",
        "      ep_reward = 0\n",
        "      self.eps_loss = 0\n",
        "      time_count = 0\n",
        "      ep_steps = 0\n",
        "      # Check if the game is over\n",
        "      while not done:\n",
        "        # Get the policy and play the game\n",
        "        logits, _ = self.local_model(\n",
        "            tf.convert_to_tensor(current_state[None, :], dtype=tf.float32))\n",
        "        probs = tf.nn.softmax(logits)\n",
        "        action = np.random.choice(self.action_size, p=probs.numpy()[0])\n",
        "        new_state, reward, done, info = self.env.step(action)\n",
        "        if done:\n",
        "          reward = -1\n",
        "        ep_reward += reward\n",
        "        mem.store(current_state, action, reward)\n",
        "        # If the explore time limit has been reached or\n",
        "        # the game is over, then update the models\n",
        "        if time_count >= self.args.update_freq or done:\n",
        "          self.compute_and_apply_gradient(done, new_state, mem)\n",
        "          mem.clear()\n",
        "          time_count = 0\n",
        "          if done:\n",
        "            with Worker.lock:\n",
        "              if Worker.global_eps == 0:\n",
        "                Worker.best_score = ep_reward\n",
        "              if ep_reward > Worker.best_score:\n",
        "                print('save best model so far')\n",
        "                self.global_model.save_weights(path.join(self.args.model_path, 'best.h5'))\n",
        "                Worker.best_score = ep_reward\n",
        "              else:\n",
        "                self.global_model.save_weights(path.join(self.args.model_path, 'backup.h5'))\n",
        "              Worker.global_eps += 1\n",
        "              self.pbar.set_description(f'step: {ep_steps}, reward {ep_reward}/{Worker.best_score}')\n",
        "              self.pbar.update(1)\n",
        "        ep_steps += 1\n",
        "        time_count += 1\n",
        "        current_state = new_state\n",
        "        total_steps += 1"
      ],
      "execution_count": 0,
      "outputs": []
    },
    {
      "cell_type": "code",
      "metadata": {
        "id": "bnSC4zC4nt9C",
        "colab_type": "code",
        "colab": {}
      },
      "source": [
        "class ActorCriticModel(keras.Model):\n",
        "  def __init__(self, state_size, action_size):\n",
        "    super(ActorCriticModel, self).__init__()\n",
        "    self.state_size = state_size\n",
        "    self.action_size = action_size\n",
        "    self.policy_dense = keras.layers.Dense(100)\n",
        "    self.policy_logits = keras.layers.Dense(self.action_size, activation='relu')\n",
        "    self.value_dense = keras.layers.Dense(100, activation='relu')\n",
        "    self.value = keras.layers.Dense(1)\n",
        "  \n",
        "  def call(self, inputs):\n",
        "    p = self.policy_dense(inputs)\n",
        "    logits = self.policy_logits(p)\n",
        "    v = self.value_dense(inputs)\n",
        "    values = self.value(v)\n",
        "    return logits, values"
      ],
      "execution_count": 0,
      "outputs": []
    },
    {
      "cell_type": "code",
      "metadata": {
        "id": "wtTON1xmoJCc",
        "colab_type": "code",
        "colab": {}
      },
      "source": [
        "class BaselineModel():\n",
        "  def __init__(self):\n",
        "    print('not implemented')"
      ],
      "execution_count": 0,
      "outputs": []
    },
    {
      "cell_type": "code",
      "metadata": {
        "id": "KVDqVpOqn_e0",
        "colab_type": "code",
        "colab": {}
      },
      "source": [
        "class MasterAgent():\n",
        "  def __init__(self, args):\n",
        "    self.args = args\n",
        "    self.game_name = self.args.game_name\n",
        "    env = gym.make(self.game_name)\n",
        "    self.action_size = env.action_space.n\n",
        "    self.state_size = env.observation_space.shape[0]\n",
        "    self.opt = tf.optimizers.Adam(self.args.lr)\n",
        "    print('state_size: ', self.state_size)\n",
        "    print('action_size: ', self.action_size)\n",
        "    self.global_model = ActorCriticModel(self.state_size, self.action_size)\n",
        "    random_input = np.random.random((1, self.state_size))\n",
        "    dummy = tf.convert_to_tensor(random_input, dtype=tf.float32)\n",
        "    self.global_model(dummy)\n",
        "    if path.exists(path.join(self.args.model_path, 'best.h5')):\n",
        "      self.global_model.load_weights(\n",
        "          path.join(self.args.model_path, 'best.h5'))\n",
        "    self.pbar = tqdm(total=self.args.max_eps)\n",
        "  \n",
        "  def train_sync(self):\n",
        "    worker = Worker(self.args, self.action_size, self.state_size,\n",
        "                    self.global_model, self.opt, self.pbar)\n",
        "    worker.run()\n",
        "    self.pbar.close()\n",
        "  \n",
        "  def train_async(self):\n",
        "    Worker.global_eps = 0;\n",
        "    workers = [\n",
        "      Worker(self.args, self.action_size, self.state_size,\n",
        "             self.global_model, self.opt, self.pbar)\n",
        "      for i in range(multiprocessing.cpu_count())\n",
        "    ]\n",
        "    for i, worker in enumerate(workers):\n",
        "      print(\"Starting worker {}\".format(i))\n",
        "      worker.start()\n",
        "    [w.join() for w in workers]\n",
        "    self.pbar.close()\n",
        "  \n",
        "  def play(self):\n",
        "    env = wrap_env(gym.make(self.args.game_name))\n",
        "    state = env.reset()\n",
        "    model = self.global_model\n",
        "    if path.exists(path.join(self.args.model_path, 'best.h5')):\n",
        "      self.global_model.load_weights(\n",
        "          path.join(self.args.model_path, 'best.h5'))\n",
        "    done = False\n",
        "    while not done:\n",
        "      state_input = tf.convert_to_tensor(state[None, :], dtype=tf.float32)\n",
        "      logit, _ = model(state_input)\n",
        "      policy = tf.nn.softmax(logit)\n",
        "      action = np.argmax(policy)\n",
        "      state, reward, done, _ = env.step(action)\n",
        "    env.close()\n",
        "    show_video()"
      ],
      "execution_count": 0,
      "outputs": []
    },
    {
      "cell_type": "code",
      "metadata": {
        "id": "Yy5tn0pA2-tB",
        "colab_type": "code",
        "colab": {}
      },
      "source": [
        "def gym_sanity_check(args):\n",
        "  print('starting gym environment sanity check')\n",
        "  env = wrap_env(gym.make(args.game_name))\n",
        "  inital_observation = env.reset()\n",
        "  sample_action = env.action_space.sample()\n",
        "  print('observation size: ', len(inital_observation))\n",
        "  print('sample observation: ', inital_observation)\n",
        "  print('sample action: ', sample_action)\n",
        "  for _ in range(20):\n",
        "    observation = env.reset()\n",
        "    done = False\n",
        "    while not done:\n",
        "        action = env.action_space.sample()\n",
        "        observation, _, done, _ = env.step(action)\n",
        "  env.close()\n",
        "  show_video()"
      ],
      "execution_count": 0,
      "outputs": []
    },
    {
      "cell_type": "code",
      "metadata": {
        "id": "D_4XwuN1oFkz",
        "colab_type": "code",
        "colab": {}
      },
      "source": [
        "def entry_point(args):\n",
        "  if args.mode == 'sanity':\n",
        "    gym_sanity_check(args)\n",
        "  if args.mode == 'play':\n",
        "    master = MasterAgent(args)\n",
        "    master.play()\n",
        "  if args.mode == 'train_sync':\n",
        "    master = MasterAgent(args)\n",
        "    master.train_sync()\n",
        "  if args.mode == 'train_async':\n",
        "    master = MasterAgent(args)\n",
        "    master.train_async()\n",
        "  print('Hello World')"
      ],
      "execution_count": 0,
      "outputs": []
    },
    {
      "cell_type": "code",
      "metadata": {
        "id": "I_oklLOXofGu",
        "colab_type": "code",
        "outputId": "a491d070-e3d8-4c57-a59f-fecf1b25b391",
        "colab": {
          "base_uri": "https://localhost:8080/",
          "height": 504,
          "referenced_widgets": [
            "9bd374ea94634b5c9545a34e91eab969",
            "37278e9c4adc4bb185265a4a15d61825",
            "19551f0deddc4abe84dd7a3e17674303",
            "e0a217ec3117496e8d7877a96f4b504b",
            "d786fff9aa5b48fa954ef4cc47cea16c",
            "fbe98383a6544d1baed00554510b4d63",
            "2ca4a471374b4c92b61744c09ffa470f",
            "5061b561a9294ec3a4a0cdb172cf0845"
          ]
        }
      },
      "source": [
        "entry_point(\n",
        "    PipelineArgs(\n",
        "        game_name='Assault-ram-v0',\n",
        "        update_freq=20,\n",
        "        max_eps=1200,\n",
        "        mode='play'))"
      ],
      "execution_count": 111,
      "outputs": [
        {
          "output_type": "stream",
          "text": [
            "state_size:  128\n",
            "action_size:  7\n"
          ],
          "name": "stdout"
        },
        {
          "output_type": "display_data",
          "data": {
            "application/vnd.jupyter.widget-view+json": {
              "model_id": "9bd374ea94634b5c9545a34e91eab969",
              "version_minor": 0,
              "version_major": 2
            },
            "text/plain": [
              "HBox(children=(IntProgress(value=0, max=1200), HTML(value='')))"
            ]
          },
          "metadata": {
            "tags": []
          }
        },
        {
          "output_type": "display_data",
          "data": {
            "text/html": [
              "<video alt=\"test\" autoplay \n",
              "                loop controls style=\"height: 400px;\">\n",
              "                <source src=\"data:video/mp4;base64,AAAAIGZ0eXBpc29tAAACAGlzb21pc28yYXZjMW1wNDEAAAAIZnJlZQABiXhtZGF0AAACrgYF//+q3EXpvebZSLeWLNgg2SPu73gyNjQgLSBjb3JlIDE1MiByMjg1NCBlOWE1OTAzIC0gSC4yNjQvTVBFRy00IEFWQyBjb2RlYyAtIENvcHlsZWZ0IDIwMDMtMjAxNyAtIGh0dHA6Ly93d3cudmlkZW9sYW4ub3JnL3gyNjQuaHRtbCAtIG9wdGlvbnM6IGNhYmFjPTEgcmVmPTMgZGVibG9jaz0xOjA6MCBhbmFseXNlPTB4MzoweDExMyBtZT1oZXggc3VibWU9NyBwc3k9MSBwc3lfcmQ9MS4wMDowLjAwIG1peGVkX3JlZj0xIG1lX3JhbmdlPTE2IGNocm9tYV9tZT0xIHRyZWxsaXM9MSA4eDhkY3Q9MSBjcW09MCBkZWFkem9uZT0yMSwxMSBmYXN0X3Bza2lwPTEgY2hyb21hX3FwX29mZnNldD0tMiB0aHJlYWRzPTMgbG9va2FoZWFkX3RocmVhZHM9MSBzbGljZWRfdGhyZWFkcz0wIG5yPTAgZGVjaW1hdGU9MSBpbnRlcmxhY2VkPTAgYmx1cmF5X2NvbXBhdD0wIGNvbnN0cmFpbmVkX2ludHJhPTAgYmZyYW1lcz0zIGJfcHlyYW1pZD0yIGJfYWRhcHQ9MSBiX2JpYXM9MCBkaXJlY3Q9MSB3ZWlnaHRiPTEgb3Blbl9nb3A9MCB3ZWlnaHRwPTIga2V5aW50PTI1MCBrZXlpbnRfbWluPTI1IHNjZW5lY3V0PTQwIGludHJhX3JlZnJlc2g9MCByY19sb29rYWhlYWQ9NDAgcmM9Y3JmIG1idHJlZT0xIGNyZj0yMy4wIHFjb21wPTAuNjAgcXBtaW49MCBxcG1heD02OSBxcHN0ZXA9NCBpcF9yYXRpbz0xLjQwIGFxPTE6MS4wMACAAAAEnmWIhAAr//72c3wKa22wlS4Fd0HrZ3UoRDVb7XI1QsC+9Myvm0k+WIRs8AcyDIKur2spWldub+JncWgeiY8G08NBkpRSoJOm7EpsAt5jsfSC5Q8mbr8HqiPRJ7/23S3mXg5E1T5BGxdmucLPx/VBedo2ABYFIJr5AwS5a0scWB08VvtsIU+ssPI8EX7ChYUDBQQUILBQq3ia2/lbNHX7QQblIHOYM1QQlaoY/FOUd7VfYzDOnOWi7e+wGhqS9WY3HFWJ1wArpUxIDb09d4jufTgZIbIOUtto4R6mSFM71X32rGx/wdcIaUFs9wFocIyp51c2mglBQjrkJa3e+jei5saS9kclc8Qk/MTyuChBYEFWWMUPsAfGI+g683ofzHSoo2Jew/IGEchbD/0a6c5ajdO5hcaZRa3ww3QN+MgvcO3m73p5tO6/WseABWMQaQgkMb+3HsozG5AC4plkM8FlhSMA4yd4J+wvtY54ZM3qTbH+F1KswaS9gnJZ0QcH2ykSAvh5/PT49Q3iwpLI7Ulfvb4RYX+19Ob6OfZLIxJUwSmBbYx/D1gyr/lHFch7lDZhZNrCLZ5cO4DZIsVlP2yY4+eVFlhD/wizC/PWUc7+Y9EPM+vKd5hpD/4U3QPH70xYiLdz5QnUinU6HeoQeX+czJ1xRsVzJeESBqm4+OodtUu7J4eaHov6wtEkuffN4Letq02bqyutSfj/0z7sK62N7xHElzz0u3O93y2XDFWUHD9qyXKOmwX58rKdqXJk+XCccOL5VvKxLFNi8p4lbTqQJUPzRVskUkmMDgBTyCTXQ//sjayP2v/++aLBDBUvYHVu+xmFh6dIV/KFoUw3v6J2Qcy1IsZIn/+9uf8vhejbMxQDMG+3mUbaDE7qFrJx1M+dLOOnHRAZQKtdkHpahTcBA4vpdkMCkplXCd+0XNOrFSo41o+4ruLrhZ0fGg5EgzTFhofEC+PsU30ym8gPaLI3nJoBlGrHwQLaZpWNzJfniFA/KDR/a51DoC1XELl6Fnxks5UeBtXHVOD+AiKLX4tAZqAPIAAAAwAAf4VPWnQGywjFYRiPYcKSFMbdcaVgDNwIOwvp9M3oMj3FRoLxImxFzKabl3UVKEZ1zVGqhbWSnm3lWC9ZvYzI8xvZNYx7mWtAY+k3PAmaOT81uxrYyC32yQ1sWxmKUguBb7MHdpE4aEYQfbWEnD3e+Rk+0RUPpjnO6UmtnKO2FhbMzsci79nrDVEm8j7K7xgrtpJKqvGzixTJ0hGlD/MYa8FkoM9yd01IWUWcxajbExdKc8TtRq/ZWcYUfxdgeFjf+aRLBEV1A0L67WgFlB/wnDiNIhYi0hXOa0PgogljHby9MAufwzFQQe1YR+na4w5fzuDX40QGD5bH7pKZ/NFOqKGrocQvKasO8XDb58NcLU67WgFcQRg6j1UJg4ezLlNc8Z+Qqbb43vTALn8MmRZqsMI/TtcZRHyY4BDw+qqPyVc8Shea9pIXy70adGAT1Py5IitrlcLU67Wfv9RDB1HqoTBw9yPcN/MCq5WW3xvemAXP4aTd16xNVLcG3GYa4dGxJtoiHZO+TwAAAHtBmiNsQ3/+p4Qf6b1/7fcPPzwGygSlYKvmbCHwmVIxTut/2wxmBOrQB5IbY/N6ORWPCSgyLoP/Vir5kpPAsljytlArmblN2a6JuH0aNR6aAtHLyg+pq0K5qW6Nyx6cGT7l4TrkBIrdoMJs4ZIpp72thZ4m84hXn1taboAAAAAcQZ5BeIV/A2qWigoXRN/lADd8UoYzpcppOUpWQQAAACYBnmJqQn8ER2tggW7Q4h4anuDm6gA42ze/m6jYjzOz2hehzQZFDAAAAMxBmmdJqEFomUwIb//+p4QYj3FkGleNwwAFVnxHpA1GRFc7+S43PRIoy1ez9ClKC+A0nncCKlDDmEP4gIibesVi1q0uWb4dRgbsLiIuoKvicl3hQD8utbSqqAUFm/lpdYVCXPe/L1u7F+vqdbvDaK4SC413DJpQFKgwj95wp2igoqb2Rs6EEGPrfi3DacKG5ZfasEREyoaX3kILnnFG3MZKccLF+EROW75yv3bP++NuDD9JUJ+c6lJWWwJ1BHo5cv1ACH/17JyscPiU5esAAAB4QZ6FRREsK/8DPSOWbsjag+QwA3XmKm5dMaUZqcBahoifV2tsbAn1sQyrtmhLCW80StYhaNjnaqqiqUq1FDbizVpbWcj7ZU5j39254FHjTEP7GmDlkh1Jce6eXYdUf8myJq7OHS7geD9hm+vkV+mQO0H3fsdGXOODAAAALQGepHRCfwQLSd5GNVvywgsXK6I6+kzcH7DXoAC6hTD8jbnoLO4YFegn8LXSoQAAAC4BnqZqQn8EDtrM8GCqB83VM+Pifh+e1uABaKp4iHDg9c9HcalOTwsIEeO9/5GRAAAAmkGaqkmoQWyZTAhv//6nhBnQnkp1rCHOCsE/i4A5saiQWArRSei2DkKV13E6mWI8bnE8dkw5wq0nywEEaN6yt2+l/EE17sR8IwbYELJXKU5Pdf04LiNXrlewxvKPrSRc4NOTpxqn8dp2UJ4mJBY2OKCElNgZGrVDIUt8PCvUo9mruTFK6RG3R8DKNBSZhjs7bpdlRv7O4aclR0AAAABHQZ7IRRUsK/8DN7DEo6DgWFm0ZVDUTuyfyB1pABnx+JzL2Q4QYTnzwAOArIMyo3Tp566+bG6onMjVBQmSbHhyFl3WdS9imlgAAAAgAZ7pakJ/BAtrYIFu0OIeGsPRDY7DPFRBJD8Ur9fIpx8AAACxQZrtSahBbJlMCG///qeEFKftmSKv8lQLIvmBsXsW5Kqwpfu4S93FTed2aoMXFjRLIO545k4Skz7Nix404xqA7GdaDw/qZ4Z8Z+J1zJm6XW9eFM/4MLueyPppBpLkKTRYqDT4U8Af1hzzfzy1RFcBC0bPRD32Gr248qS7kAyBZdG57pbVzwsvnKDf4/qF/0KxJNsiVR0S6qzXDwwtAmAvCxLcv9tIi6KUc/wVfMszjymKAAAAQ0GfC0UVLCv/AxOTvzR58TpDlOov1NYvy2yyXHwFl8QCuAEQedHYdg4a4BAx1wnfSB/kUFHiCSsklxKs5DrOdMqvEaAAAAA0AZ8sakJ/A9l9pxeM9hw+TmmagJPkFUTWaTUt+QAtmze/m6jYjctPaF6HNBkaiCCWEWPeIQAAALBBmzBJqEFsmUwIb//+p4QVn5Lg1M0HV0Lmktdl2tX0lzuvCrtELb+t+VdZ81f68UHal3COlwK8n6k02dNPE6dRhUJWjvremNg8ac0PI8+GwQLSTWAN+cOcNYIRvCAyXZPiD2wQ+ntUHdXGZEb9rBlXVItpu4RqJbZ7VohgQq/g+87aVZeg/c130pm/J+cllW6dUZ3CB++gIjVHQv8DuPhM0D9ij98AXGnt9v1HvzqfgQAAADVBn05FFSwr/wMVX0SUhLenqc7T0BpZF+zekFbH31UeD9hwTgA/m0x++0cikIfIq0+OACnLYQAAAC8Bn29qQn8D2laThbibQyFO+0fQJz5rkLVcH7DgnAC3hTD8jbnoPp+A8D84SbD3aAAAAcNBm3NJqEFsmUwIZ//+nhFn/2ouAADCHLsdbfHBv7WV443kvC0BQ0xrV+rXsfAIb2hz1HEDI4jWCgD5zOh44zjb5ah+z8AzUaEYqAfhcvf9a106Z18He96YjmhqojnTg3XOtk+qE/OwOhHRYIyXEe2UMGJas0o+ianR3o1kb9mSCNqIl1V/qs0RXkx+qesO/G+WcjeLr/nMu9HVCiBiluQcHILT0yiUX94avigCc3jt4P7DkKXZVO4oDtF//qJhMvaIDoEebwqYtjeogvkOmNyN3XqwihMR/sdCOqV6HO6b+e2ZyjalK34Xoe7N8pdVUk49fVT8R8MGLu77DXE5r9yp1wERv+KkL6I3I4pxos+I/bF4ARJwp5pOQZ8ePixgNReYQb1qhkoGpzdw0s/tz8Y6ZnjDrMt8qEe5k/0bd+/d5jonQQQYHtToiKtZHp6rGiZQz325YG1qxIShP2xH5WUYchy8uWdD1pTzDGhR57P3jt31PQnQpwnIDR7VYJ7t75u6eTLVesj5tjt30pR3sIuFDT9G1+mCYAPUeORNhWdJII88qK+/crsx3rYrvc21GQZ2T1v/ftOEj5kHsisPJrDMMdf3AAAAPkGfkUUVLCv/BRDkrVbuuLS9Rjb2ggg66AFyol4AD9guBwWgAAuLJQ9dj5UVIhlsJcRMcp9cXG6+rHZghbVPAAAASgGfsmpCfwY0jFJ7i+ABiAbX9G83Cf3b+DywgAcRk+gW2/pDOAasVeZQSutKT7xG/T/bviRiA3+hzX4NkjrsoaS9NsJ1UJgz0HL1AAAAlUGbtUmoQWyZTBRMM//+nhAJJmXRuchki9rmAGqLvEeobwDoPydzAy6mgBEP2i2zNKmvibBbaYof2uVN0BhmfpvNUju+XDrHAATqN9CkZO3R2V+cHaC15ADIrsf2AJx7r+etdwGB77bRFiIFF+EO8+xAkv/jpILgver5zyEWpOSKrrwv2IbDtNfyK65X7JpRnH9mzTW4AAAARgGf1GpCfwJqL2H1wVYhlKmYn9XsvTS+FNK/GgBuWjzWkC2GvohKvVNYBBfripneEjUek1RE6Gx9Ywi4wsBULKTaZTJ0ciEAAAAdQZvXSeEKUmUwUsN//qeEAkETangreCcCPXjGdMoAAAA1AZ/2akJ/AePW7rOyWwFklLWU4O5LcANy0nPdSDYniNtQ4M5yNdUWGCfalhbnI+4IxyBwvZEAAAA9QZv6SeEOiZTAhn/+nhAIppvPE7B5X4ALZHbvygUioVG2CSmUGqOg3/yRncEFdy3B9mITDe4EUZRgn+hlwQAAABhBnhhFFTwr/wF/Z7ElIWf2W9HRrpEir3AAAABEAZ45akJ/AePXIvuyJ7/hOveVhhiAEOZZDUKWZjdEUI5s2BL9KJXUXg/hYsHOYd2eSw4Vysp2S0sfdIcOIoQB/Sv4w8EAAAAdQZo8SahBaJlMFPDP/p4QCBD+dPLsAgwi/QPUq38AAAARAZ5bakJ/Adjd7CE6rvgQZ40AAACKQZpeSeEKUmUwUsM//p4QPT+pWMKrejAvWcAhGcW/wqtVoKbSQSLbB5uIGfYz98ECeNVob3eBbRevWcfVAZtcYclvWxR9A4e45SgiDvI/gzP591EvMtrI6M6z1JzDIIItQb/hpznY5sGznFZrHWgK2YCkskLfFFwwEld4afpma06FzRPj7XuGBlRBAAAALAGefWpCfwOxnllse7tw0UIuTcCcGoDVdUAHG2b383UbEcLMtoXoc0GRVtEQAAAAOUGaf0nhDomUwIb//qeEEWc7okW7mjBdTS1kDoe3r/6YZLq1yk4W8fLbdEAGXcEz83o5FcMAgiDSOwAAAFZBmoFJ4Q8mUwUVPDf//qeEEWd3JwLYJFnZ9bWMi+/mKdFXMiD+CKTDildMZqAjrozJm3ybSBpHlnImcrPkdQRp9sqqoaAQVEPbm4IsXOneUaStYHU7gQAAADABnqBqQn8Drp2nF4z1J/TjtU4fVZLi1Io4Pwggj3Lg/YclwAXUKYfkbc9BRIQHC+AAAAC/QZqjSeEPJlMFPDf//qeEDuePMg0fvpH2QahKDLRX2gAnb3mcrXrknRzil5fLSwnq0Mx9gMNuERAVh/SqCgcr+eC2tHbDclv6PNMh7WKKHKni1k7S2ZRLVTqexsKA0GwEatcLHboOdbUeirvrUJASbSSOe1WhvmVWzEeF91DVqIjHAAwfPzATXve4W/s28vZQoZDxAE7VlON+h/QgKJ+OumZSZCS70amxs1v3P6YScM0jUN0t/Tl66nlaENnJKIEAAAA5AZ7CakJ/A4en2iR3WiMBzuCyvamYaWY3B+dBOAFvGeBLJ7uk14/1NuPpx5mFlZwqwpi7EMwA4cUgAAABmkGax0nhDyZTAhn//p4QM9ddD1ilzFgswkkDQWp4YQRdzwFfIF6vVqkd/oaLaqy+YQcRJUIuJuspzKbUUyLwGtA+u0vggzg8PfSmAoRyqaWUpsbf+dMge6AZ+QBqlMPW6RG+HwTVGidztYVYwIVZVU4GUMAR4/+bhx5khmClcTI4du2Fu4NBrsLjUsfBPb9LAHuvF6N5n6OhFfE4sYmIR71nKIUOSyX4+2Azpang4WWKC69GOBwawlUFd8NP98GEm6/Kb55qAHJyLnsGMmplgEXjzglIb96ny8qcvDtitqZlEXIg5BFj1fcSoUYeh2CNUomes6HtutwJEdTkBv2Tj3yFJBiuMv0TWGSjUjQoMXYgnDB94hd9fe0vI7Aww0THw63I+YErnOP4WM4ykHd36/PymLVsT4Zs26CCaheUypBQ4VL2bppxLdWkp3hjKO9e3omWIbBF57+BIDc6aiQt4T1xZySuYautCfHwIek2S8okdCSnRayzWvMXmTeCKw38A1VdYHYYYBMrs/V6WRxtqzGeIPsNAARPEQq5AAAAKUGe5UURPCv/As2h9UYGmbhZ+uLmDUqV0vx+n84MX6gPrxRPNfExCmdfAAAAHAGfBHRCfwOE8tMDTXfvV8bTF/JcaQ6raO+t5D8AAAA5AZ8GakJ/A16rsECPd35dI2bP2UpuSw46VhDSNqmAB/PLfq+2HdcAgY62U4hg/yKCju0kCyS4lWZjAAAATEGbCkmoQWiZTAhn//6eEC0vRL79DviZVziG6rSOMurmXQev+dCNb/JgywAEQevBaM4MZ+n0LjSj6k4nCGSo2Yq6ejBLjlQHJBvVyoAAAAA4QZ8oRREsK/8Cr13KjsWZv960LsCnCKvPebfOHjM872HE3OMABLUr0/hXTtyFR9JFH172DgxKJlwAAAAuAZ9JakJ/A2CrxAczIgMRrv/X13vZfxdX1HzGt0wMAC2bN7+bqNiPPckkUfEunQAAAF1Bm0tJqEFsmUwIb//+p4QM6uuGyU4eSx3CwvvVjh75f6leWQI2/yzwHQfajKLkRP4TZIrGqrku6rkNunPpcUOq0a5dJwcguWqYj3uHRS1ynkw36648t95l0UXbd6gAAAETQZtuSeEKUmUwIZ/+nhAs55uuqtnTLgHHv5slNu7/UUqEOUJsAcUad0GbI+Gd5b8cX0DueDjY3IlZJeVkOO2CjInJLRonGTFdWYYL6b1xidipU3tqqTRTXLvurMjB01sEgptJEOr/N3hWdDGouVm2XDo0OjD2QFv3XOg7Z42Bu4V+mWTWlV4n8+b8BEzYq2dUkXHkLyOHneYjQGaSEg0w7WfenEiqQCFcLKEGvHCGphXBK9snq8W5U1i7cPZp907WQF40i10P3CMsi1Do88wvLjzp1mjCr8R0m/4hh5S2L9pT3QDO3G/gDet9TCOmiBFw17+qgBVSdJFHyfvJzgmMUqFQelFqsXPZwjJGEVjuq9p3hcAAAAA/QZ+MRTRMK/8Crd+geBq+BGs8R0IHwvIqx3V6YjTlsAFxZKHrsfKipEMv3TbahwRB0Q4vfR9LE2xSnpAfkTHBAAAALgGfrWpCfwNfG9nKqCE5J5zq2BsdXABcXx4iHDg+Uu1xEiep2oI1D5RtmZcNvoEAAAC7QZuvSahBaJlMCG///qeEC0Od0SLJYe8dH7txeolcJDGs/cmsghGneAKDab7s+I6Yc6Cka0LFPxacb5lWpz7BqVxjvxZveQKmd7nE63kIb3EJz/jkWGbTao+5KUTOSvYkX0p4n98N1VebA2y17uB9Cw5OGw4GV1Kfmjo9Z9wvz7WUb8GkuysCEHBqu8jD/UancuVrsWkncbfBXJOceJ33jSYgUUHuS45JNgM//nPh862dgQXG6tGzI+vZMQAAASJBm9NJ4QpSZTAhn/6eECfEyGMLUFHr3FPfcr8L4dM3AB8Doiu8US0cjoIrjIOXOTsbVmkWfkZYn4WhDM7Xw9ouHFwi1AJnCbKql9vumG5TU2/SaUdl394iJfsjm90GTK5ZpYaQEBft00RVCyX1t1NTKfEUcVD/i88n+PgBGAcMBz8QJYkz4rGqLOE7uEeSiIlb7zgu+bdvA+drjGFt8IsuHahqVBwtWjAm88KBs578t+FeXjJHHSEL7155JmwPyCKVKdr2poX1lX0zO67M720nJSfdyzAXRTDMOTyF+X1gRIXG+VfXL9i6Js8E/oStsoCJ0y6WjPx5iBFfCNHLKi775fMTlLz+7A+yWbpAXhshI40ddaC9fUbdfLsGWsaDcM7h9AAAAD9Bn/FFNEwr/wKRL8O7xkiyTvrjsRhub3mgYfnjamc+JPCS6iMU29iWAAlqV6fwrp24ztrb+8HNdzExF/y0H4AAAAA+AZ4QdEJ/Az72hFvpJyqZmSEmq3/sIvPix2wAZYxqLp+dcAD+eW/V9sO64BAx1spxDB/kUFHdpIFklxKsw0EAAAA0AZ4SakJ/Az0TRHKbCbUlE3DZfs7bNOo3Za7KPaMKlSH2WD9hwfABbwph+Rtzz9VWJClSgAAAAN9BmhVJqEFomUwU8N/+p4QLQ7oXT1qlNIzmvu+UQATO5aQM+PJSvHADbRHY9DEahums4R1lyuO3aGLTyxIdyx0QV3mv2F6l++pPhNZC3KVq6XqmASCjy2ogrHissHhg2DHsvSoZphyjDtjb5xhtM1q1phurEyAd7F1gRNei7X9vp79iRG2bwdpV8S9JsgeD8ZnilMSFHXmKb+dFK7Ds213yWE135bkJFfUOGo5sgdiNGDIgrkew4A9oUoSxglk4UuH7ucvjXiKMHRMZE5nMED5sgp5ci+iXTAp6HBiNWWSUAAAANgGeNGpCfwM9J6KR5yw7hUpfdFvBL8StmUU3bpTPrij8Xc0W4P2HCSAF1CmH5G3PRFp9hKU51QAAAWNBmjhJ4QpSZTAhn/6eEC2G2J6j7M0kfQ9HmgzmVG90PJAC3j7haN2gkobZohRXKB871UFwOuSDa/MOu3eEjSdm2tdIiVxJtrj+95j26ZEbBt/5dVXR7jriT2+BVkum27oPqOuwdMw0XAwrDjcxKwurryCnSgjw/vx+8fyA4dTOW/ONUO3Pcfe/ZQ+k9QvvqIacE0HJsF8+wjVkDxzX4acyJP+z+CV2gYSeD1uO0O2Op1Q/i9P0E1qDzpakUkQzCy6Eihif9YmZHWCIDZhgXPt1i3R8jCpToBAdlQNO7lg5Ow+d1iXFa47gV9oQ1l0xk6vvI+aHu1e9cM0SkAFhsKTQGG0sai5/OHL/zbhAJMnenys7PSFQunqK6LJ0jbZKTlPe6heRcmF0jbntYvEoz3JFM7UZNFRz0UZFqr1AhneXkbDjbTvQGBCH5dH774jg7EMQU9yQAWv6eh3cvOb7WNoyipVgAAAAQkGeVkU0TCv/Aq9dtQI5Zke/Zu0/Isfcr4hUZ4bp7QAj8W88Djyqyoeux8qKkQy2EuImOU71YzrVfJejw6r6KcmqoQAAADwBnndqQn8DXq2wSfe3oPlFSxx69ObxiB9rguyQADg536yPvhZG2PSyljOdnlfBiIqeK4H8k4sRQWyOIeEAAAEZQZp8SahBaJlMCF///oywLskTHYfEgK4VW7M7AA7Q8iKtWpWv2mX6lMJ1n3YcPwKrm263xU2I26gJepl0kN1yXebKWGkBV5HZIjcWg2l/1JaPIibY+FPEYJVYi/OgATEO6CwKjsMziO/vOJrmvLb7VsXWQWGyeZFkusGF9O45YI8rRZg9pBSWF+qQDIfbRkC4RN7zGzarXx5+xw3JNrIo8HgCOWGc9MazLHHQDn97d8R+G9MQG0gDmdnlv3s65if6G+q1gyfagsHMCiiIQ4jL+RnO9HMUWUfNe4srDqDMyFm4R+z0cNy7iWfU5p34KW5Jhgm6Y7hVtlgBL7wC8TacCd8W1Ebzk76VgNqfl+R5zPHFIs+fS2CeJGAAAAAuQZ6aRREsK/8CrkJyXdpoanfdPoxpA+25BEM8Yv4LGHnU5HuED/AjaXHmWPLY4QAAADgBnrl0Qn8DYL+1RdrV2eZHaJuBsgrABcOUPyNuehsPGyX8LvdcbTEjkojSsSIx7BopjfEtlyif4AAAACIBnrtqQn8B5HezC1n2mYv4dHXD659Y9CwiwluZfte1eSxBAAABvUGavUmoQWyZTAhf//6MsDBS0XXKSXQGP/6j4xP5/k2/JfRPKZdlMWL7ogAK5WhcgTdm2fFEO/HGA4Xb/z1TRLg5/dZUGbWi2erqEtl55X13UE6S3MQjGksWwpRLBpRaVl4hJbksDoO7XhVb8XeCBnkqj0eEU4TSfgidsWQoQF+fRVaRpZQ5gLjiS1jxk+KQ+A9rEbDPHNUowO4n9UpF+JYW/zaI/P/Xr6lOruXmryI9ymAG3ogMz+tQGIN0EYjQAVhKbEg4/0jPRbvsW3noc4sxDnTex+AZDaIBll5d3jUPHYUQQClZMBVvkpIdrVvUNNen3AZbybynC1TwFLLvmEgPYcm6uumBf3lZuXBDZN6lr4pMEQgRTdoh+UcuF3YlCJLzbgQjzERXtdDBtsCLChevkwRzW/Fi7xLRv5q4yQuOSMRrmuPvJZzT5GukpSZwgbSyBe+XHddLLDyeCCy1oeZb0dFtxgDEDg0UsZsPgV3Naptb3MHFhyUYJj2eGYQm02nLDj+03RYQpQlscze65OgBI6QzvE6neo7ZbmpZ2LwrXMpUusVm+GecIptOI9SiWX9A8uuQQGfNOJlBRcEAAABWQZreSeEKUmUwIV/+OECfGcZBVbMElo0WngJ1rQUIUToJKF++UFKB86BVwfsODAAH82mP32jkU86brVhJHH643fccc+/MrQ5ZSWIMtlp9HgoXPCsU+pgAAAPPQZrhSeEOiZTAhP/98SgErY/ReKgAuFf/w+Ek7juen7bJ7MemGHPrhFRl/uBuToDekLWrEfr2v6mRQaFsKQtIqS81ERge9QDk42C2vcqQwZieHnt2lXqJ1T6yqGX8ztR+LBFDMUeQy0YKpNZbShB4XYGLq7acuClYHxEq2oCpn0K1o13naygIWf1gJKBn5B0FC9xW1AxJ95I/MI9iH51Pb4s6B9EqbZF23Gibp+n3Ag+S5djt0YHWrfeF+1sCQfKNh/nSS5r6bFtg6rj8tKrhNL1bUgzT3I9z9WV3oGctaHFFQVbeYlhNambJAXMKrTyG1ZeEFdhfI4kX31F+k8ktf8g7isvT/1+eK6P1AISfXSHfN4VyyMqsNTurM2ZopsA8U60chwSx8oHf4MfFT0T9QCoED8Bq1SrbmovJUW6RhdNS2e3OYYbOgu1CFup0QmZe5E0Gg6tLMCPm0mRxOzdKEO8gTUdafIJrvh7yT+CQt1MM2fb431nY/ePwwa15Vym8tRaqTuG4JyterCgsxTwHlXfWwHwjzuCwwjKr0EnXQ+X49bgys0lCEvrhIf8PJlcPeQKs5EnQXNZbsWU5HnE+y0MjaZm6qHhC5wA/6IoDDRDfF6nV4XjoUGBwKVopCgJNBaTfFJb3LpAhep5xVP19PNQF6A2+Krwa6/qCBrroiDBJUWLGEB5JrAskbJA0cqqvm2BheE4zpuUz+Lx6lhpJpcELh61pqs+DDruleMoRO+5gymXw1hduETFrRrVTapsEHTFTwAioGFG4TbtZXV7sZD1douJZi1Br/G2HfcD18lN2HkZSkD/vY5KK/CAQLJocLUAli2W1TsYFoX3rI/kTOZUVWipantZFW8USt25vpijuxUpLBruUAP3JHHTTfOaqWOShgvBrvNSZlzLiyJwuhBfszCSk0f3jgOa8bS6tl7BmbG82oPIQoWuPl/FHyscWLsfk9l9WIeBmtZCrEQ9Dv3sXvXYuPJZQFYsgz3EDIew6t9qjbv2fxGzVvY8V12DLI1sG0vaNmx0hDpH3774hd6wZ01UD8cAj1dZZ5xI8XCn4/MCggPuNuIjJ8xV6TmzydOZMaeBQJ5ddReyoAOHmn30+WhmS1mlE/j+XigPMdjfAM+ox9fMU6pezhgzfa6y6TRuiqOCEqYzfu6vjG0g6xc3nwkmg/YAAL5CNgfduTgAngMIDd6jzXBWkP+TOmvxQXVbBGbqLADCLkOxKVSHdVroL1mVS3fb5ZZWXBraWbHz2+ksedymQyLPu17MNHBzCd/nsLujpbj6sqGsij+TAAAAAaUGfH0URPCv/B8KrCUHhHEQzZuSMlpYixaJP2hByS8xoZim1WAZG5VHzErkANG27ORWmouxdsIy4xisWJU2gjM7aYgFjtuhUFLxM/r6a6zJZHas+kMY8NiQk1Ijv5aAApJHXKnqQ4jVJgQAAAI0BnyBqQn8JQQAz2damO8K8sjE733UhyKJoPE/t5miqANVI/kxpADddvYZuGfRDZQEnFq823P2fOVRRhOcnQAzzHWmFcueLLjSRR6nSEyATv3j9y3REjO4JLfYygnf+hrzPDyvQ6B5ldizdzAaoGhLQbqmp3WYyivrXa6TNtF/Hp10osbS8/pebjm+Eu9gAAAIvQZsiSahBaJlMCF///oy3ZW7c95dtO/bIOWIxgSqI7PzzuZXxcwpI2Kj9rpk710Ptj5C+wBu+e8SP+PNIADblIyIC8Sj/Gam+dfgLSn8kflbpPBvdqci318jy5zxraFmDS2faHtpzRW0I4oF1cy6i8jfeF5L2NYROk8YUqWFOKaOmFEgEu0IJXm7Im5m1O4bDsh1vzQgsQYeKtMHThCZOnrC/Tpg4a0woZIu633H/kccmm35xXvmPnUULf7oZPJNhhKaxHpQzVe/ne+RwkzyDkcP/x1jOAyiRsLx0tu8ZLTUfjYgNtwwOgFfzaHCMySIvJTTGtkNs9kLhvHSyy2ECSxz9olmBlcFrnBi3n8nMDBbeic026bvWxiFUTvThJF/3rz+srvm0dY8kwDnf32AIYQ+GVDFinm77Mg9HQa25EnIXuK3a07OaEMyAV9aV8BWyLxADhs29ZFflM30hBn1l2QE7pgnc54zjgACTlYERQd4lA69S4s6/9xsK+jn7cacIWbSZvqsYQ1I4Gk2NWlQqffY/FbemBtYYMHeP/bpxwqIVX0ONVIoKhpMj4na0HbRlX1zyJOJkHY1fLm8c86GxOqdEoNHrKhhe3cKVePimcOlOGJj7wiutN2AAAIkjiA4kwDUu7saYVW8i7zjZbWjML3m6KDDzLPL3E7+Mfkdbm3fudjdwHgJ8J7pYA+3RJJrFuCcf4+wzndrQfOIpCyfb0r7q+0/nEkb6XyZpFRJ7eQAAAFFBm0RJ4QpSZTBREsJ//fEBw8i34eiPmDN27ZbDFV4j98pwMiDQVbCOkuuuCtjHzifKQCgIVZ/FL6B7O5iEbWHkknzZVtfzloh0T66jz8eg4vwAAABrAZ9jakJ/A7Gcg7kMrzxuRpa4Gx1cAFxfHiIcOD5S7XESJ6mhJUuNdc64SELuq04cMx/xZIFpUftNHUbpY+QG8oYFPwNfotBBoaruNfZKycGc+6JQr7R/pK5LE0imy+4dsa+KYJQcfJJbosEAAAO+QZtlSeEOiZTAhX/+OFFvy9ACu8lFhfpL/badXxvsuQOoargzsosdUwpVDUJQWKeZFZKy5NBMxgd4zRc2RhvrGZj7VMgMEga9PUTBOXYX331SleVJMCOORRWp8rcWVosv7J/NXV1i+/Gmr6qs7ZlRfjDHO7r4gd0fBLBddYL22H7YLqwsfmz6q3Ipi1AsBhXwfKJEnofedaSw3wcRq6EL2ctW8Ksovdvn73dmjo7wN+QnsA52ZO0vVwP5u42Jg/5W4dtimgc5qe3+8yq9HkZYxBjO/YLmGjeR3+enNZT7X6qXiw6xCC2NQ4EZhFdOXvfv8m8a4ycKMJKM76Q8VOwZ2FvkPUfqBbbnRCxDL0euhbQPbuoa1KH5wR+maN2HM7zojdNMlxQo6z6+xWv50Leylj7eL2wO3ddBLPU4bfS0XEWQaIrAj/xLnViKPBrH50luUeKVkf2ItBrcWTIwVOja4gn921+lTVVvBoUT20j4K1rQ5Wt0USgHK6FEx8AOXtOI2lTAKxeN//e8BPvxEduj4GgIKOS5PIN5KU3A4neC8F0nTh8DiUvC6NJEbQcrmScROV/p6765WtAWV1FuUMS8/rZ6JPzCrrYjeFum+EcsTaK5h/RKz6D6YwGH18CQoDmtD69gWFApas/nGoobaSrTLrCh65YWGfBhK2XtE0cnOKdUd+Bhr33k3Nb0O0/UypeGodPTV/dp6LQVDdF0eR3+6A0b6c2v7lr01GFb+aTJ9Ufcr2PRyuF9eAeaRn5D5LTyo3vDduHYuSyRWVhrzwoJFysLfWo7CPY6T+RrrC2UbfjBpFNKDNQ+PmiqL5bMk/nQsuarNOf5QREY1Ac7wS7oXsm9jYczJxfov4FmK43NJsnexSBnz5uh0bsZfFe2kI47lt23Dma3jtXVdq6/QYfsE8Bx68xzG1EU4mwx9ZTsBDfDJdt2jXC0eUWU6npulr5PCYHXsg6V8ELKBqPwCWgF5SdJUq7D6jaowOmlUxy2I327w3nJRfwnw6NmhNBGJf9hyi5AHl6NWHSo/fnRuwy/7ZqOAwC20Uf1KE+tQdKqnqbQVok+2z4iWo4JSILXnpkL6h9rE7w6P6kCCXtjhbH/daUrkbS9yDQsduuUR2yO4g+PsuyR2CO84/UZkZXKAn8U/9Uvz+LmpXAULkoW8ON3h6BmoIhJYCY7TBqS4CFLwDUo/h5Qtl2ggLoH1jGA8RQBuJcPBzt/39nCyuIC99rRL6unB9sN7MlJy95pwH7cspjQGUWdPx2aQH867Yg7gQAAAk1Bm4dJ4Q8mUwUVPDP//p4Wjd+mGq79M2T9mfpdgvTQHvFZmoqyZyxpT7bACVYt/0Yc91PHefKFxbHvE1vZ4nXLFP21l94fQc1SXbzKx8MTOJyjY0AAG3vLnvU9RR+tba4jdBoh9YMDa7chYTXHbFmHlOKM/N4RSN0aSt2yj6TpqB4LawL3NFfOKO9V1mVZPOlFcffVzd6cbj57HSmjb8oC+rQCWHT91sGnooGMWCYUskQcIxmC7SwAGH6AUEybI10KK4wAMEstZ2lwC2elgwtauM1Vjqjrfxv5xuDC+thM1iLHju3gY6uTm1MoLoWeaqmTIq2NFzOoTxE3GMEYN9A40D2HJEAFRGqeLrxA0OfZoq5IhJuc3NlPmRDEun7ccT6/51hu0p70MmE86KOY9f4lcQ1y6txi17LFXaFgh7V2Du/KRhMZAt/6IT/wOii7X4Wt//aWhRAr9qFlMCI+2/7vfIq1MFgkuCE9fV5CmNmIxNhHB9aA/dkhyXDAOOUFQHD039m4CLJ8xoEaALxBHDHH6UTjvL3q3rcRZ07UQVrNe6jf73lKb2nzWSwsV7jYN6GqwzZeZzB/HdBXjyArzCEy+SyKjzRLuRozdh4eBqygnTCpGlZUKLKiN4phIldKm7WGq/GF0SQT5tAIU0oyR08lkiY+xmirAwYGX0dy/O/fI64o5bCxZAFSEAbzhbnBpxDgSJpkdasERYNo/PqZXZZCtTgJnwDwb7JoBLJ1+AB0Zx4vGofEkPFKAAF5JklZ3hNzbvU2ljHd9LWOGmsZAAABXgGfpmpCfwlAJqgBJq+vXDLNIeNtQbzJHa9Qok3sStHGumBrylXfwCifqZ29LSERmtZrvt9/n0F/nUMwmPw5jqMHLh5wlBHtmMbcTYiNP7JIjojbMEeQYOUSr5ODAnNSXt4ktsWSoaxN7xS8nlP/wxXbmHexbx88Nchu0G+LtrDyeNVMSw/MYMUbpo1jE1TsdY+4Xy51hpohEzy897WEsyrcxeFQa6IQTAhGQVsmOtN+F1iLAaIYLitNU1sjNlvWRAehycTG5wYoFuWnPiCoeiiiHWmxmP24l5y9q7lCwn0oLipS/ga6agNoZld7cxiWRGoJg0MWZsFP7pHwEzXYYDe5Ij/Ufc0QN68Q11YrxuM6J1gKHVT25Y7ycd4T+FXTsFG4Jhyl6o+xO/L3c2Q+w6J/9I8+iav+KKrb/Ufvx3iE2HgdzEF8NFwA1qPXbvrKRCRBOmcxbFw6q84KjAjpAAAAUEGbqknhDyZTAhX//jhA7X7ax4d5Cz0jgdTIZTRv2UOaPr7sqKbqNNfC6jqrO29ZgdAcrjT98wfT5YXUDa7Eefm7s9pYb+qovqFe/O37KiWAAAAALUGfyEURPCv/AxWSOCZtIzz034SyWQyU2e/rk+8NilUgWBlw+S/9ao+kt+SgIAAAAEwBn+lqQn8D3HyDuQyvKvJthvtiseTzQ4pv3PzFgFijCnHTk3EJCxAC3CrtDED88xPgwYfTx6FWCYlnP4xT0zBZCoBZ7qcr3Io4g8BBAAABsEGb7UmoQWiZTAhX//44QO1/GeHC4yAH/tDDOpaXLEgVRtavAGvW6UsAcMNoLfceom/vlkGOWptmDbNiuzSpbSvE9uUBalegUIbUmbynlzbr+vRb4kjG7EnIQ9104Kl3WCVbPDh5QptQKcJpvFjuBzzE4bMSlENKAieRig9hRmOKpXVfOpfcnH6Wu/lhnF3vnk7fJLWS3DV07n1UALqvnCOedXPmMZQ6glMium23FKSIhyL0Kf4NaWd7FoOD9iE6j+MVm1ff9Py9Ov9Wu1MnDvzwtZp0eXghYcXHcCdDhLlxUQ4WAQApScgWjvI3CoBWtSX13B9ZRsSqWqT9xnuYyVpteehgeWMxE6AMjzCSqjqtfTjUNOFk/HeypzAyrcnMLkEpwg5AUaehIsq3c2Skx7nxVU0l8wWuIvDVNh+2Os5KIqKrv5E2Mu5ddv2zFMs5G0n7Ka3z2zqWlgh4++UIvh+7vUhKftffrFyGRedKCF6PfINdzeCL7KJwu/J2YviZAJMUWr3Qh0D4LgyTxArrehL7wyZ91ZGhtbXVY8BB5823LfdM24+oW2PptRQBoAMCTAAAACZBngtFESwn/wPcK9uFEdrMIyFctgA80QktkqpJQA9wHL8S/Bui4AAAACgBnixqQn8D3CvbhRHazCMhWcHikNeESeMcjFxADZOTduAiJ/oN8yRzAAAAVkGaMEmoQWyZTAhP//3xAmf8VEcH6ADDUbIA06BgM5homWsl6JYqtz9gHiXO7OL6nMWaEQd6VPnX/wYVVnRKEaooQLKWME06XV3G7WbNGecC1cdlUxOBAAAAKUGeTkUVLCv/Az+RVaRtMnf1blWU36ZGkIk2axzbGd5oQ6ZPrxFXwTsJAAAAJQGeb2pCfwQLb2CT73EGyWMnCdsg3mOonv0mLI0TghWf8iYDBvsAAAA8QZpxSahBbJlMCE///fECZ9tQunwgf4b4a6+knnmnzoE3B6g7L+No4RH+beS7enRtKu9vhsPlksdRGNBAAAABpUGakknhClJlMCE//fECZ94cFvpPV6Z8WbwCCSIQlZB3hHcB9o1isDm/Twmoz3j9xxfBEnmw+sClVPeTGmNkuN91Vq6vkdsNUx9klB3esxoxNr2qhWnnsDEM6Toi8bfAyGtORRzNh8HNm29hyyqtC10btir1MAIiNLewpKtNoWerEKOvfCy5hrBZXUCWD4Ab/lUv+1ehLGcokV5SMlVNYHQO66qEz/+JUSELcbnPuLqHb/C3F9jaPfHpTEEFPwzvyc9kKsoML/EBOugs+gbKF0n2Lb4K4KWPYNUHGnlJl7KRctnXqd8WxVINXdPa1BF4tBwuM4X3iNhRLWfikGUnWs/CHB7CbuyfYVk8MhgyKllXK/meHAAUL1qvD4W+cGH/L29y1O2H3h88l4YFIdv39Zdhgl9qSBKDOdVV8pLDIuzFRGEHUXn2PPg5aNpeq4gW2KQFTVjxvOrwE9XHtL0qL4Z+uTowruFHSSOnUARKz1lz7072g6qqpbCV3D4h/Aziw0iim8hPiNRVgq+UZZxOQl04KVScGO2Bkz9ucYsbt3nDxxtHBJMAAABCQZqzSeEOiZTAhX/+OEEeRa85wgOX1dnMsLlF1SnXSMqRHmrAN7vPnXmt16JGreH1vPn9mjpr/zhKFmHwUw1e1TZgAAAAuEGa1knhDyZTAhP//fECzC5UPKfXsMCbSAGv84h5OJS33EwEg5v7VzHKw5e8ADDAI84pjQ2vmvZHCAEN+7wyvImo0S6GIO1BoKGotu+BQU31I1ZsmVHmCRvYovhPBuiZbsqV1vStfAlUPjAkD5q9URq2UyILOqhPKwgmyUgT1KgknEdjAjcvKAgs6KdWYvyLtSPLYeK217vMqQt4KKEWWz5dgJsIIvps/g40gb0BrNI9t2HSqvKIW+AAAABLQZ70RRE8K/8DanFVpG0ybwQcinu1oAjUFDXPdpyu+J3pH5ih2cL05i0ZmeogDBLPPYU2S6bxLzdlFwkVX382AOGWtVQ01a4QkrkhAAAAJwGfFWpCfwRHb2CTquZXVDmaL2zNm5YtEtuvepcBnMK0WLtY2+TMoAAAAc9BmxhJqEFomUwU8J/98QLMPQaEO0MF8JgBBs/CELsuRAPmz8DYvErhEHOf1ejFbRtYK0Q5u9/gbv+5yeCFKF8jTvHjqetkivFlRTYsIZFazBppbhgh4F9TLHxUacSXGkiqUU9bws2oVJ1yPtuXmiphRulD/eF5YSxTNxM9ILTCLUis3VvE9IzTCC5dFN58RnYJ05JODfunRKp+aM2RxPoGqeWy861W0Qzz5UmGDsEyOVLrTZ3EBu21TVQBjI9uVJPc4x1fTee1Af+IOB+ZQ51VfCbnLjD6DtbHNjOMp5YUQ/HuMimbTWVgaSjh9/expFZNfGP2PNPJH1n1Gsma7ZbCgB7J3pMUQR83An7UxIX5uajkogikTpSKgM1+8+ar1uFRBHCrEdjb26Jq9QY3jYlXcD3+eT1zKRCrlmclI+9nflU7pozrJ/evT4ME8TQbSm7oScaZPtKl8McKBGhkWh03mbZGdZs6XDvrhsOIOgcF+BXDoPFFKQYTT8NySBCmbAf7GFgj1dIPA3WtYnNRmlbWz/gSMpi0XmXho7r7WkdKEBA4K6X37t5j0nqeSOQ83nTf3nvZtUojYgTCL/5UyoSm+gg7MykopKEsguG/1kvvAAAAPgGfN2pCfwRKadNHqJ+hIG4t4LOhEmJ21hjb8eM74rH4Wuk4BUGlea1ANcH7DlEAC6hTD8jbnoIhF+0ucRYxAAAAOkGbOUnhClJlMCE//fECzBtQunwgf4b4b4BvcmFRvRv/l7HHhcJ/UMqpVcc91XUAF1CmH5G3PQFi26AAAABYQZtaSeEOiZTAhX/+OEGHFWGNnqmjpYgw6olqXbDPif5d3jVWydZ0bzpjhCv0QfovORp9aALliO+BRoUkOr0Zq+3Up5gjdNI0uL6oraDvGlYjopYMm1j3MQAAAGpBm31J4Q8mUwIV//44QYbn2TGATSUi9m0a2fq6SoLJNNX3eOzs/NBoBJhLK0LuLDJVdRTM1umBjtGR0c7DnNSgo4DTvwocwOH/vr1FSIZfpgSpFmeNC8rUc33LA595nHrdVfR65DhexQiAAAAARkGfm0URPCv/A5xstP+HinoNsPxLK/nEjpUkd2rULmHltVj6nsrDVwOO0MAHB1R2M9qPJysYo9sHPiUE7m7BSRMuU1FKxjkAAABCAZ+8akJ/CHoOaMuhdrVzZ7Zk3wgF2scgp2pfmdW4PzoPgAt46niIidTNLyC4LWOdLBfdzRP9Zh69RMel571wxZZBAAABb0Gbv0moQWiZTBTwn/3xHPYivUx+DSCiLaJeMnR/Fg20JqzBCAKgC3KIzG71avjGpeJwJlkKcn6pFkIxmRwJJ5GoS20u9QwfBjpVW9v+zSEnQB5ogwqn6DxcDVcxSv2WYlSSTn5EzkVSupmmEWtI+yw75PsXbWB8NZv0+QKTs/YzujYj13I9S7vdEkMn6qdYpZPq+XtLT43dE35/zY35kxZrGXq4s1IyQDDfgoB+IKIqRY4N5odghjL47N+nayFf2SQ1USGzFpMyHPjlMNrtTUWPt2Rb2bsqGCqIKpWU2pvyIPvZ2ZU56YeS+tY9PRSYBsmTn5FMuMe9y4u6XADRPcJDuXhFDdBbCrrPlg6JMLYVuK5fPc9n+hHN0Ma6dSzEiIuHqc0Y/IlzaX/bIxAuVoDqLmtrZYFDizUbtp0OgnmamHVlQ+kZwVnPJvx/M4o7n6tnsVv/TcKmtzKn58/LKpGucEWXWWpFVFulnzbGjoQAAAA+AZ/eakJ/CHGgJVNAUDZb35aeXA2NagAuL48RDhwfKXa4iRPPnHrAokk0dF83yTWh3mnht/pFiFNOndNz7fwAAABAQZvASeEKUmUwIV/+OEFHuQxL+CAaRdrymgleeRQH9qAnicBK0IihQFEv9VjXuxNin+R7g4GsPkodave+fqjrgQAAAMtBm+NJ4Q6JlMCE//3xAsxBeaEfs7t3lXJf84ss1htW3BaQT2AIIxfnlNw0bQgQJPBRw6pSM/Fo9rBxlm49zaTNSvWwtMoTIZ8he5QSphuNtcN7aXglc5o3NvNgFO/gY3kf5nT7KlLJSTIWTBDMeR/fHNJG96Ktwi/OxLu7k5iJ7wIVOKqPNe8r2+CXgspm04G3DPZfynLpEhscyd/fXtIoBSNaHu5H8xC15NqOeW6vsman6sLG8Elv6PIQ3l9gb6nSEu0pj42Lw4XPtgAAAEBBngFFETwr/wNqNaClQ8IFivBaxfy1UOk6nXwv4eBhXkH64/Anex0SuA8b+osALeFYv7eo2IsmkvgttaQYUNzPAAAAOQGeImpCfwRKarU462kqDLTsIaOWYSUTcC/gWqRKGw0Slqm/5pKUjULAAcbZvfzdRsRaiHSRR4z4YAAAAGVBmiRJqEFomUwIT//98QLwiay3uAbkiXBv+6fAJKZwDVsA5NVN4oAUg1IXz92iiZ3YzGcg2wzXJoUD3hJfrV4SiKow4Fv00F3HaRRlCRRioU+oH/eCBzzEmGkHk/0+FZdAfvOJUwAAAQ9BmkVJ4QpSZTAhX/44RFpJLhWE9yBUJF4hcIwtv/tt8ThPodXImHF/7/RJL1IDlq/dxQyHm/HBxZ3WLIDgr4MYSJ29buSk+yMqA7jLVLEBDSQjJXmO+OfBivgODdlXjorroTQFX4JVHSpY6yj2CEFLQprOWWhO+95hHrxYx1yzZ3qdd7oNe2cjnPONe9898FqAX4BzHB7F9L7aow7j0RHvF+u21GFqYutzHb/WMiO+X7uvmOj+Xjnle9x8Y9mO4rS6cE+80nz4m3yXbuB3uUuMRiN1s8bDIoKmfktDCtYX9nPloj0g0T1NStQxi23DNjHVi2kHNvHjGwL8+5ZJFrSDfp1/lEymWoBkbTYIJnRhAAAAo0GaZ0nhDomUwU0TCv/+OEEVSIUCKQsXpYgQZDI8B6srXljdcB9OL87rlv2pjElmlmwdh5Y7pi4FHyk7qon1bbwTSTRWyYH+5A2aymKQW17RNYQfA/L1gYcRWe+Yr+TNehP2MM+9i15PI9mVNr2BUg0v9osBgtteYbVi9Yda72Z/XsVP42h/B4E7Fl9Pj8M8qB8+gYAedyT92ngAACTBh3NB3jkAAABDAZ6GakJ/BAtrYH+cHgkZ6rNWiOwW1yPEkmN0BX2Cdd6GzjGYOWlBCzCACdu3phNwNFQOpr27B6J7ickpjSeAV7PyCQAAARxBmohJ4Q8mUwIT//3xAmgiw25tz1eougx8k0B6x6mDYuug4gvL24zTXO/F433JuwUtDBmeGZC665RXfCmHZOc5C6LSTGiBjAad2WzGsxC/unP02fStTE1bmDIZgkAximVgbT9jzsHGCbOfXT+glTh+NiXZe57JDmIaG/dfODpjGUtnr3fMSDo7pAoBkIot6T3IxUzsi/HxAY5ZQzVJLbrXu+ZowAyfvX+3tIm8ddN7l0MBeK2pyj8N31YzM81orodesGtsMnCylWV9JTXG5cBNxsfy4XyTwa+q33puQz+VCjHRq6n4icvuzDDLQeaNicSd+FrowCj3U9Gb/x+VegPnSDfh9YRe2Q1fkOOExkYAfTvnUd6S3wadTgYCIAAAAIxBmqlJ4Q8mUwIT//3xAoiJrlS66K+Ogl9CIBdNJltb4A1CODv+fnJJACLa0WytaHsD2Mf1snvm9ngHF4U4VQf4DPTBReZ2OGbMtYzhDaL/5v0vgOclLlv2Ru4v/V9zAw02b7ulsecvvdn516pAgcK9jnBn+fUFY2U6gfBjyl4H/Kc1LuQEaLqct3hscgAAAHZBmspJ4Q8mUwIX//6MsEp65i3g7tVAIGN03sdpKtd69heWf5c67PjkSWeAXXW+qnFD+uWUn5NGdsWpwR++0vzm0KnOGhaK0IQs+I6P09mFgMqIVS1LoVFHvaI0mZaCk9id4og3aRhRRPvPEK+/L+avUVtjoqVhAAAAUkGa60nhDyZTAhf//oywSn/QhBU2xL3TBOzfN2BYaBqcaDGLWv5j073PytExjUl8D0SgJleNLSypcVfeI3TxTJl2mlc/8yBktlBMRiEuy3JiS4QAAABWQZsMSeEPJlMCGf/+nhBFilrxxRRgca24HHxRu4VslXw0yMOAC+vJZck9rSclIJ4etAJVnbbXaYKeQIhWeXg6O4zLMBKYtRb5HnXiCUTKbWyT4CQ0LysAAABPQZstSeEPJlMCGf/+nhBFjiTQ29QVxrkEGv0qOAtq2+1T/svFzJeijcAIb5wWjTTGtaYE/vqhFA5zUIVzn4/hPzw4cGatR6HhyLfB/y2fQwAAANhBm09J4Q8mUwURPC///oywTb6YIMPhBvSCaawtZVKtEZ66kB7nEhqi77LeI6FV8Kd/rqGY3LqK/ooHlraibNrkL0A7UL9mg4Fah/r1Ek11Cyqn9QIADOvnEGip1JqFT2XyB6vgGf4hZJpvZWcxx8Ep5VTHLKAry3UVdoVji9rt6odGhsZffgBCzjb9CvhDQUfiuMmtvlFDyU9wzyZw6d6YG5lUK7PPmT6QTtw+Rur9H/C2TRiXMLBcZ96eATqrRaueBfz2gA1m0R67NaJSJY+z9QCjlnzTEYEAAABtAZ9uakJ/A9l9pxeM9Shiy5NDrTTABYfLfrJLswTXjKXoGppN141BdogS1V/0fXa0HoNtj1qJEeb2hlBkm6KzHoVyoO6jjI8yeOPuyYAG5sgmIj2fm26F1PCzpFCx4xRny6XBuWoeTEXlTHZS0wAAAL9Bm3FJ4Q8mUwU8J//98QHDwKHbZ/BsWH1UpR+8Z3ASOVUlimACuZvf60QoxjQ7vvJuenN6S67Kch5MqxmYtiQyWjME6HHVFfzbuKsJaGRo1QJtKJ52MWi9KFiAR2YW8gndZ2hCd5Zxi6TN4KH4aaTe1B8sv+ptG2ehpz3qxYqs+aR0mDkup3yMMDtu0psqPbUNIFzO7vlR1OhRs4lN6LBl9ZGEz+UrXf22cm9ar8PtHVlJ6g+vlXLjLyRwl5QcYAAAAB0Bn5BqQn8Drr1ggW7TYfJxz5LTYcwLjgprAU6byAAAAg1Bm5NJ4Q8mUwU8J//98QHDtodNO2TaT9BgAlqzajr4Ms+MxooMwo+4UwJ9uCNgu3kiizGeCVHLVb1SHs4y2xLHRA6HGIMS5mN8uzLFuI1I8D6ZXXfffOifHUGuVXGk6zQBHxHieazHNx+0Pae62VefjMKAuWr851//pho/i6XN+1eof9I3H7/B1EOk6toAxtVPn0o+k4lO0UftXXqL+NroMmt0j2NJ2wTVH2aZktY88Jq7zABId8ZM1scfppQkMadZVN+o42QfBZ+pQ2nrQ7I5Vcaxhfu3v1MmsvU3GmwqP5wQa2OvZctv4JbIcdQbxPn7FftwPARH+p+Y/XkdwyfDkT6MP9J5ZnoIw+rWrve3FQ0jUioDqBK/imQH+Kf1ZSHYywK8NNg5rPxpIP7OAxNUO+Rpk9JfP0eJiuRFhXSoq9b0frSh6/RrRjOWjqSe0iEg2g+SKX5k/Kx2x811+lqWcMZVnYorc7jDXLiIG9m9h8esBpoz/GimtNq9YGrxNEwjs7QQWK9tCatn/8n2dRujWkByFP3XLAjOiU/j/BjEGaTspFaUgCOjBOiWQEdbi5rhwHONgRZMEYFJ4vTxoqOYFasLOngsFVqmv/W3gxkT4xq1ylEgel5lH7zrjmpduHdOk9FBnwWntGcbNOzNgHQmtK9x44tfMH3FeCqnzvxKcmM1oh0yC4stBdtpU5cAAAApAZ+yakJ/A693luqV9aic5VnAOhKTxgT1Vrqz52ijzRuWOaTh8fFgnZAAAAA9QZu0SeEPJlMCE//98QBSW0X0bgzpuljjANIw6iQcza4x7z4C1CH5H2oCX7HQMKwHs3v5uo2JBeDlaibMWAAAAE9Bm9VJ4Q8mUwIT//3xAJCl3H2GAGvEbeu2/8qDZa9bUWjdG66AEJbfq/om7RnNebvqtNtKA2aXN8v6csvRST0ahAS7wt8enwEbOg24qXg5AAAA+kGb9knhDyZTAhP//fEJF0fG6dJAYo5TuU18FbXzZkdHMPVe8PrxtGsd0QmC+7BnkB2K2GvDCQE2RAYtsdAY6zWT7n36LY5gxHsu0bGOKGpUupQPzn9PLH3tDAyt1L7gIQo5Ujs4Ha86lJ98IOjZ+7a6ZaqdPBryPKXoVkR0+TLVqpQK2KiMART//hFgtRfd7EzAOh+96sozaOMLHhMdgEZvmg8hWMIqd3ZUCoJ+ENC7VhyJ1xSF7t6QaoYuIH1NDT/LzHAoVc+VVMbWVUIWVouxxe+/b6G3pvQkz8AxIAdCHz5N9M1X9ltXbbpkdrjKcPUJNkExTsilqu4AAAB7QZoXSeEPJlMCFf/+OEOKdCBkOGd8EnsGveLRta8OEuNsI+jljze5UVmM0B4AyqQTWzzqvH7I8O6IMgFbrZ1XdaYYzVFXoBvwj/HU78HkYGjcJ51ZACBamJ1rqGkbMiJRU3t8jBTduXqhKP3V7WY+yH77sDU3T3ey8c1pAAABYUGaOUnhDyZTBRE8K//+OEC4p49tlw2KNgfbUAbeL0/m7c9BUazs8BUV5ZEY5+2ADsiakqNXQgT4c0E7fBe0EcG4SsPxfSqbFFjKiL1kGqLaNs0EoHM8NI3IIMDGwra8Toqrk6AqudNTQ2cYJYAFoVdYy+AtKCds2kTWZo4BHWEPdnzO3OosfsCP+hk5H17qLDC2xqF3jRArBrnffYncEi3spVwWRTSd178N3Tu9exFh8Ved13gvR0hhAKfZBKvPBm+tnfErWBMIwh/vtI2pwuxg9i3EVl2sYDxWTT7QuAB+3b3tKvwFdUnZDMYsk0bkBhJ1nkInMygFN+oQlmzb0MMptfUsxkuL2EEcss8AROtvRlnA4+ONG/7VkY1EUuxa+PnEgkKM47iKIsZyjotfARd6SeoBIWhVQPQi9fFF2hJMn5g1OYePaaW/lyIYbANofk+kDYD8pQZO95tqf/h6PDUdAAAAPgGeWGpCfwOHnaIdLReaVMVMKNktBO4cyf2LXHCIg5iJSdmoi9bWBWfBn1IVgBxtm9/N1GxFeGe0L0OaDCLwAAAApkGaXEnhDyZTAhX//jhAtJsUVbgWdvrHXtJZlldZYV7AQJnI6iU3xP5B8cjzpEhNAK7C3HIM7CwRpUBTiayGUL/4D5LoWIQ8OkWrdfddpClEjTlHxZev1O7b9Ape7IWdMkOJI4jmsfPP/Rc8TvnyFONWr4s1SNGktp/Kf1u0kOkOr/EsgOK46HN2IBllVuaBezgCEq5xYRZR6QWLVRQ68NBP2CVXdaEAAABBQZ56RRE8K/8Czo/Du8ZIxuemMSDFQt2amhdd2PzwP0ru7XiFvyjZPXjUAK3nyu4Ve5CIS4P2G/xdpj99o5FDXewAAAAvAZ6bakJ/A4Vbv1eM9hg+UpVaOESeWZJU5xEU9JY3HaJcJkYSk1jIW1+IIzyzVYEAAADZQZqeSahBaJlMFPC//oywLsnex2JdSCubrhd+CkRt1WgAQEtVURHXgly6lJdTzJDAqciJQmo3gz1qMt6qCse1Gfk7KOgV+bm7soICu5nJKeocnh+spGzyUl9rREtwX248gVBFnOEK81lrfZ/CBnWczLEGlzESgDYgVXLUDX4FcbRCVfLivZwNIetQ1Uf2shgl347oioz6J4rLRf0DtowqL/UYLn78sKWGm4iLirPVXrWaqZPW7BbvpnapnHLRM99paFCXcKhnUsZtNOm0N5T+89usGD4EDJy9wQAAAG4Bnr1qQn8DYHfaJITS+OsiTl8AXpMGN12Izvs+IUPwHgG321rhUytXmT9m7iK3hPc7Tj2w8rZqo3gvB0cSPAZW859y35AGBZfNGxFhbBigUPJIgBMD00AxenW/0gD2ZV/Ae0eF4lv8mXBAdDzQQgAAAMVBmqBJ4QpSZTBSwn/98QFdMKYiqkIZtw7fluTkbxGZylCqftskVKYLzo2w86kAUe+mIT/25NJEYV3uILlBuDyd2eOseIOE+0dhVxGzXiQZYVTgxhoiRrWRBqOknT+W1hQ6XS2w+vTjV7tE+3uwUy1saKApMuCcUQrGTi8UDNM+ucZA+w8OijLvWZGaqEEvCvFbD5pje3NrvDJ3yi787GmzZUfZSosKoDbp7ufETi7c3Ib7ufkNUVUZhWrJxAEpWfLmBx9mYAAAAGYBnt9qQn8DXquwQLdpoPlPnAE/0gLA2SFwAtb48RDhwfKXa4iRPUYHe2W/0pdpk9YutZq3RHHdsOet1acXp49CoF4oRe5Sf6pg6EY9BmmUVPpav682r8WF+9Vr2PCQZXy2L/nQrIEAAAC/QZrBSeEOiZTAhX/+OECioYqnARWHOMiqU9cLtmfi56gRegBzvtzwTZE4J8gqrJgXtdfrtCz14KvgrQNX4rJphS5XmTAOPDy2QpfdbU5iXe5GaeOE+qmNo5q0qjq0FjPnntNlsznSa/sAIMiC4JZSJ6J29xv5CK3boYh/f72F0bs+fumgN0n+tTmE0JBLSR+6X4tFPEayN7fs3EurTbfdIPgEN7RHJbTvNovusN9LdUlr+KbTbjPThdPhnZNZq/AAAAFvQZrjSeEPJlMFFTwr//44QIn7IEVhhHd+w5qsFZhFY3QMK1L/jcAHSO5Hg0OQvK93RZTNBwK1BfzolWl1CynSUTMHB97ioLOaSR6lTtfeyKuNZhbxivjRlOXh7UFeQ32oFkAXGa7/xzf5qS9AMcGxT76gIM3daE0JpG7HueSEHugfA1eQutrO5vPd5lHXLM7MwkdwD9kgR+6Ss8AS7KuPnYKhFmlyyL93HX7yw5NeUHz3uD0AkpKu1Ar0oKv5JZNFIvDu6cVjAjysaVnA+D+e4/PQT16FHriqUqUkNi5xnIHsRl8s2OHe6Gweto0288OXkFFUiLnq8AN7qzKayMRd0H1jy0mOLNn22WN2FHYmH3rYpyOoTyKkxvz/AxoI33N6skp+QEm3DrmgZc0iL8JkS2aBzIm7OhVSQr2QkJSCowuN6xHahrC3TXruOh8qjqXNTVyVGH1yvo/7dtqkaiYJpOHJcettcz6Xbk37sUQJuwAAADUBnwJqQn8DPqVanHW0cFaJY7piHu0xr73z5V+xH5ppBEEAAtmze/m6jYjuV3aF6HNBjm4xIAAAASBBmwdJ4Q8mUwIT//3xATTTZ4yOsmglFeFJABEHkqq9zsYHGo+SSzz7B5Vm1a4Xd92GWDGegp526mR9q94vFop4NqwI6EMiVbE+xYwaz0vSt7I2E8ZOfEunlwBmJHFKUeawZw7u/U1caaXKzXJx4MaE8DwKJQ3EoDYxpey+UonLxph6fpHJPQ7IaT63jysU7hb0AqtXfSHVCkeVN9mccvUNj4F13vTtWk/1iVnFd0wjo+I/1AUXqaEa7LrxvPsI6ozlURfrT6a1sCdgj1Xv0odhTrt4l06Dd6nyVim8xzHV+cf3hGuecwVfONn+9pdK2bs+mUZxDp4kakk/7LjdXuGDgoZJEYyrJNWrr1FVt4Wrc8Di7a5upbI78VpmHonJUsEAAAA8QZ8lRRE8K/8CkEJyJBnoYcVGH+DJpuIoPpURADbL3jOsRTiNy6eZUaVTkvB+w4HTlen0ujkURgluvmihAAAANgGfRHRCfwM9ehYAatFhFiuIvwA7JtROTcAx2n3enA7FRPn2ADdbN7+bqNiPi3xjHGBt/bbU8QAAADkBn0ZqQn8B2Xe2Sgv5/Q83bVUkEQR9mQjB9ZTluBuoRQAcHO/WSXZgmzf/T2udnlf4zfHh1Xq81F0AAAG4QZtISahBaJlMCE///fEBNjYsUbNvA5PbKGrho1eJKAxKdhN7/Agnn0+UufsdzAPppX3dy318IqbiwlPY7ikJCcvgcKRKM4+Z3afGIr8jwG31naGiTPBU9QJ+M9nC5mmjRU5Etd/Gz6tD/oYCB/oosZj1bh7vMfz9rGSYQCozZh2i1IidA0yoWgY0O6bsx5UFPEmsfa8VoFXHuouXFwge6c2v0SDEUPBfqdDKb02rbSsgt2HZqLZl5mtx7q/sL+WIthIuHIimTGMqPOTBEb21jt0wpFf2Yb+tBexrgQxqiQhaXhKENDa36T93wGW3d02P937A7GBV84OcrG7+KuopqI0v6pbu9ZxIUynKmRaA2rQoRjroKGBhI/VqdPuvUc+uYbPLNaRdG2efjllIBovwtBNGzKOK4fxIZUWJkE1Uh3yprTP7v8q20g+QZRwf2vLj7OQRhCl/0K+mgfIT6xjMDRgKCRMZmZYoEfPa/gARu01K7y7zlwz3OLfIji7icEAyImlej7UVIuOHaxQTTuk1/ydTJ9G7AMHHPHHf3YRR4jtIB0GoGH9y6ngUZ26OhYJAdSYR+XCZHKAAAABPQZtpSeEKUmUwIT/98QE00P9zj5XAlkM1cDYxAAC4vjxEOHB8pdriJE9Tp/ae03gNfQU9ry7VV6KaAf1395NClXFI8giFKXBxoCTvAvitoAAAAD1Bm4pJ4Q6JlMCE//3xATTpaqH/La6ytiPIMJcMnUmEqn21H/7V4NzIL4xouXaxc8FBbRgSKNsT0reBwE7BAAAAPEGbq0nhDyZTAhX//jhAifYewaG9iG4nknx/RY+fxMnUMFv+mquH6V4WABJQY6ipdYoHNZzqCfUIriVzgAAAAbxBm81J4Q8mUwURPCv//jhAnicY8OBEkAGrZ/n00vfVPXBAXMBm+dHYzW/Afw9WX0peVsHxvdG1zKh4do100TGTbWLjeh0d+hkKgSnbmPg6P1UHMONy2CLrX/XQYdSQw6GlqFI0rQ2/SHM1CWfQ00RrOPPW7lLwZTMKIISfvc0zm3kRQQy0F4He/FYEux0KGLFUShIBIp5iHNA/eVckuu9MuWS57IFZL1IGIYStNm2uvszXGkYTJ/jCBbXg8YXIhJ7PaLgJJMQwPaKs5y/k6cKR7EDIBAPslCtjVDwW7iEEbNC3POWYbHCSliYUAt9kP+AaxzjMpJkBpbRv/TGAphAejLpX7XZD5IGA4BvxXAWGOu6fGW7hNfSft5ncUr2BWp6OJWP0ORC1eKoXhR9bkLFZen1ie9lKaSlKS7kwwd0lbTsmCUfkApNqD4mp6Vj8KdlV7o9vaeoKceVicC+HyGRligYHBuoBrP1opV9CdkMQd7dy6iOe+hqKFXv5MMMp1MISgwb6u4juvbFJI/hedwR9cKs3oh2/Km/cHRAS6DscqoTPw0CDbw+OJUkLzagdnsOWkojEFZpw5qKPw4AAAAA8AZ/sakJ/A2BtGXqpCIGTs1fDTzZ186CeRmGdijtLa1qCZJisHlFTb/6AAHG2b383UbEbiu7QvQ5oMgjhAAAAVUGb70nhDyZTBTwz//6eEC0GA0qI7oJyVCXOTs42+no0fy5TlYcmpZv/G897mWuE8ABc9uRaZTzxTN8vz5MPe77s9v0ujkVllUApC/CGtgrQ5Zkok8EAAAA3AZ4OakJ/A16ZRHKLXcAJwdSxZo4CHtkpHqJA0DVXg8hN9HU+1m4P2HA+AFvCmH5G3PQT57IZWQAAAP1BmhFJ4Q8mUwU8M//+nhFscDgDPtqzHuO0cHNBvJoNb0ko7afB4ejlDRHxdwxQ0tB8adi4Z3rBP4PBSESmXKF9jypR8DyYNDMO3f4Zjx+1E4BdT8i9NcayceS0ONJc7Atid7enKAGcWR3CoBrefgY1qEbAPNfF2UpXOu3Okvc2LgG/hD1Za44Dm+8HxRW0iWaBjBbJaXDFL8DDKftnViHJaLHDBOX3PfD5W377c4BgrjQBgDptViGi33IJ1vtwiqflJl/oGtfjGE5Wh5IU4maQ4wBfhAhzHEoRHKJft3K/ik8pYzDdpvlR+C9uTLyKIKt+mjZMfjLk68vWbeSAAAAAJwGeMGpCfwY0jEf0Q/7fiX5bnvcIdvsBpVtE+yppHYvJp76FOkFOkAAAAXhBmjRJ4Q8mUwIZ//6eEDV10lxZn4tKRCecQf7Ruzd4OAKY8WqmX3+NQ7UloMebmOLlsHGhKE8GGyKdAKNZjNV+pN9vwHwK4zcISxH0QmQpneIZKQ7hTX1FJaDehaoEIMqkkHNLPULHfnjEprrv7L0emynBxV8e/f90dJXYW0Mz/uzwZ83b5GJhPEvC/M7lcNOzx1CX75J2dS2/AEQVgC+/as7oEvPOYL6g/9486XEF8EcQstM9cFsfByaikC20TaUP4TFemgw5JHwqx+TQFNJAu6cffqUzKBI8nW6cSRZd3ai7PqNA6P1uJ3eB+oQMC6NeCQw732WIB78UO4Eeos9c6jd5QJCEIBvUem+1LtWeinThtz+mW26Sc30nEbsWbPtrvk4jynpokKIdcrNmKpt3IoSJQzbBgAA87tP6VfgCEMJV/7vGqc1Y/gLp0GUPFMJUvf4y1C5IpP/1OB9W/q0Nf2V0bj28mr7G6Ny9IHCBS6CK8OwrisbBAAAAbEGeUkURPCv/As0/1Vg1TiWIRaSikfgAG5sVIY+VA88ZaYQhfcDn+E6/WA+7vq0k7AcQMKO3iciC0H8w8mLKBKCvsnvkybSUosbBpOJSPZli1P34Dme9OLi59v8PypPXr1OtUiZO8kVP94fzQAAAACMBnnNqQn8DhV1KW6EMeD5QTy5Igp0/7FGl3QBxbYcx/hx/oAAAAFNBmnVJqEFomUwIZ//+nhAzmBT+7xWA38bopShAAIppPLZw6V0aaFW6jD6gzBc1qRyg9Hqw3+/8TKc+iJoUfJGPPCh5wx6JpcbAcqDAWXHtLdUhVQAAAEVBmpZJ4QpSZTAhn/6eEDOVXXVFWQRvYjS6TDODPcJ6Khxur+vFWn/C0ixvf5vZ36yfMYYptB9/NFH3BQbQiMAGU+HFjlIAAAEvQZq4SeEOiZTBTRMM//6eEDuMV4QsiVrMkCzVIWyZHnwXiNYAnb5KalBjadwHt7zS59QU04tttQUM/a29TmZpcjdhYEUcRN1rX46odGMI+20W+pyb1qOFejo4p6MXGyu4fnsfRZmkftJLOI2ck4VioH5127673lYoqOag2RVbmy96Rt4h4w7c9JN9Gkf365fxsm91XYKugbSpWWv/ZVZTXklcsKdDZNZrhOTs9j39CnOUGL3RxKmzdp3t7FTTtTe3hdAxzi6HAXuaPzqxq4/J32ATYY0joDQVIsx3a4TG6Vz3SFvtS7Z+S0H80sL49BoJnLWZiIHb+gqnlh4VMvpNacJ7ofaE6tuglGZK1Pkse+5vKmZq/jr5KetCWJNVwdZ1pYH4FTh8KdAXF+fcbZNBAAAATQGe12pCfwOuwWCT73EGyaBWD01DEvrkNWLYrzNgAG2d82gu3WvnX1xK5CgOjEyayX3z35YI4ma4Vi5Gci54In14dOAiyWRRwsBP5ExPAAAAN0Ga2knhDyZTBTwz//6eEDuNAinGCaVGuUDQN+Ty8Ka8cxWTboAPTaR23HTA2o52lK/VUfjAQ9AAAABcAZ75akJ/A66fW6NfljJspmQsV8KRO5GUGRjjMQ67xX/+AF/qxvdbN71dwX8bNYj3mV6JEFGSHwjorHFYfcDXTz/uEV9LJTpVbegx5CTtcshuFwGUoEQfvKa+IrMAAADnQZr9SeEPJlMCF//+jLBK/1f/9eAnhmOARd9Q7wnDiNMCIPiXfqzyHNHqG9g3RzOSsfzDKiVVnGaCWp3mCH2ttn2dLP4vmaVSzOS4phmx4u/A/+uk0uQmi8wMM6WHlvIjbMDqT+WrHkahprwp3M2wKqR0odY4l6HmUYwW8PbeXK532ODwjU1mNu5O6RvpZEeKOQPioGmKPvsWMxp96IOQ4exmEvwlcvL3F7ZnwxulpKRaMg0pavxHleYmQUjCz0irYE5cLiG7UoE4dEOe7j2wzm8oTzDT037Qlw17du/EcA+LqQzh8O88AAAAKEGfG0URPCv/AxWSOCZtHdvPt63zHbf7o6/1MVUSqrtXDmsTjCgbdj8AAAA2AZ88akJ/A9l/ZxuhDHw+T9wi2gDswspI+2ca9w6reKUJtraADjbN7+bqNiN/qD0/Q5oMjrW/AAAAO0GbPkmoQWiZTAhf//6MsEp6pEmA6KlG73+ujG+0u4xPNlFABrnS+G1ARH0zl2H826duSBYSmneYkbEYAAAARkGbX0nhClJlMCF//oywSnqkSYDoqUbvS1J85mjAhOfWAC2epQmRjkWSVob3Rawhpvlfqc1jl7ElUlNOvfkswLx71sofQCAAAAFFQZthSeEOiZTBTRMJ//3xAmf9BoQ7QwXwl6UFwb2GBn4ah0BdokDa3zaWDMu4+S5Xlv1kl2YJrxlL0CaPe7cThai3T+Nf9PanHZ6eebw4zcxh5ddJNNCW4S/bPEjb0qk+AflvC53RoxPNHi/rU9joY5nj80OfL0Bmcp9Qbah0vZ43ae51L6tbwutD5a7Fq3bR9LFuLTG2+vClzZWzp/91TMI/g2zcKJnJv8l1smhkGlIBPH05PTBGpQ18B6ujoEdua36vLgQf0B9NoyKNez5DOzmjUWlOuniFrfjYXZ075cPvW7Yh7inZv+EmBAJkTjgxnGxJnexLlX6LSrJ2+bHZpge+LyEt1pyiwFNJH1xJo3su1NnBkAkbfSEkSgxADr2qFhcJ3/sfcbxoiziNgsfdP9oxeW9GBIEILkAZ+D+Zbf9mZbYsXwAAAD0Bn4BqQn8EC0aI5TYZYbJhXIrfiSXFKWGxyvcH50A4AW8Z4Esnu6TXj/EFBYem0CJ2Q53FHA7BiIS7VFLyAAAAPkGbg0nhDyZTBTwr//44QRVN8sQ1dQyBg6dM2T8jXJ+Awq/4sMDS3YK2V6YW7Eij324QR5SmGZP815Gdg9F5AAAAOQGfompCfwQLRojlFrtyE3ee2BsdXABcOUPyNuehsPGyX8LvdcbF6ExjGb6UpBhUWvhy8ERS0D95PQAAAbBBm6dJ4Q8mUwIV//44QUe3lkZhgDDCw8E272QoorNzG58pF5ipzQhaTQHaCUZwzYDeIhV4IzzE5/ckTxzMZvv7M7lmh/iLBED5UwGdNnXmLpU7N7ovTIgxLYX53wq8zKRi+qaeZhlwcOu+vR7WsdTQJNjMjcM3pv8r+d+z+2HEXW/+vR/7uzvXa+ZYK9hYTTLkDYerdT8SLlrNIta5Ddw3N/vPPpTr17iQn643G3wBpUz+ITeV7KXdIHs+UuE47IBJ7/c/cX65oWZ3PAgRnHAVsNqwabi/vONfV5qAQCKMQZ7qkCrQV046fbp8tIRApMmNAn24KEHvvtrzYYTy1g80ZMAB5+PpZNL7j+v4ke94ru+p0KelScYChHYRN4BWcD8DdV1qHMkuwlWsA8kfKbwRJSNlTCA9CMFmse2uPOupsG6p0zEzUow+Up3lZW4vj3N+JPi7iOVoIFdsDa38851IO6ICZIFE5bMKGVkr3f0wDUyUO+22dDnHQNhmx1xjtJYFRBINk2fEDYQ4s9I92oSk38k6lh0PdlZ6lMCfMRntKs8n+wFunlW/TZk7GyhGV1kAAAA8QZ/FRRE8K/8DaLQEfmzKWTZRvLFO1G5yl7Qh0KpBlYSQkCkVDw/DIy2gAuoVi/t6jYivJzG7wc13E8pLAAAAQgGf5HRCfwRHSd40PYJKvbgu1kzpbiKuSRKJBgc8wEzGwDBKBgATt5b9ZMSWZOjh4vDraBBsfqxfdpHFkluYG02XgQAAADABn+ZqQn8CCNrYIG3nQk0oVRLuCt3pykHaXzOONcpXmbcH7Dg+AC3hTD8jbnoESHEAAABMQZvpSahBaJlMFPCf/fECzBtQunwgfz/YbJS/KwsO2fr2G4xkLwFP80gKkXb01LFM3y5pXUvv4XgAF1CmH5G3PREM1FEsoBQk89xrzAAAADkBnghqQn8ER29gk+9w0sh71PnO4EX+22Htm1hXDulYcFCHQlTGMsTf7AAcbZvfzdRsR7YokkUdxJAAAABOQZoKSeEKUmUwIT/98QLMG1C6fCB/hvfQ0dCX7BBwyoZQFTw5FXAAtFU8RETqZpeQYDcpyTqfRFuRX89ThDIqIkzLpNWRm5/uDvZlkOGRAAABs0GaK0nhDomUwIT//fECzGERW+/y0Nd/TVGd9MweyID52Z6sxhtOE8zHrsiLVFv2dU8hX8BxFXGCU/XvpEgrRHj3vg/211plI7o9o0jUojD3ZybNTkSovIs7bHZU5DWGK8PWZTIJdE1BeZrus6TulbDVX/A+7lu/Y3BixhGD0GV+BID+FcTPt9+IMnZhGO2dMCSZeVc3KmRBgB1yBEDE4v4k/qAsXrRWcrToBimMNX2Lcux/MxLCXE1lvBBlzSdk8bf7RjFz/1AAacy/lssbrVq5uUXFeUcpoizTf9v0y0tDKsSDSp9/pit63OttllicfklKszzf24SuVX4XLmGSx42puEBWNjHhKzZJkBau5NcRdNK0VOeM+4R8AuKqDsnQ1qUD93dAoZUiMZuYrgCHismRxqMqIl9t7URAUc1W1acCm1Do+sd5oy0JRdx9muOYJBHcO+SdzdcUuoXs3vf1a6qdmFmZekmbo6B4WAIhhZi2Dgol622YZservOgRgFZeaMP8TbfDTqz/g10K2TxZEg442w7VVh7+jy97NSyUbyPDj+Qy2yxQGa5O30KraSOpUR2kGAAAAFtBmkxJ4Q8mUwIT//3xAsxawzpiNannC0TqMMPJwnbVCL+f/oIP2NQAtEeBLKZZUVIhl+y0YwusIOiHGMHEcPPpkFBJM8QaUAXG8QZZUh6Rrmp++UDtkWXnnkRzAAAAWEGabUnhDyZTAhX//jhBhufMwMqZ3+Z++Uc+dCv/W8V8AGADgzETchMjWhYrkNthmDX+HBJrpPQX3h63ZKu850mBVZCWEsJwdSizMU3jZHnn5D1PyevIJKcAAAGiQZqRSeEPJlMCE//98QNMoBVq8SLvogFXC7FVm4PFrbrfpGkpVyV8hi/Ky+6efIvBtxlt0MRboKVTRmOhrEQ7MQ5kasqdPRFCC1EW2gp3lTlQff/xCQKHVN6AWfZog2zFstlwEa+pNuoNKKKADuLtbsjF3xTp/7Mk/DTBmC6Hd/dTmTBfIsClgSunGUEz6sv2bcXox/ac2aeMG72hTAFY5Ofo60Tp8n5KEm4LpQdxIHb1HnekXGTDdT/dl4MJbb81XNuV067waUZKkW8HNLdXmSWG/3g82l+ZqaphdPGLBxZiRNp73aRUdP3CuowkpMdMbhu/QCCM1rjlwO3EinDe3EibcOqT+KZhg4Vw0nK2/jQySrmhZIFnW5ytyNDONSYBAh2z937BHUaq9LHm7qxSSb1ckxZlQe4ninUokiY6jrn0Ak1Ul4Dd6fvnEX1v0fhT9x7/r1RaEXpvDu5CgntC8j2XOgLFFxb95jHDpGE27CUnlBBQRs7fsed10kw5VSVmg9gRtQxgPiuSIrmfw4d2WkZC1CTvmDTh3pMjIbxkAQXY9wAAADZBnq9FETwr/wOcXytXQAjAu2HOGANoZnv54JHEODFt07bvzPnGrL1nSJCpeR/tHEOMqr8QdjsAAAAmAZ7OdEJ/BIaWx/T3mfBHeumslFNiKpnyYEA7/1tKuKcyh4ILAuAAAABHAZ7QakJ/BIt2s1WN0cIHe8Bl9mp0TYhOgaMTMSMJ2smZwMFMOuTo49KgAfzy36vth3XRw8Xh1tN9IiSGUbjRFkluYLfVzVQAAABNQZrSSahBaJlMCFf//jhBnanEBAyUgwI4qOdVGqH12o3bdRCa2XvTERlaMc5sgfpXwtMy/V2TpX8Wptpj/N1GxHXlB4jGOIejT0Kb3bEAAAA6QZr0SeEKUmUwURLCv/44QUe/4xhDsUE1kHz3TFqIRwoKQz/U604P2HBOAD+bTH77RyKOFwRY2kurgAAAADMBnxNqQn8ER0Rg3kHsLmdOSyEVIPNpL+np03D7Zr9D4mSEm64P2HAaAFvCmH5G3PP84VAAAAG+QZsWSeEOiZTBRMK//jhBR8AuIqhd4SWbXRgRyIlIdejQyqDEuOSaWh3HXHVGB8XooCpoAjRH8k9lyF/h2+jczYN47jV2RCChjxo844iPg/Lm2i/fGlPpWH0NZIBAu7XUDSiJJfp3yWMmh6TYCdXhuGL/tfkD6y6DTIsOhOc2HZ0sEOjauoiE6wQ85IL5hrexmhI8HHbLeSAKzwVkbUKNn4Tl69wmnRHMa+JEGaTjbmHGPN20rAtXfPPKQirP4SXGHqMY60tZ5qpcRRlT0iUnbcQtp2fw/3SHDOySaD8Kj9XK+o/3WsDFvdQp7NIkh+e5+62RWBdwYLi3ToBoBQFXkChGSAgxom2w3lehnIKnJ7chVQ1OXSNh0zhJZCsBY7s78Clp/qcqBPsSNJIXGZ763P4hrFf+KxfDytJ3Ri5QE/8n1xprfg5m7MtoGltuc0ikeCnhR0tOhRorFTwb9+DP8SzNe7jcGgnO+9BjYfDrC4rOUIOJpKpVdD+c2ZLXX2yhcnP3s4GuWxsg2SM+AANOsMyRAlAXKT13elFbpeipmWYaCOGgEgNJMslzVwuOgQ8cJLmOiIujnJC6wavDZ10AAABAAZ81akJ/BEpqtTjraS6Nt2VOBWMV+oAVJQ/aFPxmMLftaNPr4Tv1kidTNLyDAblOSdT6ItyLFpIarSeqtb0HRAAAAD1BmzlJ4Q8mUwIX//6MsGxCc91Ju2b5OD88qblivqBa2fWo49UNzKp+ruYg05K9YhM5i+4orwjTJtac1lVvAAAAPUGfV0URPCv/A2i2IXk2TiTgZ9tFSDWcm23tQGHzUgAuLJQ9dj57qRDL9022n5ui1WKWbm7hOlBQpI8m3WUAAAA6AZ94akJ/BAtEYN4iu3Il3BariztpaYLlhgA/AmH5CwyezclitMeYtWZIiG+O6IWZ/vNJiGzrhPpTmAAAADRBm3pJqEFomUwIZ//+nhBSJqnFwkgxGINvDVIOIVFfoa+Nk6fasY6YRFqZb6inB4yZyGBXAAABs0Gbm0nhClJlMCGf/p4QUitPslIdYSkEny4tit6SHuv5uMzwgIG5WXcLZb5Rv7yBpGCYEohWSgug1C/Yrf4AHqo9x+Nh23mlu8JzngF4kyADFq4RV7NMtDicuDDjTBgasVXmxtTG6OojAApzZ/pTetoPAxbp6MA3r52T8zYRfdRu8XPOYxu4I/nuAmcQAnnHmLPluMhL4NBE5kGikCy7vkNEjcYr1L9r9Y++nbjm+j5i9offMyceBgGvkbGaPEo8KKTediAk00dH2ZuB1JEdNFQVfZvP1KluJN+VrKYbDgpAOksv788abrO8WzzCqmH821WFQ9QcPc1p/tZ6J2bHQ0qY0RntkCztvXZ9hVB9z8p+DVIb1XiF8Tzw8X7iCBdsmEL5hIsRGgRi2Ck+qcJrP6C7oi2ol6uxYTeDUEN1whgwB8Fd57QABKKztk0ay4hYmpA8y0T86+3nY7eOIOl4/Xqdlg/2If+AyHS0t7+kQTD4CQth8BlDKiBoTZkhI6Rk+cwiTjUoj2qUDUIN67umfidne1tCYaYbPDrRLEo1bTgHNL7wueHyXv9+WWNwkbverCzVgAAAAGFBm7xJ4Q6JlMCGf/6eEFZTedZ1YjS8NC7oqigNn5hXBMuT6VN4vEkoDroGbSyTADvNOdYwAiV1GR3d2vuGaDY/2s0z353yWxLLQJEo32jvuGyLbQvn9I5+NS+DDh58kprBAAAAVEGb3UnhDyZTAhv//qeEFJDPkklykt6UmjVoPj2onxiyUAdMMK6i5h++iOY4aTg8cjy1e0AGjcEz83o5FnHFnoduo2nT3rWbWee/Xn3+FXjoqUA4OQAAAcZBm+FJ4Q8mUwIZ//6eEEX6xq19Kn/3qKZeJb1u+v/fwhE0aXABtz87+SpYxkfCkSYTBmZag9GjybfIfbn+ECYY0KpnJwomKOgmVEohf0XQ8Y1HYKjeeECMw9WLrgonnHsM+v3I/wWthyptCxZ0m6yhrzQ7MLInb8hEb2fzQBQB7JdOacPbnFXqBXQagLhDh+9zYdsuF0tXB8P2b7aP432Wu092ObY/Zp8+7Uom5KkwExeOp/BbvOzG8x9gmochEWgH0AiR5F993NlL+OUq9pAi2CowRg2rL/sT0D2QdtalfJ+DSR8ST+cvbTO+GnwwQdkIrSNltsJq7ofEg/GpFfYfapaGX/1C/swU92O0c+jb3apFQps4wHZWY7tMdnyUtm8MJoeccUg9bS8oA7oX7zXnPtL3t+/eIO7oTn4QevzgnRLrGbkA44Kxqrw0svTxQREkJVFl7WlpDw+2FCHy4XFTRt4Y4l5bboUX+gOJc9FmvuMAxiAL1STR6q3CX4bLmqrZoOHGVyGznqA1uzMV+pgwGjhOpigTGLwSw4wapXL0GFmjTMzPEvuhUwFylGaoQNC6cCMvrIhVilfT993bezBTuAdB0+u4AAAAQEGeH0URPCv/AxVVoKVDwgXO8FvuNZQA1KWkaIz8e7F29f4fL0UQPxPrQ/w20uD9hyEAgdtMfvtHIqcue38dGK4AAABKAZ4+dEJ/A9yYVbduEFwl41LYKSqH01Q3mJHdpAaQa3LUAAtmze/m6jYifdpSRR35ApKutRnDJ2F23N0e9VK5AIwuf7NxZuln2UEAAAA/AZ4gakJ/A9weptjraS8tt2vrb4BXWkdPqGhFua1AUMaFwAtFU8REUa3rtyiHHKck6yTI9/AwH3EXNQ2aRWsoAAAARkGaJEmoQWiZTAhX//44QO2L6hx2Pz/EPMnvbe1G4kNZdUJF4ykwsNAC0KXKvnLYh0TJ+RLckUsDpb7/cuBuOnLvGvrH5P0AAABEQZ5CRREsK/8DFAidzQMZBuAz7hsQ4dkqbeaQsn7YTvumI1AaABKjUZq7HyoqRDL9022ocEQdEOLlFA2D2LuRRrx5ZqoAAAA5AZ5jakJ/A669YIEe7uRNb62BsdXABcXx4iHDg+Uu1xEiep4G2ZrLP24ofis8SXCs4Vk7mcvM2DthAAAAVkGaZkmoQWyZTBRMJ//98QHDwKHbY8Qzaeo52TxFvNDWemw/T+uE10xEV2lrIRy3M0PQSimH/GosgAJ28t+r7Yd10cPF4dbTfSIkhlG40RZJbmC7OR5RAAAAJgGehWpCfwOunacXjPYcPk7UX2yh0G48a1DA3WwKQ51dZ5WnqdNBAAAD2EGah0nhClJlMCFf/jhSt+b96MXAAFbP/8vPEtpZSSc4D/ulHkv2XNSHgOSqNXZS6yWR0Hp8St83NfdET8/Yf5AJiz5D63oqywcEg+WJvgeHGZDcZWTaLHO7KgmDDysjBeMhwkQoqvWhDqRLK1FMXQeuihmYgYsiKXsQJjbvaTEcrheLlU4Vg1qCHk/FDuJRFrTmqEZXhVOzcHAJXcW9E67Sf9fhMuxqelQuUNIBZvxHqbqqGmiwc9cbKUBpnQ/NiPZjHJHliWU7Kfh2BQIZUBmxf/UbwaH+zxH+svDxGN6nns4WhgEnyXnK21BspPsU5gg9aXC2hYbyP+PUZYg5HDQPgsZczYQv2K1MohIOdIrIHOEQiXTfKahWWPhdfRl2KC2XaQYgcSkMjOBbC7zJKECUEYvlL3AueFJvawj07GyCgD8Gv1atfMyTU33VohMpr8i3tnkeQVhwI5EdivxS4xP7u2jyVJu2IVgZnWi1VusXb+esOHfp9tMGsuL1dZIlXt4dgeduYjuUqINSAxYEPeazqvt4o86BxxHEa8AOjSZbYPzPjtkeiD5w8j8PE2Fmkyi8ngP6z8pIeNYQeksuZHgtFFHS/nzT5Wi2xMcjEEaxh5buORc19nMsncTU5nL6DLVUNGy04+0oOct4fEmW2jdrkSyiTS+SmZF4J5wGb4z6kK8IfqISXQOIsVrIad2NJdKveL4F0zssHiT7qS/CEdmqexA6HLwRbMfvYEeGSFRw858toM6bL1dqhl8ptMD/dXPkHbx6HEPdzcjZe1LYpr+7p3ld/B+zsFCU9hL7UYykb7cP9cEPAshk7l5ZNGWbWHwDFQnnbmFDYSvfLbJAWm4sXVQJ4LK18VDiUvvAQlwB6DlmnorKEFejGF7Zj1toPl3PspFmhYSxHuBgGMN274dsbmLXoEB/l9uIYiW2e9jBGu9x4YFfblcVFutGXxWJsNYJqvha4nbFXY5R5F+KndJtL7ZfBav/H+h5q5Rd3z0mzsPnKD40S7mYfqGT1JatakmL16hUf9TozJfq+lf0WDo9cxUSCV9RovVBPrr4tWEWYZW/bj+TkA9ZKCduSwDKcjlCUGQgogqvhT6j7aiUJTpMtgGWgClx/wbEJ/Z4wkWhFsPwyn/rWY9TWTFc4/QxyXxNkJMGC0pqsrgqSXS7Rv4ulPgWDZJwcuMWFF2FlKumzoTNci/pk5131/TPEvwuboseV19bPc74H8hoHM9ab+7RBROAhw/AZkDT+phdCtPrYsAWnyWbPojGODQ+miYxjeZeB677OKnMoCiHPgf5/ZZAF3P4QIfVgQAAAjRBmqtJ4Q6JlMCE//3xKDJ0xpA08+FbZbZeFQALoJ7FJ6P/AJ7NNOmQJA9JcbnmsFsexgKrWbtu0n8fmtduFRoaeAuadjzVSuW+ifyUXnI/ragm5JGZY+IVe8CDShdcIGZHdVMYfybce/vb6jBkVAIF/sPo1SXqveQfYfTeClqR5PJKQM07Ybh5SkqRlcOX1OK1tXnYuXzrBfnsXsFVEPPM3LLJLehpXeEDHEQ1L6cANNKXIKThaN4OKPc79na6TdAXJ0tRjVDtlCdv2vEocUt4DiBZiVgyj1a7Ga4efU+/49du6lNb1CybaA5ctr/jUeoJFDM7jWXyVpCjSL8AFRyaWZ80dTTq6nLJu8glaP/+uvRTRZvlmRxYeh7esumk1IVoAH5PGU9bcvnvQNPkJWM6JHj2P4L3ikv0yhG8HUHKXS5zjjVoeFWVF87oPghmGVYsKuPRvAEBvuUzea3P/l6R3TFpgZTKCCKwp7eBA+Aa9N5MSgTKs02/l9ycKd2pkRtXgoEvD7k5pHpZRxVTrmpOE2vh+DFhiBPv+Z3vidxTmpyv6zjtkoEjFboPddY4XNKb2SmH1oysqeuT8/bvS6M74Rb5RvkvSFWNcrexDuxrS2AHY3ZHEOGIKVEyY8ygAOC+kyfdHTEov31VWRERfF0hyDG2l882pzztcBndHh7vbcybT2/ARfz2WcQg39e3na1UU/qBhuIgdRPDgNfER9P11/mw3zyqBqO6uR/u2YjO6cgjq+AAAADGQZ7JRRE8K/8HvVFL3EJvx7SuSVpdrwUyBBDXSrmi3yTAjCyBzOUAZg1+rrrwv7npQozXYRErmxf2lJojoVv17qUOYBTmKGKu/XWWuaHkDI9MAjXNl4mXbitYix/ALxM2l2QM0SWpLxSIxOt0ZkWxSY8zX6PQ3accJeewygUoWrhuea3wNWuZQNC7fjDWLTtjKRzjG6TIpEG54Y5kGbjMqIT2oFny671SDiQ10DGIZuHKSwVzvyW843C5qlWU3M0tgKfp9ykMAAAAOgGe6HRCfwky2x/KNx5D34KStzuvyh7JLTBfmlQOGWm69miiE8gYX5VAAtmze/m6jYj1oMPSSKP9OIEAAABrAZ7qakJ/Bjm1pyhOHCqD+l4EiNtyhuPuPzo0OkG6Knk6w2/gMioAiS3aFTul9oAe0lza4P2G+j8qW++0cip4qFcM0cm8KK0ll48pRsbFTmGNSfsRYAkkQQDZaiREbjRyRsTVMESeYuErzHgAAAK8QZrsSahBaJlMCE///fEoBK2P0XtOAS8//PM74h8XSrOBMpj3TOI0Me278w6lt+hnP/n/573CPud1acQDvGU0UhwmsmNAJPWQU4aPd0evIK+dZBVUBgpvNXYPI7Gmp9RaWGDmHBkCClCvya+Q2glq5aJjyT1kEm0UN3tNv61wwTZRFwnnrNIiZ/CdmqfDlHlrKCxRTcsItvYAFLFC+QdLS9xPbsxjDJg4O4lI5GtSmKD3/OdhxySqfxkC46MmnyFzX0lf+ypHQ9j7yWzrGFCPuYCX2yYuV6WB3XjeEU1iZeJtHl4/weAOtG92QGRCPAJJDUiwR2iqn/3qhJglP4E3le6EhD5TgUKAeMFqYHxK3lMQxHKyRBHUGCGIC/9gv+dhJmm+DWM4TiI0BnJ8KngX44TvTz9FGy3Mq5K5aH59WaYyPOkuC3SOxZI08jcf1qOobEaSQQoQG6Cb3rFbjCVPIpFGZv17yoqVKlQUpvrVkO7QJGGSRthxZiNnSEpQQg368wOHdmfkQ6FEnFEvMaU1on1bfPoHKwl/chk+18kYEzX6D+fY/Tf/wVrHDcXKSr4pL07T3SxPnbFkUXCQWdj2ZMxbQxjvwmYHHZKSBMncfji72F7RAkNFTBUpItZgn1eNg1IHxaJvrTbrCLXBTeE/paUpZTCZCHk8zPeAKgyrwS7xwBiZSIAPkKwChDcnpOuWFVfNyKjDqhBoZQHAGOPQCC7Oi80vlbviaKz/qD2VnNqlaYp3MpE9QgMmbvV5F70DxH8IgEccAJrIOy0o4kZOfgWV/UO2YYImCQaHSvoD927q0yLZAz8JtXAfoggIF+xX4rGUtTXaZQRqoEUaZjlz3iGX3WrWQMziRrFoAViPDNwVdwjjPNd0/jJSxMV0EskJjhIWsk6o3eT4TIPxD8z0ppsUuEzn5+eb920qggAAAYFBmw1J4QpSZTAhX/44UWZSlmpyvsfZ9oAVlUTnmf9sH5MIDJcvJAzTyfLuBL7IMjKyXv0ms9OuXP1KuU9xBPp++ndRw5Xn3rf4A+LOnj9B1rcsOEY3KvbN1SjNeDYAxLJUm5DTFIABsfqUGO6xSm3q3sCHLmNqnLLhA10ES3NnCBoXqjI4oROI5jaxtkHBnuOWoIINA2Gq5OC5/YAkPqVFIrYpti+IinO+6l38Tf47icfKNXFqGtojFit2NAnz8R5o81k2ZQ0BtDPyK/5ANZFcjQJHXeYxRpMRi3s7/EVUk6tzvMlFJrZJzKBtpUHoyFSDaaaPUz0DXJgyYBW7HSyTlQJvA6jquUE3+crQLEloaC/NNaFk4JmcbDZW07ZufdcN1jnaMCRj06ekx9XSraRCqYDCVicbKI4ulUB45ZNoa2uCMkoYPUSZGGI9YTsggR2oOY26FhDocr7qaRlfzESfQYYQAkM18CoQC9F0SgPk/wdK9bPCDrTc9nu0eZrEIe3hAAADu0GbL0nhDomUwU0TCv/+OKiJRBlzpWrxFV35v4naSrhGz//D4ScSfR3SsRC0oG9BaifSobLlzCyR1R+1/4VZgosYAFoae6D8/GyYFGB7M7aUcnKj6CQoCnRT/X7PF8GcNRKTYVzbRSBY4SxaC3gcU0ytUvanN8IYd3KV9qP9c1V3q9lWchnBugAufzr/pNW32HIC52M70JJvU9HDrCQnQ7H6PiXb+ztz0LkHjd7DDJwXKLxUv7tSVyuH6yf6yUbtNbGQlRTLe1NIpDaSeTcoMoXR69La5C1yGx1Byet25rMIhvSTGm8ItAziVfHo9aPIpNSXtDwUNpqsjD+LLK7KCXHU3wsVAu001CCYAqfSzBqkQ3m0zw7xV//2O49KuANtUhM5MwElns8E8NSFkcvrGCmAsoJb4No45h8kNdLloYi16dH/ShZJc36h4fTc4sfjpVDPoX7ffJOngysYwHnevoNJaDp2cJX1E8gwyN7KlHoNOYJWQdsjz4L5LekWQ1JtAcsUeDTh6QgdW0toaAmS4tndhijDzhgFuMlvCsaWex64iHSrkcAXSoJMTz99RzikEcpz31132vuUwGj2/WXA5QMCjmsH6Ow5nL3RsRQFSW6sYtxASV7BfRUFrg/bzYIhuxl0mQmUIiy0qZGtTnlQHVg+IhDZaaXxXgdnn394ZHqzPERBXgQsiwh5E8fRgPVj8vubi1MN4tVNMdSr3gp6fpqHqz4NGZoNIH+Zla7ds06jOVCEzF/r2oCTK1IoaxV0Ca6AyaOQLOBqXGrMTqy5SJc3J+wVmbJSUS1ACIoSOLQe1ULG9XE4hlrgD6HfB88AT3cZSdMRGOzCcGNHihDUgu/v8aDHLUkyXPgNhANr4uZYhujoTNTh9tXMEqDaE8W8x+Zwvv9RpKPdVP2rSZmFwicqmyUjVlJU4a+7inQjWl9Wihm8adZRBnckp9bAlKYgy0aHpiHn5BeAZvVVUGI0kbDFQunHK4U7SxBQJN0qPG28GK+X9SEg71/GYhBh1FSOMVLT86lQ+ovSNbL8q1gSWdfBKWSBTJFuMZBx2sYSQj9VeGnOlA9r6tjC13vMSaGoSiX9AQFNMe+qjgCaTNHpLHptKhKYFPctQ/4rIaAl973gQ1qm64sWbsMjnJM18/Mh/orvn/tMzwgBD28cDRQg9b8o0Ow/4Pl5m6iDghdIhI6XXennpzORGabB1UAbVbnV9Eq9AhMeIRp9R75x0FvclLGAPXLO8w/0ogxLMsA7OxxhFPpOu5Wje9toAlkAAABcAZ9OakJ/CUEAM9nWpjvCvLP+5Z1igPpU99wDuZXLIYr7LdeJ01eKNYLqDLqecTswB0zD4U8de8AF0FXVHoqrQJ3kwYfViWqCy4VaQHlCvb6MXCpFBHu8yWSkw4EAAAHSQZtQS+EIQ8hjwKQuB+QCSBLApDQCFf+IQyCZPN4/X1kcvIiTAAAtNSL4PhGhfba8q/4mkUDdh/VOs3VEi0H29PkfU9vukfqS5IzbkSrH3YzCwfikB/Mp07JIZQSppEnotssPEHjEoHW7+XMNZ/P6vyDM0NZEgOFbx7FQAPwuZeYNIaDfX1pO90sn6yWFNMfozbjTW1iC1A62H8y3JsLjnVKqAg73EvBJ57sPjLbelVrg2HzEXMKfxDnX4A4U0apf7oEIF30gHQPNO0Xh36J1T3ZoE/fMuSUEPqIYl/H+CFXQTYK+Is2g63+misTydNqonr4xLDZXpnrfAZO3t9TNKiM/aJjdOeYKszfdCw7VUSmAnwkyYu+nCR7v46Nz/ELE+A7SyhZxVKI6aJky/1m+nabda38QDSACWMNWmyOwJxlkIKnBZDK4aY4Gc6Ox1RjU6uqxQT4rFy+rmBkIESDTvtn3k6qlGCVe+4OzZdg/cbloArys1eNRozu9ESk1qxA09d/caBmYULbVYluP3LZ/5B5O7DHuYacUwHv07wpvl7dwMTI9RDMZHcPEdiE5CWs6FwU9sm5CgdZV3uBlb4A1Qq/GcVnsI6uRrOIBVjgDLAq8gAAABiRliIIADP/+9uy+BTYUyFCXESzYetpdeFsIJ98xz4zy6AI9aVAa3+XH9u4AcyOVOpOK/4W4it3liP38n6ZjxL5cPOTOVTfgo8SKjz68PjTYaVHlj0G3sVrTmDblgoRU1eGP242b/QpfYYd04SrphlLVd+ITYt66XO662zMXyL5wtShADz43qq9jzkMY5ebfdyI5BuH5hhF+Tc+7wyrDwHBLvfxJSPkP7nm8h2oenJcOnWaxbCxJzWTjkD2IYFgvKz+7tGRv+bQF8mimfLnjwuA0kGxli7svOST+8hhLoOoK4iGwiWebp1yqaCYNSUd15XDFbnZXDUYyQ3dhiXQs7FgrfZ7gQq8DlvkzY4whSkhV7EHth/a3znutGedVDDE3081SPHx9hHKp+zDd3D31oOBjXfq5Z1PL2Dxy4P5BHiRepeiJArN5F2mUS4xsnH5c+CQwrsvHJaXpawPu571+VWQEqeDT5xSIlNQAn26Vinc3F3HbkdZcoehI8Bd+TSrYyB3tHH4j/je4IWj92UaImUZyIRsENipgTO0XL+rUF47TL27lOMFTAeuAHlyJRtKE52VBLFeUsp5AjHMe2Xnn8kIdc+inWXAyQCEh915L7Z2Gma2vpAdG+nibueqp0Rk1uz5YONCP/wsaY5BW8qd0/CUsBuYJfLB9Qsq+OGr7RvWfuOqA6eb19ZgA9oOV1NB3IVvMkr1KiaqtJ/qiHeXx3T5ngH5ZSUNWlDysDp1xnSvaQNbzc5akATClLF/VyniWUjXjRbqfYHF5YOKlxkLXRi/+gvNpl5ApYGHKWzZ+lK/uA1g4S5NEq3brBSlZqHwoqcprqb8QrqSZJKzRDNi1gjwDNE+BkVSPf/QuW3gVeZHYWfIvOeu4+Nn+pyy3BgwcAqe3Wur2Foe1gCNvYgsoLMEjm/TbjYChqH7nlSeCE6JzRQwHle0AlXG8QCsGuw0DaiWyx/i/pR/+5nHrMLQ8ST7Dmn11kGg8ZswdgfYijTMNlLeLQWiZSdiGymlKJMWw+meb2jOLU8YlP2JUdW83JI4Z5M5in5DMQj9mxf+3SOAQrqBN7Pig8jiTOGhS7jQWNpHbJqxp9vggbQ9NWL1pJiY8ukX1tV3nM51NSWlwzdJ5pXZgdB1n2/tcmlp1Yb8Gjm61A2O7iMM8S6ewAIsryxnfNFm2PByBdFNr3sZyjVqvXW12m7fi1b36nbIiyweY40jX26W+Wo/Oi9ZIWTUca1PhRwwrBHy5E8pqdul2dhZ8kLzXPIDmwRl+/ABW/hdCfW5hJmc7WWLQXxzKdXRVxyJ6d4g6nzxcMy93byLu6URC6jRTsIKX+Z30hihkNoDE9eFdCdnR1OWAppvS1VkBL5AO3IR/wxKuW8yvm0R1QdSC/R9AcGsrSt59zRJTn+VtSyfKwjcQhH4Zl5unzmHVQvOKL+WHG+wSixQSJgNgAuqj0ghY5xFNl56hMhGl+k9tQmYB7g5IrXGX+DAXQITjYLGwP5xXLvgP04kQ4GSBvVRNzkoDD6nDlukNQ9cAzq69D3SVpnScxkmGhQZSzEx/H+Gw91jVUyMp2fxUHoHofnCTwEFf3WHPw2ov8EeotJx2MOsyORFQRFyJmvArGq9oIxx17Msk78nOrupKJ25GONYURJU9lnnJODsqT3gnFJKzVakq+MkV2Q9V+DyJnDIvmaXBe1NMAv8+XhH7vGvEo9sTDR3GjvkuT41BhS+B82EpEAoQW1i077RZ2SAbeVeOcrOq6g1dxC4axw0X6L9tQPOBUEzooWWke5MR25+85KQv716IJdDrvP6Xyq9FnV1KrG6qoPekEv19GSNjkXlSnfy5LXNI9ewFLtbhLu3tGh7u11aqBaWsWrAvoyEm6cZWOtqO1Rybep1H4Lda4r3p1SyE0EJyS6EBbrzR6y73VnbSrczKH4mCQvb6A8Nmy+1d2crhyoseHpI/JQFQSRBcs3u8bwpmYuEqqFcxfC5ZX/ouBHeoEgvczobLsyOFH9URePdeNkHy4EoStpdnyz1xCCkUfSaLseILymD+Rdr9faUEvM6ru4J1CnWB+i1WZfovLdgzr/MjOdZ9ycbaHW0As4R/gG+IM5wAAAB1QZohbEJ//fEBavuDgKNJgDhE4kuRLqUFxPvwFVnQhBzIPp9t4T1jPOnB7pD1+Sey5hC6sPKXoLHYmESBrpLOCK6egyqLoxmYq1U3dRAha6l7dtvPE68K9Uwkw2NQfU4eKfxGgAWEQHsvSwu+AfgLH6ASZPZ9AAAAcEGaQjwhkymEK//+OECJ9qBC1M7g7gWLRg9Rw65UcMeAUk0qApxJWuXqEmiadh3Dz1TKISGrm0VhQa2JbeBsRRUGYbP49tXNIa6yvqZyW1Dq0HvU5yfp9VbXkGckXNsjRglws3H6UfQHlIlk2g+8QbAAAAAvQZpkSeEPJlMFPDP//p4QJ6UteOEkCKUFCuCS3CeHvWZ29hK1uCHA+7dOlb/hw1AAAAAfAZ6DakJ/Azq3za3TFgTVbuKFwxilY7McVHShM/AkcQAAARBBmoZJ4Q8mUwU8N//+p4QLSxecRuuOxMrK0bLncPAEHKFuJYGdXeu97rBcmViov2dPCUoq/VHF8vl22h3s1ayWpclH+oCiIpuL4NR8+0eciv2v1xpkhUFrrFRX1M3KQTRGwQmfgsG4q7C5fT1iE4A+aqwIf/G6h6Dr5I/l/P0+3uU6/ZHrHKl2Qqa81iT8FbgCQJWaDWBhF8OrXYM7krUgOw7qYG9Xb0llJlo04xmaxk9a95dXzD6ewdPlCEx9BH84Pjd1WBTbEhM3QUGwKPtq7kFCxLwBY36EH2PCywx6VZkF5yMjqLF7CT8jc67PBYaPJhSaYmIu/RdsrmrV7d9U4yIB59QtD/MEMnokvgnmCAAAAB8BnqVqQn8DPq3aJITQ8KvtG+EnPgmsFRuT827n2tFxAAABJEGaqknhDyZTAhn//p4QLj1VkoM72wk6FAECafZYoWb0YVVnp9gQPYwEzBGsSnW6MON+T/c52e/xonGfkxTsIrHpH9VMakFe3RhLe6Nb1M7AwcLfwPceDzAKm1k/Zf4V37riubcUGrb4GEkymG+EPugnnvCLc6+wQppGWbj/lHFM6YhHk8kdIrLwcLb8UZaUa6ctIsw9++AQ3EjIBHlpNL3xbukkCCqTdLpczflJ0wsXg7vZsZWtdeh4PVuNoPuVav5hDfXUFaYdUO6pbEpTcI618eJsT8thwHB1q2GZ7ifMuPphomhQmrOJUH0I7nLYgam3zjGDlmFybWjltOMgSaNlQPYUqVzz8z8UNsrCQLUqET5QgGPSw1XZYt8sJOMnC6MaiUEAAABNQZ7IRRE8K/8Cr1vFa+8EaKNpLkpzCZWQIv77nHwxLSQIRH9TYaYB8EqSYqHAANoAXUdCvCmyXTeJdAyi3Y716v0mTjeKac1uw6SXCkAAAAAoAZ7ndEJ/AzzToeHne9jZ3VV0ArMOm76wAlJMFfBk1/5JZkqrgM/AkQAAAB8BnulqQn8DYK/5cf8a9A3syRi3qNsATHBKzvX0Bq/iAAABK0Ga60moQWiZTAhn//6eEC49F8IYuiVZHRGD3pax0trkcAGyrvEeoJ75seO1INgddgHslrOtuSBlObDc84tCwIBw3MST5HOfngw05x7YdYA1XHUWLViuOLproNxCa/n26cTCc90GnjOtxgZszXzGmTEctEKI/hpaxm2fDJV7DOtupPunVy5whKQFIbLuPUkN1LiNq58q/kSLTBWMHDYXdx/JekivOeLjUpmWe/g6FqkiznKGfl59Nwq9VoZktuoU30Knsc9vX4b94nMCQj8WAs5WcH94IdLNdMsvqGJqoco2xhiFDW7+q2pq6tPs3yJTJu8eQdNr6XX6aGtpyf3ym4fCHYrA478Xw0/TnubqnFo93vBtyXiMvaIqMYDrDfCOqPChMaGLhj0ltIPpAAAAQUGbDEnhClJlMCGf/p4QLQUUKLrjnJUJc4oToAxyuoKy9r2mM0O3Pw0/UDYAL63535G3PQQzaaOX5eqCqD94pFjdAAAAykGbLUnhDomUwIZ//p4QLQUUKLumrmPxY8dAJ35RHntbCOLoBwXJ8AgAkPu8Cg93+uTMQ79+sRKNv/R2eGI+ZKlqgziVgz+5s09k+Do1AeKC5pq6pWH5In/+TMHYr1GFQsmbZOP75/S3IqkLQvD6//uXm0+OGfc/HTUCr5OUHfkzMGXfqwSL29TqXb1cNtsOCNChHVyjKg4zy6THaZTckYJNnsU+p7R67X39LFHj4lF9oq0tBTZoyBtuza+Wf6FFGjUa/JU0wXVxlxgAAAGqQZtQSeEPJlMCGf/+nhFn/2ouAACNictVYzbPCYCptO1dpCePQK4K8KQ7pV8993oX2n+x8K8uDaqst46kamnDHyxR4KO4Tg355tSR5ce7zK7Cw7piNzwTFiS/yhlGC9Yg3+ldmJplzIdZX4CmfQ2fzb9Klh4rLlNmLGDhPK7xBwxuvxoHu70P6HqyWFcmhii0Afc46P/k9BsREeMIvKlvE3jX7eHS6JmM0eTXsMq2u9yNI4qvjgnJfdgpl7yaTU/Z9wTpmkSk74ARVqUaqrH3h1H/siTXDYijc4m2Jid717YWY3I17UVlDfNSDaGRTGUkn96eFnPwUDsvLk/CCBDFSPQY4qJxKWX568BnplgXB3gUhCnl1IYLLrjOf45/OP6B2NUlcA8eksflVUktVd1oIotPmMsFLEVGgK11MP5dFRb5aCIGG++9receIicWR76HTRX7xpldOis18BSlATTfVTaNukKFZvTY3OOeCZTKq8A04FYRt8uAZWSwVyWg4GRl/6kH9d16cQG7g49qxrgrD+Y8oWjqXLAWZcdkwvS3x/EtSL2k4DgFokxAAAAAJ0GfbkURPCv/BQ1oKUaV481aAQ7VwKorQkrs9FkltGPYhPIhwXdl0wAAAGsBn49qQn8DhV1KW6EMeD5OwZhxDwmiwqXeiAIC7C1QIJIp9w8X/zYlJQfZRf7mo/pAvVRE39v3Zu1r01/+k4AIKqfSHdVLSF+dT/5BQ9g3b0M2AFKp0dRcoqHp/e5/IeIOmnKPdHsQw7h2kAAAARNBm5JJqEFomUwU8M/+nhAzyO/w31pzUReACIPVqlBbncA1VcDMIOUzCFwjWXSUFkH1cWcyEbn9sodAJB7JvFubY9l41NLxx094XzH7oPKosJ2UxB9oueEe6HbnwNzMVCGjLNjRUP225xFKAzEbSmbBFXTHt88NvZ7dKqhoH9czTThCKhjIM1a4gRRLyeGmLnVnj2+07tmTgVIXJT9Bp/hc886epYuK2733h9/HcSSz0XfQWx0Xl2ETBKcmdhBAjmPRSLW6TmmUXq5e4GPZZJ9n7SkV6e0/qQ2KyG4zs+BW4h3itNCGbNooObNKk1ekedwbOt44Ue2w4C7TLednwUXJ0HbVFRG+BKjaIzXgBwtz2qFHOQAAAGQBn7FqQn8DhhpCUgeo0czN3eGjiC8qFVsaATXt6+6W92uUbCBGUpfnpwSNNZvX6bybMZXkP9vaFhKkMxnPmwTaDpzeBSN0jr7k4Hc1p7KdcQbV0YnYV5/cTaco6lHh+73XlklvAAAAUUGbs0nhClJlMCGf/p4QCQMBT+9QGB3FeTLx0guT/2m4AJasZKxMlsftK3vszJ26uEWobQK9NuqoyPCJ+uNEDdzi1WNjDYlSy32aCpkckconcQAAAZRBm9RJ4Q6JlMCGf/6eEDPtoqDxb/zCFghPy+Uo3rGY4AU5u8WRmPEEN1FIc5XzGsyUe0o+xI5sOfWxskNfnrCJXGdk5/ZotlTr/N1d2UYTbi9c2qXLFTmlK1hMyrjqoh/k2ESfR8Je9oblQ+vyEISCwkmVT/sYtpaugFcflqloCGRSHrV2Ygav6q4v1mjB5x62HoxG5btqAY5kCnDC8LoM9x1P6HA45J4IUyflSFGAR39ykqMNNvAQrHhVo8oRBGsqBIGGtP6j+en1unocr1x4YzhIzRelzmR1AI5UhR8L67gVCOQejfpnhFNE1yY5e8nvOEwNhhVxcnjfy5vBJ42eRiE7iz3SFGl5nQDxx/dMSNtmX3vm6YSe++FfXJWaRtBHaA7Rd08SC+FeWCkc9QUYxxbLpAiq1pTVmhKnGvylF6gkdxN8G78lzx3g0QaqUc0/UPWhIRbQoW7YNlRBBGAKIDz4zg3bfj97l2B7/UqczZe9QaO/W9Bkn8RXSb9IprxT+iGC5cxFgzt66sflBU6lK/vdEwAAAHVBm/ZJ4Q8mUwURPDP//p4QPj7f4YWIfRpLQuMLpFcHB2fdrItwaI7MlAndveMRDWbbF3oVd6chalGLm5WXJS/KkRWMv9OWzN+GNC8rRwgMbEynC25C0bpxLuRzxRIH9q7aqxZ39g1D6tGSZo1faeVCGBnN94EAAAA+AZ4VakJ/A692l4XbwTQ7LlTXnfO+hn2D845IAS1aEISw+oIl5BduLE12uzEyP/XI9j16iY9L0RyB0A05kEEAAAFiQZoYSeEPJlMFPDf//qeEdLdLtKLgFpxrAqEt6+fIYzLeV+z7hA0lYqU/Dfm5w03pMH+DP/X0FOIAwBAlbbEw2xDhDLirKPy1ASO3YyaGFs3NcYR6k6J/+Ur6oyFvZOMBVjAZjxDpn2/FQSRJ6ajzTE+tU70pdTUBqA6ryKkXjDCSj80eRdb2tz9X206kOOUL53eeLz2Vp+uHMYdRiW3VBVKPRsrteOZvNJnT75ninWSKNY28Lq7zlyqCBTygF9Ea+O+KxYd1/juQyVt42GFe6QC7L+ummEpQmmVT7yym/+/j7oSTQFHMh8hnfrboqQi2gnsr2uVK07FBGp4dWPmyVKIj5qUYpw57sYtTAdEURto2PZyn4X3z0h2FoQuRMMwG7qElQ+Lzbxg2WjTsojVAjssr+3TxpIH3dkTok8MeWBWsCaLi8xpCDmQ4UlcBtBj/cUz878ZpQbnz4k0+WXSbLA64AAAAXgGeN2pCfwY0jFcDLeVzAwnnyiYSk9STp/rlADSUqy5g3UyLbHuFw/9TGAfDKEfUUHTZPm41Z8EOdo3BSuiAz4Cnujt4r7Qpa0PtnoWGaM0Tg61BphJBym6ZJrP97cAAAAD2QZo8SeEPJlMCGf/+nhA7jtIhZxL7Emy5W0JvNC4BCN9dzizQFe2t0eqlOJrudC2x0V020A1Rkf/CbxBCrnrce821ocSzajafO4DWKQWg0tGKfWGEPP1yZgXD3pP89DctDmDEad0vyLf23nlajdAegt/7LzLDMvLxSdyBhz4D/kTToUMI/Gysd1UHzL1JBOYwflYkXJlLG2nTL2lqsPgT1E1L336OP/U3rFTFLzSUdl1qSZYap7rFOr/H39Y2tF4h8/581NvhwMs6cOuw8+A3C6B23z6Hs4D64aNphMEtoppNSuHX5bq9qmXaMsp74+xCsKccp0DJAAAAeUGeWkURPCv/Au2icl2d6AC2eYqc0GnSZ4nBUoaIpxSx9mxP8BoZ3ht47/zFi/xgInq19tyqyalKuuPjTc1cW1nJmMhBxDHdvC/Drc3T+xwFfy2fSWNE7cE5dgmQfiVrm574IQ9F8b6P/WL5XwfsN+Wuiv0yB2cGe9gAAABfAZ55dEJ/A6573kY1I12J4KF9bwBW9kniXRJvEIWPCm/KUkUFCDWgvdpvLa2RkV+9sPQl9pcI6NTfCfjOODZuKBlsE6xsC0o9iD+fvHuTCkuDvwfsNm/RwurTBXOE/cAAAAAtAZ57akJ/AozwFcic3eHHuQdOHGiEh4GdoABbQCMVRsvLN777RyJZXpJFHTbhAAAASkGafUmoQWiZTAhn//6eEEWndvSjlgURWMJa63H8fSiciBDpnKhIN3k28UOTYhr4epR34HosANA8llyYfUqB6oDAoJlHM6vlRWuBAAAAxUGan0nhClJlMFESwz/+nhBHnRRgVCw4ZkSAA6R76knqR7Um/i5hSPHdkI5lMq78sL/86hSLDYScLv6FvuMo6dZ59C+3oTw69od0qrKMiCnMtYLEuLGUT81V8QYWU2owFUBRdMcm9Hi4yAALnZNcVKJfaQzc7HCKrEEVIZE9G1ypJtdNRI/0Z2bt+Mz+CfFGOiFG2/Di6RlusAVwhbp/lq4kaNrWX0BA7UW3Bld9vpPwbuTwlG1i1bu7lH5McluVa+0AhsKBAAAAaQGevmpCfwPcfhEecewx+2FVI1nAA48pOpgWf8ReP+6ncW34WXLKpzEDhCofjlyGLFXFDVEuku1rZsbVocxht5inx08ScxTgbHRgNJgkAjPOcwqXCAzirwBGthN4ZNfAx/ohsu1C36UlqAAAAExBmqBJ4Q6JlMCGf/6eEEedZTav30VLze3VujZ/BP8vgAdZ2SsRf55ff/6SOFcs4OWv4LTWuRuxmKzNXt7UFPIIZNNZjIg9B35jU5lgAAAA5UGawUnhDyZTAhn//p4QR5y3Wxm2KSE9fL4jJkVfBWI1gBW2z52RhZwqBX1u6QCluM2W+6mz+6uhkUU50927tsxRJwGiUoL/scF541qrMHhXVpHtKDhKeRZJXHIHKHzqKnci+385lOYKXIujpPncvtSe34DyiqlyAm9FDGL4z40DIaAWVknM6nzG60bOkFqbmU3Pt97i0MiaJzKFQCziepoHxek1UdEnigGm/mIzt2qmCdT3asLlD06C48XX/FdHXKtvRS7gbMahanEeddKFE87Ood8RCM5JDoPlGxkutN+PxKHOIJkAAAFTQZrkSeEPJlMCF//+jLBXFUpjskqSdlAFyDBPAqWc+AmoSL2Hee2OnILzNqDL4kVgO7wj6V0qvV5vfpAqPYfn4S6CO5aZA9yJhfU1DUCfNnQEgqTBnPLydDCQwqKwTbmOBiNF+sGQt1NdSsIsqHL65LBiNEHRNE1UNHNLTkj39YsESxzvUwm7E0ONtSWVn4VaHUDgdds3sIyVwCiU3oT+CAmMaXsCPLb9GBe/shfVQ754AKFsxH8KqyfBsU7x1LVSmXB1bmBRI6ZMsA38ELyc48tFaIzsOBuD686AAMmqAAhLn5xsaMWJtXgHgumJrOzDDj/sPoPt31/4ScBus/0v/1dmpCAbgiH8BSuzRsLNtwOdpka38dMTqyBAmqCI6wxCpzCkIkMrXy26cH2Ak+wQ9TJQ/W599ahqGs0kc4XNBfpF1Der7uWSnZFHO5zTiOHrdz0cAAAAqkGfAkURPCv/Az+SM5JFx6+cxBrZJdokqPHKOWd+anC5AACdhS3Y5KFG8966vliKjgi1e25HkVaFHRbLcjbK/m64bXIg4HWEASvjRBfLd7NZu/2NUUypN1Ya7nj5cmC7Bl564lvAOEIQ9917dGLn8B0gyz/0aSAx6OSyo63RDQEjsuC59FU4IQj6nPnRMaRa7EsuQoQ7ZfcGbghwvqJpYDOi8hYAl5L8UPJQAAAAMgGfI2pCfwQOadU35mahqZmror5Ehssw6o05QCchm4qTLvB+w4BwAt4Uw/I256E/TyeJAAAA5UGbJkmoQWiZTBTwr/44QRVS2seHeQyBg7Q60SuCUWoglpYQwMcTWAQOtQ4Uaczjf52UqiqwezcKUSz9xTctgY9Cl6FMfQOHq3ljLhtCakB4sWelAASj45ba3m8Iw3dsF/Wk+35fAGK12/b3liMkMveXyzpTAKB+tEDdoe7BTQDQazBUAIEGTbiqr8vdiRYx2qgioDipqHyCWuES5MFvagnFGejRPrKwKIu/vMl7z71+Jy5kVI9lKW8inLDBnLl96HM34dhUohdF6DBD4ho/Nt+BjoxnQEUYdjXm0RNPpAeL1JETP34AAAA5AZ9FakJ/BAtGiOUWu3IThAu7k2wAzeEhQMx+Og9ghIu6Z7Wb0HGjXabeqlv5uo2JAJWhjHFr01ylAAABWkGbSUnhClJlMCFf/jhBR8WooqzGoBZSWRQDG2Bix5yWbpJMWQAVh29+nm6i5PNWoibldVriuJaQ/H24/XKPPRjm71dT+3Sn/2qTa2HzVFn40jxHml3NNpD7tW4L1zPkkTFfTn69soVQgudMVH+T1EzmNJCbWO8NxFhYzKZGZoHkw3AsJ4jzuX1N70oUpf/OomULA6cdi5XZqG4Paft1BLhLHcbpAbLV8bVieRH6uP/j900s5zo2WSEK7qTGnLQNf8/VLt/tHGC1iXE7C38DvlxKZaNsa14qkGVoI4MWP0KyoGC6mJ2+MNgyV1GS91nPCgrsYioGdR00/gI35EuFo62MSkIe379q0l5hG2p98IzDNETcKnF+d9HVG1IoW6NzjIYsExUE+EYcK86uZWw/zq7AeJIi/5zcbGPGfwMJOfZCRT5FRbd3wN77348YedyReQkkLzpSGB3ttH0AAABFQZ9nRTRMK/8DanI4Jm0jPPRf4wqd38tSZLBES3jujrEcuwe7s3gceMYALiyUPXY+VFSIZbCXETHKfP8EoWHPYa/26iTAAAAAQgGfiGpCfwRK2nLqi0eSWwyy0Kj+4qSxr18GvB+dBoAFvGeBLJ7uk14/aNHh/mmQhCHUOdxRwTC5skj4FgAFM2YioQAAASlBm4xJqEFomUwIX//+jLBnrdlB6ooA8bmLjmw4+looFs9z0aINzehpGnQw3GdL2OM67UnvFJUHsPDmgYNal8Fbx6hZVdPcw/fkNqS8nMi1HZC+9NXPZ8CDghGFIKzttHJg3hB+mJxkQJMohRFAdj/Z6xv7wPzVC/shrr6N4F+V9hZlIM3jSpHcKhho1t+//Wu4PAq3cWAc1igS3KjVcPkuGUVu8Qe+FMJd9swkP0G2+qdXe+dZ91u6rk2aSAGPUIl4lcefNwDsInI5OV+pVuB1vUCLh1NlDbvBXSybSLz0TIFhVt4c1faJH1NotsuHvKfUMT0EhUiWr/rWOp+pNbJ2FVjT83V8giexvoSVBSCieH6twFdCltj9/mFcK4NXBy8a6ZwHDQmACYwAAAA7QZ+qRREsK/8Daj5Ekxyy+ukxrtfsgwfMc2sAJlCxANpZ1YWyALaAnZlKDmz6/eOuErQcNnPMd2ZsNykAAAAoAZ/LakJ/BEp5tERpkm9Vp5h3jiEugMRbReZcWT/cQDe4p32jEoAeMQAAAcVBm9BJqEFsmUwIT//98QLMYRFb7/LQtJQ5T2qWgoecFHXmUAlsWRuf3sbZsOgod855Goduhgtb4bXfT/K+r2pnvIKfGhUogw+UWnUsJhS9M6pQqZ0wGs7eVLp+ea9mIdL0i2Kn0XIiYX7RMU/bTvYC306pIGJ5tg/98O1kI9hj6pd9te8r0iFiBTMpn58E1E6HC+FrBWGKVhGr7SL+ZJuK3FyJ3WG86bs8J7sC/5S323sVzzXxS6+QKoAuuygNiOH2lKi4c19rWaENOAiChqlMgQ1AS+JAsZypiBvuLqJe3vqCfgpDNa6QseVJdsQxg/29DanrTP/GzstnRTJZ4NCq/mkSNzoQ8OAI6NX9eJs7p/nsjbnRpJLMl3OyUFDjb0y3LTj11Kj8LIaIn8ldHhRgVSmy0csKHmJjsPsF9uQlbTq8lWr1sqXjBukUVEkG+J/fksvRrD/ii1GBCVHcx2YxgjEzCwSHSKcfZ0sETmXEoToq6o/uhu9PWCjOjp5eciCLNyS+j8Z5ieGe0jY71XoqgJnX/WaHQkSKVNiEjbZJSno9HGpoTpi3tGgh+XIEm9FXnRWHRDyD+KxrnARnY60OsYGLY5oAAABHQZ/uRRUsK/8DanJUQtmVzO/31mbRqvD7MHOzWPrulDl8tSI+NcOL3bJl8sAIU86Ow7Bw10cPF46adjA/ySGUfRVYaplT1zAAAAAeAZ4NdEJ/AiKb1DLZ3zs49PQE9k0mQnUg/khsl9WHAAAAMwGeD2pCfwRK2szwbJS5+cRbAp+queOBDO30z+/LWreAAWzZvfzdRsReLCh2hehzQYKrgAAAAEVBmhFJqEFsmUwIT//98QLMG1C6fCB/hxMll4QUNIGzgzr/nKJeFS29Gkl1UADjbN7+bqNiPDbyDcYxxjrySQrpoM13lZ8AAABSQZoySeEKUmUwIV/+OEGG59kxgKF9cCWl8yidnZ+aDQCSAHJfETdtRkN3QotXvgTjC0Mx28DLirzBG6hcddggI30oaVnCJJyBK4oUZWemuIhX4AAAAGdBmlRJ4Q6JlMFNEwr//jhBhxVv2AOhB1jB92xwchJigOYyKsuCO9lH/x+Nwv/7d4LIe7lXAK97tW+dHYzmOEXPIL8LcRlirFQXvD8THpe543X+kzupsnEPfL1RzoYPvMEe8/E3kcqhAAAAOQGec2pCfwSH87Iud8QqG+SpdFkn10rWtjMpiABwc79ZInUzS8gwG5TknU+iLchVerI1IQLexIChgQAAAbFBmnZJ4Q8mUwU8L//+jLCE4qgBk5eFdvk+lHXqcS+00fj9/WVxYFY8HPsNcUoZypaPtxDLU48+dHcmgdwnby9AV07OS3qoKxpfHnhf7vAj4xzRb+aIHR1zER3VdzpkllgdQVhneThSEujpLF/8E/HFq4gFNJ4oAFwWEifnA437qVzxjeFJ9dJYtqKjF2LoKr1QyaldGAC7zZ3ul4b4VxC8SQN++SYVuePkc6JwKR4A0aRA4wcW1TMfSeBqnXYBaiLQgoBT5jr6xknzGGePycKtwltzladGBskVPNbDqjjnt2Q40Rn9g6TJ4P5i7eU4CJ2a1gQ5JBUC0GdAVUBBE54UsiMK1Ew8JekkN/2Nuq9MTruJKi18KFPz5QeNL++dEUMMO2e4ut7xZSChpiAjjw2rd+0htj3Ijoe4nVpJqQh6xrxd038LCElsUN8iVl/kv63Vr7ErEgebrRKoNC6ff52aSBzHHz9YIWm8EsgFSsDrUpkB1appb4U0KVF/b35qZKH5PixnumXBXOUHlZeWQhBMzQISZhDjtkqEvYnlFgKAmzWEngMnHS9PCIunvtwFASH1AAAAPAGelWpCfwSGJVyq8U6RSRNmqANULTBdN2AEygvffEfGLnfo/k+tgxeBVIa38ZBbc2WpeJEjTSkdjkpw4QAAAEtBmppJ4Q8mUwIV//44QUfHcMt/HvB8rmBLMCJE5uBMba635qqVNGzanr93D/nLemCdAu7iZB0QXXg/YX/i6W0x++0ciijGZdZdH6AAAABBQZ64RRE8K/8DaAOWbpIksIzQWlW6/0J2yujnIIBVHxx9Qi+Eq7kAIg86Ow7Bw10cPF46adjA/ySGUfRVYaplSq8AAAAiAZ7XdEJ/BEsNCLduEHAlwyVxK68G21n0QYfMwjrh1AJ7swAAADgBntlqQn8ER2tggW7TOWWTVDZrTQekFfz9ISl5ECQTUpbcmRrQAONs3v5uo2I7JdPT9Dmgxz4RMAAAAYFBmtxJqEFomUwU8M/+nhBnQnOs6st6e8gXJsVAhPVoCbZ58LyV2J8jpVv0oPyFurfSZC8+SSXzVG1YZb9X+hXMef6m0bmJEzTFAOQCL6MLbRACMud1R3Y3puUXA9f41t4tSh2PaIdZoSo4w0SsiJumCQziIAzyy3HUJTCpI+SWhqzoEABbVujJ2keFvXj/6WQ/CW3wk+wPlhu2uVkRhfQN8jAO5WVPrbcJOPw4Xr701K8+mOS62LKgpoiVbi6Xyxch/JExHWH47z5Q/8FFWkeK1jQtob8s8rvv9u3GjE7/3lWj9Js83TMfJJtgRzKOuH/bjtOPjUAjS+RLcPk99PAGas/ZeUfxpBbRMoth8Apt20nRiMjyRDrkL7aUjQiqaYdcI9kWseAfLR4SWLqonK9oez1uZzh521DYIaww/hjXGG1LX5rZl+eT8nKzRJNjChfZnMAvokr/u8xnf7ZFhR+GtBiC45p/HI+5tdzvzKcmJo7/lKwWf0o2L92Jbtl0B2SAAAAALwGe+2pCfwRHa2CBbtTSyF3yUxVx1VCL+vFkoB8WEAN1s3v5uo2IuEBJIo76Qz6BAAAAXUGa/0nhClJlMCGf/p4QUikQnRcbTYorPE5n7v2WZ3DOD121Uu2rAAF9evBaEr5tMhPNoj/sCgnn3wd2qxm5/qZx2iLyEEZ7M4/aI2qWCsBfmqqLdo/o6/HJZlXUIQAAADdBnx1FNEwr/wM/VaClROl0kZY/WWwLckzDk+UaEw7hgs8f5qIRcVvcH7DhFACatpj99o5FZaBdAAAANwGfPmpCfwQLa2CBbtNh8jyX5UttQ+322cQAODnfrJE6maXkGA3Kck6n0RbkNnShgV4uxQYubigAAAGWQZsgSahBaJlMCGf//p4QUitPslIdr8yJajenzX73ihACMvd4sjCzhUCvrd0gFLcZp+Rv72sZOeDImZ0WUQ//2l3DmwgmSo1bVLPzQl1Xe4lV565h8aZDTx2NPvP9daXIzoS56WvU7H1O9gsmPZ6s5K/YbyyX5RZTNKcCKm1KFcTkdAT4dXDsvT+4AjzR1Ppa2K1caBahSv6a66kuPY5QyjsYgp/WaUQAHgbDLCdVJLU76teR0okcPhx6WXHhiDRjEwg0NKxnSH1+WjvEMgDB7GrDeVZFtjJLBIj8sxB33gXyEm8Qfiab6EH8UN+/voMQSaBUwl04uJ55fMqNtiLm6mYrKAtQnKnNwDWRdZ5in5fCp+UntOvIkoCRopxyNNrltH8rHIOIkYWv93I2mbGoDQf6NNC9dWmDbmUypraBQFKIaq7LETVOZyq/QdBCRHbdaUB6E0FLZ+x0xz5pVGcImJH6u9n5MuiWC584ATjkv7I3isdZ1du9ktSVAKzzQK70kncTwIS+gM5gU833Dws8dFWdRMSI/AAAAIxBm0FJ4QpSZTAhv/6nhBnQnkpon3yzVzI0MW0BzBHhjAATkiZytJMNmiuG90WvNgf+HBJrppHhsBwG2NjvT3WpV+a9uRmqTMnCUo1Wd70pcthhFfGZxVumEEmWHjukZZlwJzObbU2eEIHgwqaltdekkGV+fA/aG8hvGZ9ghkX4eSnzRpzzyEuEHaIxjQAAAENBm2NJ4Q6JlMFNEw3//qeEFJEY5KUaMX7ybEqgJodYJ++mTel4ECU0uKw+X2Rddaq2GFzzzSKABOsOx59pQ5XHtzrgAAAANQGfgmpCfwPZnWCBHu7kiNS7ePkj7s7ITZVXw1L7pEARfje/8x9K/rf/lcID1f9wV/TYaaUgAAABlUGbhUnhDyZTBTw3//6nhBSu0o3Rk6Tk+1WPgvjKb3+FBhsPgBGVyXG56JX33ydi19L0TH06HMlBQsJEqSx1S4lAtE+azGf+atk6FfiTElbqpOJp6lvEfwA2yBtG+Tesdfh1Kc5K/eoVSw6QlOxxXem7+DfoY7tyAM/n1O33SiQUYmsOWgJjvcw510u4U1c41HQ20osUemzK3ej+CuynwB34Tolalv4AqD+xIFfs5+FLOHnbeXbywzaEWWrpsqyKjzaUp6ctF3TiKcDF/YTp2UiUIoZ7p8Vs1xCVmt80UrAeQBZRiHu/hK128qFBNpMrHW9Ir302AkJpSaX8IwAIwrH3XEMI5Iw01EzELQcN2wNkiRdiQ44ssQIfXbP9hUOAoI+vC5NKVdj/FqRGJtgNm0cKPaRncP22Bemw0DeWcHYJ0Z6oVjxXjzB2h0xfJpVSuykzIz2h9TYXjKi39arUH+q5wNlCTX1X3wOXtbz2Ksl7bGKH5b7wzngGx5OKlCBcMJ4XawiN+Pv5vNOZyruigCcqiLis4QAAADUBn6RqQn8D3B6m2OtpKoy07pQbwDsDDACucDm72lxmqh5NduFK2ZvffaORSoiMfBLIHhx6UgAAATBBm6lJ4Q8mUwIZ//6eEWy3AANpL3bza+CfsOUcMX/bc5xenWcgu3rLrBWdP/Z3RF5z8J3N5WW5+r8I6vwYnzwE8m7HeTykTk9xtWmPx9wi4d5GHp2LI6nO/v4ZEQnaMqMYtZc74NsrL7dUDw2Pvg6NXJbcaHDaGU4YwEu90BeSkn7lUj76Yh5XE/DnnfkgfOaiRFs1zunH2nE7yICcRz/2hlVB8ymnQ4lIAhP1SucgAyzE8kGLnumBSQlwDxeMnD2bKch6hfRmMJr0RhOIhQGLZYUln2W6JjLXd5sjAbB85H9ayqx+vqzpHT756f7GKhqLHrp9KftMyGzcNT27r7+mlC8EioX3Q+OKcXjaGHfF0vzGC871rp49SA3u8kudwBdyMLKh9EeUHaz65jwLBLHhAAAAN0Gfx0URPCv/BRDkrZzUm15EQfjUqgecwjpUWjAK9M/scDWOHj0E1eD9hwBgFGbTH77RyKPXdOEAAAAxAZ/mdEJ/A9lbfMD/16oX/16fl5+Ah7qnCqj3Mov5S2sAAtmze/m6jYkCfUkij6sm4AAAAFABn+hqQn8GNIxXBn97cJ3oK5C/twiNgVx3Ya+pgCtvtvYSutSx1w89rIzSexRJ7ln6QWuIuZy/ct5aXJ0LKgDR+Y+oNe0WYHnhk+vL6B6ZgQAAAQdBm+tJqEFomUwU8M/+nhA7jSwh4Z5D6NJaFxhRdVMrBHL6qo6rL8b9ktOaZXfzN5U8OURSn87+SqwbxCa2bqY+bhv8twgP7gbhAsgbtCXvrCXqnQ6ANnYiF8fQUkKltSfVDUmDp21b29S/tuPSekld5OpIm5AD8/fde+azGb8PwERrEAPKFwd9kXP1ScuJygYpthHI+X6BdoCg6IqIrX7ZDIaDxzcWyyUGxO/8e/+S0Fhpbq4N8a4Erz8IIfbtkdjFrGHbIlbMc7f/cEHjF0JH0sxOFLRf9lOdg9vXwAVMkI/3Ou9xalEudaq3iOiSN0TTnejMZvnakZcHCfRua8ktaRgG4d2IwAAAADQBngpqQn8DsT6m2OtpKoy07towGYlOg8wpWQigkrzTf2cAHG2b383UbEbYW2hehzQZGGQrAAAAQEGaDUnhClJlMFLDP/6eEDOW0v3WG37EXg3Wy92Qtyrr7+B4DgATt5LLkw+pUD1QGAKi1Odv7jNrKiS4BYYBD2kAAABdAZ4sakJ/A4Vbv1eM9hhF9lR0h15EO+CLaa4AHFwLHshMuX/EeSnFPiW8EC/hWbVNYNzgykGFUbVVkPf6rCGiaR4w+M0nSET86Ym6tAGSWOX8gaUPHXQxjiC3RfXYAAAAzUGaMEnhDomUwIX//oywNmmVTdoCw9gDmHkRPh0g9Ld60IR+ZS7JLFbdBdmFlJCXvs7jsU0eEeB/9Pp0QFw2zyrbmCD72H31wcdW+4ufuPOUxb2QwM4yHdY8wCDRJRPrVnkYV4fBeTNunxFgNg/ls/+59/IvbS9pwEiSLGA0TbbcbzbfM5eMsk5fNc4dNUbcqNTB9/xc9quLsnal091XMHNzfWkS0PVoAXX4wlGZpZxCd/DKWK6X5/bCKGUkcBFGgmBKXAfzrP6FBPEk02AAAABCQZ5ORRU8K/8Czo/Du8ZIyFWR2PlxoDAMqPnNcH50FYAP53VDt4/nl1pviglhDm147R8Ic/VGLT9/Y9jFlAUNo1fBAAAAVAGeb2pCfwVxCJKV9ydVo7fuYzVQfYHE71G1wXd2gA4Od+sj74WRtj0spYznZ5XwYiHJNC4nsTaZ7EFFCTp9mjwwHO4MMtUpRlOqbozGlZzQzU2rYAAAADpBmnFJqEFomUwIZ//+nhAtBS146C0AWiqLJm7srzzshC+d88iyP3jUWpjip+6UPhHm1MHf2AZTg38hAAAArEGakknhClJlMCGf/p4QLQUteOHmrmPw4N7/FGeH1lw+cvskipNpgBx7GSmpQY2mbXPEY+7tLCs4S01PXeRuDa2n0TrdlHWLcRr2SQN2HfI2Gt2QDxsoW28c4VWQsdUlEG1JJD9w4+ygAtYXwVAXRu5T0gALlhnu1sGm05Yvq45zgI7cWd809TgF1U+0mmXRg8xafTlAdSkS9rldi7jRv6asBbcl1fg8zW6EzWAAAABVQZqzSeEOiZTAhn/+nhAtBxJoaQ7YIkHJgXW2OG9Ql0nMMNAE3Qs9hVRcUn3SMvt/cLSNY4bJ3om0E156wkKMl1M+9T2q7Cf4w4baabBgYwuYWU3SwQAAAVRBmtVJ4Q8mUwURPDP//p4QLt+VoB+mYgp0rIFlczWibYBE7FEgjnGzgzdXbFXNA4pr39HGvFK4xOY37SXHuq7xHmwMmdUEtavJDz5zes0smFXdl9mrWhque0piFkIiFlYzke8+6nn4E875Ed4BRWO13RJNfmSiWhX1f4FS63Ukd7OPcAwjQslUcM/QsBAZdt966HoYnDxguruxnJqkz2rOZuDg+/g8f/aX16M7zSOlIpSaIZ4MYAC+RRR1FGAayU1apAYkzo5ghvvTVRYmbOin3nm/g/E7AQnN0aky9467Aov0+z2Xd1+CqXhiKiBw2P7M2wjiYbc0rP3uK0PcY/9u3uZl6TWqCxliD6wdvHxh6ogJ4Uql1KYxohXhjltGzVYJkQAvOLz91VSvvPcLKKYWiAcoJQIrbQzu5vDDthh2heTQQTUN7oXe6jORRLO4M+CNmfQpAAAAJAGe9GpCfwNeq7BAt2mg+TrYWVRppd5z1mBBmd4tfxaSZUtJgQAAAEdBmvZJ4Q8mUwIZ//6eECelLXjiiee67jcdgDytAE/Gy1dUdvWM9HylUHgHV5f6fJfoVt+d/b1GxIKAH0uqo8KhW5EU/qQ3bQAAAEtBmxdJ4Q8mUwIb//6nhAtDndEirgzjOa/AGShAFXTr9c8yvGwAX17zOVnyOoI0+2VVL9Od/MVFzW573PrvQCWoWFRo/pqiRQb7OfAAAAEhQZs7SeEPJlMCGf/+nhAnpwkUaA/dmUrkvNCcWpo3t9UCpAB8LVwBVuZ6Q1qcwEBwt8ELyXH5EDjhwevZEpmGbs5rInGLsBNyvaHaWUTzhI44yxRd/fGdz2kP9gpfd4SQJjI50EWz881yJPP5433geCbKoIcYU7mz+aniupSno2MSwijwjoSH41GGEPSc/V+83osN5zf7UrDiueFDImBuC9fgMYTX5haWEPji7QRLgJSHO2ypoUV3bBZ/NSCgacd+QtfwvOP0VtKISw3m07ewavNx/jli8IN0yM9Bs6IVlEYeCLJtuoVJvUNx74tf9Yrnf0nJpYS6f9DD3VwdhTGWuCYFp2CCldSsxO4YF/KGcN7SYHPYEOEN+El5Vfc/ud7xtAAAAD1Bn1lFETwr/wKP39VYNU4iTPKpz3e+tcFtgQAtcAlaOvVVoyj0spY0HPg8pviKb1Tp3o2nYk8xmZZxM8lBAAAAOQGfeHRCfwM+9oRb6ScqoLp7+C26nieoWUDcDjzHABto8CWUyyoqRDLYKcNZEDP5gVRBu46mntVWzAAAADMBn3pqQn8DPRNEcpsJtSiGMgBHvLfrJLswTXjKXonrUrxqTtF8dwqYBYcU9hQ9kKb/VSYAAAFBQZt+SahBaJlMCGf//p4QLj1QPCFIL9yrq71GJzNFPAsfqd016P/vNSpkDTV1n9+qlu3StkwixyU/YbaiGsoEmISnMQAt+Pee5rXjaTjCeay1c1cEb1WWTdLkM/QhduB8QTM7lG0OmS36v8m3hIF4d5ReDjcDPouZ+tRWOjv2mDPAuI4FQs3s4kjpdewETiJFNQu3OfIfiEGGLY1Wyn5LVwS/O7JaWdDCLl2BJrikKSMsTQC+P+WOXTPjpfXW5e47EmKCGaFNDfTL1MJQCkBd9T52hJ550OK1xcOOZWpGJnEg4BqupMyWeSxt+QxCFLdKhqbOZ3wk3s9cG6i1dnzcKkLSxOHuLDimTrDBCG2bERlinPIRjEkILu8J5pF3imLBEtxi6579IUwxH3Ol44tImKGZIoE10ncWgJiFZqrGq9lBAAAAJ0GfnEURLCv/Aq9dsbOppYGiIM1oJKl8UStl/ukfLhY9lnvISXzdQQAAADMBn71qQn8DYG0ZeqkIgZOzVzMAY7VyAj2/sFnprO4gAcbZvfzdRsRs3oPT9DmgyHoSVIEAAABEQZu/SahBbJlMCGf//p4QLQbdZ9UL2CJByYF1tV+Dex6EqAFqaBo2agcYuEsLucQNjWrMA/5t07ckZ4mqOB0vr7aaxPwAAABQQZvASeEKUmUwIZ/+nhAtBRQouuOclQlzihOgCvg5gBMtczVvsrjysI6ICfmkYQckQmqOXrcxtVHI/+bqNiQBDrp92Kad4g6Jk2ZhxJAtC+AAAABMQZvhSeEOiZTAhn/+nhAtBRQou6auY/Dg3vnFOeNqXkvOAeAC6iiE/sX9kavfbbKtfAIEmcyEjQVz/V0N0afbmLpM6mTv32jcX+ThGQAAAPtBmgNJ4Q8mUwURPDP//p4RbHA4Ab2tVopRXfWt78fgv9shU2ek3jYq1b7mtvKEziO9s/l5sm+w4kyqVri7SWwG6mHImCcVaR1mpTAlJBIC5pkujd25j58zrJ4zuXYPJvCNEQxWXdbPkv8/vDIQ1UVi2IEd+MG2//Nbab8H9VW2SrPF6GKVl31pnM0vmghQCIGwY5bEpdAhhDiviBRbXxZcmZo7yIKsKlDhxq5g8O+/xSdXGlTrBWqNPqVKvbbflS9uq9aKADKXEcdqWE7uFBxk1HSD0OllkpyUwrDASSNez7tUhvFG8oD52mKx+aa7NpRuWB5c7bADlTBxngAAACABniJqQn8GNIxH9EPw3U72dQ7BfYALOBsx6renx8CZ1gAAAK9BmiVJ4Q8mUwU8N//+p4QPbNU0zlUN9roY/43pWdUdH6hOqRHraSmGp5af58AC45lBgmOioA3a+jl35Tb0zjMq4cNnnUNw2bfgLHIxsugRM40+4uIJ544bG53jZcTHPfNBUZW4ZVScv+1yhu/9QO4LCWVlCaZ0iIHhn0Qe7p102CjxFz4SBtnSJaLVDTK0DFwQ9Rd/J7CsjlD/6J5OEfmqtUqbp+nYHPHqPMNOoXw/AAAAWQGeRGpCfwOFXUpboQx4Pk5/r9s2VleeUAVpPraXRQmWOuhtwwZbsqlUHQ7GO3M8juVZKQO+7NWRheD6GWfxbtTfIeBGW4AatJIh+0BZFhFoQbF3c3BXpcHgAAAANEGaSEnhDyZTAhn//p4QM5bJXdKtfAxeDdZruBxfdYjf7NoT+0L2h1I9LIVoFcKUbV5DvYEAAABYQZ5mRRE8K/8CzTv1WQ6Gahl+SmjEkpmZ20aCIYOvjIALAoh0kS8bUzll/7sBV8jKC/6ZyDp/A9o9q+ZPkk3EweDfqx/OzHRDdlROatb4BQJNfDlPmTyowQAAAB0BnodqQn8DhXsAk1UYOLndN5E3Ds6vhbozJtRTeAAAAL1BmolJqEFomUwIb//+p4QUl789+XoPNgsTDwJ3XkT9pKhl5Q7JnE7GujlZi3mBXIwd5jmxgnq4vP/dwnrQBY60GhIzn7XbOpc2XH000JYF/mUbCLsjz4hbyE0oyzue2Dcnza1eoNkbN+TVPWrZ4wfAyMY0WSVTmDHTNlVr4OeLnywoPpWUDAtLASZKSHtrbwEcul3V5N1H0tpCJfrz1F+v2nN6CIh4m2W7LHCRulJv1ZNAtVhc2W/6dpvvQYEAAAA3QZqtSeEKUmUwIb/+p4QRZ9ORT39HfCVNekppxp7TplO9DXZjARsSo5pf/+dqaHgHQU/PjGlGwAAAACVBnstFNEwr/wLtP9VYNOhmoZflvuwZPqL1lWis9QunCirmmlGBAAAAIQGe6nRCfwOt+UPDzvh1KZnMDZmsDW4gGKeNOKEm0f1BcQAAABwBnuxqQn8DrsFgk57u5E3/esP0au4lYD2SWgnMAAAAuUGa8EmoQWiZTAhn//6eEEedFGBDkNo1LaqQA6BrVJPPd5qB96w9N/AIK0DdA0WWj9RS8xZPstmo5/cZ7GoSmCrSJQI6f3Ba24bIuj9taebSUwnK13JaPKUPZYuXB7GPvwH9607Pmobx7geuDbgVFV5rGc1VHScnW/OQQvdsd5I13yNWrkNALgAakMIlO90lTwqC9TrNoy7dRY5iJgdSOcK0dXsN7CnXiQBUX4zzL/rRk0IWVled71rAAAAAPUGfDkURLCv/AxVeRJMcsvv5MWrJaWIQSXBjvP+W/i6Qs84AQp50dh2Dhro4eLx007GB/kkMo+iqw1TKoz8AAAAgAZ8vakJ/A9mhYJPvb2HycwyoZIhiQWVV5pMlI8XHTSIAAABbQZsySahBbJlMFEwz//6eEEWMBpUR3QTkiw0S8QGRRslDvk2WVcYneSpmJE+D+DTUznX7Pceuwuf54fo+XXYBy8R2yD5aUPvYJJX679Ov1bMusSiKtneKiSVtPwAAAC8Bn1FqQn8D2X9nG5FduQm/78d8aiOzZIXLKJplitxAA42ze/m6jYkNnNJIo902cAAAAXFBm1RJ4QpSZTBSwz/+nhFo95eVrJaUN7n4CEmNUofmevH9mRPI5Re8zyu2rW/NAbHUhWZ1TM7a+lUzTdGzMvxedb+MZm/jG2eIk4ljDpyq3TrFj8YkvtngX8DU2WqU514h/Ymy/kqKeXrJ5WlUNGysuIuSsWigaV2fzPGSvg+1r91z7MHVdohvrqu4rqMuT8IObm2BwsgPQSTnsvMDxxECcFG4zSRrUb6JAsSJsj33/tvyVSnpzkRMzdRBXIg7bZemmc9NPxyYvBS/5l4dlf34XGYXhHdaFRrb4eFo72Lh2///6Bsx3/4uBbaBHOkaz3XlFnQL9Suuv+f+s8sFjSqb+fkEM/ofM65XEaLwscxeGct/piUpZ6hAwhkVCZtYdJuOQxM+QUykpdCc0s9H60M1vkDdWWGw6fBh/g0JVdu7oxWGVWhxUg0gEY5DimXlEaekEcxMkLcEy4mbXvX76VAdKQSN/mQglgfLHuc2iW91GsEAAABaAZ9zakJ/BjSMXjJxUh7nlnjkpWKJHO76koAgLZG4rjEfp51yJZO3GngTC7BUDuQLyaNbwn7iMtefwTTXba+ul+wVfPxNLYSlciikbuIgzHqjvfDYcarzBWPHAAAAKkGbd0nhDomUwIV//jhBFVSEtpJQXtOpV21N9v1m4uic3blIJHnSPPkwgQAAAB9Bn5VFFTwr/wM/VR8k2L1rLjtDFPj/9Dfxfx+921pBAAAAXAGftmpCfwQLb2CTnu7kTf96w+vLLGAE7j50oVfXfL40WuV9CITiCsWTDQ/JxOovioYimnAXa9TyTgTL0rGEfqdN4O67v3BuIYC5DNd9HRLyxLmtSOod2gMY9WygAAAAS0GbukmoQWiZTAhX//44QUfHbCive/t9sAQqKaDF2M2SqshORvQvsRXopZEoIbzw3pMruGDcvmnjpVrqeWvxFiiXIb3r56GkbaYUQAAAAFhBn9hFESwr/wNoC+MgaexWbEyqVdoY+ewGKAAD+YEbcION1w7q77Pt/Wq3rGNuxOeRdRM67vFD0LEv1OrS+f9hiuoP3ZrVBtg4NmXxpSx42ZLL3rPe27mBAAAAHAGf+WpCfwfHkRDzWssCwipxxZWV6dNKiQnqA8AAAAAuQZv8SahBbJlMFEwr//44QUe3mYVBfc+loELNGFYKU8CRn5eGuqz+h+zQ7El+gAAAABwBnhtqQn8ER29gk57uxDThUEn7QpcpkmnvB835AAABRkGaAEnhClJlMCG//qeEH4ch1OewARR10JXD7UlCwYnYaUKCdmgS2KIPznp6r90hb1iOkiUfsRZwtqxa/0ReBbBgEP0xwqAIIsVSP4cwDCtq0IyfEDEp+5nQZACEESMgq8/ZoiYfDCJ2ul5ZN4hg/9blAH6S283roGhpPLoWE+GWIWQQcCxJsQPPOQ/TWioCAlW22xhIzTn7IgXx/nuaPCXfP2PTe3soCexzeGoHrLTMyRDkfg44RcjJxcYNPoZLPitrHPDuv23vbytZELcGTVVCF1y2wqWri0FaapBqbOvHMUMMEDkLqS6YtQnsIjmbNNki/2UfQh6zf3eh/RDlo796xM3jINayQSysWIzq1HdivAZm3FsKrQrTgucL+rohBlpNpGdwpNswQDyJAjJ8T5zgSNDQl5Ew3oEvLwDo/uDE3ZWVRODRAAAAIUGePkU0TCv/Bnkxs0OTzShw5na4xFn1ELbFgX51UpLf8QAAABYBnl10Qn8HvaASXcqPDSlDYHe7O5F+AAAAEgGeX2pCfwfHkGkgS6XZED/voAAAAB9BmkRJqEFomUwIb//+p4QYmMAAuWx4ByubgfPnS0PBAAAAFUGeYkURLCv/BnsNi2Qbe33u8BhvoAAAABIBnoF0Qn8HvZ7O2B0bTt1V/oAAAAARAZ6DakJ/B8eQaSJEZHMpUXEAAAASQZqISahBbJlMCG///qeEAB8wAAAAFEGepkUVLCv/BnsNi2RETA77JVFxAAAAEQGexXRCfwe9ns7clO6gdSJBAAAAEQGex2pCfwfHkGkiRGRzKVFwAAAAEkGazEmoQWyZTAhv//6nhAAfMQAAABRBnupFFSwr/wZ7DYtkREwO+yVRcAAAABEBnwl0Qn8HvZ7O3JTuoHUiQQAAABEBnwtqQn8Hx5BpIkRkcylRcQAAABJBmxBJqEFsmUwIZ//+nhAAekAAAAAUQZ8uRRUsK/8Gew2LZERMDvslUXAAAAARAZ9NdEJ/B72eztyU7qB1IkEAAAARAZ9PakJ/B8eQaSJEZHMpUXAAAAARQZtUSahBbJlMCFf//jhAAd0AAAAUQZ9yRRUsK/8Gew2LZERMDvslUXAAAAARAZ+RdEJ/B72eztyU7qB1IkEAAAARAZ+TakJ/B8eQaSJEZHMpUXEAAAESQZuYSahBbJlMCF///oywgmFDifHXSswkA1QBIhVa7JzdJTH/CDekE0fBKEXaN7rHrdtfVgj2/pxCrVbT4sTP/wLe46XskCHZw2R4gRbix/+tPmxowLuXtPncxnlmoVQK1te7EODVyt3sxsdOeVzpTkyDhTySn/igphIhvq8si85+ODW90YjY8oIL697JMyvdqX42PdD+qMKfnHxqDs8gCTPGZdzJM3MZgLDlqywHcVLD2EbbAis8GkCuwW8Qxrrhxc8Bh/N74lFP7QYXdCohKure8AAy0pt73wgCRmN5bAAPHw3FPoIMuePsU/MB4aigTlH/seB2RPexVM7F1o54blZL1F5JMtOI2bxR1d6EvAjK4QAAAINBn7ZFFSwr/wZ7De6Mr2oMEvkTr4AbmoqkZdMaUZqcBaaam8f1IsG7QMbdXd4dMYZYdbKUBbmcq+jIOZDDwSWl4f60y1YI4u/tGL3FYXzGg6y3qPYjlmBAGOVb35krg70hicr5+s/ipDYBF4YsJtyZ3xX9uAJthj4g15tadX8tXPEFIQAAAB8Bn9V0Qn8HvaASXcqPD/g+LS3wM3J/c/4NOE111AaAAAAAKgGf12pCfwfHkicdZ5Ia/PdRd6BJ4we7g/YaYgAXUKYfkbc88yWkla2KHAAAAMJBm9pJqEFsmUwUTCv//jhAYqy/QF5qpSTDYflYwK2WBNncI6shj3dMpFoYA8ElmUB+tcrUhLl3oKpa2RvGnL907gczh+dlfofweHf+jXPHvto8r3ucYTuWZv2F59Rsv0N9PYPwC/j6eE9+EFxk8feTZiLULbH0aj/TcxstuZLTyTqRdZkWnZNf7Q4RoM28Amx6jVsQ2HCLbxbC9zmvCUe8HpqXkZIT7EzluKi6OiInsa+2/k8AjV+yG0oGFihX/vu9UQAAADIBn/lqQn8Hy+B023cyVRgLVdJpE+fqFkpowGZPALavn2wA3Wze/m6jYj86JJFHwIS3gAAAAGlBm/xJ4QpSZTBSwn/98QNyT/gljqJplqna0AHKgdIGwXd9z65hf2NxoVTFrIKzj3pssqoXtnfrI++FkbY9LKWM52eV8GIibL3AWhC9UP0aPzTi1wC6ereXuma9J+qOiGk0/6kzXyVjzLAAAAAwAZ4bakJ/B3WpPYvQHirZUYtNP1CgPC4nCpMkeN2OUQAWiqeIhw4PXPR3GpStMj7BAAAA2EGaHUnhDomUwIV//jhKlM1rG/5tRmBIf1pPA9wVXlACMjuStH2o8nE2glrKf5K8nM2exoP1kFIhzs5+Fesb2RVPSE0ilckwtx08ssCFN1I25/rBu48Xg3tfezTaR5y56fLZb474DHzW3rEH/SHN7CJd6rGSjvALCKAt68manDCUkQ8eyxM6+4+UpKNGBSA+2dm+kL3cL9ijT60kDM4sEgdTeoxfbTOH56U/Ksf5A5bEyZdWNZ3cSV79aOhwT2exX3LIO9dMCI5ULHLlh4+3F5EQFJwRgdpJQQAAADVBmj9J4Q8mUwUVPCv//jhBR7/jGEU0vfRYP3uOcgEBOk9Adw4xnRThvohMTxrJoUQM29p9sQAAACsBnl5qQn8ER0Rg3kHsLll7DuD+6oAJas/ivxyGS/j3elh1h+pmwWXlrApwAAABh0GaQ0nhDyZTAhv//qeEH+m9fqtj3zHdcU2T0Xv6REABtJ9GYfa98RbD8W61bleD+naV6OV9sBA/CixWLYIWA/8UXtW/E4lzmv9W7DWwV0IOeKvtoX/4yAJWpbKWSBL5SDhI8v3/jQL1qL/aIi3t5gUlSwn9dtCP1gjOztpgxNfHhjnGAZ7rjD+TTgRBynkMfoFdNPKTosyu2jyYVnON3125a3LIWzLhxlEA3VccKNqki9tQZVXvLCAzrVVWi+4e4kkjg+RiGE084mhIaGEf3vN0WQe9mU7zhf9odUkkl3VB0UAHFON5p8AK++eLPCnV3RKWcwvWeCZD4Y0P4bx3817FRnQLzroFK0n9weOxrdTRjdhxHKdzgLKSB1qUtq0FS7juC0FI9x0nt6kG65/Z/p/fIueN/9TwwnXPtvgCXvVltARv/kDBiP9P4YYm+LjhAmcko2EY85RIrtGyvuYlXSi2g5p39FRQOwzLWrVva72yrmu8QqKpRZ9QZc7nwrMs2ii7Zxltd84AAABHQZ5hRRE8K/8DaAOWbtdqNrfINfCuA3x2lEvm9RTe7t5OJ6WdfsF2R0eycAG1HclZjBw10cPF46adjA/ySGUfRVYaplT/pc0AAAAeAZ6AdEJ/BEsNCLd88pEKXj5tFwf4gya762fxr3RAAAAALAGegmpCfwRIRgaH6bt2dCjEe3gDBNWTq2IvVye4P2HBwAFvCmH5G3PQHvmAAAAAU0GahkmoQWiZTAhn//6eEFIrT7Jb1BWJlXUvlDt30LERkawBoYmGVXPXuAK/motasxglWs3o4WPfgSFLTz3URQHJP3zL+gHsMNRit2t0Q6Yl9psVAAAANEGepEURLCv/Az+SVELZp87rEvv5qlroj9C3wmThyxO5mssQAlqV6fwrp24/L+MY43CBX8AAAAAtAZ7FakJ/BA7azPBg+iji49yoEiStzCZDMYTFsbg/YcHwAW8KYfkbc9BCiKYxAAABLkGayEmoQWyZTBRMN//+p4QYjsmeVGL83W3goQARieqJEIsE88Yfxu9ngjAkP0lscEfpNi3ACYkcgUit5r+M9F8/KJ3fINPRhbEe6t+fjMLgZDEvtRVxyx9SvbEBOn37knyEG75VXYo+dOBV0LQKT9UDCMEACsA4qfSwi8LXp3zxydNkT0lngbrfONbmLmAPwTSSofGDxdSo8Y9zeOya4ZZGaMtcnGIAlPOcqRCLKFz/XBtVi8cqXU3oLlEgZxRfsSQo7TZO2aLOfW+8cqqNr7nAvBYDafK7YBSnYdGQvUfa5oSCooGgeh11EjjXqRFfCCu3u50rZX0ecHvr3Zho/nnV4iddxmQkuKvXt5W6uSznnAWQ6iAJY06hheT/IOtsZbTjEfqpojiBgpIJQMQhAAAAOQGe52pCfwQLa2CBHu7kTg+T9Uzh2URH4RiGcP4N23A48w4AbaPAllMsqKkQy2CnDWRAzT5//o0M9AAAAC1BmutJ4QpSZTAhn/6eEFZTedaoTaLjdrbfsPNoBOPpeH2y4tFoJnLt2S0iRsEAAABDQZ8JRTRMK/8DP1WgpUZIvrkx2QggrdrPY405jhgXl6Qno5aYEqsoAbjPp9Lo5FclvVSATilkhMDwrt4A9Flp+nuoQAAAACIBnypqQn8EC0Rg3h5ol9xHbDYNUjhLmAuwFLGUmXCmHyUhAAABL0GbLkmoQWiZTAhn//6eEEWMHXzZ6JlNE+zVIWuAdz+ACyDasx7NGv1toPVUzvvI15HyHxNZr5szpMWSUS37uSc2nazdEZezSSXEyFbtQtryZGiwHEUtvq5RvaFY1qfiK6ptXfnzVAZWIjVIN8grSbZwbK3X0Tz0jod68ynH5pmatdzua51n28a1C9PgGm041VcXE0Ir2YUNo9IZlsP8h2k8zTdIKZDEUbonleRZ8yWpltnP3N5sSqezi5I1AWnUgCTpeC/aaj0UvgiAI2Vo0DDILH2UcXBfpIauZ+OpSF4TZ0qI9MONhaJIQOCYBeYVwbL1F7VqIyxI6Qsh/yF5dmkA58kbFAQKrtASOw+Aw9D0sgiQRggnmoZddbWZGX7lqmm4c+e024bRBODoLVK4kQAAAI5Bn0xFESwr/wMVX0SUhLfb+TEsjqQQkR6NTBglK83LhT64MAHsn7HnpvbEPKNJJaQSH+AxYpfsaajHHnC6z/8c40PGD0CH//i5s+a8pQb1I2Vcz9NfkjZBMPfxgTGaf7TdEawBduaFty81DCoqrV5vt8JO1dDaAMAAQw8j4xBUgedoNBxwQauCcBLqlSwyAAAAPQGfbWpCfwPZfacXNXa9W4qh5A5o7ThS2hHYbwTfM0nWuAB/PLfq+2HddHDxeHW3NgbH6sX3aQ4wqZUsTWcAAABJQZtvSahBbJlMCGf//p4QRYpa8cJIMU3WmezXfLGn2oRkgY9gVAESwmi90n7SbpBhZrXmSfzok/eqYTgg4omMasUP5GRyH15T3wAAAFJBm5BJ4QpSZTAhn/6eEEi+v+GBbyUm4hBIESP1iNQQdAbzlJUf480gWNmCiBlDRCZDVJMgYJBN0QrxdZZ4D5G9v9yK9CMnKFQjvX9QwVYMAeeYAAABukGbsknhDomUwU0TDP/+nhFolC9q0A4BqV2wBdhiotG2HAbBCbD43SKZLGxb9EI6EkAGVYMIf7NmPEKnQ7zm1dYMJ0wudTUPEYak0s+h0DiveW7WDNaOW9C+2n7zDwJgYC6QOw8F27Qmhid/28aAQ3AMCEbYij16rW9WcZVa66FSNUTkvAfoKtJ8xO3gdr6h2M3IKpv52ms7l3MvBv4J70h0BoxS6Vy9aFzXJUyOHMLrybox+H/nB6Lv/UUt6YpMxzXVoBa0Xx8KR+k6lOsRwUuzTGEz6Dqjf4+0e89hI3RU5jFNVdUzpaU63tegFWbojc0KBGAscBw8Bxobg+6S5s47eTv18N/qD9W/AVxPBxFVM1MDvsuWOHdGiUlKHQEXC6i0jwSBfGPGMs8ZQug496o4FEXXp624XmauRSdOamH95q50Uh9vv6r9sBL/qSAwrjx3yTBXS0gWTmF7j1nskoQ704kMFsCu6PdoHhVr9u9JLbNdub8jJP8Xu+CJuPFjpArRJQ4rc1+nvKji2hUV/IZ+eaFEMzUEv6NuTYm9N3vsZolGWCsppBJk6dCDFb3GpnwHK/8gc4V1CHcAAAB/AZ/RakJ/Bjm1q1I/PXBol1GfQBCBKbCEwAkg4V4wg0ePy/gf+pxdBcirnE1HJLDB/MAiniCIshWscnBxrpmxKdQW/sj0gIbI70V8vlzFgvY4OIfwWE15m3ATj5Ecw6PcBzuq2uSar8ypyO2N7SdEKLzu93MU8/Q6ERRLOoz0wAAAADtBm9NJ4Q8mUwIb//6nhBFoM22N7mjBdTSmBQlEZ50W1H7oAP3taWAvgbwrapzVB1RtxKVXtmd2j1NUWQAAAD9Bm/VJ4Q8mUwURPDf//qeEEi+mjJT/Hst1dou3Ot/m1aGpnciX9irshf1XqCIbSuWcxx9i5s9rEuGhL9JGieEAAABzAZ4UakJ/A692bHNwgNDIJWtb6X2CWvK/uICe0oAXF8eIZgrXJJUg7Vii6yL1YRLZWx2rmleuT63w1iFcNnvrQzNeaVuDBTRWCUiLaEjPfFfwvCOa5E+J0C3rdDHumVeikLxHtk6sU06z4JStuDo+TvfjYQAAAN1BmhlJ4Q8mUwIb//6nhA7nw0yDXZpUJL6hcPSVGoAEoDBV8O9ezrOob7oAQ4iG5fh+pArNW1BrntfF2NzeBhhuwPJZXiuHhFmRlmfVwIj4Oxw/2LbaqqcUqMZdPKDmNygQQJ9TgZ54No7fOKMGCIg3WGxlpBMBZpMzenbFNJorKI8cclTE0OMeQL9IMwaZ3cid4wWjnjgzisnf+ffKyk+cZCo21BaxWy2xplRnqmKxQz+BfJX7JTBk+scvqJ6wyZgDiTuGqk9RT9Rie4A6A41EFXVr72x5NyXIMsCNXQAAACJBnjdFETwr/wLNOyHXa7ViEWjTpsfbnQguRYt3hKxZc3yAAAAARwGeVnRCfwOE8tMDMbUgrG8xkDYDvyC2wMCSAFboL3JF50k6L2Mz23AdRaEJrUa7wGUQJ0he5b2QYtdwy5Ysn6OruOb7l+PYAAAAHQGeWGpCfwOFd7CEFmtB8nRKOv+QvQE4qan0jaaBAAAA1UGaXEmoQWiZTAhv//6nhA+PuFyDyQgl16RD4Q7hNKN5pzG1qwoXXhauaQLx70RQ1ccT2jD4eYEPTL6ey6984vBffXd2McooGlCHx2sjW2LdRXnASCG7iJkOp8t6k74kGYkPIx7cfhFH6ui0EnIRGeibgueC6HhQY3zZ4dk9Dsvcon/DDyxuXLur//6nG1Q757rV0Ou8lqs0i7OEkIdAInlIIx/qvpgjAxHMEGVr0Jgh2zvOm16NgegmBwOqsMLW17YcVP77wygU2ut8GTlv29dRHr9CsAAAAGpBnnpFESwr/wLNo4C8mycS4DPz0lQuA10WEKokALVSx3ByQvNSyNvwve0qIbzGJJAePWv78npb319goGHHJ6vORgxWvb/Ks28w8iFK8J5iSlxSOAlEND4JMB4N9INfg2RZTzfNwhtY9c1fAAAAHgGem2pCfwNgbaN7Sb3DTroB7nVMqkmKEpBshkwhMQAAAHBBmp9JqEFsmUwIb//+p4QM6zahxzTy2RVMQrVqLz20kbSlRJ7sJ3etl0Z7SVOPowXf4cBa1lrxpl2G9iH1jzzVv65SNTotGZTYmkoT+nPa/B4Glq4hPv6Mo2JLXgiMPRfDtqkJUPtK3KhkV83WiKLBAAAAIkGevUUVLCv/Aq3bIddrtWPRaQ4rr9UesK1IraZfmrROy4EAAAA2AZ7eakJ/A16rsEC3aaD5OWQeQVnLwyulybXqEAE1dvSvqFRFQOpr3YjKNHuJySmL3p05JwcgAAAAT0GawUmoQWyZTBRMN//+p4QNSSwowoxlset3dg1Knrwi9ei0bTG3WjuNmkPTlEmtBo8YFquCZ/X3Tt1JHsijsPDaGWk6WhVLrXENCnALLYAAAAAcAZ7gakJ/A18b2cqpg1xsxrhM4ULSGQofNGN2gQAAAXpBmuVJ4QpSZTAhn/6eECenPfNoozN2+6Y0uz+FrLrABt64VRa3FGcRh8dlPwmx/iMBYY1Z7/rgqQzMlFNMN/McejJeZ0hf6it6E4zh/iOY3AByLHwU0wGNCJ749096qHrLhFUG+tZxTR1GuNU2k7R3s4HwCUJq1BPnGb0nV4AHLJecE5b2hlZWD7kdhIAO1/nK0hHZFUfTzrqL7LFV6Cjf+sMXi+h09G36RzuLTz+jqmjDrvg5F1QcpGTQ9TWh+modYKOqyjsP+h6OR5VpkM0DiVfeJv0abgLiTrjxiJ+5gFnAbuedmraSb2nHJNPTBeTXxqtCZPOJBr68oUlQev5hwJvUU63sEpWGE0O/lQtsSGq4UgV7MDs0BrhKY8JEZJ3L+g0NL+QeQO1XBK2i7YRMkUh3QASz7m0CcnTmPY61fNwlFxZDQ+PdzU0bFZ20icU5MuKHZLY7wNytGbQ2MTHGKns/2aSnZ2btM9DRg1y0rb+Boz19TIRNhXAAAACLQZ8DRTRMK/8Cj+oS1EnELyGAG5qKpLRO9iZ4nBUmmpw21oZve0LG3V5EZ8/iYrWyn4xAx6+o77JsNvFSgGGtgq5H3JHYLYxu4rEVt3tGldR+Wv5rI8xujB7OdZwbkMx5QtJ5qCU3BjxX++sAlg8lvpG4/EPTTQGekijyMvXQ4RpIYof8qv3LmYirQAAAACIBnyJ0Qn8DPRTvErY339wOily3Y28U0wrjmTA8yi8hOseRAAAALgGfJGpCfwM+3WZrN06Wh580tB+FFU6JP6DDLuD9hwYABbwph+Rtz0K206oA9oAAAABEQZsnSahBaJlMFPDf/qeEC0O7tE+65XOM5vF4VnGrsHhwkOzABdJbH5sj46F3eySsb6ZMoK9HrlZMY/rp52nJDf3GdqEAAAA+AZ9GakJ/Az0lopF5TzNnhVd6O3BoVUmT2uC7tUALRVPEQ++FkbY9LKWM52eV8GIiLxu0Jl/kCimD4xjzyEEAAAEFQZtJSeEKUmUwUsN//qeEC0QWRTa4pz+s2LStUHs2SSd6wABk9UlowLZ5qjxR1+Y1FJH+R0/7QD72mDDaR1O35e0NAt65tUcz4x+wKcbvTH8F8FJ/6UlnxN80Rq4hiCS0zwjoMWBzn46keSZcPkDkn1QXTFZx7CK87ZMBpFaZHPaQNxDigXES4n+sZu2QUuw1s1OeR0bf855dFE2qqvBqkTgwnmyzLYvezO4iTdesx3h9gSCqEKUaJcjhPdMqlhSQ6iGc8/8bnWVX56TEtWEV90Bqm+IOg2UAX5Tpkvbh/0BMTZylOZsuNmQDdeYqzF9Gbb5Elt/Z4Tp+NQB39rDq5NovmrkuAAAAJQGfaGpCfwM9E0Rymwm1JRNxFLn92MOIAaXbA1NyYOdMyuRJMZ8AAADIQZttSeEOiZTAhn/+nhAnpgNKiQvpAggj3XifcVINBpfxQeAPeO7XKVLF6CWpwC5MDWxf5vd8a20v4hvMC3dJfkO4Tb6oZGeGWXp0iYcfTeb8u4w1grwbbP9yZNXLmpqQ3gC0qVTGun/4q4fQbnpXN068jZiA907qQATed82udfhjKkekPGt9cthVzMkkE8/nKED4aQPjwgPTf8973v7L4mlp2CqT5VQ1qWNiROt+2KoyWxspvx+WsidpJvj9QGOCXaelQGU+02AAAAA2QZ+LRRU8K/8Cj9v1WQ6E+HID+Gafy/zxtelPW48QlwMOz6p1AAuoVi/t6jYjkba394Oa7mLVAAAAPwGfqnRCfwM+9NxU9wEVy0UPiKhKF/cgPLuquA2j7e6L50EgJUAD+dvSvqFRFQOpr3YjKNHuJySmOGvXltCIyQAAAB4Bn6xqQn8DPSewSc9sC60X7Xo5OtivfASM+H5iE7QAAAE1QZuuSahBaJlMCGf//p4QLYaT9mkDe4/ws1w1TkFpVOVG5neGdebvDneExuVlaCHh9oM4hLJuwXCB0eqHNZTIuMLE1Znsr/WU0RDSl/hV6DTOrv9n6ihTJ0DFMHGNBKgXRSZlOAuBGXMuyjvf51xLnTp9vmXTaodv9RxIHPQVHhDTxr/SC8d7lbbueeyRt1MUavSEfWNWNUmKOHdVzyN0YOf/8lr22gyOjJztxa5jgP9/toa1fggGQLtJJi6U/8JD3j0SyKrker9LmSfBsM5icP85qgrzKHRsJ4BdedMEcJOBJxbK9EAjZ1HZXvHvk2OkZUUS9L5CC7nZKt7m57kjeOTvbTQ7l3vUpeF4fvFLqg/55oxoacF2fquJ+6ighItty3Zi0qow6f16dPccmeNZE7GWFNALAAABOkGb0EnhClJlMFESw3/+p4QM6uLWv63+xTuV9ABfNXv4GgX1mhUi3gFgbFYNmCyLR+xtbgrsObRAbj9MY9qyhKV5953KOgY1K84Ldwa376jruibYIS7EyzY+uCED8jqvisA2QEydFWlAQ6RG8Sxje0wCfFhd6QLbMdTpl/+SVTnMdvDRESEzLStjPHOdJwY6fQ5wbXVEeCULtcSgij2P/1lzmkzEV8VlPXyu7JpVT/8BbWTXPROjfNfjdpVJVQx0gHdoYKIs4j+0wDEhHKM08+xIK7lKMNn8kvJ3Iy4QlTNTUV90gwu82gCJ4GVbmJH2B2d2S6V4L8DVzWhaP+VPIOz9hIRB5JUmsBO9dKdpTnBK0AbH9fGyhbg93qDyKaZss6B9k9jkJvIEVrapKdK5csE56Y2Nvtzqb1OBAAAANQGf72pCfwNerbBJ97efufOqjAZfXb8wEDuC9b+0EL1N3W+gJ6W4P2G34AJalS332jkVxf/HAAABpUGb80nhDomUwIZ//p4QLQbdZ9mpKP3qbpdaudMnwUjtYAOVG1ZhIGNNX0Lq40ChHeEhdubgY3ajSm2itNjfSSwmepxdcQp5/qY1DXBvxt2MvcgqcBckli8ey/Vks4Njp1vU5XHhIgth021ci13JrFbKVpWM3aSranxVay/s+HU122zbZi4vmDVpD4W4r5qSutm2yndQ5hquhWr7AGZ1Xz0qZJeJB1ZzE+SBPd4nR2pmdI4hjyic+eyNMvuHBmBI0xcLiRvINhbf5X/8S29VTpow7pJK4sQAjCUmduCu0sTnyPmkt0KjgaEHgYJ9weRG4OG5kWD786XbUJrytQDE5azDxM6D8CzrGgYOqNdnkY21BSnRupApnCqmi5t9R6BqX2a4OZfmj/ud5tzHP+KEwcNkpzavYSQ9Os0M5cXJ8tagCGTVXnqITkRQ370QyTJ01/5M8r8eVkw4U02iV5Vsr52OOwxwryyM3Ss0+2n3sQU2fXAPJDCbt7hNUEytcj6YCmLaZVEjx0M1eQ7bfMySYtidu1oO/aowz1ZtlSkmRyPt8x1bUqMAAABGQZ4RRRU8K/8Cr13KjsWVxU5xymUJ2Aihz7mZoSeHdMRppQAC4slD12PlRUiGX7pttQ4Ig6IcYyqoKyaEszWbloF4YikIQAAAAEUBnjJqQn8DYLAmeExKYm2fbAJhnfpNXDu1kWoOT0Ph/aOmC4w/RqPyGHGdHpZdeYSVP8K1UicTNmnj91YdKmMGTZXV52EAAAA5QZo1SahBaJlMFPDP/p4QLi+HbJMqAjeGyOtLZXmXSjU5Vki1C+GRZJuQ9+qfHBf4oSGpZo2E6lqZAAAAIQGeVGpCfwNerbBJz3diJw36BH0RM7SYhawxMDqeQ54JgQAAADxBmldJ4QpSZTBSwz/+nhAzlsld0q18CZvazJLu1msOC5S8MfyyYDK80/9+4/XqQq6w5ABfW/O/I256Gc0AAAA+AZ52akJ/A4VdSluhCzkCZIMXP6iW0ciMDGN6TWDreYyG2ACdvLfq+2HdcAgY62U5WXrEB2d08Z/zQoITQRgAAAGkQZp5SeEOiZTBRMM//p4QM5Y3fAPPvoPonRLVnAtDAnwOAFS1qzG9hCX/x9MQ1B2Zi8WekCkkvKL7DmPZB6tCJwxqRB5qysRRsDW3fBupM3zJO5X+3bJ8YGeGuQW3+CvzBH5IKeyArUjaH5t8svzSvUYLUCms7IJeDPSAdsYD6FbQSUjv8vmSmCBnMg1OvV6y+z0R/8X+9KBLuS+1NQoFgmnOJszAPKby8oPJuWt7jfyIOzkEvI68rAJvZ8iALUabs/rfct4/GYxoS/emc4hGzRzS0MUE69CTtF+eyolb7RKsxslL1YQ+qSLS9RpSKEwdxjKAIgIflsEA8uWHCTHTt4XbruaKuAAAAwB8YYcS9+Ftb91Hmdn7InqZlbKXbq2dRCta6TKT2hL700ARixhxgQ80JpifNq7B0EiqqiBRd8JT85ZCxWsv4OHR4MUcFxzUzbRzfuOjK1wuLxxBi92ACS48CUuYreaYrRZTKDlaalgCQzHfuv5A3YjALXWqyiD8k1/6C0a3TZf9UymmZvdNKCnbQhScOc1/x9D2a0zvtz1QI4XgAAAAOAGemGpCfwOHptoiNMk46tPYXgQ1tOeRWdcZYNxsXvcuDU6uOc81OygAWzZvfzdRsR2BqMY4wKIxAAAAYUGamknhDyZTAhv//qeEDudSrrmzmjBdWhDRIQAcPBJODcGjHOeMahlUAy2ll3Lw9kNz/XXezsn7T0alC9uA278eqmndNTCYRpWg9mMpEZrKHBUBjB+HuFb2fIrqpSHxyeAAAAFHQZq+SeEPJlMCGf/+nhA9UfGPq2dXfz4sAE/lLbfYKxTcSG5kOQpCgDhjjyc4S8+nnBgr4fLVIKQm8EMOLeORl9rI9tpZztvpQuPgUyyVtUfDD4Ug3GKms35wYRRoM8/IMlgvgid/y9qcQ4URAN9CUSS5eqRvUOkRsnq5LrFKwmqvAD0wFdbh+2mCjkapqLwSJDzscI0gLuz28QvjfSg+ysOpdYZL4rV6bSxo/SkyS8xBLligO+Nnc1kN5Zaae3yUL9gHdDN6PuLhU7rZSMJQgEkKoJ7Bk7OzRGcC9Pfb/Lcfo4ib27SDSd+gEHGCi9ybmFR94FzqCuEj9ZpFJIufOXDZ95rzFwPHvz5CS70vKZ6MR5Fpf/0sUdfuRpCv9eY+OzZNV4fbV96mKCH/TWnE+19MWb6F4XSE59hD+MtHXAJFYzoZPjy4AAAAW0Ge3EURPCv/Au6S14/Qy9a7Y7TXIweIBo1yVE1tVj8ZGm2wDKhKQJb5Cicy9kOEGE588ADgKyDMqN0sakRzfWOdcO7mqwCceVtRQnq9qpoWrRjJS/1f9pLaH9EAAAA/AZ77dEJ/A7Gc9njqSlmWbwVUaNlVb8KpzwfnQWABbx1PERE6maXkF41X30sYC+yPY9eomPS8wxY8lshtgrjhAAAAIQGe/WpCfwOuwWCTnu7kTg8NtHmFCOfdDVT2gDCbYPExYQAAAGRBmuFJqEFomUwIX//+jLBKfXBFSULRsGcgIyJT4eD9rx8azUnp8br8UEbYQ9on8wZcuGYAbq89o333xRahlE7CaQ6CMd1TydDNv3+TvvOAUPiczuC65/6IL0Dxz3NZnj7uOGyAAAAAQ0GfH0URLCv/AxVVHyTcB/1iKkQ5m43ve5/vwzb32Wsk4ycRtFkxM4ABEHnR2HYOGuAQMdcJ4JZMiIoKPEEcw1TQ0DYAAAA3AZ8gakJ/A9l/ZxuhDHw+RsTmIbccrfKEzvnIJMa2o4wM7FUjrgBbNm9/N1GxG+rB6foc0GQ6gQAAAjZBmyNJqEFsmUwUTC///oywSnrayTGpF7N1k+DPsPw9QBGgqDmL/0DoAhPIgP/Rii8Y445iJ4/qsiwu2T0sMiDji+HuKRWvJM/LuwUXsfqIvQx6gcSInw6Qelu+QcZQmPgc1K/Vvqh2pJcCu4MI83iyL9ozgGz9/HDut4tjPvxk9n31+IeaykafuOzckuwfM/kOYHuytMUt/uSRHuuMEt+VNOqozTtozzYxbyG0RU28RaC+pKfmARcmIqg8pi0Jkf6bUv3qvIqv9LFLlBXRI8dGoLRlqg50csdl0eyRGTiBV37Ry0vgNCQN0t0kkPnaFyzbcdnIEC6g3ELA84RUgPzuGZoNfLYBWTX2aaWCiWJLkPpoU+Az0t/UEisGFIqbh+ZXVf1XiuvLxymaSUSvDaj79Mbl3bwCAj63rCpW42wKvy/nMgT3fEzC0Ubzkd47zOiWljACLUx29lodFgTQyBjaE7bO4yuoV4UI+K2zrGm+wxipNPIyy83gpfySucxwHpqzwterVGshKHMXuM6byba+2GVfNG+h1QwR0LhCjZjnNuoHxEZ+MoloP6F3b4l+bNEe/AAuda7h3WXZO5Z3/dKjAR4Fjl8INOXaoE0zRq0mfAshwgnuNUJb871SI6KM5yVAH8oeDm7I1QwzgtVJzxY+TbVEe6ZwMYdZXfwUm8gO6uIEwVs1GMZM7ovnmt6ADR59Ylo+fQAo2W7PNLs//5HAow24GvfT9LhmJXCDcZXQom5NqFBkDAAAAEcBn0JqQn8D3CvbhRHazCMhhYTsQlfiQuPawcoyYGyPgBbv0pJ5ihDlFZ6mVtJT/JLxwWS2x3g/Yb1Gb/vtHIom1I34ABPqMAAAAgJBm0dJ4QpSZTAhX/44QRVW+LcRxikjN65WK1xD0dxbACw0QRpub9ynLyZ57fsdoofW5qjW+/ekg6E2Db/JllUnkTYIvxWfeJP9gRx1/8CDUw+uI40SOI/Zu1V4VtsSItBFDLmmoqSH4lcWs7S2H5EhwCv3JS69LL8oxVG99oRiSw6QFaaIvhMoSo7LZvg1qCgvC78nZXoXSHwYHXtkOjIamHrxH/A44MkzRXuYQeAm6tQkEOEMcIsdE2UxP/cLQeanjXciMIlxFEQABRaM7AUdzHkoVnIeyhJqblVW3S0lzG1ANaAqtQ3U4rSaxy9hdf+yqaQbxMLcJsaWGjc02GqbTAXxgq+Z7EmbmODqqCEP9CEj5HMQSPkl3I1lq5Gy+yd9A+RodeDmgkL1WLuoEJJEU6HxZ0oePMAt+t9N+qlElXdbTtso2CC3lmPpoS6WOinAq+3cl70PhA8OHu+Bq4wB4XMs2qx/DOSOXQ6n/lkEoLnZQNwRcBHNKifxY1km8XUg+mhFf6HeOwjQmN1NfABAObHcqGlrp5Wee8kCFbUNiYJraQCc6dsQcTP/ADVKHLMKeCxvYPvNcFi6xa1lTt5u9fkcuh02Huh46e/bwsbvqFgEAmkrFFj4WdRx/TGJ1UGhd1kpnue0U8U7XNfU0XGfpZub5wdtHvyr8yyIzmiwXBTBAAAAQ0GfZUU0TCv/Az0xuyO8oEhCeVPlVoOUbPJe3Sk5EP0OENSFgBKkxE3I+K0S8gwHBPAk7hwQKxaFbapoC2BfTDYmASsAAABDAZ+EdEJ/BA+yz5TUmXUqjgtUIiVlOo5ykQJVfLgkzPVzkACdspX8vmDMf8zR2hjcH7DkuAC6hTD8jbnoaB4UhjQ9gQAAAD0Bn4ZqQn8EC0aI5TYY+HygBiXLlE2avc6lWa1IECuhoATLTsKpiaOTTpnQQJoKXoVhCncdKM8SLO/QXdz/AAAATkGbikmoQWiZTAhP//3xAsw9Bwg7Q8oXIqmoqQBFobkAbC3UYZe2Xi+CG1xz6KEhXf+YncGRvg4IARhakt0l8UCGk+IzGvBfEqFl8Zt+gAAAACdBn6hFESwr/wNqcVgBHZoicOj7bRBsF6cML6sx1zCwc8UXgeNrCsEAAAAjAZ/JakJ/BErYGGBFSYNAFausnLRwypIsFpGIOUQBUBmw/JsAAAA+QZvLSahBbJlMCFf//jhBR7eWRmGBp/4hGOeIoSlDICE4b6a+Zb/5JWpOg5+3VC04iHK4vl6dSRwdRf+oPNEAAAHDQZvuSeEKUmUwIT/98QLMPQaEO0MXQ139Nr1Nwcdu0EAGfBCEwhyqnF2f4XJmdzTVb5foxIEy2hbKa3nJhUvuymMwkkaYIc4VPfi07JzLDpxFCKi3EjrbZUrWiOWLq7+eXPOm/JHdzM2bSkp+htI7+sdGgfI5kDMpNNQs8Vr7K1pqANWDkazKCrW8gyixfhJq5RkeZhQJauoqaEKGoKep/7ecTNQcQ5qi3EKSDHBfNm8ra75ECh9qI/dprk/VkUaMGcCeamO+Wsak96ZPfq/R9zgZK9u24pd0cbYz8jDgBugxMTE8Wb5+0D+LlQK6Y4vAO/cAPnbOiO5ja048wkwWgMnsRdN37gdMnAqmYsomIk6xHZVGuhL6mbGywotyhynNHz8GReVIOqOMkO4OaJB+t/kaRbJrpZRBzO73kiUy6ywAvd30kKNq8LJawuJ6noYf1kKWXsWBsXtWkVOWJkSnoJvvnZVKSK8iW/IZ3uNwADkbhyRgapwvsOdbERj8pwzZkV1s3hHlbhcF1hSPX7JgDRFKYOXPrj7nuMb0RJ5/2Nsa4t9spF3QgptBeNspe9jubLvPF6CUsabEL/No2qMvlgM2wQAAAChBngxFNEwn/wRKadU35mbKDLTywoAnyy1kZ92E4xtzUoUMVYnKSD7sAAAAJgGeLWpCfwRHb2CTnu7ENO4WdphNxaqlefEW+zWMhyKPXK5cDosQAAAAQ0GaL0moQWiZTAhP//3xAsxawzhrX1eqn0cVkY4dPqYNkTYi5B6kGAhbXkD0VAppRqP5P2SpEJxMXRaGPzfSo3ZR+s0AAAA0QZpQSeEKUmUwIV/+OEGG58zAypoIU06kAPDOwxAvPjHM3obuR+dKkZ8mvcr8OdlvbhRL+AAAAXpBmnNJ4Q6JlMCE//3xA0fFFUoOnhpAQNyADiVSlile3NEaaQv5ARRt0jkqtRGv6r/9nbVvpEfr1w9EifwyWTRbWRIPfM5A7KZm+WzcJLamvFGaIhWCZD8uXyl6Q21qiint9TWK+ZtaELvTIXOI/t068rXq0qC0XWSwnStR2DM3odXa+ID/l/AQuCzfqudIBTazOoBsIzRSEZqlUSiY6pSOsh7U7mkXwIaPm7d0rFjeORK/A6jXddoSDJC/zYYrLHdMKTfPV3o2pBnp0f9mtr0YN+B8AVs8eRLTdXF0vHXRoTemf4/ZI9CL9ny0JMbItxZ+8thdWKB7qoDsVoCAbdmWxYO+DXG1MZbgUChTwOqyIbWWsPDc6T9LEK7DXbJD/1JU/mSNH73qSm8jG4gV1maMTu5RAU8RZX3uHzH7BCMKlKh1Uv8CYNp/bzSMcT+aJQ0Wo1H1NGIa/JpS8wWZlytE5t2imiT7PkC2ekJKIveVEnbYhOXyB4/jXnEAAAA0QZ6RRRE8K/8DnGy1RmLeXqgpooB35autN/q26NTye5dSTjVlbqGXAXI0omZ25bZSDuPdIAAAACQBnrJqQn8EiiAM91q6xyaObjE12rsdPoSZiJGf03c80QB5WqEAAABNQZq0SahBaJlMCFf//jhBnanEBAyr5lTRDlPRPGrqXcsaaXBKqo55tzXZ/7+CJxgt/hXEdqzen309plpXBvWvjJNT6uX6+eWyv8u0GUcAAAA4QZrWSeEKUmUwURLCf/3xAswvND1S7md4ewR47hI5oyuEqq2C7C8TEJ6AIjAb39TGCrcNDNEpTOEAAAAjAZ71akJ/BEdrYIEe7sQ0nWvjXGHs8leNoHF9VkyC4qMI13UAAAC0QZr3SeEOiZTAhX/+OEFHuQxLU0vfRZQ48QwMAmZT/wYimkABdIR21eHUq8FIzNrtiAEKn9ZgZHFILef66xiUhGpzx/mNq3yoX/z28rDVXE2CMH/Cx8diiUxWhfAdFT9HzlbJhGmRhPgO4WIq3qjRHxXr3mXiQoigAG8mKHaOzWGqZNUhg96BK/HpWmcZBkOaghSy7otEfG6gmkZ+N3uYGaoTQo1jWRQRTxDkvHv3zyCogdqAAAABm0GbGUnhDyZTBRU8M//+nhBnQnOtGLEacwaF3RVFAWQYMfAskQBD4YN2GI48Ti+v4/1UZfxvtMht37oIfo9ehAVU/iAHFF7kRFAvrj44jWwTmin4RjyFbfQfroDfaSNQIIjrjVrbZxVMRpt4PstgODOnjNCJ1bUJm1nKK8HkqGMQIQH+T92k+yMNcymedVDE23KTbgn8yIsUqrQq0YAfGJ4fCu56gLyyjiQWfmCDNM+aizZmRcR1pnVkxQTmoRXgmQTGWqTOGw5HJUcXIj5FVHdy02AJUEwwAzSsLzvlmh6G9w/8+jBKzDgA+EJW41frj55Vg/iWicOamvOeJCrIsx1DwmXhYlHdy0eAyn2f/OiUV+lmAL+95AG0aCM6CMLdlSuq5mbwYdnSyPsglHLlBEJlVzYBt5d5/obVeTs+ox8z8w9bGV29rjA4o8B/dAh18CaQrshPjl/3rn7vh8TDMFCC2WiR3OwH08VlPg9H0eSlLeJ7LmkZLpAtI6mPTaDh6YkBB8WzQJj9iwjDUvFjmjYPoPuyB+zlORGleAAAADYBnzhqQn8ER2tggW7TOWXtscfxZ1ghE9bSTcksm6hVUuTwiQAHG2b383UbEVunjp+hzQYWEiMAAAYcZYiEAD///vdonwKbXmGqgOSVxSXbT4H/q2eSh9skkpSsqjCXnjJ9O/sEFcBkgt4SrBBZkEulv2AkkFV/1VPYLpMvzRcY1vqDXUtSBFODKVdQW3RffXyS/PcGH/SdTs0iefNv4Zqh1YTYMJ07EuYPkUjlIjPafD7XevMzy4sAnII9NM4wzJcDl+TsVbITRX9N9iXZQaVeHJXJbhZwYvhsHv7oECaUv4y07oXK/MZ3FjIsxviCjdYBy53h12ZpHRrh27IgXKBK+21eWiuVUxZxdtFORy1zSDFHPhlGwvnKQWEt5VzjpJXzB/IoOXHRW+Doji1+iPYxKcgmTzH5klyguEgnZMbb5D+029uzV5w3vbuZ8388jvsSAd+1hELhSYItys+ChkqqDBJAf3tCNPclJnqQth/dpmhJ6e3ed5WvBVQruPYrxprvY0Cy86kjGF5ECGHdoFliBM4w1F4UKesrDrvz6n5DQnTbuXmfkJxQ3uF5AJpwLRB845JIUm3eVfBfDb2px7HzHLJuIdiiORi+X/F6MG9apXFuo98GcbgD3hJGqQ7bulasp0RI9po9v4UPu3BgEPsGZSyU4WHSoa49PgFlHBwzzduyD1JunLCnIkMqOKRZqLspVUpzwQinEM03NiLMMtMqe/a5T9f9VXkNGn/6GUH7McFYVquuj3xSShKR5C4tvE0s/vPciSl3EUHVN9a3oFGheKhIOARmFMVj1bM3holVJZQSxFdjf/ZzTs7nfwIYFcyT69tohW17qla+i+eYtOOR0Sm8t1PO73fU2+FNCHM6xdechXny2LdtfxTFz2SmI8v7CssCY+G5b6APTxRpaFGmDuleFZdLpiRTzANMwew5gPFkxB/3hQjVQhCFbKxWvfd1CHwy6j/xlQTf4Vjza/EE4ldQAlmwPeTvV4f27gX1emc3jn/o5s6l25kjtutRxqiwJyHCdDUmgXgx+43WTYqzc07yFZN+4lF3ofWZNBmMeaJ8z8Bq5sGvnYOyUyV+vX96x7yPOw6MZ8rAKBEu/wY1/AVPFKQZk38NbOexpTgJmpIoPpVpxZ7q5KTEJmcWVdYFn4NBXWziWcqS7gC0nQPnGGqm1FILb5p+Y2ZyRvfaJmxZ3dSGAUgiyhege0U9VTaR6XbI5xKEekLkW7KxUTj/ahqHgc0vc/VZOVYOor25Iez40n442mixnE5LdugRlDTG+oo0DejQ1+zrHKzUZ1Jkip/svSX/m7n2xMAPDO4lQNt2w6TUoLnojLs2wVLHnPW6BZjo1ZGMUeBtyUwNSR4ugRNcPTJsLjDY2e5pBIgvD54BiJBhDulKrcIKCcLVF+Pl2EUzrkCn7jGYEate0yxBI3lt98jdLBcOluPKlgKM5J0dGtN8GAmQ+3nqctReRDyocjvv0mJIA8tSj2y1CqUlYZCNU/oB6pQDRF5euRB6CEn3DI91zJCDqbo7zcDxsIh7F0gFTUDg2gLEM4yKjQu+zY8Z+XCVMjDnX7Pmm7AkCQiMCT517iuc1OKaFVFw0TM7Kccwb3Ym4J/AEwPnQM4cbutv6rv3r9KBjzvese18oyevbLsLLKLKIxkAuPVPlJ4AhwEvF86bPNbWooLgGzS5yY71inTiq02vokqFbf72MQO3/GyY6dZu6vloDPYvnIpsNVZSkxmOui48vzkxhW7qF9Th5iRjWEprsSs1F0tZqUrN5zW71qtd5drV6UZJtx7jO6zi7uzjQ6jLsjjnaBI4j6f3UcL16RZL6dmCR5EWTt/vKdgOBtgVoUhqV92uzh7IseXlkigvYEjTuBGhQLpsucHVLZpcEAi5qTvwS8APKdO65QWsV/L8wXHjYUw9KbVWvE7dnXvnhZSHPXu0jTXUJd0v5oix+u7bvk1GJY3zYulS46XAXFBvp8fXbHqJHrsFPozJKYEjvceDaUlHywEixPfkALcqMwZrdrlU7mCCfvzV1JhPps5+znZ4Q/+/IAgBd2DWkMOFSJhB3lruxuDhhrvs1PSCA/lvavkAca9MHOVwegCSoQ7qD4/Z+qTymKaWQVPXws3kOFcKfIEfyGaRedKVoZVFbakfgKoZjLZ7ZwAqgBHzYAAAAEFBmiJsQ3/+p4QZAiMCSrCHeswJoZpoE3rpe2zW4VugKmnjPSjGLftx/CcJd7gAy7gmfm9HIpzWR8OkOwqzIWA4BQAAADABnkF5Cf8EC0Rg3Zta9aMRhUV/iBo8dxK7A48wvmUGTFsH7Dg+AC3hTD8jbnoYFnUAAAI4QZpFPCGTKYQz//6eEdVtLzkSrwAAG1XPPzO8jYbOXxOyHGqNqEvdkAFqWT6ZBO3VZlqujAeBMEmA/STyUy4SGIcjq1H+Kxt0MlSil7y2OOah8SNKi47xIzrT2dHdXKSHJCSYyJTslzRNBLqUdWShaC45Q2KarExkfF9LFAYKn0Gn2kRX0azsQxUTrpUmon1klTS4YERS/9mkwmPH51mpcdDqbz2P2o56l39CUkoJT2q+dj65DCDQ26RWz/Yc/Wxae1UJq7Rc7r9K5LO9uFnD1BYuDt8o+vcezhzF+2UBM8pk5d9ns4Opml6cveoZl+c4Njh7yFN07waQTaxelKWJetkgCnnCijm3+5Nd37h4sOGObAYQHage1/QF+at96u3MGz2rJ1hODjyNvucJe3J8CKPtCaNDwa1IR7guFC0dMAfgvfYx4gaeIn6lh1Gx6z6BjhNsEW217faciLHdeWLWM8+OjjvmzaRHX4q+5SEN8ffWKxBx96+O7UG4S9AMyK8ky9zDdCiVFkfsjl3U+2hHvLCLB1T2odfk27EA4InZKWlFubl/xEhqYAUC2vrz75y7NGkp7X0pA58sq7WyZeebEbPXSypZicKhjAVMUWplp5Bxp3STn8Eui+J1WFdx8SOYtI8pT39Q2WoWwzdVYNaEUxNooZUQdt7OexjRGVJjB6NHqC2nLPxPN9ndnA02nQUzdYkUOPAttPKoNIKcV5EUc/fdd7yGk04tCJzqWnV4JbFTs8TQR1cbwQAAADxBnmNqU8K/BRDkre3Wn1pXCZXjJ1OGxLvA4wTKRbeyOAEqTETcj4rRLyDAcE8CTuHBArCYrpf45t+3vq0AAABiAZ6EakJ/BjSMXjHxSy+Suu05ptnhvtF5GhKyE4Uo2bNQAdIULc8h2bKCSdslCLm6cJxkDi8uYpaWrk8u/X7fl+ATpr1nVY/C+3vrPPqvW0G+oNTUTNUPVin1iKT36OKI28gAAACSQZqHSahBaJlMFPDP/p4QRYpa8cUUYHGtwVYATswfifLPtQ7+L1UEmE2hs5YrjfKK3/nn/xKzoN5T7IizqWAMD3AME++HxqEnDDaKPYmJXL5n/1SyxjG6ZVqK4DFhQ+vQDhZjNitdQt2OokSRcVAtaW/ADFYstxf4okwXl1O15wnwthHBBuDumS8ZqgDhjzEW24AAAAApAZ6makJ/A9mdYIEe7uSEWj5WAUmpQkZlhtwKhVy08ALXyYRtXlskOkEAAABSQZqpSeEKUmUwUsM//p4QRYpa8cUUYHGtwBDGAPGuwvr51jf6a7NiRmABxt8s0srawidtTkkBAMyjmh3gGHy5kPMouR2+gvkrAc2EAXn+XNWaKAAAAB8BnshqQn8D2Z1ggR7u5E22FBM90BMUggCSIsk7w6fTAAAAQEGayknhDomUwIb//qeEFJDPkkmjF700RlmyqOEtrNaNeRKiLqb/a7ZMIpBk/2pwmLA598sylxOzHvgTakU1o8UAAAEuQZruSeEPJlMCGf/+nhBFjPV/XIm8NCPUfvxp/0XSFMwvsFAw4SUQRJ6ud2UQigAK+9YZB+uIZ9KIGDmQTHz4XfETWGVdZ33BidZNEVUo7g2hEngiL7In9UxqrSvO2G5LyxEhGPwCsNs6D1b3tscNu9fkRdemIw6h+wY/H9zaTUeIhRZx5Bp09Y3aJQvtpN8zOOuj/B3lJvBgLlDI2toi32ykRujXU4wAEwAS+rWkA3QLtZmYA7fxG3cu5iHwCdVZceEh5kR59N1gAc85LFw9F/7G/pWwOrUfv1qx5iiBdgVi9ggvr2SHqlM487w7Eh05FjMhPIGBGHTSH3S6ryV/6hbNZYEeJZwkC1A4+5T4N+CV49+ELMLeqWgrQvoccCIBn0Na1Y1Dxj/z3YIliMgAAAA2QZ8MRRE8K/8DFAbDTOaZuIHlbKXc+pVzzmxtlygMHVHYz3CSpxNoJbXDVUD3zTUEOrVI0PxNAAAAJwGfK3RCfwPY669HCQqoBhkXf2g4cfmVvYLC8J/ziCtKGHUVnecKJwAAACIBny1qQn8Drr1ggR7u5JpW+sJtweSnMvEfro4KyYSM7FOgAAAATEGbL0moQWiZTAhn//6eEDuLhaUK1FiuUDQKH6uxjyVex0scPAepj37IAH83uwkYXZnMhd197bsV51tbTh+9PAeQJBYTZfCk4gLjtmEAAABBQZtQSeEKUmUwIZ/+nhA7i4WlCtRYqvMPhWqshT4Jb4XhFQt5TaLQVfGCoQMe1h1O8cemNArbd8mFWRnQH5cVnoAAAAE6QZtzSeEOiZTAhf/+jLBC/v3ngWRs1AgORWtzXllMB2OO0nlf7IggWfb7FvwC1nHXvU7wf/RsNARQl/UTSdBOyxf+wnIExYqeYztbnmmkG4AHjDvlhfo3/dNNHvTIlngoAM6CvuhnlCnGXexh5AwIxaBUQbt+EouXrzXkpicbUwhmhNRQzF/IP3vBSu2dknnM3JzDkOq/nNqpXAfabSSPqOMwVpmTezvb5I18WSukP1hnziRLG6tOXIwqPgBodWC3mlHb3OoYKGmtZnTrrjlXDOgNZhdXFgEIy3g2sOmKq0pd2CA8//7G71p0NH3b4YIxMk+UY8zgh3p0jHzIxh4EbqQ82qDoh2zwiyR1X8M0WcV8HpJpjrtMEg2vDFlN0mEzGTdJvw2waWdQ/jmk/N9Kv9nacVJzrBWfcGcAAAAzQZ+RRRE8K/8C7T+geBq+BG14oThvi/uvRwQnvC7QqGDOB2FU/xclqACSXI/cAiRDpQpBAAAAPQGfsmpCfwOvdmxzcIEAvTpTX/YgoPk5LcgW4YUwBC+83gBO3lv1fbDuuAQMdbKcQwf5FBR3aSBZJcSqMqAAAAEwQZu1SahBaJlMFPCf/fEBi/6aI9s22lXP8qUJLO/WVKVT6MzD+I7nfRjGXFdyemZeJrnvZY8wnKBdYraYr6hTem0MQZnHLV8rH9Tt6VT6Ht+vB7acylu0STqxCa861CjrlW6z5cPfcT93KyYx9wRizr0yC/VTugScSUzh97BOIkbsGTS/EI4vgGN0cHR0QyOPQjBXwASApUXvMHJ70g5l9IAnl9vm8VxfgdvUkMl/oBZ7f2uCSJYCCaz3Gl/mPpa46jiDKfYPhO7NcRqQSy7RvI4+EIUW4LiTq2YtyR3O1tQ/GkiCt9BmcmS8WT9/J0qnSrTHhF3cd0eYW1vMhsGmzn4+BALz9EHlazYqiuxSb4qyF1MFqgHKeWkYRGDuEJoizXuZBS6a2eh9jpjn2SgBKAAAADIBn9RqQn8DhVu/V4z2GD5T7a6GMkD7zdSGyHlv4jap5rc2bg/YcHwAW8KYfkbc9ACk4QAAAFxBm9ZJ4QpSZTAhP/3xAZNnUZFfA6M/ixjY4ZPHrXAv2gAVfLm9jV8q01QSSBQFZxijlUXTdoGbrdwxfp1MsqKkQy2CnDWRAzfEyZFeMUsWhvPuOisl7wy50X9DQAAAAFdBm/dJ4Q6JlMCE//3xAV0qWHfZFjULyPb12YAypkQpAe9/uaGopF8hAzeUcOa4LutnVTxEPvhZG2PSyljOdnlfBiIm04+8r1kjy51y3uRdLVExBEpnaUEAAABGQZoYSeEPJlMCF//+jLAuzBSlDsgGZZyj79PHq9YaU2O9FPRLz0yjBL5gH5CwyevCNehRxE5Yr9NXKILiHUt8HZ22WYw7igAAAWZBmjpJ4Q8mUwURPCf//fEBZktPBYj+/a4CM1vPlwYeL5jZZESyBzppj/dl5c3etPNudZuEJ0yDI7YQJZiJSnk9xCfID+ofxxiCCdrvLwRHb23FGnXT9qyA8or+omUJN0MiMLDqQ7EJ/wiKowwCWpJOVhPzvqDvPQqZccu1ako93WqRgknumDTKA+HTS9G672kjKzh40r1QKu/RCdhrpIUw2cvJ3MvRYlcHn/99t7YlzaZBiYndyuBlTh09TwAMUPZdwOmPm6zeI0zqUM63mMDv8peZDtomD3ItjbuQUy2Jebs6MB+94fyqlsws8u57MPVjf9J88AWpaqdL4PXRe0TpqGJ+hrvU0su69TX0LMHRfYCp3Cc1OV9+HuO18fPZTH7g7C6SrYIAh65ZJ1CMmpM93qxSpEbgJd5uqFsLyL/eGZclaXFSsgQyI54IBH1aYWp7i/pdyC+BHHPOeEzwPYvC71g2Co87AAAAJwGeWWpCfwNgbaN7TwoeHVqLzh7jqHnBxSY01vFqdgnZhdOcvT5UWQAAAF1BmltJ4Q8mUwIT//3xAV8z4HKAjt+Z7N/e7oXUIGd2PyJvXVSVADRDU8YVAIOeTRfPmUiaOR5gbqUuwph/b1GxHT5wu6gfw7anaVD7SpXFdUF2EJ2fAbkw2VW9aRkAAABIQZp8SeEPJlMCFf/+OECKAEPgEvYhtg4Kx1CMliyjh5rcSaYupAXJPB+w4MAAfzaY/faORSoarNlnyneY7YDc6+wQXdPkdRQFAAABOkGanknhDyZTBRE8J//98QE02OniGMSC6QCS7oQkAF0FKqszLNWI/W11QpChU103Z2sCQfnPN0u6f7Og/iIGDcOCSL3bhB6XCSETaGBqfS+xMZ54QhrqG4EfPE/c1GNHITaZ/fzWRALbjUd/V6aHYcWSRgK2GNlt01x9sbOFWaZwWJRCUu/EC/zZITEAhfC/LK4UYpmRLku6428BM8tN9ArYvb5W5nLMsJTLn1jstFZv5txMphaKhCBKc5yCKDt5EUFSI4QS52wfnySKyLESENEtpcAXuPPxBj7HiklSFGeflKruMRezTadkypnefyqPQLL2uI5js2xTlySj0OIOzp66WGL9vzUuhyGCrQEyETMpNVQ6y/3uKoeC/CKfehXmZJI0bpGzBFAXRDvuakVnKMIgWdJoHqzGGIjYAAAANQGevWpCfwM+pVqccmPK0joDYrbl7dHQJ5CbsIczpndsB42YpHsu4P2HB2AFvCmH5G3POvKzAAABvUGav0nhDyZTAhX//jhAHXmyLKkAcUAlRNW+G+H64AJpxso8+9k6pmvMjuAtRwugBi+4qlzeTLmmoiBPAWvXHxjPizfzuhIKmDRwA4IbI0myjfNNyFoCv88MxfHM2y+h9qeW26Cgb6ahUkP1shch5YTC58a/h2SuPDRe+F1HGapVa/tH4oZ0mdZ3j8Q2umz5kvTthRH/1nDSgAessc7+7qCvebAutsRjvX9Ul1IPaon9yb4MDhk3B9V+S+MFzjV7bd4RmGH61o57KBmqi6wWCuRc3nErvH46XT5D7DN+MDc3ceF/66cSzfFkcSDNvN4Ct4ITClwaUqP4uuWq2StibER5ij0JK+/l05mglw2mchNC14tYZI4Go4cUVRH7FPvybsWhRj9rWkfYiR8gKpUBHls3mtHbBarCQJv/gAOceq9ey9dr2CVR11ZTEzTXol1O0jZ3FevfonXazuD4Xic4YrycMYOKvWc4OIHcx/BLMMoQVHEdqHZw37ioiKezngu31+vYYSgNhyblmDNWK8as6upiILdamVvTzl+WdiaEbP/84Ssui8J1QcX324HCCh6TA8QpfQegFmxCsR3uPEMAAAB8QZrBSeEPJlMFETwr//44QIoAQ9/uORZOA4CinrOe0O/4nX9C7VcS6YLmx0zhYvyFhk9oFsrj77fE0OINWoIW+Av/IE2/jILcBG2VysdyJwlguX59P3pXlq06yI7ptHzA//fZLb80XxL624z7UC2EQJTp/BTzSgdO048LcQAAAD8BnuBqQn8DPZMDHLHyI8K4zeAIGV1SnHO0xGoCcANtHgSymWVFSIZfstGMLrCDohxjbPiUiQviq4dDKxQYEYAAAAA8QZrjSeEPJlMFPCv//jhAifjfsf2H/bS+meSdmT8zIMQvQVCmFF4NJ/2rrqnvksggrYBbgwCngdib79N1AAAAKQGfAmpCfwM/zSZBulxaerie8ZMIzx8laELuwzR6EusBzeBQ08LuEdZhAAABokGbBknhDyZTAhn//p4QLj1JcWUfkfct4Ee/8zc/6bp9GkulbvNIARlb3dVUTrfci4PJgAjvQEss+wg8NhwwVnPIDT/QcOfd6xDvRx0VNN7wgC4j1VmCuRVPfjpYI4eDtHnL3zU4cO4dgMjOkw4XLMbtzJq4X3be9XB4h9bRpHnRDwQOePctFfjTpV3h0NMfRKxnjM6clcbh+m3k8YccZdI+jbaU7R2Bt6ViINgwYT7SvB4v4D3rGihTMn1iFjG884mpsvNHyNskJ7fvx2CJsZlwc/zEX6hgF69ttKoprGgZd47SZ9fc1MkcXFELSTKHBoVe750o/eJSdfGmg96JZpoKbtNVD2nfBLTWDyZBZjBVPtX0AFvjNP5xNmaFtbDxyvHuKfuOwYCWTJusPp88CcQzLMCBT08SjVjk90zWWzlx9L4j5hTo9JVwTINBx+i/xYwFSGOYTaqpt3OoGqL3uuiMC+wb5L2Y967m6VNWBlSrGk+7QkNtaKEAtJrsjRoSjHOT+L1YUyTrW3YkqFRbJgIZPvyTn7wKWZKo1Hbk6SvW1aEAAABIQZ8kRRE8K/8Cr1zw/S8YmimeufwqvrPvNdvT3nZyTh29hAyj0XofDO5YpJQAhTzo7DsHDXAIGOuE76QP8igo8QSVkkuJVEnAAAAANwGfRWpCfwNgrtkvaCfdZpZ72M8mPiMqKN8uKk4LgTADM/CPcUQVQpUt/N1GxFlebaF6HNBhF4AAAABEQZtHSahBaJlMCGf//p4QLj0TJ/tZ8ktGnwihhEXoL5iDt3s5elW88B1SGYfuKesbe/DT9NaELt+d+Rtz0N6wJWpAWDkAAAGNQZtpSeEKUmUwURLC//6MsC7I8tBhRks6lckuaDb8AJfBHaEyWOVBMN/gklqxHFNxmepgJYwTkVZsiQZ5Hs3OdMJwzgNpMAYxVyhZ+Nw+U5E0vp6Q+hXYswT4CmR3+3KlAyH8mwX8VsBnBuLLhVAUt2MyRbQ/9XbqElxj39UmoPfkGSKuzLvz0qtzmv8KQVFmuamW+bjpLh+zx8+EX2dipHlqTii0vh1aYQNZRuGpP4BBG8qQ1/s4A/yHscz826agqfMuhYx/mVGGnVYE9mc99fEIF+EAsYRZsTz/a3hCbvY7YHeRB7Hd7J0NYvQ3d7fIsS3S0gHjN3f/6bK+J3soVDVur8szU48kmQh3jKWO1VDajDPBK1eYwjtsEJoPLNUmvROnBBCA5Lktp8V9Q6+BmRwdTOdwGO58ADwkDFYRyKsW4Y6Ym9hRwvQexQYh5C5JUQXgJLOQqTTN3cYnKnVLvKIKHaTdfNHl3+3FxiSQXrfChHEEoVU+xpCaPsSAQmmyGFHNkvVmkggWfDwq3wAAADgBn4hqQn8DXq2wSc93YicIlnfBBt0g0xuC0kPUHiKjufUIdQAksPFGfzqYfkbc9D0uJJFHzxX5IAAAAPpBm4pJ4Q6JlMCF//6MsXjkto2eAN8kXE6qtUCIPq/K9w+Df5oRJURZ3qT5b8VoK2klRQ2cVBWyNycp/0L+hyve584p7834MZGSuiDcTdfMeeCd2h3wLKy2uDaVPnBwqVfLu78W2vWi/XT6Myppn4xVrN6xLk6scT3M/f61cglrEhFBtQtsSRUa5DKzFYpsX1az/UJtZw4OD824t9HXC38OUd0w01CXfSSO8i6yraEXAWMC8MTuQjmRc6ohLI9pl3PvuD7NElfLWuV8CFesTHn9Ed4vdfX6Q6nRLK1O1oLQAvEblnO9xk4mYXschJ+wMMWTQNUBe5+AgdbxAAAAnEGbq0nhDyZTAhn//p4QM95cAsv/XRAmxYwNlbPl3rxJV44Jowl+PUMUxQ+5Mzdwiv8EJB97Cn7AZL5A+jjv/+cuVhlSx/1SNnIbJEUT66hl43PaGPD/zHhcnJg3d4qui6T8R4ijQm51gec1kykCtjKHDlyxVr0RL8EdrUABWlPuhgX3RTUNflr8rLmCn4EE8MACyn797E+sPSw0+wAAAENBm8xJ4Q8mUwIZ//6eEDOYFP7q+KlEgO64ACH9O36jtqfSVtIS3hQJh5sJ8NZAysUnzrLhGVlLig6dS8tRTJTOfbfBAAAAXUGb7UnhDyZTAhn//p4QNSM3UFrG/vOXYuoncwZaISwmM5GwX/QJyuXAEdMGTAmVizlf1qP99HYNSYnH3nIeJIjAATsIxyb4YlCfVGM4qPMqRJH4lf8vBCtncHqxSQAAAGpBmg9J4Q8mUwURPDP//p4QM5VddUTRYxeDmm0bYajgA3UmXhdMM/RIXEssSqaqsS+Lk/P4EJkMxa4GvdpUr0GKS+QOkSF/+6zzSzbPjGEXVwFH11BITahOA9ejiFkLbJltVHDT+XEV0dzAAAAAJQGeLmpCfwOFewCTlwdB8oFMA+fZKHgGp1CbwiYU/5/4kHwWb8EAAABHQZowSeEPJlMCGf/+nhAzmBT+6vipRIG2w3RgCHX+4B4D92VMD1EEOCzp1KHooF2nubTgLNGMGs7ZrRdUQ5n+F6N0NdYequAAAAFMQZpSSeEPJlMFETw3//6nhBFs/Qtz/sS/tFOMba8aaniggl7ae0s3Jw2SaxNjUUm52+SyvxgNESyOCP0lS7gBMQsQKRW9Elbq35Gucj8BIGkRcEgnF7pwx3yElYzQKBY0syoIiJlaDgezof/U+ZXmyqjU6U8HKw1vXH0P40ju5mCIyrqmpUmKEm5hhHKG45afK6UlBCxONaWC+B4AdMXMXzQbI2DNmqJgDvZvUPGorhmGDmbfLYe+uLJxwmE2HL8a+DPntnPAT1ApHnp/WM8z09JPNpq+VWqcGVi4JBnOSfdXKMhS7d0O6/lNMhSDAy9QatDFqaOeAEj1X8vw5q0oWZc2scvYpb4h6RX+bAMXSEeM4yaF0pjKkjey2LZFd0dLABpJ4RhpCpikEz8qABDnxCl0BRg5vmSdlmPi+AVePx5cUAWTK0vzFLSh5oEAAABZAZ5xakJ/A4V7AJNVGDi55olAngaVPXqJfjFQBQZSdtPu62TXH7YRav1zsrXbjmD8VJEeJjj9lE21h8142FFigVEyJLWV1czCMzo6YA1QgUVrYqVYa6v5AUEAAABVQZp1SeEPJlMCGf/+nhA9UbfXdM7KyE4aXqtYBFJhfvV2x4tiUtfiVHoALpJzFgF3Njy9SlR34TbFRmKQou4uQEqKRZT6sedJ8NlDKqVHzCZ4t8tIMAAAACZBnpNFETwr/wLtO/VZFL1yTAEwID2cnN9ZpMinqVFOugkvEhiaBAAAAFMBnrRqQn8DrsFgk+9vYfKAFQj7SSMaZ4Q+cz9F5GmUwtEARHz2gv0ZNDQ4yxRwp11vRIckrWS8ajkhEZhq8au7g0kBs1CpKT+c5axxuEM1uayyYQAAAEdBmrZJqEFomUwIb//+p4QUl78zOa0vMxuubOEjJ+0nzjihFIXTPF/ng6gaRYJO/KZWe+9bWRhE5JvLif0iKOFDr3aPhtcsxgAAAT5BmtpJ4QpSZTAhn/6eEEedH/e/LHMhlMIBmbX/BiI1XOZt2KM8qLCcekcc5rUwIA54PLJ0LHO4d3f7aEO5uVxFqw1MH/9vOxjb73iugRGFD+5D6fWPa6AcZxFlspfvCnP5/2QpgP0FyDtEEwWpWoOtygq8r3FKzLEh2xlvfL4fsxj4lD7NnK3AKvWIagw+Aww/AwOj2Rxu382wRw09QU7Zib/huQGGQ37gtubrkhy7jJPEy0xcmTc62IVxDY6ri7CoVuAOJLeX8/eg3q34jr5IcrQBOrFFRywemC0CjRhXsNFR/DF8EGyMdfJfDgeTiQUSOng0KI9Czde6lHz40RD9d4FUY0h3XTq0rvE03TlyGs6haTEXHgGeYgHqQnFWsGredyBBgxXzLGvjGz43PSt3wjBr0JLA4QFvUoppCqEAAABEQZ74RTRMK/8DFZFVpG0yeDTnsK9re1EmbmwBp/ZLCv9bApST+AdawAiDzo7DsHDXAIGOuE76QP8igo8QSVkkuJVGtUMAAABtAZ8XdEJ/A64Nr03JMclMz9VctblNVIgMXKoFNofgBZMuS7v5av4JTyecIQvVA5oW4dUiLHvUbaHX8jx+rV1ENqzkIUUtnKngsX64GIGK9uPlcIyyPQTCfj9ecXhnGjVknpIabYYLYKZx109IuQAAADEBnxlqQn8D3CvXs84KAXPqu31/5O6gLwtVj+85k6AsAC2bN7+bqNiOoytoXoc0GNsxAAAA4UGbHUmoQWiZTAhf//6MsEylHTOrcpGPuyAWky0T4x/lfpIv5g4Q8RhJbHytGQdXwmiJbuWn69aAMrMu+wmrYFMTpBqX+4T+lWkJFjbJo6a2tLEP+vEO7Wm5ONggXPCipxXaES+XJi8eUK4BR6X65cN1ULSqr8xKDd38XRi7Nmj3TXPXj82Y8Mz8CyJKnIijhGz71oitsuDODn5RFmDiNGZ7hNg55vvNeJWqHDIlDZByJYu/NNvt3j72752GBqF9Jd9fm1B1BvgORUZsP7UxFUTVVczgQAXrai9dEg8+4BLYiQAAADZBnztFESwr/wMVVR8k3AgI56YuxDWjPVyOOqsHidBQuhOVG+O9ysuD9hwdgBNW0x++0cijBicAAAAwAZ9cakJ/A9wr24UR2swjIYlkN7sD+YvK1wmUbniEhjgBbNm9/N1GxIdEkpIo+SqAAAAASkGbXkmoQWyZTAhf//6MsEylcZZmLLaTuj1My1Jzw6pMvLsYvAA/nqUJkSzGfoRC40ZVgW7wzwKREmT1xT5HeEUXUmVIG4MXERygAAAA20GbYUnhClJlMCE//fECZ/xURwfoBb9QDFkDY/vgpx+dLCbzV3k515b9ZJdmCa8ZS9AnHfzepc9XxdVIPyA94WSA/KkVm3MPfumcLuIx674FMvTZcGE0jnYmejR+bkN5KBR5isOL8KKxdxTNA6xdmI/496ZvHLq6Q44xJG5LU76Wf6FSMrVe58MFpf6OygnFh6c7yCx0TckqapuHf6VldEnelrYl0s2MHE0D9+fljgA7tX8iqDwgSXK3yInvvBXA6xgYzGclm+xHl/pd8ZdfSakTRtvVCd90pMQTKQAAAD9Bn59FNEwn/wP0g683dA47JI8yAN5nM1hlnuVsWcbS8193Bm6uAA4NOwzcM9nXZQEqBtL6GDP1LuoqhBOwy+8AAAA8AZ+gakJ/BAtvYJPvb2HyaIf/NsWg/hftkW1wXe5gA4Od+sj74WRtj0spYznZ5XwYiFEbUKsuUrTT0bEwAAAASkGbokmoQWiZTAhX//44QRVdekj2eKYJCaoqzdwNjVQAJxCx++0ciru1q0n16jXcaheAGYbx+7LZ2JeuQiz4ao34j7wiaSqRlXjBAAABFEGbxEnhClJlMFESwr/+OEEVTjHhwIkh/kTSEQXVWvzh8z5L1T3jRKpwBGmQekBgCTzS+S9xJR9ny7MML+lNuv8ccpIsS4P7kfCBytYtmG6QlJWachF67RgOn301h5ec3HAab8EB7pRUUoQA7oJn/ZI8RrLc4bwBfojWxs4VeALUQuC5u4oDdZVwwIQhVEsQuup8dt/+3jvy74Qd2re3j7mo3uStNXhT/WXeVct4xvjHrKrFCg0PIxWMZ97uEQ8yllSxr403DjIDhRLUbFYTNm8JG+GRPGri7GqWXaXMHSECPFgfxtcjDacvbWajQX44JDSlai2Ykd4PR1MNEApgC9feL3p5y5/LzzLEnpRTyKy9GF1ikQAAACIBn+NqQn8EC29gk57u5E3u/aKc1FgRNKSm7uvVkczl09BBAAABIEGb6EnhDomUwIV//jhBFV16SVxm/uD7urwbWulfAFtZI7SEPQNHA1L9tsenm+ignYTe0zZ8GBFPToJcLZ2v6hFGLF5Hyk82eTSEXuAgMKaAq4ep3eRIqOMwpGXJHWkd4wlj681pT/+wBkJJlaeBsCn3aKxHqa2FxTGYwUK/Ewdt9SmZazzrnohgApuHExlMw4X8jOAqoick+uy9sCmrcIhCc7OMxW2ax6//r1TNC1bgBlDHrwUKqBhub0vDFJo8t5IxNQNSeD03dDsYCKMsoqk2YZ4S5neYCgxUakJC+JWcAYE0g3N+8hJ4DajRGef8fsMbbvDewOohk361IdAI4mAhaz92LQbMs35ctOnmpLrPIyfvqFeof2CLd/tiw5CnkAAAAHpBngZFFTwr/wM/klRC3D3gBuaiqS0TvYmeJwVJpqcNtaGb3tCxt1eRGfP4mK1sp+MQMevqO+ybDbxUoBhrYKuR9yR2C2MbuKxFbd7RpXUflr+ayPMdVrot6wmXHFc+8TuzHP/RtIdpMj6uJ3R1BHg/YcEVaavyhjNK8gAAAEABniV0Qn8Ct6+l7ySFvFv9ErqktbiGpzz5CPyegMPdetUvykgBO3lv1fbDuuAQMdbKcQwf5FBR3aSBZJcSqLeBAAAAOwGeJ2pCfwQO2szwYPqrPUyBfMt4XdfAE7kQhHnqYFaAn7J3NNVBtZQQW/JZ4NCm3/m6wOZSLwkijseQAAABwUGaKkmoQWiZTBTwn/3xAswvBwgw48oOvqySALmcwz8NQ6Ax6QnulTBwE0O+3QOdY8u36eztTWXbJVrLbz3wPtCXdYTMoenz0ZyjRcIOf1z/1hjnHr+Dc8lHfZahBa8HIduZbowelAQ6LnGOv64FF8zmvkTZaRwWeFmf93SZ6brj2D89xPo+hZUZWSHz6ss/ktvEFmiEdkBFXSsEfeU82oJoSOotyQ5rc7kEkEuFVleez3wt8Q/Rx5nZyh6R1LXawq+abefgg5OGMMLDV2gwxeGVToo62zrY7Nb6oOnNqtZhvhRkz31Zn/OWddOkyYqGpPASOflv4/Z0W7g9Bgoz6x1bqlNlnLhyYciMhI3iXSItU6uvQag8gwQ8DuGJtNgALVA4Jdco/yQmsqKXDVvcyCks+L6GGSYhajktLdc3xwTU1YJ3n34kUk1rGzmIhrAu0qvINolEr0Z05U+7/dvA7FGQT2Lzggs1TG3PF+hLgh28fMUfwSDKmZOzztvpsnMkWF3nyYjHB/bQ9OxL/FE4xCQSdM/D6soP2rBbr1CjrCh7Jr2egCcyXdiNA8RKq1e3lkD8ZTgw4qPThdwIJnR04eSAAAAANQGeSWpCfwRKebREaZJvVaWxyAcysbRj1JkTjDXiBarwkMXxJrSADjbN7+bqNiQr4YJIo+knAAAAVkGaS0nhClJlMCE//fECzFrDOGtfV6i8DA0RGUASOeuqVb+CMCRLPY6OjhkQhLD6giXkGA3Kck6n0RbkUPemY/Sxv7usrtjRlLLV68f6bparsYPWdcZ0AAAAT0GabEnhDomUwIV//jhBR7eWRmGBp/4ob7zcFZ+YWhDllVaYjR+YALiyUPXY+VFSIZfum21DgiDohxjNCsEQ/v+T9IQFUHL7JCTud36m/sEAAAGaQZqPSeEPJlMCFf/+OEGG/jQDEfN49kcN9GzmSfnRkdZeZANFj5mruBGXcX6QwcTM5z4pJgX0vkeRZ7kryea/vQZYdokl203DyH7hO1oaMs1SX24WOFqekRf+yTTETXVpJ3JRCia9hrvx5bohoLSFRVWJw5gqgnkoft/dNHv/7DVHSm0uoJQ+8FY68f70CagZcj9C7rlxEHEXMB3GHFKFIDZ9mRzJHEF38c8kIbBczYlI3t3alxUWQdmykjF9S3zD4unTD5tRhj9g8Lp3k8b3L0SiSxFcR/VIevmzf0DTt1VgYZFpYXvBa+Lx+22UZxb8aCXYFBeb8/q6yHkAfhpAgweDPh4gLEtDO/gHekPmf8RYzKhYlhNXuH42GjnWbUpl8ax8elVjOcDzzIPwwM/E//CNMd0/GVVDNjfSgLgHt2hJjpzlMIQE2X9gGMR8yjG5wgx5otaT1VDzmFLtoJazZt/cRTblLaQ8D5crHqAGxlHDM/GO/xIp3K5jkKfP+nihrxpFJsdB1tOV0QsuQRNzVdNtohZ/Bc2/fqkAAABHQZ6tRRE8K/8DnRahBJktNwnccRMXiHHb9vDSfeYiY0sAIPCx++I+MXc2AN/ANPQinveZkQN2RrGQW2ofdxa2GQpukuQYNCAAAAAnAZ7OakJ/BIogBXvjIY+cM4QJgvm9Ixzv+IzSxrnSSPeMpFYOgmiBAAAAWUGa0kmoQWiZTAhX//44QYcaQY/uues6dYyf5nh6/rcIn5LrZYAJDhevv0EQPgcVLi+D6RnAgAnbaY/faORTo35Ivz4sfe5jXErRxUCZI/wwuuQzxT66FGZkAAAAJkGe8EURLCv/A5m3EbHZfVYLZRkadNemHo4IybRS+1h4zSrozAUxAAAANQGfEWpCfwSLwG1atVaolImBLf4z3ViuB6SptKpGIIFEDOAAWzZvfzdRsRt0gdoXoc0GMjnhAAABu0GbFUmoQWyZTAhP//3xA3JP+CXk4j991Kvm9BH5pzGrIg1WQIBAil033CPi1yf7vDtgAJ71L/VYexdWcJuqncjbMwgXpSlwiPgYdWs5OAiK7fj3yd57W6ObmMkAidvZz+2EgeDvb0A+DRtSVtsHZeyXgKMR9RaeiGRfieZHuDr5ICfzl5MwURy11kD5BwRDyhOwt9LOm4JTiE/gIdPH3KP+mMzuMnloD50/kRqPucHgOFZgwv8ilRwCYHjXYz4hvzC61aviMrPN/LQ/eCyEDzmBdDODm44Vi5NmsU9sWuLBnaUc29tn1375OKHNE2H5o/oZEY/SF98e+X6VgXNUfR/PNQiNxR0XBJS1mD2ZUJMNdGVNqO2Ue7s31diW2e0g/kcCM0RbWLUKPorgsRB0PeMhl7PXfIjCJ38/3GhM/jzdsOei7AOmfEM7TaYDBEvcJKojnX3Pti+/HQdilXmy50PtSli7Qd2nb+/ERQUSmfuOJDW4g/IgBhB2Yn1XSPkOUzSG4SFihGRQNeTMSx4LZyeHIuZ0vC7U0/ZQWJAm5o7KcvkJDLrwawN1zhBvnaatVDY1oKvhAGacNk+cAAAANkGfM0UVLCv/A5s9RoRu3O9tzDKUi4dpU/Oec6rKqYPQ4iOtj/8H7Dg7ACatpj99o5FEXkd9YAAAADEBn1RqQn8ESnu0SQml71ZD6+XqOvUXYYAnoHKWzCC2VxMADjbN7+bqNiPkoaSKPqZhAAAAWUGbVkmoQWyZTAhP//3xAswe0MVm2zAo2v80FxLx+4+ASl7Ohb1xXkwSK3vc68GvKH4bAgmg+gkQhLJpJJyxQ8nPlfMBLtiyKdw/J9V3Hp2eMrz7yvYAdqD1AAAAUkGbd0nhClJlMCG//qeEHh2fJJNGHOJBV8uhXSIV6EfmYo1tsxft0MFeAMRFD3dvmGLQOKxSMgOC5CutweOFl4Fyb7HcisVGxfYrX6BD6v/bOLMAAAGKQZuaSeEOiZTAhn/+nhBnQnOtRbEahiZuJj30mEpkNixAEI/gtIyv2YZBp2bHRdvRizkLwXppDuwkvTRPNCpJhYVMn80lxXn6FUVJFwrwf3e1f6rPxIQq5HateAET8Nc+T6DaUOP0jNvJR714k5AzNA+sBbgrogmzHZzStD5GbxNaZBebgmO+auoOcDUfcgTcR9W4LbA9Jo7kabUmbmwrMPSfRtj6XsRAeuyLopChVj0FM7s2+SAnPRvFCCDjZXz2LSMdoWj/3XPDxF7aQ3mjE1LeEK8UvfwGM6TtWHVIMOejwsTChVwAJNkREgOV5+1wwiootsBNlO/AkhykF5waxkioy/iTacQHJSJPdQmkJKVNTGv3sTzt8LmowBXqgN0U0G21+ef6bIQqZxGzMCjo2K1i42h8SIAfCvT7C17wACmNwxC2m3PCxgOH9/syCCZ1S0kv2uR+rxfUp2WSzrAOnUAzZ73MUxDnielPHDw+iKuuxc660ifEMcROJx7jEB8x1bpSL1q8CIy0gAAAAEFBn7hFETwr/wNotiF5Nk4k4Gew4eUMvGjV/TBdpKADYdBfkLDJ648zokXnAOec2Ib47ohdtUCHJZH95InhFilwfwAAACYBn9lqQn8EDmq1OOtpKoy0tK13MtJseaRDMTDgbpQFxT8GOcrh4QAAAFtBm9xJqEFomUwU8M/+nhBSJ85xyiTKj5oBr31WUx0XcrQ2KsRiLcWf/anjlD5BhKP29rbRumLCw6oz+bxG9iB95PIvb87+3qNiOT8W7ZVP0DKnaVD7SsNL8MfpAAAAKgGf+2pCfwQLRGDeQew4fI2OTJN1h3itgxLT1W4CAj8dqVUbPnteuBUbMQAAAE1Bm/1J4QpSZTAhn/6eEFZTedZw2LkjQZUUBs/vL44cd+TyAVb8FpCpVrN6OFj31r3s0zbbIqCOzWdJ3TqyP27tbCwniWh/XLK6AIVvQAAAAZJBmh9J4Q6JlMFNEwz//p4R1W01KIAW5LZOmwgcCh/uh8ImNwe+Eg/4KyXWAHI54QDFMmzc8YaWYh3m0pRpLpRrErN+nLdspBZdNbW8J242tMo/1NpNYxwUvK35Mhfx9x3p6Egukj66MWHnp82Vzw+Tw0/ESRQw/lqo3+mY2vl40NVIP/Uj6Mi0Pug8bDCUvpzgQxo2pQWbnGfrGAwZJp2GftHa6+Wy0aRARj3KEDsgP7TfWhbBudLIP5o2OqvkyluAmEg+S2FIinFpIdtfdN1f51KaG+QNbJVvwwUKCq+DF/ACKvwWjlwIg0WeWFYUC3OAZ/1NH14CoJFd7pAK1VTA6yiLpqX9WipeOJN7oiySwT+86ZzM3guMHlDeD0DsUq+eibktmNzupZf/eDpzFCBhXFiOYLj0amrNB3eHjTYnFJPX6tFigq0zynE8sU1t5SOXHMrbAN0T1RS1JEaGDTNi2KUvnbqe1N3STR8tKCt/YMZn/tdT35fkaDvXaoawNGLyXi9aGurZ8PG2Z3tukAawJRAAAAAzAZ4+akJ/A9wtg4jx6wwjH9qH4f0TlYFOEKt5Eo9O0L3ij24Z4P2HCMAF1CmH5G3PQP7HAAAAX0GaIEnhDyZTAhv//qeEFJH+deb+S3pSaNtoBEusMAQvC9ziGSMc9KeZFM10r5t4Cl9HncerT1afcNDh79LD1DllgnYcog/Sa3J5s8oKxrnVGACPiVDfvEjpuhgttmXwAAACH0GaREnhDyZTAhv//qeEdLajAgbgEHrWa/LH/D4mGEr0logJrkTvsHzpb11jakA37oM4MZ28IaD843nK9Jbc30PrHR3VyGcht99YFS/jpI0F5J7PWLBdNi550ngp6a3OpGPKzIyI+/6RQmEHbWXrcxWPhie4dRbxyresLmyFCP2eE7L24DhxqxwGLeZWIWDVX5Q7Fq+4y9J/OdAULzfcBeRZTNXl66xM7K1N5nfpaWw01ZdeAXF+MnjmBQbSBYFXX+4NvXyiLwwAwSCQDb7Gq4dd+wUThUrg3MaSraOcn576ueWLGB7lth3Ja3GzJKOJYqHDX2Dnxt6Z0nl/H7wrAAscAbQqxX3SgD1mtUWkFZmE0aChgwU9W5ZwJ+xgD1rInfwukdxhaDyLJsPmGD4yEb9bkBD6OGPlCZ5l5WIHJU/VQ9hEPGwvyVg9vH9yVe0Y2iFk3kZ/fGSRYT+WAZvqEj/S0hoqA8cQQIZA/CfNmbhLyhIpxuadg7Gg4oX37sXC86WVRDYWrpaw1sHIdD6OiTJ4kiVZCXtlu1+LF90YvSngE8T9kCMrGr3rQ+T7j8D4Zh1uck/o/cc8XGLSgVm5Iv+NKrA07GN25XAeuoG+rXyvB7GZnsJg0a2y5S5+jNiXdmEmuMIBbnFfYk4thTf9UVfmoXFsxCSUW5KEMlDl4cj/FQ6qK4yYlSDbUrjN2Io7a4pCusigXyRPykAO8ZIGsAAAACtBnmJFETwr/wUNaDKXeIt/jIgJoCmNSM8DVCytLptIZ0nLxxQrnDylImzFAAAARQGegXRCfwY7Z8QrOfHmwLgb7HcBS+93GXoGcAN0Hrhbpxo34lWylXMqTAgeeuxu2T+tLyDAJPZk4IxoLRsekMyRNRC13wAAAFkBnoNqQn8D2laThbbBNDtny4hu4pLXbB/WWDwATOzHW9imSV0eTnmJ2h+zKDPQUrEzQxXyaCDV7nNWofAZroZlXL09MaHgN0zXgkzo+zR8XWHCvaUdqFAs4QAAAN5BmodJqEFomUwIZ//+nhA7jRbELMt+zRPs1SFsGU9Ns6+pIAF0AA+6aZlYjtGn1ZeDfwVKl4JsEMGmtII/FD3J/H+39LXG3ImvVpDnxu7r/boRz41OCTCnPT9lNEqBJflcUekiZcIbSY/cOM6eFwzBUWS3P8+NV6iUvdl6/DAs2YuzN8lLSZAVEB2UTcLuPnpnmG5tEG2zrUDXLp3Vx4k4DOGAv5VfdY4vWRBGCs5h0OixRPTtH4IcBVjAydhIN4pFHEk0T709nGggruPgaHgqjASurQAa9Mmyqi+fB/gAAAA7QZ6lRREsK/8C7Tsh10kSVUZn83ndASAFrQFkzlvW9NR8ZqXLivwiyDTUgta+4O7P1V6B1s1v72i3jGAAAAAkAZ7GakJ/A669YIFu02HyOp2jf4rWdeYzRKBLhr95s6zr4gAZAAAATkGayUmoQWyZTBRMN//+p4QSLYpTvM+QSdChZEp1gr+lhIWn5wqvxVfG5bd/XFd6LzAI333Ygxw/LL7gdfZ75k+gUZZN/RkwwHWgH4QCtQAAACMBnuhqQn8Drr1ggW7VBshkBDdJrsfRiDpWKvFf14Z0WgQYOAAAATxBmuxJ4QpSZTAhn/6eEDUT58dSFBUe2uOfc0psAHSPfUnJkrZgTtA2EepH2ivPe1kcKcCtM2yWzvDqD61DHmrxWFSN8sJ5BfR4QUuago7PDTfLGp1+5les8ws7XtcyCcmlAg7HApil/3vD5cHuAZvdaI7o3aIErLAcxxC+PuMwshJ5cmVifiY0OLRBTkrkDZSlGiBr3KimL6D52iNyoSlg5ab9jfboNM1ZIzVgUap++3a62+kvZJlO10EGuTDBTMDbVuuukUJKgNouKk6UnKOKzZ3Ta6PrGR5ubqrX52zdSlFHRcZ2HqoUn0Z4r+BenynSzc6eP8LT8DE2EtlvXr94f5UfRP81Clf3pXp2l6HfHFTuGJNgxnutjwekIBDGzcgzoGnsJontMJh0zJsIMoPYJisOuuxRzaLD132BAAAAJkGfCkU0TCv/As6WujGEt9v5MSzE8zgaT9EQ7bfnHbAyK62pc/xZAAAAXwGfK2pCfwOHp9okhNL46tMOLXeUvrDHShABquA+Un9aNUoaFoCGSWoEmCSQ+zEeaJYBFg9svGT/2ZziGx2yKu/Ql7qi82K4hUNbQZcQTtXbsJmFL9APWwe56/iyM8PfAAAAPEGbLkmoQWiZTBTwz/6eEDOWOP2fWjA8+uKhYhLS9XSV8/izgTQ0AK7LV23l9b9Og1h0IeM8UuBJor9u3wAAACEBn01qQn8DhVu/V4z2GD5G7LRSWu/zxXR6nYAbZuFBHAYAAAEsQZtQSeEKUmUwUsM//p4QNd8kwaIQ6QiXLDKeMUWPaOt3puxVxmn0m4f33CNktgeEWRg/62q0N1LtZFz2Gphn1obzr2S0WNTP2N7ukZu0HpQLQ/4n5LDNjLAFBCk03nTN4XyTMAKnnURkwjHFXo1zUOIN8368b/otJ8rp4cMwew/TznH91t9FKPTdF1cntwJYgDKGFaEVfzxHKqs+iIPAlni9AeFKa83otDDn6encr/96e9csazcw7ilbn2xwRacXZekdVgYQH3lT/PqjBHH5O22SX2NQzaXevdirExm/EynwTDwAYOi5lX1DFa5piezEbmbbm0wzekLg86jwZ4iWT8S8E9IvTekngQdlvvuPzMfRJheX+X2BUsVNhG3zqrF1X5OxUArgn2bpNn5BAAAAewGfb2pCfwOGGV2FtsE0WtsMZVFTKznAC1BWsJ+AGHm7reZEKolEUfXnoAM7azGnWK+XycFQIWTkrIBjjqhLyyy5RUGDXsQ9bTdCcF43rO0EKQ7KmTUNTXEeWGNiAaF+xZJk+ZOq5VxxT8mkx5pMdJnXRczWvMk7eyHfgAAAAE9Bm3JJ4Q6JlMFEwv/+jLAuyd7HYl1H2Ul3AfdfDIVqNbgqzcbF+VLZhXEJDSr65xTQVrKzFXhSLIAJ23wH9vUbEg440xl2jv5nBL5MwS+XAAAAIQGfkWpCfwNeq7A/zil1bvaIxi+riR3yzdb6ZPCHAVlorQAAAERBm5NJ4Q8mUwIX//6MsC7MFKTW5yrfHl/9DJHqer69Ms0LD4E+ItvZAgp8Ee+IOABCm+A/I256BuGal4SuJQA+3ZPbOAAAAFVBm7RJ4Q8mUwIV//44QKT9LEBSjh0gOvGzvS0bK3V9y2R6ae5F74+jWD9mKM30VwOOfZVaSoeux8qKkQy2EuImOU+N7BDaJu0uXfAZgBCUl9A/Bmu9AAABh0Gb10nhDyZTAhP//fEBNOxKtH8tro+14XLXQgAVynTEk5/8lQDNesjqLVZcXAngPm7SUmy/NwgLhx5b5yQmzt8USSrgEZD4LAANl+9W+iaAll9XdbiAv/7QgGakCLXPf9+PMSUR1tK37+yYXa07HJIFkCjXdunIXECDzCswSdaYoJpe98YHXAljsbX2QyTrhOXvfDqIs3LfiziNIEoKuDqRHLtf/JhahsaaDOc+DdQwVm56Jn8CwHwe7zqBp3a+rNK7bKKtg2J1eIvjpctNqoZ1b+BgcQNgUniEbRqzWus0uUWxfmN1EuzLcYfxKC+WZUlVIjTZ2owd1nWLWIEo8bi0FIB43Pu7PK6qua+LRmKGmhWyxfq09fa6IHVgu4BSeiZjhO4JTbQUqvCa+3GFt8h6GFVIFbZxfBCIFWXe6p2gzrF0I55Mm8zaSU4aDet3ShL0lFCW4QyEnr4AF5dpnp4vcW9lGPQv/Hw0al25uzQD5ryZJEMoDQPdxYQGV/dFyukVC3kCk+8AAADVQZ/1RRE8J/8DPt1ma1E+AC6ClVU3BlnxmNE6qzvUGQC9uCMVKVAUyskS1e2tDPRGsP/XejqRxA/uO+kN8iXoT066q8MMMXvOwmmixS2oNPIlIA5QZ2RIVO9/UQ98l+AC288YgLnwNwDuocgSzsgrM2nNOp8G45OCrqMMmHH1gDkWNnV0sCpccDtaxURtzEZo2RFwRabtjS4tjo7F8U68bJdXpl8tCfc7WxQFXU8OYyVpL2KLropzuRoBpVxSghVZ9SSJzp/bbX5CwMJU8VKDp8p/ZvaAAAAAOAGeFmpCfwM+3WZrN3fRdbDZw7TBdEMAE4gvffEfGLtWtm/k+GBeZTyQ1v4yC2zAeakDyqdvigs9AAAALkGaGEmoQWiZTAhX//44QIn2oELUzuDuBYs6L/pnCa5aswEx8uAHFv/Aa8kjHoAAAAHIQZo8SeEKUmUwIT/98QE07pEhCniJXWfYtMSSL9ejaAU6/oZE2koQ7E77kASWwegrjrucnRJStNyPC4+HwS9vuY+CuqmRnwK0672bj/+Jgj37DqZd/wk7H95dv6N3rWTQloLvT2u8BidPngHiy1AGEIkxr9x6cUhohJ/RigRhLw5gMbqtG4q2ikG5r+93qT+XY7Sl79yunyl/e2YUj7eNQl5vVoi42f14NsCX8azZbMZ5A2LP8JHKh8ZlFz/6qz191GAhrvhAElxcnvxqsC8cDyAUaZJmfGAGzzZJyMjzyDLei7RDiWoz3NpX5mfZMlxiMOv8g/oeLH9EzLOOkLcz0uq4PK8+BBt3RTetfwCyjiGuh1yAFUoIavgkz9lFzSima/hJAxEt+oL6Af57wSEMN4XT9SYzj+iRNK7QdrsqsZPKEMnZPFgU8wYkgf3E68e6fpT4OY3iF01AyMUX+0uZrhVUfet1cOgbgnqQxCR8Jkhq9dgJNgX9lPW2ELK1bImwiPY3Ydd7KZMrq360zuSDt7cv0FemJiMLJ01wawLTf+PwJKwdj0sdaOrWVq6HmxKMDpPOR+E2so0a0LXbxQpts+JWMah8KKBBAAAAP0GeWkU0TCv/ApEvw7vGSLJO+wP2xoAPpIsxpxvywQOKp1dUd23Es+NK33hckmJjNWL8jbnoP2ab+ZM4yDtldwAAADwBnnl0Qn8DPvaEW7cBFcqjv9zxs7lDb7tZnzB7yv/KMkBHQAfzt7EgvFy9cKyHRYPRPcTklMOTwCvaCM8AAAA4AZ57akJ/Az0TRHKbCbUlE3EhZKJZTijcOrYsQqfnOdiWOBJi/mQAbrZvfzdRsRUgWmGMcO0HETEAAABlQZp9SahBaJlMCE///fEBNND/c7FgQ+xwsgoxLhP7twNUZ/9ggWD2PPMJ9AgCJjPAlmIlKeYI3URYxn0RF/uNEAy7Z2yC7ha+z0Z2bz7XApEqtZ7qtT5YjXRfSbkHdvT40tbD1/cAAABcQZqeSeEKUmUwIV/+OECJ9h7BrEY4AQZ9YkgFEzBQ88Lrg/N3peLzo7Gcxwi55BgfmUkRjdTRMxpzro+MKgveH4mPS+QFAflpGfC4S9SrriLwGYc3759OxBKCLSAAAAGOQZqgSeEOiZTBTRMJ//3xAV0196IdoYL4TAC955TTB6ddob7lFtJAF4BYOAzfLHM8hkThWBbVpa7xAp9GYk+L/BOqFnG8YjgjlWjrdw0Rx8p+coELmKLapv06QEfTvhQhgf25LF/8VZQ8pr5OkQJwU6K4GH19UypMbbYuXduoUNlUAsVQvvuC15djgwuWg5gq2H5agVAnA5wj+9Tm8MPtD7TW2IqBAL3fIzZL/dVzaRU5U7b23sK16Pk/Cdsd43BASYc9jwfdUR4UAXe35C1kCPeaI8zYEIdDwP7qIWHSdPBB7JJNIRtwaC2wclQK19mQQvP3niJ03lpE/bRtVz4jX7YKW0IV3w1hOmG4f/sVDQMDjYGi0pu4lbL3+fGDYperK5KVLJHyL7AmY6R9KfvDNm9LALmg2utX4b92nDkXcvX89ZbuOu6tuiFAGDWNExR9DAdnORsrNaoLV+A11GyyAPgK939tEJe8jb94jcixH3IthJoeiJ4bnHKEPaBCRZ5eUIWp3y9NuD3O4Rb5L/EAAAA9AZ7fakJ/A16ZRHKbDLJzyw6otbCdpguiGACcQXvviPjGW5Q1CGGrTm8ynkhrfxkFtw0LTisHSSvetG4bfwAAAEFBmsFJ4Q8mUwIV//44QJ4uvSRo0iaX8Iaw/8pkcyWG/IfoyozaHVpxcACY+t1s/Ip8aE7XLKhhAC0q+LizbMNW6wAAAPRBmuRJ4Q8mUwIb//6nhA7ntCvKvVJaonlv2O4AzCsmtpFABXxaS1UOD1FQsjPn0LZYOBDeC8FYkguNqcbEY+KPZvlJGIM1d9nX6j/HrD635DzNpBm0yijKRgmjZ7MBpDYRA9Gz520Z8N2M6bv/qczFYTGEeoTlIj6rU1v3R3C6YAks0IsaGY+w6MQ4DvcF9nb69KeI8iIAJpXPDdnLi8n8NuF7b8+fRVOUzGnJKAv/fADTlr9JIu7sexqPw6QaMDqe/UcRsvvJLeQNQI1UC7/h5Fj6mRQFtzaKSCQYb5Ya2btTEYDqSbU5iC+PNMXi1VDzyk0NAAAAK0GfAkURPCv/As69tQI5anhnlpnIjVCCEAK85au5mPE6lKFTeFBnczLTRiEAAAA1AZ8jakJ/A4fe2S9oKvR2HTJT436cJ53aO9u1UNs4K/Nkj1ZADjbN7+bqNiLUHR6foc0GEdkAAABsQZsnSahBaJlMCGf//p4QNSMJxRlIL9+IWnukhexngY8Jy+UAJKlRl3JzHmfTpd8bNmvOC0c0xXY8Ve4rVFcizjkoZebd/gUutzeSWx4Kj1X7pcL3R7yu0J9VKytKgAjcS290g8W8WhUa/7egAAAAPEGfRUURLCv/As1DI1neUCWIRaGnrlARDo70aKGdrOrldQ+FpZCBBSE2vRiAC6hWL+3qNiOY/YxjjGEaGAAAADMBn2ZqQn8DhV1KW5FdwAm4mdleKm5ukjbqXRmMYVyVYX4y8gAONs3v5uo2I7nfjGOL10sAAAG4QZtpSahBbJlMFEwz//6eEDuNC4Q73+q6cXm9rKKmTPExe8hgM1TzUATslYOkEY02/4DiuzIC395S4NZbdQyNAG1Uh948M/tXl+0jJGRpD+nKKMbYmOa/Eqj8uDiNNkCMCyA6W7uB4snleJ6bO1LW47ZbUBnXUKDu4UM04jvI7Mdqe1R3R9iC/U3ZYkHfpdHIrrSI1IpsMKUumx1fVvnzCdx70xO4iT1l52khXbSL1ZP4kp5F4FZUMp6ZvTUMvjkrDqJIm904o8Blcn3nNtKYkxs9aJi+0adgzQWeZDVFwz5yHyDEe9q+vzsXCMCn8yOmgRG9GJTyQQEbQ69gHjme8SUrsBteWKN6xFGn80d5di5no9VeBudYaAwCBK+GSPbPoLS72zj44nqb1imeoj+SCYDksdoJ7W4VlX/goAMzGVSuK5wdeKODTKwwD+Zz6T1gC97IHtvwbma/QNzS0P9rtziAP6i+40Lvl24ENr18mFoxgJwEyxmZwuE2VIuyJgiwxJlYarU0hF0vTO2DAo7iTBddDNFSrcdeQhSFZx2S1tNnD/RGj/5W1kPy2JL5HjhPv5YC/Xfo2eAAAABDAZ+IakJ/A7GeER5x7Dl8SeQFxprRPY3hp0wJRPcH50HAAW8dTxEROpml5BcwcCwxpKBotapAEex69RMel9SLvRt3gAAAADxBm4tJ4QpSZTBSwz/+nhA7jE4ph8l3hrlApuPICv1+HpY6sdMXuZLwEQD7PK3UEAN6N/D38Kw/ujgP3ckAAAAgAZ+qakJ/A66fZxuhDHw+SQyX/QlSFlwRjrQjG7RHd/YAAABIQZusSeEOiZTAhv/+p4QRaBjtYEuRclJogDueBknvYHXwsAj+He29K1tUc2+0aXh4nrdRq1exm0/EwywM2IkZblNkS6neJBWJAAAByEGb0EnhDyZTAhn//p4QR50f+BTK3ikgE0H5f9fRlY01rE+SEdbcmw3IBgNBuJ1xqHoWOpJk9CfraYEPoThyOncfzf/kerXWS84sHK1hk9qxQbb5Aotu03Gjo9qKO/Cf1Be6Kkml/w5RTbOde4kXt4AE+yPehjM9/0ZJuheJwT5cux1bzpxHG49wuplxvKNAmt1j+72HAC6pSGWrd6W8s4YMSs3UwL1PxWs0vaYyew01y6EKwlWpsCJm/WlGElLNF/wfV98jYNFuIA87a4pJtksiv1B8GAawmnTzYxA859gNCeugtVOMSGaZ5yp/ldA1vj1HF9hJ5+PlDnwgMpmL6B6kDyI1JMRsyxw6YWh8wUHcUqDLVtGJZjt4LZRBDelHGGuBzWr3OxWbxHwYaK17CtkY6bfShPWHw7Z4BhKG6vKGeSbzfrHJIzBXqSvDLaArBZmdCJUCbdZrxkPNH02Kx05QFfnbS+fxNYO/l2C4t/uVo4FmW7JQN13gEoKOh7uUTBFRY53HhKIyQnQIui2m1QGYtLg2B5mrvp9IgS5hPlEubJFajgmUtR+wHguTysMf/hkBfWvjwaZYuFEAB1urQA1p9KL790YaYQAAAFBBn+5FETwr/wMVkjOSRcw3a1stITrAD79FTdhYAErT900/PyIqaNqhwGozAEYkPshppMo21BSUb+3eQcN2Xkt/IVJOdCYkh6y7uywuAMh58AAAAEEBng10Qn8DsbV1qe4QXEw12vh4HzcrepX2zOLsH32EHbUvy8v18qgBNXb2JBeLl64VkOiweie4nJKYcngFe0EZwQAAAEEBng9qQn8D2aFgk+9vYfJfktHn6qHGMdPsAC2A/rlqSuGqvNL/kaT+cOpGZa7Av9vUbEcvDxjHEWlcffV49tNPwAAAAGdBmhJJqEFomUwU8M/+nhBHnOvZNvj0bqc6YwEde0MtoSnO7QvPuOUQv9aABcrk1QNcU+qsr9HQdy+Gn0cJG9NQ3yhTR1XV44UuTW8c8nazlWnj/6vUms9NlIZ8a8lHL7z2l7p+GrlnAAAAMgGeMWpCfwPZoWCTnu7kTe8sw5V2EiZ20U5BU/RJXuZYP2HB2AFvCmH5G3PQy2aX0e8xAAABi0GaNEnhClJlMFLC//6MsXm75h5xk8wHAUELu/bKJCzTo8Tpw56WYUX9iWDS7DMdAH9u00QBmigud0QzClfkEGMgTSdFu6jUlW4pbOg7Y1slTVzNLBMGtIeY+uZFJQgQCZp3YhwfFzRs7x3AcGlqn8mY0ruT0ChAzWg+eMDSXOFPkeeh//2semvN+TBGxXTZ6ZS2ei6LBw4CwncPWxc6GxuI9WmZQFyOnhmHVuPz3cxRMnFJSicsNqP1BhVCotkI5/oCUKgNcb6Fw2bGWm+seOFhmQGPW3MzgfxPNKvJbnGlNvoT2iXHDuLZqTTJUjAR3ufYxz54JWPE7Y27oEVqvuojqWYP6hhspD4Nf7C/dc63/+WwO1puZG4pCwdKMO+28D9HsAnffm0zr0tpjLV4MvM8UHp8LmAJVbrsskcJojcbq2Qp5Snb8BeplzdKGZYYTm9fXuGK1w7dL237wGoTf5FtWWFhX+bQX6rOafJ0HGPEctdYI/jtj6L+a2L2z5IBYQprLXT77tDKyA5gAAAAagGeU2pCfwY0jF6XirAiCoRsbXJLSEUhAASzx24vxYcwQPWCyP025eaVDDNlBXjQy5XYeSmPq4e71RQ59WlnWJxp6sfYFO5MIlWP85BLrYR+FQgJ3hXeUjB3PP/zfKqzs5tpGLXj/tFAAwsAAAGDQZpVSeEOiZTAhf/+jLBXGA4SbNc39gVubT270U3OmqTLx0AZqiMCcid+airqRjhdtCJ1jbV3i0c15kFs77CM7YMlKwaqxqhZBfr/R7r2QBB6qWDFGKpdh33UgpPJFimvCxTWQhMfcUD0Qn2re7GELfskyBYOpPecyKi+RcEaGnwxGGhb8pSsbStMVouol9O5LDCrYwt7/Ap6GuIHtSLl4fz8xpMq54MVMuiSXG9kX+FAMbAKwkeeloEG2VHwJ6NJRq1krkkSHtMyJzfU+KpNYx6xLzLWSh45hAUV9x3YBpLYDARxLKyCsUYL70PP3Ikr67R03Fby1m6Fgm5kjYvz/yZwayVtADLLdyLLWKypq1N1YRGsAOUqBb/DeFu7REtrsHZewQB2Rfk+nw79TM33UbQriINNR3KAlG7qYz4tAqBuWDRSSh688ELFAA93q6NgJqdFziRdd7ydpiUMeYtyleFqANd1+5xCWwxtgzreGovcj3O+Uo3LHiz4MmtPxUxWLR25AAAATkGadknhDyZTAhf//oywVxeNR1261C+y0CDduAIdeUwVXH/bcPMVxpw1VlFngGWQuJ0Zv3G0Fk9I/j4L7id0/tTmx841vyC9VNZ1TFialAAAAEZBmpdJ4Q8mUwIV//44QRVdekjRpEMHTpfK4JnQ+ppucOgSp2vIsg+XcxJbluOGhOTP90oQnnMCk/N8HEn9gO4XaNwxhRgFAAAAYkGauknhDyZTAhX//jhBR8dZa3om7xm24zsIc4wn1wqmqSsJX3/eRe6BwcI8s2c+eNCnYwNGJ1qVRj0uKpj8AekXm6oNH/ZpnkI2gepYuQiCjLSiUkYNZQa7Xvz9fB4c83eAAAAAJkGe2EURPCv/A2pyM5JFyAXeCOwH6N/INyM6Aaj26AY6wziNXryhAAAAIQGe+WpCfwRK2BhgRSDoGoHjJLwYLIIFmE7dTu8QT+XhBQAAAYZBmvxJqEFomUwU8J/98QLMHhwgjjzS/ePakgBpx/zDSIwPO4z8TZs71bcaY++sOI5U6hVJ+IXSKxk6hAzmi4Te0zO9kMye8ozcKwdIBCR1orvl+njekqS+/kFSoyLs0qDH2rIi5lJ99j3WweS8RQ6IjMCpqqOM7BNGyi86GKpk7fc3U6+/jBkEqCOwF6Z+CsYi/TUv6oC1dVKpyKj1FfMRa+6sse6lQiZ2Xp18dB4e/tevsvQ3wWGYtDtJqsvItmxFcIiFpbQoOD/X3KXqihV65aDX6nreCWQDE4cB+1hWFyLVliYWKoAJuWcFhgpxCMrt3kwzUAVvUGjRff9v5gNhJbD5TYGp/bKaRG5E2c/grtxtMgPQ9EEU72UAyVvcx0dfQ30aURBeJaxI5ZPQTYESsfcH+47l8kChtSH1+XgBVkEBNgAQ5V6rJrQBVy7N8Aej4BTzXBIYP5CaPKviMkH5dRJMy5abKq3vx4v4JDcqQdZ+b45jZpMSiiqtz1+NB6agFmD0qyEAAAAyAZ8bakJ/BEdvYJPvbzll2ObAtLlzZZOW2ATIUQstfDrx0tK+JHgXMBZWAE6ZgP9mnpkAAABKQZseSeEKUmUwUsK//jhBR7+Fl/YgBp/4hMzWGxC2eizf0ZepM/hOTwB1+oQP19f2fCdAN9B9/In0vd1AFYYppFC7tr6nfZvdOMAAAABcAZ89akJ/BEdvYJOe7sQ050/+NRjzoQ+GWm4GyOdegtfk5YAHHrl9Qy4HpY0DxLyca4DWNjSzisf264NNzKPHDR/WzdUy2bu60o8l8ykmL//1C88zswPf7j4GCtYAAADmQZshSeEOiZTAhP/98QNPbXwpDQCj2i8DYeDjEMHm1qeoxLRh3UXcU1YErH8w6quttmW6ddwYms0d3u/t1wNlBxDd9eUmDTkS8gwDpqVsUhOcp/EHld7G1uSKlVxq8dzKHr5MAqr+vFfxIgfcK3hGhTDTq6Y6zv2gAVEx7gq09V2rzwn1l/KABjvPA4BXFxDAK4Xr/iZymSe0DHH0q36EsZ6kE8GN64c+Tq6aAxF3jz8m3p/QFjJTs/74oSBL+n4oQoZGT8h+05PytSSx1vAPC4zXBzG2MXT7MWv8XypqfT8liZ5BIzUAAABGQZ9fRRU8J/8EiiAEQ7o83+cMozWAAVhGYCI6eWOebAkGoLGkJTcIATt5b9X2w7rh3mUr8W03n40ufAeNEZnmoVg7VzO9kgAAAIgBn2BqQn8EiUqG58zOXcHSAPESjp+9NtTZXx5ABYjkxb3l3IVa7UE6BwSPd6y7hFPwxp1XJBcJRQnKDxQeTRtHuQ9n9F0qCgohL8yhoNyH36Vz2ImZOLUc1ViOGATsMnfychYWxmXVTvKt4ctAhUJrbe6LJ2VpYz1rI2n/N0fHLxwGGZ1XoFAQAAAAVkGbYkmoQWiZTAhP//3xA0dvCe0d42HW0ALrAMPipQIDoDgOU3IvOTJT+0hnKW0aJNlvPoWo4KhUU3B+w2qsFbN777RyK0l1Xy+USJYlGx7ekt8sIz7BAAAAUkGbg0nhClJlMCFf/jhBnanEBAyr5lTl/+u7Y/xBVPYqQCHJkT26P1c/X/vUPO+MXedHYzH0PG0zuDGiFNCRpAFErZNsYxu6L6yKKQsNIbIaGXkAAAFfQZulSeEOiZTBTRMK//44QUfGBiKtEd38iRJT4N+F1w+53AB+GDNnPDjRhV6mgHGKI8WqzV07w8fe31cDBfV37YRhJcn3dlq8ipPFPgKEAqqYKni57Ty+ww0OUX2JgGOAGeq6I1FoH+wgN5Y/p+ufuhHpuam8Mx7Lln5Wnl8+DPqugBZzxgkT/MO6WdId+W8knqGvVhngH7kejcQEPi/NfxHI1JZqaCZgBGmonsUUNQTf/2NlC3lPe7ujeVEE6blf+JiBkWwn6fJKay1GEbmSNvUuud/08aLMo4KGW8jgWwrz4Y5wXyWSuor/Ovo00BYcjdnJjb57G3a2sACI1BT7kfZ/w6CsOa0oxFs+u4upwWNS8dM5OM+jGmNme5dNOJayhrNIUoCvMD3uAWHaF43BLVIw5dpswXv/CMMjdr5io0PAFav+4AHXt89/u+GHP+lKk/sXAd7T2uZZ1uV9/KWxAAAARwGfxGpCfwRKarU44uc4dwditNf0zDe1Pu4S95wfnQTgBbxngSye7pNeP50DKdS6qIdQ53FHCNegSDebV0pMRRBttNdR7++gAAAA20GbyEnhDyZTAhn//p4QZ0JzrUNshcRngzPAIuKuBUTK52pNm3lsnleAOKK7aUh4yQKb3O7GfWveikiape1BSxWb2A6aOe1gLFTrELV6q2xtYdeC+jtqfdODvEAHhN8T0aBREc/b4S14ku1sayThUbTeHAOCedVFK7WnSv8J0bg/T/zV85E8ca9g2z8zKuJlEqqbfIu7pRetLldlWCH0kEqErfCPU9UI0UqiTsotW0UcmHyNyyVJCfL31W+PCVW+Uz0NIoQ/bTWMq/1OnZ2Yt86C5bIDlxuFGj1GIAAAAENBn+ZFETwr/wNqP0SUhLfa6TE9yZh1eBsiXgBMoWP32jkVd2tWk+vUa7jSWvPB4Mz3r0XQd+BYUq86i1ioKod4Ng0zAAAAJwGeB2pCfwRHa2CBbtM5Zev55lGJowGSUSsF3ABrYbWXiDANx6I7gAAAAT1BmgtJqEFomUwIV//+OEEVU2hhwwjB/kTSFLKnjNYF3hNq27TYzgBTNdqIbmP7ZukoV//YF21IOlulvvYI+KoqKV4ZfEsPDu2XZYf/huz9Zsio3599fIN2ntVSGHhR2o2D43dsXgzBcIoOoy/H4vM6hJ/L5NWoYgPx1NH3KJl/7QRwCrf9iuIjtrxKpt8M6Pyj/A8geB1yPAQ2RKYnnEWdVieVv3ra9YZkFgQhwCh3PD0p7P/WXzaDFtYcK+K9i6QZ+JNWFLIoetvDJ5I4LPf7ByTKoE7vxLTlkT5+JjnjCJtdTSeLFb2DDOPutmdSyxIAr+VjIxCW+7H5y8KaOk2CKvoCExz3gn/q7P0gl2rWZmZ9/6M2l2SdQ2lq83e1dHAxeNj/Bjdgg6Z9RbU4R4bgsXAHUhEzt2m5kbGqQAAAAElBnilFESwr/wM/X0SUhLfa6VC/1oFPE3I7uKbGjLrFkw7VGDIHy2BfcSAAiDzo7DsHDXDvMpYHNLVYuwufAtFm1nmoVjnjINkfAAAAJAGeSmpCfwQLa2CBbtNh8nP3lwwEcWZpMnjbpcjUkrAtQNtYgAAAAUxBmk1JqEFsmUwUTCf//fEAqPAcAF0FKqpuDLPjMaJ1VneoMgF7cEh1Lt5InOy0whzPTV1oNGfbPKwTwy6OMSEmdY7Jv1VjzjeQg9guJqw9/ZPxzWMEDnWPLt+ns7U1l2yVay2898D7Ql3WEzKHp89Gco0XCDn/P6qzYVw1jXy88WTtbA7cm67iBA1ipuyulDsE7y77KKDqbPvXC+cqOtExthYYaa9HNjfuogbT7YPb9CJaz2Aoy7aClXbT0VMjIWC+ZEcHv6reFJoaR67a0tTzrMFvIaKCM5JcuY4zrlW9CwhxPf/pkjUsh5pOg0CNRcjfy+kbva4Uzik9B3PFOi0qH4vap0NeMz4h7+LMFmWWmW5JqdJUYs/66Eck08Cbix7BADHlFmK6i8avpBNcfkzKlI0jpHhWYpprCaFtEoAOAfIAsD1auMyR7JiOgQAAADUBnmxqQn8CohSwcZzRV50EVyxg0NzjpeE5oR/d76yV3K62wfsODgALeFMPyNuef/hwjixYXQAAAG9Bmm5J4QpSZTAhP/3xAZz6VoOhjU7uiGM0lpB29ee7aBiydK3Y4YdjnD981829lm4UZv85fAnaidvYZvacVeYI3UQFutoZK3cdQj/0wh8AWL/0C0em1vmhOi1Z9MpskG+cLourFvedqTrO0UMZ54AAAABmQZqPSeEOiZTAhX/+OEEVSIUCKQsgWNVY6H/wS2MFVAsyOzT/uNEcI3/HgAfzzo7Gcxwi55BgRb7wP191Be8PxMel8ZKnXw86iu0bD+EFJKlxVswsQTg2MqaTXYLNgNblA4GMdJmBAAABnUGasUnhDyZTBRE8J//98QKIia33fIkFZjGHo3oAUB05dgxus9hTPyIWSE3l5pE7T0RrnuE323djAqjSFdJrS4l9JawMFUE2IDaaXb59r+G9FEM1pGNTaCo0Mg3QxRIyj1aN48YFovgTJMji9IEWdAKCN5JZdlAcfUNR6hc4eY7qS3l0uJZ6rmPg3EZUuWsimY2AYiQMgawbeaYDnx3ps9/ydiB7AkfaRB6X0m1Z/bxlA4UTRyYlAegGto3AIuSLpholXMGTboUQZUUVVmpLtqSYUwseTIt/TiKDtTOSSp0DVGZYUVORTD1A1W17sFpDbz8HR0WozOv8VSrdJ9r60SW7TnCblVcVyZN3dCT697gyldZfeRwnoRqqqa6pipRk4SKtcijTVtEulnEFavIe/s7G6nyy3rIP/q4cCUfQmDMDKcoP2LgmhEvphNFsYfWllgpIgpWxmpt6k1NOUwl+Jhvsp3Qt7tnhb7Vb8iqm4znbesm4VrE0fvb+sLebVkHOz2oeuifhTSQxNcY4aVLzoavhp1B/LmozgUocPc0DAAAAQAGe0GpCfwQLRGDeQepRYxqNP4tkPD5Jv3wVMtMRqA0ADbR4EspllRUiGX7LRjC6wg6IcWbJ7gcaBFX44FhM+zEAAAA1QZrSSeEPJlMCFf/+OEDtdIUCPxjYWQkXsJ5V8zOdhmdOnqWpPvzRu1DUwxLWKuHgrkevXpEAAADMQZr1SeEPJlMCGf/+nhBF+satfSp9JRBUPjqip5uRk1PeJr7Rbuh5ElIwJxrSaIRN+duz1qEgOdoDaSQ7l8p/lpNGygKZPOvAthvjSN0ya4IoP3Pd2ec3q8M/WLFn1UnZi0xWnwzOCWf0dSWXSenDTbtBc2DZfpROP4hl0YywetZNKJv6IRNkKwfHuGzI60VodBlKKZA4bEhr7oQ0R9YPrqHacVTR7dX1a9RmX3KW5IOK8jr5tO+xLMg+ubC7Z0Aci0ipGGAHLji+o4hIAAAALEGfE0URPCv/AxVfRJR649vEJaIrjetAAN42diJSb/qw9czFtLxkliJ0NrY3AAAAOgGfNGpCfwPcHqbY62kqjLTFp9qKChukimW+0cXM871YMrACyIUD0XnABxtm9/N1GxG0YiqByFmDIEMAAABYQZs3SahBaJlMFPDP/p4QRY4kyf9fbB6pbhO7+yGAG0QA2tk4GTDpoNS+XEYEhQse2lqKALMrhtnl8NBZ4uKGlL4izmKUrP7I+ZRV+v/t7t24d9rK1ydjKAAAADQBn1ZqQn8D2laThbbBNDtn3hm5+UhovBqd1l8zbz+Uel3ZqXyNwfsOB8ALeFMPyNuehSCxAAAAbUGbWEnhClJlMCGf/p4QRad2b8dSK5+srYhP/W4/j8ydI5gMkQt1SXBymWm3BDjKu0AWfh3tbvP/Lir7teMJfs8LfLvzym1Cm3L4YBfHF+ZQ/xYUqCTw9LpdvhVNUUEKupZuPtP6Xc6fNWSYu20AAAGOQZt6SeEOiZTBTRMN//6nhBHi8RHkjalonecAcyJd5rdLP54tDR2BzaQj73zYQ6shWGAoG7Drc0ZAtqEB34+Syn6dv3o/B5HQuCaWskDJoYofkZCYiejEoFdmNzsFwT7pT+sajjcyOXV8tSyVpklKBkb4ng2MthAUO3kSFTjEUjYo4GgxqrgJdvvbq/xeD5Fyf+CbHZ3Eu6inrwd0LbyhBDkKJEUEZalLb5V0Mcu7bddU/zg/rW5smJVvusCfsetFAKGp7L0Mm6lyRD2GSFfVLDsiwsSb6JfPZ2xSZvnit5XKXG+7gGUsWZ/2iYI378fuAnsYgUGqayAnTlSHnZjqBUGPUV/QACkjtIUbp+waUy+tjA2WRoWrSTFpCnSpkfO8AAcm1J4ZdrsvvL2PTJCjDnbRPoInkjHOH51tiIFLI1Mov5R4euqFuEcebQ9YPqOwUs55nqpQutKkzViRCHFAwhUyO/UsV4rcD+OYCb+bZZDgisKgrI9YjvD+PmTtaHwxi5O1jI0GIMCQbgrMPDkAAABEAZ+ZakJ/A7E+ptjraSqMtLyy6D4PwATrNP1YoDdCit3zmDFVU6zBUZjyB4xYmeYueQYDBByUiPRFuQmdclQdWSQFRXcAAABUQZucSeEPJlMFPDf//qeEEi2D/22CFwAUlyrFuBx4q3zbPY4L1JmrulQDIAC6NxYM4aAspP8dqdNO943hcwP7MRiMopg86+BmtFB+qHe8wSmD/UnLAAAAPQGfu2pCfwOvdmxzcApNDt3urYGx1cAFxfHiIcOD5S7XESJ6ncZwYLdktmPfMT4dZFK2EzZFyHvojC9h/psAAAHJQZugSeEPJlMCGf/+nhA13yTD22+7OWhdX2S2AtIqQ/MaLhlvLHwJlQ3buMNzGD+UBoVs8UIMqq7om5+1Vzz9O+U+faxwb5vW40lyIjYMx4Mk+dzDDM7aXgdoLaFiNLmpaEM2EvKVxb0kJw+zXn+gXQ2gcdXn5YjwkZgbYRlBB7OdXDOf0FA4YDZLgSzt3+f8BQr3J7URE6vZTpbY9H3Ydsf+ZfL3+0b89558an7jb0xVUy0TI4Bj9wkSP1wZLAowXmwkNYYjB7ft4wsPLOMOftY/4BGoZA69AdvK92nS+ANMrSU7uaGdDSR5o78/k+J5l/+x+fpg2c37XfsPbxYIwLKn9eqIxbXY7/81C2qHCtdJ+5JbHuFfc1Xo3oIrD0ShtDQzOxH2+zgwvT3OnlmXmKy8DLpyJC+eK+oScHApHjboZ8IWxE6d872mGosv4fMXx6tthAYnmXI0g4r8gegnpOCpw0pjeGZeOjcFzipSnMepEk3+khXAlA6mKquwUm8a8acfpO3nvzmSXtZJiILJOZUiAmQYaRgIyHSxcqm0HchcmysKoVb68kCaSxqXRJDJkXd42Y4r32Pthr8XRPX8ylNFAYSoi6RJ+gAAAEJBn95FETwr/wLOkXjvbWTC+uTnYtKGHsf4uZD8qwh2DITZZf39ah7c3t8nG+5oTOrgALqFYv7eo2I8iic/OTtdydkAAABPAZ/9dEJ/A4UCr0cJCsFMyQk5BL+h8paZTbNE57zguEAHEk0hpgSX+YSlnwiSK7I6rRWfnP4/6y9np68JnL1wm3H7wqie4nJtes6VYW0EcwAAADYBn/9qQn8DhhldhbibOOwoXzzv++0Ln60X9bKMNpEPlXwcInl/2wAHG2b383UbEcoZxjHFuY8AAABZQZvhSahBaJlMCGf//p4QLQUteOKKMEn5x2J2tEu5qDIm+meN/TgAAJYKMg/0oC35C2Nvor1v0E5KKrtkyQhZdb8IBHvhUq2ZH5G1K9UiV+jgsHEFIynkYf4AAAF7QZoESeEKUmUwIZ/+nhAtPWNWvpVAAI4rE+Lc492CsxgR5qAHBM1uwxGO3dlj8P/+OgWM1+rztVrqMgYqUXq87v0RC06dUozTNz9NKigNDeXuC5PmrxPN24J14Xpgscwd+Y7yPxJfa1h7zqB1MwbKrQ82fGJxkahoqyxvDq0980vZLloCqUbzgbFwVuLWhnacXL/lMvuu974pmLJpKfv3jRgOAFyMAP4xBMC8orqkFPe5aj53BXVVWMeZOe9vhsHuMJuJFpxUwlzCRSyQC0be8XUTfK29lV6Kx/rvH937yRMgu+g8rGIha+82EwLmGFzxMriPSlPRizDFpNC1i8AcIc0Jd2QhMuBY09oAqDlI/0YTyNIrfIjjCfeiRBNXsNkeYotn6V5nUOsEPJI2HRkkBc17AxiDnYRIBPWG5N18TnNroSW18YWmiJYeybn6ZOwmBKKKYv73fVw6t0w8YLVD/gmduuX7aPcxCNwwx0J748ag7K5sHUndq9TITQAAAEVBniJFNEwr/wKvL8O7xkjGx6Yk0NyE9wYslvL1zWmRF+9ZU1ahk9BK+MAC0VyVo+1Hk5WMUe2CPnh95DTwttXnJM09YWEAAABCAZ5DakJ/A2B32iSE0xJ03k2isw0KWYRUBuCOAFvCmH5G3POhoD5UhGCiEIjIHQf8tuPiLbZgJt3GyOqL4DTGp+UNAAAAPUGaRkmoQWiZTBTwz/6eEC0HEmXosEVg0Fj3f6imV6xFPAJ8EGPhJ1yD8YefCqlj+MPMqJokKz2n1rqy98AAAAAzAZ5lakJ/A18bvcg/MFNFk60XA2OrgAuL48RDhwfKXa4iRPTqNM4+9Go5jtwdSuc1a02cAAABUkGaaknhClJlMCE//fEBNjWIT5JApTsVjs8YehLwswAjQ2usB6Ng5nGa3l1UgT6KEw2jZbsn7mfL8Mexbn0C9oVXAb44pgfQ11G7lQ9Cdj8srx86YesEKSRedyybYEGL0oIL8oML/wWeY6yUXmo8lzHyE2n9YslWIJnWrpwJCDSLEANl3mGhGFD4M8HuRqAPg1uv7BlwCiFYSjS+/97vW8ZdxylEa6FlypOLqfG1inA5XVnSkVTvFLtmQhS8wGX53T6nurrI8maotN1Pyaa5/Ty4PZn5iPRpayiUHMvvnJAnwiH519c04KV0zv4jO8nvmv37TuKw/Dtp98jyctGXc1E1FQRLpG9oo09EopWeOiEXwpwpiSMX0ESdEUlU0QDqQxKQPutEkzgmbKhSQFYnYWHnFdmSJEjUTKaL8a8A7K8sAqZ/YRpJKvmeOkgYj2WQlpRhAAAAOUGeiEU0TCv/Ao/f1Vg1TiJM6416PdJeanRsen37GJ7I5lNqwGTAlknK8H7DghACatpj99o5FGTDDQAAAEcBnqd0Qn8DPuenOlU3Judg9fyUtOY7Vqid9+Gw84rBBQbjfBaQRDZodMuYATV5b9X2w7rh3mUr8W03n40ufAeNEZnmoVvFwAAAACUBnqlqQn8DPSewSc9sC7RWF9nxdYP3pZuiUq+e9d6OftuvCXcHAAAAUUGaq0moQWiZTAhP//3xAV32MCFFUIrqn3sUa1DOOz7VqxvmgZXjEszrRc6lH02m4FGbUh1cv07ESlPMEbqNZAsZi1WeHFliUD4n4zvKaOUCQAAAAcZBms1J4QpSZTBREsJ//fEBZqUSfHt5J1BZkFXNMjPoT0GeQWLby6YBkvBhiTxm9OncE6chJM6ucKpXhRmbk61cbxVSPYwbtcT+lSOWjaicKZJMLTCmBzZmudKZASF9Dg65IMTTn/v+AMrAeUrbARpA41C9lFRTgjQxI/CINomxOP0aSueZorzy0/fJSiwrAe5q0vpzqvTXEHgs7CB4GBWQcM88+DLHtDBcdMG14mwXjYvzioNUdh4VmZKGmGxGSvZInbD58nBZqGYt2Xswueo1U3ZsyIowBtvqAq78qw2yVJOxcFB1xOnXBOywJXkuiQhZigBK9bJnXjjrIWLea0+IxgFxTAsfvmeRn/3a1vfbs1drHGLWKksVGgAxpp6RLJJvrcIOXIrogmfF3OIAAAMAYR99gDxyp3ViaTNJla3x8sgTWat/dzfpzBoSrKVCiNFpoiRIbfAYc8npQXw9B1DthaVfS8cF19K6KTIM6IoxkQiPoSEY8rpQNYQh0O36d7tUdnfieHvwU5dJQxU8MxPbtLbbWwnPBat1f9sK3YGjr/JKUZ9AJ5XpbzJNUlXqo7OmsCwpcr1dXtAXCQUiOBBAN4pWucQxAAAARgGe7GpCfwNgbRl6qQiBYk4D7ZlfD3OSz/IC7cH5y1QAlq0IQlh9QRLyDBPEEY/a2Aq/sWv2uEex69RMel7wYCjCUB9O1ZsAAABXQZruSeEOiZTAhX/+OECeI6V/a32Q0v4TudvgbGqgATjqjsZj6HrpruIkSwJ4X1sHjAmPS1SS1/XjHQC6DWCkF0/2OnqoCfRXHNd5xRWP5pLj2eQd82DAAAAAXUGbEEnhDyZTBRU8N//+p4QNSRSENBkaRSERt3pRL36/xEj+YMAs31dA2mcXzR83e/SGXZZzIvV9FNhygtlj2AMAITbEfwljN/xMy+5RIIHV/Cll66J0uMNmOJXlwQAAACcBny9qQn8DXplEcotdwAnDf8aKzMlir/pf4lgpq/+KuYx4CzYu5d4AAAGSQZszSeEPJlMCGf/+nhAzlv/e/otr3L6aXPY8OMm7v1KTmSowAjRK6T/vdm0y847Abtkfug036W+m2Zlk1hl3yO5MGmBdc8EeGn/PUerlb8a9khOCuASNaRBDNqSyCcdyxwGo51hnSiQjeeApxvqHacr86ulxCLVmMEq1m9HCwCFWJH2ywyTbkrYUH24oWCWX6B8bRhMaPIcmwIb2Rl2McealJI07nZm00iIdNL5mfmVSo4N5gH5i7PQ+NX/yzVnjM9I0toZJPWaMK3mtiJLuAWLKSlr+kqEqCLZnPp87nlBPI+PMv1YRyrs8SThdw4fCWx/e7gj5pOr27LgDYWUfdywOl3sxlkzoH0dSSN3nUXt7Jv063oRHzq/roji344PHKlcyzpLnfJtwlmnJjroJgYNslL+xGzNfVH0iGjJHUeeD4mFuPNzWbc/xa9TZh1FjvNIQi7a0wLC386a7hDyMHKRJp7t8cBfYkRbDtuycTP1E4FCqARauuFLvA5wvkqDOB9G/Pl5SHca7B9kpvuPil9yhAAAARkGfUUURPCv/As69tQI5Zq7WtkOoKPbccYuWtTlU+WafJKn6e4p9xbAARB50dh2Dhrh3mUsDmlqsXYXPgWizazzUKuz6g0EAAAAwAZ9yakJ/A4VdSluhDLJzy+AdB944nmZm6bwHBxfU05OuD9hwfABbwph+Rtz0DotAAAAAV0GbdUmoQWiZTBTwz/6eEDOWyV3SrXwNjQnbTHPBMo/ETinSPyymb+1ZMIU30ou5fWIAP3VYVJ+kq5KuB4RKIbKXoqEjgq+6/yGtUd5LAn/IMSs+Nw2O9AAAADcBn5RqQn8DhV1KW5FdwAmSt1dJDjRViJFm0+vUpkKX6vLpQSW4P2HCMAF1CmH5G3PQm8ljNOyhAAABaUGbl0nhClJlMFLDP/6eED1Rk/qEOSd/e755kARK2rMaV0pFl/p/NyOnqqNM04phziTG0ir3eQHw1lGA+cHl9zzGEx1yKyyb5/B6TGUvCbbqxB0hbwMuLsCbgCJ5Kbf1mTrb5FTtX0TbeyICXJUuvRGjoK+1ySYfgNkpZFLiF1iDbN96dLqzBNgSECA4sZsGP5OKc8t7q9JmqthpB6wxQSdHDufWUMyzqNBobAT3iOFE/Z74/7QBEzJ6grxAABSklWxBWyez2StGl3cGFuULHir9xxuOg9kA736X2sllUGFy4A/NXugMlGEdIg74zoq9J/di4SWACUqmZZov/iSDI4JLxgW1upDYKWK8BIVnucGE6ropk2Bm2nYSdzA67oBCOwqatFrYHDp/78bx/p11+8h9d8GFn1pRQUpsCAnDlS3EJqoT5nUxCPdunwDxOMOXiXh/8hhRuJxf6o6Ub2lYI4PYTZ3m6aZ6jmgAAABQAZ+2akJ/A7FL24UR2swjIRSFFWhB79adcH5y9AAXUdTxEROpml5BeaHZxjnrpgSBeB/nqX7Ukqa12fIupwlqhZ/vtP3+S7Cke6qRHbDmlp0AAABIQZu4SeEOiZTAhn/+nhA7joYi2K5WPvv2nLcmsS0856ZK0QAcoQH9po5FczCXX00VOxHch0Pl6i1LyIhMm0il58Mguc3GbRiAAAAAOEGb20nhDyZTAhn//p4QO40CKcYJpUa5QKWTu2juJNzMtLqo3p8T+EZbltLkCCnB/vCmyHvMDXBBAAAAT0Gf+UURPCv/Au6WAjAPrAbu48IdSFJNZLmKBcgzFHI0xgAbozwjPMl2/OACdZ6peXirh/UMPSJ9AEIh69u8WpIJ2RIu4e14Yw8oVEZ1NsEAAAAjAZ4aakJ/A67BYJOe7uRNtcFWJibfGbOHUvBEzePz1KfK8fUAAAFPQZoeSahBaJlMCFf//jhA7X8Z4cLjIAf+wrJNCctk9N0mR+ocQtMAFsGBs8eJxtqp0T5P6DxVsyKT/fuKQZAVO0C6r0pkGRhYiDHIkoMzzXIVIV7LqYBuLjQR/VAxpkPQF3foAcobiCuLG0EOC9FF8je1ALj5LWxpf8DaRuYZnl46gptQZsCoTrVh3+0uWObhC0nfS9e1urA8J+IO3Ffth7ef8NkMVY3U3RgImihSMylvROHnbOpo7NCjr+s04h8LpiSoU7bxaKZ1ORNvvz+WKe9NNseFyDkeXhI07by27L3H7tWyqFWS16+OG6LwTsMRj5Z49pnslfwBJKLtZdiD6rS/O4RE78Aqqo9wRiZpAxO9ruTPntc8NmdE7kQ5GG+EcS/zxmUHxZ/fXmy0yGpCwyqT2g1FDPWc9dehBp8SmUpSKmkFPbPIzJ36F93wIgMAAAAmQZ48RREsK/8DFZI4Jm0d28+2n4DNHcIMQw25kzeJN3OZO4ABL6QAAAA1AZ5dakJ/A9wr24UR2swjIWcghazHsdIIAK2oBRqUIc3Mo0eBySnMXHZDJL9FV80DRcxl9EAAAABHQZpfSahBbJlMCE///fECC6H+5x80OnqOSsO9N4AA7koFGVG1QxapDxkW87+rBC/H/tlY/IAUsYJ3jmYmYfUzduPBWQR0nUEAAANYQZpgSeEKUmUwIT/98fz03zh9wWh5bFFn2IMNuJqOW0k2x+i9GQE2z//DpvTuUhOphBXJmH8JUh15dZhvDqbONz6puJYnXYIGtt3nHelKXlT9r/GgxcZ4hqrWgW+B0EO0EWMvcI4MCvDM+V/ZC6yDabTuL3yj1u8lq98U9sBAVU8cHqaj7UdF64txrzzxLMR2twcFooleC4AjQYwk7snYlxIFKOA/VCXFdWgqiraDgFB0FL+uvGgDMK8OgG9ohmXGB9k4g2HJlfmhTBAV+sbh6wJbtheqUNwsYXzXmyQI1M2fuEj9HT6KinGoZ3Dn5xTjEITJD6Zn5OpouaJ9G8iYVMrm7B1lOZ6EpAtqUGU9eXOm6ZA61mFM8yBm8vJAMMapABMIgNpgF8yIQiU61b/iZttFMX0UOlhv4m5cin7H5bOoQWjn6K8o0V3xnlGGguTzSjcxQbkYw1TldJHET1LqVNiXFNnXW4Op4PAOl4pNSEm1EOnO8ZJPOwY4WZtUx9+u78zr2JofnoYhWsC3CgAUcrEHOMEk7AIeXJW5uVS6VV6Lh286Xx5gD0KVNGHf1x75H/XOpcQS670NLECLgvDOSv6dzXFOBFjyD3Ss6cLJOTK1Ou9NC/EvOqJ5RdiUMGgMDo/0Omft9SY4bcYrflLTev/3H7mwq4yfzRipHZn2blE/f8LtNZjjZ/7RhxzAb8Nv3TUPOUu8Lc0MBaJW+XUSel5r/shYW9+ksGItKDuC27qeTAcuaG34drHnEVGOQ+5tRlCMT3gvXvJB6I3la3OBDCA4ieJrCrZ04BamAfAqm/i4SOjRy4j2VisBoNBbMw73CA3I2uGI7PIyZqk9asYx4RB1Y9XjwTo1COnxc5VW9GGkSM9D4WNIxsYx+Ju+oE1E+97uLQ62Bh9VaBRQ1UrHp9IEkMZS0w1ikbi7FOlVBenaWi++c6te1az20Juy3/rnNeLxagr6299oF8Zg2AbHOGaTWNGgzwglW7YzvIVX+oOuwIEihguWlf2GMPB1RYNsCBkV/S6F3MQvquhdDEvlrdoAhrpe5EhrQeUzfjIp+Snn6c5Vd8c7n3TJAF+Z1hwk9mGbWzpydvCboddLvfiSHFG8hMqQa+QXNdvNEy3QMRtc/KC2eO9RugAAAiJBmoJJ4Q6JlMFNEwz//p497Hg5+k2cMge+RxkLa0yFqs+kKAzAIHxqk3v4PUL6+l14mOwgvEW+jLpoc3sTns0qatgGiak4bLW73URLc1oeTivmeI3J6FLY2dseUtw2POC4OrIaN2bJ10fl+J/iXHLsvYzYkXRCqpBnGk6eICc/+Jffue1TUxstkU58M2eMpDH6kQDD2m5lbzuVvzL0mIZZYJj+j22cLCdu1zWajSGpWH98X6gDQd49HdjBKCLnXy7043+8XKMWBn/V3JCPlYId+QebI9lOz6tFzGP86zRijZ3vhPzKY6AbzY/7scjtBl1f9o31VuCbA5Tz7oSzXcfAFe9UplKjjcRktGXWgnypFA1HxwH207CJtUqx8+GvTxWWSgGQkE1md3SFtLJTzYZ+Yysr6JaUIHQfd9bDTXVpusYrAnNI1FWzTyQMDZ6JgS6W6bIamCvKyeNp6FqpMpObbCFmgRIdNXr1KLXLhfN/aNZ3Lqz38uNr/N3WFRtWSWQEHU27kEqicoc6VZ83hRbmFUVOnr8Sb9waXUYen7aGZqGfa9KN1Q7el810v8zv36Q8iCC0nT35jT24Ymc06JxybnIOMzA2Y+QihCyneCaZEK07QFelTZKZYLKHKoagKlXV7b61kn35f2JUTtQGZLwkO75Ajj1+zweiUuyZc2bFQ/+kpCNcAYSfG8BlYjjrxFc/QoC0WAAS6On60QBnHd20FFgAAACjAZ6hakJ/CThOyH7YS2URW81wwTpsTIn6+X9dwZwgBZrJanUdoodVepWGKAOljIefOa6pBbMOv46xU7qzgCbxZGoBlYYS+lABo2KdhCLplPPjNq/sYcYWfJTayaVUtMsGPm09PHSTsfY4J0WeV2VtcA6dZ36bgxfEplEQrG392mgK/Y0DcsaK2PEpX5Y8Bw3FKSeI5VzXGhGGDzSDqq/WX4YGgQAAAF1BmqRJ4Q8mUwU8L//+jLBXE5lLZ3dqio6bxrTHvxTVBmbCeJ0gEgAWuOscSKIi7tF2xgY7HRhGdx1JfNgMi8hYsEHLTx9qcCbEtjIs+i7no3D+/EvIIB3a0mW88j0AAAAhAZ7DakJ/BAtGiOU2GPh8mUZt2p6RhqdCLyiHY1P0WfF1AAAAO0GaxknhDyZTBTwr//44QRVN8sQ32tv7gnUdrHZ0HYca7CIst2d5YfoL/aWMvcf2ZLPg62XU8B/kC75wAAAAIQGe5WpCfwQLRojlFrtyE4DvDLCGk2/ZhdvAFn7tQbs8cAAAAWtBmulJ4Q8mUwIT//3xAsw9BoQ7QwXwmAEGz8Itv+WSezUYAfRYXLb9TJfcYrdf96Mfvfwr6e3bYrzyLS+fdZ4iHoanjE9V9Kiez52wEgMXZGfkevwyOUOa11umXWzOenL1dgc8cOZ8pCPUsPvE7AZn722JbE5KFDnnrSC8u+puQ0wo2+dCm04RnqqFKT+Pnq9TNV242y1yQ3lE0QjUnhN3Qh0JrdprDs18uco/v+KPgF9P9JxtKcDhnXnDLbYUn5Pzs2APovweolC2l3LueYxJLuqTsH603ooFugxfrG5Y3c93q3pJsJA3RRjas+wbJYdMJY7LQ8B08qHFPLNGcTRCWWa8QrmVECLsuN6I6OktGwGOyvJE5mWpHET00Ybz+52EN5awUjX80Gt7AdXZMZOYWIMdaSJiRnt5GmE5ejduIYSms5Zf1b1WwDZTVUlKPN+WVDhWKxNGc27ZjphtZgG+7CDWtcBR7IvbDYEAAAAjQZ8HRRE8J/8ESnm0RGmSb1WnXcXQKWT1lIRQd+AePWyHFeAAAAAgAZ8oakJ/BEdvYJPvbzll66sJCIB4RFBWXgnV9tWUN0AAAABDQZsqSahBaJlMCE///fECzFrDOGtfV6jCAUi3My66b27xUxkBwAsNVvnOw7zzY3kyQ5IAF3mCQQ/rv0SRQ1GP37FJIQAAAHdBm0tJ4QpSZTAhP/3xAswbULrO5neHsPZngXKfuK2R3/sAF0+6R1kl9fFeOwovYhqnETgYrKvfavEJAyuGws+aE5+iARxeQk1WUOlqmykL5KhmxuogRXKThME2wl4K14NYceQL2v3fpneLaHlqulcf0mzdFbQ2wAAAH8dtb292AAAAbG12aGQAAAAAAAAAAAAAAAAAAAPoAABafwABAAABAAAAAAAAAAAAAAAAAQAAAAAAAAAAAAAAAAAAAAEAAAAAAAAAAAAAAAAAAEAAAAAAAAAAAAAAAAAAAAAAAAAAAAAAAAAAAAAAAAACAAAe8XRyYWsAAABcdGtoZAAAAAMAAAAAAAAAAAAAAAEAAAAAAABafwAAAAAAAAAAAAAAAAAAAAAAAQAAAAAAAAAAAAAAAAAAAAEAAAAAAAAAAAAAAAAAAEAAAAAAoAAAAPoAAAAAACRlZHRzAAAAHGVsc3QAAAAAAAAAAQAAWn8AAAQAAAEAAAAAHmltZGlhAAAAIG1kaGQAAAAAAAAAAAAAAAAAADwAAAVuAFXEAAAAAAAtaGRscgAAAAAAAAAAdmlkZQAAAAAAAAAAAAAAAFZpZGVvSGFuZGxlcgAAAB4UbWluZgAAABR2bWhkAAAAAQAAAAAAAAAAAAAAJGRpbmYAAAAcZHJlZgAAAAAAAAABAAAADHVybCAAAAABAAAd1HN0YmwAAACYc3RzZAAAAAAAAAABAAAAiGF2YzEAAAAAAAAAAQAAAAAAAAAAAAAAAAAAAAAAoAD6AEgAAABIAAAAAAAAAAEAAAAAAAAAAAAAAAAAAAAAAAAAAAAAAAAAAAAAAAAAAAAY//8AAAAyYXZjQwFkAAz/4QAZZ2QADKzZQoIfkhAAAAMAEAAAAwPA8UKZYAEABmjr48siwAAAABhzdHRzAAAAAAAAAAEAAAK3AAACAAAAABxzdHNzAAAAAAAAAAMAAAABAAAA0gAAAcwAABHgY3R0cwAAAAAAAAI6AAAAAQAABAAAAAABAAAIAAAAAAIAAAIAAAAAAQAACgAAAAABAAAEAAAAAAEAAAAAAAAAAQAAAgAAAAABAAAIAAAAAAIAAAIAAAAAAQAACAAAAAACAAACAAAAAAEAAAgAAAAAAgAAAgAAAAABAAAIAAAAAAIAAAIAAAAAAQAABgAAAAABAAACAAAAAAEAAAYAAAAAAQAAAgAAAAABAAAIAAAAAAIAAAIAAAAAAQAABgAAAAABAAACAAAAAAEAAAYAAAAAAQAAAgAAAAABAAAEAAAAAAEAAAYAAAAAAQAAAgAAAAABAAAGAAAAAAEAAAIAAAAAAQAACgAAAAABAAAEAAAAAAEAAAAAAAAAAQAAAgAAAAABAAAIAAAAAAIAAAIAAAAAAQAABAAAAAABAAAIAAAAAAIAAAIAAAAAAQAABAAAAAABAAAKAAAAAAEAAAQAAAAAAQAAAAAAAAABAAACAAAAAAEAAAYAAAAAAQAAAgAAAAABAAAIAAAAAAIAAAIAAAAAAQAACgAAAAABAAAEAAAAAAEAAAAAAAAAAQAAAgAAAAACAAAEAAAAAAEAAAgAAAAAAgAAAgAAAAABAAAEAAAAAAEAAAYAAAAAAQAAAgAAAAABAAAEAAAAAAEAAAYAAAAAAQAAAgAAAAABAAAIAAAAAAIAAAIAAAAAAQAACAAAAAACAAACAAAAAAEAAAgAAAAAAgAAAgAAAAADAAAEAAAAAAEAAAgAAAAAAgAAAgAAAAABAAAGAAAAAAEAAAIAAAAAAgAABAAAAAABAAAIAAAAAAIAAAIAAAAAAQAABgAAAAABAAACAAAAAAEAAAQAAAAAAQAACAAAAAACAAACAAAAAAIAAAQAAAAAAQAABgAAAAABAAACAAAAAAYAAAQAAAAAAQAABgAAAAABAAACAAAAAAEAAAYAAAAAAQAAAgAAAAABAAAGAAAAAAEAAAIAAAAABAAABAAAAAABAAAGAAAAAAEAAAIAAAAAAQAACAAAAAACAAACAAAAAAEAAAYAAAAAAQAAAgAAAAABAAAGAAAAAAEAAAIAAAAAAQAABAAAAAABAAAGAAAAAAEAAAIAAAAAAQAACgAAAAABAAAEAAAAAAEAAAAAAAAAAQAAAgAAAAAEAAAEAAAAAAEAAAYAAAAAAQAAAgAAAAABAAAGAAAAAAEAAAIAAAAAAQAABgAAAAABAAACAAAAAAEAAAgAAAAAAgAAAgAAAAACAAAEAAAAAAEAAAYAAAAAAQAAAgAAAAABAAAGAAAAAAEAAAIAAAAAAQAACAAAAAACAAACAAAAAAIAAAQAAAAAAQAABgAAAAABAAACAAAAAAEAAAYAAAAAAQAAAgAAAAABAAAKAAAAAAEAAAQAAAAAAQAAAAAAAAABAAACAAAAAAEAAAYAAAAAAQAAAgAAAAAEAAAEAAAAAAEAAAoAAAAAAQAABAAAAAABAAAAAAAAAAEAAAIAAAAAAQAABAAAAAABAAAGAAAAAAEAAAIAAAAAAQAABgAAAAABAAACAAAAAAEAAAgAAAAAAgAAAgAAAAAEAAAEAAAAAAEAAAoAAAAAAQAABAAAAAABAAAAAAAAAAEAAAIAAAAAAQAACAAAAAACAAACAAAAAAEAAAYAAAAAAQAAAgAAAAABAAAEAAAAAAEAAAoAAAAAAQAABAAAAAABAAAAAAAAAAEAAAIAAAAAAgAABAAAAAABAAAGAAAAAAEAAAIAAAAABAAABAAAAAABAAAGAAAAAAEAAAIAAAAAAQAABgAAAAABAAACAAAAAAEAAAoAAAAAAQAABAAAAAABAAAAAAAAAAEAAAIAAAAAAwAABAAAAAABAAAIAAAAAAIAAAIAAAAAAQAABgAAAAABAAACAAAAAAIAAAQAAAAAAQAABgAAAAABAAACAAAAAAEAAAYAAAAAAQAAAgAAAAABAAAKAAAAAAEAAAQAAAAAAQAAAAAAAAABAAACAAAAAAEAAAQAAAAAAQAABgAAAAABAAACAAAAAAIAAAQAAAAAAQAACAAAAAACAAACAAAAAAEAAAYAAAAAAQAAAgAAAAABAAAIAAAAAAIAAAIAAAAAAQAACAAAAAACAAACAAAAAAEAAAoAAAAAAQAABAAAAAABAAAAAAAAAAEAAAIAAAAAAgAABAAAAAABAAAGAAAAAAEAAAIAAAAAAQAABgAAAAABAAACAAAAAAEAAAoAAAAAAQAABAAAAAABAAAAAAAAAAEAAAIAAAAAAQAABgAAAAABAAACAAAAAAEAAAgAAAAAAgAAAgAAAAACAAAEAAAAAAEAAAYAAAAAAQAAAgAAAAABAAAGAAAAAAEAAAIAAAAAAQAACgAAAAABAAAEAAAAAAEAAAAAAAAAAQAAAgAAAAABAAAGAAAAAAEAAAIAAAAAAQAABgAAAAABAAACAAAAAAEAAAgAAAAAAgAAAgAAAAADAAAEAAAAAAEAAAYAAAAAAQAAAgAAAAACAAAEAAAAAAEAAAoAAAAAAQAABAAAAAABAAAAAAAAAAEAAAIAAAAAAQAACAAAAAACAAACAAAAAAMAAAQAAAAAAQAABgAAAAABAAACAAAAAAEAAAYAAAAAAQAAAgAAAAABAAAIAAAAAAIAAAIAAAAAAQAABAAAAAABAAAKAAAAAAEAAAQAAAAAAQAAAAAAAAABAAACAAAAAAEAAAgAAAAAAgAAAgAAAAABAAAGAAAAAAEAAAIAAAAAAQAABgAAAAABAAACAAAAAAEAAAgAAAAAAgAAAgAAAAABAAAIAAAAAAIAAAIAAAAAAQAABgAAAAABAAACAAAAAAEAAAoAAAAAAQAABAAAAAABAAAAAAAAAAEAAAIAAAAAAQAACgAAAAABAAAEAAAAAAEAAAAAAAAAAQAAAgAAAAABAAAKAAAAAAEAAAQAAAAAAQAAAAAAAAABAAACAAAAAAEAAAoAAAAAAQAABAAAAAABAAAAAAAAAAEAAAIAAAAAAQAACgAAAAABAAAEAAAAAAEAAAAAAAAAAQAAAgAAAAABAAAKAAAAAAEAAAQAAAAAAQAAAAAAAAABAAACAAAAAAEAAAoAAAAAAQAABAAAAAABAAAAAAAAAAEAAAIAAAAAAQAABgAAAAABAAACAAAAAAEAAAYAAAAAAQAAAgAAAAABAAAEAAAAAAEAAAYAAAAAAQAAAgAAAAABAAAKAAAAAAEAAAQAAAAAAQAAAAAAAAABAAACAAAAAAEAAAgAAAAAAgAAAgAAAAABAAAGAAAAAAEAAAIAAAAAAQAACAAAAAACAAACAAAAAAEAAAgAAAAAAgAAAgAAAAACAAAEAAAAAAEAAAYAAAAAAQAAAgAAAAABAAAEAAAAAAEAAAYAAAAAAQAAAgAAAAABAAAKAAAAAAEAAAQAAAAAAQAAAAAAAAABAAACAAAAAAEAAAgAAAAAAgAAAgAAAAABAAAIAAAAAAIAAAIAAAAAAQAABgAAAAABAAACAAAAAAEAAAoAAAAAAQAABAAAAAABAAAAAAAAAAEAAAIAAAAAAQAABgAAAAABAAACAAAAAAEAAAYAAAAAAQAAAgAAAAABAAAKAAAAAAEAAAQAAAAAAQAAAAAAAAABAAACAAAAAAEAAAQAAAAAAQAABgAAAAABAAACAAAAAAEAAAgAAAAAAgAAAgAAAAABAAAGAAAAAAEAAAIAAAAAAQAABgAAAAABAAACAAAAAAEAAAYAAAAAAQAAAgAAAAABAAAEAAAAAAEAAAoAAAAAAQAABAAAAAABAAAAAAAAAAEAAAIAAAAAAQAACAAAAAACAAACAAAAAAEAAAYAAAAAAQAAAgAAAAABAAAKAAAAAAEAAAQAAAAAAQAAAAAAAAABAAACAAAAAAEAAAgAAAAAAgAAAgAAAAABAAAEAAAAAAEAAAgAAAAAAgAAAgAAAAACAAAEAAAAAAEAAAgAAAAAAgAAAgAAAAABAAAEAAAAAAEAAAYAAAAAAQAAAgAAAAABAAAEAAAAAAEAAAYAAAAAAQAAAgAAAAABAAAEAAAAAAEAAAYAAAAAAQAAAgAAAAABAAAIAAAAAAIAAAIAAAAAAQAABgAAAAABAAACAAAAAAEAAAYAAAAAAQAAAgAAAAABAAAEAAAAAAEAAAoAAAAAAQAABAAAAAABAAAAAAAAAAEAAAIAAAAAAgAABAAAAAABAAAIAAAAAAIAAAIAAAAAAQAABgAAAAABAAACAAAAAAMAAAQAAAAAAQAABgAAAAABAAACAAAAAAIAAAQAAAAAAQAABgAAAAABAAACAAAAAAEAAAQAAAAAAQAABgAAAAABAAACAAAAAAEAAAYAAAAAAQAAAgAAAAABAAAIAAAAAAIAAAIAAAAAAQAABAAAAAABAAAGAAAAAAEAAAIAAAAABAAABAAAAAABAAAGAAAAAAEAAAIAAAAAAQAABAAAAAABAAAGAAAAAAEAAAIAAAAAAQAACAAAAAACAAACAAAAAAEAAAQAAAAAAQAACgAAAAABAAAEAAAAAAEAAAAAAAAAAQAAAgAAAAABAAAIAAAAAAIAAAIAAAAAAQAABAAAAAABAAAIAAAAAAIAAAIAAAAAAQAABAAAAAABAAAGAAAAAAEAAAIAAAAAAQAACgAAAAABAAAEAAAAAAEAAAAAAAAAAQAAAgAAAAABAAAGAAAAAAEAAAIAAAAAAgAABAAAAAABAAAIAAAAAAIAAAIAAAAAAQAACAAAAAACAAACAAAAAAEAAAgAAAAAAgAAAgAAAAACAAAEAAAAAAEAAAgAAAAAAgAAAgAAAAABAAAGAAAAAAEAAAIAAAAAAQAABAAAAAABAAAGAAAAAAEAAAIAAAAAAQAABAAAAAABAAAKAAAAAAEAAAQAAAAAAQAAAAAAAAABAAACAAAAAAEAAAgAAAAAAgAAAgAAAAABAAAGAAAAAAEAAAIAAAAAAQAACAAAAAACAAACAAAAAAEAAAYAAAAAAQAAAgAAAAABAAAGAAAAAAEAAAIAAAAAAQAABgAAAAABAAACAAAAAAIAAAQAAAAAAQAACAAAAAACAAACAAAAAAEAAAQAAAAAAQAACgAAAAABAAAEAAAAAAEAAAAAAAAAAQAAAgAAAAACAAAEAAAAAAEAAAYAAAAAAQAAAgAAAAABAAAEAAAAAAEAAAgAAAAAAgAAAgAAAAABAAAIAAAAAAIAAAIAAAAAAQAABgAAAAABAAACAAAAAAEAAAYAAAAAAQAAAgAAAAABAAAEAAAAAAEAAAoAAAAAAQAABAAAAAABAAAAAAAAAAEAAAIAAAAAAQAABgAAAAABAAACAAAAAAEAAAYAAAAAAQAAAgAAAAADAAAEAAAAAAEAAAgAAAAAAgAAAgAAAAABAAAGAAAAAAEAAAIAAAAAAQAABgAAAAABAAACAAAAAAEAAAgAAAAAAgAAAgAAAAACAAAEAAAAAAEAAAYAAAAAAQAAAgAAAAABAAAIAAAAAAIAAAIAAAAAAQAACAAAAAACAAACAAAAAAEAAAYAAAAAAQAAAgAAAAACAAAEAAAAAAEAAAYAAAAAAQAAAgAAAAABAAAEAAAAAAEAAAgAAAAAAgAAAgAAAAABAAAGAAAAAAEAAAIAAAAAAQAABAAAAAABAAAGAAAAAAEAAAIAAAAAAQAABgAAAAABAAACAAAAAAEAAAoAAAAAAQAABAAAAAABAAAAAAAAAAEAAAIAAAAAAQAABAAAAAABAAAIAAAAAAIAAAIAAAAAAQAABgAAAAABAAACAAAAAAEAAAoAAAAAAQAABAAAAAABAAAAAAAAAAEAAAIAAAAAAQAABAAAAAABAAAGAAAAAAEAAAIAAAAAAQAABAAAAAABAAAGAAAAAAEAAAIAAAAAAQAACAAAAAACAAACAAAAAAEAAAYAAAAAAQAAAgAAAAABAAAGAAAAAAEAAAIAAAAAAQAABAAAAAABAAAIAAAAAAIAAAIAAAAAAQAACAAAAAACAAACAAAAAAIAAAQAAAAAAQAABgAAAAABAAACAAAAAAEAAAYAAAAAAQAAAgAAAAABAAAGAAAAAAEAAAIAAAAAAQAACAAAAAACAAACAAAAAAIAAAQAAAAAHHN0c2MAAAAAAAAAAQAAAAEAAAK3AAAAAQAACvBzdHN6AAAAAAAAAAAAAAK3AAAHVAAAAH8AAAAgAAAAKgAAANAAAAB8AAAAMQAAADIAAACeAAAASwAAACQAAAC1AAAARwAAADgAAAC0AAAAOQAAADMAAAHHAAAAQgAAAE4AAACZAAAASgAAACEAAAA5AAAAQQAAABwAAABIAAAAIQAAABUAAACOAAAAMAAAAD0AAABaAAAANAAAAMMAAAA9AAABngAAAC0AAAAgAAAAPQAAAFAAAAA8AAAAMgAAAGEAAAEXAAAAQwAAADIAAAC/AAABJgAAAEMAAABCAAAAOAAAAOMAAAA6AAABZwAAAEYAAABAAAABHQAAADIAAAA8AAAAJgAAAcEAAABaAAAD0wAAAG0AAACRAAACMwAAAFUAAABvAAADwgAAAlEAAAFiAAAAVAAAADEAAABQAAABtAAAACoAAAAsAAAAWgAAAC0AAAApAAAAQAAAAakAAABGAAAAvAAAAE8AAAArAAAB0wAAAEIAAAA+AAAAXAAAAG4AAABKAAAARgAAAXMAAABCAAAARAAAAM8AAABEAAAAPQAAAGkAAAETAAAApwAAAEcAAAEgAAAAkAAAAHoAAABWAAAAWgAAAFMAAADcAAAAcQAAAMMAAAAhAAACEQAAAC0AAABBAAAAUwAAAP4AAAB/AAABZQAAAEIAAACqAAAARQAAADMAAADdAAAAcgAAAMkAAABqAAAAwwAAAXMAAAA5AAABJAAAAEAAAAA6AAAAPQAAAbwAAABTAAAAQQAAAEAAAAHAAAAAQAAAAFkAAAA7AAABAQAAACsAAAF8AAAAcAAAACcAAABXAAAASQAAATMAAABRAAAAOwAAAGAAAADrAAAALAAAADoAAAA/AAAASgAAAUkAAABBAAAAQgAAAD0AAAG0AAAAQAAAAEYAAAA0AAAAUAAAAD0AAABSAAABtwAAAF8AAABcAAABpgAAADoAAAAqAAAASwAAAFEAAAA+AAAANwAAAcIAAABEAAAAQQAAAEEAAAA+AAAAOAAAAbcAAABlAAAAWAAAAcoAAABEAAAATgAAAEMAAABKAAAASAAAAD0AAABaAAAAKgAAA9wAAAI4AAAAygAAAD4AAABvAAACwAAAAYUAAAO/AAAAYAAAAdYAAAYoAAAAeQAAAHQAAAAzAAAAIwAAARQAAAAjAAABKAAAAFEAAAAsAAAAIwAAAS8AAABFAAAAzgAAAa4AAAArAAAAbwAAARcAAABoAAAAVQAAAZgAAAB5AAAAQgAAAWYAAABiAAAA+gAAAH0AAABjAAAAMQAAAE4AAADJAAAAbQAAAFAAAADpAAABVwAAAK4AAAA2AAAA6QAAAD0AAAFeAAAASQAAAEYAAAEtAAAAPwAAACwAAAHJAAAASwAAACIAAAA3AAAASQAAAFYAAABrAAAAPQAAAbUAAABAAAAATwAAAEUAAAAmAAAAPAAAAYUAAAAzAAAAYQAAADsAAAA7AAABmgAAAJAAAABHAAAAOQAAAZkAAAA5AAABNAAAADsAAAA1AAAAVAAAAQsAAAA4AAAARAAAAGEAAADRAAAARgAAAFgAAAA+AAAAsAAAAFkAAAFYAAAAKAAAAEsAAABPAAABJQAAAEEAAAA9AAAANwAAAUUAAAArAAAANwAAAEgAAABUAAAAUAAAAP8AAAAkAAAAswAAAF0AAAA4AAAAXAAAACEAAADBAAAAOwAAACkAAAAlAAAAIAAAAL0AAABBAAAAJAAAAF8AAAAzAAABdQAAAF4AAAAuAAAAIwAAAGAAAABPAAAAXAAAACAAAAAyAAAAIAAAAUoAAAAlAAAAGgAAABYAAAAjAAAAGQAAABYAAAAVAAAAFgAAABgAAAAVAAAAFQAAABYAAAAYAAAAFQAAABUAAAAWAAAAGAAAABUAAAAVAAAAFQAAABgAAAAVAAAAFQAAARYAAACHAAAAIwAAAC4AAADGAAAANgAAAG0AAAA0AAAA3AAAADkAAAAvAAABiwAAAEsAAAAiAAAAMAAAAFcAAAA4AAAAMQAAATIAAAA9AAAAMQAAAEcAAAAmAAABMwAAAJIAAABBAAAATQAAAFYAAAG+AAAAgwAAAD8AAABDAAAAdwAAAOEAAAAmAAAASwAAACEAAADZAAAAbgAAACIAAAB0AAAAJgAAADoAAABTAAAAIAAAAX4AAACPAAAAJgAAADIAAABIAAAAQgAAAQkAAAApAAAAzAAAADoAAABDAAAAIgAAATkAAAE+AAAAOQAAAakAAABKAAAASQAAAD0AAAAlAAAAQAAAAEIAAAGoAAAAPAAAAGUAAAFLAAAAXwAAAEMAAAAlAAAAaAAAAEcAAAA7AAACOgAAAEsAAAIGAAAARwAAAEcAAABBAAAAUgAAACsAAAAnAAAAQgAAAccAAAAsAAAAKgAAAEcAAAA4AAABfgAAADgAAAAoAAAAUQAAADwAAAAnAAAAuAAAAZ8AAAA6AAAGIAAAAEUAAAA0AAACPAAAAEAAAABmAAAAlgAAAC0AAABWAAAAIwAAAEQAAAEyAAAAOgAAACsAAAAmAAAAUAAAAEUAAAE+AAAANwAAAEEAAAE0AAAANgAAAGAAAABbAAAASgAAAWoAAAArAAAAYQAAAEwAAAE+AAAAOQAAAcEAAACAAAAAQwAAAEAAAAAtAAABpgAAAEwAAAA7AAAASAAAAZEAAAA8AAAA/gAAAKAAAABHAAAAYQAAAG4AAAApAAAASwAAAVAAAABdAAAAWQAAACoAAABXAAAASwAAAUIAAABIAAAAcQAAADUAAADlAAAAOgAAADQAAABOAAAA3wAAAEMAAABAAAAATgAAARgAAAAmAAABJAAAAH4AAABEAAAAPwAAAcUAAAA5AAAAWgAAAFMAAAGeAAAASwAAACsAAABdAAAAKgAAADkAAAG/AAAAOgAAADUAAABdAAAAVgAAAY4AAABFAAAAKgAAAF8AAAAuAAAAUQAAAZYAAAA3AAAAYwAAAiMAAAAvAAAASQAAAF0AAADiAAAAPwAAACgAAABSAAAAJwAAAUAAAAAqAAAAYwAAAEAAAAAlAAABMAAAAH8AAABTAAAAJQAAAEgAAABZAAABiwAAANkAAAA8AAAAMgAAAcwAAABDAAAAQAAAADwAAABpAAAAYAAAAZIAAABBAAAARQAAAPgAAAAvAAAAOQAAAHAAAABAAAAANwAAAbwAAABHAAAAQAAAACQAAABMAAABzAAAAFQAAABFAAAARQAAAGsAAAA2AAABjwAAAG4AAAGHAAAAUgAAAEoAAABmAAAAKgAAACUAAAGKAAAANgAAAE4AAABgAAAA6gAAAEoAAACMAAAAWgAAAFYAAAFjAAAASwAAAN8AAABHAAAAKwAAAUEAAABNAAAAKAAAAVAAAAA5AAAAcwAAAGoAAAGhAAAARAAAADkAAADQAAAAMAAAAD4AAABcAAAAOAAAAHEAAAGSAAAASAAAAFgAAABBAAABzQAAAEYAAABTAAAAOgAAAF0AAAF/AAAASQAAAEYAAABBAAAANwAAAVYAAAA9AAAASwAAACkAAABVAAABygAAAEoAAABbAAAAYQAAACsAAAGWAAAASgAAADQAAABbAAAAOwAAAW0AAABUAAAATAAAADwAAABTAAAAJwAAAVMAAAAqAAAAOQAAAEsAAANcAAACJgAAAKcAAABhAAAAJQAAAD8AAAAlAAABbwAAACcAAAAkAAAARwAAAHsAAAAUc3RjbwAAAAAAAAABAAAAMAAAAGJ1ZHRhAAAAWm1ldGEAAAAAAAAAIWhkbHIAAAAAAAAAAG1kaXJhcHBsAAAAAAAAAAAAAAAALWlsc3QAAAAlqXRvbwAAAB1kYXRhAAAAAQAAAABMYXZmNTcuODMuMTAw\" type=\"video/mp4\" />\n",
              "             </video>"
            ],
            "text/plain": [
              "<IPython.core.display.HTML object>"
            ]
          },
          "metadata": {
            "tags": []
          }
        },
        {
          "output_type": "stream",
          "text": [
            "Hello World\n"
          ],
          "name": "stdout"
        }
      ]
    },
    {
      "cell_type": "code",
      "metadata": {
        "id": "0j16Rl2eF-9d",
        "colab_type": "code",
        "colab": {}
      },
      "source": [
        ""
      ],
      "execution_count": 0,
      "outputs": []
    }
  ]
}