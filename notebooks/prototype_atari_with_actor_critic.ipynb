{
  "nbformat": 4,
  "nbformat_minor": 0,
  "metadata": {
    "colab": {
      "name": "Copy of prototype_atari_with_actor_critic.ipynb",
      "provenance": [],
      "collapsed_sections": [],
      "machine_shape": "hm",
      "include_colab_link": true
    },
    "kernelspec": {
      "name": "python3",
      "display_name": "Python 3"
    },
    "accelerator": "GPU",
    "widgets": {
      "application/vnd.jupyter.widget-state+json": {
        "79e79618b59147bd94bd92d5f539c086": {
          "model_module": "@jupyter-widgets/controls",
          "model_name": "HBoxModel",
          "state": {
            "_view_name": "HBoxView",
            "_dom_classes": [],
            "_model_name": "HBoxModel",
            "_view_module": "@jupyter-widgets/controls",
            "_model_module_version": "1.5.0",
            "_view_count": null,
            "_view_module_version": "1.5.0",
            "box_style": "",
            "layout": "IPY_MODEL_6f47aeb94e65452583b2d4d83b079d3f",
            "_model_module": "@jupyter-widgets/controls",
            "children": [
              "IPY_MODEL_47f94056e0a6436aa1cf3410fb77738e",
              "IPY_MODEL_082ec81e748b48bcbf3be8bc763fd388"
            ]
          }
        },
        "6f47aeb94e65452583b2d4d83b079d3f": {
          "model_module": "@jupyter-widgets/base",
          "model_name": "LayoutModel",
          "state": {
            "_view_name": "LayoutView",
            "grid_template_rows": null,
            "right": null,
            "justify_content": null,
            "_view_module": "@jupyter-widgets/base",
            "overflow": null,
            "_model_module_version": "1.2.0",
            "_view_count": null,
            "flex_flow": null,
            "width": null,
            "min_width": null,
            "border": null,
            "align_items": null,
            "bottom": null,
            "_model_module": "@jupyter-widgets/base",
            "top": null,
            "grid_column": null,
            "overflow_y": null,
            "overflow_x": null,
            "grid_auto_flow": null,
            "grid_area": null,
            "grid_template_columns": null,
            "flex": null,
            "_model_name": "LayoutModel",
            "justify_items": null,
            "grid_row": null,
            "max_height": null,
            "align_content": null,
            "visibility": null,
            "align_self": null,
            "height": null,
            "min_height": null,
            "padding": null,
            "grid_auto_rows": null,
            "grid_gap": null,
            "max_width": null,
            "order": null,
            "_view_module_version": "1.2.0",
            "grid_template_areas": null,
            "object_position": null,
            "object_fit": null,
            "grid_auto_columns": null,
            "margin": null,
            "display": null,
            "left": null
          }
        },
        "47f94056e0a6436aa1cf3410fb77738e": {
          "model_module": "@jupyter-widgets/controls",
          "model_name": "FloatProgressModel",
          "state": {
            "_view_name": "ProgressView",
            "style": "IPY_MODEL_a9eab301e7404f4f80fb1be1a187c2e4",
            "_dom_classes": [],
            "description": "  0%",
            "_model_name": "FloatProgressModel",
            "bar_style": "danger",
            "max": 1000,
            "_view_module": "@jupyter-widgets/controls",
            "_model_module_version": "1.5.0",
            "value": 0,
            "_view_count": null,
            "_view_module_version": "1.5.0",
            "orientation": "horizontal",
            "min": 0,
            "description_tooltip": null,
            "_model_module": "@jupyter-widgets/controls",
            "layout": "IPY_MODEL_1518fae1c4224e98ba432dd252d8ce77"
          }
        },
        "082ec81e748b48bcbf3be8bc763fd388": {
          "model_module": "@jupyter-widgets/controls",
          "model_name": "HTMLModel",
          "state": {
            "_view_name": "HTMLView",
            "style": "IPY_MODEL_39690f2b21534c8ea866e1c535c5c8a1",
            "_dom_classes": [],
            "description": "",
            "_model_name": "HTMLModel",
            "placeholder": "​",
            "_view_module": "@jupyter-widgets/controls",
            "_model_module_version": "1.5.0",
            "value": " 0/1000 [00:00&lt;?, ?it/s]",
            "_view_count": null,
            "_view_module_version": "1.5.0",
            "description_tooltip": null,
            "_model_module": "@jupyter-widgets/controls",
            "layout": "IPY_MODEL_4320c5d629a44ea391eb459c2ab9e0af"
          }
        },
        "a9eab301e7404f4f80fb1be1a187c2e4": {
          "model_module": "@jupyter-widgets/controls",
          "model_name": "ProgressStyleModel",
          "state": {
            "_view_name": "StyleView",
            "_model_name": "ProgressStyleModel",
            "description_width": "initial",
            "_view_module": "@jupyter-widgets/base",
            "_model_module_version": "1.5.0",
            "_view_count": null,
            "_view_module_version": "1.2.0",
            "bar_color": null,
            "_model_module": "@jupyter-widgets/controls"
          }
        },
        "1518fae1c4224e98ba432dd252d8ce77": {
          "model_module": "@jupyter-widgets/base",
          "model_name": "LayoutModel",
          "state": {
            "_view_name": "LayoutView",
            "grid_template_rows": null,
            "right": null,
            "justify_content": null,
            "_view_module": "@jupyter-widgets/base",
            "overflow": null,
            "_model_module_version": "1.2.0",
            "_view_count": null,
            "flex_flow": null,
            "width": null,
            "min_width": null,
            "border": null,
            "align_items": null,
            "bottom": null,
            "_model_module": "@jupyter-widgets/base",
            "top": null,
            "grid_column": null,
            "overflow_y": null,
            "overflow_x": null,
            "grid_auto_flow": null,
            "grid_area": null,
            "grid_template_columns": null,
            "flex": null,
            "_model_name": "LayoutModel",
            "justify_items": null,
            "grid_row": null,
            "max_height": null,
            "align_content": null,
            "visibility": null,
            "align_self": null,
            "height": null,
            "min_height": null,
            "padding": null,
            "grid_auto_rows": null,
            "grid_gap": null,
            "max_width": null,
            "order": null,
            "_view_module_version": "1.2.0",
            "grid_template_areas": null,
            "object_position": null,
            "object_fit": null,
            "grid_auto_columns": null,
            "margin": null,
            "display": null,
            "left": null
          }
        },
        "39690f2b21534c8ea866e1c535c5c8a1": {
          "model_module": "@jupyter-widgets/controls",
          "model_name": "DescriptionStyleModel",
          "state": {
            "_view_name": "StyleView",
            "_model_name": "DescriptionStyleModel",
            "description_width": "",
            "_view_module": "@jupyter-widgets/base",
            "_model_module_version": "1.5.0",
            "_view_count": null,
            "_view_module_version": "1.2.0",
            "_model_module": "@jupyter-widgets/controls"
          }
        },
        "4320c5d629a44ea391eb459c2ab9e0af": {
          "model_module": "@jupyter-widgets/base",
          "model_name": "LayoutModel",
          "state": {
            "_view_name": "LayoutView",
            "grid_template_rows": null,
            "right": null,
            "justify_content": null,
            "_view_module": "@jupyter-widgets/base",
            "overflow": null,
            "_model_module_version": "1.2.0",
            "_view_count": null,
            "flex_flow": null,
            "width": null,
            "min_width": null,
            "border": null,
            "align_items": null,
            "bottom": null,
            "_model_module": "@jupyter-widgets/base",
            "top": null,
            "grid_column": null,
            "overflow_y": null,
            "overflow_x": null,
            "grid_auto_flow": null,
            "grid_area": null,
            "grid_template_columns": null,
            "flex": null,
            "_model_name": "LayoutModel",
            "justify_items": null,
            "grid_row": null,
            "max_height": null,
            "align_content": null,
            "visibility": null,
            "align_self": null,
            "height": null,
            "min_height": null,
            "padding": null,
            "grid_auto_rows": null,
            "grid_gap": null,
            "max_width": null,
            "order": null,
            "_view_module_version": "1.2.0",
            "grid_template_areas": null,
            "object_position": null,
            "object_fit": null,
            "grid_auto_columns": null,
            "margin": null,
            "display": null,
            "left": null
          }
        }
      }
    }
  },
  "cells": [
    {
      "cell_type": "markdown",
      "metadata": {
        "id": "view-in-github",
        "colab_type": "text"
      },
      "source": [
        "<a href=\"https://colab.research.google.com/github/tianhaoz95/ultron/blob/dev%2Ftry-atari-game/notebooks/prototype_atari_with_actor_critic.ipynb\" target=\"_parent\"><img src=\"https://colab.research.google.com/assets/colab-badge.svg\" alt=\"Open In Colab\"/></a>"
      ]
    },
    {
      "cell_type": "code",
      "metadata": {
        "id": "DX_OfbY42iKs",
        "colab_type": "code",
        "colab": {}
      },
      "source": [
        "!pip install gym pyvirtualdisplay tqdm > /dev/null 2>&1\n",
        "!apt-get install -y xvfb python-opengl ffmpeg x11-utils > /dev/null 2>&1"
      ],
      "execution_count": 0,
      "outputs": []
    },
    {
      "cell_type": "code",
      "metadata": {
        "id": "JM66lPmrmUx1",
        "colab_type": "code",
        "outputId": "5f77504f-738d-4178-cfc4-caded72efd84",
        "colab": {
          "base_uri": "https://localhost:8080/",
          "height": 34
        }
      },
      "source": [
        "!apt-get update > /dev/null 2>&1\n",
        "!apt-get install cmake > /dev/null 2>&1\n",
        "!pip install --upgrade setuptools 2>&1\n",
        "!pip install ez_setup > /dev/null 2>&1\n",
        "!pip install gym[atari] > /dev/null 2>&1\n",
        "!pip install gputil > /dev/null 2>&1\n",
        "!pip install pyglet==1.2.4 > /dev/null 2>&1"
      ],
      "execution_count": 2,
      "outputs": [
        {
          "output_type": "stream",
          "text": [
            "Requirement already up-to-date: setuptools in /usr/local/lib/python3.6/dist-packages (46.1.3)\n"
          ],
          "name": "stdout"
        }
      ]
    },
    {
      "cell_type": "code",
      "metadata": {
        "id": "KxSzy33ETUiX",
        "colab_type": "code",
        "outputId": "de4b4e44-77b9-4f99-9670-00cc2d0798cf",
        "colab": {
          "base_uri": "https://localhost:8080/",
          "height": 340
        }
      },
      "source": [
        "import tensorflow as tf\n",
        "import GPUtil\n",
        "print(\"Tensorflow version \" + tf.__version__)\n",
        "try:\n",
        "  tpu = tf.distribute.cluster_resolver.TPUClusterResolver()  # TPU detection\n",
        "  print('Running on TPU ', tpu.cluster_spec().as_dict()['worker'])\n",
        "  tf.config.experimental_connect_to_cluster(tpu)\n",
        "  tf.tpu.experimental.initialize_tpu_system(tpu)\n",
        "  tpu_strategy = tf.distribute.experimental.TPUStrategy(tpu)\n",
        "except ValueError:\n",
        "  try:\n",
        "    print('ERROR: Not connected to a TPU runtime!')\n",
        "    GPUs = GPUtil.getGPUs()\n",
        "    print('GPU count: ' + str(len(GPUs)))\n",
        "    gpu_info = !nvidia-smi\n",
        "    gpu_info = '\\n'.join(gpu_info)\n",
        "    if gpu_info.find('failed') >= 0:\n",
        "      print('Select the Runtime > \"Change runtime type\" menu to enable a GPU accelerator, ')\n",
        "      print('and then re-execute this cell.')\n",
        "    else:\n",
        "      print(gpu_info)\n",
        "  except:\n",
        "    print('Using CPU')"
      ],
      "execution_count": 40,
      "outputs": [
        {
          "output_type": "stream",
          "text": [
            "Tensorflow version 2.2.0-rc4\n",
            "ERROR: Not connected to a TPU runtime!\n",
            "GPU count: 1\n",
            "Fri May  8 19:50:43 2020       \n",
            "+-----------------------------------------------------------------------------+\n",
            "| NVIDIA-SMI 440.82       Driver Version: 418.67       CUDA Version: 10.1     |\n",
            "|-------------------------------+----------------------+----------------------+\n",
            "| GPU  Name        Persistence-M| Bus-Id        Disp.A | Volatile Uncorr. ECC |\n",
            "| Fan  Temp  Perf  Pwr:Usage/Cap|         Memory-Usage | GPU-Util  Compute M. |\n",
            "|===============================+======================+======================|\n",
            "|   0  Tesla P100-PCIE...  Off  | 00000000:00:04.0 Off |                    0 |\n",
            "| N/A   45C    P0    32W / 250W |   8819MiB / 16280MiB |      0%      Default |\n",
            "+-------------------------------+----------------------+----------------------+\n",
            "                                                                               \n",
            "+-----------------------------------------------------------------------------+\n",
            "| Processes:                                                       GPU Memory |\n",
            "|  GPU       PID   Type   Process name                             Usage      |\n",
            "|=============================================================================|\n",
            "+-----------------------------------------------------------------------------+\n"
          ],
          "name": "stdout"
        }
      ]
    },
    {
      "cell_type": "code",
      "metadata": {
        "id": "StODOp9qm7As",
        "colab_type": "code",
        "outputId": "9b7fafc1-6bb4-4cdf-8e14-4609fe8a86fb",
        "colab": {
          "base_uri": "https://localhost:8080/",
          "height": 54
        }
      },
      "source": [
        "import gym\n",
        "import threading\n",
        "import math\n",
        "import glob\n",
        "import io\n",
        "import base64\n",
        "import multiprocessing\n",
        "import matplotlib\n",
        "import numpy as np\n",
        "import pandas as pd\n",
        "import tensorflow as tf\n",
        "import matplotlib.pyplot as plt\n",
        "%matplotlib inline\n",
        "from gym.wrappers import Monitor\n",
        "from tensorflow import keras\n",
        "from os import path\n",
        "from time import sleep\n",
        "from tqdm.notebook import tqdm\n",
        "from IPython.display import HTML\n",
        "from IPython import display as ipythondisplay\n",
        "from pyvirtualdisplay import Display\n",
        "display = Display(visible=0, size=(1400, 900))\n",
        "display.start()"
      ],
      "execution_count": 41,
      "outputs": [
        {
          "output_type": "execute_result",
          "data": {
            "text/plain": [
              "<Display cmd_param=['Xvfb', '-br', '-nolisten', 'tcp', '-screen', '0', '1400x900x24', ':1003'] cmd=['Xvfb', '-br', '-nolisten', 'tcp', '-screen', '0', '1400x900x24', ':1003'] oserror=None return_code=None stdout=\"None\" stderr=\"None\" timeout_happened=False>"
            ]
          },
          "metadata": {
            "tags": []
          },
          "execution_count": 41
        }
      ]
    },
    {
      "cell_type": "code",
      "metadata": {
        "id": "tvT2J4Oa6AsX",
        "colab_type": "code",
        "outputId": "528b4984-6135-457f-939b-1bee73205c21",
        "colab": {
          "base_uri": "https://localhost:8080/",
          "height": 34
        }
      },
      "source": [
        "print('using tensorflow', tf.__version__)"
      ],
      "execution_count": 42,
      "outputs": [
        {
          "output_type": "stream",
          "text": [
            "using tensorflow 2.2.0-rc4\n"
          ],
          "name": "stdout"
        }
      ]
    },
    {
      "cell_type": "code",
      "metadata": {
        "id": "bR4rdPq23olN",
        "colab_type": "code",
        "colab": {}
      },
      "source": [
        "def show_video():\n",
        "  mp4list = glob.glob('video/*.mp4')\n",
        "  if len(mp4list) > 0:\n",
        "    mp4 = mp4list[0]\n",
        "    video = io.open(mp4, 'r+b').read()\n",
        "    encoded = base64.b64encode(video)\n",
        "    ipythondisplay.display(HTML(data='''<video alt=\"test\" autoplay \n",
        "                loop controls style=\"height: 400px;\">\n",
        "                <source src=\"data:video/mp4;base64,{0}\" type=\"video/mp4\" />\n",
        "             </video>'''.format(encoded.decode('ascii'))))\n",
        "  else: \n",
        "    print(\"Could not find video\")\n",
        "\n",
        "def wrap_env(env):\n",
        "  wrapped_env = Monitor(env, './video', force=True)\n",
        "  return wrapped_env"
      ],
      "execution_count": 0,
      "outputs": []
    },
    {
      "cell_type": "code",
      "metadata": {
        "id": "xG-mqsx41fhc",
        "colab_type": "code",
        "colab": {}
      },
      "source": [
        "class PipelineArgs():\n",
        "  def __init__(self,\n",
        "               game_name='Acrobot-v1',\n",
        "               mode='train',\n",
        "               max_eps=100,\n",
        "               update_freq=20,\n",
        "               gamma=0.99,\n",
        "               model_path='.',\n",
        "               load_model=False,\n",
        "               lr=0.001):\n",
        "    self.game_name = game_name\n",
        "    self.mode = mode\n",
        "    self.gamma = gamma\n",
        "    self.update_freq = update_freq\n",
        "    self.lr = lr\n",
        "    self.max_eps = max_eps\n",
        "    self.load_model = load_model\n",
        "    self.model_path = model_path"
      ],
      "execution_count": 0,
      "outputs": []
    },
    {
      "cell_type": "code",
      "metadata": {
        "id": "bz8PHZKXb-db",
        "colab_type": "code",
        "colab": {}
      },
      "source": [
        "class History():\n",
        "  def __init__(self, args):\n",
        "    self.history = pd.DataFrame()\n",
        "    self.args = args\n",
        "  \n",
        "  def record(self, eps_reward):\n",
        "    self.eps_rewards.append(eps_reward)\n",
        "\n",
        "  def save(self):\n",
        "    self.history['eps_rewards'] = self.eps_rewards\n",
        "    self.history.to_csv(path.join(self.args.model_path, 'history.csv'))\n",
        "  \n",
        "  def load(self):\n",
        "    if path.exists(\n",
        "        path.join(\n",
        "            self.args.model_path, 'history.csv')) and self.args.load_model:\n",
        "      self.history = pd.DataFrame()\n",
        "      self.history.read_csv(path.join(self.args.model_path, 'history.csv'))"
      ],
      "execution_count": 0,
      "outputs": []
    },
    {
      "cell_type": "code",
      "metadata": {
        "id": "to5WdjMOBij4",
        "colab_type": "code",
        "colab": {}
      },
      "source": [
        "class Memory():\n",
        "  def __init__(self):\n",
        "    self.states = []\n",
        "    self.actions = []\n",
        "    self.rewards = []\n",
        "  \n",
        "  def store(self, state, action, reward):\n",
        "    self.states.append(state)\n",
        "    self.actions.append(action)\n",
        "    self.rewards.append(reward)\n",
        "\n",
        "  def clear(self):\n",
        "    self.states = []\n",
        "    self.actions = []\n",
        "    self.rewards = []"
      ],
      "execution_count": 0,
      "outputs": []
    },
    {
      "cell_type": "code",
      "metadata": {
        "id": "yPNOZzhineIp",
        "colab_type": "code",
        "colab": {}
      },
      "source": [
        "class Worker(threading.Thread):\n",
        "  # The cumulative episode played\n",
        "  global_eps = 0\n",
        "  best_score = 0\n",
        "  lock = threading.Lock()\n",
        "\n",
        "  def __init__(self,\n",
        "               args,\n",
        "               action_size,\n",
        "               state_size,\n",
        "               global_model,\n",
        "               opt,\n",
        "               pbar):\n",
        "    super(Worker, self).__init__()\n",
        "    self.args = args\n",
        "    self.game_name = self.args.game_name\n",
        "    self.env = gym.make(self.game_name)\n",
        "    self.action_size = action_size\n",
        "    self.state_size = state_size\n",
        "    self.local_model = ActorCriticModel(self.state_size, self.action_size)\n",
        "    self.eps_loss = 0\n",
        "    self.opt = opt\n",
        "    self.global_model = global_model\n",
        "    self.pbar = pbar\n",
        "\n",
        "  def compute_loss(self, done, new_state, memory):\n",
        "    if done:\n",
        "      reward_sum = 0\n",
        "    else:\n",
        "      reward_sum = self.local_model(\n",
        "          tf.convert_to_tensor(\n",
        "              new_state[None, :],\n",
        "              dtype=tf.float32))[-1].numpy()[0]\n",
        "    discounted_rewards = []\n",
        "    for reward in memory.rewards[::-1]:\n",
        "      reward_sum = reward + self.args.gamma * reward_sum\n",
        "      discounted_rewards.append(reward_sum)\n",
        "    discounted_rewards.reverse()\n",
        "    past_states = np.array(memory.states)\n",
        "    logits, values = self.local_model(\n",
        "        tf.convert_to_tensor(past_states, dtype=tf.float32))\n",
        "    advantage = tf.convert_to_tensor(\n",
        "        np.array(discounted_rewards)[:, None], dtype=tf.float32) - values\n",
        "    # Calculate the loss for value function which mean how off is our\n",
        "    # predicted value from the true value estimated from the discounted\n",
        "    # reward.\n",
        "    value_loss = advantage ** 2\n",
        "    # Calculate the policy loss\n",
        "    policy = tf.nn.softmax(logits)\n",
        "    entropy = tf.nn.softmax_cross_entropy_with_logits(\n",
        "        labels=policy, logits=logits)\n",
        "    policy_loss = tf.nn.sparse_softmax_cross_entropy_with_logits(\n",
        "        labels=memory.actions, logits=logits)\n",
        "    policy_loss *= tf.stop_gradient(advantage)\n",
        "    policy_loss -= 0.01 * entropy\n",
        "    # Combine the value and policy loss to be a single trainable\n",
        "    total_loss = tf.reduce_mean((0.5 * value_loss + policy_loss))\n",
        "    return total_loss\n",
        "\n",
        "  def compute_and_apply_gradient(self, done, new_state, mem):\n",
        "    with tf.GradientTape() as tape:\n",
        "      total_loss = self.compute_loss(done, new_state, mem)\n",
        "    self.eps_loss += total_loss\n",
        "    grads = tape.gradient(\n",
        "        total_loss, self.local_model.trainable_weights)\n",
        "    self.opt.apply_gradients(zip(\n",
        "        grads, self.global_model.trainable_weights))\n",
        "    self.local_model.set_weights(self.global_model.get_weights())\n",
        "\n",
        "  def run(self):\n",
        "    # Prepare variables\n",
        "    mem = Memory()\n",
        "    total_steps = 1\n",
        "    # Check the maximum episode of learning is reached\n",
        "    while Worker.global_eps < self.args.max_eps:\n",
        "      current_state = self.env.reset()\n",
        "      mem.clear()\n",
        "      done = False\n",
        "      ep_reward = 0\n",
        "      self.eps_loss = 0\n",
        "      time_count = 0\n",
        "      ep_steps = 0\n",
        "      # Check if the game is over\n",
        "      while not done:\n",
        "        # Get the policy and play the game\n",
        "        logits, _ = self.local_model(\n",
        "            tf.convert_to_tensor(np.array([current_state]), dtype=tf.float32))\n",
        "        probs = tf.nn.softmax(logits)\n",
        "        action = np.random.choice(self.action_size, p=probs.numpy()[0])\n",
        "        new_state, reward, done, info = self.env.step(action)\n",
        "        if done:\n",
        "          reward = -100\n",
        "        ep_reward += reward\n",
        "        mem.store(current_state, action, reward)\n",
        "        # If the explore time limit has been reached or\n",
        "        # the game is over, then update the models\n",
        "        if time_count >= self.args.update_freq or done:\n",
        "          self.compute_and_apply_gradient(done, new_state, mem)\n",
        "          mem.clear()\n",
        "          time_count = 0\n",
        "          if done:\n",
        "            with Worker.lock:\n",
        "              if Worker.global_eps == 0:\n",
        "                Worker.best_score = ep_reward\n",
        "              if ep_reward > Worker.best_score:\n",
        "                self.global_model.save_weights(\n",
        "                    path.join(self.args.model_path, 'best.h5'))\n",
        "                Worker.best_score = ep_reward\n",
        "              else:\n",
        "                self.global_model.save_weights(\n",
        "                    path.join(self.args.model_path, 'backup.h5'))\n",
        "              Worker.global_eps += 1\n",
        "              self.pbar.set_description(\n",
        "                  f'step: {ep_steps}, reward {ep_reward}/{Worker.best_score}')\n",
        "              self.pbar.update(1)\n",
        "        ep_steps += 1\n",
        "        time_count += 1\n",
        "        current_state = new_state\n",
        "        total_steps += 1"
      ],
      "execution_count": 0,
      "outputs": []
    },
    {
      "cell_type": "code",
      "metadata": {
        "id": "bnSC4zC4nt9C",
        "colab_type": "code",
        "colab": {}
      },
      "source": [
        "class ActorCriticModel(keras.Model):\n",
        "  def __init__(self, state_size, action_size):\n",
        "    super(ActorCriticModel, self).__init__()\n",
        "    self.state_size = state_size\n",
        "    self.action_size = action_size\n",
        "    self.conv_0 = keras.layers.Conv2D(\n",
        "        filters=4,\n",
        "        activation='relu',\n",
        "        kernel_size=8,\n",
        "        kernel_initializer='random_uniform',\n",
        "        input_shape=(None, 210, 160, 3))\n",
        "    self.conv_1 = keras.layers.Conv2D(\n",
        "        filters=4,\n",
        "        activation='relu',\n",
        "        kernel_initializer='random_uniform',\n",
        "        kernel_size=8)\n",
        "    self.flatten  =keras.layers.Flatten()\n",
        "    self.policy_dense_0 = keras.layers.Dense(\n",
        "        64, kernel_initializer='random_uniform', activation='relu')\n",
        "    self.policy_dense_1 = keras.layers.Dense(\n",
        "        32, kernel_initializer='random_uniform', activation='relu')\n",
        "    self.policy_logits = keras.layers.Dense(self.action_size, activation='relu')\n",
        "    self.value_dense = keras.layers.Dense(\n",
        "        128, kernel_initializer='random_uniform', activation='relu')\n",
        "    self.value = keras.layers.Dense(1)\n",
        "  \n",
        "  def call(self, inputs):\n",
        "    x = self.conv_0(inputs)\n",
        "    x = self.conv_1(x)\n",
        "    x = self.flatten(x)\n",
        "    p = self.policy_dense_0(x)\n",
        "    p = self.policy_dense_1(p)\n",
        "    logits = self.policy_logits(p)\n",
        "    v = self.value_dense(x)\n",
        "    values = self.value(v)\n",
        "    return logits, values"
      ],
      "execution_count": 0,
      "outputs": []
    },
    {
      "cell_type": "code",
      "metadata": {
        "id": "wtTON1xmoJCc",
        "colab_type": "code",
        "colab": {}
      },
      "source": [
        "class BaselineModel():\n",
        "  def __init__(self):\n",
        "    print('not implemented')"
      ],
      "execution_count": 0,
      "outputs": []
    },
    {
      "cell_type": "code",
      "metadata": {
        "id": "KVDqVpOqn_e0",
        "colab_type": "code",
        "colab": {}
      },
      "source": [
        "class MasterAgent():\n",
        "  def __init__(self, args):\n",
        "    self.args = args\n",
        "    self.game_name = self.args.game_name\n",
        "    env = gym.make(self.game_name)\n",
        "    self.action_size = env.action_space.n\n",
        "    self.state_size = env.observation_space.shape[0]\n",
        "    self.opt = tf.optimizers.Adam(self.args.lr)\n",
        "    print('state_size: ', self.state_size)\n",
        "    print('action_size: ', self.action_size)\n",
        "    self.global_model = ActorCriticModel(self.state_size, self.action_size)\n",
        "    self.global_model(\n",
        "      tf.convert_to_tensor(\n",
        "      np.random.random((5, 210, 160, 3)),\n",
        "      dtype=tf.float32))\n",
        "    if path.exists(\n",
        "        path.join(self.args.model_path, 'best.h5')) and self.args.load_model:\n",
        "      self.global_model.load_weights(\n",
        "          path.join(self.args.model_path, 'best.h5'))\n",
        "    self.pbar = tqdm(total=self.args.max_eps)\n",
        "  \n",
        "  def train_sync(self):\n",
        "    worker = Worker(self.args, self.action_size, self.state_size,\n",
        "                    self.global_model, self.opt, self.pbar)\n",
        "    worker.run()\n",
        "    self.pbar.close()\n",
        "  \n",
        "  def train_async(self):\n",
        "    Worker.global_eps = 0;\n",
        "    workers = [\n",
        "      Worker(self.args, self.action_size, self.state_size,\n",
        "             self.global_model, self.opt, self.pbar)\n",
        "      for i in range(multiprocessing.cpu_count())\n",
        "    ]\n",
        "    print(f'using {len(workers)} worker in parallel')\n",
        "    for i, worker in enumerate(workers):\n",
        "      worker.start()\n",
        "    [w.join() for w in workers]\n",
        "    self.pbar.close()\n",
        "    self.play()\n",
        "  \n",
        "  def play(self):\n",
        "    self.pbar.close()\n",
        "    env = wrap_env(gym.make(self.args.game_name))\n",
        "    state = env.reset()\n",
        "    model = self.global_model\n",
        "    if path.exists(\n",
        "        path.join(self.args.model_path, 'best.h5')) and self.args.load_model:\n",
        "      model.load_weights(\n",
        "          path.join(self.args.model_path, 'best.h5'))\n",
        "    done = False\n",
        "    while not done:\n",
        "      state_input = tf.convert_to_tensor(state[None, :], dtype=tf.float32)\n",
        "      logit, _ = model(state_input)\n",
        "      policy = tf.nn.softmax(logit)\n",
        "      action = np.argmax(policy)\n",
        "      state, reward, done, _ = env.step(action)\n",
        "    env.close()\n",
        "    show_video()"
      ],
      "execution_count": 0,
      "outputs": []
    },
    {
      "cell_type": "code",
      "metadata": {
        "id": "Yy5tn0pA2-tB",
        "colab_type": "code",
        "colab": {}
      },
      "source": [
        "def gym_sanity_check(args):\n",
        "  print('starting gym environment sanity check')\n",
        "  env = wrap_env(gym.make(args.game_name))\n",
        "  inital_observation = env.reset()\n",
        "  sample_action = env.action_space.sample()\n",
        "  print('observation shape: ', np.array(inital_observation).shape)\n",
        "  print('sample action: ', sample_action)\n",
        "  for _ in range(20):\n",
        "    observation = env.reset()\n",
        "    done = False\n",
        "    while not done:\n",
        "        action = env.action_space.sample()\n",
        "        observation, _, done, _ = env.step(action)\n",
        "  env.close()\n",
        "  show_video()"
      ],
      "execution_count": 0,
      "outputs": []
    },
    {
      "cell_type": "code",
      "metadata": {
        "id": "D_4XwuN1oFkz",
        "colab_type": "code",
        "colab": {}
      },
      "source": [
        "def entry_point(args):\n",
        "  if args.mode == 'sanity':\n",
        "    gym_sanity_check(args)\n",
        "  if args.mode == 'play':\n",
        "    master = MasterAgent(args)\n",
        "    master.play()\n",
        "  if args.mode == 'train_sync':\n",
        "    master = MasterAgent(args)\n",
        "    master.train_sync()\n",
        "  if args.mode == 'train_async':\n",
        "    master = MasterAgent(args)\n",
        "    master.train_async()\n",
        "  print('Hello World')"
      ],
      "execution_count": 0,
      "outputs": []
    },
    {
      "cell_type": "code",
      "metadata": {
        "id": "I_oklLOXofGu",
        "colab_type": "code",
        "outputId": "4d8fc0c8-6da0-45ac-8f1d-d37ab2ca07aa",
        "colab": {
          "base_uri": "https://localhost:8080/",
          "height": 521,
          "referenced_widgets": [
            "79e79618b59147bd94bd92d5f539c086",
            "6f47aeb94e65452583b2d4d83b079d3f",
            "47f94056e0a6436aa1cf3410fb77738e",
            "082ec81e748b48bcbf3be8bc763fd388",
            "a9eab301e7404f4f80fb1be1a187c2e4",
            "1518fae1c4224e98ba432dd252d8ce77",
            "39690f2b21534c8ea866e1c535c5c8a1",
            "4320c5d629a44ea391eb459c2ab9e0af"
          ]
        }
      },
      "source": [
        "entry_point(\n",
        "    PipelineArgs(\n",
        "        game_name='Berzerk-v0',\n",
        "        update_freq=64,\n",
        "        max_eps=1000,\n",
        "        load_model=True,\n",
        "        mode='play'))"
      ],
      "execution_count": 65,
      "outputs": [
        {
          "output_type": "stream",
          "text": [
            "state_size:  210\n",
            "action_size:  18\n"
          ],
          "name": "stdout"
        },
        {
          "output_type": "display_data",
          "data": {
            "application/vnd.jupyter.widget-view+json": {
              "model_id": "79e79618b59147bd94bd92d5f539c086",
              "version_minor": 0,
              "version_major": 2
            },
            "text/plain": [
              "HBox(children=(FloatProgress(value=0.0, max=1000.0), HTML(value='')))"
            ]
          },
          "metadata": {
            "tags": []
          }
        },
        {
          "output_type": "stream",
          "text": [
            "\n"
          ],
          "name": "stdout"
        },
        {
          "output_type": "display_data",
          "data": {
            "text/html": [
              "<video alt=\"test\" autoplay \n",
              "                loop controls style=\"height: 400px;\">\n",
              "                <source src=\"data:video/mp4;base64,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\" type=\"video/mp4\" />\n",
              "             </video>"
            ],
            "text/plain": [
              "<IPython.core.display.HTML object>"
            ]
          },
          "metadata": {
            "tags": []
          }
        },
        {
          "output_type": "stream",
          "text": [
            "Hello World\n"
          ],
          "name": "stdout"
        }
      ]
    },
    {
      "cell_type": "code",
      "metadata": {
        "id": "0j16Rl2eF-9d",
        "colab_type": "code",
        "colab": {}
      },
      "source": [
        ""
      ],
      "execution_count": 0,
      "outputs": []
    }
  ]
}