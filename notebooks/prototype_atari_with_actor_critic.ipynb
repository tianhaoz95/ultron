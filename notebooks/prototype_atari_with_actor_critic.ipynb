{
  "nbformat": 4,
  "nbformat_minor": 0,
  "metadata": {
    "colab": {
      "name": "Copy of prototype_atari_with_actor_critic.ipynb",
      "provenance": [],
      "collapsed_sections": [],
      "include_colab_link": true
    },
    "kernelspec": {
      "name": "python3",
      "display_name": "Python 3"
    }
  },
  "cells": [
    {
      "cell_type": "markdown",
      "metadata": {
        "id": "view-in-github",
        "colab_type": "text"
      },
      "source": [
        "<a href=\"https://colab.research.google.com/github/tianhaoz95/ultron/blob/dev%2Ftry-atari-game/notebooks/prototype_atari_with_actor_critic.ipynb\" target=\"_parent\"><img src=\"https://colab.research.google.com/assets/colab-badge.svg\" alt=\"Open In Colab\"/></a>"
      ]
    },
    {
      "cell_type": "code",
      "metadata": {
        "id": "DX_OfbY42iKs",
        "colab_type": "code",
        "colab": {}
      },
      "source": [
        "!pip install gym pyvirtualdisplay > /dev/null 2>&1\n",
        "!apt-get install -y xvfb python-opengl ffmpeg x11-utils > /dev/null 2>&1"
      ],
      "execution_count": 0,
      "outputs": []
    },
    {
      "cell_type": "code",
      "metadata": {
        "id": "JM66lPmrmUx1",
        "colab_type": "code",
        "outputId": "02153465-f09b-4adc-b393-b1da11134bc2",
        "colab": {
          "base_uri": "https://localhost:8080/",
          "height": 34
        }
      },
      "source": [
        "!apt-get update > /dev/null 2>&1\n",
        "!apt-get install cmake > /dev/null 2>&1\n",
        "!pip install --upgrade setuptools 2>&1\n",
        "!pip install ez_setup > /dev/null 2>&1\n",
        "!pip install gym[atari] > /dev/null 2>&1"
      ],
      "execution_count": 20,
      "outputs": [
        {
          "output_type": "stream",
          "text": [
            "Requirement already up-to-date: setuptools in /usr/local/lib/python3.6/dist-packages (46.1.3)\n"
          ],
          "name": "stdout"
        }
      ]
    },
    {
      "cell_type": "code",
      "metadata": {
        "id": "StODOp9qm7As",
        "colab_type": "code",
        "outputId": "f4417616-99b5-455f-8eb8-6737c9edd56b",
        "colab": {
          "base_uri": "https://localhost:8080/",
          "height": 54
        }
      },
      "source": [
        "import gym\n",
        "import threading\n",
        "import math\n",
        "import glob\n",
        "import io\n",
        "import base64\n",
        "import matplotlib\n",
        "import numpy as np\n",
        "import tensorflow as tf\n",
        "import matplotlib.pyplot as plt\n",
        "%matplotlib inline\n",
        "from gym.wrappers import Monitor\n",
        "from tensorflow import keras\n",
        "from IPython.display import HTML\n",
        "from IPython import display as ipythondisplay\n",
        "from pyvirtualdisplay import Display\n",
        "display = Display(visible=0, size=(1400, 900))\n",
        "display.start()"
      ],
      "execution_count": 21,
      "outputs": [
        {
          "output_type": "execute_result",
          "data": {
            "text/plain": [
              "<Display cmd_param=['Xvfb', '-br', '-nolisten', 'tcp', '-screen', '0', '1400x900x24', ':1005'] cmd=['Xvfb', '-br', '-nolisten', 'tcp', '-screen', '0', '1400x900x24', ':1005'] oserror=None return_code=None stdout=\"None\" stderr=\"None\" timeout_happened=False>"
            ]
          },
          "metadata": {
            "tags": []
          },
          "execution_count": 21
        }
      ]
    },
    {
      "cell_type": "code",
      "metadata": {
        "id": "tvT2J4Oa6AsX",
        "colab_type": "code",
        "colab": {
          "base_uri": "https://localhost:8080/",
          "height": 34
        },
        "outputId": "79e97baa-48af-4be3-a39d-4b2e9c1ed8f6"
      },
      "source": [
        "print('using tensorflow', tf.__version__)"
      ],
      "execution_count": 22,
      "outputs": [
        {
          "output_type": "stream",
          "text": [
            "using tensorflow 2.2.0-rc3\n"
          ],
          "name": "stdout"
        }
      ]
    },
    {
      "cell_type": "code",
      "metadata": {
        "id": "bR4rdPq23olN",
        "colab_type": "code",
        "colab": {}
      },
      "source": [
        "def show_video():\n",
        "  mp4list = glob.glob('video/*.mp4')\n",
        "  if len(mp4list) > 0:\n",
        "    mp4 = mp4list[0]\n",
        "    video = io.open(mp4, 'r+b').read()\n",
        "    encoded = base64.b64encode(video)\n",
        "    ipythondisplay.display(HTML(data='''<video alt=\"test\" autoplay \n",
        "                loop controls style=\"height: 400px;\">\n",
        "                <source src=\"data:video/mp4;base64,{0}\" type=\"video/mp4\" />\n",
        "             </video>'''.format(encoded.decode('ascii'))))\n",
        "  else: \n",
        "    print(\"Could not find video\")\n",
        "\n",
        "def wrap_env(env):\n",
        "  env = Monitor(env, './video', force=True)\n",
        "  return env"
      ],
      "execution_count": 0,
      "outputs": []
    },
    {
      "cell_type": "code",
      "metadata": {
        "id": "xG-mqsx41fhc",
        "colab_type": "code",
        "colab": {}
      },
      "source": [
        "class PipelineArgs():\n",
        "  def __init__(self,\n",
        "               game_name,\n",
        "               mode,\n",
        "               lr):\n",
        "    self.game_name = game_name\n",
        "    self.mode = mode\n",
        "    self.lr = lr"
      ],
      "execution_count": 0,
      "outputs": []
    },
    {
      "cell_type": "code",
      "metadata": {
        "id": "yPNOZzhineIp",
        "colab_type": "code",
        "colab": {}
      },
      "source": [
        "class Worker(threading.Thread):\n",
        "  # The cumulative episode played\n",
        "  global_eps = 0\n",
        "  best_score = 0\n",
        "  lock = threading.Lock()\n",
        "\n",
        "  def __init__(self,\n",
        "               args,\n",
        "               game_name):\n",
        "    super(Worker, self).__init__()\n",
        "    self.args = args\n",
        "    self.game_name = game_name\n",
        "    self.env = gym.make(self.game_name)\n",
        "\n",
        "  def compute_loss(self, done, new_state, memory):\n",
        "    if done:\n",
        "      reward_sum = 0\n",
        "    else:\n",
        "      reward_sum = self.local_model(\n",
        "          tf.convert_to_tensor(\n",
        "              new_state[None, :],\n",
        "              dtype=tf.float32))[-1].numpy()[0]\n",
        "    discounted_rewards = []\n",
        "    for reward in memory.rewards[::-1]:\n",
        "      reward_sum = reward + self.args.gamma * reward_sum\n",
        "      discounted_rewards.append(reward_sum)\n",
        "    discounted_rewards.reverse()\n",
        "    logits, values = self.local_model(\n",
        "        tf.convert_to_tensor(np.vstack(memory.states), dtype=tf.float32))\n",
        "    advantage = tf.convert_to_tensor(\n",
        "        np.array(discounted_rewards)[:, None], dtype=tf.float32) - values\n",
        "    # Calculate the loss for value function which mean how off is our\n",
        "    # predicted value from the true value estimated from the discounted\n",
        "    # reward.\n",
        "    value_loss = advantage ** 2\n",
        "    # Calculate the policy loss\n",
        "    policy = tf.nn.softmax(logits)\n",
        "    entropy = tf.nn.softmax_cross_entropy_with_logits(\n",
        "        labels=policy, logits=logits)\n",
        "    policy_loss = tf.nn.sparse_softmax_cross_entropy_with_logits(\n",
        "        labels=memory.actions, logits=logits)\n",
        "    policy_loss *= tf.stop_gradient(advantage)\n",
        "    policy_loss -= 0.01 * entropy\n",
        "    # Combine the value and policy loss to be a single trainable\n",
        "    total_loss = tf.reduce_mean((0.5 * value_loss + policy_loss))\n",
        "    return total_loss\n",
        "\n",
        "  def run(self, args):\n",
        "    # Prepare variables\n",
        "    total_steps = 1\n",
        "    eps_steps = 0\n",
        "    # Check the maximum episode of learning is reached\n",
        "    while Worker.global_eps < self.args.max_eps:\n",
        "      current_state = self.env.reset()\n",
        "      done = False\n",
        "      time_count = 0\n",
        "      # Check if the game is over\n",
        "      while not done:\n",
        "        # Get the policy and play the game\n",
        "        logits, _ = self.local_model(\n",
        "            tf.convert_to_tensor(current_state[None, 1]), dtype=tf.float32)\n",
        "        probs = tf.nn.softmax(logits)\n",
        "        action = np.random.choice(self.action_size, p=probs.numpy()[0])\n",
        "        new_state, reward, done, _ = self.env.step(action)\n",
        "        # If the game is over, give it a negative reward\n",
        "        if done:\n",
        "          reward = -1\n",
        "        # If the explore time limit has been reached or\n",
        "        # the game is over, then update the models\n",
        "        if time_count >= self.args.update_freq or done:\n",
        "          with tf.GradientTape() as tape:\n",
        "            total_loss = self.compute_loss()\n",
        "          self.eps_loss += total_loss\n",
        "          grads = tape.gradient(\n",
        "              total_loss, self.local_model.trainable_weights)\n",
        "          self.opt.apply_gradients(zip(\n",
        "              grads, self.global_model.trainable_weights))\n",
        "          self.local_model.set_weights(self.global_model.get_weights())\n",
        "          time_count = 0\n",
        "          if done and ep_reward > Worker.best_score:\n",
        "            with Worker.lock:\n",
        "              print('saving best model so far')\n",
        "        else:\n",
        "          eps_steps += 1\n",
        "          time_count += 1\n",
        "          current_state = new_state\n",
        "          total_steps += 1"
      ],
      "execution_count": 0,
      "outputs": []
    },
    {
      "cell_type": "code",
      "metadata": {
        "id": "bnSC4zC4nt9C",
        "colab_type": "code",
        "colab": {}
      },
      "source": [
        "class ActorCriticModel(keras.Model):\n",
        "  def __init__(self, state_size, action_size):\n",
        "    super(ActorCriticModel, self).__init__()\n",
        "    self.state_size = state_size\n",
        "    self.action_size = action_size\n",
        "    self.policy_dense = keras.layers.Dense(100)\n",
        "    self.policy_logits = keras.layers.Dense(self.action_size, activation='relu')\n",
        "    self.value_dense = keras.layers.Dense(100, activation='relu')\n",
        "    self.value = keras.layers.Dense(1)\n",
        "  \n",
        "  def call(self, inputs):\n",
        "    p = self.policy_dense(inputs)\n",
        "    logits = self.policy_logits(p)\n",
        "    v = self.value_dense(inputs)\n",
        "    values = self.value(v)\n",
        "    return logits, values"
      ],
      "execution_count": 0,
      "outputs": []
    },
    {
      "cell_type": "code",
      "metadata": {
        "id": "wtTON1xmoJCc",
        "colab_type": "code",
        "colab": {}
      },
      "source": [
        "class BaselineModel():\n",
        "  def __init__(self):\n",
        "    print('not implemented')"
      ],
      "execution_count": 0,
      "outputs": []
    },
    {
      "cell_type": "code",
      "metadata": {
        "id": "KVDqVpOqn_e0",
        "colab_type": "code",
        "colab": {}
      },
      "source": [
        "class MasterAgent():\n",
        "  def __init__(self, args):\n",
        "    self.args = args\n",
        "    self.game_name = args.game_name\n",
        "    env = gym.make(self.game_name)\n",
        "    self.action_size = env.action_space.n\n",
        "    self.state_size = env.observation_space.shape[0]\n",
        "    self.opt = tf.optimizers.Adam(self.args.lr)\n",
        "    self.global_model = ActorCriticModel(self.state_size, self.action_size)\n",
        "    # dummy_state = np.random.random((1, self.state_size))\n",
        "    # self.global_model(tf.convert_to_tensor(dummy_state, dtype=tf.float32))\n",
        "  \n",
        "  def train(self):\n",
        "    print('not implemented')\n",
        "  \n",
        "  def play(self):\n",
        "    env = wrap_env(gym.make(self.game_name))\n",
        "    state = env.reset()\n",
        "    model = self.global_model\n",
        "    done = False\n",
        "    try:\n",
        "      while not done:\n",
        "        env.render()\n",
        "        state_input = tf.convert_to_tensor(state[None, :], dtype=tf.float32)\n",
        "        logit, _ = model(state_input)\n",
        "        policy = tf.nn.softmax(logit)\n",
        "        action = np.argmax(policy)\n",
        "        state, reward, done, _ = env.step(action)\n",
        "    except KeyboardInterrupt:\n",
        "      print(\"Received Keyboard Interrupt. Shutting down.\")\n",
        "    env.close()\n",
        "    show_video()"
      ],
      "execution_count": 0,
      "outputs": []
    },
    {
      "cell_type": "code",
      "metadata": {
        "id": "Yy5tn0pA2-tB",
        "colab_type": "code",
        "colab": {}
      },
      "source": [
        "def gym_sanity_check():\n",
        "  print('starting gym environment sanity check')\n",
        "  env = wrap_env(gym.make('Breakout-ram-v0'))\n",
        "  inital_observation = observation = env.reset()\n",
        "  print('observation size: ', len(inital_observation))\n",
        "  print('sample observation: ', inital_observation)\n",
        "  for _ in range(20):\n",
        "      observation = env.reset()\n",
        "      done = False\n",
        "      while not done:\n",
        "          env.render()\n",
        "          action = env.action_space.sample()\n",
        "          observation, _, done, _ = env.step(action)\n",
        "  env.close()\n",
        "  show_video()"
      ],
      "execution_count": 0,
      "outputs": []
    },
    {
      "cell_type": "code",
      "metadata": {
        "id": "D_4XwuN1oFkz",
        "colab_type": "code",
        "colab": {}
      },
      "source": [
        "def entry_point(args):\n",
        "  if args.mode == 'sanity':\n",
        "    gym_sanity_check()\n",
        "  if args.mode == 'play':\n",
        "    master = MasterAgent(args)\n",
        "    master.play()\n",
        "  print('Hello World')"
      ],
      "execution_count": 0,
      "outputs": []
    },
    {
      "cell_type": "code",
      "metadata": {
        "id": "I_oklLOXofGu",
        "colab_type": "code",
        "outputId": "40123d65-a480-422e-c8a8-59b367d493c8",
        "colab": {
          "base_uri": "https://localhost:8080/",
          "height": 438
        }
      },
      "source": [
        "entry_point(\n",
        "    PipelineArgs(\n",
        "        game_name='Breakout-ram-v0', \n",
        "        mode='play',\n",
        "        lr=0.01\n",
        "    )\n",
        ")"
      ],
      "execution_count": 31,
      "outputs": [
        {
          "output_type": "display_data",
          "data": {
            "text/html": [
              "<video alt=\"test\" autoplay \n",
              "                loop controls style=\"height: 400px;\">\n",
              "                <source src=\"data:video/mp4;base64,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\" type=\"video/mp4\" />\n",
              "             </video>"
            ],
            "text/plain": [
              "<IPython.core.display.HTML object>"
            ]
          },
          "metadata": {
            "tags": []
          }
        },
        {
          "output_type": "stream",
          "text": [
            "Hello World\n"
          ],
          "name": "stdout"
        }
      ]
    }
  ]
}