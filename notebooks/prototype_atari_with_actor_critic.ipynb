{
  "nbformat": 4,
  "nbformat_minor": 0,
  "metadata": {
    "colab": {
      "name": "Copy of prototype_atari_with_actor_critic.ipynb",
      "provenance": [],
      "collapsed_sections": [],
      "include_colab_link": true
    },
    "kernelspec": {
      "name": "python3",
      "display_name": "Python 3"
    }
  },
  "cells": [
    {
      "cell_type": "markdown",
      "metadata": {
        "id": "view-in-github",
        "colab_type": "text"
      },
      "source": [
        "<a href=\"https://colab.research.google.com/github/tianhaoz95/ultron/blob/dev%2Ftry-atari-game/notebooks/prototype_atari_with_actor_critic.ipynb\" target=\"_parent\"><img src=\"https://colab.research.google.com/assets/colab-badge.svg\" alt=\"Open In Colab\"/></a>"
      ]
    },
    {
      "cell_type": "code",
      "metadata": {
        "id": "DX_OfbY42iKs",
        "colab_type": "code",
        "colab": {}
      },
      "source": [
        "!pip install gym pyvirtualdisplay > /dev/null 2>&1\n",
        "!apt-get install -y xvfb python-opengl ffmpeg x11-utils > /dev/null 2>&1"
      ],
      "execution_count": 0,
      "outputs": []
    },
    {
      "cell_type": "code",
      "metadata": {
        "id": "JM66lPmrmUx1",
        "colab_type": "code",
        "outputId": "db1ded76-6c19-414f-f61a-b39086f0c4a0",
        "colab": {
          "base_uri": "https://localhost:8080/",
          "height": 54
        }
      },
      "source": [
        "!apt-get update > /dev/null 2>&1\n",
        "!apt-get install cmake > /dev/null 2>&1\n",
        "!pip install --upgrade setuptools 2>&1\n",
        "!pip install ez_setup > /dev/null 2>&1\n",
        "!pip install gym[atari] > /dev/null 2>&1"
      ],
      "execution_count": 2,
      "outputs": [
        {
          "output_type": "stream",
          "text": [
            "Requirement already up-to-date: setuptools in /usr/local/lib/python3.6/dist-packages (46.1.3)\n"
          ],
          "name": "stdout"
        }
      ]
    },
    {
      "cell_type": "code",
      "metadata": {
        "id": "StODOp9qm7As",
        "colab_type": "code",
        "outputId": "da048056-bdac-417e-e944-8f75ea36b20f",
        "colab": {
          "base_uri": "https://localhost:8080/",
          "height": 54
        }
      },
      "source": [
        "import gym\n",
        "import threading\n",
        "import math\n",
        "import glob\n",
        "import io\n",
        "import base64\n",
        "import matplotlib\n",
        "import numpy as np\n",
        "import tensorflow as tf\n",
        "import matplotlib.pyplot as plt\n",
        "%matplotlib inline\n",
        "from gym.wrappers import Monitor\n",
        "from IPython.display import HTML\n",
        "from IPython import display as ipythondisplay\n",
        "from pyvirtualdisplay import Display\n",
        "display = Display(visible=0, size=(1400, 900))\n",
        "display.start()"
      ],
      "execution_count": 3,
      "outputs": [
        {
          "output_type": "execute_result",
          "data": {
            "text/plain": [
              "<Display cmd_param=['Xvfb', '-br', '-nolisten', 'tcp', '-screen', '0', '1400x900x24', ':1001'] cmd=['Xvfb', '-br', '-nolisten', 'tcp', '-screen', '0', '1400x900x24', ':1001'] oserror=None return_code=None stdout=\"None\" stderr=\"None\" timeout_happened=False>"
            ]
          },
          "metadata": {
            "tags": []
          },
          "execution_count": 3
        }
      ]
    },
    {
      "cell_type": "code",
      "metadata": {
        "id": "bR4rdPq23olN",
        "colab_type": "code",
        "colab": {}
      },
      "source": [
        "def show_video():\n",
        "  mp4list = glob.glob('video/*.mp4')\n",
        "  if len(mp4list) > 0:\n",
        "    mp4 = mp4list[0]\n",
        "    video = io.open(mp4, 'r+b').read()\n",
        "    encoded = base64.b64encode(video)\n",
        "    ipythondisplay.display(HTML(data='''<video alt=\"test\" autoplay \n",
        "                loop controls style=\"height: 400px;\">\n",
        "                <source src=\"data:video/mp4;base64,{0}\" type=\"video/mp4\" />\n",
        "             </video>'''.format(encoded.decode('ascii'))))\n",
        "  else: \n",
        "    print(\"Could not find video\")\n",
        "\n",
        "def wrap_env(env):\n",
        "  env = Monitor(env, './video', force=True)\n",
        "  return env"
      ],
      "execution_count": 0,
      "outputs": []
    },
    {
      "cell_type": "code",
      "metadata": {
        "id": "yPNOZzhineIp",
        "colab_type": "code",
        "colab": {}
      },
      "source": [
        "class Worker(threading.Thread):\n",
        "  # The cumulative episode played\n",
        "  global_eps = 0\n",
        "  best_score = 0\n",
        "  lock = threading.Lock()\n",
        "\n",
        "  def __init__(self,\n",
        "               args,\n",
        "               game_name):\n",
        "    super(Worker, self).__init__()\n",
        "    print('not implemented')\n",
        "    self.args = args\n",
        "    self.game_name = game_name\n",
        "    self.env = gym.make(self.game_name)\n",
        "\n",
        "  def compute_loss(self, done, new_state, memory):\n",
        "    print('not implemented')\n",
        "    if done:\n",
        "      reward_sum = 0\n",
        "    else:\n",
        "      reward_sum = self.local_model(\n",
        "          tf.convert_to_tensor(\n",
        "              new_state[None, :],\n",
        "              dtype=tf.float32))[-1].numpy()[0]\n",
        "    discounted_rewards = []\n",
        "    for reward in memory.rewards[::-1]:\n",
        "      reward_sum = reward + self.args.gamma * reward_sum\n",
        "      discounted_rewards.append(reward_sum)\n",
        "    discounted_rewards.reverse()\n",
        "    logits, values = self.local_model(\n",
        "        tf.convert_to_tensor(np.vstack(memory.states), dtype=tf.float32))\n",
        "    advantages = tf.convert_to_tensor(\n",
        "        np.array(discounted_rewards)[:, None], dtype=tf.float32) - values\n",
        "    # Calculate the loss for value function which mean how off is our\n",
        "    # predicted value from the true value estimated from the discounted\n",
        "    # reward.\n",
        "    value_loss = advantages ** 2\n",
        "\n",
        "  def run(self, args):\n",
        "    # Prepare variables\n",
        "    total_steps = 1\n",
        "    eps_steps = 0\n",
        "    # Check the maximum episode of learning is reached\n",
        "    while Worker.global_eps < self.args.max_eps:\n",
        "      current_state = self.env.reset()\n",
        "      done = False\n",
        "      time_count = 0\n",
        "      # Check if the game is over\n",
        "      while not done:\n",
        "        # Get the policy and play the game\n",
        "        logits, _ = self.local_model(\n",
        "            tf.convert_to_tensor(current_state[None, 1]), dtype=tf.float32)\n",
        "        probs = tf.nn.softmax(logits)\n",
        "        action = np.random.choice(self.action_size, p=probs.numpy()[0])\n",
        "        new_state, reward, done, _ = self.env.step(action)\n",
        "        # If the game is over, give it a negative reward\n",
        "        if done:\n",
        "          reward = -1\n",
        "        # If the explore time limit has been reached or\n",
        "        # the game is over, then update the models\n",
        "        if time_count >= self.args.update_freq or done:\n",
        "          with tf.GradientTape() as tape:\n",
        "            total_loss = self.compute_loss()\n",
        "          self.eps_loss += total_loss\n",
        "          grads = tape.gradient(\n",
        "              total_loss, self.local_model.trainable_weights)\n",
        "          self.opt.apply_gradients(zip(\n",
        "              grads, self.global_model.trainable_weights))\n",
        "          self.local_model.set_weights(self.global_model.get_weights())\n",
        "          time_count = 0\n",
        "          if done and ep_reward > Worker.best_score:\n",
        "            with Worker.lock:\n",
        "              print('saving best model so far')\n",
        "        else:\n",
        "          eps_steps += 1\n",
        "          time_count += 1\n",
        "          current_state = new_state\n",
        "          total_steps += 1"
      ],
      "execution_count": 0,
      "outputs": []
    },
    {
      "cell_type": "code",
      "metadata": {
        "id": "bnSC4zC4nt9C",
        "colab_type": "code",
        "colab": {}
      },
      "source": [
        "class ActorCriticModel():\n",
        "  def __init__(self):\n",
        "    print('not implemented')"
      ],
      "execution_count": 0,
      "outputs": []
    },
    {
      "cell_type": "code",
      "metadata": {
        "id": "wtTON1xmoJCc",
        "colab_type": "code",
        "colab": {}
      },
      "source": [
        "class BaselineModel():\n",
        "  def __init__(self):\n",
        "    print('not implemented')"
      ],
      "execution_count": 0,
      "outputs": []
    },
    {
      "cell_type": "code",
      "metadata": {
        "id": "KVDqVpOqn_e0",
        "colab_type": "code",
        "colab": {}
      },
      "source": [
        "class MasterAgent():\n",
        "  def __init__(self):\n",
        "    print('not implemented')"
      ],
      "execution_count": 0,
      "outputs": []
    },
    {
      "cell_type": "code",
      "metadata": {
        "id": "Yy5tn0pA2-tB",
        "colab_type": "code",
        "colab": {}
      },
      "source": [
        "def gym_sanity_check():\n",
        "  print('starting gym environment sanity check')\n",
        "  env = wrap_env(gym.make('Breakout-ram-v0'))\n",
        "  inital_observation = observation = env.reset()\n",
        "  print('observation size: ', len(inital_observation))\n",
        "  print('sample observation: ', inital_observation)\n",
        "  for _ in range(20):\n",
        "      observation = env.reset()\n",
        "      done = False\n",
        "      while not done:\n",
        "          env.render()\n",
        "          action = env.action_space.sample()\n",
        "          observation, _, done, _ = env.step(action)\n",
        "  env.close()\n",
        "  show_video()"
      ],
      "execution_count": 0,
      "outputs": []
    },
    {
      "cell_type": "code",
      "metadata": {
        "id": "D_4XwuN1oFkz",
        "colab_type": "code",
        "colab": {}
      },
      "source": [
        "def entry_point(mode='train'):\n",
        "  \"\"\"\n",
        "  arguments:\n",
        "    mode: under which mode should the pipeline execute\n",
        "          which can be [train/play/sanity]\n",
        "  \"\"\"\n",
        "  if mode == 'sanity':\n",
        "    gym_sanity_check()\n",
        "  print('Hello World')"
      ],
      "execution_count": 0,
      "outputs": []
    },
    {
      "cell_type": "code",
      "metadata": {
        "id": "I_oklLOXofGu",
        "colab_type": "code",
        "outputId": "22c6a5ea-7a50-463e-da34-525b2f63190e",
        "colab": {
          "base_uri": "https://localhost:8080/",
          "height": 628
        }
      },
      "source": [
        "entry_point(mode='sanity')"
      ],
      "execution_count": 11,
      "outputs": [
        {
          "output_type": "stream",
          "text": [
            "starting gym environment sanity check\n",
            "observation size:  128\n",
            "sample observation:  [ 63  63  63  63  63  63 255 255 255 255 255 255 255 255 255 255 255 255\n",
            " 255 255 255 255 255 255 255 255 255 255 255 255 192 192 192 192 192 192\n",
            " 255 255 255 255 255 255 255 255 255 255 255 255 255 240   0   0 255   0\n",
            "   0 240   0   5   0   0   6   0  70 182 134 198  22  38  54  70  88   6\n",
            " 146   0   8   0   0   0   0   0   0 241   0 242   0 242  25 241   5 242\n",
            "   0   0 255   0 228   0   0   0   0   0   0   0   0   0   0   0   0   0\n",
            "   8   0 255 255 255 255 255 255 255   0   0   5   0   0 186 214 117 246\n",
            " 219 242]\n"
          ],
          "name": "stdout"
        },
        {
          "output_type": "display_data",
          "data": {
            "text/html": [
              "<video alt=\"test\" autoplay \n",
              "                loop controls style=\"height: 400px;\">\n",
              "                <source src=\"data:video/mp4;base64,AAAAIGZ0eXBpc29tAAACAGlzb21pc28yYXZjMW1wNDEAAAAIZnJlZQAAJNhtZGF0AAACrgYF//+q3EXpvebZSLeWLNgg2SPu73gyNjQgLSBjb3JlIDE1MiByMjg1NCBlOWE1OTAzIC0gSC4yNjQvTVBFRy00IEFWQyBjb2RlYyAtIENvcHlsZWZ0IDIwMDMtMjAxNyAtIGh0dHA6Ly93d3cudmlkZW9sYW4ub3JnL3gyNjQuaHRtbCAtIG9wdGlvbnM6IGNhYmFjPTEgcmVmPTMgZGVibG9jaz0xOjA6MCBhbmFseXNlPTB4MzoweDExMyBtZT1oZXggc3VibWU9NyBwc3k9MSBwc3lfcmQ9MS4wMDowLjAwIG1peGVkX3JlZj0xIG1lX3JhbmdlPTE2IGNocm9tYV9tZT0xIHRyZWxsaXM9MSA4eDhkY3Q9MSBjcW09MCBkZWFkem9uZT0yMSwxMSBmYXN0X3Bza2lwPTEgY2hyb21hX3FwX29mZnNldD0tMiB0aHJlYWRzPTMgbG9va2FoZWFkX3RocmVhZHM9MSBzbGljZWRfdGhyZWFkcz0wIG5yPTAgZGVjaW1hdGU9MSBpbnRlcmxhY2VkPTAgYmx1cmF5X2NvbXBhdD0wIGNvbnN0cmFpbmVkX2ludHJhPTAgYmZyYW1lcz0zIGJfcHlyYW1pZD0yIGJfYWRhcHQ9MSBiX2JpYXM9MCBkaXJlY3Q9MSB3ZWlnaHRiPTEgb3Blbl9nb3A9MCB3ZWlnaHRwPTIga2V5aW50PTI1MCBrZXlpbnRfbWluPTI1IHNjZW5lY3V0PTQwIGludHJhX3JlZnJlc2g9MCByY19sb29rYWhlYWQ9NDAgcmM9Y3JmIG1idHJlZT0xIGNyZj0yMy4wIHFjb21wPTAuNjAgcXBtaW49MCBxcG1heD02OSBxcHN0ZXA9NCBpcF9yYXRpbz0xLjQwIGFxPTE6MS4wMACAAAACDGWIhAAz//727L4FNhTIUGV5w7TCGgEJgSdzsyckV3S77Dm8Ag1mH56pG01iUfoqGJvSBlpGDUJHrm1XsxLEEWCpUTZmUUmjvvCYBgGoikrw2+ssYLKBxLBxL0+ZE3oioFJuahdgPCzVdK7oifhUyHum1y+H/n1IxfZqe5Q6a/qB80iOWzBXOZk5hpNEJ6YI8Htq5Ycx+fStwR4MJbjva8zgSaMI8mOGNDEN41M5DSR1b1O2wUMCbawvRX6v++m1dk/nJYumv6we4Umu74BJIWmf1jgrvXMDs/VbtW3rlCQ8k7kUaV1IAM+ZyEQZ+KdH9T98tnqMy7GGulxae8PLTdnoxVY9zcryGmRhSYvwCkAwAAeOOtKPz+G1Ef+MFuLK/e3AW+8c2SGOmwagMAhilMgXGUWXzepiW6rpnY4d6fTbR4IJq2Y0pAEBldsw7pkGpFEPr7Gn0UxGBEWFJNqt0PZasnFF7Q9+1opwWMEPWiGeG01hXMYuH5vwxxsGqooXmCcsdMSYLty92uwCpYq468NvCb/6DFGs2ciKW2zHYLXEKdqt3JqZ5TG+Yb1Zmh1v5oJ0JSDLH5U0/HCMNZYHHZNGKCM+mAgOBblXXYp8xQ5Ou+0aak3ZNBCoMsPJl+t74Pjc6nhchTiiTyrscod1q18JnBoGuEl8Z4VlxONHGfU+RpiSivGUjXA6CgOHAAAAREGaImxDP/6eEAuFQyACjTFqb5TaeFl/ST3Ms4zf8Deid4eokQ/fhqBfqFZU9Ylmd2HgeR9XeQGbGKkNYPYK/+OOVtoIAAAAEwGeQXkJ/wBsJfgKUuxXHN/fTK0AAABIQZpGPCGTKYQn//3xAE9rP+BK0YAcVwlJr8EYmTV4/NkbSIsYQX8XSsPWzDsDjdkitSUzHaYs0Ci39fGlK3dtHw36TRhmMhdgAAAAHEGeZGpTwr8BJwz+W1frZJ6aFo25KRrEBBxPGyEAAAARAZ6DdEJ/AGv3cb0V3Bc+MM8AAAAaAZ6FakJ/AXy3WZzA0Snocd65aF3IeVZg25EAAABTQZqHSahBaJlMCFf//j3cvHDNLRnnW/wOO4AFq7EhbkR3dIndJRNv4riTMU6jfhSQPz9fPa9GnubmEGmXWor6EymcCagxAZtUuZIFpi03RPo6IHEAAAAqQZqoSeEKUmUwIT/98QBPaz/gStGAHFcJSa/BGJk1gFXGkMLAKpXJl95/AAAAMkGayUnhDomUwIZ//p4QCv9kNqKX7rUzYxvped0cTqCUvqGd0JGDMm8iwCyfoxG8llQcAAAAWEGa60nhDyZTBRE8M//+nhADn/BpX4eAE0p/9j+OAXP5TJr5qHAL3/utsUVl+wOhkHU+YhSVMLAHHHVQxDtlsuMZ8TpZj3Ik/g2aHxA7OBBpyozhXgdJIqEAAAAbAZ8KakJ/APfNcidVe6mfKbKrSW+O3Vb0YAO6AAAAd0GbDEnhDyZTAhn//p4QA4SItYAHG0Zhycbw+j6UlaWy8tsY7KNfWav7OL03m/BwsP1KQZQbcrgfDo5/+1zNxwedSqxUR0xzrg5rwXZ8pQhFW6CrJ5Tp5T+uTcet2j0t3apqlCp3W1Q5jAaZ3uXzb+EHhPSibNmUAAAAQkGbLknhDyZTBRE8N//+p4QA5/sqQUPXtu2gIATrWs16TrMXV9CtGlh6Hg/aH44aE81rCPHf5jauwRn24rUfPMykxQAAABoBn01qQn8A8wRQkRIzFtP3Dnh9ABSpmDeEdQAAAHdBm1BJ4Q8mUwU8N//+p4QAtfvAbZJ4ASMauIAco+iFhC0C+47HrkiqzlFedjsPUoqYyR18TQ+k1phOMdZ5wKw10RP81fGJtsJaFBj1HSmSeFQVSIA11KkLLspQ+R3JPdyeEUAWpyX9mdmLF/ElNST37u1Yh2ftVwAAABwBn29qQn8Avrc3XhYj0wbbYg1xhmRihG6oyRvAAAAAMkGbdEnhDyZTAhn//p4QArPu/hemSAF1APtxVYieL/EyXs5B/T6+nUzZqrYQUOdKezuAAAAANEGfkkURPCv/AI7I4KWX1Qk/MALRXJWdFVRWRcdJjNZ8bmRgwC9NA3wPd45sYQb0cPEnWoEAAAAUAZ+xdEJ/ALpe+cPqpZt7lYu1y0gAAAAhAZ+zakJ/ALozX4hhNAER3b788b9GlaubmiGi5/Een/FAAAAAHkGbtUmoQWiZTAhv//6nhACHfFJ9kjuogBrx67DcgQAAAClBm9lJ4QpSZTAhn/6eEAH99jw54IgBdQD7cVWIni/xMl7OQf0+vp03YAAAAB9Bn/dFNEwr/wBsCGtX7UAHA8/vLxwMejWXyK3XaGetAAAADwGeFnRCfwCK8PnD6qcaIQAAABwBnhhqQn8AisVfiGE0ARHdvvzxv0aVq5uYaL9YAAAAGUGaGkmoQWiZTAhn//6eEAGT9ZvHVGhF8eEAAAAYQZo7SeEKUmUwIb/+p4QAZF2cSRJTIlPAAAAAFkGaX0nhDomUwIb//qeEAGT9lSGPBXEAAAATQZ59RRE8K/8AUdrOxlY3RKRZwQAAABkBnpx0Qn8AaX0eWfQxBnCTAE54WZRey+aoAAAADAGenmpCfwBiBVn46AAAABJBmoNJqEFomUwIZ//+nhAAz4EAAAALQZ6hRREsK/8AK2AAAAAJAZ7AdEJ/ADehAAAACQGewmpCfwA3oAAAAEtBmsZJqEFsmUwIZ//+gBBEAJ+rf/4dOQCTNAsAJ5T7qHwMIbuRf4ezEwACQ4fli9EOAMR+gpOVM4QrUXMm/gxk9bUZTkSnQNXmEbEAAAAQQZ7kRRUsK/85quB9jGcjgQAAAA0BnwVqQn8/0GmvlISPAAAAGEGbB0moQWyZTAhn//6eEARQRnQrYUfi1wAAADJBmylJ4QpSZTBRUsM//p4QBFem9JxPaRs4eAEOv98SCs/jxSvl6mKUXEKJuOg4+Bn1wAAAAA8Bn0hqQn8BLc9ojQwvxXAAAAAWQZtKSeEOiZTAhv/+p4QA27nSipGisQAAAC1Bm25J4Q8mUwIZ//6eEANf7Hj6DBAwA4A+7UQdn8eKV8vUo9QFqfrOXML2YE8AAAAfQZ+MRRE8K/8AurNGAG613/FKN1m1sHyRodtmQPFVgAAAABEBn6t0Qn8A7V2r+jN5b1SmfwAAACMBn61qQn8A7YryAF9gqWgZuvogS6AOcajIBcY7LpYADx2nuQAAABZBm69JqEFomUwIZ//+nhACr2CuFbszAAAAHkGb0EnhClJlMCGf/p4QAsR1lGTWW8uWn51aXd9+8AAAAC9Bm/NJ4Q6JlMCF//6MsALNzLmB25ay0cAcN5KdgdmdlnbmdqqCpUtCPPblQYPmSAAAABJBnhFFETwr/wCS5tKIsSp42aEAAAAiAZ4yakJ/AL8PD4A5MNS0DN19G4gaPkegFxjsulgAPHQygAAAAB9BmjRJqEFomUwIV//+OEAIJ40F6OACAJSq+f8Gos6AAAAAFkGaVUnhClJlMCE//fEAFISEQhrcyukAAAAcQZp2SeEOiZTAhn/+nhACKiM6EjxDY2l2eDt9gAAAABZBmpdJ4Q8mUwIb//6nhACOj/aSJsaBAAAAMEGauUnhDyZTBRE8N//+p4QAjq2m9c2fACVO6Js2NtjFtz6VGjHr5SbywgRsfbZ4QQAAAA8BnthqQn8Alue0Roxw9jgAAAAxQZrcSeEPJlMCG//+p4QAcQtjaAAqOtQlcppNejHIXW2M9sfIUKP4CXZFSE9vwLOUgQAAABVBnvpFETwr/wB0ARG80k83VcATlEAAAAARAZ8bakJ/AHbhWXGALOMUgfkAAAAbQZsASahBaJlMCG///qeEAHEVDBnCX8IOReLvAAAAH0GfPkURLCv/AF0f6H2BS6HDQATPdolgEwxvvt5BLMwAAAAcAZ9ddEJ/AHbRZWEAEQa2+YldJraL0O2fMaeGEgAAABQBn19qQn8AXSBZ3ACxHUq9xeJ1JwAAABJBm0RJqEFsmUwIb//+p4QANSAAAAALQZ9iRRUsK/8AK2EAAAAJAZ+BdEJ/ADegAAAACQGfg2pCfwA3oQAAAC9Bm4hJqEFsmUwIb//+lCsOsqgEIwD/+ENhgSqu8WewJ1FjGLC8gpM5tBZtzQArYQAAAA1Bn6ZFFSwr/zlV74i5AAAACwGfxXRCf0AZ4b0JAAAACQGfx2pCfwA3oAAAABJBm8xJqEFsmUwIb//+p4QANSAAAAALQZ/qRRUsK/8AK2EAAAAJAZ4JdEJ/ADegAAAACQGeC2pCfwA3oAAAABJBmhBJqEFsmUwIb//+p4QANSEAAAALQZ4uRRUsK/8AK2EAAAAJAZ5NdEJ/ADehAAAACQGeT2pCfwA3oAAAACtBmlRJqEFsmUwIb//+p4QA7BNEIANpqv+4fac+UFg+WSXoDJzt95235eoXAAAAJEGeckUVLCv/APi7cAEIynILQdkaEiDWt9QyWaxUOdruaYRVvwAAAA4BnpF0Qn8BRjThBj2vlQAAAA4BnpNqQn8BRmbAhDPJUAAAACxBmphJqEFsmUwIZ//+nhADn/B47nXv+QAnEdfY/jgZr6zRHt7oPI3akGgo3QAAADRBnrZFFSwr/wDBjr4HEseAHBmImz8EgMEOyD8eUvuua2rhj5IdtJ8sUhATQJa00q1V8bLaAAAAGgGe1XRCfwD4uq9FnAAzk1QPcV+CYL1jmgs9AAAAIQGe12pCfwD4g1m5wAcW3ffnjgDCt0bFIoPuOJjyRAzB0QAAAElBmtlJqEFsmUwIb//+p4QAtW+bYkicEqBZy95bpeW6wAQ/Ws1QANNGGrDFtG8odukz+MH0IAdKAF8PVPh6CKuw3JJOhIKQ6JeAAAAATEGa/EnhClJlMCG//qeEALX8fnj+gIEGQAg99cNyxS/hYM7bNBs+Yqs4jl8XNthXuj9ieZFiIWm65v5WfBgp50l3oU2wdyNtpAUDJ68AAAAgQZ8aRTRMK/8A+Eb5MtgSMRMRAy+wimtkNija1D5wWmAAAAAXAZ87akJ/AL9bzt2a3NO0U87u/+PvFr0AAAAuQZs+SahBaJlMFPDP/p4QAq/q0HnGgAJxHX2P44Ga+s0R7e6NM8bJbmDqX1hb4QAAABUBn11qQn8AuiToZBVBu4kQ8eD01FwAAAI/ZYiCAAQ//veBvzLLZD+qxl/aQhpDAAOnC++oUp5Pvb1jT4GOECC9SpnxEaL74nc4kyCAsTDB9VWkhZItS2rxwW3FTQkPKEtgewvT9T5EvNZ9G4B0wIHsVRjk3M5BthLFgt197N3trIuk0CaUGRwALYQn58nVKUwLnQwf9rYMtu7yw/WDnXsX3qQQQjgHn6PKksvaBf4WiKgsyaQa4zHLfzA06PO9Y7ohENMo92Gyk6+FZkCTS4pdtggO4rEZTSqUBJDfAPjoizfAwaQQGt+55Q7HHtptj7KHXPdTMhuRK8a2rTZWXAAmKX7bPwK/t75KpTv1KKIRB8mTPo790uyrDq/uEba+2FgXzUNKSpYmAABjREqlEPnUNhUwVEsjiaBK3MVRFxKaFPbzVN45GW2XETMapIkHld+2e1jvYG9KdxzENBaxJACav9oNJkzcOgXyxw1obYOp7Zrfau95xzO9u6MqK12QdyTav8zHjVK0QJ4VNTv9SKbTkqdQydwAGU18mTnjBm8g9y14US7VJ7rd9m0a3rCpdubY13LlZNYfcM9m15QtsQodD6P3RKGTpk9Q4YsWBlZA1B44ojc1tOh0qrQr0ip3u+tWrhq+R17XVMkSCUZGFm1OubxVwz5p3r+4zS6BORg3DInfYM9rr6ypjLI78WRzfpRWiP3mb2N1heWwYitx55GyVXkXkjX6q8iRuNXEjMiJDSDbiSSn+YNEBFxYnfagASGEchMR46qJTXGsDM27zDzPTSBCEQYwAm4AAAA3QZojbEM//p4QC5gkg6Dr3u+j37AgvWACY99uKrET8uWnHMEOiEyp0fxGQFAwFlHkN33/1dAwGQAAABhBnkF4hX8BsTrHYpohFo1Skauj7GqE5NgAAAAVAZ5iakJ/AI6CLIYU+at8LHrmRiAxAAAAOUGaZUmoQWiZTBTw3/6nhACDfI2JOiGAEDG6jEgD/27eL+uApacfcHKUjAzRn33X/d/YRj/LHA9AjwAAABcBnoRqQn8AinR4GcDXxj7J8p7MsejHnQAAAIFBmohJ4QpSZTAhn/6eEAGn1z8E3HsAI7XaswLeo2GmwxV5cXQBD931WzBUSmEylcFCSJ7oA9jHhjJ0d1lls77uD7ZDuM+50KKYHRkin80mq/2au7xkkXVeFsChH7L+DZXLKE7DRl0V/Js5yk8FjO8HcWhWOQA2Jewzk/ke/kwdzJcAAAAyQZ6mRTRMK/8AWKvcrBNlwHUAHrAiGjlqSa2suHHHI6eUuCvScmIf7ISeVoNdVoInIAkAAAAaAZ7HakJ/AIrFvpMRqTfs/v5B7Tujib3zyBkAAAAtQZrKSahBaJlMFPDP/p4QAafhOdaoTvxg/DY6OIt0PABt59JZEl+VqL9+kk7gAAAAFgGe6WpCfwBxWn2iRCx0TMSaAS2D3gQAAAAnQZrrSeEKUmUwIb/+p4QAaV0lFQAFP7X2iEsCGb2xi/9re4TRlMF7AAAAGEGbDknhDomUwIZ//p4QAZtdhOarWyuflQAAABtBnyxFETwr/wBWc1YgBsYl6wAzibECglUz2fYAAAASAZ9NakJ/AG6d/vvIZxm5EsWBAAAAI0GbT0moQWiZTAhv//6nhABpXVGRksqLeHKAAG8yDBcX6rGBAAAAHUGbc0nhClJlMCGf/p4QAaYRoKvFDz+WNy6GsqqBAAAAEkGfkUU0TCv/AFiT/U7bBtowWAAAAA4Bn7B0Qn8AcTX0lzqmWAAAAA4Bn7JqQn8AcUGlaHXXYQAAAItBm7dJqEFomUwIX//+aJ8pAGtVF/7ighWyktNI/7OfDIurLCXudUwK0MERPjXJ4BXsp4FvHe37/6kVCiJ1urTR6PAB8bKeGNGEJRYv+HCe4U4l7IrdYX+JJQoqY4f36xG245tFowmk3Ar6jSWK4fRvgDOUIw2AjO8y+w3m+2zalo64CSlkod7HZ7EsAAAAM0Gf1UURLCv/OVW91K/jcAQBEgtgBX8YVRXZM1fyrgxl6xeM/bKZ9QDdNxP9d+tCGfJZFAAAACQBn/R0Qn8+7imvG0sDYJsADgAsBj/mDjUaSuRkq+nXluHD7BMAAAAuAZ/2akJ/AS2LZvCbcbwBD1rdnoEkrTy97IbKeARnhDvEeLjmIlXFHe6DNlcuIAAAAEdBm/pJqEFsmUwIT//98QAf/RNvCXexABsdv4pRwS1h+6snjqfv7Q91PHiow0coKxMdEY3wg42VnF6SAvrG+RAmdyKCFOVahQAAAClBnhhFFSwr/wC6s0YAbaMOZlZJK0+jjP2yngJWsTKFLPA9nkud9IRQ0wAAAEEBnjlqQn8A7jXoACfppLC6iHteptszBk5QPfWaFqgfv9bEHG4TWcpqPkpSRUDx2WL+U3N/J+9HdF6BOxifAYfhQAAAAD1BmjtJqEFsmUwIT//98QAg/RNur2TUZqEAToFhTsOyNCVaD1kjKi2mqD44zMfP3JzSA2hLs0ixrDdwBwQtAAAAHEGaXEnhClJlMCGf/p4QAq9grhW+YHx+Gt9+n9QAAAAlQZp9SeEOiZTAhv/+p4QAtOHSimcETXrArFH8bQ7AZKQC1Q8S0QAAACxBmoBJ4Q8mUwIb//6nhAC1+8JbwWHwPitL0AEAG0TH/B+a7w20GKgtplBZgQAAACNBnr5FETwr/wCSzR9AC2a7/ilG6za2D5I0QMewikxpIb5oIAAAABABnt9qQn8AvwmSXrQ0UcMQAAAAJUGaxEmoQWiZTAhv//6nhACLfI2b6IIYAMd8fHpDYmFSBWCVo3UAAAAxQZ7iRREsK/8AcuwuBuWbABFYBKzoqruuh2Qfjyl91zW13sfJDtpPlikICaBLRdJfCAAAACgBnwF0Qn8AlvsVNI0ARIJ9oegSStsOb2Q2VCpYU0lt+5SlgV5cVBg5AAAAHQGfA2pCfwCWyjOADjySfilG6zalVLc7ynJIiG6TAAAAPUGbBUmoQWyZTAhn//6eEAG5hWBwALrQaWheDJ2c+eb28OgL5L8USfGrRKH2hoRatylq816i+i8wqxIWqoMAAACwQZsoSeEKUmUwIZ/+nhABuhwYFQbAAaLS4HgMcIcHvPHJmnnIysHdyXrfwfliLHgvRIXBycnNkoQodXbWOnRn5NCos5yDTL8QqpfsnJ2Ez4c9JsulAzbhgY1cBQQmx0UDBvs+2ek2DcxNzPxoY3sIt1OUD+EERAlGfZougT0shl6sG0WFC7MUUxLFfRbBTzVpakDDJCxdBv3SEHuGdNH+bJUqH25McT2syZ6KoVLBtJcAAAAsQZ9GRTRMK/8ActNE2rzlk0u/twM6LgCId9MTc9gqm9Qi/2c+5HjgeE4HrdkAAAAoAZ9nakJ/AJbuOcTwgACD5/vm+O7G3wqjADJDOUwqpygU0ea/AeLlQQAAACpBm2xJqEFomUwIV//+OEAGvpOe1OfTZAGWBqU5cImZY+uwb6sDd91JH3AAAAAkQZ+KRREsK/8AdCva4U1WtbFg27sACNutI6x9scOxUfu/nDbAAAAAIAGfqXRCfwCWtWjrzXABD45SliRWl5d2DQXO5m14BBiNAAAAGwGfq2pCfwCW7jVTSX8ZpsALEdSr3F4m4CewQAAAADNBm7BJqEFsmUwIV//+OEAGlPpslw9LuziW1GUExwJtHnAkyUrQe/4eaCkhbzbW5KE2DlwAAAAcQZ/ORRUsK/8AdCvaziSq0425Sy5JPX37Vby5yQAAABgBn+10Qn8AlrVpdxdNvJzZLtK/i7hsL1kAAAAQAZ/vakJ/AJbuOcSKddaEPwAAAD1Bm/RJqEFsmUwIb//+mlBw6KtSEA1kbQ/7/A6Eh3BHS+17Eublg57WoAC+Vc8SQpjQRHT97EWNS2R+VCjIAAAAL0GeEkUVLCv/OargdMiroZkvsxAFb86Ow0rsebNg1tU8u2CF4EUClnBkSrBg0KVLAAAAEgGeMXRCfwCWtTdAWyIHpmv9FQAAABgBnjNqQn8/0GmX50naUQVXQm59+4cOgIwAAAAwQZo4SahBbJlMCGf//p4QBDCXpYAS1YJpoOyn+Mg6LGE/7eQ7s9mPg5lAY+bU94MMAAAAEUGeVkUVLCv/AOIyreeG1TfBAAAACwGedXRCfwCWtVNYAAAAJQGed2pCfwEihVzAqwzAEGOpZv2IOpI0lcjKZZK6iujB7AC/lhEAAABHQZp6SahBbJlMFEwv//6MsARBHBBdeEANcMjX2PJ/84NiNPg5khUsPGgmwz1jbCzvcz0IK5/S1NloKS78Nx00vbHMFPtmEOUAAAAVAZ6ZakJ/ASYXdGh3iJGzk87vU8/cAAAAP0GanEnhClJlMFLCv/44QAzNoaaAFoBX0UNmKVa2D5Fbs94Wt/SpP7j/hfAZnO/wvWV+sO2OJOFFDC89kowK+QAAABQBnrtqQn8BIk30LGGDJpSWDe2XgAAAAE5Bmr1J4Q6JlMCE//3xAB8d/1rGxIA5N2+/Jz4WYVujZBfjNlE3lu9Y2FA7thLPH8IlWprS+zaojNdbkUzbop4gJC4lovxA3NTc+Qy9Jz0AAAAmQZreSeEPJlMCGf/+nhADMsFKFbCj9NvTwhizz0JqJ3MO0qPoW+EAAABAQZr/SeEPJlMCGf/+nhADN+x4xwFQvH3egAXGNqyyZvFdVF9AkldpEZnJ8tApAQ6Ml2TcBWxVgkCjx/EphyMiKAAAACJBmwBJ4Q8mUwIZ//6eEAJ7IDrGFHkWpsQSKZOz9av/hvfQAAAANUGbIUnhDyZTAhv//qeEAKLibg9wAf0Cq4blil5LJZ7e0Vt6gqHp9X2nN0NwpZc6IwpOzkUhAAAAKEGbQknhDyZTAhv//qeEAKMHa0tTx4dAzx5VpvU5VZ/n3eGC++wBVdgAAAAzQZtmSeEPJlMCG//+p4QAn3yNiTF+AFvR13b1eUfLLJtrC+47KaYqHpzOLURQMMVdKf0DAAAAJkGfhEURPCv/AH8A7rZtQAcDz+8vHAx6NZfIrdj2z/+k/thuEWjbAAAAFQGfo3RCfwCoXvnD6qdSl0vgeQtFowAAACIBn6VqQn8AqDNfwGE0ARHdvvzxv0aVq5um1BvRVwA1+CzZAAAAMUGbqUmoQWiZTAhv//6nhAB5/W2Rbs4tQpl5B5ZtQAht5PcDjgZhPG71CtwYvkd8tNEAAAAcQZ/HRREsK/8AZEO0OfT26ZR/b4SzsMg9VI4/IQAAACUBn+hqQn8AfwGs3OADi27788cAYVujYpFCYLmO8DIgerqxPb8gAAAANEGb7UmoQWyZTAhv//6nhABkXOueC1tHZydAAVOOekz39c6cBXUJfDsuIVldXUxhnE/z54AAAAAlQZ4LRRUsK/8AUdQXxZC5ivcgBtgV9FDZilWtg+RW5vmCJ91M4wAAACMBnip0Qn8AaIWe0eimNmIARfdvvzxwBgruq1c3Ovv0I6d+YAAAAB8BnixqQn8AaXv5BTotVeBMACH0k6fPHFEx4yMHej9QAAAAIUGaMUmoQWyZTAhn//6eEAGJ4TnWre78bM/7j1lT2JesmQAAABZBnk9FFSwr/wBR+FkUQn/ZwT8JCozRAAAAEwGebnRCfwBpeaBb/mcgTCze8sEAAAAQAZ5wakJ/AGmeAmeH+j33wAAAABpBmnVJqEFsmUwIX//+jLABgFk04oO81RipqAAAABFBnpNFFSwr/wBPlJ9/4N5y8wAAABABnrJ0Qn8AZx8avzg1JzmAAAAAEwGetGpCfwBmBZ8SVuHlYVJ5a8AAAAHPZYiEADv//vdOvwKbVMIp767CHLOoABO9Kl5+TEqoeJqNX4678nMz5p9djSrwsGm+oz0zgnY2bT9icPkdtW4uK7ZATutpDwGnUNOZFQNtmLt4xafQkkMx6oKbxz2+L37ogXd2PiVyBgy6oKS6SYQhOwH/D441F5WtDayO88cxeeVKkj9tKQuE0mBW129nWRsC1pnJIlzAwj4QvA5zqNQDiGKkIArHZwfBCcpN8MwXnnb5A5LIEFvdm4r+ROIVgKToRheShMXvNLYARYGiHcWelVZFYaC88SCNLawmv8RQxmFHlAtnFujE1HgA9VwsfzRcKZdrfealqNjYnjzIl3P2hoguQA3k3sECMf6yuePamQKHuHYOEggHtbz7PJ2yn++Ms43ZtqiJeaAM/1Wxs7BAulEFBaumZPmqkTto4zyvljjyFJ2UELX98yYrLidIXsypxQNaeQyTzjaSUKJeCcGmDiChC3w+Os2/Dvv2hkt90vo837UYLlUcn/+q+ayD8+IVEwh4MBypOh4euC+QjNeoHxlovTCpMAmCtVjnr4bJMaRKHe9nMSJANY2N9dHlaozYkS80+74GptjHpomw0RO7bnd0gs0uLeTBP5TWQ+JdRwAAADhBmiFsQr/+OEAY5s6DaW7q9RVHcMMvA9B92r2bUsCg8l1RDsFQT+TsA/NIFGe3ADVvSqjUeeoRgAAAABdBmkI8IZMphCf//fEADs2wn8TbF0XcFQAACuNtb292AAAAbG12aGQAAAAAAAAAAAAAAAAAAAPoAAAX9gABAAABAAAAAAAAAAAAAAAAAQAAAAAAAAAAAAAAAAAAAAEAAAAAAAAAAAAAAAAAAEAAAAAAAAAAAAAAAAAAAAAAAAAAAAAAAAAAAAAAAAACAAAKDXRyYWsAAABcdGtoZAAAAAMAAAAAAAAAAAAAAAEAAAAAAAAX9gAAAAAAAAAAAAAAAAAAAAAAAQAAAAAAAAAAAAAAAAAAAAEAAAAAAAAAAAAAAAAAAEAAAAAAoAAAANIAAAAAACRlZHRzAAAAHGVsc3QAAAAAAAAAAQAAF/YAAAQAAAEAAAAACYVtZGlhAAAAIG1kaGQAAAAAAAAAAAAAAAAAADwAAAFwAFXEAAAAAAAtaGRscgAAAAAAAAAAdmlkZQAAAAAAAAAAAAAAAFZpZGVvSGFuZGxlcgAAAAkwbWluZgAAABR2bWhkAAAAAQAAAAAAAAAAAAAAJGRpbmYAAAAcZHJlZgAAAAAAAAABAAAADHVybCAAAAABAAAI8HN0YmwAAACYc3RzZAAAAAAAAAABAAAAiGF2YzEAAAAAAAAAAQAAAAAAAAAAAAAAAAAAAAAAoADSAEgAAABIAAAAAAAAAAEAAAAAAAAAAAAAAAAAAAAAAAAAAAAAAAAAAAAAAAAAAAAY//8AAAAyYXZjQwFkAAz/4QAZZ2QADKzZQod+IhAAAAMAEAAAAwPA8UKZYAEABmjr48siwAAAABhzdHRzAAAAAAAAAAEAAAC4AAACAAAAABxzdHNzAAAAAAAAAAMAAAABAAAAYAAAALYAAAT4Y3R0cwAAAAAAAACdAAAAAQAABAAAAAABAAAGAAAAAAEAAAIAAAAAAQAACgAAAAABAAAEAAAAAAEAAAAAAAAAAQAAAgAAAAADAAAEAAAAAAEAAAYAAAAAAQAAAgAAAAABAAAEAAAAAAEAAAYAAAAAAQAAAgAAAAABAAAGAAAAAAEAAAIAAAAAAQAACgAAAAABAAAEAAAAAAEAAAAAAAAAAQAAAgAAAAABAAAEAAAAAAEAAAoAAAAAAQAABAAAAAABAAAAAAAAAAEAAAIAAAAAAgAABAAAAAABAAAKAAAAAAEAAAQAAAAAAQAAAAAAAAABAAACAAAAAAEAAAoAAAAAAQAABAAAAAABAAAAAAAAAAEAAAIAAAAAAQAACAAAAAACAAACAAAAAAEAAAQAAAAAAQAABgAAAAABAAACAAAAAAEAAAQAAAAAAQAACgAAAAABAAAEAAAAAAEAAAAAAAAAAQAAAgAAAAACAAAEAAAAAAEAAAgAAAAAAgAAAgAAAAAEAAAEAAAAAAEAAAYAAAAAAQAAAgAAAAABAAAIAAAAAAIAAAIAAAAAAQAACgAAAAABAAAEAAAAAAEAAAAAAAAAAQAAAgAAAAABAAAKAAAAAAEAAAQAAAAAAQAAAAAAAAABAAACAAAAAAEAAAoAAAAAAQAABAAAAAABAAAAAAAAAAEAAAIAAAAAAQAACgAAAAABAAAEAAAAAAEAAAAAAAAAAQAAAgAAAAABAAAKAAAAAAEAAAQAAAAAAQAAAAAAAAABAAACAAAAAAEAAAoAAAAAAQAABAAAAAABAAAAAAAAAAEAAAIAAAAAAQAACgAAAAABAAAEAAAAAAEAAAAAAAAAAQAAAgAAAAABAAAEAAAAAAEAAAgAAAAAAgAAAgAAAAABAAAGAAAAAAEAAAIAAAAAAQAABAAAAAABAAAIAAAAAAIAAAIAAAAAAQAABgAAAAABAAACAAAAAAEAAAgAAAAAAgAAAgAAAAABAAAGAAAAAAEAAAIAAAAAAQAABAAAAAABAAAIAAAAAAIAAAIAAAAAAQAABAAAAAABAAAKAAAAAAEAAAQAAAAAAQAAAAAAAAABAAACAAAAAAEAAAoAAAAAAQAABAAAAAABAAAAAAAAAAEAAAIAAAAAAQAACAAAAAACAAACAAAAAAMAAAQAAAAAAQAACAAAAAACAAACAAAAAAEAAAoAAAAAAQAABAAAAAABAAAAAAAAAAEAAAIAAAAAAQAABAAAAAABAAAIAAAAAAIAAAIAAAAAAQAACgAAAAABAAAEAAAAAAEAAAAAAAAAAQAAAgAAAAABAAAKAAAAAAEAAAQAAAAAAQAAAAAAAAABAAACAAAAAAEAAAoAAAAAAQAABAAAAAABAAAAAAAAAAEAAAIAAAAAAQAACgAAAAABAAAEAAAAAAEAAAAAAAAAAQAAAgAAAAABAAAGAAAAAAEAAAIAAAAAAQAABgAAAAABAAACAAAAAAYAAAQAAAAAAQAACgAAAAABAAAEAAAAAAEAAAAAAAAAAQAAAgAAAAABAAAIAAAAAAIAAAIAAAAAAQAACgAAAAABAAAEAAAAAAEAAAAAAAAAAQAAAgAAAAABAAAKAAAAAAEAAAQAAAAAAQAAAAAAAAABAAACAAAAAAEAAAoAAAAAAQAABAAAAAABAAAAAAAAAAEAAAIAAAAAAwAABAAAAAAcc3RzYwAAAAAAAAABAAAAAQAAALgAAAABAAAC9HN0c3oAAAAAAAAAAAAAALgAAATCAAAASAAAABcAAABMAAAAIAAAABUAAAAeAAAAVwAAAC4AAAA2AAAAXAAAAB8AAAB7AAAARgAAAB4AAAB7AAAAIAAAADYAAAA4AAAAGAAAACUAAAAiAAAALQAAACMAAAATAAAAIAAAAB0AAAAcAAAAGgAAABcAAAAdAAAAEAAAABYAAAAPAAAADQAAAA0AAABPAAAAFAAAABEAAAAcAAAANgAAABMAAAAaAAAAMQAAACMAAAAVAAAAJwAAABoAAAAiAAAAMwAAABYAAAAmAAAAIwAAABoAAAAgAAAAGgAAADQAAAATAAAANQAAABkAAAAVAAAAHwAAACMAAAAgAAAAGAAAABYAAAAPAAAADQAAAA0AAAAzAAAAEQAAAA8AAAANAAAAFgAAAA8AAAANAAAADQAAABYAAAAPAAAADQAAAA0AAAAvAAAAKAAAABIAAAASAAAAMAAAADgAAAAeAAAAJQAAAE0AAABQAAAAJAAAABsAAAAyAAAAGQAAAkMAAAA7AAAAHAAAABkAAAA9AAAAGwAAAIUAAAA2AAAAHgAAADEAAAAaAAAAKwAAABwAAAAfAAAAFgAAACcAAAAhAAAAFgAAABIAAAASAAAAjwAAADcAAAAoAAAAMgAAAEsAAAAtAAAARQAAAEEAAAAgAAAAKQAAADAAAAAnAAAAFAAAACkAAAA1AAAALAAAACEAAABBAAAAtAAAADAAAAAsAAAALgAAACgAAAAkAAAAHwAAADcAAAAgAAAAHAAAABQAAABBAAAAMwAAABYAAAAcAAAANAAAABUAAAAPAAAAKQAAAEsAAAAZAAAAQwAAABgAAABSAAAAKgAAAEQAAAAmAAAAOQAAACwAAAA3AAAAKgAAABkAAAAmAAAANQAAACAAAAApAAAAOAAAACkAAAAnAAAAIwAAACUAAAAaAAAAFwAAABQAAAAeAAAAFQAAABQAAAAXAAAB0wAAADwAAAAbAAAAFHN0Y28AAAAAAAAAAQAAADAAAABidWR0YQAAAFptZXRhAAAAAAAAACFoZGxyAAAAAAAAAABtZGlyYXBwbAAAAAAAAAAAAAAAAC1pbHN0AAAAJal0b28AAAAdZGF0YQAAAAEAAAAATGF2ZjU3LjgzLjEwMA==\" type=\"video/mp4\" />\n",
              "             </video>"
            ],
            "text/plain": [
              "<IPython.core.display.HTML object>"
            ]
          },
          "metadata": {
            "tags": []
          }
        },
        {
          "output_type": "stream",
          "text": [
            "Hello World\n"
          ],
          "name": "stdout"
        }
      ]
    },
    {
      "cell_type": "code",
      "metadata": {
        "id": "5Agwqbfloms8",
        "colab_type": "code",
        "colab": {}
      },
      "source": [
        ""
      ],
      "execution_count": 0,
      "outputs": []
    }
  ]
}