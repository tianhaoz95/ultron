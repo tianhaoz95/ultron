{
  "nbformat": 4,
  "nbformat_minor": 0,
  "metadata": {
    "colab": {
      "name": "Copy of prototype_atari_with_actor_critic.ipynb",
      "provenance": [],
      "collapsed_sections": [],
      "machine_shape": "hm",
      "include_colab_link": true
    },
    "kernelspec": {
      "name": "python3",
      "display_name": "Python 3"
    },
    "accelerator": "TPU",
    "widgets": {
      "application/vnd.jupyter.widget-state+json": {
        "4b3a18bf67974a209740db9b7664ddcc": {
          "model_module": "@jupyter-widgets/controls",
          "model_name": "HBoxModel",
          "state": {
            "_view_name": "HBoxView",
            "_dom_classes": [],
            "_model_name": "HBoxModel",
            "_view_module": "@jupyter-widgets/controls",
            "_model_module_version": "1.5.0",
            "_view_count": null,
            "_view_module_version": "1.5.0",
            "box_style": "",
            "layout": "IPY_MODEL_6052186641414daab79fc81f6e533678",
            "_model_module": "@jupyter-widgets/controls",
            "children": [
              "IPY_MODEL_64d968591f0f446fad0cd106296eff3d",
              "IPY_MODEL_261bd2ccf2544dce9bc3f291776140ad"
            ]
          }
        },
        "6052186641414daab79fc81f6e533678": {
          "model_module": "@jupyter-widgets/base",
          "model_name": "LayoutModel",
          "state": {
            "_view_name": "LayoutView",
            "grid_template_rows": null,
            "right": null,
            "justify_content": null,
            "_view_module": "@jupyter-widgets/base",
            "overflow": null,
            "_model_module_version": "1.2.0",
            "_view_count": null,
            "flex_flow": null,
            "width": null,
            "min_width": null,
            "border": null,
            "align_items": null,
            "bottom": null,
            "_model_module": "@jupyter-widgets/base",
            "top": null,
            "grid_column": null,
            "overflow_y": null,
            "overflow_x": null,
            "grid_auto_flow": null,
            "grid_area": null,
            "grid_template_columns": null,
            "flex": null,
            "_model_name": "LayoutModel",
            "justify_items": null,
            "grid_row": null,
            "max_height": null,
            "align_content": null,
            "visibility": null,
            "align_self": null,
            "height": null,
            "min_height": null,
            "padding": null,
            "grid_auto_rows": null,
            "grid_gap": null,
            "max_width": null,
            "order": null,
            "_view_module_version": "1.2.0",
            "grid_template_areas": null,
            "object_position": null,
            "object_fit": null,
            "grid_auto_columns": null,
            "margin": null,
            "display": null,
            "left": null
          }
        },
        "64d968591f0f446fad0cd106296eff3d": {
          "model_module": "@jupyter-widgets/controls",
          "model_name": "FloatProgressModel",
          "state": {
            "_view_name": "ProgressView",
            "style": "IPY_MODEL_3fb28ba005cf406282b11bfe65e5dac4",
            "_dom_classes": [],
            "description": "step: 176, reward -36.2/-32.4:  10%",
            "_model_name": "FloatProgressModel",
            "bar_style": "",
            "max": 10000,
            "_view_module": "@jupyter-widgets/controls",
            "_model_module_version": "1.5.0",
            "value": 957,
            "_view_count": null,
            "_view_module_version": "1.5.0",
            "orientation": "horizontal",
            "min": 0,
            "description_tooltip": null,
            "_model_module": "@jupyter-widgets/controls",
            "layout": "IPY_MODEL_5d1a43ab8a4943d4816035ec88346e31"
          }
        },
        "261bd2ccf2544dce9bc3f291776140ad": {
          "model_module": "@jupyter-widgets/controls",
          "model_name": "HTMLModel",
          "state": {
            "_view_name": "HTMLView",
            "style": "IPY_MODEL_04780a96113941f4b1d01d6544b91d87",
            "_dom_classes": [],
            "description": "",
            "_model_name": "HTMLModel",
            "placeholder": "​",
            "_view_module": "@jupyter-widgets/controls",
            "_model_module_version": "1.5.0",
            "value": " 957/10000 [49:11&lt;5:54:24,  2.35s/it]",
            "_view_count": null,
            "_view_module_version": "1.5.0",
            "description_tooltip": null,
            "_model_module": "@jupyter-widgets/controls",
            "layout": "IPY_MODEL_676b1aeeb2f7413594ed55d2907846cd"
          }
        },
        "3fb28ba005cf406282b11bfe65e5dac4": {
          "model_module": "@jupyter-widgets/controls",
          "model_name": "ProgressStyleModel",
          "state": {
            "_view_name": "StyleView",
            "_model_name": "ProgressStyleModel",
            "description_width": "initial",
            "_view_module": "@jupyter-widgets/base",
            "_model_module_version": "1.5.0",
            "_view_count": null,
            "_view_module_version": "1.2.0",
            "bar_color": null,
            "_model_module": "@jupyter-widgets/controls"
          }
        },
        "5d1a43ab8a4943d4816035ec88346e31": {
          "model_module": "@jupyter-widgets/base",
          "model_name": "LayoutModel",
          "state": {
            "_view_name": "LayoutView",
            "grid_template_rows": null,
            "right": null,
            "justify_content": null,
            "_view_module": "@jupyter-widgets/base",
            "overflow": null,
            "_model_module_version": "1.2.0",
            "_view_count": null,
            "flex_flow": null,
            "width": null,
            "min_width": null,
            "border": null,
            "align_items": null,
            "bottom": null,
            "_model_module": "@jupyter-widgets/base",
            "top": null,
            "grid_column": null,
            "overflow_y": null,
            "overflow_x": null,
            "grid_auto_flow": null,
            "grid_area": null,
            "grid_template_columns": null,
            "flex": null,
            "_model_name": "LayoutModel",
            "justify_items": null,
            "grid_row": null,
            "max_height": null,
            "align_content": null,
            "visibility": null,
            "align_self": null,
            "height": null,
            "min_height": null,
            "padding": null,
            "grid_auto_rows": null,
            "grid_gap": null,
            "max_width": null,
            "order": null,
            "_view_module_version": "1.2.0",
            "grid_template_areas": null,
            "object_position": null,
            "object_fit": null,
            "grid_auto_columns": null,
            "margin": null,
            "display": null,
            "left": null
          }
        },
        "04780a96113941f4b1d01d6544b91d87": {
          "model_module": "@jupyter-widgets/controls",
          "model_name": "DescriptionStyleModel",
          "state": {
            "_view_name": "StyleView",
            "_model_name": "DescriptionStyleModel",
            "description_width": "",
            "_view_module": "@jupyter-widgets/base",
            "_model_module_version": "1.5.0",
            "_view_count": null,
            "_view_module_version": "1.2.0",
            "_model_module": "@jupyter-widgets/controls"
          }
        },
        "676b1aeeb2f7413594ed55d2907846cd": {
          "model_module": "@jupyter-widgets/base",
          "model_name": "LayoutModel",
          "state": {
            "_view_name": "LayoutView",
            "grid_template_rows": null,
            "right": null,
            "justify_content": null,
            "_view_module": "@jupyter-widgets/base",
            "overflow": null,
            "_model_module_version": "1.2.0",
            "_view_count": null,
            "flex_flow": null,
            "width": null,
            "min_width": null,
            "border": null,
            "align_items": null,
            "bottom": null,
            "_model_module": "@jupyter-widgets/base",
            "top": null,
            "grid_column": null,
            "overflow_y": null,
            "overflow_x": null,
            "grid_auto_flow": null,
            "grid_area": null,
            "grid_template_columns": null,
            "flex": null,
            "_model_name": "LayoutModel",
            "justify_items": null,
            "grid_row": null,
            "max_height": null,
            "align_content": null,
            "visibility": null,
            "align_self": null,
            "height": null,
            "min_height": null,
            "padding": null,
            "grid_auto_rows": null,
            "grid_gap": null,
            "max_width": null,
            "order": null,
            "_view_module_version": "1.2.0",
            "grid_template_areas": null,
            "object_position": null,
            "object_fit": null,
            "grid_auto_columns": null,
            "margin": null,
            "display": null,
            "left": null
          }
        },
        "9340eb47e2c34624a8d8fd9618b2bfb5": {
          "model_module": "@jupyter-widgets/controls",
          "model_name": "HBoxModel",
          "state": {
            "_view_name": "HBoxView",
            "_dom_classes": [],
            "_model_name": "HBoxModel",
            "_view_module": "@jupyter-widgets/controls",
            "_model_module_version": "1.5.0",
            "_view_count": null,
            "_view_module_version": "1.5.0",
            "box_style": "",
            "layout": "IPY_MODEL_0550d14cf4b4480c9dc95965459aeeec",
            "_model_module": "@jupyter-widgets/controls",
            "children": [
              "IPY_MODEL_3d5cc9cc72f04059bcd0d509e149b5c2",
              "IPY_MODEL_99223ac0afe54bb6a9c17dc0d2fd3566"
            ]
          }
        },
        "0550d14cf4b4480c9dc95965459aeeec": {
          "model_module": "@jupyter-widgets/base",
          "model_name": "LayoutModel",
          "state": {
            "_view_name": "LayoutView",
            "grid_template_rows": null,
            "right": null,
            "justify_content": null,
            "_view_module": "@jupyter-widgets/base",
            "overflow": null,
            "_model_module_version": "1.2.0",
            "_view_count": null,
            "flex_flow": null,
            "width": null,
            "min_width": null,
            "border": null,
            "align_items": null,
            "bottom": null,
            "_model_module": "@jupyter-widgets/base",
            "top": null,
            "grid_column": null,
            "overflow_y": null,
            "overflow_x": null,
            "grid_auto_flow": null,
            "grid_area": null,
            "grid_template_columns": null,
            "flex": null,
            "_model_name": "LayoutModel",
            "justify_items": null,
            "grid_row": null,
            "max_height": null,
            "align_content": null,
            "visibility": null,
            "align_self": null,
            "height": null,
            "min_height": null,
            "padding": null,
            "grid_auto_rows": null,
            "grid_gap": null,
            "max_width": null,
            "order": null,
            "_view_module_version": "1.2.0",
            "grid_template_areas": null,
            "object_position": null,
            "object_fit": null,
            "grid_auto_columns": null,
            "margin": null,
            "display": null,
            "left": null
          }
        },
        "3d5cc9cc72f04059bcd0d509e149b5c2": {
          "model_module": "@jupyter-widgets/controls",
          "model_name": "FloatProgressModel",
          "state": {
            "_view_name": "ProgressView",
            "style": "IPY_MODEL_4cf1419570d5471b946be6710f14b24b",
            "_dom_classes": [],
            "description": "starting 40 workers: 100%",
            "_model_name": "FloatProgressModel",
            "bar_style": "success",
            "max": 40,
            "_view_module": "@jupyter-widgets/controls",
            "_model_module_version": "1.5.0",
            "value": 40,
            "_view_count": null,
            "_view_module_version": "1.5.0",
            "orientation": "horizontal",
            "min": 0,
            "description_tooltip": null,
            "_model_module": "@jupyter-widgets/controls",
            "layout": "IPY_MODEL_15c57f626b2f466f8c9e6e0273a2f873"
          }
        },
        "99223ac0afe54bb6a9c17dc0d2fd3566": {
          "model_module": "@jupyter-widgets/controls",
          "model_name": "HTMLModel",
          "state": {
            "_view_name": "HTMLView",
            "style": "IPY_MODEL_4a88027d20f844a1ad43f78b084285b5",
            "_dom_classes": [],
            "description": "",
            "_model_name": "HTMLModel",
            "placeholder": "​",
            "_view_module": "@jupyter-widgets/controls",
            "_model_module_version": "1.5.0",
            "value": " 40/40 [00:00&lt;00:00, 363.14it/s]",
            "_view_count": null,
            "_view_module_version": "1.5.0",
            "description_tooltip": null,
            "_model_module": "@jupyter-widgets/controls",
            "layout": "IPY_MODEL_5608e7faa3f64e0d8c3242a1ff0d3d89"
          }
        },
        "4cf1419570d5471b946be6710f14b24b": {
          "model_module": "@jupyter-widgets/controls",
          "model_name": "ProgressStyleModel",
          "state": {
            "_view_name": "StyleView",
            "_model_name": "ProgressStyleModel",
            "description_width": "initial",
            "_view_module": "@jupyter-widgets/base",
            "_model_module_version": "1.5.0",
            "_view_count": null,
            "_view_module_version": "1.2.0",
            "bar_color": null,
            "_model_module": "@jupyter-widgets/controls"
          }
        },
        "15c57f626b2f466f8c9e6e0273a2f873": {
          "model_module": "@jupyter-widgets/base",
          "model_name": "LayoutModel",
          "state": {
            "_view_name": "LayoutView",
            "grid_template_rows": null,
            "right": null,
            "justify_content": null,
            "_view_module": "@jupyter-widgets/base",
            "overflow": null,
            "_model_module_version": "1.2.0",
            "_view_count": null,
            "flex_flow": null,
            "width": null,
            "min_width": null,
            "border": null,
            "align_items": null,
            "bottom": null,
            "_model_module": "@jupyter-widgets/base",
            "top": null,
            "grid_column": null,
            "overflow_y": null,
            "overflow_x": null,
            "grid_auto_flow": null,
            "grid_area": null,
            "grid_template_columns": null,
            "flex": null,
            "_model_name": "LayoutModel",
            "justify_items": null,
            "grid_row": null,
            "max_height": null,
            "align_content": null,
            "visibility": null,
            "align_self": null,
            "height": null,
            "min_height": null,
            "padding": null,
            "grid_auto_rows": null,
            "grid_gap": null,
            "max_width": null,
            "order": null,
            "_view_module_version": "1.2.0",
            "grid_template_areas": null,
            "object_position": null,
            "object_fit": null,
            "grid_auto_columns": null,
            "margin": null,
            "display": null,
            "left": null
          }
        },
        "4a88027d20f844a1ad43f78b084285b5": {
          "model_module": "@jupyter-widgets/controls",
          "model_name": "DescriptionStyleModel",
          "state": {
            "_view_name": "StyleView",
            "_model_name": "DescriptionStyleModel",
            "description_width": "",
            "_view_module": "@jupyter-widgets/base",
            "_model_module_version": "1.5.0",
            "_view_count": null,
            "_view_module_version": "1.2.0",
            "_model_module": "@jupyter-widgets/controls"
          }
        },
        "5608e7faa3f64e0d8c3242a1ff0d3d89": {
          "model_module": "@jupyter-widgets/base",
          "model_name": "LayoutModel",
          "state": {
            "_view_name": "LayoutView",
            "grid_template_rows": null,
            "right": null,
            "justify_content": null,
            "_view_module": "@jupyter-widgets/base",
            "overflow": null,
            "_model_module_version": "1.2.0",
            "_view_count": null,
            "flex_flow": null,
            "width": null,
            "min_width": null,
            "border": null,
            "align_items": null,
            "bottom": null,
            "_model_module": "@jupyter-widgets/base",
            "top": null,
            "grid_column": null,
            "overflow_y": null,
            "overflow_x": null,
            "grid_auto_flow": null,
            "grid_area": null,
            "grid_template_columns": null,
            "flex": null,
            "_model_name": "LayoutModel",
            "justify_items": null,
            "grid_row": null,
            "max_height": null,
            "align_content": null,
            "visibility": null,
            "align_self": null,
            "height": null,
            "min_height": null,
            "padding": null,
            "grid_auto_rows": null,
            "grid_gap": null,
            "max_width": null,
            "order": null,
            "_view_module_version": "1.2.0",
            "grid_template_areas": null,
            "object_position": null,
            "object_fit": null,
            "grid_auto_columns": null,
            "margin": null,
            "display": null,
            "left": null
          }
        },
        "c0ab54ca57cc417d83da6d59b89afd88": {
          "model_module": "@jupyter-widgets/controls",
          "model_name": "HBoxModel",
          "state": {
            "_view_name": "HBoxView",
            "_dom_classes": [],
            "_model_name": "HBoxModel",
            "_view_module": "@jupyter-widgets/controls",
            "_model_module_version": "1.5.0",
            "_view_count": null,
            "_view_module_version": "1.5.0",
            "box_style": "",
            "layout": "IPY_MODEL_87cf335ad65f4b9da01ba8359a1affec",
            "_model_module": "@jupyter-widgets/controls",
            "children": [
              "IPY_MODEL_464d653530a147d397e42bf74ce3e20b",
              "IPY_MODEL_460362154ea54e5a911762e7a3170d2f"
            ]
          }
        },
        "87cf335ad65f4b9da01ba8359a1affec": {
          "model_module": "@jupyter-widgets/base",
          "model_name": "LayoutModel",
          "state": {
            "_view_name": "LayoutView",
            "grid_template_rows": null,
            "right": null,
            "justify_content": null,
            "_view_module": "@jupyter-widgets/base",
            "overflow": null,
            "_model_module_version": "1.2.0",
            "_view_count": null,
            "flex_flow": null,
            "width": null,
            "min_width": null,
            "border": null,
            "align_items": null,
            "bottom": null,
            "_model_module": "@jupyter-widgets/base",
            "top": null,
            "grid_column": null,
            "overflow_y": null,
            "overflow_x": null,
            "grid_auto_flow": null,
            "grid_area": null,
            "grid_template_columns": null,
            "flex": null,
            "_model_name": "LayoutModel",
            "justify_items": null,
            "grid_row": null,
            "max_height": null,
            "align_content": null,
            "visibility": null,
            "align_self": null,
            "height": null,
            "min_height": null,
            "padding": null,
            "grid_auto_rows": null,
            "grid_gap": null,
            "max_width": null,
            "order": null,
            "_view_module_version": "1.2.0",
            "grid_template_areas": null,
            "object_position": null,
            "object_fit": null,
            "grid_auto_columns": null,
            "margin": null,
            "display": null,
            "left": null
          }
        },
        "464d653530a147d397e42bf74ce3e20b": {
          "model_module": "@jupyter-widgets/controls",
          "model_name": "FloatProgressModel",
          "state": {
            "_view_name": "ProgressView",
            "style": "IPY_MODEL_6c550c0bd5284934a152b9aecd247aa1",
            "_dom_classes": [],
            "description": "100%",
            "_model_name": "FloatProgressModel",
            "bar_style": "success",
            "max": 1000,
            "_view_module": "@jupyter-widgets/controls",
            "_model_module_version": "1.5.0",
            "value": 1000,
            "_view_count": null,
            "_view_module_version": "1.5.0",
            "orientation": "horizontal",
            "min": 0,
            "description_tooltip": null,
            "_model_module": "@jupyter-widgets/controls",
            "layout": "IPY_MODEL_d34a11644494477a8107e5697fe3e0c8"
          }
        },
        "460362154ea54e5a911762e7a3170d2f": {
          "model_module": "@jupyter-widgets/controls",
          "model_name": "HTMLModel",
          "state": {
            "_view_name": "HTMLView",
            "style": "IPY_MODEL_7e253f258c36439caff46709d3a28096",
            "_dom_classes": [],
            "description": "",
            "_model_name": "HTMLModel",
            "placeholder": "​",
            "_view_module": "@jupyter-widgets/controls",
            "_model_module_version": "1.5.0",
            "value": " 1000/1000 [05:14&lt;00:00,  3.18it/s]",
            "_view_count": null,
            "_view_module_version": "1.5.0",
            "description_tooltip": null,
            "_model_module": "@jupyter-widgets/controls",
            "layout": "IPY_MODEL_323978c26f2c4ca786158b0d81fe8829"
          }
        },
        "6c550c0bd5284934a152b9aecd247aa1": {
          "model_module": "@jupyter-widgets/controls",
          "model_name": "ProgressStyleModel",
          "state": {
            "_view_name": "StyleView",
            "_model_name": "ProgressStyleModel",
            "description_width": "initial",
            "_view_module": "@jupyter-widgets/base",
            "_model_module_version": "1.5.0",
            "_view_count": null,
            "_view_module_version": "1.2.0",
            "bar_color": null,
            "_model_module": "@jupyter-widgets/controls"
          }
        },
        "d34a11644494477a8107e5697fe3e0c8": {
          "model_module": "@jupyter-widgets/base",
          "model_name": "LayoutModel",
          "state": {
            "_view_name": "LayoutView",
            "grid_template_rows": null,
            "right": null,
            "justify_content": null,
            "_view_module": "@jupyter-widgets/base",
            "overflow": null,
            "_model_module_version": "1.2.0",
            "_view_count": null,
            "flex_flow": null,
            "width": null,
            "min_width": null,
            "border": null,
            "align_items": null,
            "bottom": null,
            "_model_module": "@jupyter-widgets/base",
            "top": null,
            "grid_column": null,
            "overflow_y": null,
            "overflow_x": null,
            "grid_auto_flow": null,
            "grid_area": null,
            "grid_template_columns": null,
            "flex": null,
            "_model_name": "LayoutModel",
            "justify_items": null,
            "grid_row": null,
            "max_height": null,
            "align_content": null,
            "visibility": null,
            "align_self": null,
            "height": null,
            "min_height": null,
            "padding": null,
            "grid_auto_rows": null,
            "grid_gap": null,
            "max_width": null,
            "order": null,
            "_view_module_version": "1.2.0",
            "grid_template_areas": null,
            "object_position": null,
            "object_fit": null,
            "grid_auto_columns": null,
            "margin": null,
            "display": null,
            "left": null
          }
        },
        "7e253f258c36439caff46709d3a28096": {
          "model_module": "@jupyter-widgets/controls",
          "model_name": "DescriptionStyleModel",
          "state": {
            "_view_name": "StyleView",
            "_model_name": "DescriptionStyleModel",
            "description_width": "",
            "_view_module": "@jupyter-widgets/base",
            "_model_module_version": "1.5.0",
            "_view_count": null,
            "_view_module_version": "1.2.0",
            "_model_module": "@jupyter-widgets/controls"
          }
        },
        "323978c26f2c4ca786158b0d81fe8829": {
          "model_module": "@jupyter-widgets/base",
          "model_name": "LayoutModel",
          "state": {
            "_view_name": "LayoutView",
            "grid_template_rows": null,
            "right": null,
            "justify_content": null,
            "_view_module": "@jupyter-widgets/base",
            "overflow": null,
            "_model_module_version": "1.2.0",
            "_view_count": null,
            "flex_flow": null,
            "width": null,
            "min_width": null,
            "border": null,
            "align_items": null,
            "bottom": null,
            "_model_module": "@jupyter-widgets/base",
            "top": null,
            "grid_column": null,
            "overflow_y": null,
            "overflow_x": null,
            "grid_auto_flow": null,
            "grid_area": null,
            "grid_template_columns": null,
            "flex": null,
            "_model_name": "LayoutModel",
            "justify_items": null,
            "grid_row": null,
            "max_height": null,
            "align_content": null,
            "visibility": null,
            "align_self": null,
            "height": null,
            "min_height": null,
            "padding": null,
            "grid_auto_rows": null,
            "grid_gap": null,
            "max_width": null,
            "order": null,
            "_view_module_version": "1.2.0",
            "grid_template_areas": null,
            "object_position": null,
            "object_fit": null,
            "grid_auto_columns": null,
            "margin": null,
            "display": null,
            "left": null
          }
        },
        "0f35888605fe473696e8a033b20a9943": {
          "model_module": "@jupyter-widgets/controls",
          "model_name": "HBoxModel",
          "state": {
            "_view_name": "HBoxView",
            "_dom_classes": [],
            "_model_name": "HBoxModel",
            "_view_module": "@jupyter-widgets/controls",
            "_model_module_version": "1.5.0",
            "_view_count": null,
            "_view_module_version": "1.5.0",
            "box_style": "",
            "layout": "IPY_MODEL_054cb6bc4fc24276bb003a9b078327f6",
            "_model_module": "@jupyter-widgets/controls",
            "children": [
              "IPY_MODEL_2862fcfc77a443f98a53e9dae80f72f9",
              "IPY_MODEL_b00d8b35ea2b44b995b1bf04bfd62ee9"
            ]
          }
        },
        "054cb6bc4fc24276bb003a9b078327f6": {
          "model_module": "@jupyter-widgets/base",
          "model_name": "LayoutModel",
          "state": {
            "_view_name": "LayoutView",
            "grid_template_rows": null,
            "right": null,
            "justify_content": null,
            "_view_module": "@jupyter-widgets/base",
            "overflow": null,
            "_model_module_version": "1.2.0",
            "_view_count": null,
            "flex_flow": null,
            "width": null,
            "min_width": null,
            "border": null,
            "align_items": null,
            "bottom": null,
            "_model_module": "@jupyter-widgets/base",
            "top": null,
            "grid_column": null,
            "overflow_y": null,
            "overflow_x": null,
            "grid_auto_flow": null,
            "grid_area": null,
            "grid_template_columns": null,
            "flex": null,
            "_model_name": "LayoutModel",
            "justify_items": null,
            "grid_row": null,
            "max_height": null,
            "align_content": null,
            "visibility": null,
            "align_self": null,
            "height": null,
            "min_height": null,
            "padding": null,
            "grid_auto_rows": null,
            "grid_gap": null,
            "max_width": null,
            "order": null,
            "_view_module_version": "1.2.0",
            "grid_template_areas": null,
            "object_position": null,
            "object_fit": null,
            "grid_auto_columns": null,
            "margin": null,
            "display": null,
            "left": null
          }
        },
        "2862fcfc77a443f98a53e9dae80f72f9": {
          "model_module": "@jupyter-widgets/controls",
          "model_name": "FloatProgressModel",
          "state": {
            "_view_name": "ProgressView",
            "style": "IPY_MODEL_6ff1f13189fe48ffbee5eba30c53bff5",
            "_dom_classes": [],
            "description": "100%",
            "_model_name": "FloatProgressModel",
            "bar_style": "success",
            "max": 1000,
            "_view_module": "@jupyter-widgets/controls",
            "_model_module_version": "1.5.0",
            "value": 1000,
            "_view_count": null,
            "_view_module_version": "1.5.0",
            "orientation": "horizontal",
            "min": 0,
            "description_tooltip": null,
            "_model_module": "@jupyter-widgets/controls",
            "layout": "IPY_MODEL_ea4ba9617dc8410ebacec8a99751c601"
          }
        },
        "b00d8b35ea2b44b995b1bf04bfd62ee9": {
          "model_module": "@jupyter-widgets/controls",
          "model_name": "HTMLModel",
          "state": {
            "_view_name": "HTMLView",
            "style": "IPY_MODEL_229b48d44b254330a3d1964424cbd66d",
            "_dom_classes": [],
            "description": "",
            "_model_name": "HTMLModel",
            "placeholder": "​",
            "_view_module": "@jupyter-widgets/controls",
            "_model_module_version": "1.5.0",
            "value": " 1000/1000 [02:40&lt;00:00,  6.22it/s]",
            "_view_count": null,
            "_view_module_version": "1.5.0",
            "description_tooltip": null,
            "_model_module": "@jupyter-widgets/controls",
            "layout": "IPY_MODEL_d55aed78c5b143ec9210008f5614bd0e"
          }
        },
        "6ff1f13189fe48ffbee5eba30c53bff5": {
          "model_module": "@jupyter-widgets/controls",
          "model_name": "ProgressStyleModel",
          "state": {
            "_view_name": "StyleView",
            "_model_name": "ProgressStyleModel",
            "description_width": "initial",
            "_view_module": "@jupyter-widgets/base",
            "_model_module_version": "1.5.0",
            "_view_count": null,
            "_view_module_version": "1.2.0",
            "bar_color": null,
            "_model_module": "@jupyter-widgets/controls"
          }
        },
        "ea4ba9617dc8410ebacec8a99751c601": {
          "model_module": "@jupyter-widgets/base",
          "model_name": "LayoutModel",
          "state": {
            "_view_name": "LayoutView",
            "grid_template_rows": null,
            "right": null,
            "justify_content": null,
            "_view_module": "@jupyter-widgets/base",
            "overflow": null,
            "_model_module_version": "1.2.0",
            "_view_count": null,
            "flex_flow": null,
            "width": null,
            "min_width": null,
            "border": null,
            "align_items": null,
            "bottom": null,
            "_model_module": "@jupyter-widgets/base",
            "top": null,
            "grid_column": null,
            "overflow_y": null,
            "overflow_x": null,
            "grid_auto_flow": null,
            "grid_area": null,
            "grid_template_columns": null,
            "flex": null,
            "_model_name": "LayoutModel",
            "justify_items": null,
            "grid_row": null,
            "max_height": null,
            "align_content": null,
            "visibility": null,
            "align_self": null,
            "height": null,
            "min_height": null,
            "padding": null,
            "grid_auto_rows": null,
            "grid_gap": null,
            "max_width": null,
            "order": null,
            "_view_module_version": "1.2.0",
            "grid_template_areas": null,
            "object_position": null,
            "object_fit": null,
            "grid_auto_columns": null,
            "margin": null,
            "display": null,
            "left": null
          }
        },
        "229b48d44b254330a3d1964424cbd66d": {
          "model_module": "@jupyter-widgets/controls",
          "model_name": "DescriptionStyleModel",
          "state": {
            "_view_name": "StyleView",
            "_model_name": "DescriptionStyleModel",
            "description_width": "",
            "_view_module": "@jupyter-widgets/base",
            "_model_module_version": "1.5.0",
            "_view_count": null,
            "_view_module_version": "1.2.0",
            "_model_module": "@jupyter-widgets/controls"
          }
        },
        "d55aed78c5b143ec9210008f5614bd0e": {
          "model_module": "@jupyter-widgets/base",
          "model_name": "LayoutModel",
          "state": {
            "_view_name": "LayoutView",
            "grid_template_rows": null,
            "right": null,
            "justify_content": null,
            "_view_module": "@jupyter-widgets/base",
            "overflow": null,
            "_model_module_version": "1.2.0",
            "_view_count": null,
            "flex_flow": null,
            "width": null,
            "min_width": null,
            "border": null,
            "align_items": null,
            "bottom": null,
            "_model_module": "@jupyter-widgets/base",
            "top": null,
            "grid_column": null,
            "overflow_y": null,
            "overflow_x": null,
            "grid_auto_flow": null,
            "grid_area": null,
            "grid_template_columns": null,
            "flex": null,
            "_model_name": "LayoutModel",
            "justify_items": null,
            "grid_row": null,
            "max_height": null,
            "align_content": null,
            "visibility": null,
            "align_self": null,
            "height": null,
            "min_height": null,
            "padding": null,
            "grid_auto_rows": null,
            "grid_gap": null,
            "max_width": null,
            "order": null,
            "_view_module_version": "1.2.0",
            "grid_template_areas": null,
            "object_position": null,
            "object_fit": null,
            "grid_auto_columns": null,
            "margin": null,
            "display": null,
            "left": null
          }
        },
        "cc976c653cd641229df06fcf30f8ae65": {
          "model_module": "@jupyter-widgets/controls",
          "model_name": "HBoxModel",
          "state": {
            "_view_name": "HBoxView",
            "_dom_classes": [],
            "_model_name": "HBoxModel",
            "_view_module": "@jupyter-widgets/controls",
            "_model_module_version": "1.5.0",
            "_view_count": null,
            "_view_module_version": "1.5.0",
            "box_style": "",
            "layout": "IPY_MODEL_c23a5f9781ec4fb488041a7855ac467a",
            "_model_module": "@jupyter-widgets/controls",
            "children": [
              "IPY_MODEL_11d3d7ac9ee1487e8da20026771786a8",
              "IPY_MODEL_ff92e7ecd77147799af96fa14dbc6826"
            ]
          }
        },
        "c23a5f9781ec4fb488041a7855ac467a": {
          "model_module": "@jupyter-widgets/base",
          "model_name": "LayoutModel",
          "state": {
            "_view_name": "LayoutView",
            "grid_template_rows": null,
            "right": null,
            "justify_content": null,
            "_view_module": "@jupyter-widgets/base",
            "overflow": null,
            "_model_module_version": "1.2.0",
            "_view_count": null,
            "flex_flow": null,
            "width": null,
            "min_width": null,
            "border": null,
            "align_items": null,
            "bottom": null,
            "_model_module": "@jupyter-widgets/base",
            "top": null,
            "grid_column": null,
            "overflow_y": null,
            "overflow_x": null,
            "grid_auto_flow": null,
            "grid_area": null,
            "grid_template_columns": null,
            "flex": null,
            "_model_name": "LayoutModel",
            "justify_items": null,
            "grid_row": null,
            "max_height": null,
            "align_content": null,
            "visibility": null,
            "align_self": null,
            "height": null,
            "min_height": null,
            "padding": null,
            "grid_auto_rows": null,
            "grid_gap": null,
            "max_width": null,
            "order": null,
            "_view_module_version": "1.2.0",
            "grid_template_areas": null,
            "object_position": null,
            "object_fit": null,
            "grid_auto_columns": null,
            "margin": null,
            "display": null,
            "left": null
          }
        },
        "11d3d7ac9ee1487e8da20026771786a8": {
          "model_module": "@jupyter-widgets/controls",
          "model_name": "FloatProgressModel",
          "state": {
            "_view_name": "ProgressView",
            "style": "IPY_MODEL_88175f68b19c4c8ab71700aeacbd8ee9",
            "_dom_classes": [],
            "description": "100%",
            "_model_name": "FloatProgressModel",
            "bar_style": "success",
            "max": 1000,
            "_view_module": "@jupyter-widgets/controls",
            "_model_module_version": "1.5.0",
            "value": 1000,
            "_view_count": null,
            "_view_module_version": "1.5.0",
            "orientation": "horizontal",
            "min": 0,
            "description_tooltip": null,
            "_model_module": "@jupyter-widgets/controls",
            "layout": "IPY_MODEL_f256ea9742234949afdfe32a0b39038a"
          }
        },
        "ff92e7ecd77147799af96fa14dbc6826": {
          "model_module": "@jupyter-widgets/controls",
          "model_name": "HTMLModel",
          "state": {
            "_view_name": "HTMLView",
            "style": "IPY_MODEL_2e86df045a824709ae23b6635f6a556a",
            "_dom_classes": [],
            "description": "",
            "_model_name": "HTMLModel",
            "placeholder": "​",
            "_view_module": "@jupyter-widgets/controls",
            "_model_module_version": "1.5.0",
            "value": " 1000/1000 [05:55&lt;00:00,  2.81it/s]",
            "_view_count": null,
            "_view_module_version": "1.5.0",
            "description_tooltip": null,
            "_model_module": "@jupyter-widgets/controls",
            "layout": "IPY_MODEL_b3acfe574d9e4e6c9b60d2c0fc33e1e3"
          }
        },
        "88175f68b19c4c8ab71700aeacbd8ee9": {
          "model_module": "@jupyter-widgets/controls",
          "model_name": "ProgressStyleModel",
          "state": {
            "_view_name": "StyleView",
            "_model_name": "ProgressStyleModel",
            "description_width": "initial",
            "_view_module": "@jupyter-widgets/base",
            "_model_module_version": "1.5.0",
            "_view_count": null,
            "_view_module_version": "1.2.0",
            "bar_color": null,
            "_model_module": "@jupyter-widgets/controls"
          }
        },
        "f256ea9742234949afdfe32a0b39038a": {
          "model_module": "@jupyter-widgets/base",
          "model_name": "LayoutModel",
          "state": {
            "_view_name": "LayoutView",
            "grid_template_rows": null,
            "right": null,
            "justify_content": null,
            "_view_module": "@jupyter-widgets/base",
            "overflow": null,
            "_model_module_version": "1.2.0",
            "_view_count": null,
            "flex_flow": null,
            "width": null,
            "min_width": null,
            "border": null,
            "align_items": null,
            "bottom": null,
            "_model_module": "@jupyter-widgets/base",
            "top": null,
            "grid_column": null,
            "overflow_y": null,
            "overflow_x": null,
            "grid_auto_flow": null,
            "grid_area": null,
            "grid_template_columns": null,
            "flex": null,
            "_model_name": "LayoutModel",
            "justify_items": null,
            "grid_row": null,
            "max_height": null,
            "align_content": null,
            "visibility": null,
            "align_self": null,
            "height": null,
            "min_height": null,
            "padding": null,
            "grid_auto_rows": null,
            "grid_gap": null,
            "max_width": null,
            "order": null,
            "_view_module_version": "1.2.0",
            "grid_template_areas": null,
            "object_position": null,
            "object_fit": null,
            "grid_auto_columns": null,
            "margin": null,
            "display": null,
            "left": null
          }
        },
        "2e86df045a824709ae23b6635f6a556a": {
          "model_module": "@jupyter-widgets/controls",
          "model_name": "DescriptionStyleModel",
          "state": {
            "_view_name": "StyleView",
            "_model_name": "DescriptionStyleModel",
            "description_width": "",
            "_view_module": "@jupyter-widgets/base",
            "_model_module_version": "1.5.0",
            "_view_count": null,
            "_view_module_version": "1.2.0",
            "_model_module": "@jupyter-widgets/controls"
          }
        },
        "b3acfe574d9e4e6c9b60d2c0fc33e1e3": {
          "model_module": "@jupyter-widgets/base",
          "model_name": "LayoutModel",
          "state": {
            "_view_name": "LayoutView",
            "grid_template_rows": null,
            "right": null,
            "justify_content": null,
            "_view_module": "@jupyter-widgets/base",
            "overflow": null,
            "_model_module_version": "1.2.0",
            "_view_count": null,
            "flex_flow": null,
            "width": null,
            "min_width": null,
            "border": null,
            "align_items": null,
            "bottom": null,
            "_model_module": "@jupyter-widgets/base",
            "top": null,
            "grid_column": null,
            "overflow_y": null,
            "overflow_x": null,
            "grid_auto_flow": null,
            "grid_area": null,
            "grid_template_columns": null,
            "flex": null,
            "_model_name": "LayoutModel",
            "justify_items": null,
            "grid_row": null,
            "max_height": null,
            "align_content": null,
            "visibility": null,
            "align_self": null,
            "height": null,
            "min_height": null,
            "padding": null,
            "grid_auto_rows": null,
            "grid_gap": null,
            "max_width": null,
            "order": null,
            "_view_module_version": "1.2.0",
            "grid_template_areas": null,
            "object_position": null,
            "object_fit": null,
            "grid_auto_columns": null,
            "margin": null,
            "display": null,
            "left": null
          }
        },
        "253202f7ebcc4e28be8b329887810221": {
          "model_module": "@jupyter-widgets/controls",
          "model_name": "HBoxModel",
          "state": {
            "_view_name": "HBoxView",
            "_dom_classes": [],
            "_model_name": "HBoxModel",
            "_view_module": "@jupyter-widgets/controls",
            "_model_module_version": "1.5.0",
            "_view_count": null,
            "_view_module_version": "1.5.0",
            "box_style": "",
            "layout": "IPY_MODEL_56f9e497ce7f4a1a818c30c2da9d8215",
            "_model_module": "@jupyter-widgets/controls",
            "children": [
              "IPY_MODEL_e9fe296fc7b247ef8db54aa3b5d847b1",
              "IPY_MODEL_43431140e9904fd492bf70b08d583799"
            ]
          }
        },
        "56f9e497ce7f4a1a818c30c2da9d8215": {
          "model_module": "@jupyter-widgets/base",
          "model_name": "LayoutModel",
          "state": {
            "_view_name": "LayoutView",
            "grid_template_rows": null,
            "right": null,
            "justify_content": null,
            "_view_module": "@jupyter-widgets/base",
            "overflow": null,
            "_model_module_version": "1.2.0",
            "_view_count": null,
            "flex_flow": null,
            "width": null,
            "min_width": null,
            "border": null,
            "align_items": null,
            "bottom": null,
            "_model_module": "@jupyter-widgets/base",
            "top": null,
            "grid_column": null,
            "overflow_y": null,
            "overflow_x": null,
            "grid_auto_flow": null,
            "grid_area": null,
            "grid_template_columns": null,
            "flex": null,
            "_model_name": "LayoutModel",
            "justify_items": null,
            "grid_row": null,
            "max_height": null,
            "align_content": null,
            "visibility": null,
            "align_self": null,
            "height": null,
            "min_height": null,
            "padding": null,
            "grid_auto_rows": null,
            "grid_gap": null,
            "max_width": null,
            "order": null,
            "_view_module_version": "1.2.0",
            "grid_template_areas": null,
            "object_position": null,
            "object_fit": null,
            "grid_auto_columns": null,
            "margin": null,
            "display": null,
            "left": null
          }
        },
        "e9fe296fc7b247ef8db54aa3b5d847b1": {
          "model_module": "@jupyter-widgets/controls",
          "model_name": "FloatProgressModel",
          "state": {
            "_view_name": "ProgressView",
            "style": "IPY_MODEL_97c9bbe470544ffcbf9d5703024a3c62",
            "_dom_classes": [],
            "description": "100%",
            "_model_name": "FloatProgressModel",
            "bar_style": "success",
            "max": 1000,
            "_view_module": "@jupyter-widgets/controls",
            "_model_module_version": "1.5.0",
            "value": 1000,
            "_view_count": null,
            "_view_module_version": "1.5.0",
            "orientation": "horizontal",
            "min": 0,
            "description_tooltip": null,
            "_model_module": "@jupyter-widgets/controls",
            "layout": "IPY_MODEL_96509a8483ae4174ac7ff0b9703c3bea"
          }
        },
        "43431140e9904fd492bf70b08d583799": {
          "model_module": "@jupyter-widgets/controls",
          "model_name": "HTMLModel",
          "state": {
            "_view_name": "HTMLView",
            "style": "IPY_MODEL_d9e66b1e88f04fd1831b5745de874510",
            "_dom_classes": [],
            "description": "",
            "_model_name": "HTMLModel",
            "placeholder": "​",
            "_view_module": "@jupyter-widgets/controls",
            "_model_module_version": "1.5.0",
            "value": " 1000/1000 [05:08&lt;00:00,  3.24it/s]",
            "_view_count": null,
            "_view_module_version": "1.5.0",
            "description_tooltip": null,
            "_model_module": "@jupyter-widgets/controls",
            "layout": "IPY_MODEL_aee7013140f3412ba637058f76210d58"
          }
        },
        "97c9bbe470544ffcbf9d5703024a3c62": {
          "model_module": "@jupyter-widgets/controls",
          "model_name": "ProgressStyleModel",
          "state": {
            "_view_name": "StyleView",
            "_model_name": "ProgressStyleModel",
            "description_width": "initial",
            "_view_module": "@jupyter-widgets/base",
            "_model_module_version": "1.5.0",
            "_view_count": null,
            "_view_module_version": "1.2.0",
            "bar_color": null,
            "_model_module": "@jupyter-widgets/controls"
          }
        },
        "96509a8483ae4174ac7ff0b9703c3bea": {
          "model_module": "@jupyter-widgets/base",
          "model_name": "LayoutModel",
          "state": {
            "_view_name": "LayoutView",
            "grid_template_rows": null,
            "right": null,
            "justify_content": null,
            "_view_module": "@jupyter-widgets/base",
            "overflow": null,
            "_model_module_version": "1.2.0",
            "_view_count": null,
            "flex_flow": null,
            "width": null,
            "min_width": null,
            "border": null,
            "align_items": null,
            "bottom": null,
            "_model_module": "@jupyter-widgets/base",
            "top": null,
            "grid_column": null,
            "overflow_y": null,
            "overflow_x": null,
            "grid_auto_flow": null,
            "grid_area": null,
            "grid_template_columns": null,
            "flex": null,
            "_model_name": "LayoutModel",
            "justify_items": null,
            "grid_row": null,
            "max_height": null,
            "align_content": null,
            "visibility": null,
            "align_self": null,
            "height": null,
            "min_height": null,
            "padding": null,
            "grid_auto_rows": null,
            "grid_gap": null,
            "max_width": null,
            "order": null,
            "_view_module_version": "1.2.0",
            "grid_template_areas": null,
            "object_position": null,
            "object_fit": null,
            "grid_auto_columns": null,
            "margin": null,
            "display": null,
            "left": null
          }
        },
        "d9e66b1e88f04fd1831b5745de874510": {
          "model_module": "@jupyter-widgets/controls",
          "model_name": "DescriptionStyleModel",
          "state": {
            "_view_name": "StyleView",
            "_model_name": "DescriptionStyleModel",
            "description_width": "",
            "_view_module": "@jupyter-widgets/base",
            "_model_module_version": "1.5.0",
            "_view_count": null,
            "_view_module_version": "1.2.0",
            "_model_module": "@jupyter-widgets/controls"
          }
        },
        "aee7013140f3412ba637058f76210d58": {
          "model_module": "@jupyter-widgets/base",
          "model_name": "LayoutModel",
          "state": {
            "_view_name": "LayoutView",
            "grid_template_rows": null,
            "right": null,
            "justify_content": null,
            "_view_module": "@jupyter-widgets/base",
            "overflow": null,
            "_model_module_version": "1.2.0",
            "_view_count": null,
            "flex_flow": null,
            "width": null,
            "min_width": null,
            "border": null,
            "align_items": null,
            "bottom": null,
            "_model_module": "@jupyter-widgets/base",
            "top": null,
            "grid_column": null,
            "overflow_y": null,
            "overflow_x": null,
            "grid_auto_flow": null,
            "grid_area": null,
            "grid_template_columns": null,
            "flex": null,
            "_model_name": "LayoutModel",
            "justify_items": null,
            "grid_row": null,
            "max_height": null,
            "align_content": null,
            "visibility": null,
            "align_self": null,
            "height": null,
            "min_height": null,
            "padding": null,
            "grid_auto_rows": null,
            "grid_gap": null,
            "max_width": null,
            "order": null,
            "_view_module_version": "1.2.0",
            "grid_template_areas": null,
            "object_position": null,
            "object_fit": null,
            "grid_auto_columns": null,
            "margin": null,
            "display": null,
            "left": null
          }
        },
        "3aaf3511fb1448b6b70dff3b11850b08": {
          "model_module": "@jupyter-widgets/controls",
          "model_name": "HBoxModel",
          "state": {
            "_view_name": "HBoxView",
            "_dom_classes": [],
            "_model_name": "HBoxModel",
            "_view_module": "@jupyter-widgets/controls",
            "_model_module_version": "1.5.0",
            "_view_count": null,
            "_view_module_version": "1.5.0",
            "box_style": "",
            "layout": "IPY_MODEL_4df6921db4264d9fbc4cb1c4ca287b62",
            "_model_module": "@jupyter-widgets/controls",
            "children": [
              "IPY_MODEL_feea648dcdb4407fab0691396d64b176",
              "IPY_MODEL_2b8e7eb24a9649939df60f4217357c44"
            ]
          }
        },
        "4df6921db4264d9fbc4cb1c4ca287b62": {
          "model_module": "@jupyter-widgets/base",
          "model_name": "LayoutModel",
          "state": {
            "_view_name": "LayoutView",
            "grid_template_rows": null,
            "right": null,
            "justify_content": null,
            "_view_module": "@jupyter-widgets/base",
            "overflow": null,
            "_model_module_version": "1.2.0",
            "_view_count": null,
            "flex_flow": null,
            "width": null,
            "min_width": null,
            "border": null,
            "align_items": null,
            "bottom": null,
            "_model_module": "@jupyter-widgets/base",
            "top": null,
            "grid_column": null,
            "overflow_y": null,
            "overflow_x": null,
            "grid_auto_flow": null,
            "grid_area": null,
            "grid_template_columns": null,
            "flex": null,
            "_model_name": "LayoutModel",
            "justify_items": null,
            "grid_row": null,
            "max_height": null,
            "align_content": null,
            "visibility": null,
            "align_self": null,
            "height": null,
            "min_height": null,
            "padding": null,
            "grid_auto_rows": null,
            "grid_gap": null,
            "max_width": null,
            "order": null,
            "_view_module_version": "1.2.0",
            "grid_template_areas": null,
            "object_position": null,
            "object_fit": null,
            "grid_auto_columns": null,
            "margin": null,
            "display": null,
            "left": null
          }
        },
        "feea648dcdb4407fab0691396d64b176": {
          "model_module": "@jupyter-widgets/controls",
          "model_name": "FloatProgressModel",
          "state": {
            "_view_name": "ProgressView",
            "style": "IPY_MODEL_256aeb1ae1b24f69b059d8509328b044",
            "_dom_classes": [],
            "description": "100%",
            "_model_name": "FloatProgressModel",
            "bar_style": "success",
            "max": 1000,
            "_view_module": "@jupyter-widgets/controls",
            "_model_module_version": "1.5.0",
            "value": 1000,
            "_view_count": null,
            "_view_module_version": "1.5.0",
            "orientation": "horizontal",
            "min": 0,
            "description_tooltip": null,
            "_model_module": "@jupyter-widgets/controls",
            "layout": "IPY_MODEL_76a0638680064710a12ab83b627117db"
          }
        },
        "2b8e7eb24a9649939df60f4217357c44": {
          "model_module": "@jupyter-widgets/controls",
          "model_name": "HTMLModel",
          "state": {
            "_view_name": "HTMLView",
            "style": "IPY_MODEL_c32fc6852255456789bbb53efcd92435",
            "_dom_classes": [],
            "description": "",
            "_model_name": "HTMLModel",
            "placeholder": "​",
            "_view_module": "@jupyter-widgets/controls",
            "_model_module_version": "1.5.0",
            "value": " 1000/1000 [03:20&lt;00:00,  4.98it/s]",
            "_view_count": null,
            "_view_module_version": "1.5.0",
            "description_tooltip": null,
            "_model_module": "@jupyter-widgets/controls",
            "layout": "IPY_MODEL_f8f05cb1fe4748c992f3d1596d174b2a"
          }
        },
        "256aeb1ae1b24f69b059d8509328b044": {
          "model_module": "@jupyter-widgets/controls",
          "model_name": "ProgressStyleModel",
          "state": {
            "_view_name": "StyleView",
            "_model_name": "ProgressStyleModel",
            "description_width": "initial",
            "_view_module": "@jupyter-widgets/base",
            "_model_module_version": "1.5.0",
            "_view_count": null,
            "_view_module_version": "1.2.0",
            "bar_color": null,
            "_model_module": "@jupyter-widgets/controls"
          }
        },
        "76a0638680064710a12ab83b627117db": {
          "model_module": "@jupyter-widgets/base",
          "model_name": "LayoutModel",
          "state": {
            "_view_name": "LayoutView",
            "grid_template_rows": null,
            "right": null,
            "justify_content": null,
            "_view_module": "@jupyter-widgets/base",
            "overflow": null,
            "_model_module_version": "1.2.0",
            "_view_count": null,
            "flex_flow": null,
            "width": null,
            "min_width": null,
            "border": null,
            "align_items": null,
            "bottom": null,
            "_model_module": "@jupyter-widgets/base",
            "top": null,
            "grid_column": null,
            "overflow_y": null,
            "overflow_x": null,
            "grid_auto_flow": null,
            "grid_area": null,
            "grid_template_columns": null,
            "flex": null,
            "_model_name": "LayoutModel",
            "justify_items": null,
            "grid_row": null,
            "max_height": null,
            "align_content": null,
            "visibility": null,
            "align_self": null,
            "height": null,
            "min_height": null,
            "padding": null,
            "grid_auto_rows": null,
            "grid_gap": null,
            "max_width": null,
            "order": null,
            "_view_module_version": "1.2.0",
            "grid_template_areas": null,
            "object_position": null,
            "object_fit": null,
            "grid_auto_columns": null,
            "margin": null,
            "display": null,
            "left": null
          }
        },
        "c32fc6852255456789bbb53efcd92435": {
          "model_module": "@jupyter-widgets/controls",
          "model_name": "DescriptionStyleModel",
          "state": {
            "_view_name": "StyleView",
            "_model_name": "DescriptionStyleModel",
            "description_width": "",
            "_view_module": "@jupyter-widgets/base",
            "_model_module_version": "1.5.0",
            "_view_count": null,
            "_view_module_version": "1.2.0",
            "_model_module": "@jupyter-widgets/controls"
          }
        },
        "f8f05cb1fe4748c992f3d1596d174b2a": {
          "model_module": "@jupyter-widgets/base",
          "model_name": "LayoutModel",
          "state": {
            "_view_name": "LayoutView",
            "grid_template_rows": null,
            "right": null,
            "justify_content": null,
            "_view_module": "@jupyter-widgets/base",
            "overflow": null,
            "_model_module_version": "1.2.0",
            "_view_count": null,
            "flex_flow": null,
            "width": null,
            "min_width": null,
            "border": null,
            "align_items": null,
            "bottom": null,
            "_model_module": "@jupyter-widgets/base",
            "top": null,
            "grid_column": null,
            "overflow_y": null,
            "overflow_x": null,
            "grid_auto_flow": null,
            "grid_area": null,
            "grid_template_columns": null,
            "flex": null,
            "_model_name": "LayoutModel",
            "justify_items": null,
            "grid_row": null,
            "max_height": null,
            "align_content": null,
            "visibility": null,
            "align_self": null,
            "height": null,
            "min_height": null,
            "padding": null,
            "grid_auto_rows": null,
            "grid_gap": null,
            "max_width": null,
            "order": null,
            "_view_module_version": "1.2.0",
            "grid_template_areas": null,
            "object_position": null,
            "object_fit": null,
            "grid_auto_columns": null,
            "margin": null,
            "display": null,
            "left": null
          }
        }
      }
    }
  },
  "cells": [
    {
      "cell_type": "markdown",
      "metadata": {
        "id": "view-in-github",
        "colab_type": "text"
      },
      "source": [
        "<a href=\"https://colab.research.google.com/github/tianhaoz95/ultron/blob/dev%2Ftry-atari-game/notebooks/prototype_atari_with_actor_critic.ipynb\" target=\"_parent\"><img src=\"https://colab.research.google.com/assets/colab-badge.svg\" alt=\"Open In Colab\"/></a>"
      ]
    },
    {
      "cell_type": "code",
      "metadata": {
        "id": "NExKMaqaukJL",
        "colab_type": "code",
        "outputId": "7c97f686-f155-4159-930d-0761c5783c64",
        "colab": {
          "base_uri": "https://localhost:8080/",
          "height": 122
        }
      },
      "source": [
        "from google.colab import drive\n",
        "drive.mount('/content/drive')"
      ],
      "execution_count": 2,
      "outputs": [
        {
          "output_type": "stream",
          "text": [
            "Go to this URL in a browser: https://accounts.google.com/o/oauth2/auth?client_id=947318989803-6bn6qk8qdgf4n4g3pfee6491hc0brc4i.apps.googleusercontent.com&redirect_uri=urn%3aietf%3awg%3aoauth%3a2.0%3aoob&response_type=code&scope=email%20https%3a%2f%2fwww.googleapis.com%2fauth%2fdocs.test%20https%3a%2f%2fwww.googleapis.com%2fauth%2fdrive%20https%3a%2f%2fwww.googleapis.com%2fauth%2fdrive.photos.readonly%20https%3a%2f%2fwww.googleapis.com%2fauth%2fpeopleapi.readonly\n",
            "\n",
            "Enter your authorization code:\n",
            "··········\n",
            "Mounted at /content/drive\n"
          ],
          "name": "stdout"
        }
      ]
    },
    {
      "cell_type": "code",
      "metadata": {
        "id": "DX_OfbY42iKs",
        "colab_type": "code",
        "colab": {}
      },
      "source": [
        "!pip install gym pyvirtualdisplay tqdm > /dev/null 2>&1\n",
        "!apt-get install -y xvfb python-opengl ffmpeg x11-utils > /dev/null 2>&1"
      ],
      "execution_count": 0,
      "outputs": []
    },
    {
      "cell_type": "code",
      "metadata": {
        "id": "JM66lPmrmUx1",
        "colab_type": "code",
        "colab": {}
      },
      "source": [
        "!apt-get update > /dev/null 2>&1\n",
        "!apt-get install cmake > /dev/null 2>&1\n",
        "!pip install gym[atari] > /dev/null 2>&1\n",
        "!pip install gputil > /dev/null 2>&1\n",
        "!pip install pyglet==1.2.4 > /dev/null 2>&1"
      ],
      "execution_count": 0,
      "outputs": []
    },
    {
      "cell_type": "code",
      "metadata": {
        "id": "KxSzy33ETUiX",
        "colab_type": "code",
        "outputId": "55c08057-3285-4324-c47a-db67cd46f1d9",
        "colab": {
          "base_uri": "https://localhost:8080/",
          "height": 731
        }
      },
      "source": [
        "import tensorflow as tf\n",
        "import GPUtil\n",
        "print(\"Tensorflow version \" + tf.__version__)\n",
        "try:\n",
        "  tpu = tf.distribute.cluster_resolver.TPUClusterResolver()  # TPU detection\n",
        "  print('Running on TPU ', tpu.cluster_spec().as_dict()['worker'])\n",
        "  tf.config.experimental_connect_to_cluster(tpu)\n",
        "  tf.tpu.experimental.initialize_tpu_system(tpu)\n",
        "  tpu_strategy = tf.distribute.experimental.TPUStrategy(tpu)\n",
        "except ValueError:\n",
        "  try:\n",
        "    print('ERROR: Not connected to a TPU runtime!')\n",
        "    GPUs = GPUtil.getGPUs()\n",
        "    print('GPU count: ' + str(len(GPUs)))\n",
        "    gpu_info = !nvidia-smi\n",
        "    gpu_info = '\\n'.join(gpu_info)\n",
        "    if gpu_info.find('failed') >= 0:\n",
        "      print('Select the Runtime > \"Change runtime type\" menu to enable a GPU accelerator, ')\n",
        "      print('and then re-execute this cell.')\n",
        "    else:\n",
        "      print(gpu_info)\n",
        "  except:\n",
        "    print('Using CPU')"
      ],
      "execution_count": 5,
      "outputs": [
        {
          "output_type": "stream",
          "text": [
            "Tensorflow version 2.2.0\n",
            "Running on TPU  ['10.111.187.218:8470']\n",
            "INFO:tensorflow:Initializing the TPU system: grpc://10.111.187.218:8470\n"
          ],
          "name": "stdout"
        },
        {
          "output_type": "stream",
          "text": [
            "INFO:tensorflow:Initializing the TPU system: grpc://10.111.187.218:8470\n"
          ],
          "name": "stderr"
        },
        {
          "output_type": "stream",
          "text": [
            "INFO:tensorflow:Clearing out eager caches\n"
          ],
          "name": "stdout"
        },
        {
          "output_type": "stream",
          "text": [
            "INFO:tensorflow:Clearing out eager caches\n"
          ],
          "name": "stderr"
        },
        {
          "output_type": "stream",
          "text": [
            "INFO:tensorflow:Finished initializing TPU system.\n"
          ],
          "name": "stdout"
        },
        {
          "output_type": "stream",
          "text": [
            "INFO:tensorflow:Finished initializing TPU system.\n"
          ],
          "name": "stderr"
        },
        {
          "output_type": "stream",
          "text": [
            "INFO:tensorflow:Found TPU system:\n"
          ],
          "name": "stdout"
        },
        {
          "output_type": "stream",
          "text": [
            "INFO:tensorflow:Found TPU system:\n"
          ],
          "name": "stderr"
        },
        {
          "output_type": "stream",
          "text": [
            "INFO:tensorflow:*** Num TPU Cores: 8\n"
          ],
          "name": "stdout"
        },
        {
          "output_type": "stream",
          "text": [
            "INFO:tensorflow:*** Num TPU Cores: 8\n"
          ],
          "name": "stderr"
        },
        {
          "output_type": "stream",
          "text": [
            "INFO:tensorflow:*** Num TPU Workers: 1\n"
          ],
          "name": "stdout"
        },
        {
          "output_type": "stream",
          "text": [
            "INFO:tensorflow:*** Num TPU Workers: 1\n"
          ],
          "name": "stderr"
        },
        {
          "output_type": "stream",
          "text": [
            "INFO:tensorflow:*** Num TPU Cores Per Worker: 8\n"
          ],
          "name": "stdout"
        },
        {
          "output_type": "stream",
          "text": [
            "INFO:tensorflow:*** Num TPU Cores Per Worker: 8\n"
          ],
          "name": "stderr"
        },
        {
          "output_type": "stream",
          "text": [
            "INFO:tensorflow:*** Available Device: _DeviceAttributes(/job:localhost/replica:0/task:0/device:CPU:0, CPU, 0, 0)\n"
          ],
          "name": "stdout"
        },
        {
          "output_type": "stream",
          "text": [
            "INFO:tensorflow:*** Available Device: _DeviceAttributes(/job:localhost/replica:0/task:0/device:CPU:0, CPU, 0, 0)\n"
          ],
          "name": "stderr"
        },
        {
          "output_type": "stream",
          "text": [
            "INFO:tensorflow:*** Available Device: _DeviceAttributes(/job:localhost/replica:0/task:0/device:XLA_CPU:0, XLA_CPU, 0, 0)\n"
          ],
          "name": "stdout"
        },
        {
          "output_type": "stream",
          "text": [
            "INFO:tensorflow:*** Available Device: _DeviceAttributes(/job:localhost/replica:0/task:0/device:XLA_CPU:0, XLA_CPU, 0, 0)\n"
          ],
          "name": "stderr"
        },
        {
          "output_type": "stream",
          "text": [
            "INFO:tensorflow:*** Available Device: _DeviceAttributes(/job:worker/replica:0/task:0/device:CPU:0, CPU, 0, 0)\n"
          ],
          "name": "stdout"
        },
        {
          "output_type": "stream",
          "text": [
            "INFO:tensorflow:*** Available Device: _DeviceAttributes(/job:worker/replica:0/task:0/device:CPU:0, CPU, 0, 0)\n"
          ],
          "name": "stderr"
        },
        {
          "output_type": "stream",
          "text": [
            "INFO:tensorflow:*** Available Device: _DeviceAttributes(/job:worker/replica:0/task:0/device:TPU:0, TPU, 0, 0)\n"
          ],
          "name": "stdout"
        },
        {
          "output_type": "stream",
          "text": [
            "INFO:tensorflow:*** Available Device: _DeviceAttributes(/job:worker/replica:0/task:0/device:TPU:0, TPU, 0, 0)\n"
          ],
          "name": "stderr"
        },
        {
          "output_type": "stream",
          "text": [
            "INFO:tensorflow:*** Available Device: _DeviceAttributes(/job:worker/replica:0/task:0/device:TPU:1, TPU, 0, 0)\n"
          ],
          "name": "stdout"
        },
        {
          "output_type": "stream",
          "text": [
            "INFO:tensorflow:*** Available Device: _DeviceAttributes(/job:worker/replica:0/task:0/device:TPU:1, TPU, 0, 0)\n"
          ],
          "name": "stderr"
        },
        {
          "output_type": "stream",
          "text": [
            "INFO:tensorflow:*** Available Device: _DeviceAttributes(/job:worker/replica:0/task:0/device:TPU:2, TPU, 0, 0)\n"
          ],
          "name": "stdout"
        },
        {
          "output_type": "stream",
          "text": [
            "INFO:tensorflow:*** Available Device: _DeviceAttributes(/job:worker/replica:0/task:0/device:TPU:2, TPU, 0, 0)\n"
          ],
          "name": "stderr"
        },
        {
          "output_type": "stream",
          "text": [
            "INFO:tensorflow:*** Available Device: _DeviceAttributes(/job:worker/replica:0/task:0/device:TPU:3, TPU, 0, 0)\n"
          ],
          "name": "stdout"
        },
        {
          "output_type": "stream",
          "text": [
            "INFO:tensorflow:*** Available Device: _DeviceAttributes(/job:worker/replica:0/task:0/device:TPU:3, TPU, 0, 0)\n"
          ],
          "name": "stderr"
        },
        {
          "output_type": "stream",
          "text": [
            "INFO:tensorflow:*** Available Device: _DeviceAttributes(/job:worker/replica:0/task:0/device:TPU:4, TPU, 0, 0)\n"
          ],
          "name": "stdout"
        },
        {
          "output_type": "stream",
          "text": [
            "INFO:tensorflow:*** Available Device: _DeviceAttributes(/job:worker/replica:0/task:0/device:TPU:4, TPU, 0, 0)\n"
          ],
          "name": "stderr"
        },
        {
          "output_type": "stream",
          "text": [
            "INFO:tensorflow:*** Available Device: _DeviceAttributes(/job:worker/replica:0/task:0/device:TPU:5, TPU, 0, 0)\n"
          ],
          "name": "stdout"
        },
        {
          "output_type": "stream",
          "text": [
            "INFO:tensorflow:*** Available Device: _DeviceAttributes(/job:worker/replica:0/task:0/device:TPU:5, TPU, 0, 0)\n"
          ],
          "name": "stderr"
        },
        {
          "output_type": "stream",
          "text": [
            "INFO:tensorflow:*** Available Device: _DeviceAttributes(/job:worker/replica:0/task:0/device:TPU:6, TPU, 0, 0)\n"
          ],
          "name": "stdout"
        },
        {
          "output_type": "stream",
          "text": [
            "INFO:tensorflow:*** Available Device: _DeviceAttributes(/job:worker/replica:0/task:0/device:TPU:6, TPU, 0, 0)\n"
          ],
          "name": "stderr"
        },
        {
          "output_type": "stream",
          "text": [
            "INFO:tensorflow:*** Available Device: _DeviceAttributes(/job:worker/replica:0/task:0/device:TPU:7, TPU, 0, 0)\n"
          ],
          "name": "stdout"
        },
        {
          "output_type": "stream",
          "text": [
            "INFO:tensorflow:*** Available Device: _DeviceAttributes(/job:worker/replica:0/task:0/device:TPU:7, TPU, 0, 0)\n"
          ],
          "name": "stderr"
        },
        {
          "output_type": "stream",
          "text": [
            "INFO:tensorflow:*** Available Device: _DeviceAttributes(/job:worker/replica:0/task:0/device:TPU_SYSTEM:0, TPU_SYSTEM, 0, 0)\n"
          ],
          "name": "stdout"
        },
        {
          "output_type": "stream",
          "text": [
            "INFO:tensorflow:*** Available Device: _DeviceAttributes(/job:worker/replica:0/task:0/device:TPU_SYSTEM:0, TPU_SYSTEM, 0, 0)\n"
          ],
          "name": "stderr"
        },
        {
          "output_type": "stream",
          "text": [
            "INFO:tensorflow:*** Available Device: _DeviceAttributes(/job:worker/replica:0/task:0/device:XLA_CPU:0, XLA_CPU, 0, 0)\n"
          ],
          "name": "stdout"
        },
        {
          "output_type": "stream",
          "text": [
            "INFO:tensorflow:*** Available Device: _DeviceAttributes(/job:worker/replica:0/task:0/device:XLA_CPU:0, XLA_CPU, 0, 0)\n"
          ],
          "name": "stderr"
        }
      ]
    },
    {
      "cell_type": "code",
      "metadata": {
        "id": "StODOp9qm7As",
        "colab_type": "code",
        "outputId": "c8f48b80-d38e-4cf7-9e3f-ad465a38b32a",
        "colab": {
          "base_uri": "https://localhost:8080/",
          "height": 54
        }
      },
      "source": [
        "import gym\n",
        "import threading\n",
        "import math\n",
        "import glob\n",
        "import io\n",
        "import base64\n",
        "import multiprocessing\n",
        "import matplotlib\n",
        "import numpy as np\n",
        "import pandas as pd\n",
        "import tensorflow as tf\n",
        "import matplotlib.pyplot as plt\n",
        "%matplotlib inline\n",
        "from gym.wrappers import Monitor\n",
        "from tensorflow import keras\n",
        "from os import path\n",
        "from time import sleep\n",
        "from tqdm.notebook import tqdm\n",
        "from IPython.display import HTML\n",
        "from IPython import display as ipythondisplay\n",
        "from pyvirtualdisplay import Display\n",
        "display = Display(visible=0, size=(1400, 900))\n",
        "display.start()"
      ],
      "execution_count": 6,
      "outputs": [
        {
          "output_type": "execute_result",
          "data": {
            "text/plain": [
              "<Display cmd_param=['Xvfb', '-br', '-nolisten', 'tcp', '-screen', '0', '1400x900x24', ':1001'] cmd=['Xvfb', '-br', '-nolisten', 'tcp', '-screen', '0', '1400x900x24', ':1001'] oserror=None return_code=None stdout=\"None\" stderr=\"None\" timeout_happened=False>"
            ]
          },
          "metadata": {
            "tags": []
          },
          "execution_count": 6
        }
      ]
    },
    {
      "cell_type": "code",
      "metadata": {
        "id": "tvT2J4Oa6AsX",
        "colab_type": "code",
        "outputId": "79d7cae9-c175-43f2-aaca-91b06b703b19",
        "colab": {
          "base_uri": "https://localhost:8080/",
          "height": 34
        }
      },
      "source": [
        "print('using tensorflow', tf.__version__)"
      ],
      "execution_count": 7,
      "outputs": [
        {
          "output_type": "stream",
          "text": [
            "using tensorflow 2.2.0\n"
          ],
          "name": "stdout"
        }
      ]
    },
    {
      "cell_type": "code",
      "metadata": {
        "id": "bR4rdPq23olN",
        "colab_type": "code",
        "colab": {}
      },
      "source": [
        "def show_video(id='video', base='.'):\n",
        "  mp4list = glob.glob(f'{path.join(base, id)}/*.mp4')\n",
        "  if len(mp4list) > 0:\n",
        "    mp4 = mp4list[0]\n",
        "    video = io.open(mp4, 'r+b').read()\n",
        "    encoded = base64.b64encode(video)\n",
        "    ipythondisplay.display(HTML(data='''<video alt=\"test\" autoplay \n",
        "                loop controls style=\"height: 200px;\">\n",
        "                <source src=\"data:video/mp4;base64,{0}\" type=\"video/mp4\" />\n",
        "             </video>'''.format(encoded.decode('ascii'))))\n",
        "  else: \n",
        "    print(\"Could not find video\")\n",
        "\n",
        "def wrap_env(env, id='video', base='.'):\n",
        "  wrapped_env = Monitor(env, path.join(base, id), force=True)\n",
        "  return wrapped_env"
      ],
      "execution_count": 0,
      "outputs": []
    },
    {
      "cell_type": "code",
      "metadata": {
        "id": "xG-mqsx41fhc",
        "colab_type": "code",
        "colab": {}
      },
      "source": [
        "class PipelineArgs():\n",
        "  def __init__(self,\n",
        "               game_name='Acrobot-v1',\n",
        "               mode='train',\n",
        "               max_eps=100,\n",
        "               update_freq=20,\n",
        "               gamma=0.99,\n",
        "               model_path='.',\n",
        "               load_model=False,\n",
        "               max_testing_steps=1000,\n",
        "               lr=0.001):\n",
        "    self.game_name = game_name\n",
        "    self.mode = mode\n",
        "    self.gamma = gamma\n",
        "    self.update_freq = update_freq\n",
        "    self.lr = lr\n",
        "    self.max_eps = max_eps\n",
        "    self.load_model = load_model\n",
        "    self.model_path = model_path\n",
        "    self.max_testing_steps = max_testing_steps"
      ],
      "execution_count": 0,
      "outputs": []
    },
    {
      "cell_type": "code",
      "metadata": {
        "id": "bz8PHZKXb-db",
        "colab_type": "code",
        "colab": {}
      },
      "source": [
        "class History():\n",
        "  def __init__(self, args):\n",
        "    self.history = pd.DataFrame(colums=['eps', 'reward', 'loss'])\n",
        "    self.args = args\n",
        "  \n",
        "  def record(self, eps, reward, loss):\n",
        "    self.history.append({\n",
        "        'eps': eps,\n",
        "        'reward': reward,\n",
        "        'loss': loss\n",
        "    })\n",
        "\n",
        "  def visualize(self):\n",
        "    plt.figure()\n",
        "    plt.plot(x=self.history['eps'], y=self.history['loss'])\n",
        "    plt.show()\n",
        "\n",
        "  def save(self):\n",
        "    self.history.to_csv(path.join(self.args.model_path, 'history.csv'))\n",
        "  \n",
        "  def load(self):\n",
        "    if path.exists(\n",
        "        path.join(\n",
        "            self.args.model_path, 'history.csv')) and self.args.load_model:\n",
        "      self.history = pd.DataFrame()\n",
        "      self.history.read_csv(path.join(self.args.model_path, 'history.csv'))"
      ],
      "execution_count": 0,
      "outputs": []
    },
    {
      "cell_type": "code",
      "metadata": {
        "id": "to5WdjMOBij4",
        "colab_type": "code",
        "colab": {}
      },
      "source": [
        "class Memory():\n",
        "  def __init__(self):\n",
        "    self.states = []\n",
        "    self.actions = []\n",
        "    self.rewards = []\n",
        "  \n",
        "  def store(self, state, action, reward):\n",
        "    self.states.append(state)\n",
        "    self.actions.append(action)\n",
        "    self.rewards.append(reward)\n",
        "\n",
        "  def clear(self):\n",
        "    self.states = []\n",
        "    self.actions = []\n",
        "    self.rewards = []"
      ],
      "execution_count": 0,
      "outputs": []
    },
    {
      "cell_type": "code",
      "metadata": {
        "id": "yPNOZzhineIp",
        "colab_type": "code",
        "colab": {}
      },
      "source": [
        "class Worker(threading.Thread):\n",
        "  # The cumulative episode played\n",
        "  global_eps = 0\n",
        "  best_score = 0\n",
        "  lock = threading.Lock()\n",
        "\n",
        "  def __init__(self,\n",
        "               args,\n",
        "               action_size,\n",
        "               state_size,\n",
        "               global_model,\n",
        "               opt,\n",
        "               pbar,\n",
        "               callback,\n",
        "               logger):\n",
        "    super(Worker, self).__init__()\n",
        "    self.args = args\n",
        "    self.game_name = self.args.game_name\n",
        "    self.env = gym.make(self.game_name)\n",
        "    self.action_size = action_size\n",
        "    self.state_size = state_size\n",
        "    self.local_model = ActorCriticModel(self.state_size, self.action_size)\n",
        "    self.eps_loss = 0\n",
        "    self.opt = opt\n",
        "    self.global_model = global_model\n",
        "    self.pbar = pbar\n",
        "    self.callback = callback\n",
        "    self.logger = logger\n",
        "\n",
        "  def compute_loss(self, done, new_state, memory):\n",
        "    if done:\n",
        "      reward_sum = 0\n",
        "    else:\n",
        "      reward_sum = self.local_model(\n",
        "          tf.convert_to_tensor(\n",
        "              new_state[None, :],\n",
        "              dtype=tf.float32))[-1].numpy()[0]\n",
        "    discounted_rewards = []\n",
        "    for reward in memory.rewards[::-1]:\n",
        "      reward_sum = reward + self.args.gamma * reward_sum\n",
        "      discounted_rewards.append(reward_sum)\n",
        "    discounted_rewards.reverse()\n",
        "    past_states = np.array(memory.states)\n",
        "    logits, values = self.local_model(\n",
        "        tf.convert_to_tensor(past_states, dtype=tf.float32))\n",
        "    advantage = tf.convert_to_tensor(\n",
        "        np.array(discounted_rewards)[:, None], dtype=tf.float32) - values\n",
        "    # Calculate the loss for value function which mean how off is our\n",
        "    # predicted value from the true value estimated from the discounted\n",
        "    # reward.\n",
        "    value_loss = advantage ** 2\n",
        "    # Calculate the policy loss\n",
        "    policy = tf.nn.softmax(logits)\n",
        "    entropy = tf.nn.softmax_cross_entropy_with_logits(\n",
        "        labels=policy, logits=logits)\n",
        "    policy_loss = tf.nn.sparse_softmax_cross_entropy_with_logits(\n",
        "        labels=memory.actions, logits=logits)\n",
        "    policy_loss *= tf.stop_gradient(advantage)\n",
        "    policy_loss -= 0.01 * entropy\n",
        "    # Combine the value and policy loss to be a single trainable\n",
        "    total_loss = tf.reduce_mean((0.5 * value_loss + policy_loss))\n",
        "    return total_loss\n",
        "\n",
        "  def compute_and_apply_gradient(self, done, new_state, mem):\n",
        "    with tf.GradientTape() as tape:\n",
        "      total_loss = self.compute_loss(done, new_state, mem)\n",
        "    self.eps_loss += total_loss\n",
        "    grads = tape.gradient(\n",
        "        total_loss, self.local_model.trainable_weights)\n",
        "    self.opt.apply_gradients(zip(\n",
        "        grads, self.global_model.trainable_weights))\n",
        "    self.local_model.set_weights(self.global_model.get_weights())\n",
        "    return total_loss\n",
        "\n",
        "  def run(self):\n",
        "    # Prepare variables\n",
        "    mem = Memory()\n",
        "    total_steps = 1\n",
        "    # Check the maximum episode of learning is reached\n",
        "    while Worker.global_eps < self.args.max_eps:\n",
        "      current_state = self.env.reset()\n",
        "      mem.clear()\n",
        "      done = False\n",
        "      ep_reward = 0\n",
        "      self.eps_loss = 0\n",
        "      time_count = 0\n",
        "      ep_steps = 0\n",
        "      # Check if the game is over\n",
        "      while not done:\n",
        "        # Get the policy and play the game\n",
        "        logits, _ = self.local_model(\n",
        "            tf.convert_to_tensor(np.array([current_state]), dtype=tf.float32))\n",
        "        probs = tf.nn.softmax(logits)\n",
        "        action = np.random.choice(self.action_size, p=probs.numpy()[0])\n",
        "        new_state, reward, done, info = self.env.step(action)\n",
        "        if reward == 0:\n",
        "          reward = -0.01\n",
        "        if done:\n",
        "          reward = -1.0\n",
        "        ep_reward += reward\n",
        "        mem.store(current_state, action, reward)\n",
        "        # If the explore time limit has been reached or\n",
        "        # the game is over, then update the models\n",
        "        if time_count >= self.args.update_freq or done:\n",
        "          loss = self.compute_and_apply_gradient(done, new_state, mem)\n",
        "          mem.clear()\n",
        "          time_count = 0\n",
        "          if done:\n",
        "            with Worker.lock:\n",
        "              self.logger.record(Worker.global_eps, ep_reward, loss)\n",
        "              self.logger.visualize()\n",
        "              if Worker.global_eps == 0 or ep_reward > Worker.best_score:\n",
        "                self.global_model.save_weights(\n",
        "                    path.join(self.args.model_path, 'best.h5'))\n",
        "                Worker.best_score = ep_reward\n",
        "                if ep_reward > 0:\n",
        "                  self.callback(id=f'eps_{str(Worker.global_eps)}')\n",
        "              self.global_model.save_weights(\n",
        "                  path.join(self.args.model_path, 'backup.h5'))\n",
        "              Worker.global_eps += 1\n",
        "              self.pbar.set_description(\n",
        "                  f'step: {ep_steps}, reward {round(ep_reward, 2)}/{round(Worker.best_score, 2)}')\n",
        "              self.pbar.update(1)\n",
        "        ep_steps += 1\n",
        "        time_count += 1\n",
        "        current_state = new_state\n",
        "        total_steps += 1"
      ],
      "execution_count": 0,
      "outputs": []
    },
    {
      "cell_type": "code",
      "metadata": {
        "id": "bnSC4zC4nt9C",
        "colab_type": "code",
        "colab": {}
      },
      "source": [
        "class ActorCriticModel(keras.Model):\n",
        "  def __init__(self, state_size, action_size):\n",
        "    super(ActorCriticModel, self).__init__()\n",
        "    self.state_size = state_size\n",
        "    self.action_size = action_size\n",
        "    self.conv_0 = keras.layers.Conv2D(\n",
        "        filters=32,\n",
        "        strides=(2, 2),\n",
        "        kernel_size=4,\n",
        "        activation='relu',\n",
        "        padding='same',\n",
        "        kernel_initializer='glorot_uniform',\n",
        "        input_shape=(160, 160, 3))\n",
        "    self.conv_1 = keras.layers.Conv2D(\n",
        "        filters=32,\n",
        "        activation='relu',\n",
        "        strides=(2, 2),\n",
        "        padding='same',\n",
        "        kernel_initializer='glorot_uniform',\n",
        "        kernel_size=4)\n",
        "    self.conv_2 = keras.layers.Conv2D(\n",
        "        filters=32,\n",
        "        activation='relu',\n",
        "        strides=(2, 2),\n",
        "        padding='same',\n",
        "        kernel_initializer='glorot_uniform',\n",
        "        kernel_size=4)\n",
        "    self.conv_3 = keras.layers.Conv2D(\n",
        "        filters=32,\n",
        "        activation='relu',\n",
        "        strides=(2, 2),\n",
        "        padding='same',\n",
        "        kernel_initializer='glorot_uniform',\n",
        "        kernel_size=4)\n",
        "    self.avg_pooling = tf.keras.layers.AveragePooling2D(pool_size=(2, 2))\n",
        "    self.flatten = keras.layers.Flatten()\n",
        "    self.policy_dense_0 = keras.layers.Dense(\n",
        "        64, kernel_initializer='glorot_uniform', activation='relu')\n",
        "    self.policy_logits = keras.layers.Dense(self.action_size, activation='relu')\n",
        "    self.value_dense = keras.layers.Dense(\n",
        "        64, kernel_initializer='glorot_uniform', activation='relu')\n",
        "    self.value = keras.layers.Dense(1)\n",
        "  \n",
        "  def call(self, inputs):\n",
        "    x = tf.image.resize(inputs, (160, 160))\n",
        "    x = self.conv_0(x)\n",
        "    x = self.conv_1(x)\n",
        "    x = self.conv_2(x)\n",
        "    x = self.conv_3(x)\n",
        "    x = self.avg_pooling(x)\n",
        "    x = self.flatten(x)\n",
        "    p = self.policy_dense_0(x)\n",
        "    logits = self.policy_logits(p)\n",
        "    v = self.value_dense(x)\n",
        "    values = self.value(v)\n",
        "    return logits, values"
      ],
      "execution_count": 0,
      "outputs": []
    },
    {
      "cell_type": "code",
      "metadata": {
        "id": "wtTON1xmoJCc",
        "colab_type": "code",
        "colab": {}
      },
      "source": [
        "class BaselineModel():\n",
        "  def __init__(self):\n",
        "    print('not implemented')"
      ],
      "execution_count": 0,
      "outputs": []
    },
    {
      "cell_type": "code",
      "metadata": {
        "id": "KVDqVpOqn_e0",
        "colab_type": "code",
        "colab": {}
      },
      "source": [
        "class MasterAgent():\n",
        "  def __init__(self, args):\n",
        "    self.args = args\n",
        "    self.game_name = self.args.game_name\n",
        "    env = gym.make(self.game_name)\n",
        "    self.action_size = env.action_space.n\n",
        "    self.history = History()\n",
        "    self.state_size = env.observation_space.shape[0]\n",
        "    self.opt = tf.optimizers.Adam(self.args.lr)\n",
        "    print('state_size: ', env.observation_space.shape)\n",
        "    print('action_size: ', self.action_size)\n",
        "    self.global_model = ActorCriticModel(self.state_size, self.action_size)\n",
        "    self.global_model(\n",
        "      tf.convert_to_tensor(\n",
        "      np.random.random((5, 210, 160, 3)),\n",
        "      dtype=tf.float32))\n",
        "    if path.exists(\n",
        "        path.join(self.args.model_path, 'backup.h5')) and self.args.load_model:\n",
        "      self.global_model.load_weights(\n",
        "          path.join(self.args.model_path, 'backup.h5'))\n",
        "  \n",
        "  def train_sync(self):\n",
        "    pbar = tqdm(total=self.args.max_eps + multiprocessing.cpu_count())\n",
        "    worker = Worker(self.args, self.action_size, self.state_size,\n",
        "                    self.global_model, self.opt, pbar, self.eval, self.history)\n",
        "    worker.run()\n",
        "    pbar.close()\n",
        "  \n",
        "  def train_async(self):\n",
        "    pbar = tqdm(total=self.args.max_eps)\n",
        "    Worker.global_eps = 0;\n",
        "    workers = [\n",
        "      Worker(self.args, self.action_size, self.state_size,\n",
        "             self.global_model, self.opt, pbar, self.eval, self.history)\n",
        "      for i in range(multiprocessing.cpu_count())\n",
        "    ]\n",
        "    worker_pbar = tqdm(total=len(workers))\n",
        "    worker_pbar.set_description(f'starting {len(workers)} workers')\n",
        "    for i, worker in enumerate(workers):\n",
        "      worker.start()\n",
        "      worker_pbar.update(1)\n",
        "    worker_pbar.close()\n",
        "    [w.join() for w in workers]\n",
        "    pbar.close()\n",
        "\n",
        "  def eval(self, id):\n",
        "    self.play(load=False, id=id, base=self.args.model_path)\n",
        "  \n",
        "  def play(self, load=True, id='video', base='./'):\n",
        "    env = wrap_env(gym.make(self.args.game_name), id=id, base=base)\n",
        "    state = env.reset()\n",
        "    model_snapshot = self.global_model\n",
        "    if load and path.exists(\n",
        "        path.join(self.args.model_path, 'best.h5')):\n",
        "      print('load pre-trained model')\n",
        "      model_snapshot.load_weights(\n",
        "          path.join(self.args.model_path, 'best.h5'))\n",
        "    done = False\n",
        "    trial_steps = 0\n",
        "    pbar = tqdm(total=self.args.max_testing_steps)\n",
        "    cumulative_reward = 0\n",
        "    while (not done) and (trial_steps < self.args.max_testing_steps):\n",
        "      state_input = tf.convert_to_tensor(state[None, :], dtype=tf.float32)\n",
        "      logit, _ = model_snapshot(state_input)\n",
        "      policy = tf.nn.softmax(logit)\n",
        "      action = np.argmax(policy)\n",
        "      state, reward, done, _ = env.step(action)\n",
        "      cumulative_reward += reward\n",
        "      trial_steps += 1\n",
        "      pbar.update(1)\n",
        "    print(f'The final reward for this trial is {cumulative_reward}')\n",
        "    pbar.close()\n",
        "    env.close()\n",
        "    show_video(id=id, base=base)"
      ],
      "execution_count": 0,
      "outputs": []
    },
    {
      "cell_type": "code",
      "metadata": {
        "id": "Yy5tn0pA2-tB",
        "colab_type": "code",
        "colab": {}
      },
      "source": [
        "def gym_sanity_check(args):\n",
        "  print('starting gym environment sanity check')\n",
        "  env = wrap_env(gym.make(args.game_name))\n",
        "  inital_observation = env.reset()\n",
        "  sample_action = env.action_space.sample()\n",
        "  print('observation shape: ', np.array(inital_observation).shape)\n",
        "  print('sample action: ', sample_action)\n",
        "  for _ in range(20):\n",
        "    observation = env.reset()\n",
        "    done = False\n",
        "    while not done:\n",
        "        action = env.action_space.sample()\n",
        "        observation, _, done, _ = env.step(action)\n",
        "  env.close()\n",
        "  show_video()"
      ],
      "execution_count": 0,
      "outputs": []
    },
    {
      "cell_type": "code",
      "metadata": {
        "id": "D_4XwuN1oFkz",
        "colab_type": "code",
        "colab": {}
      },
      "source": [
        "def entry_point(args):\n",
        "  if args.mode == 'sanity':\n",
        "    gym_sanity_check(args)\n",
        "  if args.mode == 'play':\n",
        "    master = MasterAgent(args)\n",
        "    master.play()\n",
        "  if args.mode == 'train_sync':\n",
        "    master = MasterAgent(args)\n",
        "    master.train_sync()\n",
        "  if args.mode == 'train_async':\n",
        "    master = MasterAgent(args)\n",
        "    master.train_async()\n",
        "  print('Hello World')"
      ],
      "execution_count": 0,
      "outputs": []
    },
    {
      "cell_type": "code",
      "metadata": {
        "id": "I_oklLOXofGu",
        "colab_type": "code",
        "outputId": "742d4bee-4f8f-4cf5-9590-cb5dd97c5e7f",
        "colab": {
          "base_uri": "https://localhost:8080/",
          "height": 1000,
          "referenced_widgets": [
            "4b3a18bf67974a209740db9b7664ddcc",
            "6052186641414daab79fc81f6e533678",
            "64d968591f0f446fad0cd106296eff3d",
            "261bd2ccf2544dce9bc3f291776140ad",
            "3fb28ba005cf406282b11bfe65e5dac4",
            "5d1a43ab8a4943d4816035ec88346e31",
            "04780a96113941f4b1d01d6544b91d87",
            "676b1aeeb2f7413594ed55d2907846cd",
            "9340eb47e2c34624a8d8fd9618b2bfb5",
            "0550d14cf4b4480c9dc95965459aeeec",
            "3d5cc9cc72f04059bcd0d509e149b5c2",
            "99223ac0afe54bb6a9c17dc0d2fd3566",
            "4cf1419570d5471b946be6710f14b24b",
            "15c57f626b2f466f8c9e6e0273a2f873",
            "4a88027d20f844a1ad43f78b084285b5",
            "5608e7faa3f64e0d8c3242a1ff0d3d89",
            "c0ab54ca57cc417d83da6d59b89afd88",
            "87cf335ad65f4b9da01ba8359a1affec",
            "464d653530a147d397e42bf74ce3e20b",
            "460362154ea54e5a911762e7a3170d2f",
            "6c550c0bd5284934a152b9aecd247aa1",
            "d34a11644494477a8107e5697fe3e0c8",
            "7e253f258c36439caff46709d3a28096",
            "323978c26f2c4ca786158b0d81fe8829",
            "0f35888605fe473696e8a033b20a9943",
            "054cb6bc4fc24276bb003a9b078327f6",
            "2862fcfc77a443f98a53e9dae80f72f9",
            "b00d8b35ea2b44b995b1bf04bfd62ee9",
            "6ff1f13189fe48ffbee5eba30c53bff5",
            "ea4ba9617dc8410ebacec8a99751c601",
            "229b48d44b254330a3d1964424cbd66d",
            "d55aed78c5b143ec9210008f5614bd0e",
            "cc976c653cd641229df06fcf30f8ae65",
            "c23a5f9781ec4fb488041a7855ac467a",
            "11d3d7ac9ee1487e8da20026771786a8",
            "ff92e7ecd77147799af96fa14dbc6826",
            "88175f68b19c4c8ab71700aeacbd8ee9",
            "f256ea9742234949afdfe32a0b39038a",
            "2e86df045a824709ae23b6635f6a556a",
            "b3acfe574d9e4e6c9b60d2c0fc33e1e3",
            "253202f7ebcc4e28be8b329887810221",
            "56f9e497ce7f4a1a818c30c2da9d8215",
            "e9fe296fc7b247ef8db54aa3b5d847b1",
            "43431140e9904fd492bf70b08d583799",
            "97c9bbe470544ffcbf9d5703024a3c62",
            "96509a8483ae4174ac7ff0b9703c3bea",
            "d9e66b1e88f04fd1831b5745de874510",
            "aee7013140f3412ba637058f76210d58",
            "3aaf3511fb1448b6b70dff3b11850b08",
            "4df6921db4264d9fbc4cb1c4ca287b62",
            "feea648dcdb4407fab0691396d64b176",
            "2b8e7eb24a9649939df60f4217357c44",
            "256aeb1ae1b24f69b059d8509328b044",
            "76a0638680064710a12ab83b627117db",
            "c32fc6852255456789bbb53efcd92435",
            "f8f05cb1fe4748c992f3d1596d174b2a"
          ]
        }
      },
      "source": [
        "entry_point(\n",
        "    PipelineArgs(\n",
        "        game_name='Breakout-v0',\n",
        "        update_freq=20,\n",
        "        max_eps=10000,\n",
        "        model_path='/content/drive/My Drive/colab_storage',\n",
        "        max_testing_steps=1000,\n",
        "        load_model=True,\n",
        "        mode='train_async'))"
      ],
      "execution_count": 18,
      "outputs": [
        {
          "output_type": "stream",
          "text": [
            "state_size:  (210, 160, 3)\n",
            "action_size:  4\n"
          ],
          "name": "stdout"
        },
        {
          "output_type": "display_data",
          "data": {
            "application/vnd.jupyter.widget-view+json": {
              "model_id": "4b3a18bf67974a209740db9b7664ddcc",
              "version_minor": 0,
              "version_major": 2
            },
            "text/plain": [
              "HBox(children=(FloatProgress(value=0.0, max=10000.0), HTML(value='')))"
            ]
          },
          "metadata": {
            "tags": []
          }
        },
        {
          "output_type": "display_data",
          "data": {
            "application/vnd.jupyter.widget-view+json": {
              "model_id": "9340eb47e2c34624a8d8fd9618b2bfb5",
              "version_minor": 0,
              "version_major": 2
            },
            "text/plain": [
              "HBox(children=(FloatProgress(value=0.0, max=40.0), HTML(value='')))"
            ]
          },
          "metadata": {
            "tags": []
          }
        },
        {
          "output_type": "stream",
          "text": [
            "\n"
          ],
          "name": "stdout"
        },
        {
          "output_type": "display_data",
          "data": {
            "application/vnd.jupyter.widget-view+json": {
              "model_id": "c0ab54ca57cc417d83da6d59b89afd88",
              "version_minor": 0,
              "version_major": 2
            },
            "text/plain": [
              "HBox(children=(FloatProgress(value=0.0, max=1000.0), HTML(value='')))"
            ]
          },
          "metadata": {
            "tags": []
          }
        },
        {
          "output_type": "stream",
          "text": [
            "The final reward for this trial is 0.0\n",
            "\n"
          ],
          "name": "stdout"
        },
        {
          "output_type": "display_data",
          "data": {
            "text/html": [
              "<video alt=\"test\" autoplay \n",
              "                loop controls style=\"height: 200px;\">\n",
              "                <source src=\"data:video/mp4;base64,AAAAIGZ0eXBpc29tAAACAGlzb21pc28yYXZjMW1wNDEAAAAIZnJlZQAAS7ptZGF0AAACrgYF//+q3EXpvebZSLeWLNgg2SPu73gyNjQgLSBjb3JlIDE1MiByMjg1NCBlOWE1OTAzIC0gSC4yNjQvTVBFRy00IEFWQyBjb2RlYyAtIENvcHlsZWZ0IDIwMDMtMjAxNyAtIGh0dHA6Ly93d3cudmlkZW9sYW4ub3JnL3gyNjQuaHRtbCAtIG9wdGlvbnM6IGNhYmFjPTEgcmVmPTMgZGVibG9jaz0xOjA6MCBhbmFseXNlPTB4MzoweDExMyBtZT1oZXggc3VibWU9NyBwc3k9MSBwc3lfcmQ9MS4wMDowLjAwIG1peGVkX3JlZj0xIG1lX3JhbmdlPTE2IGNocm9tYV9tZT0xIHRyZWxsaXM9MSA4eDhkY3Q9MSBjcW09MCBkZWFkem9uZT0yMSwxMSBmYXN0X3Bza2lwPTEgY2hyb21hX3FwX29mZnNldD0tMiB0aHJlYWRzPTcgbG9va2FoZWFkX3RocmVhZHM9MSBzbGljZWRfdGhyZWFkcz0wIG5yPTAgZGVjaW1hdGU9MSBpbnRlcmxhY2VkPTAgYmx1cmF5X2NvbXBhdD0wIGNvbnN0cmFpbmVkX2ludHJhPTAgYmZyYW1lcz0zIGJfcHlyYW1pZD0yIGJfYWRhcHQ9MSBiX2JpYXM9MCBkaXJlY3Q9MSB3ZWlnaHRiPTEgb3Blbl9nb3A9MCB3ZWlnaHRwPTIga2V5aW50PTI1MCBrZXlpbnRfbWluPTI1IHNjZW5lY3V0PTQwIGludHJhX3JlZnJlc2g9MCByY19sb29rYWhlYWQ9NDAgcmM9Y3JmIG1idHJlZT0xIGNyZj0yMy4wIHFjb21wPTAuNjAgcXBtaW49MCBxcG1heD02OSBxcHN0ZXA9NCBpcF9yYXRpbz0xLjQwIGFxPTE6MS4wMACAAAACKmWIhAA3//728P4FNlYEUGa7Q91nCgDAQZ/NTMClgclA4pYaytdZh+dVJuV432kRnWAs5rNIwVgDq82rBm7oYytwVrbMx0s0deIjDqA1k01uG4ANrMfO1grOJwZga71GmymuARhsR4WZ3pZaGRcKmQ1AKWNgP+g0jF9vZyFT5gpot86JTbMFc0ZcdazcAe48r5fEfvVute9rB6tUebo7LSDmgk0Yk5SccnTIC7OKXa0z9mVrKEExQtVw/h9gGhuwMIFSbYTBIps6sOwginkaQahoy3YpigJeHW1QeapzVRURgWt3Cb/fABnsQJUbQBnzSOFXARJncJs9Egfvxb8tPmLx1saqciKlnYZZ3TBjw5BDKy2pLMIQlUrsVKYTYX9hV+lrvVOAfbYkUg1VgiZyygVNBBkK0cr2V9Z9KA4o9WtvG9L3J2bT1I7ByLycHnVVT6CxO8EXbn/O+CGjAAHXgWgnJa5SvEPAl+X3OxVbIk1DOPs14GLO4QLTjWkcf7RzgVROk813w1U480bDox23YQLI8dX3cKZJJJMHCl4LltTbNx4oB6QFik2X517oi8zhaz36adKwEhfZ+qUgJiWMC6LhRcUEwDHFZrtDWSub1tuAVtqBAIZsDC7Fv5xiTTVqtpxo1hmW918vbOeyRyrzX59f6i+Hc7O0PEOLtQCVko1+Vx39ymw1Khv4mr+Mb5bzy7R9SPX69aBrialPZ0wfZMMkENM8mfZMEqnnAAAAREGaJGxDf/6nhAMXU3SAWm6Heet150NvaiNsGfQST5TYE6TrkGEFX5O+3V6cp94sGoJ1XEh31GQywkQAAE0/5ZmdkqKAAAAAEUGeQniFfwGxOs2+nmXi6p3BAAAADwGeYXRCfwG38cmpdrSZgAAAAAkBnmNqQn8AN6EAAAAgQZpoSahBaJlMCG///qeEAu3YV9yGxc6o7qf1Tzu2Zz0AAAATQZ6GRREsK/8Bpx/utidFg7yXfwAAABIBnqV0Qn8CGNJ3jP2dQeiRj8EAAAAJAZ6nakJ/ADegAAAAEkGarEmoQWyZTAhv//6nhAA1IAAAAAtBnspFFSwr/wArYQAAAAkBnul0Qn8AN6AAAAAJAZ7rakJ/ADegAAAAEkGa8EmoQWyZTAhv//6nhAA1IQAAAAtBnw5FFSwr/wArYQAAAAkBny10Qn8AN6EAAAAJAZ8vakJ/ADegAAAAEkGbNEmoQWyZTAhv//6nhAA1IAAAAAtBn1JFFSwr/wArYQAAAAkBn3F0Qn8AN6AAAAAJAZ9zakJ/ADegAAAAEkGbeEmoQWyZTAhv//6nhAA1IQAAAAtBn5ZFFSwr/wArYAAAAAkBn7V0Qn8AN6EAAAAJAZ+3akJ/ADehAAAAEkGbvEmoQWyZTAhv//6nhAA1IAAAAAtBn9pFFSwr/wArYQAAAAkBn/l0Qn8AN6AAAAAJAZ/7akJ/ADehAAAAEkGb4EmoQWyZTAhv//6nhAA1IQAAAAtBnh5FFSwr/wArYAAAAAkBnj10Qn8AN6AAAAAJAZ4/akJ/ADehAAAAEkGaJEmoQWyZTAhv//6nhAA1IAAAAAtBnkJFFSwr/wArYQAAAAkBnmF0Qn8AN6AAAAAJAZ5jakJ/ADehAAAAEkGaaEmoQWyZTAhv//6nhAA1IQAAAAtBnoZFFSwr/wArYQAAAAkBnqV0Qn8AN6EAAAAJAZ6nakJ/ADegAAAAEkGarEmoQWyZTAhv//6nhAA1IAAAAAtBnspFFSwr/wArYQAAAAkBnul0Qn8AN6AAAAAJAZ7rakJ/ADegAAAAEkGa8EmoQWyZTAhv//6nhAA1IQAAAAtBnw5FFSwr/wArYQAAAAkBny10Qn8AN6EAAAAJAZ8vakJ/ADegAAAAEkGbNEmoQWyZTAhv//6nhAA1IAAAAAtBn1JFFSwr/wArYQAAAAkBn3F0Qn8AN6AAAAAJAZ9zakJ/ADegAAAAEkGbeEmoQWyZTAhv//6nhAA1IQAAAAtBn5ZFFSwr/wArYAAAAAkBn7V0Qn8AN6EAAAAJAZ+3akJ/ADehAAAAEkGbvEmoQWyZTAhv//6nhAA1IAAAAAtBn9pFFSwr/wArYQAAAAkBn/l0Qn8AN6AAAAAJAZ/7akJ/ADehAAAAEkGb4EmoQWyZTAhv//6nhAA1IQAAAAtBnh5FFSwr/wArYAAAAAkBnj10Qn8AN6AAAAAJAZ4/akJ/ADehAAAAEkGaJEmoQWyZTAhv//6nhAA1IAAAAAtBnkJFFSwr/wArYQAAAAkBnmF0Qn8AN6AAAAAJAZ5jakJ/ADehAAAAEkGaaEmoQWyZTAhv//6nhAA1IQAAAAtBnoZFFSwr/wArYQAAAAkBnqV0Qn8AN6EAAAAJAZ6nakJ/ADegAAAAEkGarEmoQWyZTAhv//6nhAA1IAAAAAtBnspFFSwr/wArYQAAAAkBnul0Qn8AN6AAAAAJAZ7rakJ/ADegAAAAEkGa8EmoQWyZTAhv//6nhAA1IQAAAAtBnw5FFSwr/wArYQAAAAkBny10Qn8AN6EAAAAJAZ8vakJ/ADegAAAAEkGbNEmoQWyZTAhv//6nhAA1IAAAAAtBn1JFFSwr/wArYQAAAAkBn3F0Qn8AN6AAAAAJAZ9zakJ/ADegAAAAEkGbeEmoQWyZTAhv//6nhAA1IQAAAAtBn5ZFFSwr/wArYAAAAAkBn7V0Qn8AN6EAAAAJAZ+3akJ/ADehAAAAEkGbvEmoQWyZTAhv//6nhAA1IAAAAAtBn9pFFSwr/wArYQAAAAkBn/l0Qn8AN6AAAAAJAZ/7akJ/ADehAAAAEkGb4EmoQWyZTAhv//6nhAA1IQAAAAtBnh5FFSwr/wArYAAAAAkBnj10Qn8AN6AAAAAJAZ4/akJ/ADehAAAAEkGaJEmoQWyZTAhv//6nhAA1IAAAAAtBnkJFFSwr/wArYQAAAAkBnmF0Qn8AN6AAAAAJAZ5jakJ/ADehAAAAEkGaaEmoQWyZTAhv//6nhAA1IQAAAAtBnoZFFSwr/wArYQAAAAkBnqV0Qn8AN6EAAAAJAZ6nakJ/ADegAAAAEkGarEmoQWyZTAhv//6nhAA1IAAAAAtBnspFFSwr/wArYQAAAAkBnul0Qn8AN6AAAAAJAZ7rakJ/ADegAAAAEkGa8EmoQWyZTAhv//6nhAA1IQAAAAtBnw5FFSwr/wArYQAAAAkBny10Qn8AN6EAAAAJAZ8vakJ/ADegAAAAEkGbNEmoQWyZTAhv//6nhAA1IAAAAAtBn1JFFSwr/wArYQAAAAkBn3F0Qn8AN6AAAAAJAZ9zakJ/ADegAAAAEkGbeEmoQWyZTAhv//6nhAA1IQAAAAtBn5ZFFSwr/wArYAAAAAkBn7V0Qn8AN6EAAAAJAZ+3akJ/ADehAAAAEkGbvEmoQWyZTAhv//6nhAA1IAAAAAtBn9pFFSwr/wArYQAAAAkBn/l0Qn8AN6AAAAAJAZ/7akJ/ADehAAAAEkGb4EmoQWyZTAhv//6nhAA1IQAAAAtBnh5FFSwr/wArYAAAAAkBnj10Qn8AN6AAAAAJAZ4/akJ/ADehAAAAEkGaJEmoQWyZTAhv//6nhAA1IAAAAAtBnkJFFSwr/wArYQAAAAkBnmF0Qn8AN6AAAAAJAZ5jakJ/ADehAAAAEkGaaEmoQWyZTAhv//6nhAA1IQAAAAtBnoZFFSwr/wArYQAAAAkBnqV0Qn8AN6EAAAAJAZ6nakJ/ADegAAAAEkGarEmoQWyZTAhv//6nhAA1IAAAAAtBnspFFSwr/wArYQAAAAkBnul0Qn8AN6AAAAAJAZ7rakJ/ADegAAAAEkGa8EmoQWyZTAhv//6nhAA1IQAAAAtBnw5FFSwr/wArYQAAAAkBny10Qn8AN6EAAAAJAZ8vakJ/ADegAAAAEkGbNEmoQWyZTAhv//6nhAA1IAAAAAtBn1JFFSwr/wArYQAAAAkBn3F0Qn8AN6AAAAAJAZ9zakJ/ADegAAAAEkGbeEmoQWyZTAhv//6nhAA1IQAAAAtBn5ZFFSwr/wArYAAAAAkBn7V0Qn8AN6EAAAAJAZ+3akJ/ADehAAAAEkGbvEmoQWyZTAhv//6nhAA1IAAAAAtBn9pFFSwr/wArYQAAAAkBn/l0Qn8AN6AAAAAJAZ/7akJ/ADehAAAAEkGb4EmoQWyZTAhv//6nhAA1IQAAAAtBnh5FFSwr/wArYAAAAAkBnj10Qn8AN6AAAAAJAZ4/akJ/ADehAAAAEkGaJEmoQWyZTAhv//6nhAA1IAAAAAtBnkJFFSwr/wArYQAAAAkBnmF0Qn8AN6AAAAAJAZ5jakJ/ADehAAAAEkGaaEmoQWyZTAhv//6nhAA1IQAAAAtBnoZFFSwr/wArYQAAAAkBnqV0Qn8AN6EAAAAJAZ6nakJ/ADegAAAAEkGarEmoQWyZTAhv//6nhAA1IAAAAAtBnspFFSwr/wArYQAAAAkBnul0Qn8AN6AAAAAJAZ7rakJ/ADegAAAAEkGa8EmoQWyZTAhv//6nhAA1IQAAAAtBnw5FFSwr/wArYQAAAAkBny10Qn8AN6EAAAAJAZ8vakJ/ADegAAAAEkGbNEmoQWyZTAhv//6nhAA1IAAAAAtBn1JFFSwr/wArYQAAAAkBn3F0Qn8AN6AAAAAJAZ9zakJ/ADegAAAAEkGbeEmoQWyZTAhv//6nhAA1IQAAAAtBn5ZFFSwr/wArYAAAAAkBn7V0Qn8AN6EAAAAJAZ+3akJ/ADehAAAAEkGbvEmoQWyZTAhv//6nhAA1IAAAAAtBn9pFFSwr/wArYQAAAAkBn/l0Qn8AN6AAAAAJAZ/7akJ/ADehAAAAEkGb4EmoQWyZTAhv//6nhAA1IQAAAAtBnh5FFSwr/wArYAAAAAkBnj10Qn8AN6AAAAAJAZ4/akJ/ADehAAAAEkGaJEmoQWyZTAhv//6nhAA1IAAAAAtBnkJFFSwr/wArYQAAAAkBnmF0Qn8AN6AAAAAJAZ5jakJ/ADehAAAAEkGaaEmoQWyZTAhv//6nhAA1IQAAAAtBnoZFFSwr/wArYQAAAAkBnqV0Qn8AN6EAAAAJAZ6nakJ/ADegAAAAEkGarEmoQWyZTAhv//6nhAA1IAAAAAtBnspFFSwr/wArYQAAAAkBnul0Qn8AN6AAAAAJAZ7rakJ/ADegAAAAEkGa8EmoQWyZTAhv//6nhAA1IQAAAAtBnw5FFSwr/wArYQAAAAkBny10Qn8AN6EAAAAJAZ8vakJ/ADegAAAAEkGbNEmoQWyZTAhv//6nhAA1IAAAAAtBn1JFFSwr/wArYQAAAAkBn3F0Qn8AN6AAAAAJAZ9zakJ/ADegAAAAEkGbeEmoQWyZTAhv//6nhAA1IQAAAAtBn5ZFFSwr/wArYAAAAAkBn7V0Qn8AN6EAAAAJAZ+3akJ/ADehAAAAEkGbvEmoQWyZTAhv//6nhAA1IAAAAAtBn9pFFSwr/wArYQAAAAkBn/l0Qn8AN6AAAAAJAZ/7akJ/ADehAAAAEkGb4EmoQWyZTAhv//6nhAA1IQAAAAtBnh5FFSwr/wArYAAAAAkBnj10Qn8AN6AAAAAJAZ4/akJ/ADehAAAAEkGaJEmoQWyZTAhv//6nhAA1IAAAAAtBnkJFFSwr/wArYQAAAAkBnmF0Qn8AN6AAAAAJAZ5jakJ/ADehAAAAEkGaaEmoQWyZTAhv//6nhAA1IQAAAAtBnoZFFSwr/wArYQAAAAkBnqV0Qn8AN6EAAAAJAZ6nakJ/ADegAAAAEkGarEmoQWyZTAhv//6nhAA1IAAAAAtBnspFFSwr/wArYQAAAAkBnul0Qn8AN6AAAAAJAZ7rakJ/ADegAAAAEkGa8EmoQWyZTAhv//6nhAA1IQAAAAtBnw5FFSwr/wArYQAAAAkBny10Qn8AN6EAAAAJAZ8vakJ/ADegAAAAEkGbNEmoQWyZTAhv//6nhAA1IAAAAAtBn1JFFSwr/wArYQAAAAkBn3F0Qn8AN6AAAAAJAZ9zakJ/ADegAAAAEkGbeEmoQWyZTAhv//6nhAA1IQAAAAtBn5ZFFSwr/wArYAAAAAkBn7V0Qn8AN6EAAAAJAZ+3akJ/ADehAAAAEUGbuUmoQWyZTAhP//3xAAekAAACT2WIggAEP/73gb8yy2Q/qsZf2kIaQwADpwvvqFKeT729Y0+BjhAgvUqZ8RGi++J3OJMggLEwwfVVpIWSLUtq8cFtxU0JDyhLYHsL0/U+RLzWfRuAdMCB7FUY5NzOQbYSxYLdfezd7ayLpNAmlBkcAC2EJ+fJ1SlMC50MH/cHUBEfvqhIEB8pFfqzKwvZyjN5rILRGAnB3WfKyetfXz6OMXgk9BAtFdvabKlvmJ3eWTscp404IafjNOfVH+o7pSUu2wNMsZaPPs3rXjKFMCw1ZvNwMGjyCwUvPkJw5XnWx9lDrnupmQ3IleNbVpsrLgATFL9tn4Ff298lUp36lFEIg+TFuT4+I5SaRsZAmjiu2FgXzUNKSpYmAABjRFPxum2Sd2tZFEsjiaBK3MVRFxKrbu0R6IjRZKtLPESIzyuhuqbZ7WO9gb0p3HMQ0FrEkAJq/2g0mTNw6BfLHDWhtg6ntmt986vils3+7oyorXZB3JNq/zMeNUrRAnhUzmzO1wJUYgbQOg2CWbpjORnGNNfYIMYkpMS0kaaUzBT98tzkelxjUAFl8cTsiQ67aZ/1NfDHLzuR5LWR395/vTnHBVAnW0C+9OF9N5bBbU5DAvrtrYscBmsUDklfmjV87X3sb9T/EvbPkmgY82DphnbLEu5+O5xXbpVTDFW1LjNSc1q8ujMImRzu8A2NKQItNjkoQ9U31Coe1DrKwwNhLe7mT9oA2/O5x99fNPF6odhm+K+iJJWjVCO+npDc8GgAaqQsPBQEW1rjPFylxfXJbPoRZNs8twAAACZBmiRsQ3/+p4QDHN2TSUn0h9gB7upNy9Lt2yy/dAAAJp/67KvG4AAAAA9BnkJ4hX8BsTrGz1BN0W8AAAALAZ5hdEJ/AElaRmEAAAAJAZ5jakJ/ADegAAAAEkGaaEmoQWiZTAhv//6nhAA1IAAAAAtBnoZFESwr/wArYQAAAAkBnqV0Qn8AN6AAAAAJAZ6nakJ/ADehAAAAEkGarEmoQWyZTAhv//6nhAA1IAAAAAtBnspFFSwr/wArYQAAAAkBnul0Qn8AN6EAAAAJAZ7rakJ/ADehAAAAEkGa8EmoQWyZTAhv//6nhAA1IQAAAAtBnw5FFSwr/wArYAAAAAkBny10Qn8AN6AAAAAJAZ8vakJ/ADehAAAAEkGbNEmoQWyZTAhv//6nhAA1IAAAAAtBn1JFFSwr/wArYAAAAAkBn3F0Qn8AN6EAAAAJAZ9zakJ/ADehAAAAEkGbeEmoQWyZTAhv//6nhAA1IQAAAAtBn5ZFFSwr/wArYAAAAAkBn7V0Qn8AN6AAAAAJAZ+3akJ/ADehAAAAEkGbvEmoQWyZTAhv//6nhAA1IAAAAAtBn9pFFSwr/wArYAAAAAkBn/l0Qn8AN6EAAAAJAZ/7akJ/ADegAAAAEkGb4EmoQWyZTAhv//6nhAA1IQAAAAtBnh5FFSwr/wArYQAAAAkBnj10Qn8AN6AAAAAJAZ4/akJ/ADehAAAAEkGaJEmoQWyZTAhv//6nhAA1IAAAAAtBnkJFFSwr/wArYQAAAAkBnmF0Qn8AN6EAAAAJAZ5jakJ/ADegAAAAEkGaaEmoQWyZTAhv//6nhAA1IAAAAAtBnoZFFSwr/wArYQAAAAkBnqV0Qn8AN6AAAAAJAZ6nakJ/ADehAAAAEkGarEmoQWyZTAhv//6nhAA1IAAAAAtBnspFFSwr/wArYQAAAAkBnul0Qn8AN6EAAAAJAZ7rakJ/ADehAAAAEkGa8EmoQWyZTAhv//6nhAA1IQAAAAtBnw5FFSwr/wArYAAAAAkBny10Qn8AN6AAAAAJAZ8vakJ/ADehAAAAEkGbNEmoQWyZTAhv//6nhAA1IAAAAAtBn1JFFSwr/wArYAAAAAkBn3F0Qn8AN6EAAAAJAZ9zakJ/ADehAAAAEkGbeEmoQWyZTAhv//6nhAA1IQAAAAtBn5ZFFSwr/wArYAAAAAkBn7V0Qn8AN6AAAAAJAZ+3akJ/ADehAAAAEkGbvEmoQWyZTAhv//6nhAA1IAAAAAtBn9pFFSwr/wArYAAAAAkBn/l0Qn8AN6EAAAAJAZ/7akJ/ADegAAAAEkGb4EmoQWyZTAhv//6nhAA1IQAAAAtBnh5FFSwr/wArYQAAAAkBnj10Qn8AN6AAAAAJAZ4/akJ/ADehAAAAEkGaJEmoQWyZTAhv//6nhAA1IAAAAAtBnkJFFSwr/wArYQAAAAkBnmF0Qn8AN6EAAAAJAZ5jakJ/ADegAAAAEkGaaEmoQWyZTAhv//6nhAA1IAAAAAtBnoZFFSwr/wArYQAAAAkBnqV0Qn8AN6AAAAAJAZ6nakJ/ADehAAAAEkGarEmoQWyZTAhv//6nhAA1IAAAAAtBnspFFSwr/wArYQAAAAkBnul0Qn8AN6EAAAAJAZ7rakJ/ADehAAAAEkGa8EmoQWyZTAhv//6nhAA1IQAAAAtBnw5FFSwr/wArYAAAAAkBny10Qn8AN6AAAAAJAZ8vakJ/ADehAAAAEkGbNEmoQWyZTAhv//6nhAA1IAAAAAtBn1JFFSwr/wArYAAAAAkBn3F0Qn8AN6EAAAAJAZ9zakJ/ADehAAAAEkGbeEmoQWyZTAhv//6nhAA1IQAAAAtBn5ZFFSwr/wArYAAAAAkBn7V0Qn8AN6AAAAAJAZ+3akJ/ADehAAAAEkGbvEmoQWyZTAhv//6nhAA1IAAAAAtBn9pFFSwr/wArYAAAAAkBn/l0Qn8AN6EAAAAJAZ/7akJ/ADegAAAAEkGb4EmoQWyZTAhv//6nhAA1IQAAAAtBnh5FFSwr/wArYQAAAAkBnj10Qn8AN6AAAAAJAZ4/akJ/ADehAAAAEkGaJEmoQWyZTAhv//6nhAA1IAAAAAtBnkJFFSwr/wArYQAAAAkBnmF0Qn8AN6EAAAAJAZ5jakJ/ADegAAAAEkGaaEmoQWyZTAhv//6nhAA1IAAAAAtBnoZFFSwr/wArYQAAAAkBnqV0Qn8AN6AAAAAJAZ6nakJ/ADehAAAAEkGarEmoQWyZTAhv//6nhAA1IAAAAAtBnspFFSwr/wArYQAAAAkBnul0Qn8AN6EAAAAJAZ7rakJ/ADehAAAAEkGa8EmoQWyZTAhv//6nhAA1IQAAAAtBnw5FFSwr/wArYAAAAAkBny10Qn8AN6AAAAAJAZ8vakJ/ADehAAAAEkGbNEmoQWyZTAhv//6nhAA1IAAAAAtBn1JFFSwr/wArYAAAAAkBn3F0Qn8AN6EAAAAJAZ9zakJ/ADehAAAAEkGbeEmoQWyZTAhv//6nhAA1IQAAAAtBn5ZFFSwr/wArYAAAAAkBn7V0Qn8AN6AAAAAJAZ+3akJ/ADehAAAAEkGbvEmoQWyZTAhv//6nhAA1IAAAAAtBn9pFFSwr/wArYAAAAAkBn/l0Qn8AN6EAAAAJAZ/7akJ/ADegAAAAEkGb4EmoQWyZTAhv//6nhAA1IQAAAAtBnh5FFSwr/wArYQAAAAkBnj10Qn8AN6AAAAAJAZ4/akJ/ADehAAAAEkGaJEmoQWyZTAhv//6nhAA1IAAAAAtBnkJFFSwr/wArYQAAAAkBnmF0Qn8AN6EAAAAJAZ5jakJ/ADegAAAAEkGaaEmoQWyZTAhv//6nhAA1IAAAAAtBnoZFFSwr/wArYQAAAAkBnqV0Qn8AN6AAAAAJAZ6nakJ/ADehAAAAEkGarEmoQWyZTAhv//6nhAA1IAAAAAtBnspFFSwr/wArYQAAAAkBnul0Qn8AN6EAAAAJAZ7rakJ/ADehAAAAEkGa8EmoQWyZTAhv//6nhAA1IQAAAAtBnw5FFSwr/wArYAAAAAkBny10Qn8AN6AAAAAJAZ8vakJ/ADehAAAAEkGbNEmoQWyZTAhv//6nhAA1IAAAAAtBn1JFFSwr/wArYAAAAAkBn3F0Qn8AN6EAAAAJAZ9zakJ/ADehAAAAEkGbeEmoQWyZTAhv//6nhAA1IQAAAAtBn5ZFFSwr/wArYAAAAAkBn7V0Qn8AN6AAAAAJAZ+3akJ/ADehAAAAEkGbvEmoQWyZTAhv//6nhAA1IAAAAAtBn9pFFSwr/wArYAAAAAkBn/l0Qn8AN6EAAAAJAZ/7akJ/ADegAAAAEkGb4EmoQWyZTAhv//6nhAA1IQAAAAtBnh5FFSwr/wArYQAAAAkBnj10Qn8AN6AAAAAJAZ4/akJ/ADehAAAAEkGaJEmoQWyZTAhv//6nhAA1IAAAAAtBnkJFFSwr/wArYQAAAAkBnmF0Qn8AN6EAAAAJAZ5jakJ/ADegAAAAEkGaaEmoQWyZTAhv//6nhAA1IAAAAAtBnoZFFSwr/wArYQAAAAkBnqV0Qn8AN6AAAAAJAZ6nakJ/ADehAAAAEkGarEmoQWyZTAhv//6nhAA1IAAAAAtBnspFFSwr/wArYQAAAAkBnul0Qn8AN6EAAAAJAZ7rakJ/ADehAAAAEkGa8EmoQWyZTAhv//6nhAA1IQAAAAtBnw5FFSwr/wArYAAAAAkBny10Qn8AN6AAAAAJAZ8vakJ/ADehAAAAEkGbNEmoQWyZTAhv//6nhAA1IAAAAAtBn1JFFSwr/wArYAAAAAkBn3F0Qn8AN6EAAAAJAZ9zakJ/ADehAAAAEkGbeEmoQWyZTAhv//6nhAA1IQAAAAtBn5ZFFSwr/wArYAAAAAkBn7V0Qn8AN6AAAAAJAZ+3akJ/ADehAAAAEkGbvEmoQWyZTAhv//6nhAA1IAAAAAtBn9pFFSwr/wArYAAAAAkBn/l0Qn8AN6EAAAAJAZ/7akJ/ADegAAAAEkGb4EmoQWyZTAhv//6nhAA1IQAAAAtBnh5FFSwr/wArYQAAAAkBnj10Qn8AN6AAAAAJAZ4/akJ/ADehAAAAEkGaJEmoQWyZTAhv//6nhAA1IAAAAAtBnkJFFSwr/wArYQAAAAkBnmF0Qn8AN6EAAAAJAZ5jakJ/ADegAAAAEkGaaEmoQWyZTAhv//6nhAA1IAAAAAtBnoZFFSwr/wArYQAAAAkBnqV0Qn8AN6AAAAAJAZ6nakJ/ADehAAAAEkGarEmoQWyZTAhv//6nhAA1IAAAAAtBnspFFSwr/wArYQAAAAkBnul0Qn8AN6EAAAAJAZ7rakJ/ADehAAAAEkGa8EmoQWyZTAhv//6nhAA1IQAAAAtBnw5FFSwr/wArYAAAAAkBny10Qn8AN6AAAAAJAZ8vakJ/ADehAAAAEkGbNEmoQWyZTAhv//6nhAA1IAAAAAtBn1JFFSwr/wArYAAAAAkBn3F0Qn8AN6EAAAAJAZ9zakJ/ADehAAAAEkGbeEmoQWyZTAhv//6nhAA1IQAAAAtBn5ZFFSwr/wArYAAAAAkBn7V0Qn8AN6AAAAAJAZ+3akJ/ADehAAAAEkGbvEmoQWyZTAhv//6nhAA1IAAAAAtBn9pFFSwr/wArYAAAAAkBn/l0Qn8AN6EAAAAJAZ/7akJ/ADegAAAAEkGb4EmoQWyZTAhv//6nhAA1IQAAAAtBnh5FFSwr/wArYQAAAAkBnj10Qn8AN6AAAAAJAZ4/akJ/ADehAAAAEkGaJEmoQWyZTAhv//6nhAA1IAAAAAtBnkJFFSwr/wArYQAAAAkBnmF0Qn8AN6EAAAAJAZ5jakJ/ADegAAAAEkGaaEmoQWyZTAhv//6nhAA1IAAAAAtBnoZFFSwr/wArYQAAAAkBnqV0Qn8AN6AAAAAJAZ6nakJ/ADehAAAAEkGarEmoQWyZTAhv//6nhAA1IAAAAAtBnspFFSwr/wArYQAAAAkBnul0Qn8AN6EAAAAJAZ7rakJ/ADehAAAAEkGa8EmoQWyZTAhv//6nhAA1IQAAAAtBnw5FFSwr/wArYAAAAAkBny10Qn8AN6AAAAAJAZ8vakJ/ADehAAAAEkGbNEmoQWyZTAhv//6nhAA1IAAAAAtBn1JFFSwr/wArYAAAAAkBn3F0Qn8AN6EAAAAJAZ9zakJ/ADehAAAAEkGbeEmoQWyZTAhv//6nhAA1IQAAAAtBn5ZFFSwr/wArYAAAAAkBn7V0Qn8AN6AAAAAJAZ+3akJ/ADehAAAAEUGbuUmoQWyZTAhP//3xAAekAAACT2WIhAAQ//73gb8yy2Q/qsZf2kIaQwADpwvvqFKeT729Y0+BjhAgvUqZ8RGi++J3OJMggLEwwfVVpIWSLUtq8cFtxU0JDyhLYHsL0/U+RLzWfRuAdMCB7FUY5NzOQbYSxYLdfezd7ayLpNAmlBkcAC2EJ+fJ1SlMC50MH/cHUBEfvqhIEB8pFfqzKwvZyjN5rILRGAnB3WfKyetfXz6OMXgk9BAtFdvabKlvmJ3eWTscp404IafjNOfVH+o7pSUu2wNMsZaPPs3rXjKFMCw1ZvNwMGjyCwUvPkJw5XnWx9lDrnupmQ3IleNbVpsrLgATFL9tn4Ff298lUp36lFEIg+TFuT4+I5SaRsZAmjiu2FgXzUNKSpYmAABjRFPxum2Sd2tZFEsjiaBK3MVRFxKrbu0R6IjRZKtLPESIzyuhuqbZ7WO9gb0p3HMQ0FrEkAJq/2g0mTNw6BfLHDWhtg6ntmt986vils3+7oyorXZB3JNq/zMeNUrRAnhUzmzO1wJUYgbQOg2CWbpjORnGNNfYIMYkpMS0kaaUzBT98tzkelxjUAFl8cTsiQ67aZ/1NfDHLzuR5LWR395/vTnHBVAnW0C+9OF9N5bBbU5DAvrtrYscBmsUDklfmjV87X3sb9T/EvbPkmgY82DphnbLEu5+O5xXbpVTDFW1LjNSc1q8ujMImRzu8A2NKQItNjkoQ9U31Coe1DrKwwNhLe7mT9oA2/O5x99fNPF6odhm+K+iJJWjVCO+npDc8GgAaqQsPBQEW1rjPFylxfXJbPoRZNs8tgAAACZBmiRsQ3/+p4QDHN2TSUn0h9gB7upNy9Lt2yy/dAAAJp/67KvG4QAAAA9BnkJ4hX8BsTrGz1BN0W4AAAALAZ5hdEJ/AElaRmEAAAAJAZ5jakJ/ADehAAAAEkGaaEmoQWiZTAhv//6nhAA1IAAAAAtBnoZFESwr/wArYQAAAAkBnqV0Qn8AN6AAAAAJAZ6nakJ/ADehAAAAEkGarEmoQWyZTAhv//6nhAA1IQAAAAtBnspFFSwr/wArYAAAAAkBnul0Qn8AN6AAAAAJAZ7rakJ/ADehAAAAEkGa8EmoQWyZTAhv//6nhAA1IAAAAAtBnw5FFSwr/wArYQAAAAkBny10Qn8AN6AAAAAJAZ8vakJ/ADehAAAAEkGbNEmoQWyZTAhv//6nhAA1IQAAAAtBn1JFFSwr/wArYQAAAAkBn3F0Qn8AN6EAAAAJAZ9zakJ/ADegAAAAEkGbeEmoQWyZTAhv//6nhAA1IAAAAAtBn5ZFFSwr/wArYQAAAAkBn7V0Qn8AN6AAAAAJAZ+3akJ/ADegAAAAEkGbvEmoQWyZTAhv//6nhAA1IQAAAAtBn9pFFSwr/wArYQAAAAkBn/l0Qn8AN6EAAAAJAZ/7akJ/ADegAAAAEkGb4EmoQWyZTAhv//6nhAA1IAAAAAtBnh5FFSwr/wArYQAAAAkBnj10Qn8AN6AAAAAJAZ4/akJ/ADegAAAAEkGaJEmoQWyZTAhv//6nhAA1IQAAAAtBnkJFFSwr/wArYAAAAAkBnmF0Qn8AN6EAAAAJAZ5jakJ/ADehAAAAEkGaaEmoQWyZTAhv//6nhAA1IAAAAAtBnoZFFSwr/wArYQAAAAkBnqV0Qn8AN6AAAAAJAZ6nakJ/ADehAAAAEkGarEmoQWyZTAhv//6nhAA1IQAAAAtBnspFFSwr/wArYAAAAAkBnul0Qn8AN6AAAAAJAZ7rakJ/ADehAAAAEkGa8EmoQWyZTAhv//6nhAA1IAAAAAtBnw5FFSwr/wArYQAAAAkBny10Qn8AN6AAAAAJAZ8vakJ/ADehAAAAEkGbNEmoQWyZTAhv//6nhAA1IQAAAAtBn1JFFSwr/wArYQAAAAkBn3F0Qn8AN6EAAAAJAZ9zakJ/ADegAAAAEkGbeEmoQWyZTAhv//6nhAA1IAAAAAtBn5ZFFSwr/wArYQAAAAkBn7V0Qn8AN6AAAAAJAZ+3akJ/ADegAAAAEkGbvEmoQWyZTAhv//6nhAA1IQAAAAtBn9pFFSwr/wArYQAAAAkBn/l0Qn8AN6EAAAAJAZ/7akJ/ADegAAAAEkGb4EmoQWyZTAhv//6nhAA1IAAAAAtBnh5FFSwr/wArYQAAAAkBnj10Qn8AN6AAAAAJAZ4/akJ/ADegAAAAEkGaJEmoQWyZTAhv//6nhAA1IQAAAAtBnkJFFSwr/wArYAAAAAkBnmF0Qn8AN6EAAAAJAZ5jakJ/ADehAAAAEkGaaEmoQWyZTAhv//6nhAA1IAAAAAtBnoZFFSwr/wArYQAAAAkBnqV0Qn8AN6AAAAAJAZ6nakJ/ADehAAAAEkGarEmoQWyZTAhv//6nhAA1IQAAAAtBnspFFSwr/wArYAAAAAkBnul0Qn8AN6AAAAAJAZ7rakJ/ADehAAAAEkGa8EmoQWyZTAhv//6nhAA1IAAAAAtBnw5FFSwr/wArYQAAAAkBny10Qn8AN6AAAAAJAZ8vakJ/ADehAAAAEkGbNEmoQWyZTAhv//6nhAA1IQAAAAtBn1JFFSwr/wArYQAAAAkBn3F0Qn8AN6EAAAAJAZ9zakJ/ADegAAAAEkGbeEmoQWyZTAhv//6nhAA1IAAAAAtBn5ZFFSwr/wArYQAAAAkBn7V0Qn8AN6AAAAAJAZ+3akJ/ADegAAAAEkGbvEmoQWyZTAhv//6nhAA1IQAAAAtBn9pFFSwr/wArYQAAAAkBn/l0Qn8AN6EAAAAJAZ/7akJ/ADegAAAAEkGb4EmoQWyZTAhv//6nhAA1IAAAAAtBnh5FFSwr/wArYQAAAAkBnj10Qn8AN6AAAAAJAZ4/akJ/ADegAAAAEkGaJEmoQWyZTAhv//6nhAA1IQAAAAtBnkJFFSwr/wArYAAAAAkBnmF0Qn8AN6EAAAAJAZ5jakJ/ADehAAAAEkGaaEmoQWyZTAhv//6nhAA1IAAAAAtBnoZFFSwr/wArYQAAAAkBnqV0Qn8AN6AAAAAJAZ6nakJ/ADehAAAAEkGarEmoQWyZTAhv//6nhAA1IQAAAAtBnspFFSwr/wArYAAAAAkBnul0Qn8AN6AAAAAJAZ7rakJ/ADehAAAAEkGa8EmoQWyZTAhv//6nhAA1IAAAAAtBnw5FFSwr/wArYQAAAAkBny10Qn8AN6AAAAAJAZ8vakJ/ADehAAAAEkGbNEmoQWyZTAhv//6nhAA1IQAAAAtBn1JFFSwr/wArYQAAAAkBn3F0Qn8AN6EAAAAJAZ9zakJ/ADegAAAAEkGbeEmoQWyZTAhv//6nhAA1IAAAAAtBn5ZFFSwr/wArYQAAAAkBn7V0Qn8AN6AAAAAJAZ+3akJ/ADegAAAAEkGbvEmoQWyZTAhv//6nhAA1IQAAAAtBn9pFFSwr/wArYQAAAAkBn/l0Qn8AN6EAAAAJAZ/7akJ/ADegAAAAEkGb4EmoQWyZTAhv//6nhAA1IAAAAAtBnh5FFSwr/wArYQAAAAkBnj10Qn8AN6AAAAAJAZ4/akJ/ADegAAAAEkGaJEmoQWyZTAhv//6nhAA1IQAAAAtBnkJFFSwr/wArYAAAAAkBnmF0Qn8AN6EAAAAJAZ5jakJ/ADehAAAAEkGaaEmoQWyZTAhv//6nhAA1IAAAAAtBnoZFFSwr/wArYQAAAAkBnqV0Qn8AN6AAAAAJAZ6nakJ/ADehAAAAEkGarEmoQWyZTAhv//6nhAA1IQAAAAtBnspFFSwr/wArYAAAAAkBnul0Qn8AN6AAAAAJAZ7rakJ/ADehAAAAEkGa8EmoQWyZTAhv//6nhAA1IAAAAAtBnw5FFSwr/wArYQAAAAkBny10Qn8AN6AAAAAJAZ8vakJ/ADehAAAAEkGbNEmoQWyZTAhv//6nhAA1IQAAAAtBn1JFFSwr/wArYQAAAAkBn3F0Qn8AN6EAAAAJAZ9zakJ/ADegAAAAEkGbeEmoQWyZTAhv//6nhAA1IAAAAAtBn5ZFFSwr/wArYQAAAAkBn7V0Qn8AN6AAAAAJAZ+3akJ/ADegAAAAEkGbvEmoQWyZTAhv//6nhAA1IQAAAAtBn9pFFSwr/wArYQAAAAkBn/l0Qn8AN6EAAAAJAZ/7akJ/ADegAAAAEkGb4EmoQWyZTAhv//6nhAA1IAAAAAtBnh5FFSwr/wArYQAAAAkBnj10Qn8AN6AAAAAJAZ4/akJ/ADegAAAAEkGaJEmoQWyZTAhv//6nhAA1IQAAAAtBnkJFFSwr/wArYAAAAAkBnmF0Qn8AN6EAAAAJAZ5jakJ/ADehAAAAEkGaaEmoQWyZTAhv//6nhAA1IAAAAAtBnoZFFSwr/wArYQAAAAkBnqV0Qn8AN6AAAAAJAZ6nakJ/ADehAAAAEkGarEmoQWyZTAhv//6nhAA1IQAAAAtBnspFFSwr/wArYAAAAAkBnul0Qn8AN6AAAAAJAZ7rakJ/ADehAAAAEkGa8EmoQWyZTAhv//6nhAA1IAAAAAtBnw5FFSwr/wArYQAAAAkBny10Qn8AN6AAAAAJAZ8vakJ/ADehAAAAEkGbNEmoQWyZTAhv//6nhAA1IQAAAAtBn1JFFSwr/wArYQAAAAkBn3F0Qn8AN6EAAAAJAZ9zakJ/ADegAAAAEkGbeEmoQWyZTAhv//6nhAA1IAAAAAtBn5ZFFSwr/wArYQAAAAkBn7V0Qn8AN6AAAAAJAZ+3akJ/ADegAAAAEkGbvEmoQWyZTAhv//6nhAA1IQAAAAtBn9pFFSwr/wArYQAAAAkBn/l0Qn8AN6EAAAAJAZ/7akJ/ADegAAAAEkGb4EmoQWyZTAhv//6nhAA1IAAAAAtBnh5FFSwr/wArYQAAAAkBnj10Qn8AN6AAAAAJAZ4/akJ/ADegAAAAEkGaJEmoQWyZTAhv//6nhAA1IQAAAAtBnkJFFSwr/wArYAAAAAkBnmF0Qn8AN6EAAAAJAZ5jakJ/ADehAAAAEkGaaEmoQWyZTAhv//6nhAA1IAAAAAtBnoZFFSwr/wArYQAAAAkBnqV0Qn8AN6AAAAAJAZ6nakJ/ADehAAAAEkGarEmoQWyZTAhv//6nhAA1IQAAAAtBnspFFSwr/wArYAAAAAkBnul0Qn8AN6AAAAAJAZ7rakJ/ADehAAAAEkGa8EmoQWyZTAhv//6nhAA1IAAAAAtBnw5FFSwr/wArYQAAAAkBny10Qn8AN6AAAAAJAZ8vakJ/ADehAAAAEkGbNEmoQWyZTAhv//6nhAA1IQAAAAtBn1JFFSwr/wArYQAAAAkBn3F0Qn8AN6EAAAAJAZ9zakJ/ADegAAAAEkGbeEmoQWyZTAhv//6nhAA1IAAAAAtBn5ZFFSwr/wArYQAAAAkBn7V0Qn8AN6AAAAAJAZ+3akJ/ADegAAAAEkGbvEmoQWyZTAhv//6nhAA1IQAAAAtBn9pFFSwr/wArYQAAAAkBn/l0Qn8AN6EAAAAJAZ/7akJ/ADegAAAAEkGb4EmoQWyZTAhv//6nhAA1IAAAAAtBnh5FFSwr/wArYQAAAAkBnj10Qn8AN6AAAAAJAZ4/akJ/ADegAAAAEkGaJEmoQWyZTAhv//6nhAA1IQAAAAtBnkJFFSwr/wArYAAAAAkBnmF0Qn8AN6EAAAAJAZ5jakJ/ADehAAAAEkGaaEmoQWyZTAhv//6nhAA1IAAAAAtBnoZFFSwr/wArYQAAAAkBnqV0Qn8AN6AAAAAJAZ6nakJ/ADehAAAAEkGarEmoQWyZTAhv//6nhAA1IQAAAAtBnspFFSwr/wArYAAAAAkBnul0Qn8AN6AAAAAJAZ7rakJ/ADehAAAAEkGa8EmoQWyZTAhv//6nhAA1IAAAAAtBnw5FFSwr/wArYQAAAAkBny10Qn8AN6AAAAAJAZ8vakJ/ADehAAAAEkGbNEmoQWyZTAhv//6nhAA1IQAAAAtBn1JFFSwr/wArYQAAAAkBn3F0Qn8AN6EAAAAJAZ9zakJ/ADegAAAAEkGbeEmoQWyZTAhv//6nhAA1IAAAAAtBn5ZFFSwr/wArYQAAAAkBn7V0Qn8AN6AAAAAJAZ+3akJ/ADegAAAAEUGbuUmoQWyZTAhP//3xAAelAAACT2WIggAEP/73gb8yy2Q/qsZf2kIaQwADpwvvqFKeT729Y0+BjhAgvUqZ8RGi++J3OJMggLEwwfVVpIWSLUtq8cFtxU0JDyhLYHsL0/U+RLzWfRuAdMCB7FUY5NzOQbYSxYLdfezd7ayLpNAmlBkcAC2EJ+fJ1SlMC50MH/cHUBEfvqhIEB8pFfqzKwvZyjN5rILRGAnB3WfKyetfXz6OMXgk9BAtFdvabKlvmJ3eWTscp404IafjNOfVH+o7pSUu2wNMsZaPPs3rXjKFMCw1ZvNwMGjyCwUvPkJw5XnWx9lDrnupmQ3IleNbVpsrLgATFL9tn4Ff298lUp36lFEIg+TFuT4+I5SaRsZAmjiu2FgXzUNKSpYmAABjRFPxum2Sd2tZFEsjiaBK3MVRFxKrbu0R6IjRZKtLPESIzyuhuqbZ7WO9gb0p3HMQ0FrEkAJq/2g0mTNw6BfLHDWhtg6ntmt986vils3+7oyorXZB3JNq/zMeNUrRAnhUzmzO1wJUYgbQOg2CWbpjORnGNNfYIMYkpMS0kaaUzBT98tzkelxjUAFl8cTsiQ67aZ/1NfDHLzuR5LWR395/vTnHBVAnW0C+9OF9N5bBbU5DAvrtrYscBmsUDklfmjV87X3sb9T/EvbPkmgY82DphnbLEu5+O5xXbpVTDFW1LjNSc1q8ujMImRzu8A2NKQItNjkoQ9U31Coe1DrKwwNhLe7mT9oA2/O5x99fNPF6odhm+K+iJJWjVCO+npDc8GgAaqQsPBQEW1rjPFylxfXJbPoRZNs8twAAACZBmiRsQ3/+p4QDHN2TSUn0h9gB7upNy9Lt2yy/dAAAJp/67KvG4QAAAA9BnkJ4hX8BsTrGz1BN0W4AAAALAZ5hdEJ/AElaRmAAAAAJAZ5jakJ/ADehAAAAEkGaaEmoQWiZTAhv//6nhAA1IAAAAAtBnoZFESwr/wArYAAAAAkBnqV0Qn8AN6EAAAAJAZ6nakJ/ADegAAAAEkGarEmoQWyZTAhv//6nhAA1IQAAAAtBnspFFSwr/wArYQAAAAkBnul0Qn8AN6AAAAAJAZ7rakJ/ADehAAAAEkGa8EmoQWyZTAhv//6nhAA1IAAAAAtBnw5FFSwr/wArYQAAAAkBny10Qn8AN6EAAAAJAZ8vakJ/ADegAAAAEkGbNEmoQWyZTAhv//6nhAA1IAAAAAtBn1JFFSwr/wArYQAAAAkBn3F0Qn8AN6AAAAAJAZ9zakJ/ADehAAAAEkGbeEmoQWyZTAhv//6nhAA1IAAAAAtBn5ZFFSwr/wArYQAAAAkBn7V0Qn8AN6EAAAAJAZ+3akJ/ADehAAAAEkGbvEmoQWyZTAhv//6nhAA1IQAAAAtBn9pFFSwr/wArYAAAAAkBn/l0Qn8AN6AAAAAJAZ/7akJ/ADehAAAAEkGb4EmoQWyZTAhv//6nhAA1IAAAAAtBnh5FFSwr/wArYAAAAAkBnj10Qn8AN6EAAAAJAZ4/akJ/ADehAAAAEkGaJEmoQWyZTAhv//6nhAA1IQAAAAtBnkJFFSwr/wArYAAAAAkBnmF0Qn8AN6AAAAAJAZ5jakJ/ADehAAAAEkGaaEmoQWyZTAhv//6nhAA1IAAAAAtBnoZFFSwr/wArYAAAAAkBnqV0Qn8AN6EAAAAJAZ6nakJ/ADegAAAAEkGarEmoQWyZTAhv//6nhAA1IQAAAAtBnspFFSwr/wArYQAAAAkBnul0Qn8AN6AAAAAJAZ7rakJ/ADehAAAAEkGa8EmoQWyZTAhv//6nhAA1IAAAAAtBnw5FFSwr/wArYQAAAAkBny10Qn8AN6EAAAAJAZ8vakJ/ADegAAAAEkGbNEmoQWyZTAhv//6nhAA1IAAAAAtBn1JFFSwr/wArYQAAAAkBn3F0Qn8AN6AAAAAJAZ9zakJ/ADehAAAAEkGbeEmoQWyZTAhv//6nhAA1IAAAAAtBn5ZFFSwr/wArYQAAAAkBn7V0Qn8AN6EAAAAJAZ+3akJ/ADehAAAAEkGbvEmoQWyZTAhv//6nhAA1IQAAAAtBn9pFFSwr/wArYAAAAAkBn/l0Qn8AN6AAAAAJAZ/7akJ/ADehAAAAEkGb4EmoQWyZTAhv//6nhAA1IAAAAAtBnh5FFSwr/wArYAAAAAkBnj10Qn8AN6EAAAAJAZ4/akJ/ADehAAAAEkGaJEmoQWyZTAhv//6nhAA1IQAAAAtBnkJFFSwr/wArYAAAAAkBnmF0Qn8AN6AAAAAJAZ5jakJ/ADehAAAAEkGaaEmoQWyZTAhv//6nhAA1IAAAAAtBnoZFFSwr/wArYAAAAAkBnqV0Qn8AN6EAAAAJAZ6nakJ/ADegAAAAEkGarEmoQWyZTAhv//6nhAA1IQAAAAtBnspFFSwr/wArYQAAAAkBnul0Qn8AN6AAAAAJAZ7rakJ/ADehAAAAEkGa8EmoQWyZTAhv//6nhAA1IAAAAAtBnw5FFSwr/wArYQAAAAkBny10Qn8AN6EAAAAJAZ8vakJ/ADegAAAAEkGbNEmoQWyZTAhv//6nhAA1IAAAAAtBn1JFFSwr/wArYQAAAAkBn3F0Qn8AN6AAAAAJAZ9zakJ/ADehAAAAEkGbeEmoQWyZTAhv//6nhAA1IAAAAAtBn5ZFFSwr/wArYQAAAAkBn7V0Qn8AN6EAAAAJAZ+3akJ/ADehAAAAEkGbvEmoQWyZTAhv//6nhAA1IQAAAAtBn9pFFSwr/wArYAAAAAkBn/l0Qn8AN6AAAAAJAZ/7akJ/ADehAAAAEkGb4EmoQWyZTAhv//6nhAA1IAAAAAtBnh5FFSwr/wArYAAAAAkBnj10Qn8AN6EAAAAJAZ4/akJ/ADehAAAAEkGaJEmoQWyZTAhv//6nhAA1IQAAAAtBnkJFFSwr/wArYAAAAAkBnmF0Qn8AN6AAAAAJAZ5jakJ/ADehAAAAEkGaaEmoQWyZTAhv//6nhAA1IAAAAAtBnoZFFSwr/wArYAAAAAkBnqV0Qn8AN6EAAAAJAZ6nakJ/ADegAAAAEkGarEmoQWyZTAhv//6nhAA1IQAAAAtBnspFFSwr/wArYQAAAAkBnul0Qn8AN6AAAAAJAZ7rakJ/ADehAAAAEkGa8EmoQWyZTAhv//6nhAA1IAAAAAtBnw5FFSwr/wArYQAAAAkBny10Qn8AN6EAAAAJAZ8vakJ/ADegAAAAEkGbNEmoQWyZTAhv//6nhAA1IAAAAAtBn1JFFSwr/wArYQAAAAkBn3F0Qn8AN6AAAAAJAZ9zakJ/ADehAAAAEkGbeEmoQWyZTAhv//6nhAA1IAAAAAtBn5ZFFSwr/wArYQAAAAkBn7V0Qn8AN6EAAAAJAZ+3akJ/ADehAAAAEkGbvEmoQWyZTAhv//6nhAA1IQAAAAtBn9pFFSwr/wArYAAAAAkBn/l0Qn8AN6AAAAAJAZ/7akJ/ADehAAAAEkGb4EmoQWyZTAhv//6nhAA1IAAAAAtBnh5FFSwr/wArYAAAAAkBnj10Qn8AN6EAAAAJAZ4/akJ/ADehAAAAEkGaJEmoQWyZTAhv//6nhAA1IQAAAAtBnkJFFSwr/wArYAAAAAkBnmF0Qn8AN6AAAAAJAZ5jakJ/ADehAAAAEkGaaEmoQWyZTAhv//6nhAA1IAAAAAtBnoZFFSwr/wArYAAAAAkBnqV0Qn8AN6EAAAAJAZ6nakJ/ADegAAAAEkGarEmoQWyZTAhv//6nhAA1IQAAAAtBnspFFSwr/wArYQAAAAkBnul0Qn8AN6AAAAAJAZ7rakJ/ADehAAAAEkGa8EmoQWyZTAhv//6nhAA1IAAAAAtBnw5FFSwr/wArYQAAAAkBny10Qn8AN6EAAAAJAZ8vakJ/ADegAAAAEkGbNEmoQWyZTAhv//6nhAA1IAAAAAtBn1JFFSwr/wArYQAAAAkBn3F0Qn8AN6AAAAAJAZ9zakJ/ADehAAAAEkGbeEmoQWyZTAhv//6nhAA1IAAAAAtBn5ZFFSwr/wArYQAAAAkBn7V0Qn8AN6EAAAAJAZ+3akJ/ADehAAAAEkGbvEmoQWyZTAhv//6nhAA1IQAAAAtBn9pFFSwr/wArYAAAAAkBn/l0Qn8AN6AAAAAJAZ/7akJ/ADehAAAAEkGb4EmoQWyZTAhv//6nhAA1IAAAAAtBnh5FFSwr/wArYAAAAAkBnj10Qn8AN6EAAAAJAZ4/akJ/ADehAAAAEkGaJEmoQWyZTAhv//6nhAA1IQAAAAtBnkJFFSwr/wArYAAAAAkBnmF0Qn8AN6AAAAAJAZ5jakJ/ADehAAAAEkGaaEmoQWyZTAhv//6nhAA1IAAAAAtBnoZFFSwr/wArYAAAAAkBnqV0Qn8AN6EAAAAJAZ6nakJ/ADegAAAAEkGarEmoQWyZTAhv//6nhAA1IQAAAAtBnspFFSwr/wArYQAAAAkBnul0Qn8AN6AAAAAJAZ7rakJ/ADehAAAAEkGa8EmoQWyZTAhv//6nhAA1IAAAAAtBnw5FFSwr/wArYQAAAAkBny10Qn8AN6EAAAAJAZ8vakJ/ADegAAAAEkGbNEmoQWyZTAhv//6nhAA1IAAAAAtBn1JFFSwr/wArYQAAAAkBn3F0Qn8AN6AAAAAJAZ9zakJ/ADehAAAAEkGbeEmoQWyZTAhv//6nhAA1IAAAAAtBn5ZFFSwr/wArYQAAAAkBn7V0Qn8AN6EAAAAJAZ+3akJ/ADehAAAAEkGbvEmoQWyZTAhv//6nhAA1IQAAAAtBn9pFFSwr/wArYAAAAAkBn/l0Qn8AN6AAAAAJAZ/7akJ/ADehAAAAEkGb4EmoQWyZTAhv//6nhAA1IAAAAAtBnh5FFSwr/wArYAAAAAkBnj10Qn8AN6EAAAAJAZ4/akJ/ADehAAAAEkGaJEmoQWyZTAhv//6nhAA1IQAAAAtBnkJFFSwr/wArYAAAAAkBnmF0Qn8AN6AAAAAJAZ5jakJ/ADehAAAAEkGaaEmoQWyZTAhv//6nhAA1IAAAAAtBnoZFFSwr/wArYAAAAAkBnqV0Qn8AN6EAAAAJAZ6nakJ/ADegAAAAEkGarEmoQWyZTAhv//6nhAA1IQAAAAtBnspFFSwr/wArYQAAAAkBnul0Qn8AN6AAAAAJAZ7rakJ/ADehAAAAEkGa8EmoQWyZTAhv//6nhAA1IAAAAAtBnw5FFSwr/wArYQAAAAkBny10Qn8AN6EAAAAJAZ8vakJ/ADegAAAAEkGbNEmoQWyZTAhv//6nhAA1IAAAAAtBn1JFFSwr/wArYQAAAAkBn3F0Qn8AN6AAAAAJAZ9zakJ/ADehAAAAEkGbeEmoQWyZTAhv//6nhAA1IAAAAAtBn5ZFFSwr/wArYQAAAAkBn7V0Qn8AN6EAAAAJAZ+3akJ/ADehAAAAEkGbvEmoQWyZTAhv//6nhAA1IQAAAAtBn9pFFSwr/wArYAAAAAkBn/l0Qn8AN6AAAAAJAZ/7akJ/ADehAAAAEkGb4EmoQWyZTAhv//6nhAA1IAAAAAtBnh5FFSwr/wArYAAAAAkBnj10Qn8AN6EAAAAJAZ4/akJ/ADehAAAAEkGaJEmoQWyZTAhv//6nhAA1IQAAAAtBnkJFFSwr/wArYAAAAAkBnmF0Qn8AN6AAAAAJAZ5jakJ/ADehAAAAEkGaaEmoQWyZTAhv//6nhAA1IAAAAAtBnoZFFSwr/wArYAAAAAkBnqV0Qn8AN6EAAAAJAZ6nakJ/ADegAAAAEkGarEmoQWyZTAhv//6nhAA1IQAAAAtBnspFFSwr/wArYQAAAAkBnul0Qn8AN6AAAAAJAZ7rakJ/ADehAAAAEkGa8EmoQWyZTAhv//6nhAA1IAAAAAtBnw5FFSwr/wArYQAAAAkBny10Qn8AN6EAAAAJAZ8vakJ/ADegAAAAEkGbNEmoQWyZTAhn//6eEADPgAAAAAtBn1JFFSwr/wArYQAAAAkBn3F0Qn8AN6AAAAAJAZ9zakJ/ADehAAAAEkGbeEmoQWyZTAhf//6MsADQgAAAAAtBn5ZFFSwr/wArYQAAAAkBn7V0Qn8AN6EAAAAJAZ+3akJ/ADehAAAAEUGbuUmoQWyZTAhP//3xAAelAAABzmWIhAAz//727L4FNhTIUGV5w7TCGgA2toz3S7fdEAT+LejW5o3BP52RqQMQVVcVs5T/D9ib2YlkOeiqZP2Au7D0Sfbim5Iy6gKL2p5A4l6fO5QtRpmzZqspytzOfWKh164wCO/3TwYvs1Pty7R6VzNWHvOz9OgAqPVuPbTn6iveskA0DxMmjJPgT8yA7TJwccgz6TI/Paoa5U/PWuHAxtdSohWSDpuXjPcFEviveFfOyaXGw2Pi5IHpJPGTIm1/BKLR6g3tY34VkeLqgBVFwUewGD/H5Hgqgra6DZAl+fTPT99tK5BKeKAjUP/UhNdl4AYqfamcAKaP4Qr04zMR2BjYP6HZTyatYxaA/vLx4hN6byd4LBPIDsAZid6UIDCXKMAcT/K3fAmNNlL30ZawlOoQQKieJt6+cCXGt73KIv3HZoBuIkE+2fyMFfZJpa0TAIKEtH6B2gA1DCa3+vnKU1taf+lfIRI9I+sWHrVRblMh67vYYKqye+hJ7UX0zHFFrjozxnP1qdmgbMKQWA4JgbQxOffH0H0DwqAQAdHEFCWkvjv8sOnoJ23r7IEXj9fsuPEqgWlZ2wZqtGVbDZPPEmj2fScZ9k8rjHXBFUCVgAAAMe9tb292AAAAbG12aGQAAAAAAAAAAAAAAAAAAAPoAACCVwABAAABAAAAAAAAAAAAAAAAAQAAAAAAAAAAAAAAAAAAAAEAAAAAAAAAAAAAAAAAAEAAAAAAAAAAAAAAAAAAAAAAAAAAAAAAAAAAAAAAAAACAAAxGXRyYWsAAABcdGtoZAAAAAMAAAAAAAAAAAAAAAEAAAAAAACCVwAAAAAAAAAAAAAAAAAAAAAAAQAAAAAAAAAAAAAAAAAAAAEAAAAAAAAAAAAAAAAAAEAAAAAAoAAAANIAAAAAACRlZHRzAAAAHGVsc3QAAAAAAAAAAQAAglcAAAQAAAEAAAAAMJFtZGlhAAAAIG1kaGQAAAAAAAAAAAAAAAAAADwAAAfSAFXEAAAAAAAtaGRscgAAAAAAAAAAdmlkZQAAAAAAAAAAAAAAAFZpZGVvSGFuZGxlcgAAADA8bWluZgAAABR2bWhkAAAAAQAAAAAAAAAAAAAAJGRpbmYAAAAcZHJlZgAAAAAAAAABAAAADHVybCAAAAABAAAv/HN0YmwAAACYc3RzZAAAAAAAAAABAAAAiGF2YzEAAAAAAAAAAQAAAAAAAAAAAAAAAAAAAAAAoADSAEgAAABIAAAAAAAAAAEAAAAAAAAAAAAAAAAAAAAAAAAAAAAAAAAAAAAAAAAAAAAY//8AAAAyYXZjQwFkAAz/4QAZZ2QADKzZQod+IhAAAAMAEAAAAwPA8UKZYAEABmjr48siwAAAABhzdHRzAAAAAAAAAAEAAAPpAAACAAAAACRzdHNzAAAAAAAAAAUAAAABAAAA+wAAAfUAAALvAAAD6QAAHzhjdHRzAAAAAAAAA+UAAAABAAAEAAAAAAEAAAoAAAAAAQAABAAAAAABAAAAAAAAAAEAAAIAAAAAAQAACgAAAAABAAAEAAAAAAEAAAAAAAAAAQAAAgAAAAABAAAKAAAAAAEAAAQAAAAAAQAAAAAAAAABAAACAAAAAAEAAAoAAAAAAQAABAAAAAABAAAAAAAAAAEAAAIAAAAAAQAACgAAAAABAAAEAAAAAAEAAAAAAAAAAQAAAgAAAAABAAAKAAAAAAEAAAQAAAAAAQAAAAAAAAABAAACAAAAAAEAAAoAAAAAAQAABAAAAAABAAAAAAAAAAEAAAIAAAAAAQAACgAAAAABAAAEAAAAAAEAAAAAAAAAAQAAAgAAAAABAAAKAAAAAAEAAAQAAAAAAQAAAAAAAAABAAACAAAAAAEAAAoAAAAAAQAABAAAAAABAAAAAAAAAAEAAAIAAAAAAQAACgAAAAABAAAEAAAAAAEAAAAAAAAAAQAAAgAAAAABAAAKAAAAAAEAAAQAAAAAAQAAAAAAAAABAAACAAAAAAEAAAoAAAAAAQAABAAAAAABAAAAAAAAAAEAAAIAAAAAAQAACgAAAAABAAAEAAAAAAEAAAAAAAAAAQAAAgAAAAABAAAKAAAAAAEAAAQAAAAAAQAAAAAAAAABAAACAAAAAAEAAAoAAAAAAQAABAAAAAABAAAAAAAAAAEAAAIAAAAAAQAACgAAAAABAAAEAAAAAAEAAAAAAAAAAQAAAgAAAAABAAAKAAAAAAEAAAQAAAAAAQAAAAAAAAABAAACAAAAAAEAAAoAAAAAAQAABAAAAAABAAAAAAAAAAEAAAIAAAAAAQAACgAAAAABAAAEAAAAAAEAAAAAAAAAAQAAAgAAAAABAAAKAAAAAAEAAAQAAAAAAQAAAAAAAAABAAACAAAAAAEAAAoAAAAAAQAABAAAAAABAAAAAAAAAAEAAAIAAAAAAQAACgAAAAABAAAEAAAAAAEAAAAAAAAAAQAAAgAAAAABAAAKAAAAAAEAAAQAAAAAAQAAAAAAAAABAAACAAAAAAEAAAoAAAAAAQAABAAAAAABAAAAAAAAAAEAAAIAAAAAAQAACgAAAAABAAAEAAAAAAEAAAAAAAAAAQAAAgAAAAABAAAKAAAAAAEAAAQAAAAAAQAAAAAAAAABAAACAAAAAAEAAAoAAAAAAQAABAAAAAABAAAAAAAAAAEAAAIAAAAAAQAACgAAAAABAAAEAAAAAAEAAAAAAAAAAQAAAgAAAAABAAAKAAAAAAEAAAQAAAAAAQAAAAAAAAABAAACAAAAAAEAAAoAAAAAAQAABAAAAAABAAAAAAAAAAEAAAIAAAAAAQAACgAAAAABAAAEAAAAAAEAAAAAAAAAAQAAAgAAAAABAAAKAAAAAAEAAAQAAAAAAQAAAAAAAAABAAACAAAAAAEAAAoAAAAAAQAABAAAAAABAAAAAAAAAAEAAAIAAAAAAQAACgAAAAABAAAEAAAAAAEAAAAAAAAAAQAAAgAAAAABAAAKAAAAAAEAAAQAAAAAAQAAAAAAAAABAAACAAAAAAEAAAoAAAAAAQAABAAAAAABAAAAAAAAAAEAAAIAAAAAAQAACgAAAAABAAAEAAAAAAEAAAAAAAAAAQAAAgAAAAABAAAKAAAAAAEAAAQAAAAAAQAAAAAAAAABAAACAAAAAAEAAAoAAAAAAQAABAAAAAABAAAAAAAAAAEAAAIAAAAAAQAACgAAAAABAAAEAAAAAAEAAAAAAAAAAQAAAgAAAAABAAAKAAAAAAEAAAQAAAAAAQAAAAAAAAABAAACAAAAAAEAAAoAAAAAAQAABAAAAAABAAAAAAAAAAEAAAIAAAAAAQAACgAAAAABAAAEAAAAAAEAAAAAAAAAAQAAAgAAAAABAAAKAAAAAAEAAAQAAAAAAQAAAAAAAAABAAACAAAAAAEAAAoAAAAAAQAABAAAAAABAAAAAAAAAAEAAAIAAAAAAQAACgAAAAABAAAEAAAAAAEAAAAAAAAAAQAAAgAAAAABAAAKAAAAAAEAAAQAAAAAAQAAAAAAAAABAAACAAAAAAEAAAoAAAAAAQAABAAAAAABAAAAAAAAAAEAAAIAAAAAAQAACgAAAAABAAAEAAAAAAEAAAAAAAAAAQAAAgAAAAABAAAKAAAAAAEAAAQAAAAAAQAAAAAAAAABAAACAAAAAAEAAAoAAAAAAQAABAAAAAABAAAAAAAAAAEAAAIAAAAAAQAACgAAAAABAAAEAAAAAAEAAAAAAAAAAQAAAgAAAAABAAAKAAAAAAEAAAQAAAAAAQAAAAAAAAABAAACAAAAAAEAAAoAAAAAAQAABAAAAAABAAAAAAAAAAEAAAIAAAAAAQAACgAAAAABAAAEAAAAAAEAAAAAAAAAAQAAAgAAAAABAAAKAAAAAAEAAAQAAAAAAQAAAAAAAAABAAACAAAAAAEAAAoAAAAAAQAABAAAAAABAAAAAAAAAAEAAAIAAAAAAQAACgAAAAABAAAEAAAAAAEAAAAAAAAAAQAAAgAAAAABAAAKAAAAAAEAAAQAAAAAAQAAAAAAAAABAAACAAAAAAEAAAoAAAAAAQAABAAAAAABAAAAAAAAAAEAAAIAAAAAAQAACgAAAAABAAAEAAAAAAEAAAAAAAAAAQAAAgAAAAACAAAEAAAAAAEAAAoAAAAAAQAABAAAAAABAAAAAAAAAAEAAAIAAAAAAQAACgAAAAABAAAEAAAAAAEAAAAAAAAAAQAAAgAAAAABAAAKAAAAAAEAAAQAAAAAAQAAAAAAAAABAAACAAAAAAEAAAoAAAAAAQAABAAAAAABAAAAAAAAAAEAAAIAAAAAAQAACgAAAAABAAAEAAAAAAEAAAAAAAAAAQAAAgAAAAABAAAKAAAAAAEAAAQAAAAAAQAAAAAAAAABAAACAAAAAAEAAAoAAAAAAQAABAAAAAABAAAAAAAAAAEAAAIAAAAAAQAACgAAAAABAAAEAAAAAAEAAAAAAAAAAQAAAgAAAAABAAAKAAAAAAEAAAQAAAAAAQAAAAAAAAABAAACAAAAAAEAAAoAAAAAAQAABAAAAAABAAAAAAAAAAEAAAIAAAAAAQAACgAAAAABAAAEAAAAAAEAAAAAAAAAAQAAAgAAAAABAAAKAAAAAAEAAAQAAAAAAQAAAAAAAAABAAACAAAAAAEAAAoAAAAAAQAABAAAAAABAAAAAAAAAAEAAAIAAAAAAQAACgAAAAABAAAEAAAAAAEAAAAAAAAAAQAAAgAAAAABAAAKAAAAAAEAAAQAAAAAAQAAAAAAAAABAAACAAAAAAEAAAoAAAAAAQAABAAAAAABAAAAAAAAAAEAAAIAAAAAAQAACgAAAAABAAAEAAAAAAEAAAAAAAAAAQAAAgAAAAABAAAKAAAAAAEAAAQAAAAAAQAAAAAAAAABAAACAAAAAAEAAAoAAAAAAQAABAAAAAABAAAAAAAAAAEAAAIAAAAAAQAACgAAAAABAAAEAAAAAAEAAAAAAAAAAQAAAgAAAAABAAAKAAAAAAEAAAQAAAAAAQAAAAAAAAABAAACAAAAAAEAAAoAAAAAAQAABAAAAAABAAAAAAAAAAEAAAIAAAAAAQAACgAAAAABAAAEAAAAAAEAAAAAAAAAAQAAAgAAAAABAAAKAAAAAAEAAAQAAAAAAQAAAAAAAAABAAACAAAAAAEAAAoAAAAAAQAABAAAAAABAAAAAAAAAAEAAAIAAAAAAQAACgAAAAABAAAEAAAAAAEAAAAAAAAAAQAAAgAAAAABAAAKAAAAAAEAAAQAAAAAAQAAAAAAAAABAAACAAAAAAEAAAoAAAAAAQAABAAAAAABAAAAAAAAAAEAAAIAAAAAAQAACgAAAAABAAAEAAAAAAEAAAAAAAAAAQAAAgAAAAABAAAKAAAAAAEAAAQAAAAAAQAAAAAAAAABAAACAAAAAAEAAAoAAAAAAQAABAAAAAABAAAAAAAAAAEAAAIAAAAAAQAACgAAAAABAAAEAAAAAAEAAAAAAAAAAQAAAgAAAAABAAAKAAAAAAEAAAQAAAAAAQAAAAAAAAABAAACAAAAAAEAAAoAAAAAAQAABAAAAAABAAAAAAAAAAEAAAIAAAAAAQAACgAAAAABAAAEAAAAAAEAAAAAAAAAAQAAAgAAAAABAAAKAAAAAAEAAAQAAAAAAQAAAAAAAAABAAACAAAAAAEAAAoAAAAAAQAABAAAAAABAAAAAAAAAAEAAAIAAAAAAQAACgAAAAABAAAEAAAAAAEAAAAAAAAAAQAAAgAAAAABAAAKAAAAAAEAAAQAAAAAAQAAAAAAAAABAAACAAAAAAEAAAoAAAAAAQAABAAAAAABAAAAAAAAAAEAAAIAAAAAAQAACgAAAAABAAAEAAAAAAEAAAAAAAAAAQAAAgAAAAABAAAKAAAAAAEAAAQAAAAAAQAAAAAAAAABAAACAAAAAAEAAAoAAAAAAQAABAAAAAABAAAAAAAAAAEAAAIAAAAAAQAACgAAAAABAAAEAAAAAAEAAAAAAAAAAQAAAgAAAAABAAAKAAAAAAEAAAQAAAAAAQAAAAAAAAABAAACAAAAAAEAAAoAAAAAAQAABAAAAAABAAAAAAAAAAEAAAIAAAAAAQAACgAAAAABAAAEAAAAAAEAAAAAAAAAAQAAAgAAAAABAAAKAAAAAAEAAAQAAAAAAQAAAAAAAAABAAACAAAAAAEAAAoAAAAAAQAABAAAAAABAAAAAAAAAAEAAAIAAAAAAQAACgAAAAABAAAEAAAAAAEAAAAAAAAAAQAAAgAAAAABAAAKAAAAAAEAAAQAAAAAAQAAAAAAAAABAAACAAAAAAEAAAoAAAAAAQAABAAAAAABAAAAAAAAAAEAAAIAAAAAAQAACgAAAAABAAAEAAAAAAEAAAAAAAAAAQAAAgAAAAABAAAKAAAAAAEAAAQAAAAAAQAAAAAAAAABAAACAAAAAAEAAAoAAAAAAQAABAAAAAABAAAAAAAAAAEAAAIAAAAAAQAACgAAAAABAAAEAAAAAAEAAAAAAAAAAQAAAgAAAAABAAAKAAAAAAEAAAQAAAAAAQAAAAAAAAABAAACAAAAAAEAAAoAAAAAAQAABAAAAAABAAAAAAAAAAEAAAIAAAAAAQAACgAAAAABAAAEAAAAAAEAAAAAAAAAAQAAAgAAAAABAAAKAAAAAAEAAAQAAAAAAQAAAAAAAAABAAACAAAAAAEAAAoAAAAAAQAABAAAAAABAAAAAAAAAAEAAAIAAAAAAQAACgAAAAABAAAEAAAAAAEAAAAAAAAAAQAAAgAAAAACAAAEAAAAAAEAAAoAAAAAAQAABAAAAAABAAAAAAAAAAEAAAIAAAAAAQAACgAAAAABAAAEAAAAAAEAAAAAAAAAAQAAAgAAAAABAAAKAAAAAAEAAAQAAAAAAQAAAAAAAAABAAACAAAAAAEAAAoAAAAAAQAABAAAAAABAAAAAAAAAAEAAAIAAAAAAQAACgAAAAABAAAEAAAAAAEAAAAAAAAAAQAAAgAAAAABAAAKAAAAAAEAAAQAAAAAAQAAAAAAAAABAAACAAAAAAEAAAoAAAAAAQAABAAAAAABAAAAAAAAAAEAAAIAAAAAAQAACgAAAAABAAAEAAAAAAEAAAAAAAAAAQAAAgAAAAABAAAKAAAAAAEAAAQAAAAAAQAAAAAAAAABAAACAAAAAAEAAAoAAAAAAQAABAAAAAABAAAAAAAAAAEAAAIAAAAAAQAACgAAAAABAAAEAAAAAAEAAAAAAAAAAQAAAgAAAAABAAAKAAAAAAEAAAQAAAAAAQAAAAAAAAABAAACAAAAAAEAAAoAAAAAAQAABAAAAAABAAAAAAAAAAEAAAIAAAAAAQAACgAAAAABAAAEAAAAAAEAAAAAAAAAAQAAAgAAAAABAAAKAAAAAAEAAAQAAAAAAQAAAAAAAAABAAACAAAAAAEAAAoAAAAAAQAABAAAAAABAAAAAAAAAAEAAAIAAAAAAQAACgAAAAABAAAEAAAAAAEAAAAAAAAAAQAAAgAAAAABAAAKAAAAAAEAAAQAAAAAAQAAAAAAAAABAAACAAAAAAEAAAoAAAAAAQAABAAAAAABAAAAAAAAAAEAAAIAAAAAAQAACgAAAAABAAAEAAAAAAEAAAAAAAAAAQAAAgAAAAABAAAKAAAAAAEAAAQAAAAAAQAAAAAAAAABAAACAAAAAAEAAAoAAAAAAQAABAAAAAABAAAAAAAAAAEAAAIAAAAAAQAACgAAAAABAAAEAAAAAAEAAAAAAAAAAQAAAgAAAAABAAAKAAAAAAEAAAQAAAAAAQAAAAAAAAABAAACAAAAAAEAAAoAAAAAAQAABAAAAAABAAAAAAAAAAEAAAIAAAAAAQAACgAAAAABAAAEAAAAAAEAAAAAAAAAAQAAAgAAAAABAAAKAAAAAAEAAAQAAAAAAQAAAAAAAAABAAACAAAAAAEAAAoAAAAAAQAABAAAAAABAAAAAAAAAAEAAAIAAAAAAQAACgAAAAABAAAEAAAAAAEAAAAAAAAAAQAAAgAAAAABAAAKAAAAAAEAAAQAAAAAAQAAAAAAAAABAAACAAAAAAEAAAoAAAAAAQAABAAAAAABAAAAAAAAAAEAAAIAAAAAAQAACgAAAAABAAAEAAAAAAEAAAAAAAAAAQAAAgAAAAABAAAKAAAAAAEAAAQAAAAAAQAAAAAAAAABAAACAAAAAAEAAAoAAAAAAQAABAAAAAABAAAAAAAAAAEAAAIAAAAAAQAACgAAAAABAAAEAAAAAAEAAAAAAAAAAQAAAgAAAAABAAAKAAAAAAEAAAQAAAAAAQAAAAAAAAABAAACAAAAAAEAAAoAAAAAAQAABAAAAAABAAAAAAAAAAEAAAIAAAAAAQAACgAAAAABAAAEAAAAAAEAAAAAAAAAAQAAAgAAAAABAAAKAAAAAAEAAAQAAAAAAQAAAAAAAAABAAACAAAAAAEAAAoAAAAAAQAABAAAAAABAAAAAAAAAAEAAAIAAAAAAQAACgAAAAABAAAEAAAAAAEAAAAAAAAAAQAAAgAAAAABAAAKAAAAAAEAAAQAAAAAAQAAAAAAAAABAAACAAAAAAEAAAoAAAAAAQAABAAAAAABAAAAAAAAAAEAAAIAAAAAAQAACgAAAAABAAAEAAAAAAEAAAAAAAAAAQAAAgAAAAABAAAKAAAAAAEAAAQAAAAAAQAAAAAAAAABAAACAAAAAAEAAAoAAAAAAQAABAAAAAABAAAAAAAAAAEAAAIAAAAAAQAACgAAAAABAAAEAAAAAAEAAAAAAAAAAQAAAgAAAAABAAAKAAAAAAEAAAQAAAAAAQAAAAAAAAABAAACAAAAAAEAAAoAAAAAAQAABAAAAAABAAAAAAAAAAEAAAIAAAAAAQAACgAAAAABAAAEAAAAAAEAAAAAAAAAAQAAAgAAAAABAAAKAAAAAAEAAAQAAAAAAQAAAAAAAAABAAACAAAAAAEAAAoAAAAAAQAABAAAAAABAAAAAAAAAAEAAAIAAAAAAQAACgAAAAABAAAEAAAAAAEAAAAAAAAAAQAAAgAAAAABAAAKAAAAAAEAAAQAAAAAAQAAAAAAAAABAAACAAAAAAEAAAoAAAAAAQAABAAAAAABAAAAAAAAAAEAAAIAAAAAAQAACgAAAAABAAAEAAAAAAEAAAAAAAAAAQAAAgAAAAABAAAKAAAAAAEAAAQAAAAAAQAAAAAAAAABAAACAAAAAAEAAAoAAAAAAQAABAAAAAABAAAAAAAAAAEAAAIAAAAAAQAACgAAAAABAAAEAAAAAAEAAAAAAAAAAQAAAgAAAAABAAAKAAAAAAEAAAQAAAAAAQAAAAAAAAABAAACAAAAAAEAAAoAAAAAAQAABAAAAAABAAAAAAAAAAEAAAIAAAAAAQAACgAAAAABAAAEAAAAAAEAAAAAAAAAAQAAAgAAAAACAAAEAAAAAAEAAAoAAAAAAQAABAAAAAABAAAAAAAAAAEAAAIAAAAAAQAACgAAAAABAAAEAAAAAAEAAAAAAAAAAQAAAgAAAAABAAAKAAAAAAEAAAQAAAAAAQAAAAAAAAABAAACAAAAAAEAAAoAAAAAAQAABAAAAAABAAAAAAAAAAEAAAIAAAAAAQAACgAAAAABAAAEAAAAAAEAAAAAAAAAAQAAAgAAAAABAAAKAAAAAAEAAAQAAAAAAQAAAAAAAAABAAACAAAAAAEAAAoAAAAAAQAABAAAAAABAAAAAAAAAAEAAAIAAAAAAQAACgAAAAABAAAEAAAAAAEAAAAAAAAAAQAAAgAAAAABAAAKAAAAAAEAAAQAAAAAAQAAAAAAAAABAAACAAAAAAEAAAoAAAAAAQAABAAAAAABAAAAAAAAAAEAAAIAAAAAAQAACgAAAAABAAAEAAAAAAEAAAAAAAAAAQAAAgAAAAABAAAKAAAAAAEAAAQAAAAAAQAAAAAAAAABAAACAAAAAAEAAAoAAAAAAQAABAAAAAABAAAAAAAAAAEAAAIAAAAAAQAACgAAAAABAAAEAAAAAAEAAAAAAAAAAQAAAgAAAAABAAAKAAAAAAEAAAQAAAAAAQAAAAAAAAABAAACAAAAAAEAAAoAAAAAAQAABAAAAAABAAAAAAAAAAEAAAIAAAAAAQAACgAAAAABAAAEAAAAAAEAAAAAAAAAAQAAAgAAAAABAAAKAAAAAAEAAAQAAAAAAQAAAAAAAAABAAACAAAAAAEAAAoAAAAAAQAABAAAAAABAAAAAAAAAAEAAAIAAAAAAQAACgAAAAABAAAEAAAAAAEAAAAAAAAAAQAAAgAAAAABAAAKAAAAAAEAAAQAAAAAAQAAAAAAAAABAAACAAAAAAEAAAoAAAAAAQAABAAAAAABAAAAAAAAAAEAAAIAAAAAAQAACgAAAAABAAAEAAAAAAEAAAAAAAAAAQAAAgAAAAABAAAKAAAAAAEAAAQAAAAAAQAAAAAAAAABAAACAAAAAAEAAAoAAAAAAQAABAAAAAABAAAAAAAAAAEAAAIAAAAAAQAACgAAAAABAAAEAAAAAAEAAAAAAAAAAQAAAgAAAAABAAAKAAAAAAEAAAQAAAAAAQAAAAAAAAABAAACAAAAAAEAAAoAAAAAAQAABAAAAAABAAAAAAAAAAEAAAIAAAAAAQAACgAAAAABAAAEAAAAAAEAAAAAAAAAAQAAAgAAAAABAAAKAAAAAAEAAAQAAAAAAQAAAAAAAAABAAACAAAAAAEAAAoAAAAAAQAABAAAAAABAAAAAAAAAAEAAAIAAAAAAQAACgAAAAABAAAEAAAAAAEAAAAAAAAAAQAAAgAAAAABAAAKAAAAAAEAAAQAAAAAAQAAAAAAAAABAAACAAAAAAEAAAoAAAAAAQAABAAAAAABAAAAAAAAAAEAAAIAAAAAAQAACgAAAAABAAAEAAAAAAEAAAAAAAAAAQAAAgAAAAABAAAKAAAAAAEAAAQAAAAAAQAAAAAAAAABAAACAAAAAAEAAAoAAAAAAQAABAAAAAABAAAAAAAAAAEAAAIAAAAAAQAACgAAAAABAAAEAAAAAAEAAAAAAAAAAQAAAgAAAAABAAAKAAAAAAEAAAQAAAAAAQAAAAAAAAABAAACAAAAAAEAAAoAAAAAAQAABAAAAAABAAAAAAAAAAEAAAIAAAAAAQAACgAAAAABAAAEAAAAAAEAAAAAAAAAAQAAAgAAAAABAAAKAAAAAAEAAAQAAAAAAQAAAAAAAAABAAACAAAAAAEAAAoAAAAAAQAABAAAAAABAAAAAAAAAAEAAAIAAAAAAQAACgAAAAABAAAEAAAAAAEAAAAAAAAAAQAAAgAAAAABAAAKAAAAAAEAAAQAAAAAAQAAAAAAAAABAAACAAAAAAEAAAoAAAAAAQAABAAAAAABAAAAAAAAAAEAAAIAAAAAAQAACgAAAAABAAAEAAAAAAEAAAAAAAAAAQAAAgAAAAABAAAKAAAAAAEAAAQAAAAAAQAAAAAAAAABAAACAAAAAAEAAAoAAAAAAQAABAAAAAABAAAAAAAAAAEAAAIAAAAAAQAACgAAAAABAAAEAAAAAAEAAAAAAAAAAQAAAgAAAAABAAAKAAAAAAEAAAQAAAAAAQAAAAAAAAABAAACAAAAAAEAAAoAAAAAAQAABAAAAAABAAAAAAAAAAEAAAIAAAAAAQAACgAAAAABAAAEAAAAAAEAAAAAAAAAAQAAAgAAAAABAAAKAAAAAAEAAAQAAAAAAQAAAAAAAAABAAACAAAAAAEAAAoAAAAAAQAABAAAAAABAAAAAAAAAAEAAAIAAAAAAQAACgAAAAABAAAEAAAAAAEAAAAAAAAAAQAAAgAAAAABAAAKAAAAAAEAAAQAAAAAAQAAAAAAAAABAAACAAAAAAEAAAoAAAAAAQAABAAAAAABAAAAAAAAAAEAAAIAAAAAAQAACgAAAAABAAAEAAAAAAEAAAAAAAAAAQAAAgAAAAABAAAKAAAAAAEAAAQAAAAAAQAAAAAAAAABAAACAAAAAAEAAAoAAAAAAQAABAAAAAABAAAAAAAAAAEAAAIAAAAAAQAACgAAAAABAAAEAAAAAAEAAAAAAAAAAQAAAgAAAAACAAAEAAAAABxzdHNjAAAAAAAAAAEAAAABAAAD6QAAAAEAAA+4c3RzegAAAAAAAAAAAAAD6QAABOAAAABIAAAAFQAAABMAAAANAAAAJAAAABcAAAAWAAAADQAAABYAAAAPAAAADQAAAA0AAAAWAAAADwAAAA0AAAANAAAAFgAAAA8AAAANAAAADQAAABYAAAAPAAAADQAAAA0AAAAWAAAADwAAAA0AAAANAAAAFgAAAA8AAAANAAAADQAAABYAAAAPAAAADQAAAA0AAAAWAAAADwAAAA0AAAANAAAAFgAAAA8AAAANAAAADQAAABYAAAAPAAAADQAAAA0AAAAWAAAADwAAAA0AAAANAAAAFgAAAA8AAAANAAAADQAAABYAAAAPAAAADQAAAA0AAAAWAAAADwAAAA0AAAANAAAAFgAAAA8AAAANAAAADQAAABYAAAAPAAAADQAAAA0AAAAWAAAADwAAAA0AAAANAAAAFgAAAA8AAAANAAAADQAAABYAAAAPAAAADQAAAA0AAAAWAAAADwAAAA0AAAANAAAAFgAAAA8AAAANAAAADQAAABYAAAAPAAAADQAAAA0AAAAWAAAADwAAAA0AAAANAAAAFgAAAA8AAAANAAAADQAAABYAAAAPAAAADQAAAA0AAAAWAAAADwAAAA0AAAANAAAAFgAAAA8AAAANAAAADQAAABYAAAAPAAAADQAAAA0AAAAWAAAADwAAAA0AAAANAAAAFgAAAA8AAAANAAAADQAAABYAAAAPAAAADQAAAA0AAAAWAAAADwAAAA0AAAANAAAAFgAAAA8AAAANAAAADQAAABYAAAAPAAAADQAAAA0AAAAWAAAADwAAAA0AAAANAAAAFgAAAA8AAAANAAAADQAAABYAAAAPAAAADQAAAA0AAAAWAAAADwAAAA0AAAANAAAAFgAAAA8AAAANAAAADQAAABYAAAAPAAAADQAAAA0AAAAWAAAADwAAAA0AAAANAAAAFgAAAA8AAAANAAAADQAAABYAAAAPAAAADQAAAA0AAAAWAAAADwAAAA0AAAANAAAAFgAAAA8AAAANAAAADQAAABYAAAAPAAAADQAAAA0AAAAWAAAADwAAAA0AAAANAAAAFgAAAA8AAAANAAAADQAAABYAAAAPAAAADQAAAA0AAAAWAAAADwAAAA0AAAANAAAAFgAAAA8AAAANAAAADQAAABYAAAAPAAAADQAAAA0AAAAWAAAADwAAAA0AAAANAAAAFgAAAA8AAAANAAAADQAAABYAAAAPAAAADQAAAA0AAAAWAAAADwAAAA0AAAANAAAAFgAAAA8AAAANAAAADQAAABYAAAAPAAAADQAAAA0AAAAWAAAADwAAAA0AAAANAAAAFgAAAA8AAAANAAAADQAAABUAAAJTAAAAKgAAABMAAAAPAAAADQAAABYAAAAPAAAADQAAAA0AAAAWAAAADwAAAA0AAAANAAAAFgAAAA8AAAANAAAADQAAABYAAAAPAAAADQAAAA0AAAAWAAAADwAAAA0AAAANAAAAFgAAAA8AAAANAAAADQAAABYAAAAPAAAADQAAAA0AAAAWAAAADwAAAA0AAAANAAAAFgAAAA8AAAANAAAADQAAABYAAAAPAAAADQAAAA0AAAAWAAAADwAAAA0AAAANAAAAFgAAAA8AAAANAAAADQAAABYAAAAPAAAADQAAAA0AAAAWAAAADwAAAA0AAAANAAAAFgAAAA8AAAANAAAADQAAABYAAAAPAAAADQAAAA0AAAAWAAAADwAAAA0AAAANAAAAFgAAAA8AAAANAAAADQAAABYAAAAPAAAADQAAAA0AAAAWAAAADwAAAA0AAAANAAAAFgAAAA8AAAANAAAADQAAABYAAAAPAAAADQAAAA0AAAAWAAAADwAAAA0AAAANAAAAFgAAAA8AAAANAAAADQAAABYAAAAPAAAADQAAAA0AAAAWAAAADwAAAA0AAAANAAAAFgAAAA8AAAANAAAADQAAABYAAAAPAAAADQAAAA0AAAAWAAAADwAAAA0AAAANAAAAFgAAAA8AAAANAAAADQAAABYAAAAPAAAADQAAAA0AAAAWAAAADwAAAA0AAAANAAAAFgAAAA8AAAANAAAADQAAABYAAAAPAAAADQAAAA0AAAAWAAAADwAAAA0AAAANAAAAFgAAAA8AAAANAAAADQAAABYAAAAPAAAADQAAAA0AAAAWAAAADwAAAA0AAAANAAAAFgAAAA8AAAANAAAADQAAABYAAAAPAAAADQAAAA0AAAAWAAAADwAAAA0AAAANAAAAFgAAAA8AAAANAAAADQAAABYAAAAPAAAADQAAAA0AAAAWAAAADwAAAA0AAAANAAAAFgAAAA8AAAANAAAADQAAABYAAAAPAAAADQAAAA0AAAAWAAAADwAAAA0AAAANAAAAFgAAAA8AAAANAAAADQAAABYAAAAPAAAADQAAAA0AAAAWAAAADwAAAA0AAAANAAAAFgAAAA8AAAANAAAADQAAABYAAAAPAAAADQAAAA0AAAAWAAAADwAAAA0AAAANAAAAFgAAAA8AAAANAAAADQAAABYAAAAPAAAADQAAAA0AAAAWAAAADwAAAA0AAAANAAAAFgAAAA8AAAANAAAADQAAABYAAAAPAAAADQAAAA0AAAAWAAAADwAAAA0AAAANAAAAFgAAAA8AAAANAAAADQAAABYAAAAPAAAADQAAAA0AAAAVAAACUwAAACoAAAATAAAADwAAAA0AAAAWAAAADwAAAA0AAAANAAAAFgAAAA8AAAANAAAADQAAABYAAAAPAAAADQAAAA0AAAAWAAAADwAAAA0AAAANAAAAFgAAAA8AAAANAAAADQAAABYAAAAPAAAADQAAAA0AAAAWAAAADwAAAA0AAAANAAAAFgAAAA8AAAANAAAADQAAABYAAAAPAAAADQAAAA0AAAAWAAAADwAAAA0AAAANAAAAFgAAAA8AAAANAAAADQAAABYAAAAPAAAADQAAAA0AAAAWAAAADwAAAA0AAAANAAAAFgAAAA8AAAANAAAADQAAABYAAAAPAAAADQAAAA0AAAAWAAAADwAAAA0AAAANAAAAFgAAAA8AAAANAAAADQAAABYAAAAPAAAADQAAAA0AAAAWAAAADwAAAA0AAAANAAAAFgAAAA8AAAANAAAADQAAABYAAAAPAAAADQAAAA0AAAAWAAAADwAAAA0AAAANAAAAFgAAAA8AAAANAAAADQAAABYAAAAPAAAADQAAAA0AAAAWAAAADwAAAA0AAAANAAAAFgAAAA8AAAANAAAADQAAABYAAAAPAAAADQAAAA0AAAAWAAAADwAAAA0AAAANAAAAFgAAAA8AAAANAAAADQAAABYAAAAPAAAADQAAAA0AAAAWAAAADwAAAA0AAAANAAAAFgAAAA8AAAANAAAADQAAABYAAAAPAAAADQAAAA0AAAAWAAAADwAAAA0AAAANAAAAFgAAAA8AAAANAAAADQAAABYAAAAPAAAADQAAAA0AAAAWAAAADwAAAA0AAAANAAAAFgAAAA8AAAANAAAADQAAABYAAAAPAAAADQAAAA0AAAAWAAAADwAAAA0AAAANAAAAFgAAAA8AAAANAAAADQAAABYAAAAPAAAADQAAAA0AAAAWAAAADwAAAA0AAAANAAAAFgAAAA8AAAANAAAADQAAABYAAAAPAAAADQAAAA0AAAAWAAAADwAAAA0AAAANAAAAFgAAAA8AAAANAAAADQAAABYAAAAPAAAADQAAAA0AAAAWAAAADwAAAA0AAAANAAAAFgAAAA8AAAANAAAADQAAABYAAAAPAAAADQAAAA0AAAAWAAAADwAAAA0AAAANAAAAFgAAAA8AAAANAAAADQAAABYAAAAPAAAADQAAAA0AAAAWAAAADwAAAA0AAAANAAAAFgAAAA8AAAANAAAADQAAABYAAAAPAAAADQAAAA0AAAAWAAAADwAAAA0AAAANAAAAFgAAAA8AAAANAAAADQAAABYAAAAPAAAADQAAAA0AAAAWAAAADwAAAA0AAAANAAAAFQAAAlMAAAAqAAAAEwAAAA8AAAANAAAAFgAAAA8AAAANAAAADQAAABYAAAAPAAAADQAAAA0AAAAWAAAADwAAAA0AAAANAAAAFgAAAA8AAAANAAAADQAAABYAAAAPAAAADQAAAA0AAAAWAAAADwAAAA0AAAANAAAAFgAAAA8AAAANAAAADQAAABYAAAAPAAAADQAAAA0AAAAWAAAADwAAAA0AAAANAAAAFgAAAA8AAAANAAAADQAAABYAAAAPAAAADQAAAA0AAAAWAAAADwAAAA0AAAANAAAAFgAAAA8AAAANAAAADQAAABYAAAAPAAAADQAAAA0AAAAWAAAADwAAAA0AAAANAAAAFgAAAA8AAAANAAAADQAAABYAAAAPAAAADQAAAA0AAAAWAAAADwAAAA0AAAANAAAAFgAAAA8AAAANAAAADQAAABYAAAAPAAAADQAAAA0AAAAWAAAADwAAAA0AAAANAAAAFgAAAA8AAAANAAAADQAAABYAAAAPAAAADQAAAA0AAAAWAAAADwAAAA0AAAANAAAAFgAAAA8AAAANAAAADQAAABYAAAAPAAAADQAAAA0AAAAWAAAADwAAAA0AAAANAAAAFgAAAA8AAAANAAAADQAAABYAAAAPAAAADQAAAA0AAAAWAAAADwAAAA0AAAANAAAAFgAAAA8AAAANAAAADQAAABYAAAAPAAAADQAAAA0AAAAWAAAADwAAAA0AAAANAAAAFgAAAA8AAAANAAAADQAAABYAAAAPAAAADQAAAA0AAAAWAAAADwAAAA0AAAANAAAAFgAAAA8AAAANAAAADQAAABYAAAAPAAAADQAAAA0AAAAWAAAADwAAAA0AAAANAAAAFgAAAA8AAAANAAAADQAAABYAAAAPAAAADQAAAA0AAAAWAAAADwAAAA0AAAANAAAAFgAAAA8AAAANAAAADQAAABYAAAAPAAAADQAAAA0AAAAWAAAADwAAAA0AAAANAAAAFgAAAA8AAAANAAAADQAAABYAAAAPAAAADQAAAA0AAAAWAAAADwAAAA0AAAANAAAAFgAAAA8AAAANAAAADQAAABYAAAAPAAAADQAAAA0AAAAWAAAADwAAAA0AAAANAAAAFgAAAA8AAAANAAAADQAAABYAAAAPAAAADQAAAA0AAAAWAAAADwAAAA0AAAANAAAAFgAAAA8AAAANAAAADQAAABYAAAAPAAAADQAAAA0AAAAWAAAADwAAAA0AAAANAAAAFgAAAA8AAAANAAAADQAAABYAAAAPAAAADQAAAA0AAAAWAAAADwAAAA0AAAANAAAAFgAAAA8AAAANAAAADQAAABUAAAHSAAAAFHN0Y28AAAAAAAAAAQAAADAAAABidWR0YQAAAFptZXRhAAAAAAAAACFoZGxyAAAAAAAAAABtZGlyYXBwbAAAAAAAAAAAAAAAAC1pbHN0AAAAJal0b28AAAAdZGF0YQAAAAEAAAAATGF2ZjU3LjgzLjEwMA==\" type=\"video/mp4\" />\n",
              "             </video>"
            ],
            "text/plain": [
              "<IPython.core.display.HTML object>"
            ]
          },
          "metadata": {
            "tags": []
          }
        },
        {
          "output_type": "display_data",
          "data": {
            "application/vnd.jupyter.widget-view+json": {
              "model_id": "0f35888605fe473696e8a033b20a9943",
              "version_minor": 0,
              "version_major": 2
            },
            "text/plain": [
              "HBox(children=(FloatProgress(value=0.0, max=1000.0), HTML(value='')))"
            ]
          },
          "metadata": {
            "tags": []
          }
        },
        {
          "output_type": "stream",
          "text": [
            "The final reward for this trial is 0.0\n",
            "\n"
          ],
          "name": "stdout"
        },
        {
          "output_type": "display_data",
          "data": {
            "text/html": [
              "<video alt=\"test\" autoplay \n",
              "                loop controls style=\"height: 200px;\">\n",
              "                <source src=\"data:video/mp4;base64,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\" type=\"video/mp4\" />\n",
              "             </video>"
            ],
            "text/plain": [
              "<IPython.core.display.HTML object>"
            ]
          },
          "metadata": {
            "tags": []
          }
        },
        {
          "output_type": "display_data",
          "data": {
            "application/vnd.jupyter.widget-view+json": {
              "model_id": "cc976c653cd641229df06fcf30f8ae65",
              "version_minor": 0,
              "version_major": 2
            },
            "text/plain": [
              "HBox(children=(FloatProgress(value=0.0, max=1000.0), HTML(value='')))"
            ]
          },
          "metadata": {
            "tags": []
          }
        },
        {
          "output_type": "stream",
          "text": [
            "The final reward for this trial is 0.0\n",
            "\n"
          ],
          "name": "stdout"
        },
        {
          "output_type": "display_data",
          "data": {
            "text/html": [
              "<video alt=\"test\" autoplay \n",
              "                loop controls style=\"height: 200px;\">\n",
              "                <source src=\"data:video/mp4;base64,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\" type=\"video/mp4\" />\n",
              "             </video>"
            ],
            "text/plain": [
              "<IPython.core.display.HTML object>"
            ]
          },
          "metadata": {
            "tags": []
          }
        },
        {
          "output_type": "display_data",
          "data": {
            "application/vnd.jupyter.widget-view+json": {
              "model_id": "253202f7ebcc4e28be8b329887810221",
              "version_minor": 0,
              "version_major": 2
            },
            "text/plain": [
              "HBox(children=(FloatProgress(value=0.0, max=1000.0), HTML(value='')))"
            ]
          },
          "metadata": {
            "tags": []
          }
        },
        {
          "output_type": "stream",
          "text": [
            "The final reward for this trial is 0.0\n",
            "\n"
          ],
          "name": "stdout"
        },
        {
          "output_type": "display_data",
          "data": {
            "text/html": [
              "<video alt=\"test\" autoplay \n",
              "                loop controls style=\"height: 200px;\">\n",
              "                <source src=\"data:video/mp4;base64,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\" type=\"video/mp4\" />\n",
              "             </video>"
            ],
            "text/plain": [
              "<IPython.core.display.HTML object>"
            ]
          },
          "metadata": {
            "tags": []
          }
        },
        {
          "output_type": "display_data",
          "data": {
            "application/vnd.jupyter.widget-view+json": {
              "model_id": "3aaf3511fb1448b6b70dff3b11850b08",
              "version_minor": 0,
              "version_major": 2
            },
            "text/plain": [
              "HBox(children=(FloatProgress(value=0.0, max=1000.0), HTML(value='')))"
            ]
          },
          "metadata": {
            "tags": []
          }
        },
        {
          "output_type": "error",
          "ename": "KeyboardInterrupt",
          "evalue": "ignored",
          "traceback": [
            "\u001b[0;31m---------------------------------------------------------------------------\u001b[0m",
            "\u001b[0;31mKeyboardInterrupt\u001b[0m                         Traceback (most recent call last)",
            "\u001b[0;32m<ipython-input-18-1334cb36d891>\u001b[0m in \u001b[0;36m<module>\u001b[0;34m()\u001b[0m\n\u001b[1;32m      7\u001b[0m         \u001b[0mmax_testing_steps\u001b[0m\u001b[0;34m=\u001b[0m\u001b[0;36m1000\u001b[0m\u001b[0;34m,\u001b[0m\u001b[0;34m\u001b[0m\u001b[0;34m\u001b[0m\u001b[0m\n\u001b[1;32m      8\u001b[0m         \u001b[0mload_model\u001b[0m\u001b[0;34m=\u001b[0m\u001b[0;32mTrue\u001b[0m\u001b[0;34m,\u001b[0m\u001b[0;34m\u001b[0m\u001b[0;34m\u001b[0m\u001b[0m\n\u001b[0;32m----> 9\u001b[0;31m         mode='train_async'))\n\u001b[0m",
            "\u001b[0;32m<ipython-input-17-17b4f9af9222>\u001b[0m in \u001b[0;36mentry_point\u001b[0;34m(args)\u001b[0m\n\u001b[1;32m     10\u001b[0m   \u001b[0;32mif\u001b[0m \u001b[0margs\u001b[0m\u001b[0;34m.\u001b[0m\u001b[0mmode\u001b[0m \u001b[0;34m==\u001b[0m \u001b[0;34m'train_async'\u001b[0m\u001b[0;34m:\u001b[0m\u001b[0;34m\u001b[0m\u001b[0;34m\u001b[0m\u001b[0m\n\u001b[1;32m     11\u001b[0m     \u001b[0mmaster\u001b[0m \u001b[0;34m=\u001b[0m \u001b[0mMasterAgent\u001b[0m\u001b[0;34m(\u001b[0m\u001b[0margs\u001b[0m\u001b[0;34m)\u001b[0m\u001b[0;34m\u001b[0m\u001b[0;34m\u001b[0m\u001b[0m\n\u001b[0;32m---> 12\u001b[0;31m     \u001b[0mmaster\u001b[0m\u001b[0;34m.\u001b[0m\u001b[0mtrain_async\u001b[0m\u001b[0;34m(\u001b[0m\u001b[0;34m)\u001b[0m\u001b[0;34m\u001b[0m\u001b[0;34m\u001b[0m\u001b[0m\n\u001b[0m\u001b[1;32m     13\u001b[0m   \u001b[0mprint\u001b[0m\u001b[0;34m(\u001b[0m\u001b[0;34m'Hello World'\u001b[0m\u001b[0;34m)\u001b[0m\u001b[0;34m\u001b[0m\u001b[0;34m\u001b[0m\u001b[0m\n",
            "\u001b[0;32m<ipython-input-15-d5bd5cfda038>\u001b[0m in \u001b[0;36mtrain_async\u001b[0;34m(self)\u001b[0m\n\u001b[1;32m     40\u001b[0m       \u001b[0mworker_pbar\u001b[0m\u001b[0;34m.\u001b[0m\u001b[0mupdate\u001b[0m\u001b[0;34m(\u001b[0m\u001b[0;36m1\u001b[0m\u001b[0;34m)\u001b[0m\u001b[0;34m\u001b[0m\u001b[0;34m\u001b[0m\u001b[0m\n\u001b[1;32m     41\u001b[0m     \u001b[0mworker_pbar\u001b[0m\u001b[0;34m.\u001b[0m\u001b[0mclose\u001b[0m\u001b[0;34m(\u001b[0m\u001b[0;34m)\u001b[0m\u001b[0;34m\u001b[0m\u001b[0;34m\u001b[0m\u001b[0m\n\u001b[0;32m---> 42\u001b[0;31m     \u001b[0;34m[\u001b[0m\u001b[0mw\u001b[0m\u001b[0;34m.\u001b[0m\u001b[0mjoin\u001b[0m\u001b[0;34m(\u001b[0m\u001b[0;34m)\u001b[0m \u001b[0;32mfor\u001b[0m \u001b[0mw\u001b[0m \u001b[0;32min\u001b[0m \u001b[0mworkers\u001b[0m\u001b[0;34m]\u001b[0m\u001b[0;34m\u001b[0m\u001b[0;34m\u001b[0m\u001b[0m\n\u001b[0m\u001b[1;32m     43\u001b[0m     \u001b[0mpbar\u001b[0m\u001b[0;34m.\u001b[0m\u001b[0mclose\u001b[0m\u001b[0;34m(\u001b[0m\u001b[0;34m)\u001b[0m\u001b[0;34m\u001b[0m\u001b[0;34m\u001b[0m\u001b[0m\n\u001b[1;32m     44\u001b[0m \u001b[0;34m\u001b[0m\u001b[0m\n",
            "\u001b[0;32m<ipython-input-15-d5bd5cfda038>\u001b[0m in \u001b[0;36m<listcomp>\u001b[0;34m(.0)\u001b[0m\n\u001b[1;32m     40\u001b[0m       \u001b[0mworker_pbar\u001b[0m\u001b[0;34m.\u001b[0m\u001b[0mupdate\u001b[0m\u001b[0;34m(\u001b[0m\u001b[0;36m1\u001b[0m\u001b[0;34m)\u001b[0m\u001b[0;34m\u001b[0m\u001b[0;34m\u001b[0m\u001b[0m\n\u001b[1;32m     41\u001b[0m     \u001b[0mworker_pbar\u001b[0m\u001b[0;34m.\u001b[0m\u001b[0mclose\u001b[0m\u001b[0;34m(\u001b[0m\u001b[0;34m)\u001b[0m\u001b[0;34m\u001b[0m\u001b[0;34m\u001b[0m\u001b[0m\n\u001b[0;32m---> 42\u001b[0;31m     \u001b[0;34m[\u001b[0m\u001b[0mw\u001b[0m\u001b[0;34m.\u001b[0m\u001b[0mjoin\u001b[0m\u001b[0;34m(\u001b[0m\u001b[0;34m)\u001b[0m \u001b[0;32mfor\u001b[0m \u001b[0mw\u001b[0m \u001b[0;32min\u001b[0m \u001b[0mworkers\u001b[0m\u001b[0;34m]\u001b[0m\u001b[0;34m\u001b[0m\u001b[0;34m\u001b[0m\u001b[0m\n\u001b[0m\u001b[1;32m     43\u001b[0m     \u001b[0mpbar\u001b[0m\u001b[0;34m.\u001b[0m\u001b[0mclose\u001b[0m\u001b[0;34m(\u001b[0m\u001b[0;34m)\u001b[0m\u001b[0;34m\u001b[0m\u001b[0;34m\u001b[0m\u001b[0m\n\u001b[1;32m     44\u001b[0m \u001b[0;34m\u001b[0m\u001b[0m\n",
            "\u001b[0;32m/usr/lib/python3.6/threading.py\u001b[0m in \u001b[0;36mjoin\u001b[0;34m(self, timeout)\u001b[0m\n\u001b[1;32m   1054\u001b[0m \u001b[0;34m\u001b[0m\u001b[0m\n\u001b[1;32m   1055\u001b[0m         \u001b[0;32mif\u001b[0m \u001b[0mtimeout\u001b[0m \u001b[0;32mis\u001b[0m \u001b[0;32mNone\u001b[0m\u001b[0;34m:\u001b[0m\u001b[0;34m\u001b[0m\u001b[0;34m\u001b[0m\u001b[0m\n\u001b[0;32m-> 1056\u001b[0;31m             \u001b[0mself\u001b[0m\u001b[0;34m.\u001b[0m\u001b[0m_wait_for_tstate_lock\u001b[0m\u001b[0;34m(\u001b[0m\u001b[0;34m)\u001b[0m\u001b[0;34m\u001b[0m\u001b[0;34m\u001b[0m\u001b[0m\n\u001b[0m\u001b[1;32m   1057\u001b[0m         \u001b[0;32melse\u001b[0m\u001b[0;34m:\u001b[0m\u001b[0;34m\u001b[0m\u001b[0;34m\u001b[0m\u001b[0m\n\u001b[1;32m   1058\u001b[0m             \u001b[0;31m# the behavior of a negative timeout isn't documented, but\u001b[0m\u001b[0;34m\u001b[0m\u001b[0;34m\u001b[0m\u001b[0;34m\u001b[0m\u001b[0m\n",
            "\u001b[0;32m/usr/lib/python3.6/threading.py\u001b[0m in \u001b[0;36m_wait_for_tstate_lock\u001b[0;34m(self, block, timeout)\u001b[0m\n\u001b[1;32m   1070\u001b[0m         \u001b[0;32mif\u001b[0m \u001b[0mlock\u001b[0m \u001b[0;32mis\u001b[0m \u001b[0;32mNone\u001b[0m\u001b[0;34m:\u001b[0m  \u001b[0;31m# already determined that the C code is done\u001b[0m\u001b[0;34m\u001b[0m\u001b[0;34m\u001b[0m\u001b[0m\n\u001b[1;32m   1071\u001b[0m             \u001b[0;32massert\u001b[0m \u001b[0mself\u001b[0m\u001b[0;34m.\u001b[0m\u001b[0m_is_stopped\u001b[0m\u001b[0;34m\u001b[0m\u001b[0;34m\u001b[0m\u001b[0m\n\u001b[0;32m-> 1072\u001b[0;31m         \u001b[0;32melif\u001b[0m \u001b[0mlock\u001b[0m\u001b[0;34m.\u001b[0m\u001b[0macquire\u001b[0m\u001b[0;34m(\u001b[0m\u001b[0mblock\u001b[0m\u001b[0;34m,\u001b[0m \u001b[0mtimeout\u001b[0m\u001b[0;34m)\u001b[0m\u001b[0;34m:\u001b[0m\u001b[0;34m\u001b[0m\u001b[0;34m\u001b[0m\u001b[0m\n\u001b[0m\u001b[1;32m   1073\u001b[0m             \u001b[0mlock\u001b[0m\u001b[0;34m.\u001b[0m\u001b[0mrelease\u001b[0m\u001b[0;34m(\u001b[0m\u001b[0;34m)\u001b[0m\u001b[0;34m\u001b[0m\u001b[0;34m\u001b[0m\u001b[0m\n\u001b[1;32m   1074\u001b[0m             \u001b[0mself\u001b[0m\u001b[0;34m.\u001b[0m\u001b[0m_stop\u001b[0m\u001b[0;34m(\u001b[0m\u001b[0;34m)\u001b[0m\u001b[0;34m\u001b[0m\u001b[0;34m\u001b[0m\u001b[0m\n",
            "\u001b[0;31mKeyboardInterrupt\u001b[0m: "
          ]
        }
      ]
    },
    {
      "cell_type": "code",
      "metadata": {
        "id": "KNDSeZ4Nune5",
        "colab_type": "code",
        "colab": {}
      },
      "source": [
        ""
      ],
      "execution_count": 0,
      "outputs": []
    }
  ]
}