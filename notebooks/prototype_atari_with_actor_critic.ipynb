{
  "nbformat": 4,
  "nbformat_minor": 0,
  "metadata": {
    "colab": {
      "name": "Copy of prototype_atari_with_actor_critic.ipynb",
      "provenance": [],
      "collapsed_sections": [],
      "machine_shape": "hm",
      "include_colab_link": true
    },
    "kernelspec": {
      "name": "python3",
      "display_name": "Python 3"
    },
    "accelerator": "TPU",
    "widgets": {
      "application/vnd.jupyter.widget-state+json": {
        "2c33ea7b99b54e4c848bc3d6c7fb02fa": {
          "model_module": "@jupyter-widgets/controls",
          "model_name": "HBoxModel",
          "state": {
            "_view_name": "HBoxView",
            "_dom_classes": [],
            "_model_name": "HBoxModel",
            "_view_module": "@jupyter-widgets/controls",
            "_model_module_version": "1.5.0",
            "_view_count": null,
            "_view_module_version": "1.5.0",
            "box_style": "",
            "layout": "IPY_MODEL_6d8175a2bcdb468fa56a9d13642c3f5b",
            "_model_module": "@jupyter-widgets/controls",
            "children": [
              "IPY_MODEL_be814399768c42debf309e629b3a4878",
              "IPY_MODEL_3d3bd71b775f4a7db6aa8a3354d3e444"
            ]
          }
        },
        "6d8175a2bcdb468fa56a9d13642c3f5b": {
          "model_module": "@jupyter-widgets/base",
          "model_name": "LayoutModel",
          "state": {
            "_view_name": "LayoutView",
            "grid_template_rows": null,
            "right": null,
            "justify_content": null,
            "_view_module": "@jupyter-widgets/base",
            "overflow": null,
            "_model_module_version": "1.2.0",
            "_view_count": null,
            "flex_flow": null,
            "width": null,
            "min_width": null,
            "border": null,
            "align_items": null,
            "bottom": null,
            "_model_module": "@jupyter-widgets/base",
            "top": null,
            "grid_column": null,
            "overflow_y": null,
            "overflow_x": null,
            "grid_auto_flow": null,
            "grid_area": null,
            "grid_template_columns": null,
            "flex": null,
            "_model_name": "LayoutModel",
            "justify_items": null,
            "grid_row": null,
            "max_height": null,
            "align_content": null,
            "visibility": null,
            "align_self": null,
            "height": null,
            "min_height": null,
            "padding": null,
            "grid_auto_rows": null,
            "grid_gap": null,
            "max_width": null,
            "order": null,
            "_view_module_version": "1.2.0",
            "grid_template_areas": null,
            "object_position": null,
            "object_fit": null,
            "grid_auto_columns": null,
            "margin": null,
            "display": null,
            "left": null
          }
        },
        "be814399768c42debf309e629b3a4878": {
          "model_module": "@jupyter-widgets/controls",
          "model_name": "FloatProgressModel",
          "state": {
            "_view_name": "ProgressView",
            "style": "IPY_MODEL_487a7795154d4d7fb955a08de56bf2e5",
            "_dom_classes": [],
            "description": "step: 269, reward -69.0/-69.0:   1%",
            "_model_name": "FloatProgressModel",
            "bar_style": "",
            "max": 2000,
            "_view_module": "@jupyter-widgets/controls",
            "_model_module_version": "1.5.0",
            "value": 20,
            "_view_count": null,
            "_view_module_version": "1.5.0",
            "orientation": "horizontal",
            "min": 0,
            "description_tooltip": null,
            "_model_module": "@jupyter-widgets/controls",
            "layout": "IPY_MODEL_6daaba5807344274aa680b12d7d27724"
          }
        },
        "3d3bd71b775f4a7db6aa8a3354d3e444": {
          "model_module": "@jupyter-widgets/controls",
          "model_name": "HTMLModel",
          "state": {
            "_view_name": "HTMLView",
            "style": "IPY_MODEL_974fc83636d54d208d4b698e8a7e61c0",
            "_dom_classes": [],
            "description": "",
            "_model_name": "HTMLModel",
            "placeholder": "​",
            "_view_module": "@jupyter-widgets/controls",
            "_model_module_version": "1.5.0",
            "value": " 20/2000 [06:56&lt;20:07:51, 36.60s/it]",
            "_view_count": null,
            "_view_module_version": "1.5.0",
            "description_tooltip": null,
            "_model_module": "@jupyter-widgets/controls",
            "layout": "IPY_MODEL_1f3c5403ef9442b384240eacdb0d408b"
          }
        },
        "487a7795154d4d7fb955a08de56bf2e5": {
          "model_module": "@jupyter-widgets/controls",
          "model_name": "ProgressStyleModel",
          "state": {
            "_view_name": "StyleView",
            "_model_name": "ProgressStyleModel",
            "description_width": "initial",
            "_view_module": "@jupyter-widgets/base",
            "_model_module_version": "1.5.0",
            "_view_count": null,
            "_view_module_version": "1.2.0",
            "bar_color": null,
            "_model_module": "@jupyter-widgets/controls"
          }
        },
        "6daaba5807344274aa680b12d7d27724": {
          "model_module": "@jupyter-widgets/base",
          "model_name": "LayoutModel",
          "state": {
            "_view_name": "LayoutView",
            "grid_template_rows": null,
            "right": null,
            "justify_content": null,
            "_view_module": "@jupyter-widgets/base",
            "overflow": null,
            "_model_module_version": "1.2.0",
            "_view_count": null,
            "flex_flow": null,
            "width": null,
            "min_width": null,
            "border": null,
            "align_items": null,
            "bottom": null,
            "_model_module": "@jupyter-widgets/base",
            "top": null,
            "grid_column": null,
            "overflow_y": null,
            "overflow_x": null,
            "grid_auto_flow": null,
            "grid_area": null,
            "grid_template_columns": null,
            "flex": null,
            "_model_name": "LayoutModel",
            "justify_items": null,
            "grid_row": null,
            "max_height": null,
            "align_content": null,
            "visibility": null,
            "align_self": null,
            "height": null,
            "min_height": null,
            "padding": null,
            "grid_auto_rows": null,
            "grid_gap": null,
            "max_width": null,
            "order": null,
            "_view_module_version": "1.2.0",
            "grid_template_areas": null,
            "object_position": null,
            "object_fit": null,
            "grid_auto_columns": null,
            "margin": null,
            "display": null,
            "left": null
          }
        },
        "974fc83636d54d208d4b698e8a7e61c0": {
          "model_module": "@jupyter-widgets/controls",
          "model_name": "DescriptionStyleModel",
          "state": {
            "_view_name": "StyleView",
            "_model_name": "DescriptionStyleModel",
            "description_width": "",
            "_view_module": "@jupyter-widgets/base",
            "_model_module_version": "1.5.0",
            "_view_count": null,
            "_view_module_version": "1.2.0",
            "_model_module": "@jupyter-widgets/controls"
          }
        },
        "1f3c5403ef9442b384240eacdb0d408b": {
          "model_module": "@jupyter-widgets/base",
          "model_name": "LayoutModel",
          "state": {
            "_view_name": "LayoutView",
            "grid_template_rows": null,
            "right": null,
            "justify_content": null,
            "_view_module": "@jupyter-widgets/base",
            "overflow": null,
            "_model_module_version": "1.2.0",
            "_view_count": null,
            "flex_flow": null,
            "width": null,
            "min_width": null,
            "border": null,
            "align_items": null,
            "bottom": null,
            "_model_module": "@jupyter-widgets/base",
            "top": null,
            "grid_column": null,
            "overflow_y": null,
            "overflow_x": null,
            "grid_auto_flow": null,
            "grid_area": null,
            "grid_template_columns": null,
            "flex": null,
            "_model_name": "LayoutModel",
            "justify_items": null,
            "grid_row": null,
            "max_height": null,
            "align_content": null,
            "visibility": null,
            "align_self": null,
            "height": null,
            "min_height": null,
            "padding": null,
            "grid_auto_rows": null,
            "grid_gap": null,
            "max_width": null,
            "order": null,
            "_view_module_version": "1.2.0",
            "grid_template_areas": null,
            "object_position": null,
            "object_fit": null,
            "grid_auto_columns": null,
            "margin": null,
            "display": null,
            "left": null
          }
        },
        "2606abd76fb042208e22d28fba6f819a": {
          "model_module": "@jupyter-widgets/controls",
          "model_name": "HBoxModel",
          "state": {
            "_view_name": "HBoxView",
            "_dom_classes": [],
            "_model_name": "HBoxModel",
            "_view_module": "@jupyter-widgets/controls",
            "_model_module_version": "1.5.0",
            "_view_count": null,
            "_view_module_version": "1.5.0",
            "box_style": "",
            "layout": "IPY_MODEL_dc84d6903b0341479e1014a4ce1024bc",
            "_model_module": "@jupyter-widgets/controls",
            "children": [
              "IPY_MODEL_0c1b33a072ae4a6d8a0afcdf8a3171e4",
              "IPY_MODEL_b14d7145d41a4e2cb9a67de530e78349"
            ]
          }
        },
        "dc84d6903b0341479e1014a4ce1024bc": {
          "model_module": "@jupyter-widgets/base",
          "model_name": "LayoutModel",
          "state": {
            "_view_name": "LayoutView",
            "grid_template_rows": null,
            "right": null,
            "justify_content": null,
            "_view_module": "@jupyter-widgets/base",
            "overflow": null,
            "_model_module_version": "1.2.0",
            "_view_count": null,
            "flex_flow": null,
            "width": null,
            "min_width": null,
            "border": null,
            "align_items": null,
            "bottom": null,
            "_model_module": "@jupyter-widgets/base",
            "top": null,
            "grid_column": null,
            "overflow_y": null,
            "overflow_x": null,
            "grid_auto_flow": null,
            "grid_area": null,
            "grid_template_columns": null,
            "flex": null,
            "_model_name": "LayoutModel",
            "justify_items": null,
            "grid_row": null,
            "max_height": null,
            "align_content": null,
            "visibility": null,
            "align_self": null,
            "height": null,
            "min_height": null,
            "padding": null,
            "grid_auto_rows": null,
            "grid_gap": null,
            "max_width": null,
            "order": null,
            "_view_module_version": "1.2.0",
            "grid_template_areas": null,
            "object_position": null,
            "object_fit": null,
            "grid_auto_columns": null,
            "margin": null,
            "display": null,
            "left": null
          }
        },
        "0c1b33a072ae4a6d8a0afcdf8a3171e4": {
          "model_module": "@jupyter-widgets/controls",
          "model_name": "FloatProgressModel",
          "state": {
            "_view_name": "ProgressView",
            "style": "IPY_MODEL_8ff97361334c496e8f575794e98617f4",
            "_dom_classes": [],
            "description": "starting 40 workers: 100%",
            "_model_name": "FloatProgressModel",
            "bar_style": "success",
            "max": 40,
            "_view_module": "@jupyter-widgets/controls",
            "_model_module_version": "1.5.0",
            "value": 40,
            "_view_count": null,
            "_view_module_version": "1.5.0",
            "orientation": "horizontal",
            "min": 0,
            "description_tooltip": null,
            "_model_module": "@jupyter-widgets/controls",
            "layout": "IPY_MODEL_a477587f2ad5435788082d0a9d4c5b52"
          }
        },
        "b14d7145d41a4e2cb9a67de530e78349": {
          "model_module": "@jupyter-widgets/controls",
          "model_name": "HTMLModel",
          "state": {
            "_view_name": "HTMLView",
            "style": "IPY_MODEL_77ed925cbc854312b8d7e05a1868c589",
            "_dom_classes": [],
            "description": "",
            "_model_name": "HTMLModel",
            "placeholder": "​",
            "_view_module": "@jupyter-widgets/controls",
            "_model_module_version": "1.5.0",
            "value": " 40/40 [00:00&lt;00:00, 92.51it/s]",
            "_view_count": null,
            "_view_module_version": "1.5.0",
            "description_tooltip": null,
            "_model_module": "@jupyter-widgets/controls",
            "layout": "IPY_MODEL_3a96b7464518407da836a13203850aa0"
          }
        },
        "8ff97361334c496e8f575794e98617f4": {
          "model_module": "@jupyter-widgets/controls",
          "model_name": "ProgressStyleModel",
          "state": {
            "_view_name": "StyleView",
            "_model_name": "ProgressStyleModel",
            "description_width": "initial",
            "_view_module": "@jupyter-widgets/base",
            "_model_module_version": "1.5.0",
            "_view_count": null,
            "_view_module_version": "1.2.0",
            "bar_color": null,
            "_model_module": "@jupyter-widgets/controls"
          }
        },
        "a477587f2ad5435788082d0a9d4c5b52": {
          "model_module": "@jupyter-widgets/base",
          "model_name": "LayoutModel",
          "state": {
            "_view_name": "LayoutView",
            "grid_template_rows": null,
            "right": null,
            "justify_content": null,
            "_view_module": "@jupyter-widgets/base",
            "overflow": null,
            "_model_module_version": "1.2.0",
            "_view_count": null,
            "flex_flow": null,
            "width": null,
            "min_width": null,
            "border": null,
            "align_items": null,
            "bottom": null,
            "_model_module": "@jupyter-widgets/base",
            "top": null,
            "grid_column": null,
            "overflow_y": null,
            "overflow_x": null,
            "grid_auto_flow": null,
            "grid_area": null,
            "grid_template_columns": null,
            "flex": null,
            "_model_name": "LayoutModel",
            "justify_items": null,
            "grid_row": null,
            "max_height": null,
            "align_content": null,
            "visibility": null,
            "align_self": null,
            "height": null,
            "min_height": null,
            "padding": null,
            "grid_auto_rows": null,
            "grid_gap": null,
            "max_width": null,
            "order": null,
            "_view_module_version": "1.2.0",
            "grid_template_areas": null,
            "object_position": null,
            "object_fit": null,
            "grid_auto_columns": null,
            "margin": null,
            "display": null,
            "left": null
          }
        },
        "77ed925cbc854312b8d7e05a1868c589": {
          "model_module": "@jupyter-widgets/controls",
          "model_name": "DescriptionStyleModel",
          "state": {
            "_view_name": "StyleView",
            "_model_name": "DescriptionStyleModel",
            "description_width": "",
            "_view_module": "@jupyter-widgets/base",
            "_model_module_version": "1.5.0",
            "_view_count": null,
            "_view_module_version": "1.2.0",
            "_model_module": "@jupyter-widgets/controls"
          }
        },
        "3a96b7464518407da836a13203850aa0": {
          "model_module": "@jupyter-widgets/base",
          "model_name": "LayoutModel",
          "state": {
            "_view_name": "LayoutView",
            "grid_template_rows": null,
            "right": null,
            "justify_content": null,
            "_view_module": "@jupyter-widgets/base",
            "overflow": null,
            "_model_module_version": "1.2.0",
            "_view_count": null,
            "flex_flow": null,
            "width": null,
            "min_width": null,
            "border": null,
            "align_items": null,
            "bottom": null,
            "_model_module": "@jupyter-widgets/base",
            "top": null,
            "grid_column": null,
            "overflow_y": null,
            "overflow_x": null,
            "grid_auto_flow": null,
            "grid_area": null,
            "grid_template_columns": null,
            "flex": null,
            "_model_name": "LayoutModel",
            "justify_items": null,
            "grid_row": null,
            "max_height": null,
            "align_content": null,
            "visibility": null,
            "align_self": null,
            "height": null,
            "min_height": null,
            "padding": null,
            "grid_auto_rows": null,
            "grid_gap": null,
            "max_width": null,
            "order": null,
            "_view_module_version": "1.2.0",
            "grid_template_areas": null,
            "object_position": null,
            "object_fit": null,
            "grid_auto_columns": null,
            "margin": null,
            "display": null,
            "left": null
          }
        },
        "409f93d349584763a631ae0ed053c34b": {
          "model_module": "@jupyter-widgets/controls",
          "model_name": "HBoxModel",
          "state": {
            "_view_name": "HBoxView",
            "_dom_classes": [],
            "_model_name": "HBoxModel",
            "_view_module": "@jupyter-widgets/controls",
            "_model_module_version": "1.5.0",
            "_view_count": null,
            "_view_module_version": "1.5.0",
            "box_style": "",
            "layout": "IPY_MODEL_022d0784bf1d481ba276726ad35d4125",
            "_model_module": "@jupyter-widgets/controls",
            "children": [
              "IPY_MODEL_b53824acc95646ab8a5c1ac31501ed0b",
              "IPY_MODEL_77c3b8b1699445a4ab228d6a78107b56"
            ]
          }
        },
        "022d0784bf1d481ba276726ad35d4125": {
          "model_module": "@jupyter-widgets/base",
          "model_name": "LayoutModel",
          "state": {
            "_view_name": "LayoutView",
            "grid_template_rows": null,
            "right": null,
            "justify_content": null,
            "_view_module": "@jupyter-widgets/base",
            "overflow": null,
            "_model_module_version": "1.2.0",
            "_view_count": null,
            "flex_flow": null,
            "width": null,
            "min_width": null,
            "border": null,
            "align_items": null,
            "bottom": null,
            "_model_module": "@jupyter-widgets/base",
            "top": null,
            "grid_column": null,
            "overflow_y": null,
            "overflow_x": null,
            "grid_auto_flow": null,
            "grid_area": null,
            "grid_template_columns": null,
            "flex": null,
            "_model_name": "LayoutModel",
            "justify_items": null,
            "grid_row": null,
            "max_height": null,
            "align_content": null,
            "visibility": null,
            "align_self": null,
            "height": null,
            "min_height": null,
            "padding": null,
            "grid_auto_rows": null,
            "grid_gap": null,
            "max_width": null,
            "order": null,
            "_view_module_version": "1.2.0",
            "grid_template_areas": null,
            "object_position": null,
            "object_fit": null,
            "grid_auto_columns": null,
            "margin": null,
            "display": null,
            "left": null
          }
        },
        "b53824acc95646ab8a5c1ac31501ed0b": {
          "model_module": "@jupyter-widgets/controls",
          "model_name": "FloatProgressModel",
          "state": {
            "_view_name": "ProgressView",
            "style": "IPY_MODEL_01f53e628cfa4f648259f648cece9bfb",
            "_dom_classes": [],
            "description": " 18%",
            "_model_name": "FloatProgressModel",
            "bar_style": "danger",
            "max": 2000,
            "_view_module": "@jupyter-widgets/controls",
            "_model_module_version": "1.5.0",
            "value": 369,
            "_view_count": null,
            "_view_module_version": "1.5.0",
            "orientation": "horizontal",
            "min": 0,
            "description_tooltip": null,
            "_model_module": "@jupyter-widgets/controls",
            "layout": "IPY_MODEL_6ae01e4208c3460ea6e07b162cc00db5"
          }
        },
        "77c3b8b1699445a4ab228d6a78107b56": {
          "model_module": "@jupyter-widgets/controls",
          "model_name": "HTMLModel",
          "state": {
            "_view_name": "HTMLView",
            "style": "IPY_MODEL_5c4e38b25b1c44559aa8ba6b2324421e",
            "_dom_classes": [],
            "description": "",
            "_model_name": "HTMLModel",
            "placeholder": "​",
            "_view_module": "@jupyter-widgets/controls",
            "_model_module_version": "1.5.0",
            "value": " 369/2000 [02:10&lt;09:37,  2.82it/s]",
            "_view_count": null,
            "_view_module_version": "1.5.0",
            "description_tooltip": null,
            "_model_module": "@jupyter-widgets/controls",
            "layout": "IPY_MODEL_ba9d5a2fa83447e9b58aadf148bf251d"
          }
        },
        "01f53e628cfa4f648259f648cece9bfb": {
          "model_module": "@jupyter-widgets/controls",
          "model_name": "ProgressStyleModel",
          "state": {
            "_view_name": "StyleView",
            "_model_name": "ProgressStyleModel",
            "description_width": "initial",
            "_view_module": "@jupyter-widgets/base",
            "_model_module_version": "1.5.0",
            "_view_count": null,
            "_view_module_version": "1.2.0",
            "bar_color": null,
            "_model_module": "@jupyter-widgets/controls"
          }
        },
        "6ae01e4208c3460ea6e07b162cc00db5": {
          "model_module": "@jupyter-widgets/base",
          "model_name": "LayoutModel",
          "state": {
            "_view_name": "LayoutView",
            "grid_template_rows": null,
            "right": null,
            "justify_content": null,
            "_view_module": "@jupyter-widgets/base",
            "overflow": null,
            "_model_module_version": "1.2.0",
            "_view_count": null,
            "flex_flow": null,
            "width": null,
            "min_width": null,
            "border": null,
            "align_items": null,
            "bottom": null,
            "_model_module": "@jupyter-widgets/base",
            "top": null,
            "grid_column": null,
            "overflow_y": null,
            "overflow_x": null,
            "grid_auto_flow": null,
            "grid_area": null,
            "grid_template_columns": null,
            "flex": null,
            "_model_name": "LayoutModel",
            "justify_items": null,
            "grid_row": null,
            "max_height": null,
            "align_content": null,
            "visibility": null,
            "align_self": null,
            "height": null,
            "min_height": null,
            "padding": null,
            "grid_auto_rows": null,
            "grid_gap": null,
            "max_width": null,
            "order": null,
            "_view_module_version": "1.2.0",
            "grid_template_areas": null,
            "object_position": null,
            "object_fit": null,
            "grid_auto_columns": null,
            "margin": null,
            "display": null,
            "left": null
          }
        },
        "5c4e38b25b1c44559aa8ba6b2324421e": {
          "model_module": "@jupyter-widgets/controls",
          "model_name": "DescriptionStyleModel",
          "state": {
            "_view_name": "StyleView",
            "_model_name": "DescriptionStyleModel",
            "description_width": "",
            "_view_module": "@jupyter-widgets/base",
            "_model_module_version": "1.5.0",
            "_view_count": null,
            "_view_module_version": "1.2.0",
            "_model_module": "@jupyter-widgets/controls"
          }
        },
        "ba9d5a2fa83447e9b58aadf148bf251d": {
          "model_module": "@jupyter-widgets/base",
          "model_name": "LayoutModel",
          "state": {
            "_view_name": "LayoutView",
            "grid_template_rows": null,
            "right": null,
            "justify_content": null,
            "_view_module": "@jupyter-widgets/base",
            "overflow": null,
            "_model_module_version": "1.2.0",
            "_view_count": null,
            "flex_flow": null,
            "width": null,
            "min_width": null,
            "border": null,
            "align_items": null,
            "bottom": null,
            "_model_module": "@jupyter-widgets/base",
            "top": null,
            "grid_column": null,
            "overflow_y": null,
            "overflow_x": null,
            "grid_auto_flow": null,
            "grid_area": null,
            "grid_template_columns": null,
            "flex": null,
            "_model_name": "LayoutModel",
            "justify_items": null,
            "grid_row": null,
            "max_height": null,
            "align_content": null,
            "visibility": null,
            "align_self": null,
            "height": null,
            "min_height": null,
            "padding": null,
            "grid_auto_rows": null,
            "grid_gap": null,
            "max_width": null,
            "order": null,
            "_view_module_version": "1.2.0",
            "grid_template_areas": null,
            "object_position": null,
            "object_fit": null,
            "grid_auto_columns": null,
            "margin": null,
            "display": null,
            "left": null
          }
        },
        "bdf8a9fcac164221ac6794f43e3f97db": {
          "model_module": "@jupyter-widgets/controls",
          "model_name": "HBoxModel",
          "state": {
            "_view_name": "HBoxView",
            "_dom_classes": [],
            "_model_name": "HBoxModel",
            "_view_module": "@jupyter-widgets/controls",
            "_model_module_version": "1.5.0",
            "_view_count": null,
            "_view_module_version": "1.5.0",
            "box_style": "",
            "layout": "IPY_MODEL_b563c04badc9469e96c092e2fc7ef76b",
            "_model_module": "@jupyter-widgets/controls",
            "children": [
              "IPY_MODEL_3ecf53bce4a24eac9077fd372f55c24a",
              "IPY_MODEL_da0fca5173854e19923ebbc2b96099b6"
            ]
          }
        },
        "b563c04badc9469e96c092e2fc7ef76b": {
          "model_module": "@jupyter-widgets/base",
          "model_name": "LayoutModel",
          "state": {
            "_view_name": "LayoutView",
            "grid_template_rows": null,
            "right": null,
            "justify_content": null,
            "_view_module": "@jupyter-widgets/base",
            "overflow": null,
            "_model_module_version": "1.2.0",
            "_view_count": null,
            "flex_flow": null,
            "width": null,
            "min_width": null,
            "border": null,
            "align_items": null,
            "bottom": null,
            "_model_module": "@jupyter-widgets/base",
            "top": null,
            "grid_column": null,
            "overflow_y": null,
            "overflow_x": null,
            "grid_auto_flow": null,
            "grid_area": null,
            "grid_template_columns": null,
            "flex": null,
            "_model_name": "LayoutModel",
            "justify_items": null,
            "grid_row": null,
            "max_height": null,
            "align_content": null,
            "visibility": null,
            "align_self": null,
            "height": null,
            "min_height": null,
            "padding": null,
            "grid_auto_rows": null,
            "grid_gap": null,
            "max_width": null,
            "order": null,
            "_view_module_version": "1.2.0",
            "grid_template_areas": null,
            "object_position": null,
            "object_fit": null,
            "grid_auto_columns": null,
            "margin": null,
            "display": null,
            "left": null
          }
        },
        "3ecf53bce4a24eac9077fd372f55c24a": {
          "model_module": "@jupyter-widgets/controls",
          "model_name": "FloatProgressModel",
          "state": {
            "_view_name": "ProgressView",
            "style": "IPY_MODEL_9276461cffe04cea8c39ca3bcb64e0fa",
            "_dom_classes": [],
            "description": " 18%",
            "_model_name": "FloatProgressModel",
            "bar_style": "danger",
            "max": 2000,
            "_view_module": "@jupyter-widgets/controls",
            "_model_module_version": "1.5.0",
            "value": 363,
            "_view_count": null,
            "_view_module_version": "1.5.0",
            "orientation": "horizontal",
            "min": 0,
            "description_tooltip": null,
            "_model_module": "@jupyter-widgets/controls",
            "layout": "IPY_MODEL_473db73ed795461bafee6341dc876ff8"
          }
        },
        "da0fca5173854e19923ebbc2b96099b6": {
          "model_module": "@jupyter-widgets/controls",
          "model_name": "HTMLModel",
          "state": {
            "_view_name": "HTMLView",
            "style": "IPY_MODEL_83033b128cbe4b8c85ebc8ffbb24a44a",
            "_dom_classes": [],
            "description": "",
            "_model_name": "HTMLModel",
            "placeholder": "​",
            "_view_module": "@jupyter-widgets/controls",
            "_model_module_version": "1.5.0",
            "value": " 363/2000 [01:53&lt;08:30,  3.20it/s]",
            "_view_count": null,
            "_view_module_version": "1.5.0",
            "description_tooltip": null,
            "_model_module": "@jupyter-widgets/controls",
            "layout": "IPY_MODEL_c5f80f0f365d4ec6a9e618f29e5e85d9"
          }
        },
        "9276461cffe04cea8c39ca3bcb64e0fa": {
          "model_module": "@jupyter-widgets/controls",
          "model_name": "ProgressStyleModel",
          "state": {
            "_view_name": "StyleView",
            "_model_name": "ProgressStyleModel",
            "description_width": "initial",
            "_view_module": "@jupyter-widgets/base",
            "_model_module_version": "1.5.0",
            "_view_count": null,
            "_view_module_version": "1.2.0",
            "bar_color": null,
            "_model_module": "@jupyter-widgets/controls"
          }
        },
        "473db73ed795461bafee6341dc876ff8": {
          "model_module": "@jupyter-widgets/base",
          "model_name": "LayoutModel",
          "state": {
            "_view_name": "LayoutView",
            "grid_template_rows": null,
            "right": null,
            "justify_content": null,
            "_view_module": "@jupyter-widgets/base",
            "overflow": null,
            "_model_module_version": "1.2.0",
            "_view_count": null,
            "flex_flow": null,
            "width": null,
            "min_width": null,
            "border": null,
            "align_items": null,
            "bottom": null,
            "_model_module": "@jupyter-widgets/base",
            "top": null,
            "grid_column": null,
            "overflow_y": null,
            "overflow_x": null,
            "grid_auto_flow": null,
            "grid_area": null,
            "grid_template_columns": null,
            "flex": null,
            "_model_name": "LayoutModel",
            "justify_items": null,
            "grid_row": null,
            "max_height": null,
            "align_content": null,
            "visibility": null,
            "align_self": null,
            "height": null,
            "min_height": null,
            "padding": null,
            "grid_auto_rows": null,
            "grid_gap": null,
            "max_width": null,
            "order": null,
            "_view_module_version": "1.2.0",
            "grid_template_areas": null,
            "object_position": null,
            "object_fit": null,
            "grid_auto_columns": null,
            "margin": null,
            "display": null,
            "left": null
          }
        },
        "83033b128cbe4b8c85ebc8ffbb24a44a": {
          "model_module": "@jupyter-widgets/controls",
          "model_name": "DescriptionStyleModel",
          "state": {
            "_view_name": "StyleView",
            "_model_name": "DescriptionStyleModel",
            "description_width": "",
            "_view_module": "@jupyter-widgets/base",
            "_model_module_version": "1.5.0",
            "_view_count": null,
            "_view_module_version": "1.2.0",
            "_model_module": "@jupyter-widgets/controls"
          }
        },
        "c5f80f0f365d4ec6a9e618f29e5e85d9": {
          "model_module": "@jupyter-widgets/base",
          "model_name": "LayoutModel",
          "state": {
            "_view_name": "LayoutView",
            "grid_template_rows": null,
            "right": null,
            "justify_content": null,
            "_view_module": "@jupyter-widgets/base",
            "overflow": null,
            "_model_module_version": "1.2.0",
            "_view_count": null,
            "flex_flow": null,
            "width": null,
            "min_width": null,
            "border": null,
            "align_items": null,
            "bottom": null,
            "_model_module": "@jupyter-widgets/base",
            "top": null,
            "grid_column": null,
            "overflow_y": null,
            "overflow_x": null,
            "grid_auto_flow": null,
            "grid_area": null,
            "grid_template_columns": null,
            "flex": null,
            "_model_name": "LayoutModel",
            "justify_items": null,
            "grid_row": null,
            "max_height": null,
            "align_content": null,
            "visibility": null,
            "align_self": null,
            "height": null,
            "min_height": null,
            "padding": null,
            "grid_auto_rows": null,
            "grid_gap": null,
            "max_width": null,
            "order": null,
            "_view_module_version": "1.2.0",
            "grid_template_areas": null,
            "object_position": null,
            "object_fit": null,
            "grid_auto_columns": null,
            "margin": null,
            "display": null,
            "left": null
          }
        },
        "00053ad51670496697fe91a7657459fa": {
          "model_module": "@jupyter-widgets/controls",
          "model_name": "HBoxModel",
          "state": {
            "_view_name": "HBoxView",
            "_dom_classes": [],
            "_model_name": "HBoxModel",
            "_view_module": "@jupyter-widgets/controls",
            "_model_module_version": "1.5.0",
            "_view_count": null,
            "_view_module_version": "1.5.0",
            "box_style": "",
            "layout": "IPY_MODEL_fe9a780529fe419d93a753f68472ad41",
            "_model_module": "@jupyter-widgets/controls",
            "children": [
              "IPY_MODEL_b05cc621f1084a24a83f18bc8ee8b731",
              "IPY_MODEL_240e9481549742498fd9b7aaaf4d71e1"
            ]
          }
        },
        "fe9a780529fe419d93a753f68472ad41": {
          "model_module": "@jupyter-widgets/base",
          "model_name": "LayoutModel",
          "state": {
            "_view_name": "LayoutView",
            "grid_template_rows": null,
            "right": null,
            "justify_content": null,
            "_view_module": "@jupyter-widgets/base",
            "overflow": null,
            "_model_module_version": "1.2.0",
            "_view_count": null,
            "flex_flow": null,
            "width": null,
            "min_width": null,
            "border": null,
            "align_items": null,
            "bottom": null,
            "_model_module": "@jupyter-widgets/base",
            "top": null,
            "grid_column": null,
            "overflow_y": null,
            "overflow_x": null,
            "grid_auto_flow": null,
            "grid_area": null,
            "grid_template_columns": null,
            "flex": null,
            "_model_name": "LayoutModel",
            "justify_items": null,
            "grid_row": null,
            "max_height": null,
            "align_content": null,
            "visibility": null,
            "align_self": null,
            "height": null,
            "min_height": null,
            "padding": null,
            "grid_auto_rows": null,
            "grid_gap": null,
            "max_width": null,
            "order": null,
            "_view_module_version": "1.2.0",
            "grid_template_areas": null,
            "object_position": null,
            "object_fit": null,
            "grid_auto_columns": null,
            "margin": null,
            "display": null,
            "left": null
          }
        },
        "b05cc621f1084a24a83f18bc8ee8b731": {
          "model_module": "@jupyter-widgets/controls",
          "model_name": "FloatProgressModel",
          "state": {
            "_view_name": "ProgressView",
            "style": "IPY_MODEL_8a80d2005d5f4e9cbd1aa26db209cf86",
            "_dom_classes": [],
            "description": " 14%",
            "_model_name": "FloatProgressModel",
            "bar_style": "",
            "max": 2000,
            "_view_module": "@jupyter-widgets/controls",
            "_model_module_version": "1.5.0",
            "value": 287,
            "_view_count": null,
            "_view_module_version": "1.5.0",
            "orientation": "horizontal",
            "min": 0,
            "description_tooltip": null,
            "_model_module": "@jupyter-widgets/controls",
            "layout": "IPY_MODEL_65bef356e24044168f8f6abcb28e7cb8"
          }
        },
        "240e9481549742498fd9b7aaaf4d71e1": {
          "model_module": "@jupyter-widgets/controls",
          "model_name": "HTMLModel",
          "state": {
            "_view_name": "HTMLView",
            "style": "IPY_MODEL_72c8d129ba524dbcb33ec259b6c55b0d",
            "_dom_classes": [],
            "description": "",
            "_model_name": "HTMLModel",
            "placeholder": "​",
            "_view_module": "@jupyter-widgets/controls",
            "_model_module_version": "1.5.0",
            "value": " 287/2000 [00:39&lt;03:04,  9.29it/s]",
            "_view_count": null,
            "_view_module_version": "1.5.0",
            "description_tooltip": null,
            "_model_module": "@jupyter-widgets/controls",
            "layout": "IPY_MODEL_2fa769dc253b49cb87ee02b9b8dd8629"
          }
        },
        "8a80d2005d5f4e9cbd1aa26db209cf86": {
          "model_module": "@jupyter-widgets/controls",
          "model_name": "ProgressStyleModel",
          "state": {
            "_view_name": "StyleView",
            "_model_name": "ProgressStyleModel",
            "description_width": "initial",
            "_view_module": "@jupyter-widgets/base",
            "_model_module_version": "1.5.0",
            "_view_count": null,
            "_view_module_version": "1.2.0",
            "bar_color": null,
            "_model_module": "@jupyter-widgets/controls"
          }
        },
        "65bef356e24044168f8f6abcb28e7cb8": {
          "model_module": "@jupyter-widgets/base",
          "model_name": "LayoutModel",
          "state": {
            "_view_name": "LayoutView",
            "grid_template_rows": null,
            "right": null,
            "justify_content": null,
            "_view_module": "@jupyter-widgets/base",
            "overflow": null,
            "_model_module_version": "1.2.0",
            "_view_count": null,
            "flex_flow": null,
            "width": null,
            "min_width": null,
            "border": null,
            "align_items": null,
            "bottom": null,
            "_model_module": "@jupyter-widgets/base",
            "top": null,
            "grid_column": null,
            "overflow_y": null,
            "overflow_x": null,
            "grid_auto_flow": null,
            "grid_area": null,
            "grid_template_columns": null,
            "flex": null,
            "_model_name": "LayoutModel",
            "justify_items": null,
            "grid_row": null,
            "max_height": null,
            "align_content": null,
            "visibility": null,
            "align_self": null,
            "height": null,
            "min_height": null,
            "padding": null,
            "grid_auto_rows": null,
            "grid_gap": null,
            "max_width": null,
            "order": null,
            "_view_module_version": "1.2.0",
            "grid_template_areas": null,
            "object_position": null,
            "object_fit": null,
            "grid_auto_columns": null,
            "margin": null,
            "display": null,
            "left": null
          }
        },
        "72c8d129ba524dbcb33ec259b6c55b0d": {
          "model_module": "@jupyter-widgets/controls",
          "model_name": "DescriptionStyleModel",
          "state": {
            "_view_name": "StyleView",
            "_model_name": "DescriptionStyleModel",
            "description_width": "",
            "_view_module": "@jupyter-widgets/base",
            "_model_module_version": "1.5.0",
            "_view_count": null,
            "_view_module_version": "1.2.0",
            "_model_module": "@jupyter-widgets/controls"
          }
        },
        "2fa769dc253b49cb87ee02b9b8dd8629": {
          "model_module": "@jupyter-widgets/base",
          "model_name": "LayoutModel",
          "state": {
            "_view_name": "LayoutView",
            "grid_template_rows": null,
            "right": null,
            "justify_content": null,
            "_view_module": "@jupyter-widgets/base",
            "overflow": null,
            "_model_module_version": "1.2.0",
            "_view_count": null,
            "flex_flow": null,
            "width": null,
            "min_width": null,
            "border": null,
            "align_items": null,
            "bottom": null,
            "_model_module": "@jupyter-widgets/base",
            "top": null,
            "grid_column": null,
            "overflow_y": null,
            "overflow_x": null,
            "grid_auto_flow": null,
            "grid_area": null,
            "grid_template_columns": null,
            "flex": null,
            "_model_name": "LayoutModel",
            "justify_items": null,
            "grid_row": null,
            "max_height": null,
            "align_content": null,
            "visibility": null,
            "align_self": null,
            "height": null,
            "min_height": null,
            "padding": null,
            "grid_auto_rows": null,
            "grid_gap": null,
            "max_width": null,
            "order": null,
            "_view_module_version": "1.2.0",
            "grid_template_areas": null,
            "object_position": null,
            "object_fit": null,
            "grid_auto_columns": null,
            "margin": null,
            "display": null,
            "left": null
          }
        }
      }
    }
  },
  "cells": [
    {
      "cell_type": "markdown",
      "metadata": {
        "id": "view-in-github",
        "colab_type": "text"
      },
      "source": [
        "<a href=\"https://colab.research.google.com/github/tianhaoz95/ultron/blob/dev%2Ftry-atari-game/notebooks/prototype_atari_with_actor_critic.ipynb\" target=\"_parent\"><img src=\"https://colab.research.google.com/assets/colab-badge.svg\" alt=\"Open In Colab\"/></a>"
      ]
    },
    {
      "cell_type": "code",
      "metadata": {
        "id": "DX_OfbY42iKs",
        "colab_type": "code",
        "colab": {}
      },
      "source": [
        "!pip install gym pyvirtualdisplay tqdm > /dev/null 2>&1\n",
        "!apt-get install -y xvfb python-opengl ffmpeg x11-utils > /dev/null 2>&1"
      ],
      "execution_count": 0,
      "outputs": []
    },
    {
      "cell_type": "code",
      "metadata": {
        "id": "JM66lPmrmUx1",
        "colab_type": "code",
        "colab": {}
      },
      "source": [
        "!apt-get update > /dev/null 2>&1\n",
        "!apt-get install cmake > /dev/null 2>&1\n",
        "!pip install gym[atari] > /dev/null 2>&1\n",
        "!pip install gputil > /dev/null 2>&1\n",
        "!pip install pyglet==1.2.4 > /dev/null 2>&1"
      ],
      "execution_count": 0,
      "outputs": []
    },
    {
      "cell_type": "code",
      "metadata": {
        "id": "KxSzy33ETUiX",
        "colab_type": "code",
        "colab": {
          "base_uri": "https://localhost:8080/",
          "height": 765
        },
        "outputId": "8c8f6b89-1009-4aa1-d6a6-302410222234"
      },
      "source": [
        "import tensorflow as tf\n",
        "import GPUtil\n",
        "print(\"Tensorflow version \" + tf.__version__)\n",
        "try:\n",
        "  tpu = tf.distribute.cluster_resolver.TPUClusterResolver()  # TPU detection\n",
        "  print('Running on TPU ', tpu.cluster_spec().as_dict()['worker'])\n",
        "  tf.config.experimental_connect_to_cluster(tpu)\n",
        "  tf.tpu.experimental.initialize_tpu_system(tpu)\n",
        "  tpu_strategy = tf.distribute.experimental.TPUStrategy(tpu)\n",
        "except ValueError:\n",
        "  try:\n",
        "    print('ERROR: Not connected to a TPU runtime!')\n",
        "    GPUs = GPUtil.getGPUs()\n",
        "    print('GPU count: ' + str(len(GPUs)))\n",
        "    gpu_info = !nvidia-smi\n",
        "    gpu_info = '\\n'.join(gpu_info)\n",
        "    if gpu_info.find('failed') >= 0:\n",
        "      print('Select the Runtime > \"Change runtime type\" menu to enable a GPU accelerator, ')\n",
        "      print('and then re-execute this cell.')\n",
        "    else:\n",
        "      print(gpu_info)\n",
        "  except:\n",
        "    print('Using CPU')"
      ],
      "execution_count": 36,
      "outputs": [
        {
          "output_type": "stream",
          "text": [
            "Tensorflow version 2.2.0\n",
            "Running on TPU  ['10.125.197.178:8470']\n",
            "WARNING:tensorflow:TPU system grpc://10.125.197.178:8470 has already been initialized. Reinitializing the TPU can cause previously created variables on TPU to be lost.\n"
          ],
          "name": "stdout"
        },
        {
          "output_type": "stream",
          "text": [
            "WARNING:tensorflow:TPU system grpc://10.125.197.178:8470 has already been initialized. Reinitializing the TPU can cause previously created variables on TPU to be lost.\n"
          ],
          "name": "stderr"
        },
        {
          "output_type": "stream",
          "text": [
            "INFO:tensorflow:Initializing the TPU system: grpc://10.125.197.178:8470\n"
          ],
          "name": "stdout"
        },
        {
          "output_type": "stream",
          "text": [
            "INFO:tensorflow:Initializing the TPU system: grpc://10.125.197.178:8470\n"
          ],
          "name": "stderr"
        },
        {
          "output_type": "stream",
          "text": [
            "INFO:tensorflow:Clearing out eager caches\n"
          ],
          "name": "stdout"
        },
        {
          "output_type": "stream",
          "text": [
            "INFO:tensorflow:Clearing out eager caches\n"
          ],
          "name": "stderr"
        },
        {
          "output_type": "stream",
          "text": [
            "INFO:tensorflow:Finished initializing TPU system.\n"
          ],
          "name": "stdout"
        },
        {
          "output_type": "stream",
          "text": [
            "INFO:tensorflow:Finished initializing TPU system.\n"
          ],
          "name": "stderr"
        },
        {
          "output_type": "stream",
          "text": [
            "INFO:tensorflow:Found TPU system:\n"
          ],
          "name": "stdout"
        },
        {
          "output_type": "stream",
          "text": [
            "INFO:tensorflow:Found TPU system:\n"
          ],
          "name": "stderr"
        },
        {
          "output_type": "stream",
          "text": [
            "INFO:tensorflow:*** Num TPU Cores: 8\n"
          ],
          "name": "stdout"
        },
        {
          "output_type": "stream",
          "text": [
            "INFO:tensorflow:*** Num TPU Cores: 8\n"
          ],
          "name": "stderr"
        },
        {
          "output_type": "stream",
          "text": [
            "INFO:tensorflow:*** Num TPU Workers: 1\n"
          ],
          "name": "stdout"
        },
        {
          "output_type": "stream",
          "text": [
            "INFO:tensorflow:*** Num TPU Workers: 1\n"
          ],
          "name": "stderr"
        },
        {
          "output_type": "stream",
          "text": [
            "INFO:tensorflow:*** Num TPU Cores Per Worker: 8\n"
          ],
          "name": "stdout"
        },
        {
          "output_type": "stream",
          "text": [
            "INFO:tensorflow:*** Num TPU Cores Per Worker: 8\n"
          ],
          "name": "stderr"
        },
        {
          "output_type": "stream",
          "text": [
            "INFO:tensorflow:*** Available Device: _DeviceAttributes(/job:localhost/replica:0/task:0/device:CPU:0, CPU, 0, 0)\n"
          ],
          "name": "stdout"
        },
        {
          "output_type": "stream",
          "text": [
            "INFO:tensorflow:*** Available Device: _DeviceAttributes(/job:localhost/replica:0/task:0/device:CPU:0, CPU, 0, 0)\n"
          ],
          "name": "stderr"
        },
        {
          "output_type": "stream",
          "text": [
            "INFO:tensorflow:*** Available Device: _DeviceAttributes(/job:localhost/replica:0/task:0/device:XLA_CPU:0, XLA_CPU, 0, 0)\n"
          ],
          "name": "stdout"
        },
        {
          "output_type": "stream",
          "text": [
            "INFO:tensorflow:*** Available Device: _DeviceAttributes(/job:localhost/replica:0/task:0/device:XLA_CPU:0, XLA_CPU, 0, 0)\n"
          ],
          "name": "stderr"
        },
        {
          "output_type": "stream",
          "text": [
            "INFO:tensorflow:*** Available Device: _DeviceAttributes(/job:worker/replica:0/task:0/device:CPU:0, CPU, 0, 0)\n"
          ],
          "name": "stdout"
        },
        {
          "output_type": "stream",
          "text": [
            "INFO:tensorflow:*** Available Device: _DeviceAttributes(/job:worker/replica:0/task:0/device:CPU:0, CPU, 0, 0)\n"
          ],
          "name": "stderr"
        },
        {
          "output_type": "stream",
          "text": [
            "INFO:tensorflow:*** Available Device: _DeviceAttributes(/job:worker/replica:0/task:0/device:TPU:0, TPU, 0, 0)\n"
          ],
          "name": "stdout"
        },
        {
          "output_type": "stream",
          "text": [
            "INFO:tensorflow:*** Available Device: _DeviceAttributes(/job:worker/replica:0/task:0/device:TPU:0, TPU, 0, 0)\n"
          ],
          "name": "stderr"
        },
        {
          "output_type": "stream",
          "text": [
            "INFO:tensorflow:*** Available Device: _DeviceAttributes(/job:worker/replica:0/task:0/device:TPU:1, TPU, 0, 0)\n"
          ],
          "name": "stdout"
        },
        {
          "output_type": "stream",
          "text": [
            "INFO:tensorflow:*** Available Device: _DeviceAttributes(/job:worker/replica:0/task:0/device:TPU:1, TPU, 0, 0)\n"
          ],
          "name": "stderr"
        },
        {
          "output_type": "stream",
          "text": [
            "INFO:tensorflow:*** Available Device: _DeviceAttributes(/job:worker/replica:0/task:0/device:TPU:2, TPU, 0, 0)\n"
          ],
          "name": "stdout"
        },
        {
          "output_type": "stream",
          "text": [
            "INFO:tensorflow:*** Available Device: _DeviceAttributes(/job:worker/replica:0/task:0/device:TPU:2, TPU, 0, 0)\n"
          ],
          "name": "stderr"
        },
        {
          "output_type": "stream",
          "text": [
            "INFO:tensorflow:*** Available Device: _DeviceAttributes(/job:worker/replica:0/task:0/device:TPU:3, TPU, 0, 0)\n"
          ],
          "name": "stdout"
        },
        {
          "output_type": "stream",
          "text": [
            "INFO:tensorflow:*** Available Device: _DeviceAttributes(/job:worker/replica:0/task:0/device:TPU:3, TPU, 0, 0)\n"
          ],
          "name": "stderr"
        },
        {
          "output_type": "stream",
          "text": [
            "INFO:tensorflow:*** Available Device: _DeviceAttributes(/job:worker/replica:0/task:0/device:TPU:4, TPU, 0, 0)\n"
          ],
          "name": "stdout"
        },
        {
          "output_type": "stream",
          "text": [
            "INFO:tensorflow:*** Available Device: _DeviceAttributes(/job:worker/replica:0/task:0/device:TPU:4, TPU, 0, 0)\n"
          ],
          "name": "stderr"
        },
        {
          "output_type": "stream",
          "text": [
            "INFO:tensorflow:*** Available Device: _DeviceAttributes(/job:worker/replica:0/task:0/device:TPU:5, TPU, 0, 0)\n"
          ],
          "name": "stdout"
        },
        {
          "output_type": "stream",
          "text": [
            "INFO:tensorflow:*** Available Device: _DeviceAttributes(/job:worker/replica:0/task:0/device:TPU:5, TPU, 0, 0)\n"
          ],
          "name": "stderr"
        },
        {
          "output_type": "stream",
          "text": [
            "INFO:tensorflow:*** Available Device: _DeviceAttributes(/job:worker/replica:0/task:0/device:TPU:6, TPU, 0, 0)\n"
          ],
          "name": "stdout"
        },
        {
          "output_type": "stream",
          "text": [
            "INFO:tensorflow:*** Available Device: _DeviceAttributes(/job:worker/replica:0/task:0/device:TPU:6, TPU, 0, 0)\n"
          ],
          "name": "stderr"
        },
        {
          "output_type": "stream",
          "text": [
            "INFO:tensorflow:*** Available Device: _DeviceAttributes(/job:worker/replica:0/task:0/device:TPU:7, TPU, 0, 0)\n"
          ],
          "name": "stdout"
        },
        {
          "output_type": "stream",
          "text": [
            "INFO:tensorflow:*** Available Device: _DeviceAttributes(/job:worker/replica:0/task:0/device:TPU:7, TPU, 0, 0)\n"
          ],
          "name": "stderr"
        },
        {
          "output_type": "stream",
          "text": [
            "INFO:tensorflow:*** Available Device: _DeviceAttributes(/job:worker/replica:0/task:0/device:TPU_SYSTEM:0, TPU_SYSTEM, 0, 0)\n"
          ],
          "name": "stdout"
        },
        {
          "output_type": "stream",
          "text": [
            "INFO:tensorflow:*** Available Device: _DeviceAttributes(/job:worker/replica:0/task:0/device:TPU_SYSTEM:0, TPU_SYSTEM, 0, 0)\n"
          ],
          "name": "stderr"
        },
        {
          "output_type": "stream",
          "text": [
            "INFO:tensorflow:*** Available Device: _DeviceAttributes(/job:worker/replica:0/task:0/device:XLA_CPU:0, XLA_CPU, 0, 0)\n"
          ],
          "name": "stdout"
        },
        {
          "output_type": "stream",
          "text": [
            "INFO:tensorflow:*** Available Device: _DeviceAttributes(/job:worker/replica:0/task:0/device:XLA_CPU:0, XLA_CPU, 0, 0)\n"
          ],
          "name": "stderr"
        }
      ]
    },
    {
      "cell_type": "code",
      "metadata": {
        "id": "StODOp9qm7As",
        "colab_type": "code",
        "colab": {
          "base_uri": "https://localhost:8080/",
          "height": 54
        },
        "outputId": "21f722cc-669a-4b4a-f063-95aaeaa6a576"
      },
      "source": [
        "import gym\n",
        "import threading\n",
        "import math\n",
        "import glob\n",
        "import io\n",
        "import base64\n",
        "import multiprocessing\n",
        "import matplotlib\n",
        "import numpy as np\n",
        "import pandas as pd\n",
        "import tensorflow as tf\n",
        "import matplotlib.pyplot as plt\n",
        "%matplotlib inline\n",
        "from gym.wrappers import Monitor\n",
        "from tensorflow import keras\n",
        "from os import path\n",
        "from time import sleep\n",
        "from tqdm.notebook import tqdm\n",
        "from IPython.display import HTML\n",
        "from IPython import display as ipythondisplay\n",
        "from pyvirtualdisplay import Display\n",
        "display = Display(visible=0, size=(1400, 900))\n",
        "display.start()"
      ],
      "execution_count": 37,
      "outputs": [
        {
          "output_type": "execute_result",
          "data": {
            "text/plain": [
              "<Display cmd_param=['Xvfb', '-br', '-nolisten', 'tcp', '-screen', '0', '1400x900x24', ':1007'] cmd=['Xvfb', '-br', '-nolisten', 'tcp', '-screen', '0', '1400x900x24', ':1007'] oserror=None return_code=None stdout=\"None\" stderr=\"None\" timeout_happened=False>"
            ]
          },
          "metadata": {
            "tags": []
          },
          "execution_count": 37
        }
      ]
    },
    {
      "cell_type": "code",
      "metadata": {
        "id": "tvT2J4Oa6AsX",
        "colab_type": "code",
        "colab": {
          "base_uri": "https://localhost:8080/",
          "height": 34
        },
        "outputId": "6e35bd36-ded0-4b34-b92f-52e4c4c9f5aa"
      },
      "source": [
        "print('using tensorflow', tf.__version__)"
      ],
      "execution_count": 38,
      "outputs": [
        {
          "output_type": "stream",
          "text": [
            "using tensorflow 2.2.0\n"
          ],
          "name": "stdout"
        }
      ]
    },
    {
      "cell_type": "code",
      "metadata": {
        "id": "bR4rdPq23olN",
        "colab_type": "code",
        "colab": {}
      },
      "source": [
        "def show_video(id='video'):\n",
        "  mp4list = glob.glob(f'{id}/*.mp4')\n",
        "  if len(mp4list) > 0:\n",
        "    mp4 = mp4list[0]\n",
        "    video = io.open(mp4, 'r+b').read()\n",
        "    encoded = base64.b64encode(video)\n",
        "    ipythondisplay.display(HTML(data='''<video alt=\"test\" autoplay \n",
        "                loop controls style=\"height: 400px;\">\n",
        "                <source src=\"data:video/mp4;base64,{0}\" type=\"video/mp4\" />\n",
        "             </video>'''.format(encoded.decode('ascii'))))\n",
        "  else: \n",
        "    print(\"Could not find video\")\n",
        "\n",
        "def wrap_env(env, id='video'):\n",
        "  wrapped_env = Monitor(env, f'./{id}', force=True)\n",
        "  return wrapped_env"
      ],
      "execution_count": 0,
      "outputs": []
    },
    {
      "cell_type": "code",
      "metadata": {
        "id": "xG-mqsx41fhc",
        "colab_type": "code",
        "colab": {}
      },
      "source": [
        "class PipelineArgs():\n",
        "  def __init__(self,\n",
        "               game_name='Acrobot-v1',\n",
        "               mode='train',\n",
        "               max_eps=100,\n",
        "               update_freq=20,\n",
        "               gamma=0.99,\n",
        "               model_path='.',\n",
        "               load_model=False,\n",
        "               max_testing_steps=1000,\n",
        "               lr=0.001):\n",
        "    self.game_name = game_name\n",
        "    self.mode = mode\n",
        "    self.gamma = gamma\n",
        "    self.update_freq = update_freq\n",
        "    self.lr = lr\n",
        "    self.max_eps = max_eps\n",
        "    self.load_model = load_model\n",
        "    self.model_path = model_path\n",
        "    self.max_testing_steps = max_testing_steps"
      ],
      "execution_count": 0,
      "outputs": []
    },
    {
      "cell_type": "code",
      "metadata": {
        "id": "bz8PHZKXb-db",
        "colab_type": "code",
        "colab": {}
      },
      "source": [
        "class History():\n",
        "  def __init__(self, args):\n",
        "    self.history = pd.DataFrame()\n",
        "    self.args = args\n",
        "  \n",
        "  def record(self, eps_reward):\n",
        "    self.eps_rewards.append(eps_reward)\n",
        "\n",
        "  def save(self):\n",
        "    self.history['eps_rewards'] = self.eps_rewards\n",
        "    self.history.to_csv(path.join(self.args.model_path, 'history.csv'))\n",
        "  \n",
        "  def load(self):\n",
        "    if path.exists(\n",
        "        path.join(\n",
        "            self.args.model_path, 'history.csv')) and self.args.load_model:\n",
        "      self.history = pd.DataFrame()\n",
        "      self.history.read_csv(path.join(self.args.model_path, 'history.csv'))"
      ],
      "execution_count": 0,
      "outputs": []
    },
    {
      "cell_type": "code",
      "metadata": {
        "id": "to5WdjMOBij4",
        "colab_type": "code",
        "colab": {}
      },
      "source": [
        "class Memory():\n",
        "  def __init__(self):\n",
        "    self.states = []\n",
        "    self.actions = []\n",
        "    self.rewards = []\n",
        "  \n",
        "  def store(self, state, action, reward):\n",
        "    self.states.append(state)\n",
        "    self.actions.append(action)\n",
        "    self.rewards.append(reward)\n",
        "\n",
        "  def clear(self):\n",
        "    self.states = []\n",
        "    self.actions = []\n",
        "    self.rewards = []"
      ],
      "execution_count": 0,
      "outputs": []
    },
    {
      "cell_type": "code",
      "metadata": {
        "id": "yPNOZzhineIp",
        "colab_type": "code",
        "colab": {}
      },
      "source": [
        "class Worker(threading.Thread):\n",
        "  # The cumulative episode played\n",
        "  global_eps = 0\n",
        "  best_score = 0\n",
        "  lock = threading.Lock()\n",
        "\n",
        "  def __init__(self,\n",
        "               args,\n",
        "               action_size,\n",
        "               state_size,\n",
        "               global_model,\n",
        "               opt,\n",
        "               pbar,\n",
        "               callback):\n",
        "    super(Worker, self).__init__()\n",
        "    self.args = args\n",
        "    self.game_name = self.args.game_name\n",
        "    self.env = gym.make(self.game_name)\n",
        "    self.action_size = action_size\n",
        "    self.state_size = state_size\n",
        "    self.local_model = ActorCriticModel(self.state_size, self.action_size)\n",
        "    self.eps_loss = 0\n",
        "    self.opt = opt\n",
        "    self.global_model = global_model\n",
        "    self.pbar = pbar\n",
        "    self.callback = callback\n",
        "\n",
        "  def compute_loss(self, done, new_state, memory):\n",
        "    if done:\n",
        "      reward_sum = 0\n",
        "    else:\n",
        "      reward_sum = self.local_model(\n",
        "          tf.convert_to_tensor(\n",
        "              new_state[None, :],\n",
        "              dtype=tf.float32))[-1].numpy()[0]\n",
        "    discounted_rewards = []\n",
        "    for reward in memory.rewards[::-1]:\n",
        "      reward_sum = reward + self.args.gamma * reward_sum\n",
        "      discounted_rewards.append(reward_sum)\n",
        "    discounted_rewards.reverse()\n",
        "    past_states = np.array(memory.states)\n",
        "    logits, values = self.local_model(\n",
        "        tf.convert_to_tensor(past_states, dtype=tf.float32))\n",
        "    advantage = tf.convert_to_tensor(\n",
        "        np.array(discounted_rewards)[:, None], dtype=tf.float32) - values\n",
        "    # Calculate the loss for value function which mean how off is our\n",
        "    # predicted value from the true value estimated from the discounted\n",
        "    # reward.\n",
        "    value_loss = advantage ** 2\n",
        "    # Calculate the policy loss\n",
        "    policy = tf.nn.softmax(logits)\n",
        "    entropy = tf.nn.softmax_cross_entropy_with_logits(\n",
        "        labels=policy, logits=logits)\n",
        "    policy_loss = tf.nn.sparse_softmax_cross_entropy_with_logits(\n",
        "        labels=memory.actions, logits=logits)\n",
        "    policy_loss *= tf.stop_gradient(advantage)\n",
        "    policy_loss -= 0.01 * entropy\n",
        "    # Combine the value and policy loss to be a single trainable\n",
        "    total_loss = tf.reduce_mean((0.5 * value_loss + policy_loss))\n",
        "    return total_loss\n",
        "\n",
        "  def compute_and_apply_gradient(self, done, new_state, mem):\n",
        "    with tf.GradientTape() as tape:\n",
        "      total_loss = self.compute_loss(done, new_state, mem)\n",
        "    self.eps_loss += total_loss\n",
        "    grads = tape.gradient(\n",
        "        total_loss, self.local_model.trainable_weights)\n",
        "    self.opt.apply_gradients(zip(\n",
        "        grads, self.global_model.trainable_weights))\n",
        "    self.local_model.set_weights(self.global_model.get_weights())\n",
        "\n",
        "  def run(self):\n",
        "    # Prepare variables\n",
        "    mem = Memory()\n",
        "    total_steps = 1\n",
        "    # Check the maximum episode of learning is reached\n",
        "    while Worker.global_eps < self.args.max_eps:\n",
        "      current_state = self.env.reset()\n",
        "      mem.clear()\n",
        "      done = False\n",
        "      ep_reward = 0\n",
        "      self.eps_loss = 0\n",
        "      time_count = 0\n",
        "      ep_steps = 0\n",
        "      # Check if the game is over\n",
        "      while not done:\n",
        "        # Get the policy and play the game\n",
        "        logits, _ = self.local_model(\n",
        "            tf.convert_to_tensor(np.array([current_state]), dtype=tf.float32))\n",
        "        probs = tf.nn.softmax(logits)\n",
        "        action = np.random.choice(self.action_size, p=probs.numpy()[0])\n",
        "        new_state, reward, done, info = self.env.step(action)\n",
        "        if not done:\n",
        "          reward -= 1\n",
        "        ep_reward += reward\n",
        "        mem.store(current_state, action, reward)\n",
        "        # If the explore time limit has been reached or\n",
        "        # the game is over, then update the models\n",
        "        if time_count >= self.args.update_freq or done:\n",
        "          self.compute_and_apply_gradient(done, new_state, mem)\n",
        "          mem.clear()\n",
        "          time_count = 0\n",
        "          if done:\n",
        "            with Worker.lock:\n",
        "              if Worker.global_eps == 0:\n",
        "                Worker.best_score = ep_reward\n",
        "              if ep_reward > Worker.best_score:\n",
        "                self.global_model.save_weights(\n",
        "                    path.join(self.args.model_path, 'best.h5'))\n",
        "                Worker.best_score = ep_reward\n",
        "                self.callback(id=f'eps_{str(Worker.global_eps)}')\n",
        "              self.global_model.save_weights(\n",
        "                  path.join(self.args.model_path, 'backup.h5'))\n",
        "              Worker.global_eps += 1\n",
        "              self.pbar.set_description(\n",
        "                  f'step: {ep_steps}, reward {ep_reward}/{Worker.best_score}')\n",
        "              self.pbar.update(1)\n",
        "        ep_steps += 1\n",
        "        time_count += 1\n",
        "        current_state = new_state\n",
        "        total_steps += 1"
      ],
      "execution_count": 0,
      "outputs": []
    },
    {
      "cell_type": "code",
      "metadata": {
        "id": "bnSC4zC4nt9C",
        "colab_type": "code",
        "colab": {}
      },
      "source": [
        "class ActorCriticModel(keras.Model):\n",
        "  def __init__(self, state_size, action_size):\n",
        "    super(ActorCriticModel, self).__init__()\n",
        "    self.state_size = state_size\n",
        "    self.action_size = action_size\n",
        "    self.conv_0 = keras.layers.Conv2D(\n",
        "        filters=4,\n",
        "        activation='relu',\n",
        "        kernel_size=8,\n",
        "        kernel_initializer='random_uniform',\n",
        "        input_shape=(None, 210, 160, 3))\n",
        "    self.conv_1 = keras.layers.Conv2D(\n",
        "        filters=4,\n",
        "        activation='relu',\n",
        "        kernel_initializer='random_uniform',\n",
        "        kernel_size=8)\n",
        "    self.flatten  =keras.layers.Flatten()\n",
        "    self.policy_dense_0 = keras.layers.Dense(\n",
        "        64, kernel_initializer='random_uniform', activation='relu')\n",
        "    self.policy_dense_1 = keras.layers.Dense(\n",
        "        32, kernel_initializer='random_uniform', activation='relu')\n",
        "    self.policy_logits = keras.layers.Dense(self.action_size, activation='relu')\n",
        "    self.value_dense = keras.layers.Dense(\n",
        "        128, kernel_initializer='random_uniform', activation='relu')\n",
        "    self.value = keras.layers.Dense(1)\n",
        "  \n",
        "  def call(self, inputs):\n",
        "    x = self.conv_0(inputs)\n",
        "    x = self.conv_1(x)\n",
        "    x = self.flatten(x)\n",
        "    p = self.policy_dense_0(x)\n",
        "    p = self.policy_dense_1(p)\n",
        "    logits = self.policy_logits(p)\n",
        "    v = self.value_dense(x)\n",
        "    values = self.value(v)\n",
        "    return logits, values"
      ],
      "execution_count": 0,
      "outputs": []
    },
    {
      "cell_type": "code",
      "metadata": {
        "id": "wtTON1xmoJCc",
        "colab_type": "code",
        "colab": {}
      },
      "source": [
        "class BaselineModel():\n",
        "  def __init__(self):\n",
        "    print('not implemented')"
      ],
      "execution_count": 0,
      "outputs": []
    },
    {
      "cell_type": "code",
      "metadata": {
        "id": "KVDqVpOqn_e0",
        "colab_type": "code",
        "colab": {}
      },
      "source": [
        "class MasterAgent():\n",
        "  def __init__(self, args):\n",
        "    self.args = args\n",
        "    self.game_name = self.args.game_name\n",
        "    env = gym.make(self.game_name)\n",
        "    self.action_size = env.action_space.n\n",
        "    self.state_size = env.observation_space.shape[0]\n",
        "    self.opt = tf.optimizers.Adam(self.args.lr)\n",
        "    print('state_size: ', self.state_size)\n",
        "    print('action_size: ', self.action_size)\n",
        "    self.global_model = ActorCriticModel(self.state_size, self.action_size)\n",
        "    self.global_model(\n",
        "      tf.convert_to_tensor(\n",
        "      np.random.random((5, 210, 160, 3)),\n",
        "      dtype=tf.float32))\n",
        "    if path.exists(\n",
        "        path.join(self.args.model_path, 'best.h5')) and self.args.load_model:\n",
        "      self.global_model.load_weights(\n",
        "          path.join(self.args.model_path, 'best.h5'))\n",
        "  \n",
        "  def train_sync(self):\n",
        "    pbar = tqdm(total=self.args.max_eps)\n",
        "    worker = Worker(self.args, self.action_size, self.state_size,\n",
        "                    self.global_model, self.opt, pbar, self.eval)\n",
        "    worker.run()\n",
        "    pbar.close()\n",
        "  \n",
        "  def train_async(self):\n",
        "    pbar = tqdm(total=self.args.max_eps)\n",
        "    Worker.global_eps = 0;\n",
        "    workers = [\n",
        "      Worker(self.args, self.action_size, self.state_size,\n",
        "             self.global_model, self.opt, pbar, self.eval)\n",
        "      for i in range(multiprocessing.cpu_count())\n",
        "    ]\n",
        "    worker_pbar = tqdm(total=len(workers))\n",
        "    worker_pbar.set_description(f'starting {len(workers)} workers')\n",
        "    for i, worker in enumerate(workers):\n",
        "      worker.start()\n",
        "      worker_pbar.update(1)\n",
        "    worker_pbar.close()\n",
        "    [w.join() for w in workers]\n",
        "    pbar.close()\n",
        "    self.play()\n",
        "\n",
        "  def eval(self, id):\n",
        "    self.play(load=False, id=id)\n",
        "  \n",
        "  def play(self, load=True, id='video'):\n",
        "    env = wrap_env(gym.make(self.args.game_name), id=id)\n",
        "    state = env.reset()\n",
        "    if load and path.exists(\n",
        "        path.join(self.args.model_path, 'best.h5')):\n",
        "      print('load pre-trained model')\n",
        "      self.global_model.load_weights(\n",
        "          path.join(self.args.model_path, 'best.h5'))\n",
        "    done = False\n",
        "    trial_steps = 0\n",
        "    pbar = tqdm(total=self.args.max_testing_steps)\n",
        "    while (not done) and (trial_steps <= self.args.max_testing_steps):\n",
        "      state_input = tf.convert_to_tensor(state[None, :], dtype=tf.float32)\n",
        "      logit, _ = self.global_model(state_input)\n",
        "      policy = tf.nn.softmax(logit)\n",
        "      action = np.argmax(policy)\n",
        "      state, reward, done, _ = env.step(action)\n",
        "      trial_steps += 1\n",
        "      pbar.update(1)\n",
        "    pbar.close()\n",
        "    env.close()\n",
        "    show_video(id=id)"
      ],
      "execution_count": 0,
      "outputs": []
    },
    {
      "cell_type": "code",
      "metadata": {
        "id": "Yy5tn0pA2-tB",
        "colab_type": "code",
        "colab": {}
      },
      "source": [
        "def gym_sanity_check(args):\n",
        "  print('starting gym environment sanity check')\n",
        "  env = wrap_env(gym.make(args.game_name))\n",
        "  inital_observation = env.reset()\n",
        "  sample_action = env.action_space.sample()\n",
        "  print('observation shape: ', np.array(inital_observation).shape)\n",
        "  print('sample action: ', sample_action)\n",
        "  for _ in range(20):\n",
        "    observation = env.reset()\n",
        "    done = False\n",
        "    while not done:\n",
        "        action = env.action_space.sample()\n",
        "        observation, _, done, _ = env.step(action)\n",
        "  env.close()\n",
        "  show_video()"
      ],
      "execution_count": 0,
      "outputs": []
    },
    {
      "cell_type": "code",
      "metadata": {
        "id": "D_4XwuN1oFkz",
        "colab_type": "code",
        "colab": {}
      },
      "source": [
        "def entry_point(args):\n",
        "  if args.mode == 'sanity':\n",
        "    gym_sanity_check(args)\n",
        "  if args.mode == 'play':\n",
        "    master = MasterAgent(args)\n",
        "    master.play()\n",
        "  if args.mode == 'train_sync':\n",
        "    master = MasterAgent(args)\n",
        "    master.train_sync()\n",
        "  if args.mode == 'train_async':\n",
        "    master = MasterAgent(args)\n",
        "    master.train_async()\n",
        "  print('Hello World')"
      ],
      "execution_count": 0,
      "outputs": []
    },
    {
      "cell_type": "code",
      "metadata": {
        "id": "I_oklLOXofGu",
        "colab_type": "code",
        "colab": {
          "base_uri": "https://localhost:8080/",
          "height": 1000,
          "referenced_widgets": [
            "2c33ea7b99b54e4c848bc3d6c7fb02fa",
            "6d8175a2bcdb468fa56a9d13642c3f5b",
            "be814399768c42debf309e629b3a4878",
            "3d3bd71b775f4a7db6aa8a3354d3e444",
            "487a7795154d4d7fb955a08de56bf2e5",
            "6daaba5807344274aa680b12d7d27724",
            "974fc83636d54d208d4b698e8a7e61c0",
            "1f3c5403ef9442b384240eacdb0d408b",
            "2606abd76fb042208e22d28fba6f819a",
            "dc84d6903b0341479e1014a4ce1024bc",
            "0c1b33a072ae4a6d8a0afcdf8a3171e4",
            "b14d7145d41a4e2cb9a67de530e78349",
            "8ff97361334c496e8f575794e98617f4",
            "a477587f2ad5435788082d0a9d4c5b52",
            "77ed925cbc854312b8d7e05a1868c589",
            "3a96b7464518407da836a13203850aa0",
            "409f93d349584763a631ae0ed053c34b",
            "022d0784bf1d481ba276726ad35d4125",
            "b53824acc95646ab8a5c1ac31501ed0b",
            "77c3b8b1699445a4ab228d6a78107b56",
            "01f53e628cfa4f648259f648cece9bfb",
            "6ae01e4208c3460ea6e07b162cc00db5",
            "5c4e38b25b1c44559aa8ba6b2324421e",
            "ba9d5a2fa83447e9b58aadf148bf251d",
            "bdf8a9fcac164221ac6794f43e3f97db",
            "b563c04badc9469e96c092e2fc7ef76b",
            "3ecf53bce4a24eac9077fd372f55c24a",
            "da0fca5173854e19923ebbc2b96099b6",
            "9276461cffe04cea8c39ca3bcb64e0fa",
            "473db73ed795461bafee6341dc876ff8",
            "83033b128cbe4b8c85ebc8ffbb24a44a",
            "c5f80f0f365d4ec6a9e618f29e5e85d9",
            "00053ad51670496697fe91a7657459fa",
            "fe9a780529fe419d93a753f68472ad41",
            "b05cc621f1084a24a83f18bc8ee8b731",
            "240e9481549742498fd9b7aaaf4d71e1",
            "8a80d2005d5f4e9cbd1aa26db209cf86",
            "65bef356e24044168f8f6abcb28e7cb8",
            "72c8d129ba524dbcb33ec259b6c55b0d",
            "2fa769dc253b49cb87ee02b9b8dd8629"
          ]
        },
        "outputId": "d46158fc-6ad5-4f4e-eae7-05341edce51a"
      },
      "source": [
        "entry_point(\n",
        "    PipelineArgs(\n",
        "        game_name='Berzerk-v0',\n",
        "        update_freq=128,\n",
        "        max_eps=2000,\n",
        "        max_testing_steps=2000,\n",
        "        load_model=True,\n",
        "        mode='train_async'))"
      ],
      "execution_count": 0,
      "outputs": [
        {
          "output_type": "stream",
          "text": [
            "state_size:  210\n",
            "action_size:  18\n"
          ],
          "name": "stdout"
        },
        {
          "output_type": "display_data",
          "data": {
            "application/vnd.jupyter.widget-view+json": {
              "model_id": "2c33ea7b99b54e4c848bc3d6c7fb02fa",
              "version_minor": 0,
              "version_major": 2
            },
            "text/plain": [
              "HBox(children=(FloatProgress(value=0.0, max=2000.0), HTML(value='')))"
            ]
          },
          "metadata": {
            "tags": []
          }
        },
        {
          "output_type": "display_data",
          "data": {
            "application/vnd.jupyter.widget-view+json": {
              "model_id": "2606abd76fb042208e22d28fba6f819a",
              "version_minor": 0,
              "version_major": 2
            },
            "text/plain": [
              "HBox(children=(FloatProgress(value=0.0, max=40.0), HTML(value='')))"
            ]
          },
          "metadata": {
            "tags": []
          }
        },
        {
          "output_type": "stream",
          "text": [
            "\n"
          ],
          "name": "stdout"
        },
        {
          "output_type": "display_data",
          "data": {
            "application/vnd.jupyter.widget-view+json": {
              "model_id": "409f93d349584763a631ae0ed053c34b",
              "version_minor": 0,
              "version_major": 2
            },
            "text/plain": [
              "HBox(children=(FloatProgress(value=0.0, max=2000.0), HTML(value='')))"
            ]
          },
          "metadata": {
            "tags": []
          }
        },
        {
          "output_type": "stream",
          "text": [
            "\n"
          ],
          "name": "stdout"
        },
        {
          "output_type": "display_data",
          "data": {
            "text/html": [
              "<video alt=\"test\" autoplay \n",
              "                loop controls style=\"height: 400px;\">\n",
              "                <source src=\"data:video/mp4;base64,AAAAIGZ0eXBpc29tAAACAGlzb21pc28yYXZjMW1wNDEAAAAIZnJlZQAAhlttZGF0AAACrgYF//+q3EXpvebZSLeWLNgg2SPu73gyNjQgLSBjb3JlIDE1MiByMjg1NCBlOWE1OTAzIC0gSC4yNjQvTVBFRy00IEFWQyBjb2RlYyAtIENvcHlsZWZ0IDIwMDMtMjAxNyAtIGh0dHA6Ly93d3cudmlkZW9sYW4ub3JnL3gyNjQuaHRtbCAtIG9wdGlvbnM6IGNhYmFjPTEgcmVmPTMgZGVibG9jaz0xOjA6MCBhbmFseXNlPTB4MzoweDExMyBtZT1oZXggc3VibWU9NyBwc3k9MSBwc3lfcmQ9MS4wMDowLjAwIG1peGVkX3JlZj0xIG1lX3JhbmdlPTE2IGNocm9tYV9tZT0xIHRyZWxsaXM9MSA4eDhkY3Q9MSBjcW09MCBkZWFkem9uZT0yMSwxMSBmYXN0X3Bza2lwPTEgY2hyb21hX3FwX29mZnNldD0tMiB0aHJlYWRzPTcgbG9va2FoZWFkX3RocmVhZHM9MSBzbGljZWRfdGhyZWFkcz0wIG5yPTAgZGVjaW1hdGU9MSBpbnRlcmxhY2VkPTAgYmx1cmF5X2NvbXBhdD0wIGNvbnN0cmFpbmVkX2ludHJhPTAgYmZyYW1lcz0zIGJfcHlyYW1pZD0yIGJfYWRhcHQ9MSBiX2JpYXM9MCBkaXJlY3Q9MSB3ZWlnaHRiPTEgb3Blbl9nb3A9MCB3ZWlnaHRwPTIga2V5aW50PTI1MCBrZXlpbnRfbWluPTI1IHNjZW5lY3V0PTQwIGludHJhX3JlZnJlc2g9MCByY19sb29rYWhlYWQ9NDAgcmM9Y3JmIG1idHJlZT0xIGNyZj0yMy4wIHFjb21wPTAuNjAgcXBtaW49MCBxcG1heD02OSBxcHN0ZXA9NCBpcF9yYXRpbz0xLjQwIGFxPTE6MS4wMACAAAABN2WIhAA3//728P4FNlYEUJcRzeidMx+/Fbi9ZlP5kuArLqcCmKoAHIABOAgMb8EXRqMwPA7XoADCq00lZebGsP00T5A7QNODSxyWXnwAmu154x3Ed7o77JpPI3yfCup8bcu77c7Z9QI/ed4hikb7nnVxD6sktB74Pz7m01fPnCGeIIhjo3+DZ3hwtpF064i6TsZNnNZCD+Sdc/EJBblY2CvhHqyMEVoARVHlBUNhWTdTuYoM3OyzfE7XiJbBBu16CupeMVAkYl9Bz3Bs0C9dUto9CIT2RddaZsjXwNbaDtZU+6/n12YCqh4T6A5R3+G9HjCTcP3THBqp6MxlMAndMgAL0atLat/+xs2q/X64/S58Qtanp6nH6gU8vaLH9ercTf4UgOFRn/I3VOkUlrJ1ANZyXWWe/EsJAAAAKkGaJGxDP/6eEAGRtGuAINrnbyB6suypn9/K1o29khGV3IQ5CJ52G+XGJAAAABFBnkJ4hX8AVBonGFf3NeTA3QAAAA0BnmF0Qn8Aa/ye8loDAAAADgGeY2pCfwBnHlfJMf7bAAAEqkGaaEmoQWiZTA///l2y1HIbn/+PifwokUS4SIFtGQyk1D9FvfmLmAL1uXTs7mv2bjXgaSfZiXErsQGOpb65gBcTgiDnHG0JeLsbY0UVZU2BnCF84pQt62HLQ9Zhd2Bo9QDwAXLJ0GNsNea7YfL7Bvp3NQZTsvvkjHCtSpTrvyosvnp0i9U+OEW7JnNPIxefbJ2UfrIwK7JrcGVYjRA2PsqC2B7SnCI+fhGD5wHP3rKOrZYNHPOBA2el/b20MT8+n617PSGRYiPi+IYtnwOKgYTlbFOP4QX1oJ3zl7O3YhVzglJZIC09Sw4ltjyycpZnIHV5onA6posN+6EQEu0yIh16I+gAVncAJWUTSy9wnK3s26wDpv+5pBpP3TwdGY6B9j0++Qh7H2+q/NnCOZHS/sCnRatdZ8Sw7gRHJ0FCcASYd0ZvtjLVvtl1kD2mYiDHR17CDkLioMRiK2Qaawsy7WvtaRmPu3wJ1+ZMtMd77OQAKyKIA/rjzKlCoRCNhg1u/BKjj02PpmINeVSA9zjB8sBkNqgMqvBfPlnU3K+tRSejYrtNDapt8omT8T5g/hMJgX2eB2aBKSc8qNVlX+Hu/ZzD9GYtB+FtDlKwhaA4wLkB2x5umtAbxdFBidEtPYZWLNxjE7P6WSvE6N95IMRQ6WJmvy6ToPU9C7zTAR2og2L1FOx/bjX3UqvH+CqeuyIe2fSq8Z9oQW3/iQqhGHjQznMSGC8QjsfcfNWdLlaXmXbUwb29xG/T013rlgKvxTzbfklFogwvMGhzy/A+oq7xo+SwAAdcJJXkM9+kMjgl2a7N8dCh+Enpr2FaaO+2EmiOpmD5Vxa+hgtoXJuD+1fF2uSG9MeVf1P3qLot5NF6PNtG8VwjT9wXgl3ahF1UUzYlUkqYb6VMW59RPUuI8s7pcv8D4/tri93s6SA3VblbOtRGMBBMKWsqxEypGXg45ZurPI1/tIruMIGDCWbSJQY3viQ8t2TF5QgFRyXqi05FT5c0+myHhwYVhD1FzY0JnJUmn5XoyZl59gNYBqrxEpJRFf3ftbcUAemn8+a+qfrjtctHky9xMIhprIU6Tl0HIIglbGqQoNHJAsQJmtBkZfXRU2DtYycZ1ORBySYOs4cizOBwJdt0QU6mFadCIBa83qlKIdzHKmY03UlRxV9ezxEBXQ3AIlgSKogfq6kEFYkTh5N/POPV1kCZbhySM2QhP/39/aaOK2PLsxpuIK61wDRVjCLGkyRN62uWIOAWB0YH42Vcxqy7s22Dk9EUuGAqlfHXWH2WjmHzrHRXwuuFjiIKiyQFyw76qkq/KEIjifWs0F62+Im4YqM5uV4rqhuC9mQ8thpa5loOG98l6hn08OYygbvEfM7o+jy94tM/Rl4Jxd8hVR9CMN1uUITIBlPCvTbVfSxDbnkrRUkykvDuGX5/QIOQ6qYoYxeIt3Dkdbg6kSBNzmscuACzEzEEb0JKgLcD4bLYpHnO405kD+Ji+eFpZe3WesGdouaKV2vB03dHFQcegoNXM9MMLQHMBUg7Ftve2jzlc533JJLfwP4lxSoimfgzEUgkaBwm3DTGP3am0jzWVPZorjdHi5hJdQAAAE1BnoZFESwl/+7rNjbhMuvzSEjdNLFFq0omstGHnPXv7/FjZpgl6PlElE3wfsOb0Df7IdoZOih5ZrWddlFdAFmvL3lYwlP7XZUEWD0yIQAAABEBnqV0Qn/3Xx4q12C2daeAsQAAAC0BnqdqQt+8b2PWTFNTiLQvegAkcUB4wDHxepu7A9/ZVXD4MFEPbS5YsxCOkoAAAAB0QZqrSahBbJlMD/8Aq6umRFRITGFXOB16cqvh3y97MxmPVyA16zsgQ0ymAqCRktpxCx8nZNN+/P4FdkEFF+R2QfEs/nZZpCHmZJub38dV6Un27MrJp+tvpd26mgqsJ8qVv3/ZzKs2AsoU3oeMa6MFEsRAkWAAAABRQZ7JRRUsJf+sioCkjhk3o6XCjLWUp3L2usL56/oQussnKlznjhnJjNE50DVCKm8BhWSxDi+9OLaJIUAHpwn236FT7cY0086LdgBvb2YHHLmBAAAAVQGe6mpC325Ej9+vNnZw7kHG9uSii09oo2M93Q6P3G5CJwxm608eWuuMBfhymBk1uVOGwYZu/SKoxGz6YF9fXv3dD9w3zZ9wzGCdRVigzopT5OKeiYAAAABpQZrtSahBbJlMFE//AKurplKRhCX35LydYnc6/OuuRlK40RAa9Z15QRFy6Zk6/pCyfhsVU/caKM/cZufheWZapIl0DnL66JKc8uPs+Qu9zsQAcFpLI/S/Z+muVAPQ11dFyCuM8Vr6O/kMAAAAFgGfDGpC324rf+BA6mtmPll6JUZs5IEAAAChQZsRSeEKUmUwPwCzXrplDodFB1QpHqnafNRA7GtEtCjg+ojXjQglntCLxndlAFYd3Vz//7VmohtdeKDSV7xw4E9s4CkaiL9rjj6JIB75P3Cat4pZLEA81Sz7yiQWdw8847SLbgsI33iu+rVeTIHEincw5KDfoESr8KU23rsD/a8cbB0DupOg7JcYsqDvhHHoylMI3AnkVW3y2myEn1t6YlEAAABUQZ8vRTRMJf9mCx+1z7PBAJL0tJ2AN05wMvPJj9mtgJDe7g6KW99pzL1qzAkoLmnjRMc354Z+PXb3Y38z1XzdrSmcyX8o8+ulJ4sdjkZGBS52CZ+BAAAASgGfTnRC33Ao+B2Gc3F3Yff7WmHZRmPZwk9I9gtqDoJGZ550MD8ltGGzY1P6MPNZqyijN9LX+969n1/UmS231Sxr+wqEQdHzGGdAAAAAWAGfUGpC33AVs3COlfTD/id/23fG6LdoCgrZxjhrk/1pV1yewvya3CwWd39O39caZmWBKkMfKZ8W1MHGD3p6X4TG1h8+uxe4U7RfGuxHLMK0odjIfx2ooZMAAAEsQZtVSahBaJlMD/8Aq6umUpGEJnBdEMhEm1iVwyWXk7kfVqYYk2p48bebT879DOtr/+xgMA88EJYyWiOlLiII+psSDsYbpjQB74p3XOZag7y+rqBW0Tu0xSjdQAb+bInhoeEcUQf4FVyQxb51KJdvWQ3K0JtyCeUorcVPHuuRIWtm9LYzlswdP4j4c28aDy5gObyLJoFQ2Ls1L+aMYfgfuRMKF/bOms/cboNTkyv+563dq/Q08FpOgisjfxmUacb+0NqoHLGqAAqP4Q3Ai6r/kQrCftQm2HI8KhIy+/eN7WcpgsJDvXoRlRyNYuqtZaVzdzLq3WUSL88WiUfXdKnTf1HPo7oUMCKoDdCLnY7aAeffBZEpaOk1TvmMNeA1NBYVCrhyYUvjSaphuR3hAAAAYUGfc0URLCX/aT2wiX4OtUNl4+3OMjRL+85yRF1XMgUyKCUpUFot+Rr3LjBtVOdukQziAGRY5Ikyw3v0699XuRdY9d6+ehj6yNifBDIGmjw9X0HpkPIBitfv4MN3mVS/1qAAAABGAZ+SdELfcD5AcksZOWQEWP2HyoKe/4rd6Xe5cp0j4F8uMUh50yqTFGYBCwaD2T3TOrWxL1dpmyHUw7sGbaGLyqtlRiY3oAAAAF0Bn5RqQt9v/Os8jZe+C/I2xjlxuJX/xJza2fe5O+1A1/xF7yRA/HIX+VflQglGuiGx02Ie+Gld8HBNCPPcaJma/+/b6drv0xL3OUusQKoq8ImEmZ2SrJkD8dwdodMAAAFIQZuWSahBbJlMD/8AAygWOBqR8vx5cqYFB+3sXovdT7YBu/H+SD7f0oGuqVUw6WCMP+PWN3pKsJp69umwrwCkhIrZm4Aycm5ix2uCEck66crNeUPLISLdZwrvDb328AI/f94hZL1Pu1jbBFhz22PxgUv8fvNYzfdHebhplTZDvPAVVs22FKq/BG/fMCNAWgFU61sJ3UWVYzkb5uOLvSEIErD9ACWnC6b2WC/2g0iiA+PCvq0qQIAFrh/BLhxOTbyB1Oq/GSqnJ9futdD0Ec8g3/+PaLWZhGxxvZ01n6mo3AOuyxWzynYVeW3z3HSTkF/sH+hKHwjoan7nZdqVtfUHChL3AVqAtsCDQ3cRAWrvXD80Jk3yPXD8zs0bmjv+rXR/f0HhQFC+QKiPR+6j1yTesBt36JdKaXMsazNd2dXxnLaWjC7f/+GqgAAAAElBm7hJ4QpSZTBRUv8Aq6lkVBGEJf0zOVFLeX4+E/x6Ij0IA40QbfFtIj/uTdfafpmNhQqq7LcljPbht85lxZRSfo5vJr19O7O/AAAAFgGf12pC324rf9kv0JaJU0ayJrX1TMEAAABqQZvcSeEOiZTA/wCrq6YdUYQmLJVAGG9fvGnqB/j9jjMSclgdohqWPyagZZSx2bFE5Pvtydqq3m4l/2dsrLGNdi1M8a7kstbS3ugssmcKVgto/qEhvsj+hwPfbPCrn/ME32x1ZsoGrktDQAAAAClBn/pFFTwl/2d2s67+5/Z1a6MWb8TJqiYhJ7TAAR9YEZQgFpTkgFAawQAAABMBnhl0Qt9rV7D29r++PY7pKjSgAAAAhAGeG2pC325Ej8cQYUY18p1Axd8fpzJJ86MWzBK4BB4dDpWyOSvF2vlH52Y/a8ejLM/v6duB09CodwEhQhR+3TVfPMV4HeJosn+NHu4553AvMLZCaISSM4h9l1RBiES+emrUFsNsqhbDzabkWRtfhaDPC3O3XvKz40QMC1WYyPM5nCruCwAAAFNBmh5JqEFomUwU9f8BGMDkp9uv9SiDMapS4LnnLyZirmro0qvMEQkcwBrTeyFieUV4JFPnA202b0NAHArXYd9yehYNbWfWlVM7U6SRpDUyaL0twQAAABEBnj1qQt9wFbWCEFXkeqh/gAAAAMxBmiJJ4QpSZTAr/wEkz05KTFmeB12v3+D3ENMnOe5O5sDBZjWvPQ3/WsiOsfuC0Pt0FsvBIGdDpI56qZEVBTEabwC/H5+pf41fL4o2RJ5bPxU8ecXnvi5XJi3GfPf8pXWsJ9iFtt/WDW/St8o6KvCHbUX1i8JHGgd80H+Iw1KvebGmL59ZZeCIQ9Iq295VOHzSG0SKoInctOc+XK7d8dICRcacO6zHPytMcEfpL/tS7bh29/ELwVfKrU2BuFBcjwCG6FqQFyJ5Ms9/Gs0AAABUQZ5ARTRMJf9okZhGg+08JP3NGNAA51iD2b7zze/rbTL8Z0tUrgLAQxy9xakwBQJLsYpXW7jWhJHhEeEi2tngAqNi1c8rwESbK6I6KKtluofLjwuxAAAAGQGef3RC324mpI6hwZx87g+kgBGrtmITsoAAAAAUAZ5hakLfcCIGfrMO11Q9EJEFDCkAAABkQZpkSahBaJlMFPX/ARjFOK0ZRNXAUZxRVZ/Ctxctnjat4F2l9shcK3rin5GlP8Trxq90e3TLEJXm6h/Lsk5uPjGdSIhCJZN6ckz6qEGfY7lCB/ETQFTwXjLhSSVyIFTHOVMxQAAAABIBnoNqQt9uK5NaNglf0HFXhs0AAACBQZqGSeEKUmUwUtcBGMU5rcduSHD4RlNnqr2/gyiqolC3WlH8Lg78R69XnNANUlA33771isV3mDrdMP7REt3XIf+0vTKhhWRo4sWSF1CZ4n+7uWWPu5QnHlBSVkrY9B2dSl3TG7B3qOYSei9cAdq0mJvt/mmHLSeLFcB8bJKH3+GPAAAAEwGepWpC323HRqwfIIYb+GI0JSEAAABUQZqoSeEOiZTBRMn/Aaf+00yrol1WB+wkDObXG32ZC8fQbTCHylZQqPa/Oj7AeUlDcYvVWI09aWEmF+xU0FNWMgkDxakqnM6deNUeSRkTMdy9en+9AAAAEQGex2pC324rf9krlHuyphhwAAAASUGazEnhDyZTAk8BlqDFY74HlbGHsDLpLuOQOE5cuzaFBQX3JAzXrLOc1wEVOs1IPcZ8r3vfDtqCViZk7xBeKOMYb5j+ZQSNKAEAAAAgQZ7qRRE8Jf9ndTKpgNc/s6t2lACrSMTS39gXiNF3UYEAAAASAZ8JdELfbADkYSeMWtLjqcUGAAAAEQGfC2pC33D9Vj1mewv3/HFOAAAATUGbD0moQWiZTAm/All/AdqKy4khksMt1oNHjaiv7TOegcsXEZU3bmQ5cw3E/HdNDJAn3eJZXeEsjNukuE3qQnL5Bm+PPpfYbBZppPA9AAAAEUGfLUURLCX/Ze5wxAWEWFjBAAAAfwGfTmpC32hFcOXwAro/z3vTmST50YtmEqXYPDodKzplj4u18o/OzH7Xj0ZZn9/TtwOnoVDuAkKEKP26ar55ivA7xNFk/xo93HPO4F5hbITRCSRnEPsuqIMQiXz01agthtlQbC720NvCm34Wg7q1mBH3lZ8aIGBarMZHmaCDNOEAAADcQZtTSahBbJlMCI8DqwfgzQNqUth01LUhHKQ95PjKysO1z2r9wsrUDRT1Fn4Q+tvwRbrO/0qcT/6x/T+i26QZmKu1cZRixyq3GisWXiVda5AY874l/X/T7FzHjfDWyTtBTZ1ob1Xj/9phWeB/37NwwL4/5oN3G+ZCZjYGBtmf0KUhx/eF8sheRWNpJybr8NnV6ngYKU11dx9tBNSh/Qx0GJE+AFdIKCZXhpYB57aZk94hQHvcsNJqe4y2CHPsWH+lVOu4Zx8v2HTIpto4k3e8/g4docvxHr3SHGg6QAAAAERBn3FFFSwl/2YJ0y/weCASXpaTzm8J7G+P2cgqgRb37hoCgDNAxRRsBWYEXBc08akWc7B4rNJx5GygFL2Rr4oy1PI0LwAAABEBn5B0Qt9uJG/EzNJIE1WmrwAAABMBn5JqQt9uRxpPG0gktsTTSx1wAAAAU0GblEmoQWyZTAiPA2JoBpw5GR5kBu1mw43Vfz+kyRuQLaQe8ZXvkJvdQkpeXkKdlaqq7EDWXFLMRMOR56AIQKE73XJlo5mvu6p+EE83zzgU71IeAAAAd0GbuEnhClJlMCM/DVSVIUQXyPW7YaUKVPzMkEn8M2tu+PRx/vhkDlptLrvCgdnPkbJsfH34RsjfmJ3b9xzVacg0ra5h07EXOTDMT8BTc9lSMzQ/3aeVj5GJ0BK4JbuGNmc/fsCY4VD2JZvt96CH7rvw5kv0jp/BAAAATUGf1kU0TCX/aT29KHsU6FE75iMKU/MmvrxjCnK5OrzydEWpqpmGHvZxg63nAtN1VozUVgAFHW84d2nKemAuIXTBcqQ2Wl9JKqfMtit7AAAAEwGf9XRC32/48geYlaN/hkMgNf0AAAARAZ/3akLfcBW3rIeVUFZw3oEAAAAuQZv5SahBaJlMCM8B1jE54RRYs3KMGUq23eKp/NUsnK+Pfp2u4T9RREVdwLSbDAAAAOpBmh1J4QpSZTAhb+2GB/Sg/T/CVaACQNTEQO6WXpLYbv9HHpC3ds2xJ3Nu0W16fGDo5Dio1gNf0sSu6w29/2wXmxuEDIUebGBKyHfwU6UKVc9oZ2/HshIoXK9MEe4WSHz88yXu/8Pp8P26WBwTJvn0PhMxUzLfZArL9mSV7/fvFkpPqGgh9bA05mzIUQmQJsfJFMT66ToZ9czZ/cPn7iP/1fq315IdEZkkEEZartA/wY1vAaQZWxHYUmz0P7PLtZWnl81z5FDoU4S2Rj/gRiuGL9/6UYj8jbz99jlrKv/6086KOgnpEJ4dPSkAAABLQZ47RTRMIf/15M3+vPaJNOaywXD+y9dhgEbKovcyRq00TgWyaIt4OgwLLsfkVZaCH6T1MkI+O+6g1zRAS/TtbFoyzwyW3fraPLyAAAAAEwGeWnRC37D1UuvvGBnp4siOLZUAAABMAZ5cakLf+F3XIZhb/ax+mgrKNu/SQ/67e6sER8OpN3S+Y6EoEi5jZHvCaEXndTus+8TIvW/43KxaHcD2cj3GJFFTF7gU7qvOE7AhfQAAAI1BmkFJqEFomUwIf/+Q3/x/KKTQQPEGuFKWtTvK5LFfx01T//KoBc6EaK/XuqQXiZTMCmqS0wjEAG4JcpTQuWvgAxtTeXSXha/XAjV90KwQIQAUSyEVWR+T1Ors0ncIBKozdgZ+pbTO1D/8I2ApthAyZI4FHQPlX0lmxAN628/+Bo5ej/zCahBGxoZt6xQAAABFQZ5/RREsIf/9jUT6ZHaQG49gnYJtjfwIuQu7oSFWlL/AZDG7sBRLlyg8n4b9KwLSBML9cT06CWRiwz2TBWQSg0aDd6SAAAAAIgGennRCn/y0H1kkHlMdtqAEDuMDrQh18DROAOSDmwMVryUAAAAiAZ6AakI/8+mEddc+TSomiumlTiL7gDGhCwyHrfhuo90VgAAAAF9BmoVJqEFsmUwIb//+qSEjYykuyKBFbcAIUwdqycd8FLfZekEQkjZSMAgbddNhJVJfJpELcAg85VDiWELEuxzolNZR2zPbqTOolAS23kXR++h/cuXERugt11PPFAlb7wAAAEFBnqNFFSwr/0cgeE+ke/+m1YUAE3/slUghz5OZH7OaSgTD3udnfUHlYlMK2fH9daBWt0QKNil2HNmDZCuAr8APwAAAAB0BnsJ0Qn9MLk0McoFUUBibABb5mXjJ6SJOAqkFkQAAABgBnsRqQn9NEGwM/SiWG9H1lM7wHarM7+EAAAA5QZrISahBbJlMCG///qeGT0o95BZg9XmmPHRdhYpVU8IkqVCtFBJqr91oDe/ev61GAuxxG43XlRkdAAAARkGe5kUVLCv/RyBwqDCwAyuesgBbuvyVtdgd0p5xSyjBIxHFezzbM9ha/Cp3jHVtO0xQKvTrYMbThYOK3nD9mBa5zWD5K4EAAABFAZ8HakJ/TRBqY+3tnAAIWbaWiz9Xiq/KZAmJO3jntHp58nFhS6Da1n01IGdf2+bcyOC0Xz6iFs/86JBdEQyrNcY9N5XgAAAAJUGbDEmoQWyZTAhn//6eEFZxY1Gw0dzvKlzV57xk8zkcKh2tx9YAAABAQZ8qRRUsK/9HIHBE2AAsALcX//jAMr7LBp0I6L0S1JErgGfkncEEXKURr6BEGccPNaDFUqCd/Jk5mAAm2c4oQQAAABoBn0l0Qn9MLin0J5BG0wbMrdid0FMLJVz8IAAAADkBn0tqQn9NEGnztAUgny3ACXL/MX82Wpjw5YV/woTdfuGcDQngDISDkHqdt2wk+ra7Rl19wpB3iIAAAALKZYiCAD+UswThrP8CjvOCCSfqo1phKiAq1baHx0/ISyyN1letMwpj/U5akhfYKJwC/ZHUS0mk7BfD0lnriQtf+4mAWfrmbEXp01K8Qy9LcKiE24+1twbZ9jKAKFvIdQE5FaH/kLeKosorZvbeRQ898G+3XsomxIUAOSwf/v3GVKDEnYXnvAJ0Vr19RQg4sgWxOyJmXnyinncKVb10hqUEbJVE2fzGlgbT89+7l8V+R4cjqMxOfR2d5RRkRxPHeFgibAB6GXReNOTeY9UAQfBEjSg8uk9EFHiWoUBy7qnMFzPQv25DD+b4DjOJ1aede03j+om3Cm7nDkxfe+l5CnHe1D5UUSZhrbr5ututnS3KAcY9uo0Kn0oYj13knkTULMJBNCfzeml5JaMf0fF09WZ6q29ys2MeT+pultP5p/oVAuu/jQkSKlRorkAwtVuzbKLxN6CiQcmJTTzdRKqmn4inVXEeJ92Qn8DxL81Wlpc/lEwDhp91pAgTu8HDl81hmthxCbJQsObb4k+yQR5LwRIy3z35vAmKxeVS8120XzBylr/hW2sYGq7xN6zqqsuh7dtBidJfIvSm4y0dOon/UZf6bIAXf34GxAuNzCNFnSrnUh2OIjHxaO0hxAv48r5LBEroSLJo9Zcsxk/auRjh9AA8j1aDEb/tFgIP79ro0oEKST1qicC2rWlJzxJYkDdhN4kODLpLTI3eXaiyeg8AiP0UvZS39VIcp5kix3uUHARlIBSuykJ8PQTOZszF3kyv7rSOapNrWJiuOF1OggKlOd7wwR6LmOqCToe5GswWugwdUCPImf3X3da4EGqmF8LoGafj+fRzBC3D1Z+3a68PTOEthqk1Gxb4MELyUGQsN7xR8VIKvOrQPCPX/cHLnRiD/eLn+EO51Bz6QiN/NaN5nQSYEWQtI9u4iWDoYphvAI1IRuznxhRpA7hnogN/AAADfUGaJGx/RVMfNEhM2yJB299Kw7/OYIA42FPckZ7vLU9/xzBHpTDb3UxLP222IHdmB7Hy6IvbbH65OxP4Yjn8xiAFDOv7acxgrQtxC0pAyZUVODbmm4BAg8+hbcg1YwYmumNc7Yo3Rr2V/BiIsecMc4onFsQ0eYjnsOpaXJrpjtodXL0FihF/SwWS7NanBOdwDLdDUokby4xqv2nvIhbQyCPF2oMu9PsM85sCWDp5MdexS4p7gepe98VGGDlOCHaRFGzXz1NJsiO+DyX112dHSP7iTe7ySiANKiHmgeajVpLsPUn80zra0SaAO5AapjELKTcH4rccER4iH7D0X81Kbj6Lp/vFSwAWzTBrW9SgxTDDkGjKNRM4VtxwDKW3hZeueHdGN/bZjMdqeOo2OqBEaKO3pofLWPkqtadOA3CrJGd/8PeBRSL7iq3WxKEwlNRCNuhRJ9G7b33sd00QpYvaHDlzLmUAhDJupWtk0hhPnhpTxPN7UhFMVEoUFVl6/tHhQt1cWUwHh1Y2YWq4XeU7K0PnDeUmzNlkCLHffoJCLtKY/66S1qPDyXjPjisKi41HlU0vE89aaR8ThkRhKGx8LmwguEGUWeMFjKzJNiKwUt7Az7b/+aPE+r+URKhD8XxyrA0XukPrDvIWZmDyesBFZi8N30Pihc9CSDtteZGn4dO/nclSidJhNOPG4a2cgMkmBAA/Jc7a3aS4iM5iDfMUdJJQ9z7ffx6f7P/Nz5/cueS0xRBCfK1YNkqu/RVfbWEJMm0sh8KcBIOp4YHe1pJFNHiGaVEcO8f/vG8JwzkMkh/WqyoOHYLMvozZVFMrxWATq/hJF6YmzJBGOBGK7y6F55V6I95HXzNEOpPGON4zjlrWWt+pToGrmK3Zyzfk6crbGVvowc5TppGPHiGXJoH3ygpUSIMLwqZuoA9HfCz6OUDF1ark1imro3S173DFuV3XXnCdOQN1q5f3iL84X7Zs3zHKA+zdCDh/KQI+A62RSV/YTVnNVv6PYi2VZeDZrLBofoAHxn+HV0C/fagOi/N8RtSr8zw+V+VsTPg8GOzNw3XGsfQz3IIdlMW/cqXrCDw8HYYPbnCtdtJlCY66Cv1zDBdSlNi67ZDeWH+HDqBGacSQ/jmbZuFuFBpJUnzHH15eozGYu98xPVCgw/vU+wHpdqKRS6qGtEqdefUyhJ2HAAAAP0GeQniEv8tt887r/B3MGM2WPDs8PVOKN84xPZT2KWmvrYak+jeVJYHdqpWBlx1uyiE57em1EV3FbtEOcoPKGQAAAB0BnmF0Qt/YB/yLam7sXCvUAHVLJ54b4V6kHvIevgAAABMBnmNqQt95iEZJbZ2YJKTDKTHdAAAAxEGaaEmoQWiZTA//ATQMBkRHgLj9Br6rQWdy8YA5jABS3Y2aUlp5VGO8j8lRBn91yky0VLi1Ib7scczCfzQwOMzKsP4v/M4eAhR25e/BO3j4m5XeY+Ab7Qvha/YYJjeZyaYnTqVrFxvry8sBNAXWPo7H9Bbw6Ut2/Q7m+76oegGsSA6u8LNQMVWul9BZpPRfDblbeUQ4xSd79eSCldFmp05TQTWBSTlY6ox3etQG3BouciE/gSxc6l+nRwYDrsO8cEYb/cEAAABCQZ6GRREsJf9zPmGTqAA2Xr6M/T3r3qszhORb02iBG22oHGdCVfB8Gz1qaIDzyaGFvXHkUxa4QCGDAdSs4Q/KujfiAAAAEQGepXRC33mT1FRDaJCTRmvAAAAAEwGep2pC33l0UF9yEm3bEelVJOEAAACbQZqrSahBbJlMD/8BNAwG1veAyh3I1CFGDSeMxxLz8OCiglRyyznr0VSNTjyah8Sm2fRnABF5qmF78JkDe27uXunxs6KpqRaColTtYkVqarWwqmaBqP0zBFlzW87AjVTk7v2ypcZ0p5RUnzvzGG0CCagN+dbN5nXegak5aVnWT7voyRJwHmkHtFhBaMmANyuPcaaOi4NaD/3QluoAAAAlQZ7JRRUsJf9w/pQZK/ZPqLkTrtbq9vtNgB9VS1hfEBC75rylQQAAAEIBnupqQt97f0G/6AvoUkOELg7W1RQigrDgmjUzc7X21/RUMcGUDhEnVUonKbVtHcJ2o1dib/ekZdxZXWbPm5E3naUAAABkQZrtSahBbJlMFE//ATQMBqm+YS3qabuSq5x6Z35Fjod0res54VnxC7ffN7ZXyKilg1sGVBfBEIpcRNanxbo4k66HUNl7kW0a4eTf8Rra5u2GEbjrrhpyNcltqPMmPiXueElyEAAAABQBnwxqQt95iqidsOTG4HJDMBHiYQAAALJBmxFJ4QpSZTA/AT+JAafSVewmIC8sw0yRA351Wo/vj9neZ7nemsP1hXVtuljZktTBySAVeg3fU+RvluSx+inKlNS4daOzIDtG5rMNs3tgLPq2xofe1tK+LhkklDOehPbdz18L8CZ1QJq8OwIVfTaHtJqSODLdwzqch+han8nCiVVmqtRpExyv/3VGLjSjL9gi/L/X9bbxUUbxxP+RiK+xGNF66XxJ8s5NWVAQxQ0aoQ1hAAAATEGfL0U0TCX/cz5KVvs5o97zeAuDyN7E+srxmLMRdYsiP9vrywrvKiaG3jnWK1cpBXMqQkOqBbThzkZMOhRE1zk6rm6C1qi65HqAjoEAAABaAZ9OdELfeaZT78mHnMlmVH3y0GIFz/EKECb3kAMhoHyX2nWOqu79ulunuKgv6NC+EGxx+Mx10fHh7m5bWve6LtKQbzxT0gqYMHjqzUNm9xdsg+rrR2chfBDxAAAAGQGfUGpC33mBQhn5kM+mvqgei9CuZKZQd0AAAAC5QZtSSahBaJlMD/8BNAwGxwBp4PIV4wh9fQ2q6CUl/yJ9FL8XTAW5J044NCE+/nTMbLI+OpO1a3B1bIRX+qQVFVXwopapvgeYal3Z7J5LSOXbTX1omaIovLeHIDON9BSKa81KGClmNPZ8Yze0r8erDjDs4x9mVZYNDTf0R/NLrdTR3jYjXJNK9nqSyz4H5bpS1A2hwrls3vk9NQLyoWWmstUKqpJ6Mvti7eTF2bMkEQGqqyFF8yOCR7AAAACHQZt2SeEKUmUwPwE0DAapvkivTrmuWvpyJi3ZTrCt5JCsKJfFkSPiWziBiF76YMOZEoUkLcV4wuCLbvAj8GU10Ee7nE9JkcEYFSrRMaTmV/AyPE7Qqdmyd5U8mQqdccN5XIgnFtzyeo2WC/CiRr6TpQLMLOKUfGvw3rsGKJCN3yVwUY1urOPBAAAAVUGflEU0TCX/bqLVMTnh/nx4yYrJtq9JpVmkUy9Grp/7ROfdwteoFU5U82EB7lYR5RDv/2qj9R+pZXr/cICO87EEUKvFY6XhICkHNypurVp0Ko58yYAAAAAeAZ+zdELfeaGrFlAgISAkgzj0n/rpYoz7t42X7lGBAAAAEAGftWpC3yneNsOODQPG4PAAAADTQZu6SahBaJlMD/8BP4WBZRhCXwf8JuBMPYQY9xjJY0yNJLBJrTNCm6vDwDjsiYfPHPvxRmyFpNuepQ61JfK4DefjprttZyZAX6K9QbhW7lIL3bg0mL/QjsmVa7bkqLxKEFHSE7imRglyPW0VyArJnRMs4ZjDPFQmAe+qncinPrkV7Wfz6tAUJMo8a2ya8UVbWV+ZDo8ShaReBsUXPRxRcI22iemva43q2cdiNxJEWFvQN1NEV9YA5xSCPS/wEGpmq5RTRIkJJBMyRDjiJMDIg7n7oQAAAB1Bn9hFESwl/26i1THhjTceltC95LL6uvGfCtIZewAAADQBn/d0Qt94wfjI/tOYN/Cs9YPFvAN/1xZ8lyVZKb5MWYSDUKVzIPeOhNaCB9j2FYty3qXhAAAATAGf+WpC3x+m1G2eWgxLD0/4E0hPA8JZpuMSgplZ/RrNpbXhFf8QDwSVmz7r+fS9lSwFxRi//kP4qSAOr+n+PLsYyF+7qz9GXYBUq70AAACQQZv9SahBbJlMD/8BM/4FlGEIXZojNQlg8IA+5xaxuCRBXxSDYrJloloV92cSAEihHsRTqfycuvxdzZh/92++3R4APqiBDvDjT6zuyRtAqvUt/hJzeeOl1OYcEDJXLzN/N8rAr9X1MOUVcJdQ2c4dW3fGjz8bwln6EqwDSbTdY4NRwc41541IpRmpCBM6VWckAAAAR0GeG0UVLCX/cS53EvsQzGSakFAh69UzCvtlmXZTB9k03BaZg/JDT1S92AQmNU/lGOiCresV1zLT4gEGfl11iuqnPdiNus/YAAAAOQGePGpC33l/g8mJ1lC1n3/FN7Z+fraJqPzxRCPYyAvmbIeeZZt6tjRHLfgFu1MNfu/yPbkZqw1HlQAAALZBmj9JqEFsmUwUT/8BNAwGqb5hKHyvzVC6zGaNN3o+Df9natmvaCpDyyHIGGuq9oAiySOYBmE7jrUdMMwJUo3KKbUZRPRAG1smw7Hp7y5+u+T447ff7oT33Z/GjO3FmDRBiVJAu+1E3XuCe/874gB+j7GeQeQ6Vo9Zb2oGgjfQ4yjgG+9j/jQi5SconB/y2HPyRXzI0NaRKhhY3wQaFXRQi8hOtjdtuSGNKzo/1gl1UpdQK7+vOAAAABsBnl5qQt95cZyQaZfudHbtJ2dZKsI2EoOyN34AAACLQZpCSeEKUmUwPwEz/gaZv05gJqRWJ24Bb1ORP8aNlmN3aNDiBqZx6TMI4l1VJILcnzE0tJsH/w/gEOKV90t93IfI/bivu9iGomW9ysZbxQ9EqDlU+P78XONOoa0VQScp6+OITslya0xkJu8lcdssldhrC0Tcd31jYwT/Q9m3D7NqwBhBn+vyfXLZgQAAAB1BnmBFNEwl/3EJcIcYqgswp5A/83WtynwAJOHOiQAAAFcBnoFqQt93cz9AajKwjKZtcQb260ufCvDRf/EnNraEwmabfoIH6O1RUoEtfKuSDkQ8OqzYGKQXuU1Of2nU8zcrRhbETeIhZVmsxyGvIARCoqrWOkb0yoEAAADpQZqGSahBaJlMD/8BNAwGqb5hK+3Y9e7v/PYDEkgPqNDY9bKeaPWgcB25IfwfVBoOpaxSyxSc2lWbhqyhHzUtkXwTzcR/BoUhws41JXVDd75FUpKhW0/MzceBupcfPHV2KrQst4LJlBCbXP6PA5EpiRttpFx6gEpi6eDhXRb/Os+Fov1c4RVb8U0xxAt4dG8vrFn1SSQt9TPPp2z2G6rL8YxrHM9mUZzyLIqS5pkG9FO7mfuPY4rFyvOU67CVq/n0FXZMBeqprHqnKLsSA30p2xGL4ZY8uBbU0cYhZ4ejLJ3uWELWnWop7+wAAABTQZ6kRREsJf9xLxpxP4O2RrAOvzO8kP+I3enXlM3Oi7MjCqKNK/BLVkt226J7jWmi4Lo4DAVJMUm3hIwA9MVN7TugpWwvBGhfOaxJMN3vODfcHT8AAAAgAZ7DdELfd0wxHTUFgQGDjJiJ3lS+PmAFSw+R4q5ejjkAAAAbAZ7FakLfeX8sEPTq2DxmaGoZn/ySjXa8OD/AAAAAjUGaykmoQWyZTA//ATP+BZRhCT1e2bgTD2EGPgF3bkRuCgEzt6ZoU6e8HztVVp0JSnu5zSjE/yRhz5mhrxNWBGKYRkOKOz2W8zc7ClGa5qAn0h9s5f9rgC7YGF3OIAZeBubYd1JV2/wlTB8W5HAak6WX9hC0iz9847R3lJTQmlvinJL3MNvxOzzRuwtc5gAAADZBnuhFFSwl/28CIS3vfAzezbM1vnLbw712bLHIlxaFtIuf14qP60ahygunZp1Ol0jiE24rd00AAAAaAZ8HdELfd10NWR01NyiFMb31FGYQYYn8iZcAAAAbAZ8JakLfd4ZcVKkh2Ktyjm2TVamxzmlnChsRAAAAdEGbDkmoQWyZTA//ATP+BZRhCF2aIzUJYPCAPucWsbgkQV8UdLbg8tBEVE1CtEmllRVs1L9s7QejU4Wu/CkfcM4KwU9HK9fvjKOx8Rq/LaLVyrC9zzsBMmeSgAnZ0hNDrObaiL7S6LKeg1ZvI33leBcP0E1hAAAARUGfLEUVLCX/cz5KVGQ9G1Yq8yxEHjw6zu+lT1tc6JLX2YnEZ1hGTMStzHX4BwNVp7uVZznI6UltALWWzCiUl5f2SlQ4IAAAAEoBn0t0Qt93XQ3jWW0mMC9iLyMD7ghrlOG3yv/Vyj7aWG/vtA1Xqrp6iDp3aOeJVCM1yJE8ZDPF+XUFw/NILsduDTmerBMYXfAsoQAAABYBn01qQt93iTzgLQIntdZMvaC8MOOKAAAAn0GbUEmoQWyZTBRP/wE/iQGoGmAsr994clfFSq+VxgGztuY6LPRkT7AUR5tdPARH3J69O9+vs6Q7kb//+rHsq1I0R4zWny3AEjP6Y+ZcT9BHP7gng7qTUKyYnFC41dUGvY+vFO3T6fjYPqS0gBsoCs4+iaUhqCySUC+Uu6V7ixvBqE6BcXEiY2tuM+aK3EjfMZtMJsQkyWLehFPqerLXQQAAAEkBn29qQt97fxOL/haaxDnW9sLby7CvWWx6LQcSQb4v7mj73l7D63cXSxuosAYeBWeTtZPnhL/+x9yNc3wc2b/49NDPqnOYcVCBAAAAi0Gbc0nhClJlMD8BNAwGxwBpxC1rjCGglyYcMBCV9p7RSVF7j4NFC9qDIDoAEoojSmQrh0MdwiMNSIMWOO7hhStCpMuBvfi6FGTjWYZ4WIQXGdVnrhYH4RgCPWv5SN/DkMM0wt1OME6psQa6j4zrYvbbhMNyJMN+ZsvjN9aZ152DfTbDEymhQyuNV0AAAAAYQZ+RRTRMJf9xCRfWF780+SmIRvtmxdtgAAAAGAGfsmpC33dyie6Ar7kHxMDinPT0+nidgQAAAHZBm7ZJqEFomUwP/wE0DAapvmEzQxIUmOCNiBAHGdVWpxY8Qol8WRI+JbN2LJKrQZ1m2ksC+JQ6voxB63W0aJ6R84LBzsjYI5CDa9wrLKE6kEcyPKKX0UUsy3qVSdotmhuUtsjEWs0GTB7xorbpP60o/BNo3RYIAAAAWkGf1EURLCX/brBlf05ZygaJggb9B7eH/nYZxXcDseFNH79QMpV0FTPgluyfT9rj/JPsmIU38p83mLuJ3i4/GnyGeg2Yq9oIw4z+tjFoCWLmmqilLWmD9XkRHQAAADEBn/VqQt8WDoyrINM9/xTe2fn2UkAohaX0UqiF5HHDz5XFsh+oky63qcHoG/I6kjZ4AAAAjkGb+UmoQWyZTA//ATP+BZRhCXwgaroyln9zpeZn7LuUgAJnb0zK4OUyTvaFXQlKz2PZ1YkkZGJFakyZ+XmNg6KSg/xWl9uv1YPeATU7Z1SkC3wJjlizkayRJ0CJRkjnkulil7kVupY8zPHv+ZQh/QntrkMZZiozw1AwRPsBFD5ZgwgCLbVEizah6RkLm8EAAABgQZ4XRRUsJf9vA0ruL7CBoIn7fOW3EALRaNuRLiwLm8MDBP4PIfA3kDgtEsFEPOuGLcaePOZWdaLnjIppku2MDPoJamn55Ap3nYtVZZ+E8w7Ros1yTvUF4Dw2CRe3y1FxAAAAFAGeOGpC33dzMmBybFdIgoN0VcFvAAAAfEGaPUmoQWyZTA//ATP+Ai6h6INIKyvVCxdTemEDkLx6pYvvCF+EZcuZ4gGdskRIcKZNJ3251mZDEAMMRp7Hf74FUxjeLYp1Apishtg3hUlVcXdOh717Efs5CzUMvF3AZhOlIDhsU34tgjPq/wdCKbtymRbuK8UDo6xMVAkAAABDQZ5bRRUsJf9vAQyX4LkqEv+affdofBBd1lwrnRqNr3GOWbvjsHk6EJhIKXcJfrtTfzhTbvkbVgoCfDOjoW/ihxMuIAAAABEBnnp0Qt93TMFcP9FqJ46j/AAAABIBnnxqQt93czJgcmxXOpIHU58AAADCQZp/SahBbJlMFE//ATQMBkRUSFA/5Wldv0h8WZb+V/jnfgXDEmy5e47hfo5CmryievyFltAQxRF18XkhETiBjpVmT326NeiwQQCTaQKFReCKbQTPmQ1e9UaeN6Vk0G6MxTnC/0vbhR1QPhm+zfLOuA/4xMg83wJm05ICkLxPeu/XBmHbMiV/bVBv+SqLJ2eQ3Qw4Igc/nBJB2FUQPyjjTU/8Kbu2vdIdHLr2tyVrDGtFIWMUlkmKoYJRk5TuzCqO/YAAAAAYAZ6eakLfd3M/QGlbt6VjFgWpFrQviVA0AAAAlEGagUnhClJlMFL/ATP+Bpm/TxFSodJKfbgE0PgJ5ks2JtyTgZRdmvseyPsqtdsrB4siQJMCMVKRYFjL/8welO+N+9IvReEe5VLshfLvKYD8wnhThFciUFpTGvY3o3Oh7MrzOrIglCG8lJHsp31qYx5+LstCmXyq2KTThtKGZEbJxE0IG888vTMP5eCAEfm8VlIUxJUAAABKAZ6gakLfd3M/QGlbuAARzuwJthmYPePoJmpQBd78+8xP3wisF8H2OrHlLeMnFMZAXqg1B/IHYCJ0zs/O8SijflkvVriL+F8gNiEAAABuQZqjSeEOiZTBRP8BP4kBkzk9As53lQu0XbLjY8MSyexBt8B1KE9SrMNyvscSOyFxyorH7ckDtb7BqqqwHMu1zeNDCCzEz8nPlavUly+muy08IhDuxn+JMkzQjZtRYmPIs0MY282meGHlLpR19NEAAAAQAZ7CakLfd3KJ7oCze9uXTAAAAF5BmsVJ4Q8mUwU//wE0DAapvkivTr1ctfTkTFuybveZ8gqGUDJjRI+JbN3Q73hhG+4XSWBfEobtNpggtILYJ6Ty26kOvL0S1M9Jy3flWNgxyjrDIxVqMuM9+lezruCAAAAAEQGe5GpC33dyie6AtFP9r+upAAAAfkGa6UnhDyZTA/8BM/4FlGEJfCsVP3js4K50ulD5oVYxLBS7TMrh1nvhVJpsuPyNCduqe3dz79lDZ6tre26sBAOwm5vd0W3DjNEiKe6FoszPnhnQbfAaRRo4l5Jcx/B+o0fE0ek8Rb0UOTM2PKMprb9UWJ4PqCFuqa0WL0v+dAAAADFBnwdFETwl/28CIS3yvORxPM1vnLbw71t8JoNOlXkjRWfoRXLuFhT5XoCAMtnSptmAAAAAEQGfJnRC33dMMR0wjaqdx2l1AAAAEAGfKGpC33dzMmBybvJnyd0AAAB4QZssSahBaJlMD/8BM/4FlGEIXZI8CB+FjKj7m1WNwSTLQC1B+Ay0SbgDJDc0h7oUcxxdjqwlCTj01HgGpMZTtxEVmoxEeztK7/1egfKdF+p4IiS6ItC9iWE24rBxjDZxGeZou1diztzuSCJO6hk7AvPZhFvML8BBAAAAPUGfSkURLCX/bwEMl9d4DVf80++1fL7bTtkBXHgc17vZCmFblzN6XyiwkVeE49hyCQaOiB6JlOyZWV+mcVMAAAARAZ9rakLfeX+DyYjOygjG9QkAAABwQZtwSahBbJlMD/8BNAwGRFRITMW+zicFfr4syu7D6CaHjFcAgDvA9x3C/RyTO3mgvsceUUAjpnMv7fLO/TZ8brccwrxCURYUIBMAkTfQJCEJ4QOG1fOI/pW76v/w8jA9rcf9EE2U+3xVFws9n9DSWQAAABVBn45FFSwl/3EJcIcYpEtqfQ1ou4AAAAAKAZ+tdELfFvd6wQAAABEBn69qQt93cz9AaVvT8rDCgQAAAHpBm7JJqEFsmUwUT/8BM/4Cc+/Tw24hJ6te4BND3SuXS6Ig7q2Vkj8eX2uuMdmVJFVivKilDTNmlDVF1Z681AD/QkJPZiIibk6F2yWdBTYTVzu5XZ5ofQYITzAZVvV2drQe5KszzEUGyLNrUD8G2tPxPgLV38GpsNvloAAAABIBn9FqQt93cz9AaVvq02KwqIAAAABdQZvUSeEKUmUwUv8BP4kBkzk9As53lQu0XbLjrkXgket5wU1+e86UupRTDHNzMMPw7v5RDAgW59hkg1qfn4Pm7tjaEGzKaomrdiA7oWYYeZdRpApm5rCPAZd6inRFAAAAEAGf82pC33dyie6AuJIJQhYAAAEhQZv4SeEOiZTA/wFA+ABkRHgMod7v/K6FoEWSRW9kgBpM2Hk12RRNDyl4563NerkLZkJj2lF7qs29Vh0mGoI31QtZ3X1ft2oVJfBFqkI8TT7fQ2MkEb+32z3yY6TabBszIrgZAeTc5p4SwDDZw3k4E8MwAvkjbvXud3z8KH4J84R8d+J2gff55j7ZOTXt6Fd7GytO4MMdE99evlCef1/FN0xVK5zHde6BoaIjOmJSfL8ONzayneaIp3wdA0U5qoiJufPKi6sBxj2AgSmJEOnRZ99y3X5VfP9D4//5jAi3PqOqFOMQkUdFFxJJ4gdaA341LrnHxUT/9st5fCp6vY29SZFbFItpN7+Sa/hEsCYr6Ti6YHEiRa4IAnt64AvG11sVUQAAAIBBnhZFFTwl/3M+bMfYdAwiy+w/t7e8ZK7O3VnkFeVzTElCQjmp21FpNyTc5v+zvRvqycFvASEFgDwjJl8Xn4ZdcfL04lelGwgQM01MI5xa8b+64ccNTZiYe7V+o5ZIhRDPaxWP+YKoW4/B7JhFtH3HGMSQSQIJd1P9asO6v+1NFQAAABoBnjV0Qt93TDEdMJAKCbN7a/nuQg229oKwYQAAABwBnjdqQt93cz9VWIxIre6vqb/+feangnlrvR2RAAAAzEGaOkmoQWiZTBT/ATQMBtb3gMm25GrV8ZI55T2VqG2CpF//8eKCrCbJDiwv0YLLh1KW/jOOVxpSR50ARJ+NYGPfk+s7Xy3CtuCWoP4ZCPVbRZnK5lFexby74s2D5YJqHXIdYUDQT7C3I1ELYnkFiwNWzEJnxuvXDIPBrsb58RxP5eybgJ43HNDQFEP/hYAZYrBQ539jbLVKLzUgn3DtzwLUhdTSzL37befws32KZivWY3ulpSOm3mK7OeQAQ1SftBEuDp+D7hggY9S0gQAAADkBnllqQt97f0G/53t0shqqUPP0wub5Uv9gm72/jnuH9lLhTAqyhKZ4xyR8Ii2WrB3co3OGdiAeHZEAAACFQZpdSeEKUmUwPwEz/gWUYQlvUz/wIQGeAVSKBjC/7p1IAqE3+AA0M37v8JeUqmaVjOgGbcFwh8zSFoDM6btkDhIVR+6zlWddjhel0rcR2+ykxRu0eKLqINmuBZ+/R+TEMkc39nM/iBQIZxZq9k1CLm+4wCvgpQ4WV/qmC7qv6k2Cz6xGQAAAACBBnntFNEwl/3EJcIJDKdSpCX2+nqR6hS4YI+koDxuF9AAAABgBnpxqQt95f4fmiWsBu8FU9Wxhf6t+bIEAAAChQZqASahBaJlMD/8BNAwGRFRISh8lDCJ8hntCeNahelbVx4gpznMOxqdPhBn8DiFKHBO/E2HzOhgdqdJxLUGpJhJ56pS1lJanOJFwAJoBKeet6z/Zo+I6ckqW5pYDL7P5oFTuMn62X6rZaYH/x2b+iqv2vShLrA8nXpwW/xbkk3xXAk4lcQtTOZA2ZUODkkA+ILFUN/K3CA2gXG3XfllTqpgAAAAcQZ6+RREsJf9uwR9K7aCjGNFxN6O0iXefoL0w0gAAABEBnt9qQt9NUptSdl9aK+GGUQAAAKhBmsJJqEFsmUwUT/8BP4WAnPv05gJqTIO02v+R1HCyq//vFlWVn73PrcUuOUCWav4SZ7N85dRn+HWPOPVDHJzUFXti8h0OFSXAhV4mUGk1zel70rrJVp2S1YtsFrM8bLqR+68IfGAEoDBhlFC0qHIP3hVSYvrfr8yfqFx/6q7QVkSyClr2tfe5ggmhSR2wPF0o1p/gr82+YEeMEV12/JLUrshzrXPtR90AAABPAZ7hakLfd4ZcatxrJZMQ9v+RBh3etB0ogb53mK+bXcuKJE6b/UMZD+yHABW0VLvht71zB3sDqVCwSMfdDW8GneIpWahM5pS/tSD+fRlhMQAAAOxBmuNJ4QpSZTA/ATQMBscAacUWbsgQ+xRIJT6u11b2edkUXB9BGh//48S+PXENOnLe+3v6mFWwPvQKVDT/WvCBE5Cl6Gg1c2jleXSyakkTwJrGdR8r5oS4mhLGXA+UylfhRYjk89VxOcBGA8nK4T24e7mty8pRsK8r8ey1c3bVCza663BqxZsWjubsk/TginwvMbcyH7w8nV8OQiqljuX+MRczJ4c689+zaBvlHcH+cG4FOiEiNVDzF+ao7+52lR9ujP3J3T2401UCQcXqS6tj2ZKIcHlr4xY0yMLYn69ga+qvBIeNuR+vnfDpgQAAANBBmwVJ4Q6JlMFNE/8BNAwGqb5IqO33F9mWnImLdl8580pULKl3nE2qygNR+sdkz0/jRM205dDSwCb9WP1AAkqABIALYUunQu+BlpcmSM6wVI4gAkxALfBUTkR6/bVzxhbLZumnyfdXxpJSJqgY7Lwh7ae1BReFz4S26V3rleK5Hafg7bGuJMagTaTmc6x7JycP8M7IviC7aCVuP3cUSPosG8Q+vY3t/YfbG0M99e6HLTtQwINKkB1LGty9OflInUBRYnP3/bd46F3CurIvRGwUAAAAGAGfJGpC33l/hHKHGby/2J/AYDAelaTxkQAAAJpBmyhJ4Q8mUwP/ATQMBqm+YS+D/hOhM2rhAHv1oAamukvpcA6aUZbTlYlFUgCTvPa7GculOIi0zhdbeu7bfuEgc5h/Qmo88CvcR3QU6o2Ri2QRaVIwOc3Dr97cEWg/POQ1izdTJPKe7BGLT1hgPKBnPl5kUyjsFGQiLA5wMRgBukJSOgCrD7oHBVx3wxvv6SQtVRycROOQ0N+AAAAAF0GfRkURPCX/cQlyfCKyi8krzEbBUYkoAAAAfgGfZ2pC33dzM/hSqVppd66k4c1kTefFmt9Vkmofrnv5Eihd+SJrJD0tXCL6T5B4oaTRDK9+Foezb5crZq8lmV3wt+aO6/+QxMf1VsGemMKsdTR+hMeq0OnrYIpQBPIPKRz8RGiYoQDpsj0WVAbD8/zYlS2DdQ5G2Q03oKI2QQAAAR5Bm2tJqEFomUwP/wEz/gcy3TLLqcQQpKuWWIVFpKYf//C9eUgCKBlPrwLUJH1Y2n9ZewOr+OnkIn6lU2E9v95VhrQ8oJiHSUZXe0qB+P9+Hugqdu2VsoCsP5MREWYm8ckhGlrvIkMb/bqj5/T39QGQ7iCPcGqwBjBbMK64wLyxU1pbYGpPI0bJkMkoxGkfxmjt1kbswkaeBB/b16pi4e8Y1bMoUru8eBeoz/gjV7sfr5FdEvZQJlto1BPldRwGtam+45nEz1Aaxb7qRaas03GIcJHOfnI9MgQTh6kIF0WuWNyH97qI3292QsYKi3jBwpFYd2QM4sgBHLTgFgX7x9CSFL/+MhXVSR4/QWkXsW8KR97oq/i1PzeBubka285AAAAAHEGfiUURLCX/brEXoPKYOce0ThCPdaZjMruJV4UAAAAQAZ+qakLfHu5LpmeDn4Ro5QAAAI5Bm65JqEFsmUwP/wE0DAapvjSWmKASuUp4QWy3jjDP8ZWk5pY8FC79WpDvllmxr0YfTxHMMQ/VGVid6mzOzqAzdY+68v/jaevFS/JiOTbJAVv1JSLkp391AfUaDz7D8S3ZrH19OUvswnImjHcBv7+gZBegSGQPZeyAxBH91NlwO8ZFn+3nWq2Dvp83dNWAAAAAPEGfzEUVLCX/cS53EvnqpBPDDwTj/Jfytw8QBhBtMxvbqzKi3arOQgwVMahIBi/IolYKiFB+OpSs2j7USQAAAGMBn+1qQt95f4Ryhw/ynBN+rEAsl84DmVt9cJpeYkCygh1b556SvODjhpnVvqq7o5RtGylzJTItPvFu426GRvSKQSqy8amwepZ9EM1kJNkuKnm79QoHadLlmZoodzF9WEkXssgAAACHQZvySahBbJlMCv8B3KxXdJpz/ktqlup7KAgS72VpiN2LV6O8OLiv4g4Jr6C8wxXyd+D6vrar8wsOQ606dPnQeomo9XqmK9Ke6Eb+QMWdD40Ks8QWAm76Mh0PpwGrevNu96WRnc0xTIvnK/YLbNjmN1gA/HQqPSFLJweXBwDNp7ks5LZ4ADx5AAAAoEGeEEUVLCX/cz5KVvkgdUYTdlmS0a9x00oKV1RPnTJjbMawJHtJ3wK/6qD7fO92OUfTjtHSaNXy1SlABJrt7LIozxh7jFAQeUL3/TOG5cvqP3igHnqLyN5vMM/MEKHRrGzS6C569CxdgwnsPUbhp+GreRSn5j9vKwsC5/vehHxHn9S/J0Yj7Qh5WSQzAleeAiYYvNSk4F4zNuJc5oQFwdEAAAAbAZ4vdELfeaMQsre+nzHUaFczeap14tEb07UcAAAAGwGeMWpC33l//kRuBJv8yFfqOgCItMzwXKjqGwAAALNBmjZJqEFsmUwK/wHfJuTSEo8HkhdWxjkmlCgyQw2Y+Awtg5LgZ9Yabj9Ip0d2cGncT/m+TUeyU0iidNscEUBe7oixqf3ELC8nYLR1TDRa87FbmgH5PMmLoHaXz78bflnhEfg2FRTuDM8bn07tMp6iirSTlDjCYCfuksJPWHzkU7z0RNZCd0xTb5Vz0e+e405dBmYYomI04ecy8TmVxziPU4qixFjOoHJHZG/CWujAQGBqdQAAAElBnlRFFSwl/3EuWq/wdsjea/HaaWyhe5UBKZvXJvvE7fnlxSrOoTMEb0sMk2Jbi8m2oloGpEcZ12x+pFf2PoG2s+w8zbsKl1iAAAAAFQGec3RC33mjELK3xSdKxbkCv2KLcwAAABsBnnVqQt95f+hsfkBqc4NFwHjyTKp1H0O3HowAAACBQZp5SahBbJlMCv8ByK5EWDpwDY1sbXUwe4JNFLMmgihyqybkrpyvroNBcqVAMA+ROHw+CobtNRO2ByaKl9UbXuXcJjrbQmqMLlbPSkE2IZ4jjS8z3+LysoAp4izThBnRBmYwzkIMsGIB8O7pwpspzBPqUyFuUuKctFIrxAfrK1ZBAAAAHUGel0UVLCX/cQnUBUDQDSZk9RpjtUUb15/onkadAAAAFgGeuGpC33dz8kZImvNJLxq54D2GlVUAAAB+QZq9SahBbJlMCT8Ce5Mq7ljmAmXbAUO33FAw7m20lvSw47YBEEU+q2YXuTOtcNJex4n2vXYlMO+BUYkY5LNmNbK0+gS5bIneHsyR8eZD2iU6iYv786HDYTZ1JvRO8OYmcWt5U59NV0Lc+9JFP/xIzVU1ozbDR9hvAnSSbl21AAAANEGe20UVLCX/cz6D3dhyUWUZXMPd1p7rCqOqzE4QYVqP4nvOW09T0ews/PM6XNWV3jnIbsAAAAAZAZ76dELfd01g3kPbkbKmEjAgzo613w0KGAAAABYBnvxqQt93c/J87JzKIp2jVNoWwBQxAAAAmUGa4EmoQWyZTAk/AnvCSOFWuvWH630EaI2Z2Vfvdc9fbAGl00/1LzBQgJ310mUb84IM5OdRA1xU/phtd4FEc8HQhJwiFg98/PaXu+lymwbGi7awGOz3zWOrCFYSBr6M9LsX3WHpx/Zfrzs80iI4IISzqvFtMJesskcxr6YmPjLcXve8UuhndVM+HY2Tm47MWevgowOTRMP89QAAAEFBnx5FFSwl/3M+Slb5ZiRTU4+h4BthtqIP3+Lovjwv3HYKdX0u8EyQ571V03Ae+crR1aZMSWEZ5GepEXn3mxyHJAAAABkBnz9qQt95f+hoHno4nu3OMHxhRrmONw2ZAAAAekGbI0moQWyZTAm/A40koeI81eqvdjqh21AAM5zwZv0/XRChl8UlPHE91Zx7W9hcuVzZ23Gl6LxzYtiu2g0Q5bslqIkPIG69t73/dUCyEZmtn3rLZHKIg8sLaAzeMBzFvIJqPw5uDUekwk/EJ/gnoFLqNuBYa2rjdRVxAAAAGEGfQUUVLCX/cQnWpqWLFnehnM8Z/NbBRwAAABUBn2JqQt93c+Rsht5O7p13TrzQe8AAAABwQZtlSahBbJlMFEzfA41eVBhN5yN24WC93GxRSsnhBlyll3v1PCm+YScac7mxGH1eTWA0421YDwIphiT8ckD/4dYWxdriSEXQ4brMQdbRAp5JcZBwwly2wPjTJpV9YtUsQABSLGh1hQg4nZ4EQbHQHwAAABUBn4RqQt93hmSMIaN1DS5170BChREAAAB7QZuHSeEKUmUwUsR/BQLTd9ZvPTeh63zf4iq3F9iLvfTLPY6vF3Es5JY8CMG52s0HMYIND+koABQ2mZKX1tzFhELcNcHEY4RpcbsHjO0ZpnljPvJNmnjQZgtIYf2e755j2ybahIDTerMNTv/TKZ+QUj4adwNlaSAyR3vIAAAAegGfpmpC33dz5LJ1f734lht/PpTt58WbEtrJNQ/XPvIWTh76re2JTPaIz4pkQ5XX3ytuR600y0VtZaU3tLM6J67I1Wf/CS3DKtBsc0xuQYL9x5BmY1CJ9xpQC3v/dEn7sHS6kPrtBvvnFZ+fmQv6YDqL5m/ZSaivkgrAAAAA/kGbq0nhDomUwIr/CJaS5A72i0uP8DeSMf1epGB/rIUzdoNlChrloNrA20wcrXWzs5DXMAepsJd++yoR7/xosQ4AIvBn4b6t4EPDQROar6LghThViD2RYgSjGtatKt396zea2g4psnVQtXSlsriqNQLYWkZC7ysB3r4zMts0EMtxyjIXRBKh+z7fv+EgBRHjS6+XENL4LV/zCCa59ey+U2cn//9NldUTviNjSvuZYvrl/fDkgPtLBGE89yKQgAZg1OpZl0I4KjhkIusFbAx+EDynIVC6Am67u2MBjwXojuG3/Rot97mANfO8O+f74isIMqxa8I70RUDpN1dLkk+XAAAANEGfyUUVPCX/bwIhBukIAyOp6pJx8p+dA/YeI/dojcw0wf1GfwaDK8dZy1TyWgh27uzYzagAAAAVAZ/odELfd01aIxUTja+hkbLvVe5TAAAAMQGf6mpC33t/Qb/ne2IuMphqUMMrjKsChFCt323IfPjwgYogXee/P8v7RjkvyTsyCPkAAABMQZvuSahBaJlMCO8MxW49ORFwtm4VZIN5vC7Dda8SC5aybqnBYqW4uju0SrkCaPNE195OILcFY2DJlT84od8FCYtO/FycqMoYc8RyQAAAACBBngxFESwl/3EJ/R3NqOjDHSy5v+v412I4gYjkh0C9qQAAABYBni1qQt93c+Rshti9yRG1FdES/DogAAAAu0GaMkmoQWyZTAhL//igekiBjCADWtsEqXq/uBnXg402OAAJUUUq44wsJdhE6VOfZ5Ncs1nHszzs2GKdmJMqjKIXIfXHwpDTiJ1m1fhQNf7+DKv/Fi53ZjRKMHyDGOZWoqPIPZN/MZ//88Qh/FCeSkjysipxSu0d3GxvIcbz2fNJiCUx8xFr66pSuJ9RI+SXX2Lhz18EvTPEa30T2sZGRRLWHfHaS4se8665mFn/HaaC8DUsMURsD/K0uekAAABWQZ5QRRUsIf/15ZYexfnLEwrL8C/AT8PDXxInRb91JigOlK4yAKng+KJYav+7jSB53v23teUBdUcmCGUKlMwe88VjSBAqtvowNHzb0HXBCf8UrBBkDRkAAABgAZ5vdELfeaMG67n2ULWDEEB0E1yD7MoECVb1jc8yi/jwixm/a6H0GOtNMDxAQB9A1v6yWZgRilcakEJksMiY4C2xkLYDzJZpJNnKwPUOiCgEzkLgytR+IOI9wrn51sbQAAAAMwGecWpC3/1bgf3TWcJAhq/+xpPmptmbvx3naV6UnBbiC+24RkBWD//nDTxpSkyIMqgnoAAAAHxBmnZJqEFsmUwIZ/+KTlTfsNrDZsYe7rb1C8U8qsccM1ZZr+l3u1xnCPUQcl2z6uSCFDVvXhFsQAKAnYDRJ4a+UCD1pATOjlu7Pv8vEl28p1aAUIAiuP/8MuZ/Lh+Yxh++ONWAUOyLzFMHDh5X54JgkF6LS8zV4k/PorlRAAAAOEGelEUVLC//8jCBYtuABdSf//CSMn0ttGnEU3G7pO+J9w47zljoUNJah+dOgvS6kPy+SgdZKinAAAAAHQGes3RCf/HMju06UNnsDT/tXEvJQZ0nYuSU4aQdAAAAFgGetWpCfyAF8swsI+TtEq9B/M6f74AAAAA0QZq4SahBbJlMFEwz//6eFfgolosVvXzQ/b5WAcFiemSHY8300oFUJqscd7BlXqNSesrHYQAAABgBntdqQn8JF1q0yQqkd1+0BPOrmGnNCYEAAABBQZraSeEKUmUwUsM//p4Wjd/bmGqrgJKIISkTLYy4ahgr8ilKYnreIVJ+CIOyFJy6Iebqg9mUmO4vHIK7MlmFTcEAAAA1AZ75akJ/CThWQ1KMH/t8AEmZtLKsFeK2H0NeNjG0XkiJYGVxGcr27Z3jS1KE00Vf/TZ0YcEAAAAsQZr7SeEOiZTAhv/+p4QmmRtioC3R3I0YBtGuGr7rO1X+s6asOVtIqccci54AAAAvQZseSeEPJlMCGf/+nhBWcWPb/5C7xnXMlxy7veDmAdFSO9YdVOOWaCfo2110q5wAAAAfQZ88RRE8K/8C7ap4inm4ZSfSDwAduRPVYUo/TjiIgQAAABoBn11qQn8CuSCfzAzRX0s3rf7Z9cMTE/7rdgAAACpBm19JqEFomUwIZ//+nhAWzd/OhhnzCCCkiWmk/Y3rJIkRdFiS1oWfnJAAAAOuZYiEAL+JswThin5leIfQ+UHcx6tUcZ0SzD9LElGmRU7JbOhxsoSpZX3lwtEFbl4cnIDGScVSE4cQopyZX7UBgFok+EJTeNK5uEM2pf2SAhqoWf9fvbYpXEDOYoABEIiZ9cxSSCXZFTIKJeTTElRp4aXHoKiQuZldv0koKwRtXWbtQ5LsdYPHhV1oMxRMcHHODFjFZYjZbwhhFPJrLsSKkVrW/AY71Dcf+Y4DCF8blE1SF6rHzTCLXqfs1BWZsLTx1QnPn9aoZW0hzYXjWFN0PeuA6kQJ4HDVRp7uh1YQWannIV5Thj5BbwEZiBcFO6jGUZ3H/rvION7Y0DsuuJ7XObpBblpXt29ZEcxDwvBjSWI4COI7n1RSdQ+odSPctBDVIZVeSSB1ZDujMxq06NGgoLbpMFOWVcMKgMBfcWUEGGVQQOOJHz4PH/wV1mJc/ORNP2V9I7J+gyfwUinyiUx9Gd83tOD6H/VubV4V7f+v5AtZcGKZcnH5E8JT1aMR34riIZccX+x6SSUAfGp6r+hztRBWFlc2Y6Jjvc3g7gzel1SxI6DxzuHX9eu1zS4fvNo4M4lvEAZUfbUy5V5L62q8ve0xqb1Eubh8cN6wMJYAHrLo/9A/gvfshouCkIcqvyqNyBg/THaCsJalNmRHhLVU10LsiNyiQ+9kZocb9nOuDNJPeWO4hP038uJg2YrdWwpTsohXPLf5B067uRI7CYEbjf+UNWqAD5yJ1tIyf1u+JRph+1HmoEyNYzdgHLv4JGtf9ZFn/ZjD1jz08odG/QGJN6rUJk6bQKJZ+ObaFLQDHjvlu3RAUO9lbJQB/yBuoEdbADthlW0CU8afpEmLTIDKnXp+pmkeQd4NzxpFp7l3filrocO0596OxirQbTA5vnyQQ1g8BoAF/rd4gmOcdeWqcZwGM9PVDGc2eU3a8FLZEmRta9LrxjZvFYf6ojerNyqrsQaj5GecMwS4/obrwpLXNIeD541nvQYD3QEUwwL6Mlz7CBudUEB2XsIVm7w5iHD8x1/cthbh+Zmhpzoztj6Hwu7zWEsx4nT/LwH8NjBNpn5rieq++cAxgOzDY4zCK1tR094aJhTETxJcV7Hqz01WcHwMb2AjPAyAShRe+PIF9xgg+pZAx5/23SXJVSjmqKbEWw3xM/QeBaBWYMzb1BBpiOM7QGo3JvhXHGhGvUiwHSMUMtnEmng6KzdepUa02LznhlR5EM9C+QfUMNOyuaemN9MX8iSYZ1AzYOOAABARAAAEcEGaJGx/lilaOik//4f5WWlEdiWVPJIbbouRHjD4NL9oIyWTIXNCcRGExNwvEtnQHTE0kCyPdqfd1hY4a5S6BRKNjFjiGFR+c+niaYkHzoe85e/R6RyDSDM+ve/QDf2AXgwGxsaH0SZw7Trbi1SfEnuPomVNXpQynIwC8kXuJwVIrgoEvypJjE8ysuc7up84fCxABSoA0cGyubW2MlAS0OydkyPmHZbznuo0VO8/8ql14wdL24HJTsUhQuSRMAwYjLPodkR2dMqHHRbSO0RVYk26D5ENekww3UHiYmj29EsJD7tyWGt3mBGrDl5BzpTwABZYYBF8NFl2nXPxK3pQ5GngOlhb39EWVTF1Kn1EysSeTCDKi24ssw08s2yeziOrgI5DEzvIlLtr2IdsQD+57nYT9rtl6AnTpoRzszWt4vhU14M2pbxj0oAEQKqkTLSw9pLf+rYWZ5TwZqo1O8a2CT9zLAxrOuFBrJhn+AauQHuKNozxNRu6B8ChJGR47w4H4vRlnAKK3y7b1PzIo1+vhvIstUme3Q0E1ld52LBKG80PKpZqJaydXV5j0Tditrtba3/SWEN33jxh1L8HjeYevQskmuABOOjIjw/uJ1vMkqG+Gl1ixAtJuF7DJy10jaEFaE/xsO7Yq+dbB407dvA3EMWM8NNX1QZs95qXWUZZOl3M2BzNDxLhg7G2zvK7GZ4cyV0mMmWlrq4Qa/guh6ILI2DNsk4X7+fKSb9udQ56/8xnUDCrsoM8oy89/WJAS8lZrZ4p+V/ExpG82JWk/y6pknWA0oIA8zS8qH+EzA6uOuIWrPy77YQQU50ASzOXILOHhlfS9dih/upBLg9zcdTj2nHFnr+goshWSn6nVNULHfa1Wwoso+wRGsVmNFseKzKNF6u9/8qKyvhhtNwO0zmjf1xcn4AMZGNp3JRFxA+Tk6rAIADf3DQsIBSXG00eRB+q2WzeqebNMHAQfUKbd5gHDr+Gp90bncl+XdNm4H5Ycici2qdZFEHURaWqWXT47Q1iSPsCmGhjLDv74zuHnzR0k01kMji5I0QoDn2rB9f/GF4s3tD/RMTETWQhm3x8VDO2tvXsSK8eTXG208CFVEFpfyRWnBoD/3g0I0wzrmok7yIXpZHtAtAFQSFCjVoPOBaZ9NAK7sTRmGEyF2sv4y6bl+VC5aj6vmCs9C6edQKrP4TBkIHSCwGZ87GiZfqgQ56chrz0CMuPHtodbFIJFL/biL/yuzeKcJAR+G+9qRxJrHdw6BwKXpk5Fx7zgHpX2UvdMm94GEDdDNKVxVX6hUN3uRq/TrB4xmbxw3M4H2Y1II7s0UZhkYhPZKeknErOPategqvIPsyBzVFfYdgeSg4wPcDBW+c6dbZDkCZ7KsM/sWKoAt9l84qFVW6dE9kLWjraRq6JKXCipTvOsgRZeEdJLDc9XojEyync3UTOqAvyQLWf/4fLMfmREzoQgyf4bBXCzkXe6K/rr3XNRqeNWas3YUR4nFWNW/Y1g8dvcPwV4RBxAAAAHEGeQniEP+zXdQRs1pX9hplA/lVDI3jcGY3LZ0EAAAAQAZ5hdELf7/CSeOI3gSNgaAAAABkBnmNqQt9ksam5xN9IcKojUUtR4BdF/YVoAAAAlkGaZkmoQWiZTBT/AEdGr0m8K0SEvg/X91pAAA5/zMzPEyo/BuKdgt/CM4bB8aolprYZyd1u3JTKs0w/iKoruOPKepMpVXnb/C8ku2onpdWixlG0bLLpw0ndhzEHfvd9/73xod1hSSjjwhf4KiK1y3v1NBln0VmiumnOoN+TuJl/GBJ/V7STcK3UM0/NHz50fLNoz2ghIQAAABYBnoVqQt9lY5V03WySi+ywJEKbwKGFAAAAmUGaiknhClJlMD8AEVBbCqVoxJy548A1sgwqMmjztGhJ1aBM2RFkzidTa4DUUWlUMIf/kkqeLMMbxiBTdpH2XlAOCG91b5AgHfyYdhBgLOpSyER5swJNY8oTwEUywWzH4u4H3NPYp7xJy+tBjqj1sKvIslf+dzt0fNzgJgJEwBNv04r2z3TbmX1tEb0mqIfAf+akcb1EcCVIIAAAAENBnqhFNEwl/1xD8AnHlE8t3RsV0SUOv2nCni0lAi7Z9qBw6Ul1aGIMfdJFp3SwtA8wb8scHu1Q5VSJXp5paYOrHz4JAAAAEwGex3RC30qmKOJ/+XvijaJUCagAAAAUAZ7JakLfSrMPNEyKWlGWdHInZK0AAAB1QZrMSahBaJlMFP8AEZssOPf/eBVigTKBE+x5ZWTKnx8gIEwNdjghmhQer3RkAFk+hFjNHxJ6rHuETJEpg5HBZoaVsmWofSaY1OrtUZr6syW9vobarjOCjP+8WBt+6F6vt8GzZhTZzi3t77VfFB0v+CZQ73iJAAAAFAGe62pC30qEqutunOkk0Op3IlTAAAAAj0Ga7knhClJlMFL/ABFPgap+YS+TJeLkdXb967HzEnH2h4r00P9uRdHYSwKgmcr9q9zRxvOF1ie++sWWaRIxTn6YJXN+dZo0YCcmlDbxA1j6MSbNBt+PlNdninINsOGNXWGaUOSe1OxC9jxy8C2e8AwMhEwLeZ0k4al8LaryxCX/VqLbAY4fPI7kkjMl6CIrAAAAEAGfDWpC30qEqqmej8VlRqwAAABXQZsRSeEOiZTA/wAPhvLI7WEAMJh+lPjMoeAxXWFsRWEG0gwWg3YQ09Nt1x1WfqCEd1243adgIWsGWwX+vSrJgDwUiUXosg5BRXVMIuMUnoomRBXemhKZAAAAEUGfL0UVPCX/P+etqEpWB3UfAAAADwGfUGpC32Jf/4gVP2CmgAAAAGFBm1NJqEFomUwU/wBpkLJtbMJj/d+nEXQijp2Y7ry3HVed6n7tDa5RcunXHQHBRTRuJVIr3XMczRyhU9YCaS33rfARDyEgLP0E5LAoZZzwl1JoSTBBlxBIb6AbtmOWhN2AAAAAEQGfcmpC30i0k0IoEmcBeBgRAAAAnUGbd0nhClJlMD8ADzeQ71PAXHsQMkTdGgNrnTYCxZEP8R4XcuRZhsT4mjAhEqq2qb75n++ylHw4xcRFpeTUQwIg3o0iloXfPrmNAJGiHBZrj2D8dX7FySoPi4d+S/N1z5/MNHsnP/AUVLl8BzAPG0g+cIzWD+5Kc7gFMJt3/DFi5gTNnGFv3cYITpnYVAIgFq5Sf0jjqPaxF6B2Ge0AAABTQZ+VRTRMJf9BP6QCC/qAAUuAkZ3uieQ/zpVhu7WA4ha0hjxEF+hvQbfV2/cuLHD6jjpryuZei1Bz8glHkwy2d7mR1s2ZDFgJz1b+Gb3FiDZZEh0AAAAQAZ+0dELfSKVB6ErWa4UN2AAAABABn7ZqQt9JaEqch7NLRKEnAAAAh0Gbu0moQWiZTA//ABFQV0ESyA45rDifiT24KWOeOPZH8FRjGjQ8MPKBAQUzPePQCZgIMjwYtlckcgQDv6Dvd3PZE2ktQHpA/pK9Dyl3xZfFKquSTrbt+O9FwByQgX/V6FNrMYZWODraV6WHV44W81jURYE+/IyeYvEW5cFr3IT4ms4nQH0ekQAAADpBn9lFESwl/0M/DVE8stqndpGuOT++LViBSgPA8ANMPC4OdP2AS6SiQZz9kjOSDk1dk+VW3CNTyivhAAAAFQGf+HRC30twdkkza5ZxzhjF31xuwQAAABcBn/pqQt9LaIhGOycPn7qyHAoZsDoJaAAAAH5Bm/1JqEFsmUwUT/8AEaO3WM6ZZoROSvfX4Y106HEhACYg22UrK3YVK2FB6oDrxDvJlLGUGyXiLxYNX6wRY9HA8urggZVwBrPHP9dwouOp8iiBKpaUL/AHz1TMa8unMhsYcffzu16rRN3b2rPm5pCkd+JAwZ1ZbpNXTj0zbYAAAAAWAZ4cakLfS1kn7XD8ZbcD7DoiomZqQQAAAJJBmh9J4QpSZTBS/wARUFdBnTK/rE0m4jJj+8ZThGHj5Qyo9rPM2C7cRYlmD+fdVvTa+k5roBpDu092kpoRZy8nFRjCE839s+84oYoc60T+INJ2TtxuoVcBTKoadpOhMj0CV6nV+mQtkvj8fwTL0exJnKjTqEv3EvjAHDLJRTFc+ndaoaEG9iyGdSdjcHbst9m+4AAAABEBnj5qQt9KhKqpno/LbF0h6wAAAG1BmiNJ4Q6JlMD/AA+G8tL5PAZPBqie4vJ/4pvNnMr3sUkM1lbx4HMvms6COq9+EMrSUMBrrlum0wTpYy8vjBGPa7IXC7ar5To3X/0C7IfzNLysVDS/Ky+mRV5lTa+qb82xpR+nd1yHBNI995nvAAAAMkGeQUUVPCX/QT+kAbRQ6YArZZR39vkc1O3LYjNrGlxpAGukWprEYyMfnpgH9EBsGqpTAAAAEQGeYHRC30ilQehK2CNjM1pxAAAAEgGeYmpC30loSpyHs6dRkVDugAAAAGVBmmZJqEFomUwP/wAPN5DvWiSc53PdfrxMnVDRxEit6znfI4VyqM2RQCmOaQHFwZTCWx1iW5yzr1JaX/1fVNYtszmPNn8XfzxpOisdYi2wYQ0CKj1L7qhRtHuhxILrWoyuHyj5gAAAABRBnoRFESwl/0CXed3CKGAh0LhpwQAAABABnqVqQt9IsgDw+4OKRXICAAAAqUGaqkmoQWyZTA//ABFPgap+YTOqeFTSSX326PRIQBxdJ4VN3RRe5LuFYCxtns65EUyP38s75TpVMWID14P0bSLBCisbPo9UINsqd0rJYEtKSzQcRArDf7eMDU1cPwd96v/U6aFvFtk620Ai6ticzy8QvDCG7OtvP67mk0vwfiE99Wpmi+3w6k3+uk2X+WTyftkQkGgu8A2x3adCI7e6BXmukjbJFMmyeYAAAABMQZ7IRRUsJf9ChVp8H+7sOgfSVvoz9SHvG60m2LL8kS09V5vTf54za9psPP9eAqMCqJYT7QhfRHhyEOO7EDLJYYNAUyhAEau2nmSLYQAAABIBnud0Qt9IpUHoSyk2PbdhBXwAAAATAZ7pakLfS2eWrcz1o0g7INwsoQAAAIdBmu5JqEFsmUwP/wARmyw1T8wmMKA9bZ0fIMl18xJqqrTxXrc4RQzer392xMsHyaMPDSLL2Ugt6KczmiG0la39QfbcYwu6K5rzKsyGjzjC+3/IVcOFxzFAV119JakA9d/kYNa66icb1ke/MsOhXVDbABVnxLR7ynBa7NVXYq2qLPzZJ2huntEAAAA+QZ8MRRUsJf9DPwyoKQhOO1j3f50IUSYk5xHEv3RuPrGL+Qp15tVcjn1evcXhaB4Fk5dJr85IQGz99bdMYREAAAARAZ8rdELfSqQSB0cNd8RAZ0EAAAARAZ8takLfSoSqqZ6RSXy0l60AAAClQZsySahBbJlMD/8AEU+Bqn5hL5MnOEjrJ2BXmj3yDgtap2dae+dEGMcyk2mtv9qYMrrb5epit8wadj2iiJ3bOdhOukiJ+edNW0NRU97zB2dbURPzff0J4TcYU8wmuyqiPji4KCf8h9NqkaVr+UAX1ndGWRtfT8w21Gc/npXiprUj4lrNWi7cVlHYhBCeBALRc1sw3PSiarU3hhUHVsfrF1CZn9idAAAAOEGfUEUVLCX/Qde8Xpt9nNHlhfx2L3azVCjMHhsLldKDavhD/bQWgEr8wtr3I4ysUu5ssD/ftWk/AAAAEgGfb3RC30qCSNBvoldfG/kBnwAAABMBn3FqQt9IsgDzNeKeVe7yfo/IAAAAkUGbdEmoQWyZTBRP/wAPhve7wq8kOabtVPgcmYrPStwsFAX9ttlwO3+h3AlYsL/EUay4EAcofAbkDKTXP/5CVRmRgjlrXf6dAjmpLcweUuqutxtZ9brHSdS5UGIJGLlNHfUvb/+Gn9HMOqYVgawIZk9mrmL5UIcbVU6cl1sEJRKoNfsRkKG+2whuyD+5s/9oZWEAAABQAZ+TakLfSf+7p7/iSMKD6S6L+u8RV5HAfDRj5znu7gLzc321cdCOhrp36NLNeR4XOLlKK57ZHmv5CxWFrRCSt+tToI2byzU1hJaXTF4pOsAAAACmQZuYSeEKUmUwPwART3nVGdMs6qeZdjPp9Da8xJslqCUpYb12mxXwGDGkQo4XnJ74KAjI8dd7IXaAPIrfAUj4tb5A8BHaOlZYRy3VcxkwRk2s+mXpO4cZKLlUbxaeWvPFEigO9IA7Snj/NfotZxYt66ohUuR3oSUVA4vc/oVChUAP39/LJP/i96OxYzkgk9jW00HP9PCLhGm210joFQzqhDMMJtjI1QAAAC9Bn7ZFNEwl/0KKrcveWePlv35WDpZviJuGu28eNgmqrwJt40Q5sDq2Hzem38+ZoAAAAA0Bn9V0Qt8lMHK55HGJAAAAPgGf12pC30tS7/rlH/PmIN4CVjMyvrRQ+EQk9B3/ZCqloMMX75EhXodD+OIlH6Kk9nPgPSUR5Y3azPjOKPiBAAAALUGb2kmoQWiZTBT/AAK63gAZazMPFAjQiKR1q1NoV/0/3yIG3/uDSYKjJ98ymQAAAAsBn/lqQt8lNxu0/wAAAHpBm/xJ4QpSZTBS/wARo8L/1REsDeMvvc31Ku4dOH0IdNh0kTThdygfOPpA/z8sr4MowxK0jkIGFC8E3PvA+N5PoOq0TbLecpoYD9Y+uGzVFAFAa6EWXTyH+YM0W3yyI2Q3Yf7TQID89+hoJPcomP8eWNSeemWpasaJpAAAABQBnhtqQt9kvQjZMCx5JOXezzLnmAAAAJdBmgBJ4Q6JlMD/ABGbLDVPzCZ6tj7dWaqrgZtR+OKTtY4kXZfFMY5jfh2MSP3YTaUhPOUcc25GJdXpCRZj1SvSdLPBrS25KUTyWJmk+kQ4lGsvE0VQ5aTx6IjDAzoX3JJVnvmt3JM/Sr8CwRY0KSC7fB4GcBtd7sUi5jd9Mi9pvbqXfs8DqmC9hycRgbxSAkgkb1vzzc8vAAAAXUGePkUVPCX/XCNjdB/HUABiKKiHvsQtMQ/PUBelYzMUB2Bo6Ylw8OFqYXfgMNessoE/1CTdcJ/axVg7vfTiEtaIXhJ3LxQ5SV8qbpzi11MaP/xHf+I+ANtI89Kk6QAAABMBnl10Qt9jApZozo/sTpkHPsntAAAAUwGeX2pC32S6+c2R6Whv+pDDzN7qtH791lrpVHWn5OSPAFnSzYxzDgfFkwP//WPS2bj1WVKRhz9OTqhWCTfxma+p5NARWVK3y3dCTldxFxo+EaoxAAAAEkGaQUmoQWiZTA//AALV9dytTQAAASJBmmVJ4QpSZTA/AA83kO1YP687e2O+CpXg8BkwiBG9NqNKAOGrSnwLscRI4h9gN1WhmEzotNw6vaUhIAQLo+LA3K+BNUwHqLMXJG5dk5yyi1iw6ab9/qgUi64fQJwLp/9v/+PivEKx51bKT9DmrqqnNsrse1jCWr5BlnMI0Ylc1zAC30Wn6999uFvKztAF6/JZkwJnS4W8fgBolppjpGM+G1uM53+23mydqXcFShlqROZbm11TguKrV0Zo/bMMBB+FGJkdBiofO31EOznJ/wBomWOuuzNkHIOJV3DS7HSGkOF2kFS8vzXD3mva4VzwVReYIytRlqPPx4Bhp9cwTcZr0VOlNR7YhExLWfOLnkl9e46JtEp11bm//zNwx3VFYlWyXQAAAGBBnoNFNEwl/0E/moV/g7JazRTzPeQqRGuZtl0ZqKjqdv/ax0HBhTaF8ObbE3Hcp09vmEjANp7jWz8ZBssZ9YnzmhNTR4Hn6979HMZWbDXZIR+SnyxV8TfOp2LmbX1vCIAAAABNAZ6idELfSf+7p7/iSMKD6S6L+u8RV5HAfDRj6a3K0rYGSA1Hn3J7GkqZusoweyvzOWjSbWQkqAmj1kvilKoU9E7BuBUJkV1CXPO1D8AAAABSAZ6kakLfSWhKqzNYWUmzey8ux1q+3/CvtqBSXwNAFdSOgX5PFbP3EmtSKTBs2A4KFU+ugpcYx8HzQEF2QL4fAxvqTLQ7zQQezXz+IhP4pjSwuwAAAKlBmqlJqEFomUwP/wARUFsKpWjgNcaLMKZXie54sQkeEDprZw2uKuqLUgUcrSQsZS0+aTbbdSH6dzMdO7nlfRXVnqLfe+ItfqR8c9PtYS/g9xyzh359xs2KsFQ0fiAJE3Dy5zmq2nC5Xswb/5b3Yw59RioSTbEule1AZQCPnp5+Cwh/l/Oo6QMS2h0Xb3ilRv+7TliUl0sndqU3yB6i8CfZRUCSawyJmIbKAAAAQUGex0URLCX/Qz8NUTyy2qQOv46LL//mbvkZ5n4cPTs4MafylBQ2Hp7j5xM9Hjq//9gtIKK8fp3BNNn0SdOejD3rAAAAFAGe5nRC30qkEglL/R/bnfMhANc9AAAAFQGe6GpC30qwy7TWnd2h5OZ+iCAOTAAAAHZBmuxJqEFsmUwP/wART4GqfmEz1bOO7FC+/cLfQyo43MJrlyw0jucrUwPWqldF5gLydBDyPaZEAu0Ho2b/vR/0gBwlahYAYacavWgeijqqC5hNh6H6ObmfexOUedp9FNOaLgGezI/DQSu1WIEFgskPgrFryN+rAAAAGkGfCkUVLCX/QoqtzoJzhfhcXIl09saz+4/ZAAAAFgGfK2pC30qEqqmiP8O3HFMIw+Z5KegAAACCQZsvSahBbJlMD/8AEVBbCqfmEv6XWV2xIb/mldTQ9N/0e99KrzCtWCjtLZlFAQEsltY1MhxNNWi+0M7G1nGe00C50qmYXmQCfItHH6w+vRnvkni9/PH9s8v//OK+ygI/Sc5PfG1GjKPRMs7mUdiMezq/vFviNjcqIfLlFZV6gWWAQQAAADdBn01FFSwl/0HXvF6R0XoHLxuIRW+bsAn+qIW1/7+C69BK1CSL43FB5AIOhDyyvIWw+can9+qKAAAAFQGfbmpC30loSqszoodaXyyubAwqpwAAAFVBm3JJqEFsmUwP/wAPN5BAO79PCDBwz32pYVKiiGO5tKvMSaQcQpqCksm/pVSKMfS0rW9I13ec0KIkvhhP+sgmNqnUEgV8294MhaRszRZC5uPVUHWlAAAAGUGfkEUVLCX/QJd55yLa2RXGcUVyAsxCuWgAAAARAZ+xakLfSLIBiL9V8MqA+oAAAABbQZuzSahBbJlMD/8ADzeQPyaIRXxAhvRGyzVRMGqUofA/x/fEBWnYO/8gHUZNNhShyaOwRxJ+n5uE8OHojeMnZeVk2cEv9IbBy9PZfROK+e4hVqq8uh/dQ4F6HQAAAJNBm9VJ4QpSZTBRUv8AEU+Bqn5hM6p4VNJJffiMxWj3n9b38l4AVMBCm0YuFOhrDhhC2b/53hLv7MLLienF0n0JINXdA4y6QDOBiupiaRWUmM81tc7fU6iTeQjBG4E2FbfpvqJgenilNw32dzBYMOo5iFUY7xA+yfjO4HPVwBUReJOpciAbCWUGx0FkkqPLcIe81cAAAAASAZ/0akLfSoSrF79sWC1mXGpvAAAAcEGb+UnhDomUwP8AERigcOALUhsSK/fLgV2y5fGfQsI5Vj0hlh8yvZhmnowDnxT766AEbc78boqKAv/u1SBBA+0ASnqRP/yzU/BxbT7LKPDqByOvLiM9WnRBg/9SGbvebYQi8RtvmZQT74izQmF/BFgAAABVQZ4XRRU8Jf9ZLGq8nfgc8T/NANmfApfREpNlZJftefs1+8cNDfwmihYRSSc/VWnFwproqnIYjbrBifhACGmf1YqEPaVPflUa+wdnPWLpFkjZ9ZR4KwAAADwBnjZ0Qt9f/o0NVIIEBdCL+SrRuk6qZbv4/7uhfm9lQ/OPh+Wt4+6/MKwDXnvcFeaGTfFTNlFl/pI57oEAAAAXAZ44akLfYXFj2GilUnMaM20BqQTbHGEAAAB6QZo7SahBaJlMFP8AEhsp2QNsgApxBJLJOXgqFWT4DRIS4HXk6F60y7JtRnX2SpZOoRtzE+dmFoNPXaa+9hhf7zXORM/N+ZXWRZrW+SWbLPkBPXnk6WLuhEaftJ9+VNEp1YEQSe4RCk9go6i2XghY7HW7MtLYyztsntkAAAAXAZ5aakLfYf9BIwE4kYARl44G5GthXMwAAAB9QZpdSeEKUmUwUv8AEDweWBiKyNPDtzLc4mMkXnh+rmt3UXHtLuYR8dgj+3EyCo1hvkml3qR3BXGnltMkX63Dn02hXCFYeO7FqzBrUQ5zrhuF6cTfx98YePDS+BnwrbS/aZHBatClhpwA8dK6ZXZlI+XKL7Hhc5VazJVyHMAAAAAoAZ58akLfS1YK6/YSQS7zlp1ABzKfJX91fAGDnE+Sf7VEg+GLD4U9oQAAAFZBmn5J4Q6JlMD/ABIW8UkQBtk6qYf1ycX6B4p9ANOfpTCjRgXnBYU0h+x/kAPenb0z9D7+d8k2K6dEEJhyYFdsBo2gV3vi9sq3Tt7p2N888XAqyYZPIAAAAMFBmp9J4Q8mUwP/AAVX5It5mK2K+vV9hkmkXaJAzBraQrAs9vhUZcN+fi+kF7rEIUZxHGhG6C47t56AhLmzvMRrpyept7wy+86KXxB3R8lWLNfyiozoC/uB5K6W1OUyqW1LKfsLTcLDy7siqsixXD6VSSA07BULNKjuSBlk6vRs0RIu7eqLvgrFveC5KNeouBDpPSMwpbHZZiHMYwp15vkfAGwst+Ty3IExY2ZGeRLcdAjyb6hIHBafivd/6+E/PfD8AAAAYUGaoEnhDyZTA/8AEaFW1pooxDRe79PB5BbBgZ+kVizo6FfYZKaPnbWuT0IQr5kssb8PHcc5p8wj82Dod6R5beunAnBwkbMMZovmpa4kR8pP7iYCs1yKHXRNnA42FA2EDtsAAACJQZrESeEPJlMCvwAgNwkS/R3PbL9gwEJkrTZc5Z0rho5Ooh4N9QSXib+//VZSYmPs5OuH9T4RnFTJys5QimlrfqRcxAq05UY8KtuHRHKK/cbC7oyThFt5/oiogIPqG3JOf4h4DS5yIF48a/fkS2qD2cC0qM0SUMwSeZlXkMguM9rQXffiGONLz0EAAABIQZ7iRRE8Jf9Cwjk6PNIHnrNOoecVsvX03h6ViKcujW2JkMSGmsXLqH2SnTCMWx98AKCra/Yam1Alk4CTmJlN3c/qwB4B5OgnAAAAEQGfAXRC30qkFrIkM9ahVD8eAAAAFQGfA2pC30qw0qbxRkVb9pe0ZlWXUAAAAGNBmwdJqEFomUwK/wAel0b5SCWUgC7xmaoIIdcncLTIrHR95ItbRwTdlfzAP7xuwDnci26JPgEoJjIucgAZfoD/cyh7P7gOzq65aq3YsVqHl0UyItI9dcy+C5vs6zCD3E4fXVMAAAA6QZ8lRREsJf9C78DvrhVvklKsk+Sh43RrS3GDGEZxAUAfdxABWPKuqvFTb3RZ412FsYqMUaurr2hGqAAAABQBn0ZqQt9LZ5iLED6NrEDo390ipgAAAGtBm0tJqEFsmUwK/wAiFWFbJvtGTPSjrmjS9vtRG8SR/Ny1BzOviP6H+FgoRpJ4gy+AzK7nLseajPQUe2fMQUwsDk+EhCeOgu25FoE49kslxjpjQn+UKyS/9LpHDu2FQpkQ+fXB5TJBu0LYlQAAAC1Bn2lFFSwl/0SNdJb3t8KHwdpMWCHCxQLVVmvzaCx5Gcbq+EPv5ad4MDcJbcAAAAATAZ+IdELfS29TQaUelmm3FLD9gQAAACMBn4pqQt9Nse1tH6HyL+EttzPp056M+2qljm4x/5lN+xYOgQAAAS5Bm49JqEFsmUwJPwA8TOav6hhyqCYRfufX8V7wYiDSSe089kM5GautJJxOfj7CuHJAdHpj3USO2IUP/O+ZRo6TpUxFUwuJdGWg0a9p3a3+JsH8ufi1sIGCB0WZHRqfkiI4xR4NFAMY2bIqMpDC8vUQ/MjLjOtQ5Ih4udiLymJnO9pBkZJzQae/vj3dJwvNFVN18GT96PNN0Te9eDMxjtr93LGt9BjA2/J6x7zfmzv5/L8TBv0dbVUenm8XDl2f9VSLMfiP+q8AkMSpNQ0wMT1lWfiqZ1bi9m7gU6iwUe49F+/+5rdl4gJyU9UNze3W3gfD2OtAppi1gWJ5u5gHgvX66cAewQRpXomJgObJAHRcHoNDsUFas2BZBzyQDCB+4M8kPZgiQDL/9aHbbTWLwAAAADdBn61FFSwl/0URwiWBTrkZjglvlTr1iaDLT90oYe7LUacneD386hUfCEiNMfrNDEZA1Wt9FCKhAAAAEwGfzHRC301cSu7wuIqFtWFYXMAAAAAZAZ/OakLfTISL2JcXA+MQuTqBaacvvPoYQwAAAHpBm9NJqEFsmUwJPwA/oACnG2men/+/WJr7k0SeQe81xv4caVajq4TwFZWI/BjTu3v6Q8ijrQPir3nb6xSGzcipiSdb3zRqIAOcDxZ49rIZVcGoXvKLynzdRgEbdfmm5xjif7BcJWocMwilWqPJMEmoZUPhirQGXm04eQAAADhBn/FFFSwl/0UQ15wBzyeTIU7B+XUnhAbCVWkqR94xYulaW193cVttK452Bvwoj6O/b71f+bueYAAAACEBnhB0Qt9Mgjj+IVgaQ6Yubd4hGM42kvDqEplkVJLiM8AAAAAnAZ4SakLfTISKvRNjPOY/f7axOfHBJC2iwCSxobDlGa/nWbtxy8PXAAAAo0GaF0moQWyZTAm/AGsAkNmSxNw7maHivf/78AqQnvNzfDQ56hOpX9WHeiaU1wfh4xyDAGBMIgHhoizynzaAKa9bMa+i/mb3fGMdaysv6WO2C7cXZVHI6ePCnGjITApwDK2BcBpKXYMG2+W7jy7P3IfcQX8ZN6zQ323UjyYItDcu85rRbsMbgRZlS/8kgqCayVFZcCwGx+KM6epKEqJTZAnw2kAAAACIQZ41RRUsJf9FDo59+9q8EWF7FDRkxtKEFCVj0/0wzknwDS/tgMv7FPY9cQpPe3YceRlGjjfJr68YS6RCzhlKNPQOBhQERmcv+J6TBYu4v6ZHgKnrVwOciHL1zQi95rPpXEc6o3mEdfEb4jqbouE0u1fJRbx6gHnvJ70sQorILx4jkFkbrUjnIQAAACcBnlR0Qt9MglhJT9BJXa04y7ZdUVhg1ptoOW4+HWb8PHmlfknVKKAAAABXAZ5WakLfTVkXqIQXnAbvv5BaRPpJD7/ihyJPN+k0+TBfRA4DXtGey8wqFkrCVHeI3wTjansa/xhQmWWiWSmNMNJjMVJDNZm1eauvcvzna67R/RZsIURdAAAA00GaW0moQWyZTAiPALZe26hW+KU4h4LTqbTHKjowClUq3zuDiy0ttap+h4g4mvRIn1MPmT+b/TkE8PAr7wePNxW9gwN7f02IDCSO1sB5Liaj4njqWcuaoLrZTfj7VOmz1Zr9M0NvGwOs7Rb+dDq6Gx+zex5h0366rlX7oBjdfcwHDR4emVcIoxnerKDJmhBkzw5xkbGpIOh4gy/IcCYR6+YGlzLSMGRABNOezITC6PZ6sH3A6LnknLyW3OiPO+rfu9jDpqrPU3XKgTJ2f6tmhXW9bXkAAAAzQZ55RRUsJf9aS80hxVuVJ+OaZ3DK+lCl6oWGnWieABVjSVWEq5SiQ3OhhWPdcXXDczHdAAAAJwGemHRC32NA/Myp2TmAkYRZ2GCL2v6OUaSVYrgLcD2g5HgF5hAwgQAAADQBnppqQt9N5FHFvmnHx+/iSwN0V15wENZOZpM0ZQRQ9nd2kEEIarJ1ABgfiAMsgiixdUkgAAAAp0GankmoQWyZTAivAqfXhgOddbSVkiGd/hHNHKJUeOJWSc6WbwalE1iUDAuZDt4CTPhd2DYapXf95QF6Zan4mp0U3veTfX3ncPIg3DmO0MQceZ6U8RsKbK2lqaFCuBB3SWK8RNne77s15Nm/PlCrUTEm8IzglfzKi+11eDNu3atas9qhBW4LVmr9T/IBuRlGHqP+npfgcH9UKRdJM2SICP/m16r3JuvoAAAAG0GevEUVLCX/USvCwqGaSefJJR+iS5p/yhPUgQAAADMBnt1qQt9DC62gPenjCLdt7lCpQVnohIJ+c+Sf7VEfKl2ncRAEYRKi0TAh1KAHoa65rmAAAABXQZrBSahBbJlMCO8CncIKdDIWWGKz+IsAL3KXh9Oq9KmhM5bNPzzfJCyIvuXkJ/RelgHBgBUxAX7jUD+OVcSdPkXlQ1GwxKGaTSz5MXujzv2vSEbLLPZAAAAAHEGe/0UVLCX/PD9Pk6Sy/N0MCoMvXlME++flVD0AAAAzAZ8AakLfQwutoD3iiY2fLmFWPskO1EUT5ZFs83XPZUdkssL6nPgVfAWh99cKdIyVdfYdAAAARkGbA0moQWyZTBRMJf8ELpWIHfyrdurInjA4a2Y292xxwwt/hbqfrxZx7dL+D5ZnUdhhQ1sGbK34uRv3YCtLyZx7ZoNokvEAAAAaAZ8iakLfQ1kZ88OPScm61gw2aDPY/TO9i4AAAAAZQZskSeEKUmUwIW8EWLz1gOFnDNdZPwsQGAAAE3ttb292AAAAbG12aGQAAAAAAAAAAAAAAAAAAAPoAAAwLgABAAABAAAAAAAAAAAAAAAAAQAAAAAAAAAAAAAAAAAAAAEAAAAAAAAAAAAAAAAAAEAAAAAAAAAAAAAAAAAAAAAAAAAAAAAAAAAAAAAAAAACAAASpXRyYWsAAABcdGtoZAAAAAMAAAAAAAAAAAAAAAEAAAAAAAAwLgAAAAAAAAAAAAAAAAAAAAAAAQAAAAAAAAAAAAAAAAAAAAEAAAAAAAAAAAAAAAAAAEAAAAAAoAAAANIAAAAAACRlZHRzAAAAHGVsc3QAAAAAAAAAAQAAMC4AAAQAAAEAAAAAEh1tZGlhAAAAIG1kaGQAAAAAAAAAAAAAAAAAADwAAALkAFXEAAAAAAAtaGRscgAAAAAAAAAAdmlkZQAAAAAAAAAAAAAAAFZpZGVvSGFuZGxlcgAAABHIbWluZgAAABR2bWhkAAAAAQAAAAAAAAAAAAAAJGRpbmYAAAAcZHJlZgAAAAAAAAABAAAADHVybCAAAAABAAARiHN0YmwAAACYc3RzZAAAAAAAAAABAAAAiGF2YzEAAAAAAAAAAQAAAAAAAAAAAAAAAAAAAAAAoADSAEgAAABIAAAAAAAAAAEAAAAAAAAAAAAAAAAAAAAAAAAAAAAAAAAAAAAAAAAAAAAY//8AAAAyYXZjQwFkAAz/4QAZZ2QADKzZQod+IhAAAAMAEAAAAwPA8UKZYAEABmjr48siwAAAABhzdHRzAAAAAAAAAAEAAAFyAAACAAAAABxzdHNzAAAAAAAAAAMAAAABAAAATgAAAO4AAAqoY3R0cwAAAAAAAAFTAAAAAQAABAAAAAABAAAKAAAAAAEAAAQAAAAAAQAAAAAAAAABAAACAAAAAAEAAAoAAAAAAQAABAAAAAABAAAAAAAAAAEAAAIAAAAAAQAACAAAAAACAAACAAAAAAEAAAYAAAAAAQAAAgAAAAABAAAKAAAAAAEAAAQAAAAAAQAAAAAAAAABAAACAAAAAAEAAAoAAAAAAQAABAAAAAABAAAAAAAAAAEAAAIAAAAAAQAABAAAAAABAAAGAAAAAAEAAAIAAAAAAQAACgAAAAABAAAEAAAAAAEAAAAAAAAAAQAAAgAAAAABAAAGAAAAAAEAAAIAAAAAAQAACgAAAAABAAAEAAAAAAEAAAAAAAAAAQAAAgAAAAABAAAGAAAAAAEAAAIAAAAAAQAABgAAAAABAAACAAAAAAEAAAYAAAAAAQAAAgAAAAABAAAKAAAAAAEAAAQAAAAAAQAAAAAAAAABAAACAAAAAAEAAAgAAAAAAgAAAgAAAAABAAAKAAAAAAEAAAQAAAAAAQAAAAAAAAABAAACAAAAAAEAAAQAAAAAAQAACgAAAAABAAAEAAAAAAEAAAAAAAAAAQAAAgAAAAABAAAEAAAAAAEAAAoAAAAAAQAABAAAAAABAAAAAAAAAAEAAAIAAAAAAQAACgAAAAABAAAEAAAAAAEAAAAAAAAAAQAAAgAAAAABAAAKAAAAAAEAAAQAAAAAAQAAAAAAAAABAAACAAAAAAEAAAgAAAAAAgAAAgAAAAABAAAKAAAAAAEAAAQAAAAAAQAAAAAAAAABAAACAAAAAAEAAAQAAAAAAQAACgAAAAABAAAEAAAAAAEAAAAAAAAAAQAAAgAAAAABAAAKAAAAAAEAAAQAAAAAAQAAAAAAAAABAAACAAAAAAEAAAgAAAAAAgAAAgAAAAABAAAGAAAAAAEAAAIAAAAAAQAACgAAAAABAAAEAAAAAAEAAAAAAAAAAQAAAgAAAAABAAAEAAAAAAEAAAoAAAAAAQAABAAAAAABAAAAAAAAAAEAAAIAAAAAAQAACgAAAAABAAAEAAAAAAEAAAAAAAAAAQAAAgAAAAABAAAIAAAAAAIAAAIAAAAAAQAABgAAAAABAAACAAAAAAEAAAgAAAAAAgAAAgAAAAABAAAKAAAAAAEAAAQAAAAAAQAAAAAAAAABAAACAAAAAAEAAAoAAAAAAQAABAAAAAABAAAAAAAAAAEAAAIAAAAAAQAACgAAAAABAAAEAAAAAAEAAAAAAAAAAQAAAgAAAAABAAAGAAAAAAEAAAIAAAAAAQAACAAAAAACAAACAAAAAAEAAAgAAAAAAgAAAgAAAAABAAAIAAAAAAIAAAIAAAAAAQAACgAAAAABAAAEAAAAAAEAAAAAAAAAAQAAAgAAAAABAAAGAAAAAAEAAAIAAAAAAQAABgAAAAABAAACAAAAAAEAAAYAAAAAAQAAAgAAAAABAAAGAAAAAAEAAAIAAAAAAQAACgAAAAABAAAEAAAAAAEAAAAAAAAAAQAAAgAAAAABAAAIAAAAAAIAAAIAAAAAAQAACgAAAAABAAAEAAAAAAEAAAAAAAAAAQAAAgAAAAABAAAGAAAAAAEAAAIAAAAAAQAABgAAAAABAAACAAAAAAEAAAoAAAAAAQAABAAAAAABAAAAAAAAAAEAAAIAAAAAAQAABgAAAAABAAACAAAAAAEAAAgAAAAAAgAAAgAAAAABAAAIAAAAAAIAAAIAAAAAAQAABgAAAAABAAACAAAAAAEAAAQAAAAAAQAABgAAAAABAAACAAAAAAEAAAgAAAAAAgAAAgAAAAABAAAIAAAAAAIAAAIAAAAAAQAACAAAAAACAAACAAAAAAEAAAoAAAAAAQAABAAAAAABAAAAAAAAAAEAAAIAAAAAAQAACgAAAAABAAAEAAAAAAEAAAAAAAAAAQAAAgAAAAABAAAIAAAAAAIAAAIAAAAAAQAACgAAAAABAAAEAAAAAAEAAAAAAAAAAQAAAgAAAAABAAAIAAAAAAIAAAIAAAAAAQAACAAAAAACAAACAAAAAAEAAAYAAAAAAQAAAgAAAAABAAAGAAAAAAEAAAIAAAAAAQAACgAAAAABAAAEAAAAAAEAAAAAAAAAAQAAAgAAAAABAAAIAAAAAAIAAAIAAAAAAQAACgAAAAABAAAEAAAAAAEAAAAAAAAAAQAAAgAAAAABAAAKAAAAAAEAAAQAAAAAAQAAAAAAAAABAAACAAAAAAEAAAYAAAAAAQAAAgAAAAABAAAGAAAAAAEAAAIAAAAAAQAABAAAAAABAAAIAAAAAAIAAAIAAAAAAgAABAAAAAABAAAKAAAAAAEAAAQAAAAAAQAAAAAAAAABAAACAAAAAAEAAAYAAAAAAQAAAgAAAAABAAAKAAAAAAEAAAQAAAAAAQAAAAAAAAABAAACAAAAAAEAAAYAAAAAAQAAAgAAAAABAAAGAAAAAAEAAAIAAAAAAQAACAAAAAACAAACAAAAAAEAAAYAAAAAAQAAAgAAAAABAAAKAAAAAAEAAAQAAAAAAQAAAAAAAAABAAACAAAAAAEAAAoAAAAAAQAABAAAAAABAAAAAAAAAAEAAAIAAAAAAQAABgAAAAABAAACAAAAAAEAAAYAAAAAAQAAAgAAAAABAAAKAAAAAAEAAAQAAAAAAQAAAAAAAAABAAACAAAAAAEAAAgAAAAAAgAAAgAAAAABAAAKAAAAAAEAAAQAAAAAAQAAAAAAAAABAAACAAAAAAEAAAoAAAAAAQAABAAAAAABAAAAAAAAAAEAAAIAAAAAAQAACgAAAAABAAAEAAAAAAEAAAAAAAAAAQAAAgAAAAABAAAGAAAAAAEAAAIAAAAAAQAACgAAAAABAAAEAAAAAAEAAAAAAAAAAQAAAgAAAAABAAAGAAAAAAEAAAIAAAAAAQAABgAAAAABAAACAAAAAAEAAAoAAAAAAQAABAAAAAABAAAAAAAAAAEAAAIAAAAAAQAABAAAAAABAAAKAAAAAAEAAAQAAAAAAQAAAAAAAAABAAACAAAAAAEAAAoAAAAAAQAABAAAAAABAAAAAAAAAAEAAAIAAAAAAQAACAAAAAACAAACAAAAAAEAAAgAAAAAAgAAAgAAAAABAAAIAAAAAAIAAAIAAAAAAQAABAAAAAABAAAGAAAAAAEAAAIAAAAAAQAACgAAAAABAAAEAAAAAAEAAAAAAAAAAQAAAgAAAAABAAAGAAAAAAEAAAIAAAAAAQAABgAAAAABAAACAAAAAAMAAAQAAAAAAQAACgAAAAABAAAEAAAAAAEAAAAAAAAAAQAAAgAAAAABAAAIAAAAAAIAAAIAAAAAAQAACgAAAAABAAAEAAAAAAEAAAAAAAAAAQAAAgAAAAABAAAKAAAAAAEAAAQAAAAAAQAAAAAAAAABAAACAAAAAAEAAAoAAAAAAQAABAAAAAABAAAAAAAAAAEAAAIAAAAAAQAACgAAAAABAAAEAAAAAAEAAAAAAAAAAQAAAgAAAAABAAAKAAAAAAEAAAQAAAAAAQAAAAAAAAABAAACAAAAAAEAAAgAAAAAAgAAAgAAAAABAAAIAAAAAAIAAAIAAAAAAQAABgAAAAABAAACAAAAAAEAAAQAAAAAHHN0c2MAAAAAAAAAAQAAAAEAAAFyAAAAAQAABdxzdHN6AAAAAAAAAAAAAAFyAAAD7QAAAC4AAAAVAAAAEQAAABIAAASuAAAAUQAAABUAAAAxAAAAeAAAAFUAAABZAAAAbQAAABoAAAClAAAAWAAAAE4AAABcAAABMAAAAGUAAABKAAAAYQAAAUwAAABNAAAAGgAAAG4AAAAtAAAAFwAAAIgAAABXAAAAFQAAANAAAABYAAAAHQAAABgAAABoAAAAFgAAAIUAAAAXAAAAWAAAABUAAABNAAAAJAAAABYAAAAVAAAAUQAAABUAAACDAAAA4AAAAEgAAAAVAAAAFwAAAFcAAAB7AAAAUQAAABcAAAAVAAAAMgAAAO4AAABPAAAAFwAAAFAAAACRAAAASQAAACYAAAAmAAAAYwAAAEUAAAAhAAAAHAAAAD0AAABKAAAASQAAACkAAABEAAAAHgAAAD0AAALOAAADgQAAAEMAAAAhAAAAFwAAAMgAAABGAAAAFQAAABcAAACfAAAAKQAAAEYAAABoAAAAGAAAALYAAABQAAAAXgAAAB0AAAC9AAAAiwAAAFkAAAAiAAAAFAAAANcAAAAhAAAAOAAAAFAAAACUAAAASwAAAD0AAAC6AAAAHwAAAI8AAAAhAAAAWwAAAO0AAABXAAAAJAAAAB8AAACRAAAAOgAAAB4AAAAfAAAAeAAAAEkAAABOAAAAGgAAAKMAAABNAAAAjwAAABwAAAAcAAAAegAAAF4AAAA1AAAAkgAAAGQAAAAYAAAAgAAAAEcAAAAVAAAAFgAAAMYAAAAcAAAAmAAAAE4AAAByAAAAFAAAAGIAAAAVAAAAggAAADUAAAAVAAAAFAAAAHwAAABBAAAAFQAAAHQAAAAZAAAADgAAABUAAAB+AAAAFgAAAGEAAAAUAAABJQAAAIQAAAAeAAAAIAAAANAAAAA9AAAAiQAAACQAAAAcAAAApQAAACAAAAAVAAAArAAAAFMAAADwAAAA1AAAABwAAACeAAAAGwAAAIIAAAEiAAAAIAAAABQAAACSAAAAQAAAAGcAAACLAAAApAAAAB8AAAAfAAAAtwAAAE0AAAAZAAAAHwAAAIUAAAAhAAAAGgAAAIIAAAA4AAAAHQAAABoAAACdAAAARQAAAB0AAAB+AAAAHAAAABkAAAB0AAAAGQAAAH8AAAB+AAABAgAAADgAAAAZAAAANQAAAFAAAAAkAAAAGgAAAL8AAABaAAAAZAAAADcAAACAAAAAPAAAACEAAAAaAAAAOAAAABwAAABFAAAAOQAAADAAAAAzAAAAIwAAAB4AAAAuAAADsgAABHQAAAAgAAAAFAAAAB0AAACaAAAAGgAAAJ0AAABHAAAAFwAAABgAAAB5AAAAGAAAAJMAAAAUAAAAWwAAABUAAAATAAAAZQAAABUAAAChAAAAVwAAABQAAAAUAAAAiwAAAD4AAAAZAAAAGwAAAIIAAAAaAAAAlgAAABUAAABxAAAANgAAABUAAAAWAAAAaQAAABgAAAAUAAAArQAAAFAAAAAWAAAAFwAAAIsAAABCAAAAFQAAABUAAACpAAAAPAAAABYAAAAXAAAAlQAAAFQAAACqAAAAMwAAABEAAABCAAAAMQAAAA8AAAB+AAAAGAAAAJsAAABhAAAAFwAAAFcAAAAWAAABJgAAAGQAAABRAAAAVgAAAK0AAABFAAAAGAAAABkAAAB6AAAAHgAAABoAAACGAAAAOwAAABkAAABZAAAAHQAAABUAAABfAAAAlwAAABYAAAB0AAAAWQAAAEAAAAAbAAAAfgAAABsAAACBAAAALAAAAFoAAADFAAAAZQAAAI0AAABMAAAAFQAAABkAAABnAAAAPgAAABgAAABvAAAAMQAAABcAAAAnAAABMgAAADsAAAAXAAAAHQAAAH4AAAA8AAAAJQAAACsAAACnAAAAjAAAACsAAABbAAAA1wAAADcAAAArAAAAOAAAAKsAAAAfAAAANwAAAFsAAAAgAAAANwAAAEoAAAAeAAAAHQAAABRzdGNvAAAAAAAAAAEAAAAwAAAAYnVkdGEAAABabWV0YQAAAAAAAAAhaGRscgAAAAAAAAAAbWRpcmFwcGwAAAAAAAAAAAAAAAAtaWxzdAAAACWpdG9vAAAAHWRhdGEAAAABAAAAAExhdmY1Ny44My4xMDA=\" type=\"video/mp4\" />\n",
              "             </video>"
            ],
            "text/plain": [
              "<IPython.core.display.HTML object>"
            ]
          },
          "metadata": {
            "tags": []
          }
        },
        {
          "output_type": "display_data",
          "data": {
            "application/vnd.jupyter.widget-view+json": {
              "model_id": "bdf8a9fcac164221ac6794f43e3f97db",
              "version_minor": 0,
              "version_major": 2
            },
            "text/plain": [
              "HBox(children=(FloatProgress(value=0.0, max=2000.0), HTML(value='')))"
            ]
          },
          "metadata": {
            "tags": []
          }
        },
        {
          "output_type": "stream",
          "text": [
            "\n"
          ],
          "name": "stdout"
        },
        {
          "output_type": "display_data",
          "data": {
            "text/html": [
              "<video alt=\"test\" autoplay \n",
              "                loop controls style=\"height: 400px;\">\n",
              "                <source src=\"data:video/mp4;base64,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\" type=\"video/mp4\" />\n",
              "             </video>"
            ],
            "text/plain": [
              "<IPython.core.display.HTML object>"
            ]
          },
          "metadata": {
            "tags": []
          }
        },
        {
          "output_type": "display_data",
          "data": {
            "application/vnd.jupyter.widget-view+json": {
              "model_id": "00053ad51670496697fe91a7657459fa",
              "version_minor": 0,
              "version_major": 2
            },
            "text/plain": [
              "HBox(children=(FloatProgress(value=0.0, max=2000.0), HTML(value='')))"
            ]
          },
          "metadata": {
            "tags": []
          }
        }
      ]
    },
    {
      "cell_type": "code",
      "metadata": {
        "id": "KNDSeZ4Nune5",
        "colab_type": "code",
        "colab": {}
      },
      "source": [
        ""
      ],
      "execution_count": 0,
      "outputs": []
    }
  ]
}