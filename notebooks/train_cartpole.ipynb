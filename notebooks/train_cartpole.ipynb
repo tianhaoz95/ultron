{
  "nbformat": 4,
  "nbformat_minor": 0,
  "metadata": {
    "colab": {
      "name": "train_cartpole.ipynb",
      "provenance": [],
      "collapsed_sections": [],
      "authorship_tag": "ABX9TyOTKgE3m9n0GmsudNBg/e6n",
      "include_colab_link": true
    },
    "kernelspec": {
      "name": "python3",
      "display_name": "Python 3"
    },
    "accelerator": "GPU"
  },
  "cells": [
    {
      "cell_type": "markdown",
      "metadata": {
        "id": "view-in-github",
        "colab_type": "text"
      },
      "source": [
        "<a href=\"https://colab.research.google.com/github/tianhaoz95/ultron/blob/dev%2Frefactor-cartpole/notebooks/train_cartpole.ipynb\" target=\"_parent\"><img src=\"https://colab.research.google.com/assets/colab-badge.svg\" alt=\"Open In Colab\"/></a>"
      ]
    },
    {
      "cell_type": "markdown",
      "metadata": {
        "id": "UvSLUO12KqZp",
        "colab_type": "text"
      },
      "source": [
        "# Train cartpole"
      ]
    },
    {
      "cell_type": "code",
      "metadata": {
        "id": "sQQMpCLC0cBt",
        "colab_type": "code",
        "outputId": "fb0d2dfa-dde8-40b4-919e-9cabffe61181",
        "colab": {
          "base_uri": "https://localhost:8080/",
          "height": 153
        }
      },
      "source": [
        "!pip install gputil gym"
      ],
      "execution_count": 1,
      "outputs": [
        {
          "output_type": "stream",
          "text": [
            "Requirement already satisfied: gputil in /usr/local/lib/python3.6/dist-packages (1.4.0)\n",
            "Requirement already satisfied: gym in /usr/local/lib/python3.6/dist-packages (0.17.1)\n",
            "Requirement already satisfied: six in /usr/local/lib/python3.6/dist-packages (from gym) (1.12.0)\n",
            "Requirement already satisfied: cloudpickle<1.4.0,>=1.2.0 in /usr/local/lib/python3.6/dist-packages (from gym) (1.3.0)\n",
            "Requirement already satisfied: numpy>=1.10.4 in /usr/local/lib/python3.6/dist-packages (from gym) (1.18.2)\n",
            "Requirement already satisfied: scipy in /usr/local/lib/python3.6/dist-packages (from gym) (1.4.1)\n",
            "Requirement already satisfied: pyglet<=1.5.0,>=1.4.0 in /usr/local/lib/python3.6/dist-packages (from gym) (1.5.0)\n",
            "Requirement already satisfied: future in /usr/local/lib/python3.6/dist-packages (from pyglet<=1.5.0,>=1.4.0->gym) (0.16.0)\n"
          ],
          "name": "stdout"
        }
      ]
    },
    {
      "cell_type": "code",
      "metadata": {
        "id": "t0Nlw464BqEc",
        "colab_type": "code",
        "colab": {}
      },
      "source": [
        "target_branch = 'dev/refactor-cartpole'"
      ],
      "execution_count": 0,
      "outputs": []
    },
    {
      "cell_type": "code",
      "metadata": {
        "id": "eThFtyA5Kmro",
        "colab_type": "code",
        "outputId": "9d10bd95-4db6-466e-f91e-86f8b957b7ae",
        "colab": {
          "base_uri": "https://localhost:8080/",
          "height": 119
        }
      },
      "source": [
        "!rm -rf ./ultron\n",
        "!git clone -b $target_branch https://github.com/tianhaoz95/ultron.git"
      ],
      "execution_count": 3,
      "outputs": [
        {
          "output_type": "stream",
          "text": [
            "Cloning into 'ultron'...\n",
            "remote: Enumerating objects: 93, done.\u001b[K\n",
            "remote: Counting objects: 100% (93/93), done.\u001b[K\n",
            "remote: Compressing objects: 100% (65/65), done.\u001b[K\n",
            "remote: Total 93 (delta 35), reused 49 (delta 11), pack-reused 0\u001b[K\n",
            "Unpacking objects: 100% (93/93), done.\n"
          ],
          "name": "stdout"
        }
      ]
    },
    {
      "cell_type": "code",
      "metadata": {
        "id": "Wwx5oEZzL4Fe",
        "colab_type": "code",
        "colab": {}
      },
      "source": [
        "import sys\n",
        "import os\n",
        "sys.path.append(os.path.abspath(os.path.join('.', 'ultron/experiments/gym')))\n",
        "sys.path.append(os.path.abspath(os.path.join('.', 'ultron/tools')))"
      ],
      "execution_count": 0,
      "outputs": []
    },
    {
      "cell_type": "code",
      "metadata": {
        "id": "xx8OHLsxCW13",
        "colab_type": "code",
        "colab": {}
      },
      "source": [
        "import hw_checker"
      ],
      "execution_count": 0,
      "outputs": []
    },
    {
      "cell_type": "code",
      "metadata": {
        "id": "xFqreC2OChDP",
        "colab_type": "code",
        "colab": {
          "base_uri": "https://localhost:8080/",
          "height": 68
        },
        "outputId": "6517e9f0-8c91-4690-db97-e12fed3953ac"
      },
      "source": [
        "hw_checker.check()"
      ],
      "execution_count": 6,
      "outputs": [
        {
          "output_type": "stream",
          "text": [
            "Tensorflow version2.2.0-rc2\n",
            "ERROR: Not connected to a TPU runtime!\n",
            "GPU count: 1\n"
          ],
          "name": "stdout"
        }
      ]
    },
    {
      "cell_type": "code",
      "metadata": {
        "id": "_4HvjKaRL-o4",
        "colab_type": "code",
        "colab": {}
      },
      "source": [
        "from master import MasterAgent"
      ],
      "execution_count": 0,
      "outputs": []
    },
    {
      "cell_type": "code",
      "metadata": {
        "id": "mffTlRLPNAc8",
        "colab_type": "code",
        "colab": {}
      },
      "source": [
        "class MockArgs:\n",
        "  def __init__(self):\n",
        "    self.algorithm = 'a3c'\n",
        "    self.lr = 0.001\n",
        "    self.update_freq = 20\n",
        "    self.max_eps = 1000\n",
        "    self.gamma = 0.99\n",
        "    self.save_dir = '/tmp/'\n",
        "args = MockArgs()"
      ],
      "execution_count": 0,
      "outputs": []
    },
    {
      "cell_type": "code",
      "metadata": {
        "id": "-Fd95BeWOJbx",
        "colab_type": "code",
        "outputId": "5cb0d396-04b5-4860-c28a-efb534e84e44",
        "colab": {
          "base_uri": "https://localhost:8080/",
          "height": 34
        }
      },
      "source": [
        "master = MasterAgent(args)"
      ],
      "execution_count": 9,
      "outputs": [
        {
          "output_type": "stream",
          "text": [
            "4 2\n"
          ],
          "name": "stdout"
        }
      ]
    },
    {
      "cell_type": "code",
      "metadata": {
        "id": "lUELi2slO04Q",
        "colab_type": "code",
        "outputId": "50d0fd42-858b-458f-b30a-a70e68337400",
        "colab": {
          "base_uri": "https://localhost:8080/",
          "height": 1000
        }
      },
      "source": [
        "master.train()"
      ],
      "execution_count": 0,
      "outputs": [
        {
          "output_type": "stream",
          "text": [
            "Starting worker 0\n",
            "Starting worker 1\n"
          ],
          "name": "stdout"
        },
        {
          "output_type": "stream",
          "text": [
            "Exception in thread Thread-5:\n",
            "Traceback (most recent call last):\n",
            "  File \"/usr/lib/python3.6/threading.py\", line 916, in _bootstrap_inner\n",
            "    self.run()\n",
            "  File \"/content/ultron/experiments/gym/worker.py\", line 74, in run\n",
            "    self.args.gamma)\n",
            "  File \"/content/ultron/experiments/gym/worker.py\", line 136, in compute_loss\n",
            "    value_loss = advantage ** 2\n",
            "  File \"/usr/local/lib/python3.6/dist-packages/tensorflow/python/ops/math_ops.py\", line 997, in binary_op_wrapper\n",
            "    return func(x, y, name=name)\n",
            "  File \"/usr/local/lib/python3.6/dist-packages/tensorflow/python/util/dispatch.py\", line 180, in wrapper\n",
            "    return target(*args, **kwargs)\n",
            "  File \"/usr/local/lib/python3.6/dist-packages/tensorflow/python/ops/math_ops.py\", line 506, in pow\n",
            "    return gen_math_ops._pow(x, y, name=name)\n",
            "  File \"/usr/local/lib/python3.6/dist-packages/tensorflow/python/ops/gen_math_ops.py\", line 6569, in _pow\n",
            "    _ops.raise_from_not_ok_status(e, name)\n",
            "  File \"/usr/local/lib/python3.6/dist-packages/tensorflow/python/framework/ops.py\", line 6653, in raise_from_not_ok_status\n",
            "    six.raise_from(core._status_to_exception(e.code, message), None)\n",
            "  File \"<string>\", line 3, in raise_from\n",
            "tensorflow.python.framework.errors_impl.InternalError: Failed copying input tensor from /job:localhost/replica:0/task:0/device:CPU:0 to /job:localhost/replica:0/task:0/device:GPU:0 in order to run Pow: Attempted to set tensor for existing mirror. [Op:Pow]\n",
            "\n"
          ],
          "name": "stderr"
        },
        {
          "output_type": "stream",
          "text": [
            "Episode: 0 | Moving Average Reward: 14 | Episode Reward: 14 | Loss: 2.196 | Steps: 15 | Worker: 0\n",
            "Saving best model to /tmp/, episode score: 14.0\n",
            "Episode: 1 | Moving Average Reward: 14 | Episode Reward: 19 | Loss: 2.88 | Steps: 20 | Worker: 0\n",
            "Saving best model to /tmp/, episode score: 19.0\n",
            "Episode: 2 | Moving Average Reward: 14 | Episode Reward: 77 | Loss: 3.272 | Steps: 78 | Worker: 0\n",
            "Saving best model to /tmp/, episode score: 77.0\n",
            "Episode: 3 | Moving Average Reward: 14 | Episode Reward: 11 | Loss: 1.761 | Steps: 12 | Worker: 0\n",
            "Episode: 4 | Moving Average Reward: 14 | Episode Reward: 13 | Loss: 2.038 | Steps: 14 | Worker: 0\n",
            "Episode: 5 | Moving Average Reward: 14 | Episode Reward: 14 | Loss: 2.169 | Steps: 15 | Worker: 0\n",
            "Episode: 6 | Moving Average Reward: 14 | Episode Reward: 10 | Loss: 1.592 | Steps: 11 | Worker: 0\n",
            "Episode: 7 | Moving Average Reward: 14 | Episode Reward: 20 | Loss: 3.574 | Steps: 21 | Worker: 0\n",
            "Episode: 8 | Moving Average Reward: 14 | Episode Reward: 13 | Loss: 2.048 | Steps: 14 | Worker: 0\n",
            "Episode: 9 | Moving Average Reward: 14 | Episode Reward: 32 | Loss: 2.873 | Steps: 33 | Worker: 0\n",
            "Episode: 10 | Moving Average Reward: 14 | Episode Reward: 16 | Loss: 2.44 | Steps: 17 | Worker: 0\n",
            "Episode: 11 | Moving Average Reward: 14 | Episode Reward: 12 | Loss: 1.893 | Steps: 13 | Worker: 0\n",
            "Episode: 12 | Moving Average Reward: 14 | Episode Reward: 17 | Loss: 2.548 | Steps: 18 | Worker: 0\n",
            "Episode: 13 | Moving Average Reward: 14 | Episode Reward: 19 | Loss: 2.813 | Steps: 20 | Worker: 0\n",
            "Episode: 14 | Moving Average Reward: 14 | Episode Reward: 21 | Loss: 3.416 | Steps: 22 | Worker: 0\n",
            "Episode: 15 | Moving Average Reward: 14 | Episode Reward: 11 | Loss: 1.688 | Steps: 12 | Worker: 0\n",
            "Episode: 16 | Moving Average Reward: 14 | Episode Reward: 21 | Loss: 3.446 | Steps: 22 | Worker: 0\n",
            "Episode: 17 | Moving Average Reward: 14 | Episode Reward: 10 | Loss: 1.568 | Steps: 11 | Worker: 0\n",
            "Episode: 18 | Moving Average Reward: 14 | Episode Reward: 16 | Loss: 2.392 | Steps: 17 | Worker: 0\n",
            "Episode: 19 | Moving Average Reward: 14 | Episode Reward: 20 | Loss: 3.73 | Steps: 21 | Worker: 0\n",
            "Episode: 20 | Moving Average Reward: 14 | Episode Reward: 13 | Loss: 1.942 | Steps: 14 | Worker: 0\n",
            "Episode: 21 | Moving Average Reward: 14 | Episode Reward: 15 | Loss: 2.21 | Steps: 16 | Worker: 0\n",
            "Episode: 22 | Moving Average Reward: 14 | Episode Reward: 14 | Loss: 2.114 | Steps: 15 | Worker: 0\n",
            "Episode: 23 | Moving Average Reward: 14 | Episode Reward: 8 | Loss: 1.196 | Steps: 9 | Worker: 0\n",
            "Episode: 24 | Moving Average Reward: 14 | Episode Reward: 12 | Loss: 1.797 | Steps: 13 | Worker: 0\n",
            "Episode: 25 | Moving Average Reward: 14 | Episode Reward: 12 | Loss: 1.827 | Steps: 13 | Worker: 0\n",
            "Episode: 26 | Moving Average Reward: 14 | Episode Reward: 7 | Loss: 1.076 | Steps: 8 | Worker: 0\n",
            "Episode: 27 | Moving Average Reward: 14 | Episode Reward: 18 | Loss: 2.622 | Steps: 19 | Worker: 0\n",
            "Episode: 28 | Moving Average Reward: 14 | Episode Reward: 26 | Loss: 2.886 | Steps: 27 | Worker: 0\n",
            "Episode: 29 | Moving Average Reward: 14 | Episode Reward: 11 | Loss: 1.671 | Steps: 12 | Worker: 0\n",
            "Episode: 30 | Moving Average Reward: 14 | Episode Reward: 11 | Loss: 1.625 | Steps: 12 | Worker: 0\n",
            "Episode: 31 | Moving Average Reward: 14 | Episode Reward: 16 | Loss: 2.333 | Steps: 17 | Worker: 0\n",
            "Episode: 32 | Moving Average Reward: 14 | Episode Reward: 11 | Loss: 1.602 | Steps: 12 | Worker: 0\n",
            "Episode: 33 | Moving Average Reward: 14 | Episode Reward: 21 | Loss: 3.583 | Steps: 22 | Worker: 0\n",
            "Episode: 34 | Moving Average Reward: 14 | Episode Reward: 9 | Loss: 1.281 | Steps: 10 | Worker: 0\n",
            "Episode: 35 | Moving Average Reward: 14 | Episode Reward: 18 | Loss: 2.559 | Steps: 19 | Worker: 0\n",
            "Episode: 36 | Moving Average Reward: 14 | Episode Reward: 31 | Loss: 2.82 | Steps: 32 | Worker: 0\n",
            "Episode: 37 | Moving Average Reward: 14 | Episode Reward: 7 | Loss: 1.032 | Steps: 8 | Worker: 0\n",
            "Episode: 38 | Moving Average Reward: 14 | Episode Reward: 20 | Loss: 3.713 | Steps: 21 | Worker: 0\n",
            "Episode: 39 | Moving Average Reward: 14 | Episode Reward: 10 | Loss: 1.398 | Steps: 11 | Worker: 0\n",
            "Episode: 40 | Moving Average Reward: 14 | Episode Reward: 28 | Loss: 2.952 | Steps: 29 | Worker: 0\n",
            "Episode: 41 | Moving Average Reward: 15 | Episode Reward: 56 | Loss: 3.133 | Steps: 57 | Worker: 0\n",
            "Episode: 42 | Moving Average Reward: 15 | Episode Reward: 10 | Loss: 1.461 | Steps: 11 | Worker: 0\n",
            "Episode: 43 | Moving Average Reward: 15 | Episode Reward: 15 | Loss: 2.17 | Steps: 16 | Worker: 0\n",
            "Episode: 44 | Moving Average Reward: 15 | Episode Reward: 14 | Loss: 1.989 | Steps: 15 | Worker: 0\n",
            "Episode: 45 | Moving Average Reward: 15 | Episode Reward: 17 | Loss: 2.414 | Steps: 18 | Worker: 0\n",
            "Episode: 46 | Moving Average Reward: 15 | Episode Reward: 11 | Loss: 1.467 | Steps: 12 | Worker: 0\n",
            "Episode: 47 | Moving Average Reward: 15 | Episode Reward: 21 | Loss: 3.473 | Steps: 22 | Worker: 0\n",
            "Episode: 48 | Moving Average Reward: 15 | Episode Reward: 27 | Loss: 2.863 | Steps: 28 | Worker: 0\n",
            "Episode: 49 | Moving Average Reward: 15 | Episode Reward: 13 | Loss: 1.765 | Steps: 14 | Worker: 0\n",
            "Episode: 50 | Moving Average Reward: 15 | Episode Reward: 27 | Loss: 2.946 | Steps: 28 | Worker: 0\n",
            "Episode: 51 | Moving Average Reward: 15 | Episode Reward: 13 | Loss: 1.791 | Steps: 14 | Worker: 0\n",
            "Episode: 52 | Moving Average Reward: 15 | Episode Reward: 10 | Loss: 1.432 | Steps: 11 | Worker: 0\n",
            "Episode: 53 | Moving Average Reward: 15 | Episode Reward: 11 | Loss: 1.503 | Steps: 12 | Worker: 0\n",
            "Episode: 54 | Moving Average Reward: 15 | Episode Reward: 21 | Loss: 3.441 | Steps: 22 | Worker: 0\n",
            "Episode: 55 | Moving Average Reward: 15 | Episode Reward: 18 | Loss: 2.506 | Steps: 19 | Worker: 0\n",
            "Episode: 56 | Moving Average Reward: 15 | Episode Reward: 8 | Loss: 1.078 | Steps: 9 | Worker: 0\n",
            "Episode: 57 | Moving Average Reward: 15 | Episode Reward: 18 | Loss: 2.456 | Steps: 19 | Worker: 0\n",
            "Episode: 58 | Moving Average Reward: 15 | Episode Reward: 26 | Loss: 2.88 | Steps: 27 | Worker: 0\n",
            "Episode: 59 | Moving Average Reward: 15 | Episode Reward: 13 | Loss: 1.717 | Steps: 14 | Worker: 0\n",
            "Episode: 60 | Moving Average Reward: 15 | Episode Reward: 11 | Loss: 1.424 | Steps: 12 | Worker: 0\n",
            "Episode: 61 | Moving Average Reward: 15 | Episode Reward: 21 | Loss: 3.678 | Steps: 22 | Worker: 0\n",
            "Episode: 62 | Moving Average Reward: 15 | Episode Reward: 19 | Loss: 2.537 | Steps: 20 | Worker: 0\n",
            "Episode: 63 | Moving Average Reward: 15 | Episode Reward: 9 | Loss: 1.19 | Steps: 10 | Worker: 0\n",
            "Episode: 64 | Moving Average Reward: 15 | Episode Reward: 15 | Loss: 2.052 | Steps: 16 | Worker: 0\n",
            "Episode: 65 | Moving Average Reward: 15 | Episode Reward: 18 | Loss: 2.457 | Steps: 19 | Worker: 0\n",
            "Episode: 66 | Moving Average Reward: 15 | Episode Reward: 14 | Loss: 1.886 | Steps: 15 | Worker: 0\n",
            "Episode: 67 | Moving Average Reward: 15 | Episode Reward: 15 | Loss: 2.058 | Steps: 16 | Worker: 0\n",
            "Episode: 68 | Moving Average Reward: 15 | Episode Reward: 42 | Loss: 3.383 | Steps: 43 | Worker: 0\n",
            "Episode: 69 | Moving Average Reward: 15 | Episode Reward: 33 | Loss: 2.774 | Steps: 34 | Worker: 0\n",
            "Episode: 70 | Moving Average Reward: 16 | Episode Reward: 39 | Loss: 2.872 | Steps: 40 | Worker: 0\n",
            "Episode: 71 | Moving Average Reward: 16 | Episode Reward: 19 | Loss: 2.477 | Steps: 20 | Worker: 0\n",
            "Episode: 72 | Moving Average Reward: 16 | Episode Reward: 9 | Loss: 1.058 | Steps: 10 | Worker: 0\n",
            "Episode: 73 | Moving Average Reward: 16 | Episode Reward: 11 | Loss: 1.349 | Steps: 12 | Worker: 0\n",
            "Episode: 74 | Moving Average Reward: 16 | Episode Reward: 10 | Loss: 1.178 | Steps: 11 | Worker: 0\n",
            "Episode: 75 | Moving Average Reward: 16 | Episode Reward: 57 | Loss: 3.046 | Steps: 58 | Worker: 0\n",
            "Episode: 76 | Moving Average Reward: 16 | Episode Reward: 9 | Loss: 1.057 | Steps: 10 | Worker: 0\n",
            "Episode: 77 | Moving Average Reward: 16 | Episode Reward: 40 | Loss: 3.737 | Steps: 41 | Worker: 0\n",
            "Episode: 78 | Moving Average Reward: 16 | Episode Reward: 21 | Loss: 3.406 | Steps: 22 | Worker: 0\n",
            "Episode: 79 | Moving Average Reward: 16 | Episode Reward: 9 | Loss: 1.073 | Steps: 10 | Worker: 0\n",
            "Episode: 80 | Moving Average Reward: 16 | Episode Reward: 43 | Loss: 3.348 | Steps: 44 | Worker: 0\n",
            "Episode: 81 | Moving Average Reward: 16 | Episode Reward: 10 | Loss: 1.228 | Steps: 11 | Worker: 0\n",
            "Episode: 82 | Moving Average Reward: 16 | Episode Reward: 12 | Loss: 1.471 | Steps: 13 | Worker: 0\n",
            "Episode: 83 | Moving Average Reward: 16 | Episode Reward: 16 | Loss: 1.9 | Steps: 17 | Worker: 0\n",
            "Episode: 84 | Moving Average Reward: 16 | Episode Reward: 23 | Loss: 3.162 | Steps: 24 | Worker: 0\n",
            "Episode: 85 | Moving Average Reward: 16 | Episode Reward: 19 | Loss: 2.284 | Steps: 20 | Worker: 0\n",
            "Episode: 86 | Moving Average Reward: 16 | Episode Reward: 14 | Loss: 1.74 | Steps: 15 | Worker: 0\n",
            "Episode: 87 | Moving Average Reward: 16 | Episode Reward: 20 | Loss: 4.222 | Steps: 21 | Worker: 0\n",
            "Episode: 88 | Moving Average Reward: 17 | Episode Reward: 68 | Loss: 3.11 | Steps: 69 | Worker: 0\n",
            "Episode: 89 | Moving Average Reward: 17 | Episode Reward: 16 | Loss: 1.931 | Steps: 17 | Worker: 0\n",
            "Episode: 90 | Moving Average Reward: 17 | Episode Reward: 21 | Loss: 3.496 | Steps: 22 | Worker: 0\n",
            "Episode: 91 | Moving Average Reward: 17 | Episode Reward: 13 | Loss: 1.384 | Steps: 14 | Worker: 0\n",
            "Episode: 92 | Moving Average Reward: 17 | Episode Reward: 16 | Loss: 1.928 | Steps: 17 | Worker: 0\n",
            "Episode: 93 | Moving Average Reward: 17 | Episode Reward: 23 | Loss: 3.382 | Steps: 24 | Worker: 0\n",
            "Episode: 94 | Moving Average Reward: 17 | Episode Reward: 14 | Loss: 1.478 | Steps: 15 | Worker: 0\n",
            "Episode: 95 | Moving Average Reward: 17 | Episode Reward: 11 | Loss: 1.264 | Steps: 12 | Worker: 0\n",
            "Episode: 96 | Moving Average Reward: 17 | Episode Reward: 8 | Loss: 0.824 | Steps: 9 | Worker: 0\n",
            "Episode: 97 | Moving Average Reward: 17 | Episode Reward: 48 | Loss: 2.914 | Steps: 49 | Worker: 0\n",
            "Episode: 98 | Moving Average Reward: 17 | Episode Reward: 43 | Loss: 3.548 | Steps: 44 | Worker: 0\n",
            "Episode: 99 | Moving Average Reward: 17 | Episode Reward: 17 | Loss: 1.96 | Steps: 18 | Worker: 0\n",
            "Episode: 100 | Moving Average Reward: 17 | Episode Reward: 11 | Loss: 1.084 | Steps: 12 | Worker: 0\n",
            "Episode: 101 | Moving Average Reward: 17 | Episode Reward: 23 | Loss: 3.199 | Steps: 24 | Worker: 0\n",
            "Episode: 102 | Moving Average Reward: 17 | Episode Reward: 11 | Loss: 1.131 | Steps: 12 | Worker: 0\n",
            "Episode: 103 | Moving Average Reward: 17 | Episode Reward: 12 | Loss: 1.284 | Steps: 13 | Worker: 0\n",
            "Episode: 104 | Moving Average Reward: 17 | Episode Reward: 11 | Loss: 1.094 | Steps: 12 | Worker: 0\n",
            "Episode: 105 | Moving Average Reward: 17 | Episode Reward: 17 | Loss: 1.924 | Steps: 18 | Worker: 0\n",
            "Episode: 106 | Moving Average Reward: 17 | Episode Reward: 24 | Loss: 3.271 | Steps: 25 | Worker: 0\n",
            "Episode: 107 | Moving Average Reward: 17 | Episode Reward: 50 | Loss: 2.905 | Steps: 51 | Worker: 0\n",
            "Episode: 108 | Moving Average Reward: 17 | Episode Reward: 18 | Loss: 2.003 | Steps: 19 | Worker: 0\n",
            "Episode: 109 | Moving Average Reward: 18 | Episode Reward: 29 | Loss: 2.447 | Steps: 30 | Worker: 0\n",
            "Episode: 110 | Moving Average Reward: 17 | Episode Reward: 14 | Loss: 1.458 | Steps: 15 | Worker: 0\n",
            "Episode: 111 | Moving Average Reward: 17 | Episode Reward: 20 | Loss: 3.873 | Steps: 21 | Worker: 0\n",
            "Episode: 112 | Moving Average Reward: 17 | Episode Reward: 16 | Loss: 1.62 | Steps: 17 | Worker: 0\n",
            "Episode: 113 | Moving Average Reward: 17 | Episode Reward: 21 | Loss: 3.53 | Steps: 22 | Worker: 0\n",
            "Episode: 114 | Moving Average Reward: 18 | Episode Reward: 19 | Loss: 2.043 | Steps: 20 | Worker: 0\n",
            "Episode: 115 | Moving Average Reward: 17 | Episode Reward: 9 | Loss: 0.761 | Steps: 10 | Worker: 0\n",
            "Episode: 116 | Moving Average Reward: 17 | Episode Reward: 14 | Loss: 1.456 | Steps: 15 | Worker: 0\n",
            "Episode: 117 | Moving Average Reward: 17 | Episode Reward: 21 | Loss: 3.68 | Steps: 22 | Worker: 0\n",
            "Episode: 118 | Moving Average Reward: 17 | Episode Reward: 24 | Loss: 3.463 | Steps: 25 | Worker: 0\n",
            "Episode: 119 | Moving Average Reward: 18 | Episode Reward: 55 | Loss: 2.827 | Steps: 56 | Worker: 0\n",
            "Episode: 120 | Moving Average Reward: 18 | Episode Reward: 11 | Loss: 0.982 | Steps: 12 | Worker: 0\n",
            "Episode: 121 | Moving Average Reward: 18 | Episode Reward: 25 | Loss: 2.89 | Steps: 26 | Worker: 0\n",
            "Episode: 122 | Moving Average Reward: 18 | Episode Reward: 47 | Loss: 3.173 | Steps: 48 | Worker: 0\n",
            "Episode: 123 | Moving Average Reward: 18 | Episode Reward: 9 | Loss: 0.753 | Steps: 10 | Worker: 0\n",
            "Episode: 124 | Moving Average Reward: 18 | Episode Reward: 33 | Loss: 2.667 | Steps: 34 | Worker: 0\n",
            "Episode: 125 | Moving Average Reward: 18 | Episode Reward: 11 | Loss: 0.921 | Steps: 12 | Worker: 0\n",
            "Episode: 126 | Moving Average Reward: 18 | Episode Reward: 14 | Loss: 1.306 | Steps: 15 | Worker: 0\n",
            "Episode: 127 | Moving Average Reward: 18 | Episode Reward: 49 | Loss: 2.826 | Steps: 50 | Worker: 0\n",
            "Episode: 128 | Moving Average Reward: 18 | Episode Reward: 8 | Loss: 0.652 | Steps: 9 | Worker: 0\n",
            "Episode: 129 | Moving Average Reward: 18 | Episode Reward: 9 | Loss: 0.696 | Steps: 10 | Worker: 0\n",
            "Episode: 130 | Moving Average Reward: 18 | Episode Reward: 10 | Loss: 0.845 | Steps: 11 | Worker: 0\n",
            "Episode: 131 | Moving Average Reward: 18 | Episode Reward: 15 | Loss: 1.383 | Steps: 16 | Worker: 0\n",
            "Episode: 132 | Moving Average Reward: 18 | Episode Reward: 9 | Loss: 0.722 | Steps: 10 | Worker: 0\n",
            "Episode: 133 | Moving Average Reward: 19 | Episode Reward: 95 | Loss: 3.011 | Steps: 96 | Worker: 0\n",
            "Saving best model to /tmp/, episode score: 95.0\n",
            "Episode: 134 | Moving Average Reward: 19 | Episode Reward: 13 | Loss: 1.102 | Steps: 14 | Worker: 0\n",
            "Episode: 135 | Moving Average Reward: 19 | Episode Reward: 41 | Loss: 3.375 | Steps: 42 | Worker: 0\n",
            "Episode: 136 | Moving Average Reward: 19 | Episode Reward: 30 | Loss: 2.458 | Steps: 31 | Worker: 0\n",
            "Episode: 137 | Moving Average Reward: 19 | Episode Reward: 20 | Loss: 3.618 | Steps: 21 | Worker: 0\n",
            "Episode: 138 | Moving Average Reward: 19 | Episode Reward: 50 | Loss: 2.776 | Steps: 51 | Worker: 0\n",
            "Episode: 139 | Moving Average Reward: 19 | Episode Reward: 15 | Loss: 1.197 | Steps: 16 | Worker: 0\n",
            "Episode: 140 | Moving Average Reward: 20 | Episode Reward: 52 | Loss: 2.704 | Steps: 53 | Worker: 0\n",
            "Episode: 141 | Moving Average Reward: 20 | Episode Reward: 22 | Loss: 3.325 | Steps: 23 | Worker: 0\n",
            "Episode: 142 | Moving Average Reward: 20 | Episode Reward: 43 | Loss: 3.148 | Steps: 44 | Worker: 0\n",
            "Episode: 143 | Moving Average Reward: 20 | Episode Reward: 22 | Loss: 3.345 | Steps: 23 | Worker: 0\n",
            "Episode: 144 | Moving Average Reward: 20 | Episode Reward: 38 | Loss: 2.423 | Steps: 39 | Worker: 0\n",
            "Episode: 145 | Moving Average Reward: 20 | Episode Reward: 61 | Loss: 3.291 | Steps: 62 | Worker: 0\n",
            "Episode: 146 | Moving Average Reward: 21 | Episode Reward: 64 | Loss: 3.035 | Steps: 65 | Worker: 0\n",
            "Episode: 147 | Moving Average Reward: 21 | Episode Reward: 22 | Loss: 3.317 | Steps: 23 | Worker: 0\n",
            "Episode: 148 | Moving Average Reward: 22 | Episode Reward: 94 | Loss: 2.938 | Steps: 95 | Worker: 0\n",
            "Episode: 149 | Moving Average Reward: 22 | Episode Reward: 50 | Loss: 2.698 | Steps: 51 | Worker: 0\n",
            "Episode: 150 | Moving Average Reward: 22 | Episode Reward: 66 | Loss: 2.951 | Steps: 67 | Worker: 0\n",
            "Episode: 151 | Moving Average Reward: 22 | Episode Reward: 45 | Loss: 3.049 | Steps: 46 | Worker: 0\n",
            "Episode: 152 | Moving Average Reward: 22 | Episode Reward: 13 | Loss: 0.708 | Steps: 14 | Worker: 0\n",
            "Episode: 153 | Moving Average Reward: 23 | Episode Reward: 64 | Loss: 3.095 | Steps: 65 | Worker: 0\n",
            "Episode: 154 | Moving Average Reward: 23 | Episode Reward: 7 | Loss: 0.538 | Steps: 8 | Worker: 0\n",
            "Episode: 155 | Moving Average Reward: 23 | Episode Reward: 16 | Loss: 1.04 | Steps: 17 | Worker: 0\n",
            "Episode: 156 | Moving Average Reward: 23 | Episode Reward: 99 | Loss: 2.723 | Steps: 100 | Worker: 0\n",
            "Saving best model to /tmp/, episode score: 99.0\n",
            "Episode: 157 | Moving Average Reward: 23 | Episode Reward: 34 | Loss: 2.242 | Steps: 35 | Worker: 0\n",
            "Episode: 158 | Moving Average Reward: 23 | Episode Reward: 9 | Loss: 0.461 | Steps: 10 | Worker: 0\n",
            "Episode: 159 | Moving Average Reward: 23 | Episode Reward: 30 | Loss: 2.369 | Steps: 31 | Worker: 0\n",
            "Episode: 160 | Moving Average Reward: 23 | Episode Reward: 20 | Loss: 3.487 | Steps: 21 | Worker: 0\n",
            "Episode: 161 | Moving Average Reward: 23 | Episode Reward: 16 | Loss: 0.993 | Steps: 17 | Worker: 0\n",
            "Episode: 162 | Moving Average Reward: 23 | Episode Reward: 13 | Loss: 0.703 | Steps: 14 | Worker: 0\n",
            "Episode: 163 | Moving Average Reward: 23 | Episode Reward: 21 | Loss: 3.558 | Steps: 22 | Worker: 0\n",
            "Episode: 164 | Moving Average Reward: 23 | Episode Reward: 35 | Loss: 2.244 | Steps: 36 | Worker: 0\n",
            "Episode: 165 | Moving Average Reward: 23 | Episode Reward: 18 | Loss: 1.088 | Steps: 19 | Worker: 0\n",
            "Episode: 166 | Moving Average Reward: 23 | Episode Reward: 7 | Loss: 1.104 | Steps: 8 | Worker: 0\n",
            "Episode: 167 | Moving Average Reward: 23 | Episode Reward: 22 | Loss: 3.69 | Steps: 23 | Worker: 0\n",
            "Episode: 168 | Moving Average Reward: 23 | Episode Reward: 16 | Loss: 0.802 | Steps: 17 | Worker: 0\n",
            "Episode: 169 | Moving Average Reward: 23 | Episode Reward: 20 | Loss: 4.204 | Steps: 21 | Worker: 0\n",
            "Episode: 170 | Moving Average Reward: 23 | Episode Reward: 28 | Loss: 2.569 | Steps: 29 | Worker: 0\n",
            "Episode: 171 | Moving Average Reward: 24 | Episode Reward: 97 | Loss: 2.75 | Steps: 98 | Worker: 0\n",
            "Episode: 172 | Moving Average Reward: 24 | Episode Reward: 31 | Loss: 2.261 | Steps: 32 | Worker: 0\n",
            "Episode: 173 | Moving Average Reward: 24 | Episode Reward: 25 | Loss: 3.151 | Steps: 26 | Worker: 0\n",
            "Episode: 174 | Moving Average Reward: 24 | Episode Reward: 46 | Loss: 2.896 | Steps: 47 | Worker: 0\n",
            "Episode: 175 | Moving Average Reward: 24 | Episode Reward: 44 | Loss: 3.086 | Steps: 45 | Worker: 0\n",
            "Episode: 176 | Moving Average Reward: 24 | Episode Reward: 32 | Loss: 2.349 | Steps: 33 | Worker: 0\n",
            "Episode: 177 | Moving Average Reward: 25 | Episode Reward: 84 | Loss: 3.131 | Steps: 85 | Worker: 0\n",
            "Episode: 178 | Moving Average Reward: 25 | Episode Reward: 47 | Loss: 2.612 | Steps: 48 | Worker: 0\n",
            "Episode: 179 | Moving Average Reward: 25 | Episode Reward: 58 | Loss: 2.419 | Steps: 59 | Worker: 0\n",
            "Episode: 180 | Moving Average Reward: 25 | Episode Reward: 29 | Loss: 2.263 | Steps: 30 | Worker: 0\n",
            "Episode: 181 | Moving Average Reward: 26 | Episode Reward: 86 | Loss: 2.909 | Steps: 87 | Worker: 0\n",
            "Episode: 182 | Moving Average Reward: 26 | Episode Reward: 44 | Loss: 3.134 | Steps: 45 | Worker: 0\n",
            "Episode: 183 | Moving Average Reward: 26 | Episode Reward: 40 | Loss: 3.86 | Steps: 41 | Worker: 0\n",
            "Episode: 184 | Moving Average Reward: 26 | Episode Reward: 37 | Loss: 2.079 | Steps: 38 | Worker: 0\n",
            "Episode: 185 | Moving Average Reward: 26 | Episode Reward: 35 | Loss: 2.089 | Steps: 36 | Worker: 0\n",
            "Episode: 186 | Moving Average Reward: 26 | Episode Reward: 22 | Loss: 3.672 | Steps: 23 | Worker: 0\n",
            "Episode: 187 | Moving Average Reward: 27 | Episode Reward: 40 | Loss: 3.703 | Steps: 41 | Worker: 0\n",
            "Episode: 188 | Moving Average Reward: 27 | Episode Reward: 39 | Loss: 2.058 | Steps: 40 | Worker: 0\n",
            "Episode: 189 | Moving Average Reward: 27 | Episode Reward: 57 | Loss: 2.277 | Steps: 58 | Worker: 0\n",
            "Episode: 190 | Moving Average Reward: 27 | Episode Reward: 49 | Loss: 2.699 | Steps: 50 | Worker: 0\n",
            "Episode: 191 | Moving Average Reward: 27 | Episode Reward: 54 | Loss: 2.438 | Steps: 55 | Worker: 0\n",
            "Episode: 192 | Moving Average Reward: 28 | Episode Reward: 52 | Loss: 2.523 | Steps: 53 | Worker: 0\n",
            "Episode: 193 | Moving Average Reward: 28 | Episode Reward: 43 | Loss: 3.5 | Steps: 44 | Worker: 0\n",
            "Episode: 194 | Moving Average Reward: 28 | Episode Reward: 49 | Loss: 2.729 | Steps: 50 | Worker: 0\n",
            "Episode: 195 | Moving Average Reward: 28 | Episode Reward: 68 | Loss: 2.871 | Steps: 69 | Worker: 0\n",
            "Episode: 196 | Moving Average Reward: 29 | Episode Reward: 54 | Loss: 2.378 | Steps: 55 | Worker: 0\n",
            "Episode: 197 | Moving Average Reward: 29 | Episode Reward: 26 | Loss: 2.858 | Steps: 27 | Worker: 0\n",
            "Episode: 198 | Moving Average Reward: 29 | Episode Reward: 58 | Loss: 2.268 | Steps: 59 | Worker: 0\n",
            "Episode: 199 | Moving Average Reward: 29 | Episode Reward: 37 | Loss: 2.079 | Steps: 38 | Worker: 0\n",
            "Episode: 200 | Moving Average Reward: 30 | Episode Reward: 81 | Loss: 3.217 | Steps: 82 | Worker: 0\n",
            "Episode: 201 | Moving Average Reward: 30 | Episode Reward: 77 | Loss: 2.382 | Steps: 78 | Worker: 0\n",
            "Episode: 202 | Moving Average Reward: 30 | Episode Reward: 37 | Loss: 1.87 | Steps: 38 | Worker: 0\n",
            "Episode: 203 | Moving Average Reward: 30 | Episode Reward: 44 | Loss: 3.248 | Steps: 45 | Worker: 0\n",
            "Episode: 204 | Moving Average Reward: 30 | Episode Reward: 38 | Loss: 1.907 | Steps: 39 | Worker: 0\n",
            "Episode: 205 | Moving Average Reward: 30 | Episode Reward: 24 | Loss: 3.863 | Steps: 25 | Worker: 0\n",
            "Episode: 206 | Moving Average Reward: 30 | Episode Reward: 24 | Loss: 3.553 | Steps: 25 | Worker: 0\n",
            "Episode: 207 | Moving Average Reward: 30 | Episode Reward: 45 | Loss: 3.036 | Steps: 46 | Worker: 0\n",
            "Episode: 208 | Moving Average Reward: 31 | Episode Reward: 97 | Loss: 2.477 | Steps: 98 | Worker: 0\n",
            "Episode: 209 | Moving Average Reward: 31 | Episode Reward: 34 | Loss: 2.271 | Steps: 35 | Worker: 0\n",
            "Episode: 210 | Moving Average Reward: 31 | Episode Reward: 71 | Loss: 2.608 | Steps: 72 | Worker: 0\n",
            "Episode: 211 | Moving Average Reward: 31 | Episode Reward: 43 | Loss: 3.413 | Steps: 44 | Worker: 0\n",
            "Episode: 212 | Moving Average Reward: 32 | Episode Reward: 50 | Loss: 2.546 | Steps: 51 | Worker: 0\n",
            "Episode: 213 | Moving Average Reward: 32 | Episode Reward: 39 | Loss: 1.936 | Steps: 40 | Worker: 0\n",
            "Episode: 214 | Moving Average Reward: 32 | Episode Reward: 41 | Loss: 4.331 | Steps: 42 | Worker: 0\n",
            "Episode: 215 | Moving Average Reward: 32 | Episode Reward: 63 | Loss: 3.501 | Steps: 64 | Worker: 0\n",
            "Episode: 216 | Moving Average Reward: 32 | Episode Reward: 16 | Loss: 0.785 | Steps: 17 | Worker: 0\n",
            "Episode: 217 | Moving Average Reward: 32 | Episode Reward: 64 | Loss: 3.129 | Steps: 65 | Worker: 0\n",
            "Episode: 218 | Moving Average Reward: 32 | Episode Reward: 32 | Loss: 2.283 | Steps: 33 | Worker: 0\n",
            "Episode: 219 | Moving Average Reward: 32 | Episode Reward: 18 | Loss: 0.773 | Steps: 19 | Worker: 0\n",
            "Episode: 220 | Moving Average Reward: 33 | Episode Reward: 107 | Loss: 2.839 | Steps: 108 | Worker: 0\n",
            "Saving best model to /tmp/, episode score: 107.0\n",
            "Episode: 221 | Moving Average Reward: 33 | Episode Reward: 15 | Loss: 1.19 | Steps: 16 | Worker: 0\n",
            "Episode: 222 | Moving Average Reward: 33 | Episode Reward: 30 | Loss: 2.54 | Steps: 31 | Worker: 0\n",
            "Episode: 223 | Moving Average Reward: 33 | Episode Reward: 23 | Loss: 5.157 | Steps: 24 | Worker: 0\n",
            "Episode: 224 | Moving Average Reward: 33 | Episode Reward: 45 | Loss: 3.227 | Steps: 46 | Worker: 0\n",
            "Episode: 225 | Moving Average Reward: 33 | Episode Reward: 84 | Loss: 3.059 | Steps: 85 | Worker: 0\n",
            "Episode: 226 | Moving Average Reward: 33 | Episode Reward: 58 | Loss: 2.158 | Steps: 59 | Worker: 0\n",
            "Episode: 227 | Moving Average Reward: 34 | Episode Reward: 101 | Loss: 3.217 | Steps: 102 | Worker: 0\n",
            "Episode: 228 | Moving Average Reward: 35 | Episode Reward: 112 | Loss: 2.636 | Steps: 113 | Worker: 0\n",
            "Saving best model to /tmp/, episode score: 112.0\n",
            "Episode: 229 | Moving Average Reward: 35 | Episode Reward: 88 | Loss: 3.043 | Steps: 89 | Worker: 0\n",
            "Episode: 230 | Moving Average Reward: 35 | Episode Reward: 32 | Loss: 2.456 | Steps: 33 | Worker: 0\n",
            "Episode: 231 | Moving Average Reward: 35 | Episode Reward: 27 | Loss: 3.371 | Steps: 28 | Worker: 0\n",
            "Episode: 232 | Moving Average Reward: 36 | Episode Reward: 62 | Loss: 3.52 | Steps: 63 | Worker: 0\n",
            "Episode: 233 | Moving Average Reward: 37 | Episode Reward: 220 | Loss: 2.927 | Steps: 221 | Worker: 0\n",
            "Saving best model to /tmp/, episode score: 220.0\n",
            "Episode: 234 | Moving Average Reward: 37 | Episode Reward: 40 | Loss: 4.633 | Steps: 41 | Worker: 0\n",
            "Episode: 235 | Moving Average Reward: 38 | Episode Reward: 116 | Loss: 2.442 | Steps: 117 | Worker: 0\n",
            "Episode: 236 | Moving Average Reward: 39 | Episode Reward: 145 | Loss: 2.812 | Steps: 146 | Worker: 0\n",
            "Episode: 237 | Moving Average Reward: 39 | Episode Reward: 34 | Loss: 2.466 | Steps: 35 | Worker: 0\n",
            "Episode: 238 | Moving Average Reward: 40 | Episode Reward: 125 | Loss: 2.963 | Steps: 126 | Worker: 0\n",
            "Episode: 239 | Moving Average Reward: 40 | Episode Reward: 54 | Loss: 2.791 | Steps: 55 | Worker: 0\n",
            "Episode: 240 | Moving Average Reward: 41 | Episode Reward: 110 | Loss: 2.69 | Steps: 111 | Worker: 0\n"
          ],
          "name": "stdout"
        }
      ]
    },
    {
      "cell_type": "code",
      "metadata": {
        "id": "KMKr-P6LPmsE",
        "colab_type": "code",
        "colab": {}
      },
      "source": [
        "from google.colab import files\n",
        "files.download('/tmp/model_CartPole-v0.h5')"
      ],
      "execution_count": 0,
      "outputs": []
    },
    {
      "cell_type": "code",
      "metadata": {
        "id": "GURmO786RWi7",
        "colab_type": "code",
        "colab": {}
      },
      "source": [
        ""
      ],
      "execution_count": 0,
      "outputs": []
    }
  ]
}